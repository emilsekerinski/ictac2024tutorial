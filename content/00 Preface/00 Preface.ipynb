{
 "cells": [
  {
   "cell_type": "markdown",
   "metadata": {
    "editable": true,
    "slideshow": {
     "slide_type": "slide"
    },
    "tags": []
   },
   "source": [
    "<div style=\"float:right;border-left:1em solid transparent\">\n",
    "    <i>Notebooks on Programming</i>\n",
    "</div>\n",
    "\n",
    "---\n",
    "# Preface\n",
    "**[Emil Sekerinski](http://www.cas.mcmaster.ca/~emil), McMaster University, November 2024**\n",
    "\n",
    "---\n",
    "\n",
    "<figure style=\"float:right\" >\n",
    "    <img style=\"width:9em\" src=\"./img/by-nc-nd.png\"/>\n",
    "    <figcaption style=\"width:13em;font-size:x-small\"><a href=\"https://creativecommons.org/licenses/by-nc-nd/4.0/\">Licensed under Creative Commons CC BY-NC-ND</a>\n",
    "    </figcaption>\n",
    "</figure>"
   ]
  },
  {
   "cell_type": "markdown",
   "metadata": {
    "editable": true,
    "slideshow": {
     "slide_type": "slide"
    },
    "tags": []
   },
   "source": [
    "## Foundation of Programming"
   ]
  },
  {
   "cell_type": "markdown",
   "metadata": {
    "editable": true,
    "slideshow": {
     "slide_type": ""
    },
    "tags": []
   },
   "source": [
    "Programming is a difficult design discipline:\n",
    "\n",
    "- *Complexity:* Complex engineering products are designed by dividing them into parts and subparts, with specialists being involved in different parts, e.g. in the construction of a village or vehicle. Now contrast this with programming a computer with a one gigahertz processor that executes one instruction in each cycle. A programmer has to specify 10⁹ instructions for a one-second computation. If we define the complexity of a problem as the orders of magnitude between the whole and the smallest parts –some sort of logarithm of the ratio– no other design discipline comes close.\n",
    "- *Discreteness:* Analogue devices are governed by mathematical continuity, which implies that a sufficiently small change in the input will result in a small change in the output. The discrete nature of digital computers does not allow such a relation; flipping a single bit of the input does allow us to predict anything about the change of the output, hence questioning the value of testing."
   ]
  },
  {
   "attachments": {},
   "cell_type": "markdown",
   "metadata": {
    "editable": true,
    "slideshow": {
     "slide_type": "slide"
    },
    "tags": []
   },
   "source": [
    "<figure style=\"float:right;font-size:small\">\n",
    "<span style=\"color:royalblue\">    s = u t + ½ a t²</span>\n",
    "<figcaption>Equation for constant acceleration\n",
    "    </figcaption>\n",
    "<table style=\"color:royalblue\">\n",
    "  <tr>\n",
    "    <td>   a + (b + c) = (a + b) + c</td>\n",
    "    <td>   + associative</td>\n",
    "  </tr>\n",
    "  <tr>\n",
    "    <td>   a + b = b + a</td>\n",
    "    <td>   + commutative</td>\n",
    "  </tr>\n",
    "  <tr>\n",
    "    <td>   a + 0 = a = 0 + a</td>\n",
    "    <td>   0 identity</td>\n",
    "  </tr>\n",
    "</table>\n",
    "    <figcaption>Axioms of a commutative group\n",
    "    </figcaption>\n",
    "</figure>\n",
    "\n",
    "In traditional engineering disciplines, professionals can often be distinguished from other designers by their ability to use mathematical models to describe and analyze their products, for example, an equation for constant acceleration. In calculations, engineers may use the algebraic structure of numbers.\n",
    "\n",
    "- What is a mathematical model for programs?\n",
    "- What is the algebraic structure of programs?\n",
    "\n",
    "Many programmers would be hard-pressed to name these. Knowing these\n",
    "- allows to substantiate claims about programs,\n",
    "- can lead to shorter and more efficient programs,\n",
    "- makes programming more intellectually satisfying!\n"
   ]
  },
  {
   "cell_type": "markdown",
   "metadata": {
    "editable": true,
    "slideshow": {
     "slide_type": "slide"
    },
    "tags": []
   },
   "source": [
    "## Visual Formalism"
   ]
  },
  {
   "cell_type": "markdown",
   "metadata": {
    "editable": true,
    "slideshow": {
     "slide_type": ""
    },
    "tags": []
   },
   "source": [
    "These lecture notes introduce programming through state diagrams:\n",
    "- State diagrams visualize common control structures of programming languages.\n",
    "- There is a visual distinction between programs and annotations that express a property of a program.\n",
    "- The two-dimensional layout can visualize relationships, like diagrams for sets."
   ]
  },
  {
   "cell_type": "markdown",
   "metadata": {
    "editable": true,
    "slideshow": {
     "slide_type": "slide"
    },
    "tags": []
   },
   "source": [
    "## Literate Programming"
   ]
  },
  {
   "cell_type": "markdown",
   "metadata": {
    "editable": true,
    "slideshow": {
     "slide_type": ""
    },
    "tags": []
   },
   "source": [
    "> Let us change our traditional attitude to the construction of programs: Instead of imagining that our main task is to instruct a computer what to do, let us concentrate rather on explaining to human beings what we want a computer to do. [Knuth (1984)](#References) on *Literate Programming*\n",
    "\n",
    "Jupyter notebooks support *interactive literate programming*: *code cells* with program pieces and *markdown cells* with prose are interleaved. Rather than embedding prose as comments in the program, prose and program pieces have an equal visual status. As explanations and programs are adjacent, they are easier to keep in sync."
   ]
  },
  {
   "cell_type": "markdown",
   "metadata": {
    "editable": true,
    "slideshow": {
     "slide_type": "slide"
    },
    "tags": []
   },
   "source": [
    "## Chapter Notes"
   ]
  },
  {
   "cell_type": "markdown",
   "metadata": {
    "editable": true,
    "slideshow": {
     "slide_type": ""
    },
    "tags": []
   },
   "source": [
    "Knuth's WEB system (which predates the World Wide Web) for literate programming is meant for languages like Pascal and C: Prose and code “chunks” are interspersed, and WEB assembles the code chunks into a self-contained program for compilation. While there are exemplary program developments with WEB in the literature, neither WEB nor related tools caught on widely. Interactive notebooks like Jupyter allow individual cells to be executed, so avoid the step of assembling a program for compilation. The code cells are executed from top to bottom, unlike with WEB, where chunks can be arranged in an order that may be more natural. Jupyter is particularly suited for Python and functional languages, where programs can be compact and require explanation. Notebooks are commonly used for *data science*. Here, we use notebooks for both lecture notes and exercises. "
   ]
  },
  {
   "cell_type": "markdown",
   "metadata": {
    "editable": true,
    "slideshow": {
     "slide_type": "slide"
    },
    "tags": []
   },
   "source": [
    "> Program testing can be used to show the presence of bugs, but never to show their absence! [(Dijkstra 1960)](https://www.cs.utexas.edu/users/EWD/ewd02xx/EWD249.PDF)\n",
    "\n",
    "This quote had a profound impact on the understanding of programming, program correctness, and teaching programming. Starting in the '70s, several textbooks on structured programming and program verification came out: [(Wirth 1972)](#References), [(Dahl et al. 1972)](#References), [(Dijkstra 1976)](#References), [(Gries 1981)](#References), [(Dijkstra &amp; Feijen 1988)](#References), [(Cohen 1990)](#References), [(Kaldewaij 1990)](#References), [(Apt et al. 2009)](#References) (first edition 1991), [(Hehner 2024)](#References) (first edition 1993). [Dijkstra (1984)](#References) argues that computing education needs radical change to be effective; the article is still worth reading today. However, in the 90s, there was a growing recognition that programs became remarkably reliable–or at least sufficiently usable–without proof [Hoare (1996)](#References), even if imperfect. A solid understanding of the foundation of programming remains indispensable to achieve efficiency, small size, and elegance."
   ]
  },
  {
   "cell_type": "markdown",
   "metadata": {
    "editable": true,
    "slideshow": {
     "slide_type": "slide"
    },
    "tags": []
   },
   "source": [
    "The Eiffel language early on integrated the principles of program correctness with object-orientation [Meyer (1997)](#References) (first edition 1988). Since then, a number of *verification-aware programming languages* and *modelling languages* have emerged, e.g. . They are mainly used in niche areas in the industry, e.g. where safety and security are of existential importance by highly dedicated and educated practitioners. These lectures notes "
   ]
  },
  {
   "cell_type": "markdown",
   "metadata": {
    "editable": true,
    "slideshow": {
     "slide_type": ""
    },
    "tags": []
   },
   "source": [
    "## References"
   ]
  },
  {
   "cell_type": "markdown",
   "metadata": {},
   "source": [
    "<div class=\"csl-bib-body\" style=\"line-height: 2; margin-left: 2em; text-indent:-2em;\">\n",
    "  <div class=\"csl-entry\">Apt, K., Boer, F. S. de, &amp; Olderog, E.-R. (2009). <i>Verification of Sequential and Concurrent Programs</i> (3rd ed.). Springer-Verlag. <a href=\"https://doi.org/doi.org/10.1007/978-1-84882-745-5\">doi.org/10.1007/978-1-84882-745-5</a></div>\n",
    "  <div class=\"csl-entry\">Cohen, E. (1990). <i>Programming in the 1990s: An Introduction to the Calculation of Programs</i>. Springer.</div>\n",
    "  <div class=\"csl-entry\">Dahl, O. J., Dijkstra, E. W., &amp; Hoare, C. A. R. (1972). <i>Structured Programming</i>. Academic Press.</div>\n",
    "  <div class=\"csl-entry\">Dijkstra, E. W. (1976). <i>A Discipline of Programming</i>. Prentice-Hall.</div>\n",
    "  <div class=\"csl-entry\">Dijkstra, E. W., &amp; Feijen, W. H. J. (1988). <i>A Method of Programming</i>. Addison-Wesley Publishing Company.</div>\n",
    "  <div class=\"csl-entry\">Gries, D. (1981). <i>The Science of Programming</i>. Springer-Verlag.</div>\n",
    "  <div class=\"csl-entry\">Hehner, E. C. R. (2024). <i>A Practical Theory of Programming</i>. <a href=\"https://www.cs.toronto.edu/~hehner/aPToP\">https://www.cs.toronto.edu/~hehner/aPToP</a></div>\n",
    "  <div class=\"csl-entry\">Hoare, C. A. R. (1996). How did software get so reliable without proof? In M.-C. Gaudel &amp; J. Woodcock (Eds.), <i>FME’96: Industrial Benefit and Advances in Formal Methods</i> (pp. 1–17). Springer. <a href=\"https://doi.org/10.1007/3-540-60973-3_77\">https://doi.org/10.1007/3-540-60973-3_77</a></div>\n",
    "  <div class=\"csl-entry\">Kaldewaij, A. (1990). <i>Programming: The Derivation of Algorithms</i>. Prentice-Hall.</div>\n",
    "  <div class=\"csl-entry\">Knuth, D. E. (1984). Literate programming. <i>Computer Journal</i>, <i>27</i>(2), 97–111. <a href=\"https://doi.org/10.1093/comjnl/27.2.97\">https://doi.org/10.1093/comjnl/27.2.97</a></div>\n",
    "  <div class=\"csl-entry\">Meyer, B. (1997). <i>Object-Oriented Software Construction</i> (2nd ed.). Prentice-Hall, Inc. <a href=\"https://bertrandmeyer.com/OOSC2/\">https://bertrandmeyer.com/OOSC2/</a></div>\n",
    "  <div class=\"csl-entry\">Reynolds, J. C. (1981). <i>The Craft of Programming</i>. Prentice Hall PTR. <a href=\"https://kilthub.cmu.edu/articles/The_Craft_of_Programming/6610514\">https://kilthub.cmu.edu/articles/The_Craft_of_Programming/6610514</a></div>\n",
    "  <div class=\"csl-entry\">Wirth, N. (1973). <i>Systematic Programming: An Introduction</i>. Prentice-Hall.</div>\n",
    "</div>"
   ]
  },
  {
   "cell_type": "markdown",
   "metadata": {
    "editable": true,
    "slideshow": {
     "slide_type": ""
    },
    "tags": []
   },
   "source": [
    "## Exercise Notes\n",
    "- Complexity\n",
    "- Professionalism\n",
    "- Software errors"
   ]
  }
 ],
 "metadata": {
  "kernelspec": {
   "display_name": "Python 3 (ipykernel)",
   "language": "python",
   "name": "python3"
  },
  "language_info": {
   "codemirror_mode": {
    "name": "ipython",
    "version": 3
   },
   "file_extension": ".py",
   "mimetype": "text/x-python",
   "name": "python",
   "nbconvert_exporter": "python",
   "pygments_lexer": "ipython3",
   "version": "3.13.0"
  },
  "latex_envs": {
   "LaTeX_envs_menu_present": true,
   "autoclose": false,
   "autocomplete": true,
   "bibliofile": "biblio.bib",
   "cite_by": "apalike",
   "current_citInitial": 1,
   "eqLabelWithNumbers": true,
   "eqNumInitial": 1,
   "hotkeys": {
    "equation": "Ctrl-E",
    "itemize": "Ctrl-I"
   },
   "labels_anchors": false,
   "latex_user_defs": false,
   "report_style_numbering": false,
   "user_envs_cfg": false
  },
  "livereveal": {
   "history": true,
   "margin": "0.01",
   "progress": true,
   "scroll": true,
   "start_slideshow_at": "selected"
  },
  "rise": {
   "enable_chalkboard": true
  },
  "toc": {
   "base_numbering": 1,
   "nav_menu": {},
   "number_sections": false,
   "sideBar": false,
   "skip_h1_title": true,
   "title_cell": "Table of Contents",
   "title_sidebar": "Contents",
   "toc_cell": false,
   "toc_position": {},
   "toc_section_display": true,
   "toc_window_display": false
  }
 },
 "nbformat": 4,
 "nbformat_minor": 4
}
