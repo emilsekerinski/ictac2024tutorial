{
 "cells": [
  {
   "cell_type": "markdown",
   "metadata": {
    "slideshow": {
     "slide_type": "slide"
    }
   },
   "source": [
    "<div style=\"float:right;border-left:1em solid transparent\">\n",
    "    <i>Notebooks on Programming</i>\n",
    "</div>\n",
    "\n",
    "---\n",
    "# Preface\n",
    "**[Emil Sekerinski](http://www.cas.mcmaster.ca/~emil), McMaster University, November 2024**\n",
    "\n",
    "---\n",
    "\n",
    "<figure style=\"float:right\" >\n",
    "    <img style=\"width:9em\" src=\"./img/by-nc-nd.png\"/>\n",
    "    <figcaption style=\"width:13em;font-size:x-small\"><a href=\"https://creativecommons.org/licenses/by-nc-nd/4.0/\">Licensed under Creative Commons CC BY-NC-ND</a>\n",
    "    </figcaption>\n",
    "</figure>"
   ]
  },
  {
   "cell_type": "markdown",
   "metadata": {
    "slideshow": {
     "slide_type": "slide"
    }
   },
   "source": [
    "## Foundation of Programming"
   ]
  },
  {
   "attachments": {},
   "cell_type": "markdown",
   "metadata": {
    "slideshow": {
     "slide_type": "slide"
    }
   },
   "source": [
    "Programming is difficult:\n",
    "\n",
    "- *Discreteness:* In analogue devices, a small change in the input causes a small change in the output.  In digital computers, a small change in the input may cause an arbitrary change in the output, questioning the value of testing.\n",
    "\n",
    "<figure style=\"float:right;font-size:small\">\n",
    "<span style=\"color:royalblue\">    s = u t + ½ a t²</span>\n",
    "<figcaption>Equation for constant acceleration\n",
    "    </figcaption>\n",
    "<table style=\"color:royalblue\">\n",
    "  <tr>\n",
    "    <td>   a + (b + c) = (a + b) + c</td>\n",
    "    <td>   + associative</td>\n",
    "  </tr>\n",
    "  <tr>\n",
    "    <td>   a + b = b + a</td>\n",
    "    <td>   + commutative</td>\n",
    "  </tr>\n",
    "  <tr>\n",
    "    <td>   a + 0 = a = 0 + a</td>\n",
    "    <td>   0 identity</td>\n",
    "  </tr>\n",
    "</table>\n",
    "    <figcaption>Axioms of a commutative group\n",
    "    </figcaption>\n",
    "</figure>\n",
    "\n",
    "In traditional engineering disciplines, professionals can often be distinguished from other designers by their ability to use mathematical models to describe and analyze their products, for example, an equation for constant acceleration. In calculations, engineers may use the algebraic structure of numbers.\n",
    "\n",
    "- What is a mathematical model for programs?\n",
    "- What is the algebraic structure of programs?\n",
    "\n",
    "Many programmers would be hard-pressed to name these. Knowing these\n",
    "- allows to substantiate claims about programs,\n",
    "- can lead to shorter and more efficient programs,\n",
    "- makes programming more intellectually satisfying!\n"
   ]
  },
  {
   "cell_type": "markdown",
   "metadata": {
    "slideshow": {
     "slide_type": "slide"
    }
   },
   "source": [
    "## Visual Formalism"
   ]
  },
  {
   "cell_type": "markdown",
   "metadata": {
    "slideshow": {
     "slide_type": "slide"
    }
   },
   "source": [
    "## Historical Notes and Further Reading"
   ]
  },
  {
   "cell_type": "markdown",
   "metadata": {},
   "source": []
  },
  {
   "cell_type": "markdown",
   "metadata": {},
   "source": [
    "## Bibliography"
   ]
  },
  {
   "cell_type": "markdown",
   "metadata": {},
   "source": []
  },
  {
   "cell_type": "markdown",
   "metadata": {},
   "source": [
    "## Exercise Notes\n",
    "- Complexity\n",
    "- Professionalism\n",
    "- Software errors"
   ]
  }
 ],
 "metadata": {
  "kernelspec": {
   "display_name": "Python 3 (ipykernel)",
   "language": "python",
   "name": "python3"
  },
  "language_info": {
   "codemirror_mode": {
    "name": "ipython",
    "version": 3
   },
   "file_extension": ".py",
   "mimetype": "text/x-python",
   "name": "python",
   "nbconvert_exporter": "python",
   "pygments_lexer": "ipython3",
   "version": "3.13.0"
  },
  "latex_envs": {
   "LaTeX_envs_menu_present": true,
   "autoclose": false,
   "autocomplete": true,
   "bibliofile": "biblio.bib",
   "cite_by": "apalike",
   "current_citInitial": 1,
   "eqLabelWithNumbers": true,
   "eqNumInitial": 1,
   "hotkeys": {
    "equation": "Ctrl-E",
    "itemize": "Ctrl-I"
   },
   "labels_anchors": false,
   "latex_user_defs": false,
   "report_style_numbering": false,
   "user_envs_cfg": false
  },
  "livereveal": {
   "history": true,
   "margin": "0.01",
   "progress": true,
   "scroll": true,
   "start_slideshow_at": "selected"
  },
  "rise": {
   "enable_chalkboard": true
  },
  "toc": {
   "base_numbering": 1,
   "nav_menu": {},
   "number_sections": false,
   "sideBar": false,
   "skip_h1_title": true,
   "title_cell": "Table of Contents",
   "title_sidebar": "Contents",
   "toc_cell": false,
   "toc_position": {},
   "toc_section_display": true,
   "toc_window_display": false
  }
 },
 "nbformat": 4,
 "nbformat_minor": 4
}
