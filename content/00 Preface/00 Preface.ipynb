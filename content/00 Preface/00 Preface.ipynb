{
 "cells": [
  {
   "cell_type": "markdown",
   "metadata": {
    "slideshow": {
     "slide_type": "slide"
    }
   },
   "source": [
    "<div style=\"float:right;border-left:1em solid transparent\">\n",
    "    <i>Notebooks on Programming</i>\n",
    "</div>\n",
    "\n",
    "---\n",
    "# Preface\n",
    "### [Emil Sekerinski](http://www.cas.mcmaster.ca/~emil), McMaster University, November 2024\n",
    "\n",
    "---\n",
    "\n",
    "<figure style=\"float:right\" >\n",
    "    <img style=\"width:9em\" src=\"./img/by-nc-nd.png\"/>\n",
    "    <figcaption style=\"width:13em;font-size:x-small\"><a href=\"https://creativecommons.org/licenses/by-nc-nd/4.0/\" style=\"font-size:x-small\">Licensed under Creative Commons CC BY-NC-ND</a>\n",
    "    </figcaption>\n",
    "</figure>"
   ]
  },
  {
   "cell_type": "markdown",
   "metadata": {
    "slideshow": {
     "slide_type": "slide"
    }
   },
   "source": [
    "## 1. Examples of Concurrency\n"
   ]
  },
  {
   "cell_type": "markdown",
   "metadata": {
    "slideshow": {
     "slide_type": "slide"
    }
   },
   "source": [
    "<figure style=\"width:18em;float:right;border-left:1em solid transparent\">\n",
    "\n",
    "Table of Contents of Operating System Concepts by J. L. Peterson, A. Silberschatz, Addison-Wesley, 1983:\n",
    "  1. Introduction\n",
    "  2. Operating System Services\n",
    "  3. File Systems\n",
    "  4. CPU Scheduling\n",
    "  5. Memory Management\n",
    "  6. Virtual Memory\n",
    "  7. Disk and Drum Scheduling\n",
    "  8. Deadlocks\n",
    "  9. Concurrent Processes\n",
    "  10. Concurrent Programming\n",
    "  11. Protections\n",
    "  12. Design Principles\n",
    "  13. Distributed Systems\n",
    "  13. Historical Perspective\n",
    "\n",
    "</figure>\n",
    "\n",
    "### Example 1: Operating Systems\n",
    "\n",
    "<figure style=\"width:14em;float:right;border-left:1em solid transparent\">\n",
    "    <img alt=\"Cover of above book illustrated with dinasaurs\" src=\"./img/OperatingSystemConcepts.jpg\"/>\n",
    "    <figcaption style=\"font-size:x-small\">Credit: <a href=\"https://codex.cs.yale.edu/avi/os-book/OS10/covers-dir/index.html\" style=\"font-size:x-small\">https://codex.cs.yale.edu/avi/os-book/OS10/covers-dir/index.html</a>\n",
    "    </figcaption>\n",
    "</figure>\n",
    "\n",
    "Historically, operating systems supported *multiprocessing* with a single *processor:*\n",
    "\n",
    "- The processor switches among programs (*processes*) after a short *time slice*. \n",
    "- When one program is *blocked* on I/O, the processor also switches to another program.\n",
    "\n",
    "This provides the illusion that programs run in parallel. Programs may not directly interact but need to _synchronize_ access to common resources like file storage, printer, or network. Thus concurrency and synchronization became part of books on operating systems and are still!\n",
    "\n"
   ]
  },
  {
   "cell_type": "markdown",
   "metadata": {
    "slideshow": {
     "slide_type": "slide"
    }
   },
   "source": [
    "<figure style=\"width:40%;float:right;border-left:10px solid transparent\">\n",
    "    <img alt = \"Main Thread containing Looper and Message Queue. Looper connected to Local Service Call, Broadcast Receiver, and Activity. Message Queue connected to UI Events and System Events\" src=\"./img/android-threads.png\"/>\n",
    "    <figcaption style=\"font-size:x-small\">Credit: <a href=\"https://github.com/codepath/android_guides/wiki/Managing-Threads-and-Custom-Services\" style=\"font-size:x-small\">Android Guides</a>\n",
    "    </figcaption>\n",
    "</figure>\n",
    "\n",
    "### Example 2: Interactive Programs\n",
    "\n",
    "From [Android Guides](https://github.com/codepath/android_guides/wiki/Managing-Threads-and-Custom-Services):\n",
    "> The main thread ... is in charge of dispatching events and rendering the user interface and is usually called the _UI thread_. All components (activities, services, etc) ... run in the same process and are instantiated by default in the UI thread.\n",
    ">\n",
    "> ... performing long operations such as network access or database queries in the UI thread will block the entire app UI from responding. When the UI thread is blocked, no events can be dispatched, including drawing events. From the user's perspective, the application will appear to freeze. \n",
    ">\n",
    "> Additionally, ... the Android UI toolkit is not thread-safe and as such you must not manipulate your UI from a background thread ... two rules:\n",
    ">\n",
    "> - Do not run long tasks on the main thread (to avoid blocking the UI)\n",
    "> - Do not change the UI at all from a background thread (only the main thread)\n",
    "\n",
    "Programs under [Windows](https://msdn.microsoft.com/en-us/library/ff649143.aspx) have a similar structure."
   ]
  },
  {
   "cell_type": "markdown",
   "metadata": {
    "slideshow": {
     "slide_type": "slide"
    }
   },
   "source": [
    "<figure style=\"width:65%;float:right;border-left:1em solid transparent\">\n",
    "    <img alt = \"Rectangle for Pizza Customer and Pizza Vendor processes. Pizza Customer has states Hungry for pizza, Select a pizza, Order a pizza, after 60 min ask for pizza, pizza received and pay the pizza, eat the pizza, and hunger satisfied. Pizza Vendor has a lane for delivery boy with states Deliver the pizza, Receive payment, a lane for pizza chef with state Bake the pizza, and a lane for clerk with states Order received, call 'where is the pizza' and Calm Customers. States are connected by synchronization arrows\" src=\"./img/bpmn-pizza.png\"/>\n",
    "    <figcaption style=\"font-size:x-small\">Credit: <a href=\"https://github.com/bpmn-io/bpmn-js-examples/tree/master/colors\" style=\"font-size:x-small\">bpmn.io</a>\n",
    "    </figcaption>\n",
    "</figure>\n",
    "\n",
    "### Example 3: Requirements Analysis\n",
    "\n",
    "The [Business Process Modelling Notation](http://www.bpmn.org/) (BPMN) serves to describe the interactions between agents in business processes. BPMN diagrams are similar to flowcharts, but they are not meant to be executed; they only serve to document the setting for which software is to be developed. (BPMN elements are also supported in [draw.io](draw.io) and Vizio.)\n",
    "\n",
    "Other requirements analysis techniques are textual. Being able to express concurrency is essential as the surrounding world is concurrent."
   ]
  },
  {
   "cell_type": "markdown",
   "metadata": {
    "slideshow": {
     "slide_type": "slide"
    }
   },
   "source": [
    "<figure style=\"width:40%;float:right;border-left:3em solid transparent\">\n",
    "    <img alt= \"Camera with view rays going through a raster image and some reflecting on a scene object as shadow rays to a light source\" src=\"./img/Ray_trace_diagram.png\"/>\n",
    "    <figcaption style=\"font-size:x-small\">Credit:\n",
    "        <a href=\"https://en.wikipedia.org/wiki/Ray_tracing_(graphics)\" style=\"font-size:x-small\">Wikipedia</a>\n",
    "    </figcaption>\n",
    "</figure>\n",
    "\n",
    "### Example 4: Parallel Computing\n",
    "\n",
    "Ray tracing is a technique to render raster images of a three-dimensional scene, e.g. in animations. For all image pixels, rays are traced \"backward\" from the camera (eye) until they hit an object in the scene. From there, the reflecting and refracting rays are traced until they hit a light source. This process is recursively repeated as objects may be in the shadow of other objects. The colour and intensity of a pixel are then calculated based on the reflecting and refracting properties of the traced objects and the light source's colour. The run-time for each pixel is proportional to the number of light sources, proportional to the number of rays spawned by every object hit, and exponential in the depth of the recursion.\n",
    "\n",
    "As light rays do not influence each other, all pixels of a frame and all frames of an animation can be computed in parallel. With 4K resolution (3840 × 2160 pixels) and 24 frames per second, a 110 min animation needs 1.3 × 10¹² pixels to be computed. For all rays needed for one pixel, the intersection of the ray with any object needs to be determined."
   ]
  },
  {
   "cell_type": "markdown",
   "metadata": {
    "slideshow": {
     "slide_type": "slide"
    }
   },
   "source": [
    "<figure style=\"width:35%;float:right;border-left:1em solid transparent\">\n",
    "    <img alt=\"bar diagram with number of processors: 1000 for Bugs, 2500 for Incredibles, 3000 for Cars, 5000 for Rat, 3000 for Wall-E, 4000 for Up, 4500 for TS3, 12000 for Cars, 10000 for Brave, 20000 for Monsters University, 20000 for Inside Out\" src=\"./img/pixar-processors.jpg\"/>\n",
    "    <figcaption style=\"font-size:x-small\">Credit:\n",
    "        <a href=\"http://fortune.com/2015/09/14/pixar-brings-movies-life/\" style=\"font-size:x-small\">Fortune, Sept 2015</a>\n",
    "    </figcaption>\n",
    "</figure>\n",
    "\n",
    "<a href=\"http://fortune.com/2015/09/14/pixar-brings-movies-life/\">How Pixar brings its animated movies to life, Fortune, Sept 2015</a>:\n",
    "\n",
    "> It took around 3,000 processors to render the movies The Incredibles and Cars, two films from the mid 2000s. For more recent films like Monsters University and Inside Out, that number has soared to around 20,000 processors.\n",
    ">\n",
    "> All that extra processing power is noticeable when you study the hairs of the animated creature, Sulley, ... . When the original Monsters movie first appeared in 2001, Sulley had 1.1 million hairs covering his body. By Monsters University, released in 2013, Sulley had 5.5 million individual hairs."
   ]
  },
  {
   "cell_type": "markdown",
   "metadata": {
    "slideshow": {
     "slide_type": "slide"
    }
   },
   "source": [
    "<figure style=\"width:30%;float:right;border-left:1em solid transparent\">\n",
    "    <img alt=\"Post Office connected to 4 Counters and 1 Door\" src=\"./img/PostOffice.jpg\"/>\n",
    "    <img alt=\"Counter connected to Queue and Clerk\" src=\"./img/Counter.jpg\"/>\n",
    "    <img alt=\"3 Customers connect by next pointers, Queue pointing to first and last Customer\" src=\"./img/Queue.jpg\"/>\n",
    "    <figcaption style=\"font-size:x-small\">\n",
    "        Credit: Birtwhistle, Dahl, Myhrhaug, Nygaard. <i style=\"font-size:x-small\">Simula Begin</i>, 1979.\n",
    "    </figcaption>\n",
    "</figure>\n",
    "\n",
    "### Example 5: Software Design\n",
    "\n",
    "Object-oriented design allows the structure of the program, the class hierarchy, to reflect the structure of the problem domain: _a description of the problem becomes part of the solution_.\n",
    "\n",
    "Simula-67, the first object-oriented language, supported _coroutines_ that allowed objects to be concurrent, particularly for simulations. Coroutines are scheduled *cooperatively*, meaning that transfer for control is explicit, unlike preemptively scheduled threads. (Coroutines are called [fibres](https://msdn.microsoft.com/en-us/library/windows/desktop/ms682661.aspx) in Windows and are related to goroutines in Go; subsequent object-oriented languages, notably Smalltalk-80 and later C++, did not follow Simula in that respect.)\n",
    "\n",
    "The overview to the right is for a simulation program for a post office: in principle, customers and clerks are all concurrent."
   ]
  },
  {
   "cell_type": "markdown",
   "metadata": {
    "slideshow": {
     "slide_type": "slide"
    }
   },
   "source": [
    "<figure style=\"width:60%;float:left;border-right:1em solid transparent\">\n",
    "    <img alt=\"Citizen quartz multi-alarm with state dead and large concurrent state with lanes for main, alarm1-status, alarm2-status, chime-status, light, power, each with substates and transitions between all states.\" src=\"./img/statechart-alarm.png\"/>\n",
    "    <figcaption style=\"font-size:x-small\">\n",
    "        Credit: Harel, <a href=\"https://doi.org/10.1016/0167-6423(87)90035-9\" style=\"font-size:x-small\">Statecharts: a visual formalism for complex systems.</a> <i style=\"font-size:x-small\">Science of Computer Programming</i>, June 1987.\n",
    "    </figcaption>\n",
    "</figure>\n",
    "\n",
    "Embedded systems have to react to environmental events. As these can be independent, a natural structure is by having concurrent processes reacting to different kinds of events. To the left is a *statechart* for an alarm clock (statecharts are related to UML state machines). For example, light and alarm status are independent and expressed as *concurrent states*, visually separated by dashed lines."
   ]
  },
  {
   "cell_type": "markdown",
   "metadata": {
    "slideshow": {
     "slide_type": "slide"
    }
   },
   "source": [
    "### Example 6: Server Architecture\n",
    "\n",
    "<figure style=\"width:60%;float:right;border-left:2em solid transparent;\">\n",
    "    <img alt=\"4 Presentation/Web Servers connect to Switch, Switch connected to 3 Application Servers, those connected to 2nd Switch, that connected to 2 Database Servers, those connected to 3 Storage units\" src=\"./img/ThreeTierServerArchitecture.jpg\"/>\n",
    "    <figcaption style=\"font-size:x-small\">\n",
    "        Credit: <a href=\"https://www.cisco.com/c/en/us/about/press/internet-protocol-journal/back-issues/table-contents-46/124-cloud2.html\" style=\"font-size:x-small\">Cloud Computing - A Primer, Cisco.</a>\n",
    "    </figcaption>\n",
    "</figure>\n",
    "\n",
    "An early server architecture is the *three-tier architecture*: presentation, application, and database servers are all concurrent. They may run on the same computer or on different computers.\n",
    "\n",
    "The architecture does not scale well beyond a certain size; why? Data centers for cloud computing connect servers differently, with a \"fat tree.\""
   ]
  },
  {
   "cell_type": "markdown",
   "metadata": {
    "slideshow": {
     "slide_type": "slide"
    }
   },
   "source": [
    "<figure style=\"width:50%;float:right;border-left:1em solid transparent\">\n",
    "    <a href=\"https://commons.wikimedia.org/w/index.php?curid=2666326\"><img alt=\"overlapping piconet domains containing each one master device (1 piconet), possibly a master-slave device (1-N piconets), and several slave devices (N piconets) with Bluetooth links among some within a domain and connecting each domain to a neighbouring domain\" src=\"./img/Bluetooth_network_topology.png\"/></a>\n",
    "    <figcaption style=\"font-size:x-small\">\n",
    "        Credit: <a href=\"https://commons.wikimedia.org/wiki/User:Rob_Blanco\" style=\"font-size:x-small\">Rob Blanco</a>, <a href=\"https://commons.wikimedia.org/wiki/File:Bluetooth network topology.png\" style=\"font-size:x-small\">Bluetooth network topology</a>, <a href=\"https://creativecommons.org/licenses/by-sa/2.5/es/deed.en\" rel=\"license\" style=\"font-size:x-small\">CC BY-SA 2.5 ES</a>\n",
    "    </figcaption>\n",
    "</figure>\n",
    "\n",
    "### Example 7: Protocols\n",
    "\n",
    "Bluetooth is a protocol for personal area networks (PAN) with a *mesh topology*: devices form *piconets*; devices have different roles, which change as devices join and leave the network. All devices are concurrent and must manage communication, including forwarding messages to the right recipient."
   ]
  },
  {
   "cell_type": "markdown",
   "metadata": {
    "slideshow": {
     "slide_type": "slide"
    },
    "solution": "shown"
   },
   "source": [
    "### Common Themes\n",
    "- Competition for shared resources, e.g. database, counter\n",
    "- Communication between processes, e.g. between network devices\n",
    "- Synchronization of processes, e.g. between OS services\n",
    "- Fairness among processes, e.g. among client requests, network packets\n",
    "- Hierarchy of processes, e.g. in UI's"
   ]
  },
  {
   "cell_type": "markdown",
   "metadata": {
    "slideshow": {
     "slide_type": "slide"
    },
    "solution": "shown"
   },
   "source": [
    "## 2. Why is Concurrent Programming Hard?"
   ]
  },
  {
   "cell_type": "markdown",
   "metadata": {
    "slideshow": {
     "slide_type": "slide"
    },
    "solution": "shown"
   },
   "source": [
    "Processes execute in a _sequence of steps_. Concurrent execution leads to _interleaving_ of steps. For example, the _parallel (concurrent) composition_ <span style=\"color:darkgreen\">A</span>&nbsp;‖&nbsp;<span style=\"color:darkorange\">B</span> of processes <span style=\"color:darkgreen\">A</span> and <span style=\"color:darkorange\">B</span> may result in:\n",
    "\n",
    "|        |               |\n",
    "| :----- | :------------ |\n",
    "| <span style=\"color:darkgreen\">A</span>      | <span style=\"color:darkgreen;font-size:120%\"> ➀ ➁ ➂ ➃ ➄ ➅</span><br> |\n",
    "| <span style=\"color:darkorange;font-size:120%\">B</span>      | <span style=\"color:darkorange;font-size:120%\"> ➀ ➁ ➂ ➃ ➄ ➅</span>  |\n",
    "| <span style=\"color:darkgreen;font-size:120%\">A</span> ‖ <span style=\"color:darkorange;font-size:120%\">B</span>  | <span style=\"color:darkgreen;font-size:120%\"> ➀ </span><span style=\"color:darkorange;font-size:120%\"> ➀ ➁ ➂</span><span style=\"color:darkgreen;font-size:120%\"> ➁</span><span style=\"color:darkorange;font-size:120%\"> ➃</span><span style=\"color:darkgreen;font-size:120%\"> ➂ ➃ ➄</span><span style=\"color:darkorange;font-size:120%\"> ➄</span><span style=\"color:darkgreen;font-size:120%\"> ➅</span><span style=\"color:darkorange;font-size:120%\"> ➅</span>|\n",
    "\n",
    "Interleaving implies *nondeterminism*: different executions may lead to different interleavings. Interleavings may cause *data races*.\n",
    "\n",
    "Suppose processes `inc1`, `inc2` intend to increment `t`, a variable stored in memory, by `1` and `2`. For this, processors have to load a variable into a register. With `ri` being a register, the steps become:\n",
    "```\n",
    "    inc1:                    inc2:   \n",
    "        r1 := t                  r2 := t\n",
    "        r1 := r1 + 1         r2 := r2 + 2\n",
    "        t := r1                  t := r2\n",
    "```\n",
    "For example, `t` could represent the number of sold tickets."
   ]
  },
  {
   "cell_type": "markdown",
   "metadata": {
    "slideshow": {
     "slide_type": "-"
    },
    "solution": "shown",
    "solution_first": true
   },
   "source": [
    "**Question.** Which amount does `inc1 ‖ inc2` add to `t` when run concurrently?"
   ]
  },
  {
   "cell_type": "markdown",
   "metadata": {
    "slideshow": {
     "slide_type": "fragment"
    },
    "solution": "shown"
   },
   "source": [
    "_Answer._ Either `1`, `2`, or `3`. A possible interleaving for `t` to be set to `1` is:\n",
    "\n",
    "```\n",
    "r1 := t ; r2 := t ; r2 := r2 + 2 ; t := r2 ; r1 := r1 + 1 ; t := r1\n",
    "```"
   ]
  },
  {
   "cell_type": "markdown",
   "metadata": {},
   "source": [
    "_Locking_ a variable (or any resource) gives exclusive access to that variable:\n",
    "\n",
    "<div style=\"float:left;border-left:2em solid transparent\">\n",
    "\n",
    "```\n",
    "P:\n",
    "    lock x and y  \n",
    "    x := x + 1  \n",
    "    y := y – 1  \n",
    "    unlock x and y\n",
    "```\n",
    "</div>\n",
    "<div style=\"border-left:2em solid transparent\">\n",
    "\n",
    "```\n",
    "Q:\n",
    "    lock x and y  \n",
    "    x := x + 2  \n",
    "    y := y – 2  \n",
    "    unlock x and y  \n",
    "```\n",
    "</div><br>\n",
    "\n",
    "Variables `x` and `y` could be two bank accounts or the number of sold and available concert tickets."
   ]
  },
  {
   "cell_type": "markdown",
   "metadata": {
    "slideshow": {
     "slide_type": "slide"
    },
    "solution": "shown",
    "solution_first": true
   },
   "source": [
    "**Question.** What could happen in `P ‖ Q` if `P` locks `x`, `y` and `Q` locks `y`, `x` in that order?"
   ]
  },
  {
   "cell_type": "markdown",
   "metadata": {
    "jupyter": {
     "source_hidden": true
    },
    "slideshow": {
     "slide_type": "fragment"
    },
    "solution": "shown"
   },
   "source": [
    "_Answer._  \n",
    "If `P` locks `x` and then `Q` locks `y`, a _deadlock_ occurs: neither can proceed.\n",
    "\n",
    "- Programs with data races or incorrect synchronization may compute wrong results, deadlock, livelock (infinite loop), or abort.\n",
    "- Because of inherent nondeterminism, concurrent programs cannot be tested effectively."
   ]
  },
  {
   "cell_type": "markdown",
   "metadata": {
    "slideshow": {
     "slide_type": "slide"
    }
   },
   "source": [
    "<figure style=\"width:30%;float:right;border-left:2em solid transparent\">\n",
    "    <img alt=\"6-wheeled Mars Pathfinder on red soil\" src=\"./img/pathfinder-concept.jpg\"/>\n",
    "    <figcaption style=\"font-size:x-small\">\n",
    "        Credit: <a href=\"https://www.nasa.gov/mission_pages/pathfinder/overview\" style=\"font-size:x-small\">NASA</a>\n",
    "    </figcaption>\n",
    "</figure>\n",
    "\n",
    "### Example 1: NASA Mars Pathfinder\n",
    "\n",
    "In July 1997, Pathfinder landed on Mars.\n",
    "\n",
    "After a while Pathfinder stopped sending data and reset itself continuously.\n",
    "\n",
    "After 18 hours the failure was reproduced in a lab replica: *priority inversion*, a form of *starvation*.\n",
    "\n",
    "The system had a \"watch dog\" that discovered the situation and did a reset, and a reset, and a reset, …\n",
    "\n",
    "The engineers managed to transmit code to Mars and execute it, to update the software.  Testing during development did not reveal the error.\n",
    "\n",
    "[Authoritative account](http://web.archive.org/web/20161230103247/http://research.microsoft.com/en-us/um/people/mbj/Mars_Pathfinder/Authoritative_Account.html \"research.microsoft.com/en-us/um/people/mbj/Mars_Pathfinder/Authoritative_Account.html\"), [Wikipedia on Priority Inversion](https://en.wikipedia.org/wiki/Priority_inversion \"https://en.wikipedia.org/wiki/Priority_inversion\")"
   ]
  },
  {
   "cell_type": "markdown",
   "metadata": {
    "slideshow": {
     "slide_type": "slide"
    }
   },
   "source": [
    "<figure style=\"width:40%;float:right;border-left:2em solid transparent;\">\n",
    "    <img alt=\"bar diagram for number of errors with 4 groups of bars, 'other' and 'arch/i386' with almost no errors, 'net' with some Block errors, 'fs' with some Null errors, 'drivers' with large number of Block and Null errors\" src=\"./img/LinuxErrors.png\"/>\n",
    "    <figcaption style=\"font-size:x-small\">\n",
    "        Credit: Chou et al., <a href=\"https://pdos.csail.mit.edu/archive/6.097/readings/osbugs.pdf\" style=\"font-size:x-small\">An Empirical Study of Operating Systems Errors</a>, 18th ACM Symposium on Operating systems principles, Oct 2001\n",
    "    </figcaption>\n",
    "</figure>\n",
    "\n",
    "### Example 2: Device Driver\n",
    "\n",
    "Device drivers typically run in the operating system kernel and interface to mice, keyboards, drives, and other devices. As they run in the kernel, a faulty device driver can cause the whole operating system to crash.\n",
    "\n",
    "- Around 2000, Windows shipped with 500 device drivers, most of them provided by device vendors. Reportedly, 80% of Windows crashes were traced back to faulty device drivers; concurrency errors (incorrect locking and releasing of resources etc.) were the most frequent.\n",
    "- In the Linux 2.4.1 distribution, according to a study from Stanford Unversity, device drivers have 7 times more errors than the rest of the operating system. Among those, concurrency errors are the most frequent: \"Block\" and \"Lock\" in the figure to the right."
   ]
  },
  {
   "cell_type": "markdown",
   "metadata": {
    "slideshow": {
     "slide_type": "slide"
    }
   },
   "source": [
    "### Example 3: Northeast American Power Blackout, 14 August 2003\n",
    "\n",
    "Wikipedia: [World's second most widespread blackout in history:](https://en.wikipedia.org/wiki/Northeast_blackout_of_2003)\n",
    "- 12:15 p.m. Incorrect power flow telemetry in Ohio detected, but not properly corrected.\n",
    "- 1:31 p.m. Eastlake, Ohio generating plant shuts down.\n",
    "- 2:02 p.m. First 345 kV line in Ohio fails due to contact with a tree.\n",
    "- _2:14 p.m. An alarm system fails at FirstEnergy's control room._\n",
    "- 2:27 p.m. A second 345 kV line fails due to a tree.\n",
    "- …\n",
    "- 4:10 p.m. Ontario separates from the western New York grid.\n",
    "- 4:11 p.m. The Keith-Waterman, Bunce Creek-Scott 230 kV lines and the St. Clair–Lambton \\#1 230 kV line and \\#2 345 kV line between Michigan and Ontario fail.\n",
    "- 4:12 p.m. Windsor, Ontario, and surrounding areas drop off the grid.\n",
    "- 4:12 p.m. Northern New Jersey separates its power-grids from New York and the Philadelphia area, causing a cascade of failing secondary generator plants along the New Jersey coast and throughout the inland regions west.\n",
    "- 4:13 p.m. End of cascading failure. 256 power plants are off-line, 85% of which went offline after the grid separations occurred, most due to the action of automatic protective controls.\n",
    "\n",
    "10 million people in Ontario and 45 million people in eight U.S. states without power\n",
    "\n",
    "Task Force Report:\n",
    ">\t… a software bug in General Electric Energy's Unix-based XA/21 energy management system that prevented alarms from showing on their control system. _This alarm system stalled because of a race condition_. After the alarm system failed silently without being noticed by the operators, unprocessed events (that had to be checked for an alarm) started to queue up and the primary server failed within 30 minutes.\n",
    "\n",
    "J.R. Minkel, [The 2003 Northeast Blackout--Five Years Later](https://www.scientificamerican.com/article/2003-blackout-five-years-later/), Scientific American, August 2008:\n",
    "> The event contributed to at least 11 deaths and cost an estimated $6 billion."
   ]
  },
  {
   "cell_type": "markdown",
   "metadata": {
    "slideshow": {
     "slide_type": "slide"
    }
   },
   "source": [
    "### Example 4: Therac-25\n",
    "\n",
    "Nancy Leveson and Clark Turner, [An Investigation of the Therac-25 Accidents](https://doi.org/10.1109/MC.1993.274940), IEEE Computer, July 1993:\n",
    "\n",
    "> Some of the most widely cited software-related accidents in safety-critical systems involved a computerized radiation therapy machine called the Therac-25. Between June 1985 and January 1987, six known accidents involved massive overdoses by the Therac-25 with resultant deaths and serious injuries. They have been described as the worst series of radiation accidents in the 35-year history of medical accelerators.\n",
    ">\n",
    "> ...\n",
    ">\n",
    "> It is clear from the AECL [Atomic Energy of Canada Limited] documentation on the modifications that the software allows concurrent access to shared memory, that there is no real synchronization aside from data stored in shared variables, and that the \"test\" and \"set\" for such variables are not indivisible operations. _Race conditions resulting from this implementation of multitasking played an important part in the accidents._"
   ]
  },
  {
   "cell_type": "markdown",
   "metadata": {
    "slideshow": {
     "slide_type": "slide"
    }
   },
   "source": [
    "## 3. Why is Concurrent Programming Getting More Prevalent?"
   ]
  },
  {
   "cell_type": "markdown",
   "metadata": {
    "slideshow": {
     "slide_type": "slide"
    }
   },
   "source": [
    "<figure style=\"width:60%;float:right;border-left:2em solid transparent;\">\n",
    "    <img alt=\"bar graph for number of devices from 2018 to 2023 showing linear increase from 17 to 29 billion devices\" src=\"./img/DeviceConnectionGrowth.webp\"/>\n",
    "    <figcaption style=\"font-size:x-small\">\n",
    "        Credit: <a href=\"https://www.cisco.com/c/en/us/solutions/collateral/service-provider/visual-networking-index-vni/mobile-white-paper-c11-520862.html\" style=\"font-size:x-small\">Cisco Global Mobile Data Traffic Forecast</a>, March 2020\n",
    "    </figcaption>\n",
    "</figure>\n",
    "\n",
    "### 1. Increase in Internet Traffic (if it needs to be said)\n",
    "\n",
    "[Cisco Global Mobile Data Traffic Forecast](https://www.cisco.com/c/en/us/solutions/collateral/service-provider/visual-networking-index-vni/mobile-white-paper-c11-520862.html), March 2020:\n",
    "\n",
    "The compound annual growth rate (CAGR) of device and connections is predicted to be 10% annually, with machine-to-machine connection (IoT devices) growing most."
   ]
  },
  {
   "cell_type": "markdown",
   "metadata": {
    "slideshow": {
     "slide_type": "slide"
    }
   },
   "source": [
    "### 2. Increase in Number of Processor Cores\n",
    "<figure style=\"width:50%;float:right;border-left:2em solid transparent;\">\n",
    "    <img alt=\"chart with processor characteristics from 1970 to 2020, showing exponential increase of transistors from 10 to 10^7, flattening increase of single-thread performance, flattening and slightly decreasing frequency at 10^3.5, increasing and then constant power consumption at 10^2, constant 1 number of cores and increasing exponentially since 2005\" src=\"./img/42-years-processor-trend.png\"/>\n",
    "    <figcaption style=\"font-size:x-small\">\n",
    "        Credit: Karl Rupp, <a href=\"https://www.karlrupp.net/2018/02/42-years-of-microprocessor-trend-data/\" style=\"font-size:x-small\">www.karlrupp.net</a>, Feb 2018\n",
    "    </figcaption>\n",
    "</figure>\n",
    "\n",
    "_Processor frequency_ is no longer increasing due to the power wall. For CMOS circuits:\n",
    "\n",
    "```\n",
    "Power = Capacitive load × Voltage² × Frequency\n",
    "```\n",
    "\n",
    "_Single-thread performance_ is no longer increasing: the benefits of caching, pipelining, etc. are maxed out.\n",
    "\n",
    "_Number of transitors_ per processor is still increasing–linearly on a logarithmic scale, i.e. exponentially, doubling every 18 months as predicted by Gordon Moore.\n",
    "\n",
    "_This allow for more cores_.\n",
    "\n",
    "Further reading: Peter Denning and Ted Lewis, [_Exponential Laws of Computing Growth_](https://cacm.acm.org/magazines/2017/1/211094-exponential-laws-of-computing-growth/fulltext), Communications of the ACM, Jan 2017"
   ]
  },
  {
   "cell_type": "markdown",
   "metadata": {
    "slideshow": {
     "slide_type": "slide"
    }
   },
   "source": [
    "## 4. What Can We Do About It?"
   ]
  },
  {
   "cell_type": "markdown",
   "metadata": {
    "slideshow": {
     "slide_type": "slide"
    }
   },
   "source": [
    "### Libraries\n",
    "\n",
    "Libraries hide some of the complexity for specific applications, e.g.\n",
    "- efficient implementation of *data structures*: [Java](http://gee.cs.oswego.edu/dl/concurrency-interest/index.html)\n",
    "- *parallel computing*: [MPI (Message Passing Interface)](https://en.wikipedia.org/wiki/Message_Passing_Interface), [OpenMP](http://www.openmp.org/)\n",
    "- *distributed computing*: [Akka](http://akka.io/) for reliability and load balancing\n",
    "\n",
    "These are useful in practice, but limited to the intended applications."
   ]
  },
  {
   "cell_type": "markdown",
   "metadata": {
    "slideshow": {
     "slide_type": "slide"
    }
   },
   "source": [
    "### Verification Tools\n",
    "\n",
    "Microsoft's [VCC](https://github.com/Microsoft/vcc) is one such tool:\n",
    "\n",
    "> VCC is a mechanical verifier for concurrent C programs. VCC takes a C program, *annotated with function specifications, data invariants, loop invariants, and ghost code*, and tries to prove these annotations correct. If it succeeds, VCC promises that your program actually meets its specifications.\n",
    "\n",
    "It's main use is for Microsoft's [Hyper-V](https://www.microsoft.com/en-us/research/project/vcc-a-verifier-for-concurrent-c/) hypervisor.\n",
    "\n",
    "Similar tools for Java and other languages exist. They are mainly used for highly-critical software, despite the fact that these tools dramatically reduce the time for testing and can even reduce development and maintenance effort."
   ]
  },
  {
   "cell_type": "markdown",
   "metadata": {
    "slideshow": {
     "slide_type": "slide"
    }
   },
   "source": [
    "### Static Analysis Tools\n",
    "\n",
    "Unlike verification tools, static analysis tools find errors with no or little annotation. However, they can't find all errors (*incomplete*) and may produce false warnings (*unsound*).\n",
    "\n",
    "For detecting concurrency errors in Windows:\n",
    "- Device drivers have to pass the [Static Driver Verifier](https://docs.microsoft.com/en-us/windows-hardware/drivers/devtest/introducing-static-driver-verifier) (called so because there is also a dynamic verifier that detects driver errors at run-time), a static analysis tools that emerged from the [SLAM](https://www.microsoft.com/en-us/research/project/slam/) research project.\n",
    "- Visual Studio for C/C++ includes a tool for [Code Analysis](https://docs.microsoft.com/en-us/visualstudio/code-quality/analyzing-c-cpp-code-quality-by-using-code-analysis), which report [numerous errors](https://docs.microsoft.com/en-us/visualstudio/code-quality/mixed-recommended-rules-rule-set): the concurrency errors start at C26100."
   ]
  },
  {
   "cell_type": "markdown",
   "metadata": {
    "slideshow": {
     "slide_type": "slide"
    }
   },
   "source": [
    "For detecting concurrency errors in Java:\n",
    "- [NASA Java PathFinder](https://en.wikipedia.org/wiki/Java_Pathfinder): free, large, extensive checking\n",
    "- [ThreadSafe](https://en.wikipedia.org/wiki/ThreadSafe): newer, commercial, specifically for concurrency errors\n",
    "- [FindBugs](http://findbugs.sourceforge.net/): open source, several categories of errors: [results from some applications](http://findbugs.sourceforge.net/demo.html)\n",
    "- [IBM Concurrency Benchmark](http://researcher.watson.ibm.com/researcher/view_person_subpage.php?id=5722): a set of programs with concurrency bugs, to evaluate tools\n",
    "\n",
    "Despite their drawbacks, static analysis tools have become popular in practice, e.g. https://scan.coverity.com/ as they still reduce testing time significantly, don't require training, and fit in existing development processes."
   ]
  },
  {
   "cell_type": "markdown",
   "metadata": {
    "slideshow": {
     "slide_type": "slide"
    }
   },
   "source": [
    "### Dynamic Analysis Tools\n",
    "\n",
    "[ThreadSanitizer](https://github.com/google/sanitizers/wiki/ThreadSanitizerCppManual) is one such tool, developed by Google, and included in [clang](https://clang.llvm.org/docs/ThreadSanitizer.html):\n",
    "> ThreadSanitizer is a tool that detects data races. It consists of a compiler instrumentation module and a run-time library.\n",
    "\n",
    "From a Google report \"[How Developers Use Data Race Detection Tools](http://dl.acm.org/citation.cfm?id=2688205)\", 2014:\n",
    "> [ThreadSanitizer] regularly finds critical bugs, and is in wide use across Google ... . One interesting incident occurred in the open source Chrome browser. Up to 15% of known crashes were attributed to just one bug ..., which proved difficult to understand–the Chrome engineers spent over 6 months tracking this bug without success. On the other hand, the [ThreadSanitizer] team found the reason for this bug in a 30 minute run, without even knowing about these crashes. The crashes were caused by data races on a couple of reference counters.\n",
    "\n",
    "ThreadSanitizer is included in [Xcode](https://developer.apple.com/videos/play/wwdc2016/412/). From Apple's [developer documentation](https://developer.apple.com/documentation/code_diagnostics/thread_sanitizer):\n",
    "> Running your code with Thread Sanitizer checks enabled can result in CPU slowdown of 2⨉ to 20⨉, and an increase in memory usage by 5⨉ to 10⨉."
   ]
  },
  {
   "cell_type": "markdown",
   "metadata": {
    "slideshow": {
     "slide_type": "slide"
    }
   },
   "source": [
    "### New Programming Languages\n",
    "\n",
    "- [Go](https://golang.org/): message passing over _synchronous_ and *asynchronous channels*, static analysis for race detection of shared variables.<br> Developed by Google; used by [Netflix](https://github.com/Netflix?language=go), [many others](https://github.com/golang/go/wiki/GoUsers)\n",
    "- [Erlang](https://www.erlang.org/): functional concurrent language, _actors_ with message passing over asynchronous channels. <br>\n",
    "Developed by Ericsson; used for [WhatsApp](https://www.fastcompany.com/3026758/inside-erlang-the-rare-programming-language-behind-whatsapps-success) (also [here](https://www.wired.com/2015/09/whatsapp-serves-900-million-users-50-engineers/)), [FaceBook Chat](), [Amazon SimpleDB](https://en.wikipedia.org/wiki/Amazon_SimpleDB), [Cisco Network Configuration](http://www.cse.chalmers.se/edu/year/2016/course/TDA383_LP3/files/lectures/ConsTAhs-20170301.pdf)\n",
    "- [Scala](http://scala-lang.org/): functional object-oriented language, _futures_ for background computation, actors, data-parallel operations on collections. <br>\n",
    "Developed by EPFL; used for [Apache Spark](https://spark.apache.org/), [Twitter](https://github.com/search?q=org%3Atwitter&type=Repositories&utf8=%E2%9C%93), [Duolingo](http://making.duolingo.com/rewriting-duolingos-engine-in-scala)\n",
    "- [Clojure](https://clojure.org/): functional concurrent language, message passing over synchronous and asynchronous channels, _transactions_ for shared state.<br> Used at [Walmart](http://blog.cognitect.com/blog/2015/6/30/walmart-runs-clojure-at-scale)\n",
    "- [Rust](https://www.rust-lang.org/): has a type system with _ownership_ to make both message passing and shared variables safer.<br>\n",
    "Developed by Mozilla for [FireFox](http://www.infoworld.com/article/3165424/web-browsers/mozilla-binds-firefoxs-fate-to-the-rust-language.html); used by [Coursera, Dropbox, Samsung, ...](https://www.rust-lang.org/en-US/friends.html)\n",
    "\n",
    "Further reading: Edward Lee, [_The Problem with Threads_](http://dl.acm.org/citation.cfm?id=1137289), 2006."
   ]
  },
  {
   "cell_type": "markdown",
   "metadata": {
    "slideshow": {
     "slide_type": "slide"
    }
   },
   "source": [
    "## 5. Dimensions of Concurrency"
   ]
  },
  {
   "cell_type": "markdown",
   "metadata": {
    "slideshow": {
     "slide_type": "slide"
    }
   },
   "source": [
    "* In _multiprogramming_ several concurrent processes may be executed by multiplexing processors. \n",
    "* In _multiprocessing_ several processors are sharing memory. \n",
    "* In _distributed processing_ there are several processors without shared memory.\n",
    "\n",
    "_Granularity_ of atomic operations can reach from nanoseconds (for arithmetic operations) to days. For very fine-grained concurrency, the overhead of starting processes outweighs the benefit, for example, evaluating parameters of the calls `p(x + y, x - y)` in parallel.\n",
    "\n",
    "_Coupling_ can be _loose_ or _tight_. For very tightly coupled programs, the overhead of communication and synchronization outweighs the benefit: for example, sorting an array by having each process compare and swap two adjacent elements.\n",
    "\n",
    "Coupling between processes can be *independent*, *regular*, or *general*.\n",
    "- Independent concurrency: For arrays `a`, `b`, `c`, the vector addition\n",
    "```algorithm\n",
    "  c := a + b\n",
    "```\n",
    "- Regular concurrency: For array `a` replacing each element with the average of its neighbours\n",
    "```algorithm\n",
    "  a[i] := (a[i - 1] + a[i + 1]) / 2\n",
    "```\n",
    "\n",
    "Some compilers, notably Fortran compilers, can recognize independent or regular concurrency and automatically generate code for vector processors that simultaneously perform the same operation on several elements, leading to _data parallelism_.\n",
    "\n",
    "The main concern for independent and regular concurrency is *performance*; for general concurrency, it is *correctness*."
   ]
  },
  {
   "cell_type": "markdown",
   "metadata": {
    "slideshow": {
     "slide_type": "slide"
    }
   },
   "source": [
    "## 6. What This Course is About"
   ]
  },
  {
   "cell_type": "markdown",
   "metadata": {
    "slideshow": {
     "slide_type": "slide"
    }
   },
   "source": [
    "The support for concurrency in programming languages is evolving. The emphasis is on\n",
    "- *general concurrency* (independent and regular concurrency in courses on parallel and distributed programming),\n",
    "- the *fundamentals of concurrency* and seeing how they *apply to current languages*, and\n",
    "- *correctness* of concurrent programs.\n",
    "\n",
    "These notes use _algorithmic notation_ for brevity and clarity, with implementations in Python, Java, and Go. For example, setting `x` to `1` and *in parallel* `y` to `2` is expressed as:\n",
    "\n",
    "```algorithm\n",
    "    x := 1 ‖ y := 2\n",
    "```\n",
    "The assignment `x := e`, also written as `x ← e`, is read `x` becomes `e` or `x` gets `e`."
   ]
  },
  {
   "cell_type": "markdown",
   "metadata": {
    "slideshow": {
     "slide_type": "slide"
    }
   },
   "source": [
    "To illustrate the verbosity of programming languages, here is the same in Python, with a print statement added. For both assignments, classes need to be declared, objects created, threads started, and awaited for termination. (Select the cell and run the program with control-return)."
   ]
  },
  {
   "cell_type": "code",
   "execution_count": null,
   "metadata": {
    "slideshow": {
     "slide_type": "-"
    }
   },
   "outputs": [],
   "source": [
    "from threading import Thread\n",
    "\n",
    "class SetX(Thread):\n",
    "    def run(self):\n",
    "        global x; x = 1\n",
    "\n",
    "class SetY(Thread):\n",
    "    def run(self):\n",
    "        global y; y = 2\n",
    "\n",
    "setX = SetX(); setY = SetY() # create new threads\n",
    "setX.start(); setY.start()   # run threads\n",
    "setX.join(); setY.join()     # wait for threads to finish\n",
    "print(x, y)"
   ]
  },
  {
   "cell_type": "markdown",
   "metadata": {
    "slideshow": {
     "slide_type": "slide"
    }
   },
   "source": [
    "In Java, classes also need to be declared and exceptions need to be caught (select the cell and save the file with control-return; select the next cell and run the shell commands with control-return)."
   ]
  },
  {
   "cell_type": "code",
   "execution_count": null,
   "metadata": {
    "slideshow": {
     "slide_type": "-"
    }
   },
   "outputs": [],
   "source": [
    "%%writefile SetXY.java\n",
    "public class SetXY {\n",
    "    static int x, y;\n",
    "    public static void main(String args[]) {\n",
    "        class SetX extends Thread {\n",
    "            public void run() {\n",
    "                x = 1;\n",
    "            }\n",
    "        }\n",
    "        class SetY extends Thread {\n",
    "            public void run() {\n",
    "                y = 2;\n",
    "            }\n",
    "        }\n",
    "        Thread setX = new SetX(), setY = new SetY();\n",
    "        setX.start(); setY.start();\n",
    "        try {setX.join(); setY.join();}\n",
    "        catch (Exception e) {};\n",
    "        System.out.println(x + \" \" + y);\n",
    "    }\n",
    "}"
   ]
  },
  {
   "cell_type": "code",
   "execution_count": null,
   "metadata": {
    "slideshow": {
     "slide_type": "-"
    }
   },
   "outputs": [],
   "source": [
    "!javac SetXY.java\n",
    "!java SetXY"
   ]
  },
  {
   "cell_type": "markdown",
   "metadata": {},
   "source": [
    "In C, a function that takes a `void *` argument and returns a `void *` argument has to be declared for each assignment statement. Threads are created and started by passing a pointer to such a function to a library function from the `Pthread` library."
   ]
  },
  {
   "cell_type": "code",
   "execution_count": null,
   "metadata": {},
   "outputs": [],
   "source": [
    "%%writefile SetXY.c\n",
    "#include <pthread.h>\n",
    "#include <stdio.h>\n",
    "\n",
    "int x, y;\n",
    "\n",
    "void *SetX(void *arg) {\n",
    "    x = 1; return NULL;\n",
    "}\n",
    "\n",
    "void *SetY(void *arg) {\n",
    "    y = 2; return NULL;\n",
    "}\n",
    "\n",
    "int main(int argc, char *argv[]) {\n",
    "    pthread_t setX, setY;\n",
    "    pthread_create(&setX, NULL, SetX, NULL);\n",
    "    pthread_create(&setY, NULL, SetY, NULL);\n",
    "    pthread_join(setX, NULL);\n",
    "    pthread_join(setY, NULL);\n",
    "    printf(\"%d %d\\n\", x, y);\n",
    "}"
   ]
  },
  {
   "cell_type": "code",
   "execution_count": null,
   "metadata": {},
   "outputs": [],
   "source": [
    "!gcc SetXY.c -lpthread -o SetXY\n",
    "!./SetXY"
   ]
  },
  {
   "cell_type": "markdown",
   "metadata": {},
   "source": [
    "**Question.** If you comment out the two lines containing the join statements, what can you observe?"
   ]
  },
  {
   "cell_type": "markdown",
   "metadata": {
    "jupyter": {
     "source_hidden": true
    }
   },
   "source": [
    "_Answer:_  \n",
    "Assuming that the variables are initialized to `0`, the output could be `0, 0`, `1, 0`, `0, 2`, or `1, 2`."
   ]
  },
  {
   "cell_type": "markdown",
   "metadata": {
    "slideshow": {
     "slide_type": "slide"
    }
   },
   "source": [
    "In Go, for each assignment, a function needs to be declared. Below, these functions are anonymous. The `go` keyword starts a goroutine, a kind of thread. Goroutines are not named, so awaiting the termination of a specific goroutine cannot be expressed directly. Instead, a channel is introduced. Below, a dummy value, `true`, is sent on completion in each goroutine; the main program waits for these values and discards them:"
   ]
  },
  {
   "cell_type": "code",
   "execution_count": null,
   "metadata": {
    "slideshow": {
     "slide_type": "-"
    }
   },
   "outputs": [],
   "source": [
    "%%writefile SetXY.go\n",
    "package main\n",
    "\n",
    "import \"fmt\"\n",
    "\n",
    "func main() {\n",
    "    var x, y int\n",
    "    done := make(chan bool)\n",
    "    go func() {x = 1; done <- true} ()\n",
    "    go func() {y = 2; done <- true} ()\n",
    "    <- done; <- done\n",
    "    fmt.Println(x, y)\n",
    "}"
   ]
  },
  {
   "cell_type": "code",
   "execution_count": null,
   "metadata": {
    "slideshow": {
     "slide_type": "-"
    }
   },
   "outputs": [],
   "source": [
    "!go run SetXY.go"
   ]
  },
  {
   "cell_type": "markdown",
   "metadata": {
    "slideshow": {
     "slide_type": "slide"
    }
   },
   "source": [
    "We cover the main concurrency concepts:\n",
    "\n",
    "- Nature of concurrency\n",
    "- Mutual exclusion and condition synchronization\n",
    "- Atomicity\n",
    "- Safety, liveness, termination, deadlock, livelock, fairness\n",
    "- Computer architecture and memory models\n",
    "- Processes vs threads\n",
    "- Critical sections\n",
    "- Barrier synchronization\n",
    "- Producers and consumers\n",
    "- Readers and writers\n",
    "- Bounded buffers\n",
    "- Semaphores\n",
    "- Monitors\n",
    "- Message passing over synchronous and asynchronous channels\n",
    "- Remote procedure call and rendezvous\n",
    "\n",
    "The course also includes a review of the correctness of sequential and object-oriented programs, as the correctness of concurrent programs emerges as an extension.\n",
    "\n",
    "Python and Java are used for semaphores and monitors; Go is used for message passing."
   ]
  },
  {
   "cell_type": "markdown",
   "metadata": {
    "slideshow": {
     "slide_type": "slide"
    }
   },
   "source": [
    "## 7. Recommended Reading"
   ]
  },
  {
   "cell_type": "markdown",
   "metadata": {
    "slideshow": {
     "slide_type": "slide"
    }
   },
   "source": [
    "### Discrete Math\n",
    "\n",
    "- David Gries, Fred B. Schneider, [A Logical Approach to Discrete Math](http://doi.org/10.1007/978-1-4757-3837-7), Springer, 1993.\n",
    "\n",
    "\n",
    "### Concurrency\n",
    "\n",
    "- Maurice Herlihy, Nir Shavit, Victor Luchangco, Michael Spear, [The Art of Multiprocessor Programming](https://www.sciencedirect.com/book/9780124159501/the-art-of-multiprocessor-programming\"), 2nd Edition, Morgan Kaufmann, 2020: includes theory and more recent topics like transactional programming\n",
    "- Allen Downey, [_The Little Book of Semaphores_](http://greenteapress.com/wp/semaphores/), 2016: free book with a trove of examples\n",
    "- Gregory Andrews, [_Foundations of Multithreaded, Parallel, and Distributed Programming_](https://archive.org/details/foundationsofmul0000andr), 2000: misses some of the newer topics, but all it covers is still valuable; [homepage](https://www2.cs.arizona.edu/~greg/mpdbook)\n",
    "\n",
    "### Operating Systems\n",
    "- Remzi Arpaci-Dusseau and Andrea Arpaci-Dusseau, [_Operating Systems: Three Easy Pieces_](http://ostep.org/), 2018: concise, free book; has one piece on concurrency with one chapter on concurrency bugs; uses C with Pthread\n",
    "\n",
    "### Python\n",
    "- John Guttag, [_Introduction to Computation and Programming Using Python, Third Edition_](https://mitpress.mit.edu/9780262542364/introduction-to-computation-and-programming-using-python), 2021: focuses on methodological aspects rather than on the language; complements http://python.org\n",
    "\n",
    "### Java\n",
    "- John Guttag and Barbara Liskov, [_Program Development in Java: Abstraction, Specification, and Object-Oriented Design_](https://archive.org/details/programdevelopme0000lisk), 2001: also focuses on methodological aspects rather than on the language\n",
    "\n",
    "### Go\n",
    "- Alan Donovan and Brian Kernighan, [_The Go Programming Language_](http://www.gopl.io/), 2015: authoritative book on Go\n",
    "- https://golang.org/doc/: official Go documentation\n",
    "- https://github.com/golang/go/wiki/Learn: further online learning tools"
   ]
  }
 ],
 "metadata": {
  "kernelspec": {
   "display_name": "Python 3 (ipykernel)",
   "language": "python",
   "name": "python3"
  },
  "language_info": {
   "codemirror_mode": {
    "name": "ipython",
    "version": 3
   },
   "file_extension": ".py",
   "mimetype": "text/x-python",
   "name": "python",
   "nbconvert_exporter": "python",
   "pygments_lexer": "ipython3",
   "version": "3.13.0"
  },
  "latex_envs": {
   "LaTeX_envs_menu_present": true,
   "autoclose": false,
   "autocomplete": true,
   "bibliofile": "biblio.bib",
   "cite_by": "apalike",
   "current_citInitial": 1,
   "eqLabelWithNumbers": true,
   "eqNumInitial": 1,
   "hotkeys": {
    "equation": "Ctrl-E",
    "itemize": "Ctrl-I"
   },
   "labels_anchors": false,
   "latex_user_defs": false,
   "report_style_numbering": false,
   "user_envs_cfg": false
  },
  "livereveal": {
   "history": true,
   "margin": "0.01",
   "progress": true,
   "scroll": true,
   "start_slideshow_at": "selected"
  },
  "rise": {
   "enable_chalkboard": true
  },
  "toc": {
   "base_numbering": 1,
   "nav_menu": {},
   "number_sections": false,
   "sideBar": false,
   "skip_h1_title": true,
   "title_cell": "Table of Contents",
   "title_sidebar": "Contents",
   "toc_cell": false,
   "toc_position": {},
   "toc_section_display": true,
   "toc_window_display": false
  }
 },
 "nbformat": 4,
 "nbformat_minor": 4
}
