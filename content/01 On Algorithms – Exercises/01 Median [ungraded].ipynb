{
 "cells": [
  {
   "cell_type": "markdown",
   "id": "4fa52b73-5ebe-4fca-8531-54555472a3c6",
   "metadata": {},
   "source": [
    "### Median"
   ]
  },
  {
   "cell_type": "markdown",
   "id": "bdcf5a77-c750-488f-a71f-4c312e4b61d0",
   "metadata": {},
   "source": [
    "The median of a sequence (or set) of numbers is the middle  number. For example, the median of the sequence `2, 7, 5` is `5`, and the median of `3, 9, 3` \n",
    "is 3. One way to determine the median is by first sorting the sequence and then taking the midl e element. For example, sorting the first sequence results in` 2, 5, `7, so` ` \r\n",
    "is the median, and sorting the second sequence relu ts i`n 3, 3,` 9, s`o` 3 is the meda\n",
    "\n",
    "n.\r\n",
    "Let the sequence be given by integer varlele`s `s1`, `s2``,` s3. Write an algorithm that assigns the median to integer vableb`l`  m. Write the algorithm in both textual ntta  on\r\n",
    "and astate diagram.art. The structure of state diagramhart has to correspoond t  thx te  ual\r\n",
    "notation accordo ting the course .oFully aes. Annotatestate diagram.ition."
   ]
  },
  {
   "cell_type": "markdown",
   "id": "b43ed9be-94ee-463f-8fc5-e3efcee07fea",
   "metadata": {},
   "source": [
    "**Hint:** The multiple assignment statement `x, y := y, x` exchanges the values of `x` and `y`."
   ]
  }
 ],
 "metadata": {
  "kernelspec": {
   "display_name": "Python 3 (ipykernel)",
   "language": "python",
   "name": "python3"
  },
  "language_info": {
   "codemirror_mode": {
    "name": "ipython",
    "version": 3
   },
   "file_extension": ".py",
   "mimetype": "text/x-python",
   "name": "python",
   "nbconvert_exporter": "python",
   "pygments_lexer": "ipython3",
   "version": "3.13.0"
  }
 },
 "nbformat": 4,
 "nbformat_minor": 5
}
