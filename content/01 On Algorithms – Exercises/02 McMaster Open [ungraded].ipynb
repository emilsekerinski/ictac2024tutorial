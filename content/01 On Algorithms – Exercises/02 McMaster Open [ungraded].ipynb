{
 "cells": [
  {
   "cell_type": "markdown",
   "id": "42fa1b59-17c5-4420-83ee-1281b3976150",
   "metadata": {},
   "source": [
    "### McMaster Open"
   ]
  },
  {
   "cell_type": "markdown",
   "id": "ee3db8d4-6817-4e4b-9a71-6959012bbb0f",
   "metadata": {},
   "source": [
    "You are organizing the McMaster Open tennis tournament. There are 623 players. For each match, two players are chosen in some way. \n",
    "The winner stays in the tournament, and the loser is knocked out.\n",
    "\n",
    "Give an algorithm as a fully annotated state diagram. How many matches are needed? What is your assumption about how players are chosen?."
   ]
  }
 ],
 "metadata": {
  "kernelspec": {
   "display_name": "Python 3 (ipykernel)",
   "language": "python",
   "name": "python3"
  },
  "language_info": {
   "codemirror_mode": {
    "name": "ipython",
    "version": 3
   },
   "file_extension": ".py",
   "mimetype": "text/x-python",
   "name": "python",
   "nbconvert_exporter": "python",
   "pygments_lexer": "ipython3",
   "version": "3.13.0"
  }
 },
 "nbformat": 4,
 "nbformat_minor": 5
}
