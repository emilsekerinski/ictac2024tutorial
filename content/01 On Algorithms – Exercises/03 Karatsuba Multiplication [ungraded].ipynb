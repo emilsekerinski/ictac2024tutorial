{
 "cells": [
  {
   "cell_type": "markdown",
   "id": "fe289d29-48c4-4995-ae33-827a1c51361f",
   "metadata": {},
   "source": [
    "### Karatsuba Multiplication"
   ]
  },
  {
   "cell_type": "markdown",
   "id": "d0fadb8e-0af7-44c3-bf61-41ae5aff7dbb",
   "metadata": {},
   "source": [
    "Multiplication of (very) long numbers is a core operation in many computer applications. Long multiplication of numbers with `n` digits requires `n²` digit multiplications; generally, multiplication is considered to be significantly more \"expensive\" than addition. Therefore, we count only the number of digit multiplications and ignore the number of additions. For years, `n²` digit multiplications were believed to be necessary until Karatsuba in the 60s showed that long multiplication can be done with fewer digit multiplications. See the Wikipedia entry on [Karatsuba_algorithm](http://en.wikipedia.org/wiki/Karatsuba_algorithm) for a description of the algorithm and the history of its discovery. \n",
    "\n",
    "Referring to the terminology of that article, multiply `2138 × 4079` using `B = 10` and `m = 2`. This requires the multiplication of other numbers with two digits. Use Karatsuba's algorithm for multiplying those as well with `B = 10` and `m = 1`, for which you only need single digit multiplications. How many single-digit multiplications did you use in total?"
   ]
  },
  {
   "cell_type": "markdown",
   "id": "80544ee1-c594-4163-84a4-b469105c411e",
   "metadata": {},
   "source": [
    "**Hint:** If `x0`, `x1`, `y0`, `y1` are single digit numbers, then in `(x1 + x0) × (y1 + y0)` the factors `(x1 + x0) and (y1 + y0)` may require more than a single digit. However, you can still count this as a single digit multiplication. More generally, if `x0`, `x1`, `y0`, `y1` are n digit numbers, the multiplication `(x1 + x0) × (y1 + y0)` is considered to be an `n` digit multiplication."
   ]
  }
 ],
 "metadata": {
  "kernelspec": {
   "display_name": "Python 3 (ipykernel)",
   "language": "python",
   "name": "python3"
  },
  "language_info": {
   "codemirror_mode": {
    "name": "ipython",
    "version": 3
   },
   "file_extension": ".py",
   "mimetype": "text/x-python",
   "name": "python",
   "nbconvert_exporter": "python",
   "pygments_lexer": "ipython3",
   "version": "3.13.0"
  }
 },
 "nbformat": 4,
 "nbformat_minor": 5
}
