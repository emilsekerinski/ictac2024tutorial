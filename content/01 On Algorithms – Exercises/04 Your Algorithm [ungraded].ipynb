{
 "cells": [
  {
   "cell_type": "markdown",
   "id": "efbdd201-e94b-404e-9fc8-ad5b215069b3",
   "metadata": {},
   "source": [
    "### Your Algorithm"
   ]
  },
  {
   "cell_type": "markdown",
   "id": "26eb746b-f4a9-428a-a422-f527851eaee2",
   "metadata": {},
   "source": [
    "Describe a (transformational or interactive) algorithm from everyday life; it cannot be something that was mentioned in class or is in \n",
    "the course notes. State what the input to the algorithm is, what the output is, and what the basic instructions are. You may use textual notation or state diagrams. Argue how many steps your algorithm needs."
   ]
  }
 ],
 "metadata": {
  "kernelspec": {
   "display_name": "Python 3 (ipykernel)",
   "language": "python",
   "name": "python3"
  },
  "language_info": {
   "codemirror_mode": {
    "name": "ipython",
    "version": 3
   },
   "file_extension": ".py",
   "mimetype": "text/x-python",
   "name": "python",
   "nbconvert_exporter": "python",
   "pygments_lexer": "ipython3",
   "version": "3.13.0"
  }
 },
 "nbformat": 4,
 "nbformat_minor": 5
}
