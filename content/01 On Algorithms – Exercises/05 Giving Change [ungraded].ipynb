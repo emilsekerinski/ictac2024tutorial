{
 "cells": [
  {
   "cell_type": "markdown",
   "id": "336b0097-8386-4c7e-a478-141a9de2fa29",
   "metadata": {},
   "source": [
    "### Giving Change"
   ]
  },
  {
   "cell_type": "markdown",
   "id": "e1a523e5-a076-41fc-9e73-29815f0298d2",
   "metadata": {},
   "source": [
    "Formulate the algorithm for giving change as a state diagram. Use the version with a single loop. Annotate the state diagram. Recall that depending on the denominations, the algorithm may not return the least amount of coins. A criterion that guarantees the least amount of coins is that each denomination is a multiple of the next lower one. Formulate this as a precondition for the algorithm. Recall also that the algorithm may not be able to give exact change if the least denomination is not `1` cent. However, that condition is too strong. For example, the algorithm would still work if the least denomination is `2` cents and the amount is even. What is a more general condition that has to hold for the amount and least denomination such that exact change can be given? State that as a precondition."
   ]
  }
 ],
 "metadata": {
  "kernelspec": {
   "display_name": "Python 3 (ipykernel)",
   "language": "python",
   "name": "python3"
  },
  "language_info": {
   "codemirror_mode": {
    "name": "ipython",
    "version": 3
   },
   "file_extension": ".py",
   "mimetype": "text/x-python",
   "name": "python",
   "nbconvert_exporter": "python",
   "pygments_lexer": "ipython3",
   "version": "3.13.0"
  }
 },
 "nbformat": 4,
 "nbformat_minor": 5
}
