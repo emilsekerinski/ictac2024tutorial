{
 "cells": [
  {
   "cell_type": "markdown",
   "id": "da5313a8-0be3-4daa-b067-82965016fe4d",
   "metadata": {},
   "source": [
    "# Computational Problem Solving\n",
    "### [Emil Sekerinski](http://www.cas.mcmaster.ca/~emil/), McMaster University, May 2024\n"
   ]
  },
  {
   "cell_type": "markdown",
   "id": "0c5e9eff-c008-4017-bec1-425caf532573",
   "metadata": {},
   "source": [
    "## Chapter 1. Introduction\n"
   ]
  },
  {
   "cell_type": "markdown",
   "id": "2fc144ad-d03f-4d6f-b7be-293de3b46c90",
   "metadata": {},
   "source": [
    "In their short history, computers have had a significant influence on our lives: starting with the automation of the laborious tasks of bookkeeping, accounting, finance, and scientific computation, they became utensils for writing, calculation, organization, and now are in everyday use for communication and entertainment. While the reader of this book likely possess a computer – or possibly several! – and spends a good part of the day using it, an even more profound influence of computers on our society may still come: giving us a *mental tool* for solving problems and designing systems by drawing on concepts fundamental to computer science. We are, perhaps unknowingly, already using those from our childhood on:"
   ]
  },
  {
   "cell_type": "markdown",
   "id": "de6711a5-3373-4320-a60b-d20fc9415d34",
   "metadata": {},
   "source": [
    ">\tIn grade school, we learn how to add long numbers by adding individual digits. If the numbers have at most n digits, the effort will be at most n digit additions (in which we include the addition of the carry-over). We first learn how to multiply two numbers a and b by keeping an intermediate result to which we add a and repeat this addition b times. Thus this takes b × n digit additions. We learn long multiplication as a more efficient way of multiplying large numbers by multiplying each digit of b with a and then adding the results, with appropriate \"shifting\" of the intermediate results. Each intermediate results requires at most n digit multiplications (in which we include the addition of the carry-over) and we will need at most n additions of the intermediate results, making a total of n × n digit multiplications and n × n digit additions."
   ]
  },
  {
   "cell_type": "markdown",
   "id": "43d0ade6-537d-44d8-80f5-a481ce6d174b",
   "metadata": {},
   "source": [
    "This example uses a number of fundamental concepts: these are three *algorithms*, each with *input*, *output*, that prescribe a computation that goes through a number of *states* using auxiliary *variables* (\"scratch paper\"). The algorithms *iterate* a fixed number of times; long multiplication uses *nested* iteration. Multiplication requires addition, no matter how that addition is performed (long addition, table lookup), so the algorithm for addition provides an *abstraction* that can be used elsewhere, as do the algorithms for multiplication. The motivation for long multiplication is *efficiency* in terms of the number of operations that have to be carried out. For multiplying numbers `a` and `b` with at most `n` digits, the *complexity* of simple multiplication is `b` × `n` digit additions while the complexity of long multiplication is `n` digit additions plus `n²` digit multiplications."
   ]
  },
  {
   "cell_type": "markdown",
   "id": "cefc9109-e722-4032-a50c-09ced2cf037b",
   "metadata": {},
   "source": [
    "This way of *computational thinking* can be applied every day: the best way to run through a grocery store to picking up items on a shopping, booking a vacation with flight, hotel, car and a good combination of date and price, managing a house renovation, arranging all the details of a wedding, playing games, not to mention applications in manufacturing, business, and science."
   ]
  },
  {
   "cell_type": "markdown",
   "id": "2c32e083-76d8-4649-8ec0-8f521d35061b",
   "metadata": {},
   "source": [
    "Why would the insight gained from *computational problems* be so widely applicable? Two characteristics set computational problems apart, their *complexity* and their *discreteness*. We all know how to solve a complex problem: by dividing it into smaller parts and solving those and if necessary repeating this division until the problems are small enough. The construction of a new village, from the arrangement of streets to the painting of interior walls, is clearly divided into steps, with a specialist for each step. Division into parts and subparts is how corporations and governments are organized and how engineering products are conceived. Now contrast this with a computer with, say, a one gigahertz processor that executes one instruction in each cycle. A programmer has the task of orchestrating 109 instructions in one second. If we define the complexity of a problem as the orders of magnitude between the whole and the smallest parts –some sort of logarithm of the ratio – a programmer has to face a complexity of 9 orders or magnitude. If we are more patient than one second, have faster processors, and allow multiple processors, we reach 12 orders of magnitude and more. Mass storage devices exceed already one terabyte, or 10¹² bytes, which need to be organized in an orderly fashion. No other human endeavor has reached a complexity of this order of magnitude, a complexity to which every programmer is exposed."
   ]
  },
  {
   "cell_type": "markdown",
   "id": "93233332-69bb-40bb-9d32-abb8c64ee48c",
   "metadata": {},
   "source": [
    "Computational problems are discrete: traditional engineering products, like machines and electrical devises, are dominated by mathematical continuity, meaning that a sufficiently small change in the input will result in a small change of the output. The discrete nature of digital computers does not allow such a relation; flipping a single bit of the input does not tell us anything about the change of the output. Likewise, many everyday problems, when viewed sufficiently abstract, are of discrete nature. Hence approaches based on continuous functions do not apply."
   ]
  },
  {
   "cell_type": "markdown",
   "id": "036eed14-37dd-457f-a435-1e62d60724a9",
   "metadata": {},
   "source": [
    "The goal of these notes is to equip the reader with a repertoire of –rather general– problem solving techniques to master the complexity. These notes use an algorithmic notation for a precise formulation of the solutions. Accompanying notes express these in a programming language, which bring the algorithms to \"live\"; modifying and experimenting with these is not only fun, but a required part of the learning experience."
   ]
  },
  {
   "cell_type": "markdown",
   "id": "01929024-5d05-41c2-a980-2da1f0a8c012",
   "metadata": {},
   "source": [
    "The discrete nature of computers calls for the use of *mathematical logic* and *discrete mathematics*, which are introduced as we go along."
   ]
  }
 ],
 "metadata": {
  "kernelspec": {
   "display_name": "Python 3 (ipykernel)",
   "language": "python",
   "name": "python3"
  },
  "language_info": {
   "codemirror_mode": {
    "name": "ipython",
    "version": 3
   },
   "file_extension": ".py",
   "mimetype": "text/x-python",
   "name": "python",
   "nbconvert_exporter": "python",
   "pygments_lexer": "ipython3",
   "version": "3.13.0"
  }
 },
 "nbformat": 4,
 "nbformat_minor": 5
}
