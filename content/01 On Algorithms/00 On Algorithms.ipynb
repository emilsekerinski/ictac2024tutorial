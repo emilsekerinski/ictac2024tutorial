{
 "cells": [
  {
   "attachments": {
    "54156fcf-a621-40a9-a4b4-d36793563aed.png": {
     "image/png": "[encoded data removed]"
    }
   },
   "cell_type": "markdown",
   "metadata": {
    "editable": true,
    "slideshow": {
     "slide_type": "slide"
    },
    "tags": []
   },
   "source": [
    "<div style=\"float:right;border-left:1em solid transparent\">\n",
    "    <i>Notebooks on Programming</i>\n",
    "</div>\n",
    "\n",
    "---\n",
    "# On Algorithms - Draft\n",
    "**[Emil Sekerinski](http://www.cas.mcmaster.ca/~emil), McMaster University, November 2024**\n",
    "\n",
    "---\n",
    "\n",
    "<figure style=\"float:right\" >\n",
    "    <img style=\"width:9.5em\" src=\"attachment:54156fcf-a621-40a9-a4b4-d36793563aed.png\"/>\n",
    "    <figcaption style=\"width:13em;font-size:80%\"><a href=\"https://creativecommons.org/licenses/by-nc-nd/4.0/\">Licensed under Creative Commons CC BY-NC-ND</a>\n",
    "    </figcaption>\n",
    "</figure>"
   ]
  },
  {
   "cell_type": "markdown",
   "metadata": {
    "editable": true,
    "slideshow": {
     "slide_type": "slide"
    },
    "tags": []
   },
   "source": [
    "## Elements of Algorithms"
   ]
  },
  {
   "cell_type": "markdown",
   "metadata": {
    "editable": true,
    "slideshow": {
     "slide_type": ""
    },
    "tags": []
   },
   "source": [
    "An *algorithm* specifies a sequence of *instructions* or *commands* to be executed by a *machine* that leads to the desired outcome:\n",
    "- A washing machine follows an algorithm for the sequence of washing and rinsing cycles, which depends on the selected program and sensors. The instructions of that machine are taking water in, letting water out, applying detergent, rotating the drum, and heating the water.\n",
    "- A traffic light follows an algorithm for switching the light. The instructions of a traffic light are turning individual lights on and off.\n",
    "- Driving directions are an algorithm to be executed by a human. The instructions are driving to the next stop, continuing straight ahead, and turning left and right.\n",
    "- A cookbook recipe is an algorithm also to be executed by a human. Instructions are putting ingredients in a pot, stirring the soup for a minute, waiting five minutes, and turning the heat on and off.\n",
    "\n",
    "The *computation* prescribed by an algorithm goes through a sequence of *states*. Each command transitions from a source state to a destination state. A command may have a *guard*. The visual notation and the example of a garage door are:\n",
    "\n",
    "<img style=\"float:left;border-left:6em solid transparent\" src=\"./img/Transition.svg\"/>\n",
    "<img style=\"float:right;border-left:6em solid transparent\" src=\"./img/GarageDoor.svg\"/>"
   ]
  },
  {
   "cell_type": "markdown",
   "metadata": {
    "editable": true,
    "slideshow": {
     "slide_type": "slide"
    },
    "tags": []
   },
   "source": [
    "Algorithms that are *hierarchically structured* as follows have a *textual representation*. Suppose `S` and `T` are instructions that themselves may be structured. Their _sequential_ composition first executes `S` and then `T`:\n",
    "\n",
    "<div style=\"float:left;border-left:6em solid transparent\">\n",
    "\n",
    "```\n",
    "S ; T\n",
    "```\n",
    "\n",
    "</div>\n",
    "<img style=\"float:left;border-left:6em solid transparent\" src=\"./img/Sequential.svg\"/>\n",
    "<img style=\"float:right;border-left:6em solid transparent\" src=\"./img/WashDry.svg\"/>"
   ]
  },
  {
   "cell_type": "markdown",
   "metadata": {
    "editable": true,
    "slideshow": {
     "slide_type": ""
    },
    "tags": []
   },
   "source": [
    "We say that `S` leads from a state in which `P` holds to a state in which `Q` holds, and `T` leads to a state in which `R` holds. The example illustrates doing laundry."
   ]
  },
  {
   "cell_type": "markdown",
   "metadata": {
    "editable": true,
    "slideshow": {
     "slide_type": "slide"
    },
    "tags": []
   },
   "source": [
    "The _conditional_ composition makes the next command dependent on guards. Suppose `S` and `T` are instructions that themselves may be structured:\n",
    "\n",
    "<div style=\"float:left;border-left:6em solid transparent\">\n",
    "\n",
    "```\n",
    "if B → S ⫿ C → T\n",
    "```\n",
    "\n",
    "</div>\n",
    "<img style=\"float:left;border-left:6em solid transparent\" src=\"./img/If2.svg\"/>\n",
    "<img style=\"float:right;border-left:6em solid transparent\" src=\"./img/PastaPizza.svg\"/>"
   ]
  },
  {
   "cell_type": "markdown",
   "metadata": {
    "editable": true,
    "slideshow": {
     "slide_type": ""
    },
    "tags": []
   },
   "source": [
    "From `P`, if `B` holds, `S` leads to `Q`, and if `C` holds, `T` leads to `Q`. If both `B` and `C` hold, the choice is arbitrary or *nondeterministic*. If neither holds, no transition is possible. The example illustrates taking a meal at home: if we have both pasta and pizza in stock, we will get full, no matter the choice. If neither is in stock, we remain hungry!"
   ]
  },
  {
   "cell_type": "markdown",
   "metadata": {
    "editable": true,
    "slideshow": {
     "slide_type": "slide"
    },
    "tags": []
   },
   "source": [
    "The _repetitive_ composition executes the *body*, a command, as long as the guard is true. If the guard is false, the repetition terminates. The example illustrates a morning procedure:\n",
    "\n",
    "<div style=\"float:left;border-left:2em solid transparent\">\n",
    "\n",
    "```algorithm\n",
    "do B → S\n",
    "```\n",
    "\n",
    "</div>\n",
    "<img style=\"float:left;border-left:6em solid transparent\" src=\"./img/Do1.svg\"/>\n",
    "<img style=\"float:right;border-left:6em solid transparent\" src=\"./img/Morning.svg\"/>"
   ]
  },
  {
   "cell_type": "markdown",
   "metadata": {
    "editable": true,
    "slideshow": {
     "slide_type": "slide"
    },
    "tags": []
   },
   "source": [
    "The repetitive composition can take several *alternatives*. For two alternatives, the notation is:\n",
    "\n",
    "<div style=\"float:left;border-left:2em solid transparent\">\n",
    "\n",
    "```algorithm\n",
    "do B → S ⫿ C → T\n",
    "```\n",
    "\n",
    "</div>\n",
    "<img style=\"float:left;border-left:6em solid transparent\" src=\"./img/Do2.svg\"/>\n",
    "<img style=\"float:right;border-left:6em solid transparent\" src=\"./img/Buffet.svg\"/>"
   ]
  },
  {
   "cell_type": "markdown",
   "metadata": {
    "editable": true,
    "slideshow": {
     "slide_type": ""
    },
    "tags": []
   },
   "source": [
    "From `P`, if `B` holds, `S` leads to `P` again, and if `C` holds, `T` leads to `P`. If both `B` and `C` hold, the choice is nondeterministic. If neither holds, the repetition terminates. The example illustrates having dinner at a buffet."
   ]
  },
  {
   "cell_type": "markdown",
   "metadata": {
    "editable": true,
    "slideshow": {
     "slide_type": "slide"
    },
    "tags": []
   },
   "source": [
    "The *state space* of an algorithm is partitioned into *variables*. For example, the amount in differnt jars can be represented by a variable for each jar."
   ]
  },
  {
   "cell_type": "markdown",
   "metadata": {
    "editable": true,
    "slideshow": {
     "slide_type": ""
    },
    "tags": []
   },
   "source": [
    "The notation `x := E` *assigns* the current value of `E` to variable `x`. For example, `m` is set to the maximum of `x` and `y` by:\n",
    "\n",
    "<div style=\"float:left;border-left:2em solid transparent\">\n",
    "\n",
    "```algorithm\n",
    "if x ≤ y → m := y\n",
    " ⫿ x ≥ y → m := x\n",
    "```\n",
    "\n",
    "</div>\n",
    "<img style=\"float:left;border-left:6em solid transparent\" src=\"./img/Max.svg\"/>"
   ]
  },
  {
   "cell_type": "markdown",
   "metadata": {
    "editable": true,
    "slideshow": {
     "slide_type": "slide"
    },
    "tags": []
   },
   "source": [
    "The *multiple assignment* `x, y := E, F` assigns simultaneously `E` to `x` and `F` to `y`. For example, numbers `x, y, z` are sorted by:\n",
    "\n",
    "<div style=\"float:left;border-left:2em solid transparent\">\n",
    "\n",
    "```algorithm\n",
    "do y ≤ x → x, y := y, x\n",
    " ⫿   z ≤ y → y, z := z, y\n",
    "```\n",
    "\n",
    "</div>\n",
    "<img style=\"float:left;border-left:6em solid transparent\" src=\"./img/Sort3.svg\"/>"
   ]
  },
  {
   "cell_type": "markdown",
   "metadata": {
    "editable": true,
    "slideshow": {
     "slide_type": ""
    },
    "tags": []
   },
   "source": [
    "The assignment `x, y := y, z` swaps the values of `x` and `y`. While the execution is nondeterministic - in case `x, y, z` are `5, 4, 3`, either `x` and `y` or `y` and `z` will be swapped first - the result is *uniquely determined*."
   ]
  },
  {
   "cell_type": "markdown",
   "metadata": {
    "editable": true,
    "slideshow": {
     "slide_type": "slide"
    },
    "tags": []
   },
   "source": [
    "Simple and composed commands always have a _single entry_ and _single exit_. The shades below in Euclid's algorithm illustrate the _hierarchical composition_ of commands. The algorithm computes the greatest common divisor of natural numbers `x` and `y` by repeatedly subtracting the smaller from the larger one until they are the same. On termination, they are the greatest common divisor of the original two numbers.\n",
    "\n",
    "<div style=\"float:left;border-left:2em solid transparent\">\n",
    "\n",
    "```algorithm\n",
    "a, b := x, y\n",
    "do a ≠ b →\n",
    "    if a > b → a := a – b\n",
    "     ⫿ a < b → b := b – a\n",
    "```\n",
    "\n",
    "</div>\n",
    "<img style=\"float:left;border-left:6em solid transparent\" src=\"./img/EuclidShades.svg\"/>"
   ]
  },
  {
   "cell_type": "markdown",
   "metadata": {
    "editable": true,
    "slideshow": {
     "slide_type": ""
    },
    "tags": []
   },
   "source": [
    "The guards of the inner conditional command don't cover the case when `a = b`. Doing so would be an *overspecification*, as this case cannot occur. The *initialization* `a, b := x, y` can also be achieved by either `a := x ; b := y` or `b := y ; a := x`. As the order does not matter, the multiple assignment is more abstract."
   ]
  },
  {
   "cell_type": "markdown",
   "metadata": {
    "editable": true,
    "slideshow": {
     "slide_type": "slide"
    },
    "tags": []
   },
   "source": [
    "The algorithm can be expressed  more compactly by a repetitive command with two alternatives:\n",
    "\n",
    "<div style=\"float:left;border-left:2em solid transparent\">\n",
    "\n",
    "```algorithm\n",
    "a, b := x, y\n",
    "do a > b → a := a – b\n",
    " ⫿   a < b → b := b – a\n",
    "```\n",
    "\n",
    "</div>\n",
    "<img style=\"float:left;border-left:6em solid transparent\" src=\"./img/EuclidDo2.svg\"/>"
   ]
  },
  {
   "cell_type": "markdown",
   "metadata": {
    "editable": true,
    "slideshow": {
     "slide_type": ""
    },
    "tags": []
   },
   "source": [
    "The state diagram is *fully annotated* with the conditions that hold in each state. The annotation is essential for checking the correctness of the algorithm, to which we will return."
   ]
  },
  {
   "cell_type": "markdown",
   "metadata": {
    "editable": true,
    "slideshow": {
     "slide_type": "slide"
    },
    "tags": []
   },
   "source": [
    "Commands can be composed to form more complex commands. For multi-line commands, indentation is used to avoid explicit parenthesis and the `;` operator is left out at the end of lines. The following commands are the same:\n",
    "\n",
    "```algorithm\n",
    "do B →                   do B → (S ; T)\n",
    "    S\n",
    "    T\n",
    "\n",
    "do B →                   do B → (if C → S ⫿ D → T)\n",
    "    if C →\n",
    "        S\n",
    "     ⫿ D →\n",
    "        T\n",
    "```"
   ]
  },
  {
   "cell_type": "markdown",
   "metadata": {
    "slideshow": {
     "slide_type": "-"
    }
   },
   "source": [
    "The `skip` command transitions from its initial state to its final state without doing anything:\n",
    "\n",
    "<div style=\"float:left;border-left:6em solid transparent\">\n",
    "\n",
    "```\n",
    "skip\n",
    "```\n",
    "\n",
    "</div>\n",
    "<img style=\"float:left;border-left:6em solid transparent\" src=\"./img/CorrectnessSkip.svg\"/>\n"
   ]
  },
  {
   "cell_type": "markdown",
   "metadata": {
    "slideshow": {
     "slide_type": "-"
    }
   },
   "source": [
    "The `stop` command does not transition from its initial state at all. It describes a computation that is stuck. In state diagrams,  it is \"drawn\" by no outgoing transition:\n",
    "\n",
    "<div style=\"float:left;border-left:6em solid transparent\">\n",
    "\n",
    "```\n",
    "skip\n",
    "```\n",
    "\n",
    "</div>\n",
    "<img style=\"float:left;border-left:6em solid transparent\" src=\"./img/CorrectnessStop.svg\"/>\n"
   ]
  },
  {
   "attachments": {
    "ebfa34ec-430e-4faa-9926-4308db288be1.png": {
     "image/png": "[encoded data removed]"
    }
   },
   "cell_type": "markdown",
   "metadata": {
    "editable": true,
    "slideshow": {
     "slide_type": "slide"
    },
    "tags": []
   },
   "source": [
    "## Loop Invariants\n",
    "\n",
    "<img style=\"float:right;border-left:6em solid transparent;width:13em\" src=\"attachment:ebfa34ec-430e-4faa-9926-4308db288be1.png\"/>\n",
    "\n",
    "Consider breaking a rectangular chocolate bar with `m × n` squares into individual squares. Each horizontal or vertical cut breaks one piece into two. The picture to the right shows a `3 × 4` bar after three cuts. How many cuts are needed to completely cut the bar into individual squares? What is the best way to do so?\n"
   ]
  },
  {
   "cell_type": "markdown",
   "metadata": {
    "editable": true,
    "slideshow": {
     "slide_type": "slide"
    },
    "tags": []
   },
   "source": [
    "The first step is to introduce variables for the relevant quantities of the problem.\n",
    "- As we are interested in the number of cuts, let `c` stand for the number of cuts so far, with an initial value of `0`.\n",
    "- The algorithm ends when we have `m × n` pieces, so let `p` stand for the current number of pieces, which is initially `1`.\n",
    "- In each step, we cut a piece, which means `c` is incremented by 1. How does this affect `p`? Cutting any piece gives two pieces, which means `p` is incremented by 1 as well."
   ]
  },
  {
   "cell_type": "markdown",
   "metadata": {
    "editable": true,
    "slideshow": {
     "slide_type": "fragment"
    },
    "tags": []
   },
   "source": [
    "<img style=\"float:right;border-left:6em solid transparent\" src=\"./img/ChocolateBar.svg\"/>\n",
    "\n",
    "With the initial condition, this means that `c = p – 1` is an *invariant* of the repetitive command, also called a *loop invariant*. As `p` is `m × n` finally, we know that `c` must be `m × n – 1` finally. This is independent of the order in which we cut the pieces! The annotated algorithm is to the right. The equivalent textual representation is:\n",
    "\n",
    "```\n",
    "p, c := 1, 0\n",
    "do p < m × n →\n",
    "    p, c := p + 1, c + 1\n",
    "```\n",
    "\n",
    "The key here was not to represent the shapes of the pieces in intermediate states. This would have made the solution only more complicated."
   ]
  },
  {
   "cell_type": "markdown",
   "metadata": {
    "editable": true,
    "slideshow": {
     "slide_type": "slide"
    },
    "tags": []
   },
   "source": [
    "## Hierarchical Diagrams"
   ]
  },
  {
   "cell_type": "markdown",
   "metadata": {
    "editable": true,
    "slideshow": {
     "slide_type": "-"
    },
    "tags": []
   },
   "source": [
    "Nesting allows an annotation repeated in several states to be factored into a _superstate_. The following are equivalent diagrams:"
   ]
  },
  {
   "cell_type": "markdown",
   "metadata": {
    "slideshow": {
     "slide_type": "-"
    }
   },
   "source": [
    "<img style=\"float:left;border-left:2em solid transparent\" src=\"./img/NestedDiagram.svg\"/>"
   ]
  },
  {
   "cell_type": "markdown",
   "metadata": {
    "editable": true,
    "slideshow": {
     "slide_type": "slide"
    },
    "tags": []
   },
   "source": [
    "As long as the computation resides within the superstate, `R` is an *invariant*. For example, the algorithm for multiplication by shifting is:\n",
    "\n",
    "```algorithm\n",
    "z, u, v := 0, x, y\n",
    "do u ≠ 0 →\n",
    "    if odd(u) → z := z + v\n",
    "     ⫿ even(u) → skip\n",
    "    u, v := u div 2, 2 × v\n",
    "\n",
    "```"
   ]
  },
  {
   "cell_type": "markdown",
   "metadata": {
    "slideshow": {
     "slide_type": "slide"
    }
   },
   "source": [
    "The following  two diagrams are equivalent. The one to the right factors out `u > 0` to a superstate:"
   ]
  },
  {
   "cell_type": "markdown",
   "metadata": {
    "editable": true,
    "slideshow": {
     "slide_type": "-"
    },
    "tags": []
   },
   "source": [
    "<img style=\"float:left;border-left:2em solid transparent\" src=\"./img/MultiplyByShiftCombined.svg\"/>"
   ]
  },
  {
   "cell_type": "markdown",
   "metadata": {
    "editable": true,
    "slideshow": {
     "slide_type": "slide"
    },
    "tags": []
   },
   "source": [
    "## Global Invariants\n",
    "\n",
    "A farmer needs to bring a wolf, a goat, and a cabbage across the river. The boat is tiny and can carry only one of them at a time. If he leaves the wolf and the goat alone together, the wolf will eat the goat. If he leaves the goat and the cabbage alone together, the goat will eat the cabbage. How can he bring all three safely across the river?"
   ]
  },
  {
   "cell_type": "markdown",
   "metadata": {
    "editable": true,
    "slideshow": {
     "slide_type": "slide"
    },
    "tags": []
   },
   "source": [
    "To represent the problem, we observe that there are four individuals, the farmer, the wolf, the goat, and the cabbage, that change positions: they are either on the left bank, in the boat, or on the right bank. In the boat, the goat and cabbage are safe, as the farmer is with them, so the only critical positions are the two sides of the river, which we call the left and right banks. Thus we introduce variables `f`, `w`, `g`, `c` –for the farmer, wolf, goat, cabbage– with values `L`, `R` –for the left and right bank. Initially, all of `f`, `w`, `g`, `c` are `L`, and finally, they should be `R`. The constraint that the wolf must not be left with the goat alone is expressed by:\n",
    "\n",
    "```\n",
    "f = g = w ∨ g ≠ w\n",
    "```\n",
    "\n",
    "The constraint that goat and cabbage must not be left alone is expressed by:\n",
    "\n",
    "```\n",
    "f = g = c ∨ g ≠ c\n",
    "```\n",
    "\n",
    "These constraints have to hold during the computation at all states. Such a restriction is called a *global invariant*. Unlike a loop invariant, which has to hold only at the beginning and end of a loop, a global invariant must always hold."
   ]
  },
  {
   "cell_type": "markdown",
   "metadata": {
    "editable": true,
    "slideshow": {
     "slide_type": ""
    },
    "tags": []
   },
   "source": [
    "<figure style=\"width:10em;float:right;border-left:1em solid transparent\">\n",
    "\n",
    "| f | g | c | w |\n",
    "|---|---|---|---|\n",
    "| L | L | L | L |\n",
    "| L | L | L | R |\n",
    "| L | L | R | L |\n",
    "| L | L | R | R |\n",
    "| L | R | L | L |\n",
    "| R | L | R | R |\n",
    "| R | R | L | L |\n",
    "| R | R | L | R |\n",
    "| R | R | R | L |\n",
    "| R | R | R | R |\n",
    "\n",
    "</figure>\n",
    "\n",
    "With four variables and two possible values for each, there are 2⁴ = 16 possible states. Let us enumerate all states that satisfy the global invariants. Such an enumeration is called a state exploration. The resulting ten distinct states are shown to the right. The initial state is `LLLL` and the final state is `RRRR`. From `LLLL`, the next possible state is only `RRLL`, which means that the farmer takes the goat from the left bank to the right bank. Then the farmer needs to return to the left bank, so the next state is `LRLL`. From that state, there are two possible next states, `RRRL` and `RRLR`. The diagram below completes these state transitions until the final state `RRRR`. Thus, there are two possible solutions to the problem.\n",
    "\n",
    "<img style=\"float:left\" src=\"./img/WolfGoatCabbage.svg\" />"
   ]
  },
  {
   "cell_type": "markdown",
   "metadata": {
    "editable": true,
    "slideshow": {
     "slide_type": ""
    },
    "tags": []
   },
   "source": [
    "A recommended step in problem-solving is to review the obtained solution critically and, with the gained insight, question if a better one is possible. We note that the goat is in conflict with both the wolf and the cabbage, but the wolf and cabbage are similar in the sense that neither one can be together with the goat alone. That is, for our purposes, wolf and cabbage are identical! \n",
    "\n",
    "Hence, we can reformulate the problem more abstractly: the farmer has to move two A's (the wolf and the cabbage) and one B (the goat) from the left bank to the right bank, such that an A and the B cannot be on the same bank without the farmer. A solution is now easier to arrive at: the farmer first hast to take the B, return empty, take an A, return with B, take the other A, return empty, and finally take the B. This more abstract formulation has only one solution, albeit one that contains the statement \"take an A\", which allows an arbitrary choice among the two A's. What makes the symmetry between the wolf and cabbage difficult to see is the asymmetry of the roles of wolf and goat in \"the wolf will eat the goat\" and likewise of goat and cabbage in \"the goat will eat the cabbage\"."
   ]
  },
  {
   "cell_type": "markdown",
   "metadata": {
    "editable": true,
    "slideshow": {
     "slide_type": "slide"
    },
    "tags": []
   },
   "source": [
    "## Correctness"
   ]
  },
  {
   "cell_type": "markdown",
   "metadata": {
    "slideshow": {
     "slide_type": "-"
    },
    "tags": []
   },
   "source": [
    "We are interested in which final state is produced for which initial state. For example:"
   ]
  },
  {
   "cell_type": "markdown",
   "metadata": {
    "slideshow": {
     "slide_type": "-"
    }
   },
   "source": [
    "<div style=\"float:left;border-left:2em solid transparent\">\n",
    "\n",
    "if initially  \n",
    "then after  \n",
    "finally\n",
    "</div>\n",
    "<div style=\"float:left;border-left:2em solid transparent\">\n",
    "\n",
    "`x = 3`  \n",
    "`x := x + 1`   \n",
    "`x = 4`\n",
    "</div>\n",
    "\n",
    "<img style=\"float:left;border-left:6em solid transparent\" src=\"./img/Correctness1.svg\"/>"
   ]
  },
  {
   "cell_type": "markdown",
   "metadata": {
    "slideshow": {
     "slide_type": "slide"
    }
   },
   "source": [
    "Let us consider the final states for a _set_ of possible initial states. The initial and final states are characterized by _predicates_ (Boolean expressions). For example:"
   ]
  },
  {
   "cell_type": "markdown",
   "metadata": {},
   "source": [
    "<div style=\"float:left;border-left:2em solid transparent\">\n",
    "\n",
    "if initially  \n",
    "then after  \n",
    "finally\n",
    "</div>\n",
    "<div style=\"float:left;border-left:2em solid transparent\">\n",
    "\n",
    "`x ≥ y`  \n",
    "`x := x + 1`  \n",
    "`x ≥ y + 1`\n",
    "\n",
    "</div>\n",
    "\n",
    "<img style=\"float:left;border-left:6em solid transparent\" src=\"./img/Correctness2.svg\"/>"
   ]
  },
  {
   "cell_type": "markdown",
   "metadata": {
    "slideshow": {
     "slide_type": "slide"
    }
   },
   "source": [
    "In general, for predicates `P` and `Q`, we express that under _precondition_ `P` command `S` establishes _postcondition_ `Q` by the _correctness assertion_ (colour distinguishes programs from properties):"
   ]
  },
  {
   "cell_type": "markdown",
   "metadata": {
    "slideshow": {
     "slide_type": "-"
    }
   },
   "source": [
    "<div style=\"float:left;border-left:2em solid transparent\">\n",
    "\n",
    "```\n",
    "{P}  S  {Q}\n",
    "```\n",
    "\n",
    "</div>\n",
    "<img style=\"float:left;border-left:6em solid transparent\" src=\"./img/CorrectnessAssertion.svg\"/>"
   ]
  },
  {
   "cell_type": "markdown",
   "metadata": {
    "slideshow": {
     "slide_type": "slide"
    }
   },
   "source": [
    "The correctness of an algorithm expressed as an annotated state diagram is checked by the following rules:"
   ]
  },
  {
   "cell_type": "markdown",
   "metadata": {},
   "source": [
    "<div style=\"float:left;border-left:2em solid transparent\">\n",
    "\n",
    "if `P ∧ B ⇒ Q` then\n",
    "\n",
    "</div>\n",
    "<img style=\"float:left;border-left:6em solid transparent\" src=\"./img/GuardTransition.svg\"/>"
   ]
  },
  {
   "cell_type": "markdown",
   "metadata": {
    "slideshow": {
     "slide_type": "-"
    }
   },
   "source": [
    "<div style=\"float:left;border-left:2em solid transparent\">\n",
    "\n",
    "if `P ⇒ Q[x, y := E, F]` then\n",
    "\n",
    "</div>\n",
    "<img style=\"float:left;border-left:6em solid transparent\" src=\"./img/AssignmentTransition.svg\"/>"
   ]
  },
  {
   "cell_type": "markdown",
   "metadata": {},
   "source": [
    "<div style=\"float:left;border-left:2em solid transparent\">\n",
    "\n",
    "if `P ∧ B ⇒ Q[x, y := E, F]` then\n",
    "\n",
    "</div>\n",
    "<img style=\"float:left;border-left:6em solid transparent\" src=\"./img/GuardAssignmentTransition.svg\"/>"
   ]
  },
  {
   "cell_type": "markdown",
   "metadata": {},
   "source": [
    "Here, `P[x, y := E, F]` stands for the _simultaneous substitution_ of `x` with `E` and `y` with `F`. An algorithm is correct if all its transitions are correct.\n",
    "\n",
    "The last rule is the most general one: by specializing the multiple assignments to \"assign to no variables\", the first rule emerges as a special case. The second rule emerges by specializing `B` to be `true`."
   ]
  },
  {
   "cell_type": "markdown",
   "metadata": {
    "slideshow": {
     "slide_type": "slide"
    }
   },
   "source": [
    "Assuming `x`, `y`, `z` are integer variables, consider:"
   ]
  },
  {
   "cell_type": "markdown",
   "metadata": {},
   "source": [
    "<div style=\"float:left;border-left:2em solid transparent\">\n",
    "\n",
    "```algorithm\n",
    "{x + y = 10}  z := x + y  {z = 10}\n",
    "```\n",
    "\n",
    "</div>\n",
    "<img style=\"float:left;border-left:6em solid transparent\" src=\"./img/Correctness3.svg\"/>"
   ]
  },
  {
   "cell_type": "markdown",
   "metadata": {
    "slideshow": {
     "slide_type": "-"
    }
   },
   "source": [
    "The assignment is correct with respect to the annotation provided if:\n",
    "```algorithm\n",
    "x + y = 10 ⇒ (z = 10)[z := x + y]\n",
    "```\n",
    "Here is the proof using [equational logic](https://en.wikipedia.org/wiki/Equational_logic), with justifications between the steps:\n",
    "```algorithm\n",
    "    x + y = 10 ⇒ (z = 10)[z := x + y]\n",
    "≡        {by substitution}\n",
    "    x + y = 10 ⇒ x + y = 10\n",
    "≡        {reflexivity of ⇒}\n",
    "    true\n",
    "```"
   ]
  },
  {
   "cell_type": "markdown",
   "metadata": {
    "slideshow": {
     "slide_type": "-"
    },
    "solution": "hidden",
    "solution_first": true
   },
   "source": [
    "*Question:* If the precondition and statement are fixed, what else are possible postconditions?"
   ]
  },
  {
   "cell_type": "markdown",
   "metadata": {
    "jupyter": {
     "source_hidden": true
    },
    "slideshow": {
     "slide_type": "fragment"
    },
    "solution": "hidden",
    "tags": []
   },
   "source": [
    "_Answer:_\n",
    "- `true` (which does not say anything about the state)\n",
    "- `z = 10 ∧ x + y = 10` (as `x`, `y` do not change)"
   ]
  },
  {
   "cell_type": "markdown",
   "metadata": {
    "slideshow": {
     "slide_type": "slide"
    }
   },
   "source": [
    "In general, if `P` is a Boolean-valued function, the following holds for arbitrary variable `x` and expression `E`:"
   ]
  },
  {
   "cell_type": "markdown",
   "metadata": {
    "slideshow": {
     "slide_type": "-"
    }
   },
   "source": [
    "<div style=\"float:left;border-left:2em solid transparent\">\n",
    "\n",
    "```algorithm\n",
    "{P(E)}  x := E  {P(x)}\n",
    "```\n",
    "\n",
    "</div>\n",
    "<img style=\"float:left;border-left:6em solid transparent\" src=\"./img/Correctness4.svg\"/>"
   ]
  },
  {
   "cell_type": "markdown",
   "metadata": {},
   "source": [
    "The correctness follows immediately from the rule for assignments."
   ]
  },
  {
   "cell_type": "markdown",
   "metadata": {
    "slideshow": {
     "slide_type": "slide"
    }
   },
   "source": [
    "Assuming `a`, `u`, `y`, `z` are integer variables, the following annotated statement is correct:"
   ]
  },
  {
   "cell_type": "markdown",
   "metadata": {
    "slideshow": {
     "slide_type": "-"
    }
   },
   "source": [
    "<div style=\"float:left;border-left:2em solid transparent\">\n",
    "\n",
    "```algorithm\n",
    "{z + u × y = a ∧ u > 0}\n",
    "z, u := z + y, u – 1\n",
    "{z + u × y = a ∧ u ≥ 0}\n",
    "```\n",
    "\n",
    "</div>\n",
    "<img style=\"float:left;border-left:6em solid transparent\" src=\"./img/Correctness5.svg\"/>"
   ]
  },
  {
   "cell_type": "markdown",
   "metadata": {
    "slideshow": {
     "slide_type": "-"
    }
   },
   "source": [
    "Here is the proof; simple steps are justified by \"arithmetic\" and \"logic\":\n",
    "\n",
    "```algorithm\n",
    "    z + u × y = a ∧ u > 0 ⇒\n",
    "          (z + u × y = a ∧ u ≥ 0)[z, u := z + y, u – 1]\n",
    "≡        {by substitution, leaving out parenthesis}\n",
    "    z + u × y = a ∧ u > 0 ⇒  z + y + (u – 1) × y = a ∧ u – 1 ≥ 0\n",
    "≡        {distrbutivity of × over –; E – 1 ≥ F ≡ E > F for any E, F}\n",
    "    z + u × y = a ∧ u > 0 ⇒  z + y + u × y – y = a ∧ u > 0\n",
    "≡        {arithmetic}\n",
    "    z + u × y = a ∧ u > 0 ⇒  z + u × y = a ∧ u > 0\n",
    "≡        {logic}\n",
    "    true\n",
    "```"
   ]
  },
  {
   "cell_type": "markdown",
   "metadata": {
    "slideshow": {
     "slide_type": "slide"
    }
   },
   "source": [
    "The following example involves the sequential composition of statements. Suppose that `x`, `y` are program variables and `A`, `B` *ghost* (or *logical* variables) – variables that appear in annotations but not statements. The following program exchanges the values of `x` and `y` without using an auxiliary variable:"
   ]
  },
  {
   "cell_type": "markdown",
   "metadata": {
    "slideshow": {
     "slide_type": "-"
    }
   },
   "source": [
    "<div style=\"float:left;border-left:2em solid transparent\">\n",
    "\n",
    "```algorithm\n",
    "{x = A ∧ y = B}\n",
    "x := x + y\n",
    "{x – y = A ∧ y = B}\n",
    "y := x – y\n",
    "{y = A ∧ x – y = B}\n",
    "x := x – y\n",
    "{y = A ∧ x = B}\n",
    "```\n",
    "\n",
    "</div>\n",
    "<img style=\"float:left;border-left:6em solid transparent\" src=\"./img/Swap.svg\"/>"
   ]
  },
  {
   "cell_type": "markdown",
   "metadata": {
    "slideshow": {
     "slide_type": "-"
    }
   },
   "source": [
    "The correctness of the three assignments follows from the corresponding conditions:\n",
    "\n",
    "- `x = A ∧ y = B ⇒ (x – y = A ∧ y = B)[x := x + y]`\n",
    "- `x – y = A ∧ y = B ⇒ (y = A ∧ x – y = B)[y := x – y]`\n",
    "- `y = A ∧ x – y = B ⇒ (y = A ∧ x = B)[x := x – y]`"
   ]
  },
  {
   "cell_type": "markdown",
   "metadata": {
    "slideshow": {
     "slide_type": "slide"
    }
   },
   "source": [
    "The maximum of two numbers is defined as:\n",
    "```algorithm\n",
    "m = max(x, y)   ≡   x ≤ m ∧ y ≤ m ∧ (m = x ∨ m = y)\n",
    "```\n",
    "Determining the maximum of two numbers involves a conditional statement:"
   ]
  },
  {
   "cell_type": "markdown",
   "metadata": {},
   "source": [
    "<div style=\"float:left;border-left:2em solid transparent\">\n",
    "\n",
    "```algorithm\n",
    "{true}\n",
    "if x < y then\n",
    "    m := y\n",
    "else\n",
    "    m := x\n",
    "{m = max(x, y)}\n",
    "```\n",
    "\n",
    "</div>\n",
    "<img style=\"float:left;border-left:6em solid transparent\" src=\"./img/Max.svg\"/>"
   ]
  },
  {
   "cell_type": "markdown",
   "metadata": {
    "slideshow": {
     "slide_type": "-"
    }
   },
   "source": [
    "The correctness follows from the following conditions:\n",
    "\n",
    "- `x < y ⇒ (m = max(x, y))[m := y]` \n",
    "- `x ≥ y ⇒ (m = max(x, y))[m := x]`\n",
    "\n",
    "To prove the first implication, rather than reducing it to `true`, we show that the left-hand side is a consequence of the right-hand side:\n",
    "\n",
    "```algorithm\n",
    "    (m = max(x, y))[m := y]\n",
    "≡        {by substitution, leaving out parenthesis}\n",
    "    y = max(x, y)\n",
    "≡        {definition of max}\n",
    "    x ≤ y ∧ y ≤ y ∧ (y = x ∨ y = y)\n",
    "≡        {reflexivity of ≤, =}\n",
    "    x ≤ y ∧ true\n",
    "≡        {simplification}\n",
    "    x ≤ y\n",
    "⇐        {E < F ⇒ E ≤ F for any E, F}\n",
    "    x < y\n",
    "```\n",
    "\n",
    "Annotations of `true` in programs and state diagrams will be left out."
   ]
  },
  {
   "cell_type": "markdown",
   "metadata": {
    "slideshow": {
     "slide_type": "slide"
    }
   },
   "source": [
    "*Aside.* Flowcharts are different from state diagrams; in flowcharts, statements are attached to nodes rather than to vertices:\n",
    "\n",
    "<img style=\"float:left;border-left:2em solid transparent\" src=\"./img/MaxFlowchart.svg\"/>"
   ]
  },
  {
   "cell_type": "markdown",
   "metadata": {},
   "source": [
    "We continue with state diagrams as they are more suitable for reasoning about correctness, particularly of concurrent programs."
   ]
  },
  {
   "cell_type": "markdown",
   "metadata": {
    "slideshow": {
     "slide_type": "slide"
    }
   },
   "source": [
    "The next program computes the product of integer variables `x` and `y` by successive additions:"
   ]
  },
  {
   "cell_type": "markdown",
   "metadata": {
    "slideshow": {
     "slide_type": "-"
    }
   },
   "source": [
    "<div style=\"float:left;border-left:2em solid transparent\">\n",
    "\n",
    "```algorithm\n",
    "{x ≥ 0}\n",
    "z, u := 0, x\n",
    "{z + u × y = x × y ∧ u ≥ 0}\n",
    "while u > 0 do\n",
    "    z, u := z + y, u – 1\n",
    "{z = x × y}\n",
    "```\n",
    "\n",
    "</div>\n",
    "<img style=\"float:left;border-left:6em solid transparent\" src=\"./img/Multiply.svg\"/>"
   ]
  },
  {
   "cell_type": "markdown",
   "metadata": {},
   "source": [
    "The correctness follows from the following conditions:\n",
    "\n",
    "- `x ≥ 0 ⇒ (z + u × y = x × y ∧ u ≥ 0)[z, u := 0, x]`\n",
    "- `u > 0 ∧ z + u × y = x × y ∧ u ≥ 0 ⇒` <br>\n",
    "  &nbsp;&nbsp;&nbsp;&nbsp;  `(z + u × y = x × y ∧ u ≥ 0)[z, u := z + y, u – 1]`\n",
    "- `u ≤ 0 ∧ z + u × y = x × y ∧ u ≥ 0 ⇒`<br>\n",
    "  &nbsp;&nbsp;&nbsp;&nbsp; `z = x × y`\n",
    "\n",
    "The intermediate annotation above is a *loop invariant*: it captures the design decision behind the loop, namely how `z` approximates the product.\n",
    "\n",
    "Loop invariants are analogous to induction hypothesis: a loop invariant has to hold at the entry of the loop (induction base), and assuming that the loop invariant holds at the beginning of the body, it has to hold at the end (induction step)."
   ]
  },
  {
   "cell_type": "markdown",
   "metadata": {
    "slideshow": {
     "slide_type": "slide"
    }
   },
   "source": [
    "For integers `x`, `y`, the greatest common divisor `gcd(x, y)` is integer `d` such that `d` divides `x` and `y` and any other divisor of `x` and `y` divides `d`. The following properties hold:\n",
    "\n",
    "```algorithm\n",
    "gcd(x, x) = x\n",
    "gcd(x, y) = gcd(y, x)\n",
    "gcd(x, y) = gcd(x – y, y)    if    x > y\n",
    "```\n",
    "The annotated algorithm using Euclid's method for the greatest common divisor is:"
   ]
  },
  {
   "cell_type": "markdown",
   "metadata": {
    "editable": true,
    "slideshow": {
     "slide_type": "slide"
    },
    "tags": []
   },
   "source": [
    "<div style=\"float:left;border-left:2em solid transparent\">\n",
    "\n",
    "```algorithm\n",
    "{x > 0 ∧ y > 0}\n",
    "a, b := x, y\n",
    "{gcd(a, b) = gcd(x, y) ∧\n",
    " a > 0 ∧ b > 0}\n",
    "while a ≠ b do\n",
    "    if a > b then\n",
    "        a := a – b\n",
    "    else\n",
    "        b := b – a\n",
    "{a = gcd(x, y)}\n",
    "```\n",
    "\n",
    "</div>\n",
    "<img style=\"float:left;border-left:6em solid transparent\" src=\"./img/Euclid.svg\"/>"
   ]
  },
  {
   "cell_type": "markdown",
   "metadata": {},
   "source": [
    "The correctness follows from the following conditions:\n",
    "- `x > 0 ∧ y > 0 ⇒ (gcd(a, b) = gcd(x, y) ∧ a > 0 ∧ b > 0)[a, b := x, y]`\n",
    "- `gcd(a, b) = gcd(x, y) ∧ a > 0 ∧ b > 0 ⇒ gcd(a, b) = gcd(x, y) ∧ a > 0 ∧ b > 0 ∧ a ≠ b`\n",
    "- `gcd(a, b) = gcd(x, y) ∧ a > 0 ∧ b > 0 ∧ a ≠ b ∧ a > b ⇒ (gcd(a, b) = gcd(x, y) ∧ a > 0 ∧ b > 0)[a := a – b]`\n",
    "- `gcd(a, b) = gcd(x, y) ∧ a > 0 ∧ b > 0 ∧ a ≠ b ∧ a ≤ b ⇒ (gcd(a, b) = gcd(x, y) ∧ a > 0 ∧ b > 0)[b := b – a]`\n",
    "- `gcd(a, b) = gcd(x, y) ∧ a > 0 ∧ b > 0 ⇒ a = gcd(x, y)`"
   ]
  },
  {
   "cell_type": "markdown",
   "metadata": {
    "slideshow": {
     "slide_type": "slide"
    }
   },
   "source": [
    "The correctness rules can be equivalently expressed in textual form, which is more suitable for larger programs. There is one rule for each kind of statement:\n",
    "\n",
    "\n",
    "**Rules for correctness of statements**\n",
    "\n",
    "<div style=\"display:table; border-top:1em solid transparent\">\n",
    "  <div style = \"display:table-cell; border-left:24px solid transparent; vertical-align:middle\">\n",
    "    <code>{P} x, y := E, F {Q}</code> <br><br>\n",
    "    <code>{P} S ; T {R}</code> <br><br>\n",
    "    <code>{P} if B then S else T {Q}</code> <br><br>\n",
    "    <code>{P} if B then S {Q}</code> <br><br>\n",
    "    <code>{P} while B do S {Q}</code> \n",
    "  </div>\n",
    "  <div style = \"display:table-cell; border-left:12px solid transparent; vertical-align:middle\" >\n",
    "    if &nbsp; <code>P ⇒ Q[x, y := E, F]</code> <br><br>\n",
    "    if &nbsp; <code>{P} S {Q}</code> &nbsp; and &nbsp;<code>{Q} T {R}</code> <br><br>\n",
    "    if &nbsp; <code>{P ∧ B} S {Q}</code> &nbsp; and &nbsp;<code>{P ∧ ¬B} T {Q}</code> <br><br>\n",
    "    if &nbsp; <code>{P ∧ B} S {Q}</code> &nbsp; and &nbsp;<code>P ∧ ¬B ⇒ Q</code> <br><br>\n",
    "    if &nbsp; <code>{P ∧ B} S {P}</code> &nbsp; and &nbsp;<code>P ∧ ¬B ⇒ Q</code>\n",
    "  </div>\n",
    "</div>"
   ]
  },
  {
   "cell_type": "markdown",
   "metadata": {},
   "source": [
    "*Example (Integer Multiplication).* The program is repeated to the right. By the rule for sequential composition, correctness follows from:\n",
    "\n",
    "<span style = \"float:right;border-left:1em solid transparent\">\n",
    "\n",
    "```algorithm\n",
    "{x ≥ 0}\n",
    "z, u := 0, x\n",
    "{z + u × y = x × y ∧ u ≥ 0}\n",
    "while u > 0 do\n",
    "    z, u := z + y, u – 1\n",
    "{z = x × y}\n",
    "```\n",
    "\n",
    "</span>\n",
    "\n",
    "<span style = \"float:left;border-right:1em solid transparent\">(1)</span>\n",
    "\n",
    "```algorithm\n",
    "{x ≥ 0}\n",
    "z, u := 0, x\n",
    "{z + u × y = x × y ∧ u ≥ 0}\n",
    "```\n",
    "\n",
    "<span style = \"float:left;border-right:1em solid transparent\">(2)</span>\n",
    "\n",
    "```algorithm\n",
    "{z + u × y = x × y ∧ u ≥ 0}\n",
    "while u > 0 do\n",
    "    z, u := z + y, u – 1\n",
    "{z = x × y}\n",
    "```"
   ]
  },
  {
   "cell_type": "markdown",
   "metadata": {},
   "source": [
    "For (2), the rule of repetition leads to:\n",
    "\n",
    "<span style = \"float:left;border-right:1em solid transparent\">(2.1)</span>\n",
    "\n",
    "```algorithm\n",
    "{z + u × y = x × y ∧ u ≥ 0 ∧ u > 0}\n",
    "z, u := z + y, u – 1\n",
    "{z + u × y = x × y ∧ u ≥ 0}\n",
    "```\n",
    "\n",
    "<span style = \"float:left;border-right:1em solid transparent\">(2.2)</span>\n",
    "\n",
    "```algorithm\n",
    "z + u × y = x × y ∧ u ≥ 0 ∧ u ≤ 0 ⇒ z = x × y\n",
    "```"
   ]
  },
  {
   "cell_type": "markdown",
   "metadata": {
    "solution": "hidden",
    "solution_first": true
   },
   "source": [
    "*Exercise.* Prove the conditions (1), (2.1), (2.2). For (1) and (2.1), first apply the rule for assignments!"
   ]
  },
  {
   "cell_type": "markdown",
   "metadata": {
    "solution": "hidden"
   },
   "source": [
    "For (1), the rule for assignments leads to:\n",
    "\n",
    "```algorithm\n",
    "x ≥ 0 ⇒ (z + u × y = x × y ∧ u ≥ 0)[z, u := 0, x]\n",
    "```\n",
    "\n",
    "This holds as:\n",
    "\n",
    "```algorithm\n",
    "    (z + u × y = x × y ∧ u ≥ 0)[z, u := 0, x]\n",
    "≡        {by substitution, leaving out parenthesis}\n",
    "    0 + x × y = x × y ∧ u ≥ 0\n",
    "≡        {by arithmetic, logic}\n",
    "    u ≥ 0\n",
    "```\n",
    "\n",
    "For (2.1), the rule for assignments leads to:\n",
    "\n",
    "```algorithm\n",
    "z + u × y = x × y ∧ u ≥ 0 ∧ u > 0 ⇒ (z + u × y = x × y ∧ u ≥ 0)[z, u := z + y, u – 1]\n",
    "```\n",
    "\n",
    "This holds as:\n",
    "\n",
    "```algorithm\n",
    "    (z + u × y = x × y ∧ u ≥ 0)[z, u := z + y, u – 1]\n",
    "≡        {by substitution}\n",
    "    (z + y) + (u – 1) × y = x × y ∧ u – 1 ≥ 0\n",
    "≡        {by distribution, arithmetic}\n",
    "    z + y + u × y – y = x × y ∧ u > 0\n",
    "≡        {by arithmetic}\n",
    "    z + u × y = x × y ∧ u > 0\n",
    "≡        {by arithmetic}\n",
    "    z + u × y = x × y ∧ u ≥ 0 ∧ u > 0\n",
    "```\n",
    "\n",
    "Condition (2.2) holds as:\n",
    "\n",
    "```algorithm\n",
    "    z + u × y = x × y ∧ u ≥ 0 ∧ u ≤ 0\n",
    "≡        {by arithmetic}\n",
    "    z + u × y = x × y ∧ u = 0\n",
    "≡        {by substitution of equals for equals}\n",
    "    z + 0 × y = x × y ∧ u = 0\n",
    "≡        {arithmetic}\n",
    "    z = x × y ∧ u = 0\n",
    "⇒        {logic}\n",
    "    z = x × y\n",
    "```"
   ]
  },
  {
   "cell_type": "markdown",
   "metadata": {
    "slideshow": {
     "slide_type": "slide"
    }
   },
   "source": [
    "*Example (Quotient and Remainder).*  For integers `x`, `y`, the quotient `x div y` (also written `x ÷ y`) and the remainder `x mod y` are defined for all `y > 0` by:\n",
    "\n",
    "```algorithm\n",
    "x div y = q      ≡     x = q × y + r  \n",
    "x mod y = r           0 ≤ r < y\n",
    "```\n",
    "\n",
    "The following program determines `x div y` and `x mod y` by only using addition and subtraction:\n",
    "\n",
    "```algorithm\n",
    "{x ≥ 0 ∧ y > 0}\n",
    "q, r := 0, x\n",
    "{x = q × y + r ∧ r ≥ 0 ∧ y > 0}\n",
    "while r ≥ y do\n",
    "    q, r := q + 1, r – y\n",
    "{q = x div y ∧ r = x mod y}\n",
    "```\n"
   ]
  },
  {
   "cell_type": "markdown",
   "metadata": {},
   "source": [
    "By the rule for sequential composition, the correctness follows from:\n",
    "\n",
    "<span style = \"float:left;border-right:1em solid transparent\">(1)<br><br></span>\n",
    "\n",
    "```algorithm\n",
    "{x ≥ 0 ∧ y > 0}\n",
    "q, r := 0, x\n",
    "{x = q × y + r ∧ r ≥ 0 ∧ y > 0}\n",
    "```\n",
    "\n",
    "<span style = \"float:left;border-right:1em solid transparent\">(2)<br><br></span>\n",
    "\n",
    "```algorithm\n",
    "{x = q × y + r ∧ r ≥ 0 ∧ y > 0}\n",
    "while r ≥ y do\n",
    "    q, r := q + 1, r – y\n",
    "{q = x div y ∧ r = x mod y}\n",
    "```\n",
    "\n",
    "For (2), applying the rule for repetitions leads to:\n",
    "\n",
    "<span style = \"float:left;border-right:1em solid transparent\">(2.1)<br><br></span>\n",
    "\n",
    "```algorithm\n",
    "{r ≥ y ∧ x = q × y + r ∧ r ≥ 0 ∧ y > 0}\n",
    "q, r := q + 1, r – y\n",
    "{x = q × y + r ∧ r ≥ 0 ∧ y > 0}\n",
    "```\n",
    "\n",
    "<span style = \"float:left;border-right:1em solid transparent\">(2.2)<br></span>\n",
    "\n",
    "```algorithm\n",
    "r < y ∧ x = q × y + r ∧ r ≥ 0 ∧ y > 0   ⇒   q = x div y ∧ r = x mod y\n",
    "```"
   ]
  },
  {
   "cell_type": "markdown",
   "metadata": {
    "slideshow": {
     "slide_type": "skip"
    }
   },
   "source": [
    "*Aside.* For negative divisors, we have, for example, `–5 div 2 = –3` and `–5 mod 2 = 1`. This is the most [natural definition](https://doi.org/10.1145/128861.128862). Python follows it, but not all programming languages do."
   ]
  },
  {
   "cell_type": "markdown",
   "metadata": {
    "editable": true,
    "slideshow": {
     "slide_type": "slide"
    },
    "tags": []
   },
   "source": [
    "An *array* is a function `D → T` where the domain `D` is a \"small\" range of integers and `T` is the type of the array elements. An array `x: l .. u → T` has elements `x(l)`, `x(l + 1)`, ..., `x(u)`. Updating an array element is formally defined as assigning a new, altered array:\n",
    "\n",
    "```\n",
    "x(E) := F    =    x := (x; E: F)\n",
    "```\n",
    "\n",
    "The _alter function_ `(x; E: F)` is defined by:\n",
    "\n",
    "```algorithm\n",
    "(x; E: F)(G)  =  F      if   E = G\n",
    "(x; E: F)(G)  =  x(G)   if   E ≠ G \n",
    "```\n",
    "\n",
    "For example, given array `x` of suitable type, in\n",
    "```algorithm\n",
    "{x(0) = a ∧ x(1) = b}\n",
    "x(1) := c\n",
    "{x(0) = a ∧ x(1) = c}\n",
    "```\n",
    "the assignment is first replaced with:\n",
    "```algorithm\n",
    "x := (x; 1: c)\n",
    "```\n",
    "The proof is then:\n",
    "```algorithm\n",
    "    x(0) = a ∧ x(1) = b ⇒ (x(0) = a ∧ x(1) = c)[x := (x; 1: c)]\n",
    "≡        {by substitution, leaving out parenthesis}\n",
    "    x(0) = a ∧ x(1) = b ⇒ (x; 1: c)(0) = a ∧ (x; 1: c)(1) = c\n",
    "≡        {definition of alter, twice}\n",
    "    x(0) = a ∧ x(1) = b ⇒ x(0) = a ∧ c = c\n",
    "≡        {simplification}\n",
    "    true\n",
    "```"
   ]
  },
  {
   "cell_type": "markdown",
   "metadata": {
    "slideshow": {
     "slide_type": "slide"
    }
   },
   "source": [
    "*Example (Sum of Array Elements).*  For constant `N ≥ 0`, let `a: 0 .. N – 1 → integer` be an array whose sum will be computed. The invariant of the loop states that `s` is the partial sum of the first `k` elements of `a`:\n",
    "\n",
    "<div style=\"float:left;border-left:2em solid transparent\">\n",
    "\n",
    "```algorithm\n",
    "{true}\n",
    "s, k := 0, 0\n",
    "{s = (∑ i ∈ 0 .. k – 1 • a(i)) ∧ 0 ≤ k ≤ N}\n",
    "while k < N do\n",
    "    s, k := s + a(k), k + 1\n",
    "{s = (∑ i ∈ 0 .. N – 1 • a(i))}\n",
    "```\n",
    "\n",
    "</div>\n",
    "<img alt=\"array with elements a(0) to a(N-1) and s being the sum of a(0) to a(k-1)\" style=\"float:left;border-left:6em solid transparent\" src=\"./img/SumOfArrayElements.svg\"/>"
   ]
  },
  {
   "cell_type": "markdown",
   "metadata": {},
   "source": [
    "By the rule for sequential composition, correctness follows from:\n",
    "\n",
    "<span style = \"float:left;border-right:1em solid transparent\">(1)</span>\n",
    "\n",
    "```algorithm\n",
    "{true}\n",
    "s, k := 0, 0\n",
    "{s = (∑ i ∈ 0 .. k – 1 • a(i)) ∧ 0 ≤ k ≤ N}\n",
    "```\n",
    "\n",
    "<span style = \"float:left;border-right:1em solid transparent\">(2)</span>\n",
    "\n",
    "```algorithm\n",
    "{s = (∑ i ∈ 0 .. k – 1 • a(i)) ∧ 0 ≤ k ≤ N}\n",
    "while k < N do\n",
    "    s, k := s + a(k), k + 1\n",
    "{s = (∑ i ∈ 0 .. N – 1 • a(i))}\n",
    "```\n",
    "\n",
    "For (2), applying the rule for repetitions leads to:\n",
    "\n",
    "<span style = \"float:left;border-right:1em solid transparent\">(2.1)<br><br></span>\n",
    "\n",
    "```algorithm\n",
    "{s = (∑ i ∈ 0 .. k – 1 • a(i)) ∧ 0 ≤ k ≤ N ∧ k < N}\n",
    "s, k := s + a(k), k + 1\n",
    "{s = (∑ i ∈ 0 .. k – 1 • a(i)) ∧ 0 ≤ k ≤ N}\n",
    "```\n",
    "\n",
    "<span style = \"float:left;border-right:1em solid transparent\">(2.2)<br></span>\n",
    "\n",
    "```algorithm\n",
    "s = (∑ i ∈ 0 .. k – 1 • a(i)) ∧ 0 ≤ k ≤ N ∧ k ≥ N ⇒\n",
    "    s = (∑ i ∈ 0 .. N – 1 • a(i))\n",
    "```"
   ]
  },
  {
   "cell_type": "markdown",
   "metadata": {},
   "source": [
    "For (1), the rule of assignment leads to:\n",
    "\n",
    "```algorithm\n",
    "true ⇒ (s = (∑ i ∈ 0 .. k – 1 • a(i)) ∧ 0 ≤ k ≤ N)[s, k := 0, 0]\n",
    "```\n",
    "\n",
    "This holds as:\n",
    "\n",
    "```algorithm\n",
    "    (s = (∑ i ∈ 0 .. k – 1 • a(i)) ∧ 0 ≤ k ≤ N)[s, k := 0, 0]\n",
    "≡        {by substitution, arithmetic}\n",
    "    0 = (∑ i ∈ 0 .. – 1 • a(i)) ∧ 0 ≤ 0 ≤ N\n",
    "≡        {empty sum is 0, arithmetic}\n",
    "    0 = 0 ∧ 0 ≤ N\n",
    "≡        {assumption N ≥ 0}\n",
    "    true\n",
    "```\n",
    "\n",
    "For (2.1), the rule of assignment leads to:\n",
    "\n",
    "```algorithm\n",
    "s = (∑ i ∈ 0 .. k – 1 • a(i)) ∧ 0 ≤ k ≤ N ∧ k < N ⇒\n",
    "    (s = (∑ i ∈ 0 .. k – 1 • a(i)) ∧ 0 ≤ k ≤ N)[s, k := s + a(k), k + 1]\n",
    "```\n",
    "\n",
    "This holds as:\n",
    "\n",
    "```algorithm\n",
    "    (s = (∑ i ∈ 0 .. k – 1 • a(i)) ∧ 0 ≤ k ≤ N)[s, k := s + a(k), k + 1]\n",
    "≡        {by substitution}\n",
    "    s + a(k) = (∑ i ∈ 0 .. (k + 1) – 1 • a(i)) ∧ 0 ≤ k + 1 ≤ N\n",
    "⇐        {by arithmetic}\n",
    "    s + a(k) = (∑ i ∈ 0 .. k • a(i)) ∧ 0 ≤ k < N\n",
    "≡        {by domain split with i < k and i = k}\n",
    "    s + a(k) = (∑ i ∈ 0 .. k – 1 • a(i)) + a(k) ∧ 0 ≤ k < N\n",
    "≡        {by arithmetic}\n",
    "    s = (∑ i ∈ 0 .. k – 1 • a(i)) ∧ 0 ≤ k < N\n",
    "≡        {by arithmetic}\n",
    "    s = (∑ i ∈ 0 .. k – 1 • a(i)) ∧ 0 ≤ k ≤ N ∧ k < N\n",
    "```\n",
    "\n",
    "Condition (2.2) holds as:\n",
    "\n",
    "```algorithm\n",
    "    s = (∑ i ∈ 0 .. k – 1 • a(i)) ∧ 0 ≤ k ≤ N ∧ k ≥ N ⇒\n",
    "⇒        {by arithmetic}\n",
    "    s = (∑ i ∈ 0 .. k – 1 • a(i)) ∧ k = N\n",
    "≡        {by substitution of equals for equals}\n",
    "    s = (∑ i ∈ 0 .. N – 1 • a(i)) ∧ k = N\n",
    "⇒        {logic}\n",
    "    s = (∑ i ∈ 0 .. N – 1 • a(i))\n",
    "```"
   ]
  },
  {
   "cell_type": "markdown",
   "metadata": {},
   "source": [
    "_Question:_ How would the invariant change if"
   ]
  },
  {
   "cell_type": "markdown",
   "metadata": {
    "slideshow": {
     "slide_type": "slide"
    }
   },
   "source": [
    "*Example (Vector Summation).*  Let `a, b, c : 0 .. N – 1 → integer` represent three vectors of length `N ≥ 0`; following program sets `c` to the sum of `a` and `b`. The invariant states that the first `k` elements of `c` are the sum of the corresponding elements of `a` and `b`:\n",
    "\n",
    "\n",
    "<div style=\"float:left;border-left:2em solid transparent\">\n",
    "\n",
    "```algorithm\n",
    "{true}\n",
    "k := 0\n",
    "{(∀ i ∈ 0 .. k – 1 • c(i) = a(i) + b(i)) ∧ 0 ≤ k ≤ N}\n",
    "while k < N do\n",
    "    c(k), k := a(k) + b(k), k + 1\n",
    "{∀ i ∈ 0 .. N – 1 • c(i) = a(i) + b(i)}\n",
    "```\n",
    "\n",
    "</div>\n",
    "<img alt=\"Arrays a, b, c with c(0), ..., c(N-1) being the sum of a(0), ..., a(N-1) and b(0), ..., b(N-1), respectively\" style=\"float:left;border-left:6em solid transparent\" src=\"./img/VectorAddition.svg\"/>"
   ]
  },
  {
   "cell_type": "markdown",
   "metadata": {
    "editable": true,
    "slideshow": {
     "slide_type": "slide"
    },
    "tags": []
   },
   "source": [
    "By the rule for sequential composition, correctness follows from:\n",
    "\n",
    "<span style = \"float:left;border-right:1em solid transparent\">(1)</span>\n",
    "\n",
    "```algorithm\n",
    "{true}\n",
    "k := 0\n",
    "{(∀ i ∈ 0 .. k – 1 • c(i) = a(i) + b(i)) ∧ 0 ≤ k ≤ N}\n",
    "```\n",
    "\n",
    "<span style = \"float:left;border-right:1em solid transparent\">(2)</span>\n",
    "\n",
    "```algorithm\n",
    "{(∀ i ∈ 0 .. k – 1 • c(i) = a(i) + b(i)) ∧ 0 ≤ k ≤ N}\n",
    "while k < N do\n",
    "    c(k), k := a(k) + b(k), k + 1\n",
    "{∀ i ∈ 0 .. N – 1 • c(i) = a(i) + b(i)}\n",
    "```\n",
    "\n",
    "For (2), applying the rule for repetitions leads to:\n",
    "\n",
    "<span style = \"float:left;border-right:1em solid transparent\">(2.1)<br><br></span>\n",
    "\n",
    "```algorithm\n",
    "{(∀ i ∈ 0 .. k – 1 • c(i) = a(i) + b(i)) ∧ 0 ≤ k ≤ N ∧ k < N}\n",
    "c(k), k := a(k) + b(k), k + 1\n",
    "{(∀ i ∈ 0 .. k – 1 • c(i) = a(i) + b(i)) ∧ 0 ≤ k ≤ N}\n",
    "```\n",
    "\n",
    "<span style = \"float:left;border-right:1em solid transparent\">(2.2)<br></span>\n",
    "\n",
    "```algorithm\n",
    "(∀ i ∈ 0 .. k – 1 • c(i) = a(i) + b(i)) ∧ 0 ≤ k ≤ N ∧ k ≥ N ⇒\n",
    "    ∀ i ∈ 0 .. N – 1 • c(i) = a(i) + b(i)\n",
    "```"
   ]
  },
  {
   "cell_type": "markdown",
   "metadata": {},
   "source": [
    "For (1), the rule for assignments leads to:\n",
    "\n",
    "```algorithm\n",
    "true ⇒ (∀ i ∈ 0 .. k – 1 • c(i) = a(i) + b(i)) ∧ 0 ≤ k ≤ N)[k := 0]\n",
    "```\n",
    "\n",
    "This holds as:\n",
    "\n",
    "```algorithm\n",
    "    (∀ i ∈ 0 .. k – 1 • c(i) = a(i) + b(i)) ∧ 0 ≤ k ≤ N)[k := 0]\n",
    "≡        {substitution, arithmetic}\n",
    "    (∀ i ∈ 0 .. – 1 • c(i) = a(i) + b(i)) ∧ 0 ≤ 0 ≤ N\n",
    "≡        {empty universal quantification, assumption N ≥ 0}\n",
    "    true\n",
    "```\n",
    "\n",
    "For (2.1), the rule for assignments leads to:\n",
    "\n",
    "```algorithm\n",
    "(∀ i ∈ 0 .. k – 1 • c(i) = a(i) + b(i)) ∧ 0 ≤ k ≤ N ∧ k < N ⇒\n",
    "    ((∀ i ∈ 0 .. k – 1 • c(i) = a(i) + b(i)) ∧ 0 ≤ k ≤ N)[c, k := (c; k: a(k) + b(k)), k + 1]\n",
    "```\n",
    "\n",
    "This holds as:\n",
    "\n",
    "```algorithm\n",
    "    ((∀ i ∈ 0 .. k – 1 • c(i) = a(i) + b(i)) ∧ 0 ≤ k ≤ N)[c, k := (c; k: a(k) + b(k)), k + 1]\n",
    "≡        {substitution}\n",
    "    (∀ i ∈ 0 .. (k + 1) – 1 • (c; k: a(k) + b(k))(i) = a(i) + b(i)) ∧ 0 ≤ k + 1 ≤ N\n",
    "⇐        {arithmetic}\n",
    "    (∀ i ∈ 0 .. (k + 1) – 1 • (c; k: a(k) + b(k))(i) = a(i) + b(i)) ∧ 0 ≤ k < N\n",
    "≡        {split universal quantification}\n",
    "    (∀ i ∈ 0 .. k – 1 • (c; k: a(k) + b(k))(i) = a(i) + b(i)) ∧ (c; k: a(k) + b(k))(k) = a(k) + b(k) ∧ 0 ≤ k < N\n",
    "≡        {by definition of alter}\n",
    "    (∀ i ∈ 0 .. k – 1 • c(i) = a(i) + b(i)) ∧ a(k) + b(k) = a(k) + b(k) ∧ 0 ≤ k < N\n",
    "≡        {arithmetic, logic}\n",
    "    (∀ i ∈ 0 .. k – 1 • c(i) = a(i) + b(i)) ∧ 0 ≤ k ≤ N ∧ k < N\n",
    "```\n",
    "\n",
    "Condition (2.2) holds as:\n",
    "\n",
    "```algorithm\n",
    "    (∀ i ∈ 0 .. k – 1 • c(i) = a(i) + b(i)) ∧ 0 ≤ k ≤ N ∧ k ≥ N\n",
    "≡        {E ≥ F ∧ E ≤ F ≡ E = F for any E, F; assumption N ≥ 0}\n",
    "    (∀ i ∈ 0 .. k – 1 • c(i) = a(i) + b(i)) ∧ k = N\n",
    "⇒        {substitution of equals for equals, weakening}\n",
    "    (∀ i ∈ 0 .. N – 1 • c(i) = a(i) + b(i))\n",
    "```"
   ]
  },
  {
   "cell_type": "markdown",
   "metadata": {
    "slideshow": {
     "slide_type": "slide"
    },
    "tags": []
   },
   "source": [
    "## Undefinedness and Conditional Evaluation"
   ]
  },
  {
   "cell_type": "markdown",
   "metadata": {
    "jp-MarkdownHeadingCollapsed": true,
    "slideshow": {
     "slide_type": "-"
    },
    "tags": []
   },
   "source": [
    "In mathematics, `E = E` is universally true even if `E` is `1/0`! In programs, evaluating `E = E` may result in an error.\n",
    "\n",
    "- Programming languages detect *programming errors*, for example, when a division by zero or an array access out of its domain is attempted, and no reasonable course of action is possible.\n",
    "\n",
    "- Errors also arise due to *machine limitations*, like the finiteness of integers and the approximation of real numbers by floating point numbers."
   ]
  },
  {
   "cell_type": "markdown",
   "metadata": {
    "slideshow": {
     "slide_type": "-"
    }
   },
   "source": [
    "The correctness rules so far were idealized: they ignored the potential undefinedness of expressions. The rules are now extended to guarantee the absence of such errors arising from undefinedness."
   ]
  },
  {
   "cell_type": "markdown",
   "metadata": {
    "slideshow": {
     "slide_type": "slide"
    }
   },
   "source": [
    "<img style=\"float:right;border-left:6em solid white\" src=\"./img/PlusTwice.svg\"/>\n",
    "\n",
    "So far, the same expression appeared in programs and in annotations. Now we distinguish between expressions in annotations and _program expressions_.\n",
    "\n",
    "The same operator, like `+`, can appear in annotations and in programs, but with a different meaning: in annotations, `+` is mathematical addition, and in programs, `+` can overflow."
   ]
  },
  {
   "cell_type": "markdown",
   "metadata": {
    "slideshow": {
     "slide_type": "slide"
    }
   },
   "source": [
    "We write `and`, `or` for _conditional_ conjunction and disjunction in program expressions. Consider the following program, the _linear search_ of `key: T` in array `a: 0 .. N – 1 → T`:\n",
    "\n",
    "```algorithm\n",
    "k := 0\n",
    "while k < N and a(k) ≠ key do\n",
    "    k := k + 1\n",
    "```\n",
    "\n",
    "The evaluation of `E and F` is conditional: if `E` is `false`, the result is `false` and `F` is not evaluated. "
   ]
  },
  {
   "cell_type": "markdown",
   "metadata": {
    "slideshow": {
     "slide_type": "-"
    }
   },
   "source": [
    "This is essential in the above linear search, as when the search reaches `k = N` (in case `key` is not in `a`), `k < N` is false and `a(k) ≠ key` is not evaluated: if it were, it would lead to an error as `a` would be indexed outside its domain! Therefore, taking `a(k) ≠ key and k < N` as the guard would be incorrect."
   ]
  },
  {
   "cell_type": "markdown",
   "metadata": {
    "slideshow": {
     "slide_type": "slide"
    }
   },
   "source": [
    "Similarly, `E or F` is evaluated conditionally: if `E` is true, the result is `true` and `F` is not evaluated. Suppose `text: 0 .. L – 1 → char` and `EOL` is a constant of type `char`. Suppose that end-of-line is reached either at the end of `text` or at an `EOL` character:\n",
    "\n",
    "```algorithm\n",
    "eol   :=   (pos = L   or    text(pos) = EOL)\n",
    "```\n",
    "\n",
    "Here, `text(pos)` is not evaluated if `pos = L`.\n",
    "\n",
    "In general, if `E and F`, `E or F` evaluate successfully, the value is that of `E ∧ F`, `E ∨ F`."
   ]
  },
  {
   "cell_type": "markdown",
   "metadata": {
    "slideshow": {
     "slide_type": "-"
    }
   },
   "source": [
    "_Notation:_ Different notations are common for conditional conjunction and disjunction: `cand`, `cor` (Dijkstra); `and then`, `or else` (Eiffel); `&&`, `||` (C, Java, C#, Swift); `and`, `or` (Pascal, Python, here)."
   ]
  },
  {
   "cell_type": "markdown",
   "metadata": {
    "slideshow": {
     "slide_type": "slide"
    }
   },
   "source": [
    "For program expression `E`, we consider its\n",
    "- _value_ `E'`, a mathematical expression to what it evaluates, and its\n",
    "- _definedness_ `∆E`, a mathematical expression telling when the evaluation succeeds.\n",
    "\n",
    "For example, if machine arithmetic is _bounded,_ the result of an arithmetic operation has to be between the minimal and maximal representable integer. If the word size is 32 bits, unsigned integers can only be less than 2³²:\n",
    "\n",
    "| value                       | definedness                |                                                                                |\n",
    "|:---------------------------|:------------------------------|:----------------------------------------------------------------|\n",
    "| `(x + y)' = x + y`       | `∆(x + y) ≡ x + y < 2³²` | where `x`, `y` are unsigned integer variables |\n",
    "| `(x div y)' = x div y` | `∆(x div y) ≡ y ≠ 0`      |  where `x`, `y` are unsigned integer variables |\n",
    "\n",
    "In `(x + y)' = x + y`, the first occurrence is a programming operator, and the second is a mathematical operator. Some programming languages use arithmetic _modulo_ the word size:\n",
    "\n",
    "| value                                    | definedness         |                                                                                |\n",
    "|:-------------------------------------|:-------------------------|:----------------------------------------------------------------|\n",
    "| `(x + y)' = (x + y) mod 2³²`  | `∆(x + y) ≡ true`    | where `x`, `y` are unsigned integer variables |\n",
    "| `(x div y)' = x div y`             | `∆(x div y) ≡ y ≠ 0` | where `x`, `y` are unsigned integer variables |\n",
    "\n",
    "In _saturating_ arithmetic, the result is capped at the maximal representable value (this is used in signal processing):\n",
    "\n",
    "| value                                        | definedness          |                                                                                |\n",
    "|:----------------------------------------|:--------------------------|:----------------------------------------------------------------|\n",
    "| `(x + y)' = min(x + y, 2³² – 1)`  | `∆(x + y) ≡ true`     | where `x`, `y` are unsigned integer variables |\n",
    "| `(x div y)' = x div y`                  | `∆(x div y) ≡ y ≠ 0` | where `x`, `y` are unsigned integer variables |"
   ]
  },
  {
   "cell_type": "markdown",
   "metadata": {
    "slideshow": {
     "slide_type": "slide"
    }
   },
   "source": [
    "Value and definedness are defined over the structure of program expressions:\n",
    "\n",
    "| value           | definedness           |                                                  |\n",
    "|:----------------|:----------------------|:-------------------------------------------------|\n",
    "| `c' = c`        | `∆c ≡ true`           | where `c` is constant `true`, `false`, `0`, `1`, ... |\n",
    "| `x' = x`        | `∆x ≡ true`           | where `x` is a variable                          |\n",
    "| `x(E)' = x(E')` | `∆x(E) ≡ ∆E ∧ E' ∈ D` | where `x : D → T` and `E` is an expression       |\n",
    "\n",
    "The corresponding values are not changed."
   ]
  },
  {
   "cell_type": "markdown",
   "metadata": {
    "slideshow": {
     "slide_type": "slide"
    }
   },
   "source": [
    "Assuming that signed integers are bounded between `minint` and `maxint` and have for value and definedness in bounded arithmetic, assuming `E`, `F` are integer expressions:\n",
    "\n",
    "| value                    | definedness                                      |\n",
    "|:-------------------------|:-------------------------------------------------|\n",
    "| `(–E)' = –E'`            | `∆(–E) = ∆E ∧ minint ≤ –E' ≤ maxint`             |\n",
    "| `(E + F)' = E' + F'`     | `∆(E + F) = ∆E ∧ ∆F ∧ minint ≤ E' + F' ≤ maxint` |\n",
    "| `(E – F)' = E' – F'`     | `∆(E – F) = ∆E ∧ ∆F ∧ minint ≤ E' – F' ≤ maxint` |\n",
    "| `(E × F)' = E' × F'`     | `∆(E × F) = ∆E ∧ ∆F ∧ minint ≤ E' × F' ≤ maxint` |\n",
    "| `(E div F)' = E' div F'` | `∆(E div F) = ∆E ∧ ∆F ∧ F' ≠ 0`                  |\n",
    "| `(E mod F)' = E' mod F'` | `∆(E mod F) = ∆E ∧ ∆F ∧ F' ≠ 0`                  |"
   ]
  },
  {
   "cell_type": "markdown",
   "metadata": {
    "slideshow": {
     "slide_type": "slide"
    }
   },
   "source": [
    "Boolean operators are _strict_ in that all operands have to be defined, like arithmetic operators, except for `and`, `or`, which are conditional. Assuming `B`, `C` are Boolean expressions and `E`, `F` expressions of the same type, we have:\n",
    "\n",
    "| value                          | definedness                           |\n",
    "|:-----------------------------|:---------------------------------------|\n",
    "| `(¬B)' = ¬B'`                | `∆(¬B) = ∆B`                            |                 \n",
    "| `(B and C)' = B' ∧ C'` | `∆(B and C) = ∆B ∧ (B' ⇒ ∆C)` |\n",
    "| `(B or C)' = B' ∨ C'`    | `∆(B or C) = ∆B ∧ (B' ∨ ∆C)`   |\n",
    "| `(E = F)' = (E' = F')`     | `∆(E = F) = ∆E ∧ ∆F`                |\n",
    "| `(E < F)' = (E' < F')`     | `∆(E < F) = ∆E ∧ ∆F`                |\n",
    "| `(E ≤ F)' = (E' ≤ F')`     | `∆(E ≤ F) = ∆E ∧ ∆F`                |\n",
    "| `...`                              | `...`                                           |\n",
    "\n",
    "Conditional `and`, `or` appear only in programs, mathematical `∧`, `∨` appear only in annotations."
   ]
  },
  {
   "cell_type": "markdown",
   "metadata": {
    "slideshow": {
     "slide_type": "slide"
    }
   },
   "source": [
    "As an example, we determine the definedness of `k < N and a(k) ≠ key` in the above linear search, repeated to the right:\n",
    "\n",
    "<span style = \"float:right;border-left:1em solid transparent\">\n",
    "\n",
    "```algorithm\n",
    "k := 0\n",
    "while k < N and a(k) ≠ key do\n",
    "    k := k + 1\n",
    "```\n",
    "\n",
    "</span>\n",
    "\n",
    "```algorithm\n",
    "    ∆(k < N and a(k) ≠ key)\n",
    "≡        {by ∆ of and}\n",
    "    ∆(k < N) ∧ ((k < N)' ⇒ ∆(a(k) ≠ key))\n",
    "≡        {by ∆ of <, ≠ and ' of <}\n",
    "    ∆k ∧ ∆N ∧ (k < N ⇒ ∆a(k) ∧ ∆key))\n",
    "≡        {by ∆ of variable, constant; simplification}\n",
    "    k < N ⇒ ∆a(k)\n",
    "≡        {by ∆ of indexing}\n",
    "    k < N ⇒ k ∈ 0 .. N – 1\n",
    "≡        {as k ∈ 0 .. N – 1 ≡ 0 ≤ k < N; logic}\n",
    "    k < N ⇒ 0 ≤ k\n",
    "```"
   ]
  },
  {
   "cell_type": "markdown",
   "metadata": {
    "slideshow": {
     "slide_type": "slide"
    }
   },
   "source": [
    "The correctness rules are revised to take the undefinedness of expressions into account.\n",
    "\n",
    "**Extended rules for correctness of statements:**"
   ]
  },
  {
   "cell_type": "markdown",
   "metadata": {
    "slideshow": {
     "slide_type": "-"
    }
   },
   "source": [
    "<div style=\"display:table; border-left:2em solid transparent\">\n",
    "  <div style = \"display:table-cell; vertical-align:middle\">\n",
    "    <code>{P} x, y := E, F {Q}</code> <br><br>\n",
    "    <code>{P} S ; T {R}</code> <br><br>\n",
    "    <code>{P} if B then S else T {Q}</code> <br><br>\n",
    "    <code>{P} if B then S {Q}</code> <br><br>\n",
    "    <code>{P} while B do S {Q}</code>\n",
    "  </div>\n",
    "  <div style = \"display:table-cell; vertical-align:middle\" >\n",
    "    if <code>P ⇒ ∆E ∧ ∆F ∧ Q[x, y := E', F']</code> <br><br>\n",
    "    if <code>{P} S {Q}</code> and <code>{Q} T {R}</code> <br><br>\n",
    "    if <code>P ⇒ ∆B</code> and <code>{P ∧ B'} S {Q}</code> and <code>{P ∧ ¬B'} T {Q}</code> <br><br>\n",
    "    if <code>P ⇒ ∆B</code> and <code>{P ∧ B'} S {Q}</code> and <code>P ∧ ¬B' ⇒ Q</code> <br><br>\n",
    "    if <code>P ⇒ ∆B</code> and <code>{P ∧ B'} S {P}</code> and <code>P ∧ ¬B' ⇒ Q</code>\n",
    "  </div>\n",
    "</div>"
   ]
  },
  {
   "cell_type": "markdown",
   "metadata": {
    "editable": true,
    "slideshow": {
     "slide_type": "slide"
    },
    "tags": []
   },
   "source": [
    "A possible annotation for the linear search is:\n",
    "\n",
    "```algorithm\n",
    "{P: true}\n",
    "k := 0\n",
    "{Q: (∀ i ∈ 0 .. k – 1 • a(i) ≠ key) ∧ 0 ≤ k ≤ N}\n",
    "while k < N and a(k) ≠ key do\n",
    "    k := k + 1\n",
    "{R: (∀ i ∈ 0 .. k – 1 • a(i) ≠ key) ∧ 0 ≤ k ≤ N ∧ (k < N ⇒ a(k) = key)}\n",
    "```\n",
    "\n",
    "The correctness follows from applying the extended rules for sequential composition and repetition:\n",
    "\n",
    "<span style = \"float:left;border-right:1em solid transparent\">(1)</span>\n",
    "\n",
    "```algorithm\n",
    "{P}\n",
    "k := 0\n",
    "{Q}\n",
    "```\n",
    "\n",
    "<span style = \"float:left;border-right:1em solid transparent\">(2.1)</span>\n",
    "\n",
    "```algorithm\n",
    "Q ⇒ ∆(k < N and a(k) ≠ key)\n",
    "```\n",
    "\n",
    "<span style = \"float:left;border-right:1em solid transparent\">(2.2)<br><br></span>\n",
    "\n",
    "```algorithm\n",
    "{Q ∧ (k < N and a(k) ≠ key)'}\n",
    "k := k + 1\n",
    "{Q}\n",
    "```\n",
    "\n",
    "<span style = \"float:left;border-right:1em solid white\">(2.3)</span>\n",
    "\n",
    "```algorithm\n",
    "Q ∧ ¬(k < N and a(k) ≠ key)' ⇒ R\n",
    "```"
   ]
  },
  {
   "cell_type": "markdown",
   "metadata": {
    "slideshow": {
     "slide_type": "skip"
    },
    "solution": "hidden",
    "solution_first": true
   },
   "source": [
    "*Question:* Above postcondition specifies that `k` is the index of the first occurrence of `key`. How can you weaken the postcondition to allow `k` to be the index of any occurrence?"
   ]
  },
  {
   "cell_type": "markdown",
   "metadata": {
    "jupyter": {
     "source_hidden": true
    },
    "solution": "hidden",
    "tags": []
   },
   "source": [
    "*Answer:* \n",
    "`0 ≤ k ≤ N ∧ (k < N ⇒ a(k) = key)`"
   ]
  },
  {
   "cell_type": "markdown",
   "metadata": {
    "slideshow": {
     "slide_type": "slide"
    },
    "tags": []
   },
   "source": [
    "## Program Development: Minimal Segment Sum"
   ]
  },
  {
   "cell_type": "markdown",
   "metadata": {
    "slideshow": {
     "slide_type": "-"
    }
   },
   "source": [
    "For an array `f: 0 .. N – 1 → integer`, the *segment sum* `ss(i, j)` for `0 ≤ i ≤ j ≤ N` is defined as:\n",
    "```algorithm\n",
    "ss(i, j) = (∑ h ∈ i .. j – 1 • f(h))\n",
    "```\n",
    "The *minimal segment sum* is the smallest segment sum in an array:\n",
    "```algorithm\n",
    "(MIN i ∈ 0 .. N, j ∈ i .. N • ss(i, j))\n",
    "```\n",
    "For example, if `f = [1, 2, –3, 0, 2, –9, 7]`, the minimal segment sum is `–10`. Since the empty segment is allowed and has a sum of `0`, the minimal segment sum can be at most `0`. The number of combinations of `i` and `j` are `N + 1` (for `i = 0`) plus `N` (for `i = 1`) plus `N – 1` (for `i = 2`) etc., so in total `(N + 1) × (N + 2) / 2`. For each combination of `i` and `j`, in the order of `N` additions have to be carried out. A naive program, therefore, requires time proportional to `N³`. How can a more efficient program be obtained?"
   ]
  },
  {
   "cell_type": "markdown",
   "metadata": {
    "slideshow": {
     "slide_type": "slide"
    }
   },
   "source": [
    "Obviously, all values of `f` need to be consulted, so the approach is to iterate over all elements from `n = 0` to `N – 1`. Let `P0(n)` be the invariant of the loop and let the final value of `x` be the minimal segment sum,\n",
    "\n",
    "```algorithm\n",
    "\"establish n = 0 and P0(0)\"\n",
    "{P0(n)}\n",
    "while n < N do\n",
    "    \"modify x\"\n",
    "    {n < N ∧ P0(n + 1)}\n",
    "    n := n + 1\n",
    "    {P0(n)}\n",
    "```\n",
    "\n",
    "where:\n",
    "\n",
    "```\n",
    "P0(n) ≡ 0 ≤ n ≤ N ∧ x = (MIN i ∈ 0 .. n, j ∈ i .. n • ss(i, j))\n",
    "```"
   ]
  },
  {
   "cell_type": "markdown",
   "metadata": {
    "slideshow": {
     "slide_type": "slide"
    }
   },
   "source": [
    "For `\"establish n = 0 and P0(0)\"` we immediately get\n",
    "```algorithm\n",
    "n, x := 0, 0\n",
    "```\n",
    "from the definiton of `P0(n)`. For `\"modify x\"`, the precondition is `n < N ∧ P0(n)`; for its postcondition, we have:\n",
    "```algorithm\n",
    "    P0(n + 1)\n",
    "=       {by definition of P0}\n",
    "    x = (MIN i ∈ 0 .. n + 1, j ∈ i .. n + 1 • ss(i, j))\n",
    "=       {by case analysis j = n + 1 and j ≠ n + 1}\n",
    "    x = min((MIN i ∈ 0 .. n + 1, j ∈ i .. n • ss(i, j)),\n",
    "            (MIN i ∈ 0 .. n + 1 • ss(i, n + 1)))\n",
    "=       {}\n",
    "    x = min((MIN i ∈ 0 .. n, j ∈ i .. n • ss(i, j)),\n",
    "            (MIN i ∈ 0 .. n + 1 • ss(i, n + 1)))\n",
    "```\n",
    "The first argument of `min` appears in the precondition, `P0(n)`, suggesting for `\"modify x\"`:\n",
    "```algorithm\n",
    "x := min(x, (MIN i ∈ 0 .. n + 1 • ss(i, n + 1)))\n",
    "```"
   ]
  },
  {
   "cell_type": "markdown",
   "metadata": {
    "slideshow": {
     "slide_type": "slide"
    }
   },
   "source": [
    "A direct implementation of `MIN` would make the overall runtime still proportional to `N³`, but we can improve further. The shape of the expression suggests to intoduce a new variable, say `y`, with the invariant\n",
    "```\n",
    "P1(n) ≡ y = (MIN i ∈ 0 .. n • ss(i, n))\n",
    "```\n",
    "and update `y` in the loop. Thus the program becomes\n",
    "```algorithm\n",
    "\"establish n = 0 and P0(0) and P1(0)\"\n",
    "{P0(n) ∧ P1(n)}\n",
    "while n < N do\n",
    "    \"modify y\"\n",
    "    {n < N ∧ P0(n) ∧ P1(n + 1)}\n",
    "    x := min(x, y)\n",
    "    {n < N ∧ P0(n + 1) ∧ P1(n + 1)}\n",
    "    n := n + 1\n",
    "    {P0(n) ∧ P1(n)}\n",
    "```"
   ]
  },
  {
   "cell_type": "markdown",
   "metadata": {
    "slideshow": {
     "slide_type": "slide"
    }
   },
   "source": [
    "For `\"establish n = 0 and P0(0) and P1(0)\"` we now get:\n",
    "```algorithm\n",
    "n, x, y := 0, 0, 0\n",
    "```\n",
    "The precondition of `\"modify y\"` is `n < N ∧ P0(n) ∧ P1(n)`. For the postcondition, we have:\n",
    "```algorithm\n",
    "    P1(n + 1)\n",
    "=       {by definition of P1}\n",
    "    y = (MIN i ∈ 0 .. n + 1 • ss(i, n + 1))\n",
    "=       {by case analysis i = n + 1 and i ≠ n + 1}\n",
    "    y = min((MIN i ∈ 0 .. n • ss(i, n + 1)), ss(n + 1, n + 1))\n",
    "=       {by definition of ss, empty summation}\n",
    "    y = min((MIN i ∈ 0 .. n • ss(i, n) + f(n)), 0)\n",
    "=       {i does not appear in f(n)}\n",
    "    y = min((MIN i ∈ 0 .. n • ss(i, n)) + f(n), 0)\n",
    "```\n",
    "The first argument of `min` appears in the precondition `P1(n)`, suggesting for `\"modify y\"`:\n",
    "```algorithm\n",
    "y := min(y + f(n), 0)\n",
    "```"
   ]
  },
  {
   "cell_type": "markdown",
   "metadata": {
    "slideshow": {
     "slide_type": "slide"
    }
   },
   "source": [
    "The resulting program, without annotations, becomes\n",
    "```algorithm\n",
    "n, x, y := 0, 0, 0\n",
    "while n < N do\n",
    "    y := min(y + f(n), 0)\n",
    "    x := min(x, y)\n",
    "    n := n + 1\n",
    "```\n",
    "or, when replacing `min` with conditional statements and exploiting the additional invariant `x ≤ 0`:\n",
    "```algorithm\n",
    "n, x, y := 0, 0, 0\n",
    "while n < N do\n",
    "    y := y + f(n)\n",
    "    if y ≥ 0 then y := 0\n",
    "    else if x > y then x := y\n",
    "    n := n + 1\n",
    "```\n",
    "This program has a running time proportional to `N`."
   ]
  },
  {
   "cell_type": "markdown",
   "metadata": {
    "slideshow": {
     "slide_type": "skip"
    },
    "solution": "shown",
    "solution_first": true,
    "tags": []
   },
   "source": [
    "*Question:* How would you implement the cubic and the linear version in your favourite programming language and time them with a \"large\" array?"
   ]
  },
  {
   "cell_type": "code",
   "execution_count": 1,
   "metadata": {
    "slideshow": {
     "slide_type": "skip"
    },
    "solution": "shown",
    "tags": []
   },
   "outputs": [
    {
     "data": {
      "text/plain": [
       "-10"
      ]
     },
     "execution_count": 1,
     "metadata": {},
     "output_type": "execute_result"
    }
   ],
   "source": [
    "def minSegSumCubic(f):\n",
    "    return min(sum(f[i:j]) for i in range(0, len(f) + 1) for j in range(i, len(f) + 1))\n",
    "\n",
    "minSegSumCubic([1, 2, -3, 0, 2, -9, 7])"
   ]
  },
  {
   "cell_type": "code",
   "execution_count": 2,
   "metadata": {
    "scrolled": true,
    "slideshow": {
     "slide_type": "skip"
    },
    "solution": "shown",
    "tags": []
   },
   "outputs": [
    {
     "name": "stdout",
     "output_type": "stream",
     "text": [
      "CPU times: user 1.53 s, sys: 285 µs, total: 1.53 s\n",
      "Wall time: 1.53 s\n"
     ]
    }
   ],
   "source": [
    "#input is: 0, -2, 4, -6, 8, -10, 12, -14, ..., - 2 * 999\n",
    "%time assert minSegSumCubic([2 * (-1) ** n * n for n in range(1000)]) == - 999 * 2"
   ]
  },
  {
   "cell_type": "code",
   "execution_count": 3,
   "metadata": {
    "slideshow": {
     "slide_type": "skip"
    },
    "solution": "shown",
    "tags": []
   },
   "outputs": [
    {
     "data": {
      "text/plain": [
       "-10"
      ]
     },
     "execution_count": 3,
     "metadata": {},
     "output_type": "execute_result"
    }
   ],
   "source": [
    "def minSegSumLinear(f):\n",
    "    n, x, y = 0, 0, 0\n",
    "    for n in range(len(f)):\n",
    "        y += f[n]\n",
    "        if y >= 0: y = 0\n",
    "        else:\n",
    "            if x > y: x = y\n",
    "    return x\n",
    "\n",
    "minSegSumLinear([1, 2, -3, 0, 2, -9, 7])"
   ]
  },
  {
   "cell_type": "code",
   "execution_count": 4,
   "metadata": {},
   "outputs": [
    {
     "name": "stdout",
     "output_type": "stream",
     "text": [
      "CPU times: user 268 µs, sys: 0 ns, total: 268 µs\n",
      "Wall time: 273 µs\n"
     ]
    }
   ],
   "source": [
    "%time assert minSegSumLinear([2 * (-1) ** n * n for n in range(1000)]) == - 999 * 2"
   ]
  },
  {
   "cell_type": "markdown",
   "metadata": {
    "slideshow": {
     "slide_type": "slide"
    },
    "tags": []
   },
   "source": [
    "## Program Development: Printing Images"
   ]
  },
  {
   "cell_type": "markdown",
   "metadata": {
    "slideshow": {
     "slide_type": "-"
    }
   },
   "source": [
    "Larger programs are decomposed into _modules_ that may have _private_ variables which can only be accessed through _public_ procedures, a principle known as _encapsulation_. While the inner workings of a module may be intricate, the module's specification should remain simple.\n",
    "\n",
    "The following development illustrates how a module is specified with _abstract variables_, which are used in annotations. The example also shows how to reason about program output."
   ]
  },
  {
   "cell_type": "markdown",
   "metadata": {
    "slideshow": {
     "slide_type": "slide"
    }
   },
   "source": [
    "The task is to print a picture given by the arrays `fx`, `fy`, where\n",
    "\n",
    "```algorithm\n",
    "∀ i ∈ 0 .. N – 1 • 0 ≤ fx(i) < X  ∧  0 ≤ fy(i) < Y\n",
    "```\n",
    "That means with each input of `i` from `0` to `N – 1`, two functions `fx(i)` and `fy(i)` indicate each printed point.   \n",
    "\n",
    "We assume that the printer prints only one black dot at a time and starts at the upper left corner. The printer is controlled by the following commands:\n",
    "\n",
    "- `newLine`: start a new line at the leftmost position\n",
    "- `advance`: move the print head one position to the right\n",
    "- `print`: print a dot and move one position to the right"
   ]
  },
  {
   "cell_type": "markdown",
   "metadata": {
    "slideshow": {
     "slide_type": "slide"
    }
   },
   "source": [
    "The state of the printer is represented by the state of the paper and the coordinates of the print head. Each dot on the paper is represented by a boolean value, `true` for black and `false` for white.\n",
    "\n",
    "```algorithm\n",
    "var paper: 0 .. X – 1 × 0 .. Y – 1 → bool     // paper is a 2D array\n",
    "var hx, hy: integer                                       // the position of the printer.\n",
    "```\n",
    "\n",
    "```algorithm\n",
    "newLine:\n",
    "    hx, hy := 0, hy + 1\n",
    "advance:\n",
    "    hx := hx + 1\n",
    "print:\n",
    "    paper(hx, hy) := true ; hx := hx + 1\n",
    "```"
   ]
  },
  {
   "cell_type": "markdown",
   "metadata": {
    "slideshow": {
     "slide_type": "slide"
    }
   },
   "source": [
    "Initially, the paper is blank, and the print head is at the origin:\n",
    "\n",
    "```algorithm\n",
    "P0: (∀ i ∈ 0 .. X – 1, j ∈ 0 .. Y – 1  •  ¬paper(i, j))   ∧   hx = 0 ∧ hy = 0\n",
    "```\n",
    "The printing task is then specified by:\n",
    "\n",
    "```algorithm\n",
    "{P1: P0 ∧ (∀ i ∈ 0 .. N – 1    •    0 ≤ fx(i) < X ∧ 0 ≤ fy(i) < Y)}\n",
    "printPicture\n",
    "{∀ i ∈ 0 .. X – 1, j ∈ 0 .. Y – 1   • \n",
    "    paper(i, j) = (∃ k ∈ 0 .. N – 1   •   i = fx(k)  ∧   j = fy(k))}\n",
    "```"
   ]
  },
  {
   "cell_type": "markdown",
   "metadata": {
    "slideshow": {
     "slide_type": "slide"
    }
   },
   "source": [
    "The approach is first to build the whole image in memory and then to print it. To this end, we declare a variable of the size of the paper:\n",
    "\n",
    "```algorithm\n",
    "printPicture:\n",
    "    var image: 0 .. X – 1 × 0 .. Y – 1 → bool\n",
    "        buildImage\n",
    "        {P0 ∧ ∀ i ∈ 0 .. X – 1, j ∈ 0 .. Y – 1 •\n",
    "            image(i, j) = (∃ k ∈ 0 .. N – 1 • i = fx(k) ∧ j = fy(k))}\n",
    "        printImage\n",
    "        {paper = image}\n",
    "```"
   ]
  },
  {
   "cell_type": "markdown",
   "metadata": {
    "slideshow": {
     "slide_type": "slide"
    }
   },
   "source": [
    "We refine `buildImage`: first, `image` is cleared, and then the dots are set:\n",
    "\n",
    "```algorithm\n",
    "buildImage:\n",
    "    clearImage\n",
    "    {P1 ∧ (∀ i ∈ 0 .. X – 1, j ∈ 0 .. Y – 1 • ¬image(i, j))}\n",
    "    markDots\n",
    "```"
   ]
  },
  {
   "cell_type": "markdown",
   "metadata": {
    "slideshow": {
     "slide_type": "slide"
    }
   },
   "source": [
    "We refine `clearImage` by clearing all lines:\n",
    "\n",
    "```algorithm\n",
    "clearImage:\n",
    "    var y : integer\n",
    "        y := 0\n",
    "        {P2: P1 ∧ (∀ i ∈ 0 .. X – 1, j ∈ 0 .. y – 1 • ¬image(i, j))}\n",
    "        while y < Y do\n",
    "            clearLine(y) ; y := y + 1\n",
    "```\n",
    "\n",
    "We refine `clearLine(y)` by clearing all dots of line `y`:\n",
    "\n",
    "```algorithm\n",
    "clearLine(y):\n",
    "    var x : integer\n",
    "        x := 0\n",
    "        {P2 ∧ (∀ i ∈ 0 .. x – 1 • ¬image(i, y))}\n",
    "        while x < X do\n",
    "            image(x, y) := false ; x := x + 1\n",
    "```"
   ]
  },
  {
   "cell_type": "markdown",
   "metadata": {
    "slideshow": {
     "slide_type": "slide"
    }
   },
   "source": [
    "We refine `markDots` by iterating over all `N` dots to be drawn:\n",
    "\n",
    "```algorithm\n",
    "markDots:\n",
    "    var n : integer\n",
    "        n := 0\n",
    "        {∀ x ∈ 0 .. X – 1, y ∈ 0 .. Y – 1 •\n",
    "            image(x, y) = (∃ i ∈ 0 .. n – 1 • x = fx(i) ∧ y = fy(i))}\n",
    "        while n < N do\n",
    "            image(fx(n), fy(n)) := true ; n := n + 1\n",
    "```"
   ]
  },
  {
   "cell_type": "markdown",
   "metadata": {
    "slideshow": {
     "slide_type": "slide"
    }
   },
   "source": [
    "We refine `printImage` by printing all lines from top to bottom:\n",
    "\n",
    "```algorithm\n",
    "printImage:\n",
    "    var y : integer\n",
    "        y := 0\n",
    "        {P3: hy = y ∧ ∀ i ∈ 0 .. X – 1, j ∈ 0 .. y – 1 •\n",
    "            paper(i, j) = image(i, j)   ∧  \n",
    "            paper(i, j) = (∃ k ∈ 0 .. N – 1  •  i = fx(k)  ∧   j = fy(k))}\n",
    "        while y < Y do\n",
    "            printLine(y) ; newLine ; y := y + 1\n",
    "```\n",
    "\n",
    "Finally we refine `printLine(y)` by printing all dots of a line:\n",
    "\n",
    "```algorithm\n",
    "printLine(y):\n",
    "    var x : integer\n",
    "        x := 0\n",
    "        {P3  ∧  hx = x ∧ (∀ i ∈ 0 .. x – 1 •\n",
    "            paper(i, y) = (∃ k ∈ 0 .. N – 1   •   i = fx(k)   ∧   y = fy(k)))}\n",
    "        while x < X do\n",
    "            if image(x, y) then print else advance\n",
    "            x := x + 1\n",
    "```"
   ]
  },
  {
   "cell_type": "markdown",
   "metadata": {
    "slideshow": {
     "slide_type": "slide"
    }
   },
   "source": [
    "By putting all the parts together, we arrive at the complete program:\n",
    "\n",
    "```algorithm\n",
    "printPicture:\n",
    "    var image: 0 .. X – 1 × 0 .. Y – 1 → bool      // image is a 2D array\n",
    "    var x, y, n : integer\n",
    "\n",
    "    y := 0\n",
    "    while y < Y do        // clear the image\n",
    "        x := 0\n",
    "        while x < X do    // clear the image for each line\n",
    "            image(x, y) := false ; x := x + 1\n",
    "        y := y + 1\n",
    "    \n",
    "    n := 0\n",
    "    while n < N do        // markdot to the image \n",
    "        image(fx(n), fy(n)) := true ; n := n + 1\n",
    "    \n",
    "    y := 0\n",
    "    while y < N do        // print to the paper\n",
    "        x := 0\n",
    "        while x < X do    // print to the paper for each line\n",
    "            if image(x, y) then print else advance\n",
    "            x := x + 1\n",
    "        newLine ; y := y + 1\n",
    "```"
   ]
  },
  {
   "cell_type": "markdown",
   "metadata": {
    "slideshow": {
     "slide_type": "slide"
    }
   },
   "source": [
    "The formal proof is laborious as intermediate annotations get long. For example, `P0` has to be \"carried along\" in all intermediate annotations of  `buildImage` to be available as a precondition of `printImage`.\n",
    "\n",
    "The following two rules help to reason with smaller annotations:\n",
    "\n",
    "**Rules for simplification of correctness reasoning**\n",
    "\n",
    "<div style=\"display:table; border-top:1em solid transparent\">\n",
    "  <div style = \"display:table-cell; border-left:24px solid transparent; vertical-align:middle\">\n",
    "    <code>{P} S {P}</code> <br><br>\n",
    "    <code>{P0 ∧ P1} S {Q0 ∧ Q1}</code>\n",
    "  </div>\n",
    "  <div style = \"display:table-cell; border-left:24px solid transparent; vertical-align:middle\" >\n",
    "    if variables assigned in <code>S</code> do not occur in <code>P</code> <br><br>\n",
    "    if &nbsp; <code>{P0} S {Q0}</code> &nbsp; and &nbsp; <code>{P1} S {Q1}</code>\n",
    "  </div>\n",
    "</div>"
   ]
  },
  {
   "cell_type": "markdown",
   "metadata": {
    "slideshow": {
     "slide_type": "slide"
    },
    "tags": []
   },
   "source": [
    "## Historic Notes and Further Reading"
   ]
  },
  {
   "cell_type": "markdown",
   "metadata": {
    "slideshow": {
     "slide_type": "slide"
    }
   },
   "source": [
    "Historically, nondeterminism was first connected to concurrent programs. However, nondeterminism allows writing programs more abstractly. Nondeterminism commonly arises in the specification of programs to allow the implementation more freedom.\n",
    "\n",
    "Here is an example from the [Python documentation](https://docs.python.org/3/library/stdtypes.html#set-types-set-frozenset) of built-in sets:\n",
    "> **pop()**\n",
    "> Remove and return an arbitrary element from the set. Raises KeyError if the set is empty."
   ]
  },
  {
   "cell_type": "markdown",
   "metadata": {
    "slideshow": {
     "slide_type": "slide"
    }
   },
   "source": [
    "## References"
   ]
  },
  {
   "cell_type": "markdown",
   "metadata": {},
   "source": []
  }
 ],
 "metadata": {
  "kernelspec": {
   "display_name": "Python 3 (ipykernel)",
   "language": "python",
   "name": "python3"
  },
  "language_info": {
   "codemirror_mode": {
    "name": "ipython",
    "version": 3
   },
   "file_extension": ".py",
   "mimetype": "text/x-python",
   "name": "python",
   "nbconvert_exporter": "python",
   "pygments_lexer": "ipython3",
   "version": "3.13.0"
  },
  "livereveal": {
   "history": true,
   "margin": "0.01",
   "progress": true,
   "scroll": true,
   "start_slideshow_at": "selected"
  },
  "rise": {
   "enable_chalkboard": true
  },
  "toc": {
   "base_numbering": 1,
   "nav_menu": {},
   "number_sections": false,
   "sideBar": false,
   "skip_h1_title": true,
   "title_cell": "Table of Contents",
   "title_sidebar": "Contents",
   "toc_cell": false,
   "toc_position": {},
   "toc_section_display": true,
   "toc_window_display": false
  },
  "toc-autonumbering": false
 },
 "nbformat": 4,
 "nbformat_minor": 4
}
