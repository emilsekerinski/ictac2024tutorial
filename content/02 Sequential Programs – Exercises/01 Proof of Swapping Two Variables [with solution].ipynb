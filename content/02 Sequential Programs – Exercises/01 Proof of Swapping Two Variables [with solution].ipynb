{
 "cells": [
  {
   "cell_type": "markdown",
   "metadata": {
    "slideshow": {
     "slide_type": "slide"
    }
   },
   "source": [
    "### Proof of Swapping Two Variables"
   ]
  },
  {
   "cell_type": "markdown",
   "metadata": {},
   "source": [
    " Carry out the proof of the program for swapping two variables! The three conditions are:"
   ]
  },
  {
   "cell_type": "markdown",
   "metadata": {
    "tags": []
   },
   "source": [
    "##### 1. `x = A ∧ y = B ⇒ (x - y = A ∧ y = B)[x := x + y]`"
   ]
  },
  {
   "cell_type": "markdown",
   "metadata": {
    "editable": true,
    "slideshow": {
     "slide_type": "slide"
    },
    "tags": []
   },
   "source": [
    "*Complete the solution.* We show that the right-hand side is a consequence of the left-hand side:\n",
    "\n",
    "```algorithm\n",
    "    (x - y = A ∧ y = B)[x := x + y]\n",
    "≡        {... add hint here}\n",
    "    ... continue your proof here\n",
    "```"
   ]
  },
  {
   "cell_type": "markdown",
   "metadata": {
    "editable": true,
    "jupyter": {
     "source_hidden": true
    },
    "slideshow": {
     "slide_type": "slide"
    },
    "tags": []
   },
   "source": [
    "*Answer:*  \n",
    "We show that the right-hand side is a consequence of the left-hand side:\n",
    "\n",
    "```algorithm\n",
    "    (x - y = A ∧ y = B)[x := x + y]\n",
    "≡        {by substitution}\n",
    "    x + y - y = A ∧ y = B\n",
    "≡        {arithmetic}\n",
    "    x = A ∧ y = B\n",
    "```"
   ]
  },
  {
   "cell_type": "markdown",
   "metadata": {},
   "source": [
    "##### 2. `x - y = A ∧ y = B ⇒ (y = A ∧ x - y = B)[y := x - y]`"
   ]
  },
  {
   "cell_type": "markdown",
   "metadata": {},
   "source": [
    "```algorithm\n",
    "Your proof here\n",
    "```"
   ]
  },
  {
   "cell_type": "markdown",
   "metadata": {
    "jupyter": {
     "source_hidden": true
    },
    "solution": "hidden"
   },
   "source": [
    "*Answer:*  \n",
    "We show that the right-hand side is a consequence of the left-hand side:\n",
    "\n",
    "```algorithm\n",
    "    (y = A ∧ x - y = B)[y := x - y]\n",
    "≡        {by substitution}\n",
    "    x - y = A ∧ x - (x - y) = B\n",
    "≡        {arithmetic}\n",
    "    x - y = A ∧ y = B\n",
    "```"
   ]
  },
  {
   "cell_type": "markdown",
   "metadata": {},
   "source": [
    "##### 3. `y = A ∧ x - y = B ⇒ (y = A ∧ x = B)[x := x - y]`"
   ]
  },
  {
   "cell_type": "markdown",
   "metadata": {},
   "source": [
    "```algorithm\n",
    "Your proof here\n",
    "```"
   ]
  },
  {
   "cell_type": "markdown",
   "metadata": {
    "jupyter": {
     "source_hidden": true
    },
    "solution": "hidden"
   },
   "source": [
    "*Answer:*  \n",
    "We again show that the right-hand side is a consequence of the left-hand side:\n",
    "\n",
    "```algorithm\n",
    "    (y = A ∧ x = B)[x := x - y]\n",
    "≡        {by substitution}\n",
    "    y = A ∧ x - y = B\n",
    "```"
   ]
  }
 ],
 "metadata": {
  "kernelspec": {
   "display_name": "Python 3 (ipykernel)",
   "language": "python",
   "name": "python3"
  },
  "language_info": {
   "codemirror_mode": {
    "name": "ipython",
    "version": 3
   },
   "file_extension": ".py",
   "mimetype": "text/x-python",
   "name": "python",
   "nbconvert_exporter": "python",
   "pygments_lexer": "ipython3",
   "version": "3.13.0"
  },
  "toc": {
   "base_numbering": 1
  }
 },
 "nbformat": 4,
 "nbformat_minor": 4
}
