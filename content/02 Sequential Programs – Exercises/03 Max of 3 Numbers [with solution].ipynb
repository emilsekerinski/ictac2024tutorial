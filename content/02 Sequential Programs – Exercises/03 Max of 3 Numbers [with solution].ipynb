{
 "cells": [
  {
   "cell_type": "markdown",
   "metadata": {
    "editable": true,
    "nbgrader": {
     "grade": false,
     "grade_id": "cell-155edc14d3667376",
     "locked": true,
     "schema_version": 3,
     "solution": false,
     "task": false
    },
    "slideshow": {
     "slide_type": "slide"
    },
    "tags": []
   },
   "source": [
    "### Maximum of Three Numbers"
   ]
  },
  {
   "cell_type": "markdown",
   "metadata": {
    "editable": true,
    "slideshow": {
     "slide_type": "slide"
    },
    "tags": []
   },
   "source": [
    "##### 1. Define `max(x, y, z)`"
   ]
  },
  {
   "cell_type": "markdown",
   "metadata": {},
   "source": [
    "Generalize the function `max(x, y)` to three arguments. Give the definition of `max(x, y, z)`:"
   ]
  },
  {
   "cell_type": "markdown",
   "metadata": {},
   "source": [
    "```algorithm\n",
    "Your solution here\n",
    "```"
   ]
  },
  {
   "cell_type": "markdown",
   "metadata": {
    "jp-MarkdownHeadingCollapsed": true,
    "solution": "hidden",
    "solution_first": true,
    "tags": []
   },
   "source": [
    "##### Answer:"
   ]
  },
  {
   "cell_type": "markdown",
   "metadata": {
    "solution": "hidden",
    "tags": []
   },
   "source": [
    "```\n",
    "m = max(x, y, z)   ≡   x ≤ m ∧ y ≤ m ∧ z ≤ m ∧ (m = x ∨ m = y ∨ m = z)\n",
    "```"
   ]
  },
  {
   "cell_type": "markdown",
   "metadata": {},
   "source": [
    "##### 2. Write a program"
   ]
  },
  {
   "cell_type": "markdown",
   "metadata": {},
   "source": [
    "Write a program that assigns the maximum of `x`, `y`, `z` to `m`. Give the program textually and as a state diagram. Add appropriate annotation to the state diagram."
   ]
  },
  {
   "cell_type": "markdown",
   "metadata": {},
   "source": [
    "```algorithm\n",
    "Your solution here\n",
    "```"
   ]
  },
  {
   "cell_type": "markdown",
   "metadata": {
    "jp-MarkdownHeadingCollapsed": true,
    "solution": "hidden",
    "solution_first": true,
    "tags": []
   },
   "source": [
    "##### Answer:"
   ]
  },
  {
   "cell_type": "markdown",
   "metadata": {
    "solution": "hidden"
   },
   "source": [
    "As a state diagram, the algorithm is:\n",
    "\n",
    "![Max3 state diagram](img/Max3.svg)"
   ]
  },
  {
   "cell_type": "markdown",
   "metadata": {},
   "source": [
    "##### 3. Prove the correctness"
   ]
  },
  {
   "cell_type": "markdown",
   "metadata": {},
   "source": [
    "Give the conditions for the correctness of the transitions and prove them:"
   ]
  },
  {
   "cell_type": "markdown",
   "metadata": {},
   "source": [
    "```algorithm\n",
    "Your solution here\n",
    "```"
   ]
  },
  {
   "cell_type": "markdown",
   "metadata": {
    "jp-MarkdownHeadingCollapsed": true,
    "solution": "hidden",
    "solution_first": true,
    "tags": []
   },
   "source": [
    "##### Answer:"
   ]
  },
  {
   "cell_type": "markdown",
   "metadata": {
    "solution": "hidden"
   },
   "source": [
    "The transitions of are correct if\n",
    "1. ```algorithm\n",
    "{x < y ∧ y < z}\n",
    "m := z\n",
    "{m = max(x, y, z)}\n",
    "```\n",
    "2. ```algorithm\n",
    "{x < y ∧ z ≤ y}\n",
    "m := y\n",
    "{m = max(x, y, z)}\n",
    "```\n",
    "3. ```algorithm\n",
    "{y ≤ x ∧ x < z}\n",
    "m := z\n",
    "{m = max(x, y, z)}\n",
    "```\n",
    "4. ```algorithm\n",
    "{y ≤ x ∧ z ≤ x}\n",
    "m := x\n",
    "{m = max(x, y, z)}\n",
    "```\n",
    "\n",
    "or equivalently:\n",
    "\n",
    "1. ```algorithm\n",
    "(x < y ∧ y < z) ⇒ (m = max(x, y, z))[m := z]\n",
    "```\n",
    "2. ```algorithm\n",
    "(x < y ∧ z ≤ y) ⇒ (m = max(x, y, z))[m := y]\n",
    "```\n",
    "3. ```algorithm\n",
    "(y ≤ x ∧ x < z) ⇒ (m = max(x, y, z))[m := z]\n",
    "```\n",
    "4. ```algorithm\n",
    "(y ≤ x ∧ z ≤ x) ⇒ (m = max(x, y, z))[m := x]\n",
    "```\n",
    "\n",
    "For the first one, we show that the right-hand side is a consequence of the left-hand side:\n",
    "```algorithm\n",
    "    m = max(x, y, z)[m := z]\n",
    "≡        {by substitution}\n",
    "    z = max(x, y, z)\n",
    "≡        {definition of max}\n",
    "    x ≤ z ∧ y ≤ z ∧ z ≤ z ∧ (z = x ∨ z = y ∨ z = z)\n",
    "≡        {reflexivity of ≤, =; simplification}\n",
    "    x ≤ z ∧ y ≤ z\n",
    "⇐        {E < F ⇒ E ≤ F for any E, F}\n",
    "    x < y ∧ y < z\n",
    "```\n",
    "The proofs of the remaining three is similar."
   ]
  }
 ],
 "metadata": {
  "kernelspec": {
   "display_name": "Python 3 (ipykernel)",
   "language": "python",
   "name": "python3"
  },
  "language_info": {
   "codemirror_mode": {
    "name": "ipython",
    "version": 3
   },
   "file_extension": ".py",
   "mimetype": "text/x-python",
   "name": "python",
   "nbconvert_exporter": "python",
   "pygments_lexer": "ipython3",
   "version": "3.13.0"
  },
  "toc": {
   "base_numbering": 1
  }
 },
 "nbformat": 4,
 "nbformat_minor": 4
}
