{
 "cells": [
  {
   "cell_type": "markdown",
   "metadata": {
    "editable": true,
    "heading_collapsed": true,
    "nbgrader": {
     "grade": false,
     "grade_id": "cell-a4e987d114aff57b",
     "locked": true,
     "schema_version": 3,
     "solution": false,
     "task": false
    },
    "slideshow": {
     "slide_type": "slide"
    },
    "tags": []
   },
   "source": [
    "### Correctness of Multiplication"
   ]
  },
  {
   "cell_type": "markdown",
   "metadata": {
    "nbgrader": {
     "grade": false,
     "grade_id": "cell-cde8fccea4de2621",
     "locked": true,
     "schema_version": 3,
     "solution": false,
     "task": false
    }
   },
   "source": [
    "Prove the three conditions for the correctness of the multiplication program."
   ]
  },
  {
   "cell_type": "markdown",
   "metadata": {
    "nbgrader": {
     "grade": false,
     "grade_id": "cell-27524d7ae1bb59f7",
     "locked": true,
     "schema_version": 3,
     "solution": false,
     "task": false
    },
    "tags": []
   },
   "source": [
    "##### 1. `x ≥ 0 ⇒ (z + u × y = x × y ∧ u ≥ 0)[z, u := 0, x]`"
   ]
  },
  {
   "cell_type": "markdown",
   "metadata": {},
   "source": [
    "```algorithm\n",
    "Your proof here\n",
    "```"
   ]
  },
  {
   "cell_type": "markdown",
   "metadata": {
    "jp-MarkdownHeadingCollapsed": true,
    "nbgrader": {
     "grade": false,
     "grade_id": "cell-166de5c62ddd528a",
     "locked": true,
     "schema_version": 3,
     "solution": false,
     "task": false
    },
    "solution": "hidden",
    "solution_first": true,
    "tags": []
   },
   "source": [
    "##### Answer:"
   ]
  },
  {
   "cell_type": "markdown",
   "metadata": {
    "nbgrader": {
     "grade": false,
     "grade_id": "cell-0384c57494077e6c",
     "locked": true,
     "schema_version": 3,
     "solution": false,
     "task": false
    },
    "solution": "hidden"
   },
   "source": [
    "We show that the right hand-side is a consequence of the left-hand side:\n",
    "\n",
    "```algorithm\n",
    "    (z + u × y = x × y ∧ u ≥ 0)[z, u := 0, x]\n",
    "≡        {by substitution}\n",
    "    0 + x × y = x × y ∧ x ≥ 0\n",
    "≡        {arithmetic}\n",
    "    x ≥ 0\n",
    "```"
   ]
  },
  {
   "cell_type": "markdown",
   "metadata": {
    "nbgrader": {
     "grade": false,
     "grade_id": "cell-a5bf5071a3ef7492",
     "locked": true,
     "schema_version": 3,
     "solution": false,
     "task": false
    },
    "tags": []
   },
   "source": [
    "##### 2. `u > 0 ∧ z + u × y = x × y ∧ u ≥ 0 ⇒`\n",
    "  &nbsp;&nbsp;&nbsp;&nbsp;  `(z + u × y = x × y ∧ u ≥ 0)[z, u := z + y, u - 1]`"
   ]
  },
  {
   "cell_type": "markdown",
   "metadata": {},
   "source": [
    "```algorithm\n",
    "Your proof here\n",
    "```"
   ]
  },
  {
   "cell_type": "markdown",
   "metadata": {
    "jp-MarkdownHeadingCollapsed": true,
    "solution": "hidden",
    "solution_first": true
   },
   "source": [
    "##### Answer:"
   ]
  },
  {
   "cell_type": "markdown",
   "metadata": {
    "solution": "hidden"
   },
   "source": [
    "We show that the right hand-side is a consequence of the left-hand side:\n",
    "\n",
    "```algorithm\n",
    "    (z + u × y = x × y ∧ u ≥ 0)[z, u := z + y, u - 1]\n",
    "≡        {by substitution}\n",
    "    z + y + (u - 1) × y = x × y ∧ u - 1 ≥ 0\n",
    "≡        {arithmetic}\n",
    "    z + y + u × y - y = x × y ∧ u > 0\n",
    "≡        {logic, arithmetic}\n",
    "    u > 0 ∧ z + u × y = x × y ∧ u ≥ 0\n",
    "```"
   ]
  },
  {
   "cell_type": "markdown",
   "metadata": {
    "nbgrader": {
     "grade": false,
     "grade_id": "cell-9efd2f00187ea1b1",
     "locked": true,
     "schema_version": 3,
     "solution": false,
     "task": false
    }
   },
   "source": [
    "##### 3. `u ≤ 0 ∧ z + u × y = x × y ∧ u ≥ 0 ⇒`\n",
    "  &nbsp;&nbsp;&nbsp;&nbsp; `z = x × y`"
   ]
  },
  {
   "cell_type": "markdown",
   "metadata": {
    "nbgrader": {
     "grade": false,
     "grade_id": "cell-61d0f9c6c4434fe3",
     "locked": true,
     "schema_version": 3,
     "solution": false,
     "task": false
    }
   },
   "source": [
    "```algorithm\n",
    "Your proof here\n",
    "```"
   ]
  },
  {
   "cell_type": "markdown",
   "metadata": {
    "jp-MarkdownHeadingCollapsed": true,
    "solution": "hidden",
    "solution_first": true,
    "tags": []
   },
   "source": [
    "##### Answer:"
   ]
  },
  {
   "cell_type": "markdown",
   "metadata": {
    "solution": "hidden"
   },
   "source": [
    "We show that the left-hand side implies the right-hand side:\n",
    "\n",
    "```algorithm\n",
    "    u ≤ 0 ∧ z + u × y = x × y ∧ u ≥ 0\n",
    "≡        {E ≤ F and E ≥ F implies E = F for any E, F}\n",
    "    u = 0 ∧ z + u × y = x × y\n",
    "≡        {logic, arithmetic}\n",
    "    u = 0 ∧ z = x × y\n",
    "⇒        {logic}\n",
    "    z = x × y\n",
    "```"
   ]
  }
 ],
 "metadata": {
  "kernelspec": {
   "display_name": "Python 3 (ipykernel)",
   "language": "python",
   "name": "python3"
  },
  "language_info": {
   "codemirror_mode": {
    "name": "ipython",
    "version": 3
   },
   "file_extension": ".py",
   "mimetype": "text/x-python",
   "name": "python",
   "nbconvert_exporter": "python",
   "pygments_lexer": "ipython3",
   "version": "3.13.0"
  },
  "rise": {
   "enable_chalkboard": true,
   "scroll": true
  },
  "toc": {
   "base_numbering": 1
  }
 },
 "nbformat": 4,
 "nbformat_minor": 4
}
