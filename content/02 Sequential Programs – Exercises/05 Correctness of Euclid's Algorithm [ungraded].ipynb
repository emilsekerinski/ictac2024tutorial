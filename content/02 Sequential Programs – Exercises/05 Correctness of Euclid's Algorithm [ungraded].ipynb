{
 "cells": [
  {
   "cell_type": "markdown",
   "metadata": {
    "editable": true,
    "slideshow": {
     "slide_type": "slide"
    },
    "tags": []
   },
   "source": [
    "### Correctness of Euclid's Algorithm"
   ]
  },
  {
   "cell_type": "markdown",
   "metadata": {},
   "source": [
    "State the conditions for the correctness of Euclid's algorithm and complete the proofs! For brevity, let `P` be the invariant:\n",
    "\n",
    "<div style=\"float:left;border-left:2em solid white\">\n",
    "\n",
    "```algorithm\n",
    "{x > 0 ∧ y > 0}\n",
    "a, b := x, y\n",
    "{P: gcd(a, b) = gcd(x, y) ∧\n",
    " a > 0 ∧ b > 0}\n",
    "while a ≠ b do\n",
    "    if a > b then\n",
    "        a := a – b\n",
    "    else\n",
    "        b := b – a\n",
    "{a = gcd(x, y)}\n",
    "```\n",
    "\n",
    "</div>\n",
    "<img style=\"float:left;border-left:6em solid white\" src=\"./img/Euclid.svg\"/>"
   ]
  },
  {
   "cell_type": "markdown",
   "metadata": {},
   "source": [
    "```algorithm\n",
    "Your solution here\n",
    "```"
   ]
  }
 ],
 "metadata": {
  "kernelspec": {
   "display_name": "Python 3 (ipykernel)",
   "language": "python",
   "name": "python3"
  },
  "language_info": {
   "codemirror_mode": {
    "name": "ipython",
    "version": 3
   },
   "file_extension": ".py",
   "mimetype": "text/x-python",
   "name": "python",
   "nbconvert_exporter": "python",
   "pygments_lexer": "ipython3",
   "version": "3.11.2"
  },
  "rise": {
   "enable_chalkboard": true,
   "scroll": true
  },
  "toc": {
   "base_numbering": 1
  }
 },
 "nbformat": 4,
 "nbformat_minor": 4
}
