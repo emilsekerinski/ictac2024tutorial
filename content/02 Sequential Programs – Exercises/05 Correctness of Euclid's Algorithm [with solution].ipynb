{
 "cells": [
  {
   "cell_type": "markdown",
   "metadata": {
    "editable": true,
    "nbgrader": {
     "grade": false,
     "grade_id": "cell-1d71ed54c88a458e",
     "locked": true,
     "schema_version": 3,
     "solution": false,
     "task": false
    },
    "slideshow": {
     "slide_type": "slide"
    },
    "tags": []
   },
   "source": [
    "### Correctness of Euclid's Algorithm"
   ]
  },
  {
   "cell_type": "markdown",
   "metadata": {
    "nbgrader": {
     "grade": false,
     "grade_id": "cell-184f18b4ce56dc28",
     "locked": true,
     "schema_version": 3,
     "solution": false,
     "task": false
    }
   },
   "source": [
    "State the conditions for the correctness of Euclid's algorithm and complete the proofs! For brevity, let `P` be the invariant:\n",
    "\n",
    "<div style=\"float:left;border-left:2em solid white\">\n",
    "\n",
    "```algorithm\n",
    "{x > 0 ∧ y > 0}\n",
    "a, b := x, y\n",
    "{P: gcd(a, b) = gcd(x, y) ∧\n",
    " a > 0 ∧ b > 0}\n",
    "while a ≠ b do\n",
    "    if a > b then\n",
    "        a := a – b\n",
    "    else\n",
    "        b := b – a\n",
    "{a = gcd(x, y)}\n",
    "```\n",
    "\n",
    "</div>\n",
    "<img style=\"float:left;border-left:6em solid white\" src=\"./img/Euclid.svg\"/>"
   ]
  },
  {
   "cell_type": "markdown",
   "metadata": {},
   "source": [
    "```algorithm\n",
    "Your solution here\n",
    "```"
   ]
  },
  {
   "cell_type": "markdown",
   "metadata": {
    "jp-MarkdownHeadingCollapsed": true,
    "nbgrader": {
     "grade": false,
     "grade_id": "cell-7051144801aad1d1",
     "locked": true,
     "schema_version": 3,
     "solution": false,
     "task": false
    },
    "solution": "hidden",
    "solution_first": true,
    "tags": []
   },
   "source": [
    "##### Answer:"
   ]
  },
  {
   "cell_type": "markdown",
   "metadata": {
    "nbgrader": {
     "grade": false,
     "grade_id": "cell-e5aec2d902d31b36",
     "locked": true,
     "schema_version": 3,
     "solution": false,
     "task": false
    },
    "solution": "hidden"
   },
   "source": [
    "Either the rules for correctness of transitions or for the correctness of statements can be applied. The rules for correctness of transitions lead to following conditions:\n",
    "\n",
    "1. `x > 0 ∧ y > 0   ⇒   P[a, b := x, y]`\n",
    "2. `P ∧ a = b   ⇒   a = gcd(a, b)`\n",
    "3. `P ∧ a ≠ b   ⇒   P ∧ a ≠ b`\n",
    "4. `P ∧ a ≠ b ∧ a > b   ⇒   P[a := a - b]`\n",
    "5. `P ∧ a ≠ b ∧ a ≤ b   ⇒   P[b := b - a]`\n",
    "\n",
    "For 1., we show that the right-hand side is a consequence of the left-hand side:\n",
    "```algorithm\n",
    "    P[a, b := x, y]\n",
    "≡        {definition of P, substitution}\n",
    "    gcd(x, y) = gcd(x, y) ∧ x > 0 ∧ y > 0\n",
    "⇐        {simplification}\n",
    "    x > 0 ∧ y > 0\n",
    "```\n",
    "\n",
    "For 2.:\n",
    "```algorithm\n",
    "    P ∧ a = b   ⇒   a = gcd(a, b)\n",
    "≡        {logic}\n",
    "    P ∧ a = b   ⇒   a = gcd(a, a)\n",
    "⇐        {gcd(x, x) = x for any x}\n",
    "    true\n",
    "```\n",
    "\n",
    "Condition 3. follows from `E ⇒ E` for any `E`. For 4., we show that the right-hand side is a consequence of the left-hand side:\n",
    "```algorithm\n",
    "    P[a := a - b]\n",
    "≡        {definition of P, substitution}\n",
    "    gcd(a - b, b) = gcd(x, y) ∧ a - b > 0 ∧ b > 0\n",
    "≡        {gcd(x, y) = gcd(x - y, y) if x > y for any x, y}\n",
    "    gcd(a, b) = gcd(x, y) ∧ a > b ∧ b > 0\n",
    "⇐        {gcd(x, x) = x for any x}    \n",
    "    gcd(a, b) = gcd(x, y) ∧ a > 0 ∧ b > 0 ∧ a > b\n",
    "≡        {definition of P, E > E ⇒ E ≠ E for any E}    \n",
    "    P ∧ a ≠ b ∧ a > b\n",
    "```\n",
    "\n",
    "The proof of 5. is similar."
   ]
  }
 ],
 "metadata": {
  "kernelspec": {
   "display_name": "Python 3 (ipykernel)",
   "language": "python",
   "name": "python3"
  },
  "language_info": {
   "codemirror_mode": {
    "name": "ipython",
    "version": 3
   },
   "file_extension": ".py",
   "mimetype": "text/x-python",
   "name": "python",
   "nbconvert_exporter": "python",
   "pygments_lexer": "ipython3",
   "version": "3.13.0"
  },
  "rise": {
   "enable_chalkboard": true,
   "scroll": true
  },
  "toc": {
   "base_numbering": 1
  }
 },
 "nbformat": 4,
 "nbformat_minor": 4
}
