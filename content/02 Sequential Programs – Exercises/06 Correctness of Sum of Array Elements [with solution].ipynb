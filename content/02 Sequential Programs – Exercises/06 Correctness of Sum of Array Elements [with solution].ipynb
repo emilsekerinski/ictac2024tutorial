{
 "cells": [
  {
   "cell_type": "markdown",
   "metadata": {
    "heading_collapsed": true,
    "nbgrader": {
     "grade": false,
     "grade_id": "cell-a4e987d114aff57b",
     "locked": true,
     "schema_version": 3,
     "solution": false,
     "task": false
    },
    "slideshow": {
     "slide_type": "slide"
    }
   },
   "source": [
    "### Correctness of Sum of Array Elements"
   ]
  },
  {
   "cell_type": "markdown",
   "metadata": {
    "jp-MarkdownHeadingCollapsed": true,
    "nbgrader": {
     "grade": false,
     "grade_id": "cell-8899a741633897c5",
     "locked": true,
     "schema_version": 3,
     "solution": false,
     "task": false
    },
    "slideshow": {
     "slide_type": "fragment"
    },
    "tags": []
   },
   "source": [
    "1. Give all conditions for the correctness of the annotated program.\n",
    "  \n",
    "```algorithm\n",
    "{true}\n",
    "s, k := 0, 0\n",
    "{s = (∑ i ∈ 0 .. k – 1 • a(i)) ∧ 0 ≤ k ≤ N}\n",
    "while k < N do\n",
    "    s, k := s + a(k), k + 1\n",
    "{s = (∑ i ∈ 0 .. N – 1 • a(i))}\n",
    "```"
   ]
  },
  {
   "cell_type": "markdown",
   "metadata": {},
   "source": [
    "Your solution here"
   ]
  },
  {
   "cell_type": "markdown",
   "metadata": {
    "jupyter": {
     "source_hidden": true
    },
    "solution": "hidden",
    "tags": []
   },
   "source": [
    "*Answer:*\n",
    "1.\n",
    "```algorithm\n",
    "{true}\n",
    "s, k := 0, 0\n",
    "{s = (∑ i ∈ 0 .. k – 1 • a(i)) ∧ 0 ≤ k ≤ N}\n",
    "```\n",
    "\n",
    "2.\n",
    "```algorithm\n",
    "{s = (∑ i ∈ 0 .. k – 1 • a(i)) ∧ 0 ≤ k ≤ N ∧ k < N}\n",
    "s, k := s + a(k), k + 1\n",
    "{s = (∑ i ∈ 0 .. k – 1 • a(i)) ∧ 0 ≤ k ≤ N}\n",
    "```\n",
    "\n",
    "3.\n",
    "```algorithm\n",
    "s = (∑ i ∈ 0 .. k – 1 • a(i)) ∧ 0 ≤ k ≤ N ∧ k ≥ N ⇒\n",
    "    s = (∑ i ∈ 0 .. N – 1 • a(i))\n",
    "```"
   ]
  },
  {
   "cell_type": "markdown",
   "metadata": {
    "nbgrader": {
     "grade": false,
     "grade_id": "cell-cde8fccea4de2621",
     "locked": true,
     "schema_version": 3,
     "solution": false,
     "task": false
    },
    "slideshow": {
     "slide_type": "fragment"
    },
    "tags": []
   },
   "source": [
    "2. Prove all conditions."
   ]
  },
  {
   "cell_type": "markdown",
   "metadata": {},
   "source": [
    "Your solution here"
   ]
  },
  {
   "cell_type": "markdown",
   "metadata": {
    "jupyter": {
     "source_hidden": true
    },
    "solution": "hidden",
    "tags": []
   },
   "source": [
    "*Answer:*  \n",
    "1.\n",
    "```algorithm\n",
    "    {true} s, k := 0, 0 {s = (∑ i ∈ 0 .. k – 1 • a(i)) ∧ 0 ≤ k ≤ N}\n",
    "≡        {rule for assignments}\n",
    "    true ⇒ (s = (∑ i ∈ 0 .. k – 1 • a(i)) ∧ 0 ≤ k ≤ N)[s, k := 0, 0]\n",
    "≡        {logic, substitution}\n",
    "    0 = (∑ i ∈ 0 .. – 1 • a(i)) ∧ 0 ≤ 0 ≤ N\n",
    "≡        {empty summation, assumption N ≥ 0}\n",
    "    true\n",
    "```\n",
    "\n",
    "2. \n",
    "```algorithm\n",
    "    {...} s, k := s + a(k), k + 1 {...}\n",
    "≡        {rule for assignments}\n",
    "s = (∑ i ∈ 0 .. k – 1 • a(i)) ∧ 0 ≤ k ≤ N ∧ k < N ⇒\n",
    "    (s = (∑ i ∈ 0 .. k – 1 • a(i)) ∧ 0 ≤ k ≤ N)[s, k := s + a(k), k + 1]\n",
    "```\n",
    "This is shown by:\n",
    "```algorithm\n",
    "    (s = (∑ i ∈ 0 .. k – 1 • a(i)) ∧ 0 ≤ k ≤ N)[s, k := s + a(k), k + 1]\n",
    "≡        {substitution}\n",
    "    s + a(k) = (∑ i ∈ 0 .. (k + 1) – 1 • a(i)) ∧ 0 ≤ k + 1 ≤ N\n",
    "≡        {split summation}\n",
    "    s + a(k) = (∑ i ∈ 0 .. k – 1 • a(i)) + a(k) ∧ 0 ≤ k + 1 ≤ N\n",
    "⇐        {arithmetic, logic}\n",
    "    s = (∑ i ∈ 0 .. k – 1 • a(i)) ∧ 0 ≤ k ≤ N ∧ k < N\n",
    "```\n",
    "\n",
    "3. \n",
    "\n",
    "```algorithm\n",
    "    s = (∑ i ∈ 0 .. k – 1 • a(i)) ∧ 0 ≤ k ≤ N ∧ k ≥ N\n",
    "≡        {E ≥ F ∧ E ≤ F ≡ E = F for any E, F; assumption N ≥ 0}\n",
    "    s = (∑ i ∈ 0 .. k – 1 • a(i)) ∧ k = N\n",
    "⇒        {substitution of equals for equals, weakening}\n",
    "    s = (∑ i ∈ 0 .. N – 1 • a(i))\n",
    "```"
   ]
  }
 ],
 "metadata": {
  "celltoolbar": "Create Assignment",
  "kernelspec": {
   "display_name": "Python 3 (ipykernel)",
   "language": "python",
   "name": "python3"
  },
  "language_info": {
   "codemirror_mode": {
    "name": "ipython",
    "version": 3
   },
   "file_extension": ".py",
   "mimetype": "text/x-python",
   "name": "python",
   "nbconvert_exporter": "python",
   "pygments_lexer": "ipython3",
   "version": "3.13.0"
  },
  "rise": {
   "enable_chalkboard": true,
   "scroll": true
  }
 },
 "nbformat": 4,
 "nbformat_minor": 4
}
