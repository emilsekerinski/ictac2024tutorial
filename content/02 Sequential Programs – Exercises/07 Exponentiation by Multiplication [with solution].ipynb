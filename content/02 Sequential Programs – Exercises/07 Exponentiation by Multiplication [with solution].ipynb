{
 "cells": [
  {
   "cell_type": "markdown",
   "metadata": {
    "nbgrader": {
     "grade": false,
     "grade_id": "cell-1d71ed54c88a458e",
     "locked": true,
     "schema_version": 3,
     "solution": false,
     "task": false
    },
    "slideshow": {
     "slide_type": "slide"
    }
   },
   "source": [
    "### Exponentiation by Multiplication"
   ]
  },
  {
   "cell_type": "markdown",
   "metadata": {
    "nbgrader": {
     "grade": false,
     "grade_id": "cell-64075b359d4c943b",
     "locked": true,
     "schema_version": 3,
     "solution": false,
     "task": false
    }
   },
   "source": [
    "Write a program to compute `xʸ` for an integer `x` and an integer `y ≥ 0` using only addition and multiplication. Give the program textually and as a state diagram. Add appropriate annotation to the state diagram. Prove that your program is correct with respect to this annotation."
   ]
  },
  {
   "cell_type": "markdown",
   "metadata": {
    "solution": "shown",
    "solution_first": true
   },
   "source": [
    "```algorithm\n",
    "{y ≥ 0}\n",
    "Your annotated algorithm here\n",
    "{z = xʸ}\n",
    "```\n",
    "\n",
    "```algorithm\n",
    "Your proof here\n",
    "```"
   ]
  },
  {
   "cell_type": "markdown",
   "metadata": {
    "jp-MarkdownHeadingCollapsed": true,
    "solution": "shown",
    "tags": []
   },
   "source": [
    "##### Answer:"
   ]
  },
  {
   "cell_type": "markdown",
   "metadata": {
    "jp-MarkdownHeadingCollapsed": true,
    "solution": "shown",
    "tags": []
   },
   "source": [
    "<img style=\"float:right;border-left:6em solid white\" src=\"./img/Exponentiation.svg\"/>\n",
    "\n",
    "```algorithm\n",
    "{y ≥ 0}\n",
    "var u : integer\n",
    "    z, u := 1, 0\n",
    "    {P: z = xᵘ ∧ 0 ≤ u ≤ y}\n",
    "    while u < y do\n",
    "        z, u := z × x, u + 1\n",
    "{z = xʸ}\n",
    "```\n",
    "\n",
    "According to the rules for `;` and `while`, the conditions, taking undefinedness into account, are:\n",
    "\n",
    "- `{y ≥ 0} z, u := 1, 0 {P}` if  \n",
    "```algorithm\n",
    "    y ≥ 0 ⇒ P[z, u := 1, 0]\n",
    "≡       {definition of P, substitution}\n",
    "    y ≥ 0 ⇒ 1 = x⁰ ∧ 0 ≤ 0 ≤ y\n",
    "≡       {arithmetic, logic}\n",
    "    true\n",
    "```\n",
    "- `P ⇒ ∆(u < y)`:  \n",
    "```algorithm\n",
    "    P ⇒ ∆(u < y)\n",
    "≡       {definition of ∆}\n",
    "    P ⇒ ∆u ∧ ∆y\n",
    "≡       {definition of ∆}\n",
    "    P ⇒ true ∧ true\n",
    "≡       {logic}\n",
    "    true\n",
    "```\n",
    "- `{(u < y)' ∧ P} z, u := z × x, u + 1 {P}` if  \n",
    "```algorithm\n",
    "    (u < y)' ∧ P ⇒ P[z, u := z × x, u + 1]\n",
    "≡       {definition of ', P, substitution}\n",
    "    u < y ∧ P ⇒ z × x = xᵘ⁺¹ ∧ 0 ≤ u + 1 ≤ y\n",
    "≡       {u < y ⇒ u + 1 ≤ y, P ⇒ 0 ≤ u + 1, arithmetic}\n",
    "    u < y ∧ P ⇒ z × x = xᵘ × x\n",
    "≡       {P ⇒ z = xᵘ}\n",
    "    true\n",
    "```\n",
    "- `¬(u < y)' ∧ P ⇒ z = xʸ`:  \n",
    "```algorithm\n",
    "    ¬(u < y)' ∧ P ⇒ z = xʸ\n",
    "≡       {definition of '}\n",
    "    u ≥ y ∧ P ⇒ z = xʸ\n",
    "≡       {P ⇒ u ≤ y}\n",
    "    u = y ∧ P ⇒ z = xʸ\n",
    "≡       {substituting u by y in P}\n",
    "    true\n",
    "```"
   ]
  }
 ],
 "metadata": {
  "celltoolbar": "Create Assignment",
  "kernelspec": {
   "display_name": "Python 3 (ipykernel)",
   "language": "python",
   "name": "python3"
  },
  "language_info": {
   "codemirror_mode": {
    "name": "ipython",
    "version": 3
   },
   "file_extension": ".py",
   "mimetype": "text/x-python",
   "name": "python",
   "nbconvert_exporter": "python",
   "pygments_lexer": "ipython3",
   "version": "3.11.2"
  },
  "rise": {
   "enable_chalkboard": true,
   "scroll": true
  }
 },
 "nbformat": 4,
 "nbformat_minor": 4
}
