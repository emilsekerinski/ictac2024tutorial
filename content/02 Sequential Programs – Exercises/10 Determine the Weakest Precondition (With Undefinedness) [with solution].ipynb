{
 "cells": [
  {
   "cell_type": "markdown",
   "metadata": {},
   "source": [
    "### Determine the Weakest Precondition"
   ]
  },
  {
   "cell_type": "markdown",
   "metadata": {
    "nbgrader": {
     "grade": false,
     "grade_id": "cell-bde6b6fd14306ecc",
     "locked": true,
     "schema_version": 3,
     "solution": false,
     "task": false
    },
    "slideshow": {
     "slide_type": "-"
    }
   },
   "source": [
    "The extended rule for the correctness of assignments, which takes undefinedness into account, was given as:\n",
    "<div style=\"display:table; border-top:1em solid white\">\n",
    "  <div style = \"display:table-cell; border-left:24px solid white; vertical-align:middle\">\n",
    "    <code>{P} x, y := E, F {Q}</code> <br><br>\n",
    "  </div>\n",
    "  <div style = \"display:table-cell; border-left:24px solid white; vertical-align:middle\">\n",
    "    if &nbsp; <code>P ⇒ ∆E ∧ ∆F ∧ Q[x, y := E', F']</code> <br><br>\n",
    "  </div>\n",
    "</div>\n",
    "\n",
    "By taking `P` to be `∆E ∧ ∆F ∧ Q[x, y := E', F']`, the rule becomes:\n",
    "\n",
    "```algorithm\n",
    "{∆E ∧ ∆F ∧ Q[x, y := E', F']}  x, y := E, F  {Q} \n",
    "```\n",
    "\n",
    "The predicate `∆E ∧ ∆F ∧ Q[x, y := E', F']` is the *weakest precondition* for the assignment `x, y := E, F` to establish postcondition `Q`.\n",
    "\n",
    "Use this rule to determine the weakest predicate `P` below by taking undefinedness into account. Assume `x` is an integer variable and `a`, `b` are boolean variables:\n",
    "\n",
    "1. \n",
    "```algorithm\n",
    "{P}  x := x + 1  {x > 0}\n",
    "```\n",
    "\n",
    "2. \n",
    "```algorithm\n",
    "{P}  x, y := x + 1, y – 1  {x + y > 0}\n",
    "```\n",
    "\n",
    "3. \n",
    "```algorithm\n",
    "{P}  x := x + 1  {x = x + 1}\n",
    "```\n",
    "\n",
    "4. \n",
    "```algorithm\n",
    "{P}  a := a = b  {a}\n",
    "```"
   ]
  },
  {
   "cell_type": "markdown",
   "metadata": {
    "solution": "shown",
    "solution_first": true
   },
   "source": [
    "Your answer here"
   ]
  },
  {
   "cell_type": "markdown",
   "metadata": {
    "jupyter": {
     "source_hidden": true
    },
    "nbgrader": {
     "grade": false,
     "grade_id": "cell-772b2dbc247f7d5d",
     "locked": true,
     "schema_version": 3,
     "solution": false,
     "task": false
    },
    "solution": "shown"
   },
   "source": [
    "_Answer:_\n",
    "\n",
    "1.  \n",
    "```algorithm\n",
    "    ∆(x + 1) ∧ (x > 0)[x := (x + 1)']\n",
    "≡       {substitution}\n",
    "    ∆(x + 1) ∧ (x + 1)' > 0\n",
    "≡       {definition of ∆ and '}\n",
    "    minInt ≤ x + 1 ≤ maxint ∧ x + 1 > 0\n",
    "≡       {minint < 0}\n",
    "    0 ≤ x < maxint \n",
    "```\n",
    "\n",
    "2.  \n",
    "```algorithm\n",
    "    ∆(x + 1) ∧  ∆(y - 1) ∧ (x + y > 0)[x, y := (x + 1)', (y – 1)']\n",
    "≡       {by substitution}\n",
    "    ∆(x + 1) ∧  ∆(y - 1) ∧ ((x + 1)' + (y - 1)' > 0)\n",
    "≡       {definition of ∆ and '}\n",
    "    minInt ≤ x + 1 ≤ maxint ∧  minint ≤ y - 1 ≤ maxint ∧ x + y > 0\n",
    "≡       {assuming minint ≤ x, y ≤ maxint}\n",
    "    x < maxint ∧  minint < y ∧ x + y > 0\n",
    "```\n",
    "\n",
    "3. \n",
    "```algorithm\n",
    "    ∆(x + 1) ∧ (x = x + 1)[x, y := (x + 1)']\n",
    "≡       {substitution, definition of '}\n",
    "    ∆(x + 1) ∧ (x + 1 = x + 1 + 1)\n",
    "≡       {logic}\n",
    "    false\n",
    "```\n",
    "\n",
    "4.\n",
    "```algorithm\n",
    "    ∆(a = b) ∧ a[a := (a = b)']\n",
    "≡       {substitution}\n",
    "    ∆(a = b) ∧ (a = b)'\n",
    "≡       {definition of ∆ and '}\n",
    "    a = b\n",
    "```"
   ]
  }
 ],
 "metadata": {
  "kernelspec": {
   "display_name": "Python 3 (ipykernel)",
   "language": "python",
   "name": "python3"
  },
  "language_info": {
   "codemirror_mode": {
    "name": "ipython",
    "version": 3
   },
   "file_extension": ".py",
   "mimetype": "text/x-python",
   "name": "python",
   "nbconvert_exporter": "python",
   "pygments_lexer": "ipython3",
   "version": "3.11.2"
  }
 },
 "nbformat": 4,
 "nbformat_minor": 4
}
