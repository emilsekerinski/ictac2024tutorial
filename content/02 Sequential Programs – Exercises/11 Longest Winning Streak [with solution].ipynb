{
 "cells": [
  {
   "cell_type": "markdown",
   "metadata": {
    "nbgrader": {
     "grade": false,
     "grade_id": "cell-76e31d7c4c30dcda",
     "locked": true,
     "schema_version": 3,
     "solution": false,
     "task": false
    },
    "slideshow": {
     "slide_type": "slide"
    },
    "tags": []
   },
   "source": [
    "### Longest Winning Streak"
   ]
  },
  {
   "cell_type": "markdown",
   "metadata": {
    "tags": []
   },
   "source": [
    "##### 1. State the Postcondition"
   ]
  },
  {
   "cell_type": "markdown",
   "metadata": {
    "nbgrader": {
     "grade": false,
     "grade_id": "cell-a6724b089a588876",
     "locked": true,
     "schema_version": 3,
     "solution": false,
     "task": false
    },
    "slideshow": {
     "slide_type": "slide"
    }
   },
   "source": [
    "A couple of friends, `Monica`, `Phoebe`, `Joey`, and `Chandler`, get together in the evening to play darts. They record who wins each round. Assume that an array represents the result of the evening, for example:\n",
    "\n",
    "    wins = [Joey, Phoebe, Chandler, Joey, Joey, Joey, Monica, Chandler, Chandler]\n",
    "\n",
    "In programming languages, the names may be integers or strings; here, we consider them elements of the set `Name`.\n",
    "\n",
    "A _winning streak_ consists of consecutive wins by one player. For example, `Chandler` has a winning streak of length 2 at the end of the evening and `Joey` has a winning streak of length 3 in the middle of the evening. Given array `wins: 0 .. N - 1 → Name` and `0 ≤ b ≤ e < N` predicate `streak(wins, b, e)` states that all elements in `wins` between `b` and `e` are the same:\n",
    "\n",
    "```algorithm\n",
    "streak(wins, b, e) = (∀ i ∈ b .. e • wins(b) = wins(i))\n",
    "```\n",
    "\n",
    "The universal quantification above expresses that all elements of a winning streak are the same. We are interested in the _longest_ winning streak. For `1 ≤ n ≤ N`, function `longeststreak(wins, n)` returns the longest winning streak in `wins` up to position `n`:\n",
    "\n",
    "```algorithm\n",
    "longeststreak(wins, n) = max {w ∈ 1 .. n | ∃ b ∈ 0 .. n - w • streak(wins, b, b + w - 1)}\n",
    "```\n",
    "\n",
    "The function `max S` returns the maximum of (non-empty) set `S` of integers. Above, `w` is the length of a winning streak and `b` is the index where it begins. \n",
    "\n",
    "The task is to write a program that assigns to integer `s` the length of the longest winning streak of `wins` as declared above. State first the postcondition of the program, which specifies the desired value of `s`:"
   ]
  },
  {
   "cell_type": "markdown",
   "metadata": {
    "solution": "shown",
    "solution_first": true,
    "tags": []
   },
   "source": [
    "```algorithm\n",
    "Your answer\n",
    "```"
   ]
  },
  {
   "cell_type": "markdown",
   "metadata": {
    "tags": []
   },
   "source": [
    "##### Answer:"
   ]
  },
  {
   "cell_type": "markdown",
   "metadata": {
    "nbgrader": {
     "grade": false,
     "grade_id": "cell-fd41cb0306ef4083",
     "locked": true,
     "schema_version": 3,
     "solution": false,
     "task": false
    },
    "solution": "shown",
    "tags": []
   },
   "source": [
    "```algorithm\n",
    "s = longeststreak(wins, N)\n",
    "```"
   ]
  },
  {
   "cell_type": "markdown",
   "metadata": {},
   "source": [
    "##### 2. Write an Annotated Program"
   ]
  },
  {
   "cell_type": "markdown",
   "metadata": {
    "nbgrader": {
     "grade": false,
     "grade_id": "cell-99297b61aeb99e54",
     "locked": true,
     "schema_version": 3,
     "solution": false,
     "task": false
    },
    "slideshow": {
     "slide_type": "slide"
    },
    "solution": "hidden",
    "tags": []
   },
   "source": [
    "Write the program in the algorithmic notation of the course notes. Be careful to use `=` and `:=` as appropriate; incorrect uses of these symbols will get deductions. The program cannot use `max` and quantifiers in program expressions; it must only use the control structures from the course note and not modify the variable `wins`. What is the precondition of your program? Add the precondition, postcondition, and all loop invariants as annotations. The program has to be correct with respect to the stated annotation. Label the annotations so you can refer to them by name."
   ]
  },
  {
   "cell_type": "markdown",
   "metadata": {
    "solution": "shown",
    "solution_first": true
   },
   "source": [
    "```algorithm\n",
    "Your algorithm\n",
    "```"
   ]
  },
  {
   "cell_type": "markdown",
   "metadata": {
    "tags": []
   },
   "source": [
    "##### Answer:"
   ]
  },
  {
   "cell_type": "markdown",
   "metadata": {
    "nbgrader": {
     "grade": false,
     "grade_id": "cell-10462227d7160f42",
     "locked": true,
     "schema_version": 3,
     "solution": false,
     "task": false
    },
    "solution": "shown",
    "tags": []
   },
   "source": [
    "```algorithm\n",
    "{P: true}\n",
    "var c, i: integer\n",
    "    s, c, i := 1, 1, 1\n",
    "    {Q: s = longeststreak(wins, i) ∧ streak(wins, i - c, i - 1) ∧ 1 ≤ i ≤ N ∧ 1 ≤ c ≤ N}\n",
    "    while i < N do\n",
    "        if wins(i - 1) = wins(i) then\n",
    "            c := c + 1\n",
    "            if c > s then s := c\n",
    "        else c := 1\n",
    "        i := i + 1\n",
    "{R: s = longeststreak(wins, N)}\n",
    "```"
   ]
  },
  {
   "cell_type": "markdown",
   "metadata": {},
   "source": [
    "##### 3. State the Correctness Conditions"
   ]
  },
  {
   "cell_type": "markdown",
   "metadata": {
    "nbgrader": {
     "grade": false,
     "grade_id": "cell-79028785b6ffbd17",
     "locked": true,
     "schema_version": 3,
     "solution": false,
     "task": false
    },
    "slideshow": {
     "slide_type": "-"
    },
    "solution": "hidden"
   },
   "source": [
    "Now state the correctness conditions using the extended rules for correctness (taking the undefinedness of expressions into account). Argue informally why these conditions hold. You do not need to prove that your program is correct."
   ]
  },
  {
   "cell_type": "markdown",
   "metadata": {
    "solution": "shown",
    "solution_first": true,
    "tags": []
   },
   "source": [
    "```algorithm\n",
    "Your answer\n",
    "```"
   ]
  },
  {
   "cell_type": "markdown",
   "metadata": {
    "tags": []
   },
   "source": [
    "##### Answer:"
   ]
  },
  {
   "cell_type": "markdown",
   "metadata": {
    "nbgrader": {
     "grade": false,
     "grade_id": "cell-8012d1dc99636463",
     "locked": true,
     "schema_version": 3,
     "solution": false,
     "task": false
    },
    "solution": "shown"
   },
   "source": [
    "According to the rules for the correctness of sequential composition and repetition, this follows from:\n",
    "\n",
    "<span style = \"float:right\">(1)</span>\n",
    "```algorithm\n",
    "{P}  s, c, i := 1, 1, 1  {Q}\n",
    "```\n",
    "\n",
    "<span style = \"float:right\">(2.1)</span>\n",
    "```\n",
    "Q ⇒ ∆(i < N)\n",
    "```\n",
    "\n",
    "<span style = \"float:right\">(2.2)</span>\n",
    "```algorithm\n",
    "{Q ∧ i < N}\n",
    "if wins(i - 1) = wins(i) then\n",
    "    c := c + 1\n",
    "    if c > s then s := c\n",
    "else c := 1\n",
    "i := i + 1\n",
    "{Q}\n",
    "```\n",
    "\n",
    "<span style = \"float:right\">(2.3)</span>\n",
    "```\n",
    "Q ∧ ¬(i < N) ⇒ R\n",
    "```"
   ]
  }
 ],
 "metadata": {
  "kernelspec": {
   "display_name": "Python 3 (ipykernel)",
   "language": "python",
   "name": "python3"
  },
  "language_info": {
   "codemirror_mode": {
    "name": "ipython",
    "version": 3
   },
   "file_extension": ".py",
   "mimetype": "text/x-python",
   "name": "python",
   "nbconvert_exporter": "python",
   "pygments_lexer": "ipython3",
   "version": "3.13.0"
  }
 },
 "nbformat": 4,
 "nbformat_minor": 4
}
