{
 "cells": [
  {
   "cell_type": "markdown",
   "metadata": {
    "nbgrader": {
     "grade": false,
     "grade_id": "cell-155edc14d3667376",
     "locked": true,
     "schema_version": 3,
     "solution": false,
     "task": false
    },
    "slideshow": {
     "slide_type": "slide"
    }
   },
   "source": [
    "### Monotonic Array"
   ]
  },
  {
   "cell_type": "markdown",
   "metadata": {},
   "source": [
    "Given array `a: 0 .. N – 1 → integer` for constant `N > 0`, write a predicate, `P(n)`, that states that  all elements of `a` from `1` to `n – 1` are strictly greater than their predecessor."
   ]
  },
  {
   "cell_type": "markdown",
   "metadata": {
    "solution": "hidden",
    "solution_first": true
   },
   "source": [
    "```\n",
    "Your predicate here\n",
    "```"
   ]
  },
  {
   "cell_type": "markdown",
   "metadata": {
    "jupyter": {
     "source_hidden": true
    },
    "solution": "hidden"
   },
   "source": [
    "_Answer:_\n",
    "```\n",
    "P(n) = (∀ i ∈ 1 .. n – 1 • a(i – 1) < a(i))\n",
    "```\n",
    "or, alternatively,\n",
    "```\n",
    "P(n) = (∀ i ∈ 0 .. n – 2 • a(i) < a(i + 1))\n",
    "```\n"
   ]
  },
  {
   "cell_type": "markdown",
   "metadata": {},
   "source": [
    "Using a single loop, write a procedure that establishes the postcondition `m = P(N)`. The procedure has to compare first `a(0)` and `a(1)`, then `a(1)` and `a(2)`, etc. Give the annotation required to prove the correctness of the procedure!"
   ]
  },
  {
   "cell_type": "markdown",
   "metadata": {
    "solution": "hidden",
    "solution_first": true
   },
   "source": [
    "```\n",
    "procedure monotonic(a: 0 .. N – 1 → integer) → (m: boolean)\n",
    "    Your algorithm here\n",
    "    {m = P(N)}\n",
    "```"
   ]
  },
  {
   "cell_type": "markdown",
   "metadata": {
    "jupyter": {
     "source_hidden": true
    },
    "solution": "hidden"
   },
   "source": [
    "_Answer:_  \n",
    "```algorithm\n",
    "procedure monotonic(a: 0 .. N – 1 → integer) → (m: boolean)\n",
    "    n := 1\n",
    "    {1 ≤ n ≤ N ∧ P(n)}\n",
    "    while n < N and a(n – 1) < a(n) do n := n + 1\n",
    "    {(n = N ∧ P(N)) ∨ (1 ≤ n < N ∧ a(n – 1) ≥ a(n))}\n",
    "    m := n = N\n",
    "    {m = P(N)}\n",
    "```"
   ]
  },
  {
   "cell_type": "markdown",
   "metadata": {},
   "source": [
    "State the resulting correctness conditions!"
   ]
  },
  {
   "cell_type": "markdown",
   "metadata": {},
   "source": [
    "Your correctness conditions here"
   ]
  },
  {
   "cell_type": "markdown",
   "metadata": {
    "jupyter": {
     "source_hidden": true
    }
   },
   "source": [
    "_Answer:_  \n",
    "1. `{true} n := 1 {1 ≤ n ≤ N ∧ P(n)}`\n",
    "2. ```algorithm\n",
    "    {1 ≤ n ≤ N ∧ P(n)}\n",
    "   while n < N and a(n – 1) < a(n) do n := n + 1\n",
    "   {(n = N ∧ P(N)) ∨ (1 ≤ n < N ∧ a(n – 1) ≥ a(n))}\n",
    "   ```\n",
    "   which holds if  \n",
    "    2.1. `{1 ≤ n ≤ N ∧ P(n) ∧ n < N ∧ a(n – 1) < a(n)} n := n + 1 {1 ≤ n ≤ N ∧ P(n)}`  \n",
    "    2.2. `1 ≤ n ≤ N ∧ P(n) ∧ ¬(n < N ∧ a(n – 1) < a(n)) ⇒ (n = N ∧ P(N)) ∨ (1 ≤ n < N ∧ a(n – 1) ≥ a(n))`\n",
    "3. `{(n = N ∧ P(N)) ∨ (1 ≤ n < N ∧ a(n – 1) ≥ a(n))} m := n = N {m = P(N)}`"
   ]
  },
  {
   "cell_type": "markdown",
   "metadata": {},
   "source": [
    "Prove the conditions!"
   ]
  },
  {
   "cell_type": "markdown",
   "metadata": {},
   "source": [
    "Your proofs here"
   ]
  },
  {
   "cell_type": "markdown",
   "metadata": {
    "jupyter": {
     "source_hidden": true
    }
   },
   "source": [
    "_Answer:_  \n",
    "1.\n",
    "```algorithm\n",
    "    {true} n := 1 {1 ≤ n ≤ N ∧ P(n)}`\n",
    "≡       {correctness of assignments}\n",
    "    true ⇒ (1 ≤ n ≤ N ∧ P(n))[n := 1]\n",
    "≡       {logic, substitution}\n",
    "    1 ≤ 1 ≤ N ∧ P(1)\n",
    "≡       {assumption `N > 0`, definition of `P`}\n",
    "    true\n",
    "````\n",
    "\n",
    "2.1.\n",
    "```algorithm\n",
    "    {1 ≤ n ≤ N ∧ P(n) ∧ n < N ∧ a(n – 1) < a(n)} n := n + 1 {1 ≤ n ≤ N ∧ P(n)}\n",
    "≡       {correctness of assignments}\n",
    "    1 ≤ n ≤ N ∧ P(n) ∧ n < N ∧ a(n – 1) < a(n) ⇒ (1 ≤ n ≤ N ∧ P(n))[n := n + 1]\n",
    "≡       {substitution}\n",
    "    1 ≤ n ≤ N ∧ P(n) ∧ n < N ∧ a(n – 1) < a(n) ⇒ 1 ≤ n + 1 ≤ N ∧ P(n + 1)\n",
    "≡       {as 1 ≤ n ⇒ 1 ≤ n + 1 and n < N ⇒ n + 1 ≤ N}\n",
    "    1 ≤ n ≤ N ∧ P(n) ∧ n < N ∧ a(n – 1) < a(n) ⇒ P(n + 1)\n",
    "≡       {as P(n) ∧ a(n – 1) < a(n) ⇒ P(n + 1)}\n",
    "     true\n",
    "```\n",
    "\n",
    "2.2.\n",
    "```algorithm\n",
    "    1 ≤ n ≤ N ∧ P(n) ∧ ¬(n < N ∧ a(n – 1) < a(n))\n",
    "≡       {logic}\n",
    "    1 ≤ n ≤ N ∧ P(n) ∧ (n ≥ N ∨ a(n – 1) ≥ a(n))\n",
    "⇒       {distributivity, n ≤ N ∧ n ≥ N ⇒ n = N, logic}\n",
    "    (n = N ∧ P(N)) ∨ (1 ≤ n < N ∧ a(n – 1) ≥ a(n))\n",
    "```\n",
    "\n",
    "3.\n",
    "```algorithm\n",
    "    {(n = N ∧ P(N)) ∨ (1 ≤ n < N ∧ a(n – 1) ≥ a(n))} m := n = N {m = P(N)}\n",
    "≡       {correctness of assignments}\n",
    "    (n = N ∧ P(N)) ∨ (1 ≤ n < N ∧ a(n – 1) ≥ a(n)) ⇒ (m = P(N))[m := n = N]\n",
    "≡       {substitution}\n",
    "    (n = N ∧ P(N)) ∨ (1 ≤ n < N ∧ a(n – 1) ≥ a(n)) ⇒ (n = N) = P(N)\n",
    "≡       {distributivity}\n",
    "    (n = N ∧ P(N) ⇒ (n = N) = P(N)) ∧ (1 ≤ n < N ∧ a(n – 1) ≥ a(n) ⇒ (n = N) = P(N))\n",
    "≡       {as 1 ≤ n < N ∧ a(n – 1) ≥ a(n) ⇒ ¬P(N), logic}\n",
    "    true\n",
    "```"
   ]
  },
  {
   "cell_type": "markdown",
   "metadata": {},
   "source": [
    "Write a predicate, `Q(n)`, that states that  all elements of `a` from `n + 1` to `N – 1` are strictly greater than their predecessor."
   ]
  },
  {
   "cell_type": "markdown",
   "metadata": {},
   "source": [
    "```\n",
    "Your predicate here\n",
    "```"
   ]
  },
  {
   "cell_type": "markdown",
   "metadata": {
    "jupyter": {
     "source_hidden": true
    }
   },
   "source": [
    "_Answer:_\n",
    "```\n",
    "Q(n) = (∀ i ∈ n + 1 .. N – 1 • a(i – 1) < a(i))\n",
    "```"
   ]
  },
  {
   "cell_type": "markdown",
   "metadata": {},
   "source": [
    "Using a single loop, write a procedure that establishes the postcondition `m = Q(0)`. The procedure has to compare first `a(N –1)` and `a(N – 2)`, then `a(N – 2)` and `a(N – 3)`, etc. Give the annotation required to prove the correctness of the procedure!"
   ]
  },
  {
   "cell_type": "markdown",
   "metadata": {},
   "source": [
    "```\n",
    "procedure monotonic(a: 0 .. N – 1 → integer) → (m: boolean)\n",
    "    Your algorithm here\n",
    "    {m = Q(0)}\n",
    "```"
   ]
  },
  {
   "cell_type": "markdown",
   "metadata": {
    "jupyter": {
     "source_hidden": true
    }
   },
   "source": [
    "_Answer:_  \n",
    "```algorithm\n",
    "procedure monotonic(a: 0 .. N – 1 → integer) → (m: boolean)\n",
    "    n := N – 1\n",
    "    {0 ≤ n < N ∧ Q(n)}\n",
    "    while n > 0 and a(n – 1) < a(n) do n := n – 1\n",
    "    {(n = 0 ∧ Q(0)) ∨ (1 ≤ n < N ∧ a(n – 1) ≥ a(n))}\n",
    "    m := n = 0\n",
    "    {m = Q(0)}\n",
    "```"
   ]
  },
  {
   "cell_type": "markdown",
   "metadata": {},
   "source": [
    "Now state the resulting correctness conditions!"
   ]
  },
  {
   "cell_type": "markdown",
   "metadata": {},
   "source": [
    "Your conditions here"
   ]
  },
  {
   "cell_type": "markdown",
   "metadata": {
    "jupyter": {
     "source_hidden": true
    }
   },
   "source": [
    "_Answer:_  \n",
    "1. `{true} n := N – 1 {0 ≤ n < N ∧ Q(n)}`\n",
    "2. ```algorithm\n",
    "    {0 ≤ n < N ∧ Q(n)}\n",
    "   while n > 0 and a(n – 1) < a(n) do n := n – 1\n",
    "   {(n = 0 ∧ Q(0)) ∨ (1 ≤ n < N ∧ a(n – 1) ≥ a(n))}\n",
    "   ```\n",
    "   which holds if  \n",
    "    2.1. `{0 ≤ n < N ∧ Q(n) ∧ n > 0 ∧ a(n – 1) < a(n)} n := n – 1 {0 ≤ n < N ∧ Q(n)}`  \n",
    "    2.2. `0 ≤ n < N ∧ Q(n) ∧ ¬(n > 0 ∧ a(n – 1) < a(n)) ⇒ (n = 0 ∧ Q(0)) ∨ (1 ≤ n < N ∧ a(n – 1) ≥ a(n))`\n",
    "4. `{(n = 0 ∧ Q(0)) ∨ (1 ≤ n < N ∧ a(n – 1) ≥ a(n))} m := n = 0 {m = Q(0)}`"
   ]
  },
  {
   "cell_type": "markdown",
   "metadata": {},
   "source": [
    "Prove the conditions!"
   ]
  },
  {
   "cell_type": "markdown",
   "metadata": {},
   "source": [
    "Your proofs here"
   ]
  },
  {
   "cell_type": "markdown",
   "metadata": {
    "jupyter": {
     "source_hidden": true
    }
   },
   "source": [
    "_Answer:_  \n",
    "1.\n",
    "```algorithm\n",
    "    {true} n := N – 1 {0 ≤ n < N ∧ Q(n)}`\n",
    "≡       {correctness of assignments}\n",
    "    true ⇒ (0 ≤ n < N ∧ Q(n))[n := N – 1]\n",
    "≡       {logic, substitution}\n",
    "    0 ≤ N – 1 < N ∧ Q(N – 1)\n",
    "≡       {assumption `N > 0`, definition of `Q`}\n",
    "    true\n",
    "````\n",
    "\n",
    "2.1.\n",
    "```algorithm\n",
    "    {0 ≤ n < N ∧ Q(n) ∧ n > 0 ∧ a(n – 1) < a(n)} n := n – 1 {0 ≤ n < N ∧ Q(n)}\n",
    "≡       {correctness of assignments}\n",
    "    0 ≤ n < N ∧ Q(n) ∧ n > 0 ∧ a(n – 1) < a(n) ⇒ (0 ≤ n < N ∧ Q(n))[n := n – 1]\n",
    "≡       {substitution}\n",
    "    0 ≤ n < N ∧ Q(n) ∧ n > 0 ∧ a(n – 1) < a(n) ⇒ 0 ≤ n – 1 < N ∧ Q(n – 1)\n",
    "≡       {as n < N ⇒ n – 1 < N and n > 0 ⇒ 0 ≤ n – 1}\n",
    "    0 ≤ n < N ∧ Q(n) ∧ n > 0 ∧ a(n – 1) < a(n) ⇒ Q(n – 1)\n",
    "≡       {as Q(n) ∧ a(n – 1) < a(n) ⇒ Q(n – 1)}\n",
    "     true\n",
    "```\n",
    "\n",
    "2.2.\n",
    "```algorithm\n",
    "    0 ≤ n < N ∧ Q(n) ∧ ¬(n > 0 ∧ a(n – 1) < a(n))\n",
    "≡       {logic}\n",
    "    0 ≤ n < N ∧ Q(n) ∧ (n ≤ 0 ∨ a(n – 1) ≥ a(n))\n",
    "⇒       {distributivity, 0 ≤ n ∧ n ≤ 0 ⇒ n = 0, logic}\n",
    "    (n = 0 ∧ Q(0)) ∨ (1 ≤ n < N ∧ a(n – 1) ≥ a(n))\n",
    "```\n",
    "\n",
    "3.\n",
    "```algorithm\n",
    "    {(n = 0 ∧ Q(0)) ∨ (1 ≤ n < N ∧ a(n – 1) ≥ a(n))} m := n = 0 {m = Q(0)}\n",
    "≡       {correctness of assignments}\n",
    "    (n = 0 ∧ Q(0)) ∨ (1 ≤ n < N ∧ a(n – 1) ≥ a(n)) ⇒ (m = Q(0))[m := n = 0]\n",
    "≡       {substitution}\n",
    "    (n = 0 ∧ Q(0)) ∨ (1 ≤ n < N ∧ a(n – 1) ≥ a(n)) ⇒ ((n = 0) = Q(0))\n",
    "≡       {distributivity}\n",
    "    (n = 0 ∧ Q(0) ⇒ (n = 0) = Q(0)) ∧ (1 ≤ n < N ∧ a(n – 1) ≥ a(n) ⇒ (n = 0) = Q(0))\n",
    "≡       {as 1 ≤ n < N ∧ a(n – 1) ≥ a(n) ⇒ ¬Q(0), logic}\n",
    "    true\n",
    "```"
   ]
  }
 ],
 "metadata": {
  "kernelspec": {
   "display_name": "Python 3 (ipykernel)",
   "language": "python",
   "name": "python3"
  },
  "language_info": {
   "codemirror_mode": {
    "name": "ipython",
    "version": 3
   },
   "file_extension": ".py",
   "mimetype": "text/x-python",
   "name": "python",
   "nbconvert_exporter": "python",
   "pygments_lexer": "ipython3",
   "version": "3.11.1"
  }
 },
 "nbformat": 4,
 "nbformat_minor": 4
}
