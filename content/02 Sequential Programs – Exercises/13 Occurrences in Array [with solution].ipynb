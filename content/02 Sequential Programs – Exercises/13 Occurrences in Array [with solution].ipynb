{
 "cells": [
  {
   "cell_type": "markdown",
   "metadata": {
    "nbgrader": {
     "grade": false,
     "grade_id": "cell-155edc14d3667376",
     "locked": true,
     "schema_version": 3,
     "solution": false,
     "task": false
    },
    "slideshow": {
     "slide_type": "slide"
    }
   },
   "source": [
    "### Occurrences in Array"
   ]
  },
  {
   "cell_type": "markdown",
   "metadata": {},
   "source": [
    "Given array `a: 0 .. N – 1 → integer` for constant `N ≥ 0`, write a mathematical function, `count(a, x, n)`, that states how often integer `x` occurs in `a` from  `0` to `n – 1` for `0 ≤ n ≤ N`. *Hint:* You may use `#s` for the cardinality of set `s`, as in `#{i ∈ 0 .. n – 1 | i² < n}`."
   ]
  },
  {
   "cell_type": "markdown",
   "metadata": {
    "solution": "hidden",
    "solution_first": true
   },
   "source": [
    "```\n",
    "Your function here\n",
    "```"
   ]
  },
  {
   "cell_type": "markdown",
   "metadata": {
    "jupyter": {
     "source_hidden": true
    },
    "solution": "hidden"
   },
   "source": [
    "_Answer:_\n",
    "```algorithm\n",
    "count(a, x, n) = #{i ∈ 0 .. n – 1 | a(i) = x}\n",
    "```"
   ]
  },
  {
   "cell_type": "markdown",
   "metadata": {},
   "source": [
    "Using a single loop, write a procedure that establishes the postcondition `c = count(a, x, N)`.  Give the annotation required to prove the correctness of the procedure!"
   ]
  },
  {
   "cell_type": "markdown",
   "metadata": {
    "solution": "hidden",
    "solution_first": true
   },
   "source": [
    "```\n",
    "procedure occurrences(a: 0 .. N – 1 → integer) → (c: integer)\n",
    "    Your algorithm here\n",
    "    {c = count(a, x, N)}\n",
    "```"
   ]
  },
  {
   "cell_type": "markdown",
   "metadata": {
    "jupyter": {
     "source_hidden": true
    },
    "solution": "hidden"
   },
   "source": [
    "_Answer:_\n",
    "```algorithm\n",
    "procedure occurrences(a: 0 .. N – 1 → integer) → (c: integer)\n",
    "    n, c := 0, 0\n",
    "    {0 ≤ n ≤ N ∧ c = count(a, x, n)}\n",
    "    while n < N do\n",
    "        if a(n) = x then c := c + 1\n",
    "        {0 ≤ n + 1 ≤ N ∧ c = count(n + 1)}\n",
    "        n := n + 1\n",
    "    {c = count(a, x, N)}\n",
    "```"
   ]
  },
  {
   "cell_type": "markdown",
   "metadata": {},
   "source": [
    "Now state the resulting correctness conditions!"
   ]
  },
  {
   "cell_type": "markdown",
   "metadata": {
    "solution": "hidden",
    "solution_first": true
   },
   "source": [
    "Your correctness conditions here"
   ]
  },
  {
   "cell_type": "markdown",
   "metadata": {
    "jupyter": {
     "source_hidden": true
    },
    "solution": "hidden"
   },
   "source": [
    "_Answer:_\n",
    "\n",
    "1. `{true} n, c := 0, 0 {0 ≤ n < N ∧ c = count(n)}` if  \n",
    "  `true ⇒ (0 ≤ n < N ∧ c = count(n))[n, c := 0, 0]`\n",
    "\n",
    "2. `{0 ≤ n < N ∧ c = count(n)} while n < N do ((if a(n) = x then c := c + 1) ; n := n + 1) {c = count(N)}`\n",
    "    which holds if\n",
    "\n",
    "    2.1  `{0 ≤ n < N ∧ c = count(n) ∧ n < N} (if a(n) = x then c := c + 1) ; n := n + 1 {0 ≤ n ≤ N ∧ c = count(n)}`\n",
    "    which holds if\n",
    "\n",
    "    2.1.1 `{0 ≤ n < N ∧ c = count(n) ∧ n < N} if a(n) = x then c := c + 1 {0 ≤ n + 1 ≤ N ∧ c = count(n + 1)}`\n",
    "    which holds if\n",
    "    \n",
    "   2.1.1.1 `{0 ≤ n < N ∧ c = count(n) ∧ n < N  ∧ a(n) ≠ x} c := c + 1 {0 ≤ n + 1 ≤ N ∧ c = count(n + 1)}`  \n",
    "   2.1.1.2 `0 ≤ n < N ∧ c = count(n) ∧ n < N ∧ a(n) ≠ x ⇒ 0 ≤ n + 1 ≤ N ∧ c = count(n + 1)`\n",
    "\n",
    "    2.1.2 `{0 ≤ n + 1 < N ∧ c = count(n + 1)} n := n + 1 {0 ≤ n < N ∧ c = count(n)}`\n",
    "\n",
    "    2.2.  `0 ≤ n < N ∧ c = count(n) ∧ ¬(n < N) ⇒ c = count(N)`"
   ]
  }
 ],
 "metadata": {
  "kernelspec": {
   "display_name": "Python 3 (ipykernel)",
   "language": "python",
   "name": "python3"
  },
  "language_info": {
   "codemirror_mode": {
    "name": "ipython",
    "version": 3
   },
   "file_extension": ".py",
   "mimetype": "text/x-python",
   "name": "python",
   "nbconvert_exporter": "python",
   "pygments_lexer": "ipython3",
   "version": "3.13.0"
  }
 },
 "nbformat": 4,
 "nbformat_minor": 4
}
