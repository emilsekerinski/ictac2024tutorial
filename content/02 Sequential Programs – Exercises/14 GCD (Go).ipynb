{
 "cells": [
  {
   "cell_type": "markdown",
   "metadata": {
    "nbgrader": {
     "grade": false,
     "grade_id": "cell-84459635959386c2",
     "locked": true,
     "schema_version": 3,
     "solution": false,
     "task": false
    }
   },
   "source": [
    "### GCD (Go)"
   ]
  },
  {
   "cell_type": "markdown",
   "metadata": {
    "nbgrader": {
     "grade": false,
     "grade_id": "cell-483532018ddd56f6",
     "locked": true,
     "schema_version": 3,
     "solution": false,
     "task": false
    }
   },
   "source": [
    "Consider the following algorithm for multiplication by addition:\n",
    "\n",
    "```algorithm\n",
    "procedure mult(x, y: integer) → (z: integer)\n",
    "    {x ≥ 0}\n",
    "    var u: integer\n",
    "        z, u := 0, x\n",
    "        {z + u × y = x × y ∧ u ≥ 0}\n",
    "        while u > 0 do\n",
    "            z, u := z + y, u – 1\n",
    "    {z = x × y}\n",
    "```\n",
    "\n",
    "The following implementations in Go illustrate various language elements:\n",
    "- Go has multiple assignment statements.\n",
    "- Functions (procedures) can have multiple result parameters; these can be named or be unnamed.\n",
    "- Both while-loops and for-loops use `for` as the keyword.\n",
    "- The notation `u := x` is shorthand for `var u int = x`, if `int` is the inferred type of `x`.\n",
    "- While Go has no assert statements, `panic` can be used. The built-in `panic` function raises (throws) an exception, although the structure for catching exceptions is different from Java and Python; see the Go Blog on [Defer, Panic, Recover](https://blog.golang.org/defer-panic-and-recover)."
   ]
  },
  {
   "cell_type": "code",
   "execution_count": null,
   "metadata": {},
   "outputs": [],
   "source": [
    "%%writefile mult.go\n",
    "package main\n",
    "\n",
    "func mult0(x, y int) (z int) {\n",
    "    var u int\n",
    "    z, u = 0, x\n",
    "    for u > 0 {\n",
    "        z, u = z + y, u - 1\n",
    "    }\n",
    "    return\n",
    "}\n",
    "func mult1(x, y int) int {\n",
    "    if !(x >= 0) {panic(\"mult1: precondition violation\")}\n",
    "    u, z := x, 0\n",
    "    if !(z + u * y == x * y && u >= 0) {panic(\"mult1: invariant violation\")}\n",
    "    for u > 0 {\n",
    "        z, u = z + y, u - 1\n",
    "        if !(z + u * y == x * y && u >= 0) {panic(\"mult1: invariant violation\")}\n",
    "    }\n",
    "    if !(z == x * y) {panic(\"mult1: postcondition violation\")}\n",
    "    return z\n",
    "}\n",
    "func mult2(x, y int) (int) {\n",
    "    z := 0\n",
    "    for u := x; u > 0; u-- {z += y}\n",
    "    return z\n",
    "}\n",
    "func main() {\n",
    "    println(mult0(3, 4)); println(mult1(3, 4))\n",
    "    println(mult2(3, 4)); println(mult1(-1, -1))\n",
    "}"
   ]
  },
  {
   "cell_type": "code",
   "execution_count": null,
   "metadata": {},
   "outputs": [],
   "source": [
    "!go run mult.go"
   ]
  },
  {
   "cell_type": "markdown",
   "metadata": {
    "nbgrader": {
     "grade": false,
     "grade_id": "cell-fc4fedc2ff7859df",
     "locked": true,
     "schema_version": 3,
     "solution": false,
     "task": false
    }
   },
   "source": [
    "Consider now the following algorithm for computing the greatest common divisor:\n",
    "\n",
    "```algorithm\n",
    "procedure euclid(x, y: integer) → (a: integer)\n",
    "    {x > 0 ∧ y > 0}\n",
    "    var b: integer\n",
    "        a, b := x, y\n",
    "        {gcd(a, b) = gcd(x, y) ∧ a > 0 ∧ b > 0}\n",
    "        while a ≠ b do\n",
    "            if a > b then\n",
    "                a := a – b\n",
    "            else\n",
    "                b := b – a\n",
    "    {a = gcd(x, y)}\n",
    "```\n",
    "\n",
    "Implement it in Go! The syntax for if-statements is:\n",
    "```Go\n",
    "if condition {statement} else {statement}\n",
    "```\n",
    "No parentheses around the condition are needed, but braces around the statements are. Note that an end-of-line is sometimes interpreted as finishing a statement (and implicitly causes `;` to be inserted to terminate a statement): after `if c {s}` on one line, `else` cannot go on the next line. "
   ]
  },
  {
   "cell_type": "code",
   "execution_count": null,
   "metadata": {
    "solution": "hidden",
    "solution_first": true
   },
   "outputs": [],
   "source": [
    "%%writefile euclid.go\n",
    "\n",
    "YOUR CODE HERE"
   ]
  },
  {
   "cell_type": "code",
   "execution_count": null,
   "metadata": {
    "jupyter": {
     "source_hidden": true
    },
    "solution": "hidden"
   },
   "outputs": [],
   "source": [
    "%%writefile euclid.go\n",
    "package main\n",
    "\n",
    "func euclid(x, y int) (int) {\n",
    "    a, b := x, y\n",
    "    for a != b {\n",
    "        if a > b {a -= b\n",
    "        } else {b -= a}\n",
    "    }\n",
    "    return a\n",
    "}\n",
    "func main() {\n",
    "    println(euclid(9, 12))\n",
    "}"
   ]
  },
  {
   "cell_type": "code",
   "execution_count": null,
   "metadata": {},
   "outputs": [],
   "source": [
    "!go run euclid.go"
   ]
  }
 ],
 "metadata": {
  "celltoolbar": "Create Assignment",
  "kernelspec": {
   "display_name": "Python 3 (ipykernel)",
   "language": "python",
   "name": "python3"
  },
  "language_info": {
   "codemirror_mode": {
    "name": "ipython",
    "version": 3
   },
   "file_extension": ".py",
   "mimetype": "text/x-python",
   "name": "python",
   "nbconvert_exporter": "python",
   "pygments_lexer": "ipython3",
   "version": "3.11.2"
  }
 },
 "nbformat": 4,
 "nbformat_minor": 4
}
