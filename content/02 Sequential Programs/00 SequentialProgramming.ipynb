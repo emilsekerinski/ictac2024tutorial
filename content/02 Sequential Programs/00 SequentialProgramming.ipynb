{
 "cells": [
  {
   "cell_type": "markdown",
   "metadata": {
    "slideshow": {
     "slide_type": "slide"
    },
    "tags": []
   },
   "source": [
    "<div style=\"float:right;border-left:1em solid transparent\">\n",
    "    <i>Notebooks on Programming</i>\n",
    "</div>\n",
    "\n",
    "---\n",
    "# Sequential Programming - Draft\n",
    "**[Emil Sekerinski](http://www.cas.mcmaster.ca/~emil), McMaster University, November 2024**\n",
    "\n",
    "---\n",
    "\n",
    "<figure style=\"float:right\" >\n",
    "    <img style=\"width:9.5em\" src=\"./img/by-nc-nd.png\"/>\n",
    "    <figcaption style=\"width:13em;font-size:80%\"><a href=\"https://creativecommons.org/licenses/by-nc-nd/4.0/\">Licensed under Creative Commons CC BY-NC-ND</a>\n",
    "    </figcaption>\n",
    "</figure>"
   ]
  },
  {
   "cell_type": "markdown",
   "metadata": {
    "editable": true,
    "slideshow": {
     "slide_type": "slide"
    },
    "tags": []
   },
   "source": [
    "## Statements"
   ]
  },
  {
   "cell_type": "markdown",
   "metadata": {
    "editable": true,
    "slideshow": {
     "slide_type": ""
    },
    "tags": []
   },
   "source": [
    "In programming languages, commands are called *statements*. The following notation follows programming languages, which makes `skip` unnecessary.\n",
    "\n",
    "The _conditional statement_ evaluates a Boolean expression and executes a statement or does nothing, depending on the result. Suppose `S`, `T` are statements and `B` is a Boolean expression:\n",
    "\n",
    "<div style=\"float:left;border-left:2em solid transparent\">\n",
    "\n",
    "```algorithm\n",
    "if B then S else T\n",
    "```\n",
    "\n",
    "</div>\n",
    "<img style=\"float:left;border-left:6em solid transparent\" src=\"./img/Conditional2.svg\"/>"
   ]
  },
  {
   "cell_type": "markdown",
   "metadata": {
    "editable": true,
    "slideshow": {
     "slide_type": ""
    },
    "tags": []
   },
   "source": [
    "<div style=\"float:left;border-left:2em solid transparent\">\n",
    "\n",
    "```algorithm\n",
    "if B then S\n",
    "```\n",
    "\n",
    "</div>\n",
    "<img style=\"float:left;border-left:6em solid transparent\" src=\"./img/Conditional1.svg\"/>"
   ]
  },
  {
   "cell_type": "markdown",
   "metadata": {
    "editable": true,
    "slideshow": {
     "slide_type": "slide"
    },
    "tags": []
   },
   "source": [
    "The _repetitive statement_ executes the *body*, a statement, as long as the *condition*, a Boolean expression, is true. Suppose `S` is a statement and `B` is a Boolean expression:\n",
    "\n",
    "<div style=\"float:left;border-left:2em solid transparent\">\n",
    "\n",
    "```algorithm\n",
    "while B do S\n",
    "```\n",
    "\n",
    "</div>\n",
    "<img style=\"float:left;border-left:6em solid transparent\" src=\"./img/Repetition.svg\"/>"
   ]
  },
  {
   "cell_type": "markdown",
   "metadata": {
    "editable": true,
    "slideshow": {
     "slide_type": "slide"
    },
    "tags": []
   },
   "source": [
    "Statements can be composed to form more complex statements. For multi-line statements, indentation is used to avoid explicit parenthesis and the `;` operator is left out at the end of lines. The following statements are the same:\n",
    "\n",
    "```algorithm\n",
    "if B then                   if B then (S ; T)\n",
    "    S\n",
    "    T\n",
    "\n",
    "if B then                   if B then (if C then S else T)\n",
    "    if C then\n",
    "        S\n",
    "    else\n",
    "        T\n",
    "```"
   ]
  },
  {
   "cell_type": "markdown",
   "metadata": {
    "editable": true,
    "slideshow": {
     "slide_type": "slide"
    },
    "tags": []
   },
   "source": [
    "## Correctness"
   ]
  },
  {
   "cell_type": "markdown",
   "metadata": {
    "editable": true,
    "slideshow": {
     "slide_type": ""
    },
    "tags": []
   },
   "source": [
    "In general, for predicates `P` and `Q`, the _correctness assertion expresses that under _precondition_ `P` statement `S` establishes _postcondition_ `Q` (colour distinguishes programs from properties):"
   ]
  },
  {
   "cell_type": "markdown",
   "metadata": {
    "editable": true,
    "slideshow": {
     "slide_type": ""
    },
    "tags": []
   },
   "source": [
    "<div style=\"float:left;border-left:2em solid transparent\">\n",
    "\n",
    "```algorithm\n",
    "{P}  S  {Q}\n",
    "```\n",
    "\n",
    "</div>\n",
    "<img style=\"float:left;border-left:6em solid transparent\" src=\"./img/CorrectnessAssertion.svg\"/>"
   ]
  },
  {
   "cell_type": "markdown",
   "metadata": {
    "editable": true,
    "slideshow": {
     "slide_type": "slide"
    },
    "tags": []
   },
   "source": [
    "The correctness rules can be equivalently expressed in textual form, which is more suitable for larger programs. There is one rule for each kind of statement:\n",
    "\n",
    "\n",
    "**Rules for correctness of statements**\n",
    "\n",
    "<div style=\"display:table; border-top:1em solid transparent\">\n",
    "  <div style = \"display:table-cell; border-left:24px solid transparent; vertical-align:middle\">\n",
    "    <code>{P} x, y := E, F {Q}</code> <br><br>\n",
    "    <code>{P} S ; T {R}</code> <br><br>\n",
    "    <code>{P} if B then S else T {Q}</code> <br><br>\n",
    "    <code>{P} if B then S {Q}</code> <br><br>\n",
    "    <code>{P} while B do S {Q}</code> \n",
    "  </div>\n",
    "  <div style = \"display:table-cell; border-left:12px solid transparent; vertical-align:middle\" >\n",
    "    if &nbsp; <code>P ⇒ Q[x, y := E, F]</code> <br><br>\n",
    "    if &nbsp; <code>{P} S {Q}</code> &nbsp; and &nbsp;<code>{Q} T {R}</code> <br><br>\n",
    "    if &nbsp; <code>{P ∧ B} S {Q}</code> &nbsp; and &nbsp;<code>{P ∧ ¬B} T {Q}</code> <br><br>\n",
    "    if &nbsp; <code>{P ∧ B} S {Q}</code> &nbsp; and &nbsp;<code>P ∧ ¬B ⇒ Q</code> <br><br>\n",
    "    if &nbsp; <code>{P ∧ B} S {P}</code> &nbsp; and &nbsp;<code>P ∧ ¬B ⇒ Q</code>\n",
    "  </div>\n",
    "</div>"
   ]
  },
  {
   "cell_type": "markdown",
   "metadata": {
    "editable": true,
    "slideshow": {
     "slide_type": "slide"
    },
    "tags": []
   },
   "source": [
    "*Example (Integer Multiplication).* The annotated program is to the right. By the rule for sequential composition, correctness follows from:\n",
    "\n",
    "<span style = \"float:right;border-left:1em solid transparent\">\n",
    "\n",
    "```algorithm\n",
    "{x ≥ 0}\n",
    "z, u := 0, x\n",
    "{z + u × y = x × y ∧ u ≥ 0}\n",
    "while u > 0 do\n",
    "    z, u := z + y, u – 1\n",
    "{z = x × y}\n",
    "```\n",
    "\n",
    "</span>\n",
    "\n",
    "<span style = \"float:left;border-right:1em solid transparent\">(1)</span>\n",
    "\n",
    "```algorithm\n",
    "{x ≥ 0}\n",
    "z, u := 0, x\n",
    "{z + u × y = x × y ∧ u ≥ 0}\n",
    "```\n",
    "\n",
    "<span style = \"float:left;border-right:1em solid transparent\">(2)</span>\n",
    "\n",
    "```algorithm\n",
    "{z + u × y = x × y ∧ u ≥ 0}\n",
    "while u > 0 do\n",
    "    z, u := z + y, u – 1\n",
    "{z = x × y}\n",
    "```"
   ]
  },
  {
   "cell_type": "markdown",
   "metadata": {
    "editable": true,
    "slideshow": {
     "slide_type": ""
    },
    "tags": []
   },
   "source": [
    "For (2), the rule of repetition leads to:\n",
    "\n",
    "<span style = \"float:left;border-right:1em solid transparent\">(2.1)</span>\n",
    "\n",
    "```algorithm\n",
    "{z + u × y = x × y ∧ u ≥ 0 ∧ u > 0}\n",
    "z, u := z + y, u – 1\n",
    "{z + u × y = x × y ∧ u ≥ 0}\n",
    "```\n",
    "\n",
    "<span style = \"float:left;border-right:1em solid transparent\">(2.2)</span>\n",
    "\n",
    "```algorithm\n",
    "z + u × y = x × y ∧ u ≥ 0 ∧ u ≤ 0 ⇒ z = x × y\n",
    "```"
   ]
  },
  {
   "cell_type": "markdown",
   "metadata": {
    "editable": true,
    "slideshow": {
     "slide_type": ""
    },
    "solution": "hidden",
    "solution_first": true,
    "tags": []
   },
   "source": [
    "*Exercise.* Prove the conditions (1), (2.1), (2.2). For (1) and (2.1), first apply the rule for assignments!"
   ]
  },
  {
   "cell_type": "markdown",
   "metadata": {
    "solution": "hidden"
   },
   "source": [
    "For (1), the rule for assignments leads to:\n",
    "\n",
    "```algorithm\n",
    "x ≥ 0 ⇒ (z + u × y = x × y ∧ u ≥ 0)[z, u := 0, x]\n",
    "```\n",
    "\n",
    "This holds as:\n",
    "\n",
    "```algorithm\n",
    "    (z + u × y = x × y ∧ u ≥ 0)[z, u := 0, x]\n",
    "≡        {by substitution, leaving out parenthesis}\n",
    "    0 + x × y = x × y ∧ u ≥ 0\n",
    "≡        {by arithmetic, logic}\n",
    "    u ≥ 0\n",
    "```\n",
    "\n",
    "For (2.1), the rule for assignments leads to:\n",
    "\n",
    "```algorithm\n",
    "z + u × y = x × y ∧ u ≥ 0 ∧ u > 0 ⇒ (z + u × y = x × y ∧ u ≥ 0)[z, u := z + y, u – 1]\n",
    "```\n",
    "\n",
    "This holds as:\n",
    "\n",
    "```algorithm\n",
    "    (z + u × y = x × y ∧ u ≥ 0)[z, u := z + y, u – 1]\n",
    "≡        {by substitution}\n",
    "    (z + y) + (u – 1) × y = x × y ∧ u – 1 ≥ 0\n",
    "≡        {by distribution, arithmetic}\n",
    "    z + y + u × y – y = x × y ∧ u > 0\n",
    "≡        {by arithmetic}\n",
    "    z + u × y = x × y ∧ u > 0\n",
    "≡        {by arithmetic}\n",
    "    z + u × y = x × y ∧ u ≥ 0 ∧ u > 0\n",
    "```\n",
    "\n",
    "Condition (2.2) holds as:\n",
    "\n",
    "```algorithm\n",
    "    z + u × y = x × y ∧ u ≥ 0 ∧ u ≤ 0\n",
    "≡        {by arithmetic}\n",
    "    z + u × y = x × y ∧ u = 0\n",
    "≡        {by substitution of equals for equals}\n",
    "    z + 0 × y = x × y ∧ u = 0\n",
    "≡        {arithmetic}\n",
    "    z = x × y ∧ u = 0\n",
    "⇒        {logic}\n",
    "    z = x × y\n",
    "```"
   ]
  },
  {
   "cell_type": "markdown",
   "metadata": {
    "slideshow": {
     "slide_type": "slide"
    }
   },
   "source": [
    "*Example (Quotient and Remainder).*  For integers `x`, `y`, the quotient `x div y` (also written `x ÷ y`) and the remainder `x mod y` are defined for all `y > 0` by:\n",
    "\n",
    "```algorithm\n",
    "x div y = q      ≡     x = q × y + r  \n",
    "x mod y = r           0 ≤ r < y\n",
    "```\n",
    "\n",
    "The following program determines `x div y` and `x mod y` by only using addition and subtraction:\n",
    "\n",
    "```algorithm\n",
    "{x ≥ 0 ∧ y > 0}\n",
    "q, r := 0, x\n",
    "{x = q × y + r ∧ r ≥ 0 ∧ y > 0}\n",
    "while r ≥ y do\n",
    "    q, r := q + 1, r – y\n",
    "{q = x div y ∧ r = x mod y}\n",
    "```\n"
   ]
  },
  {
   "cell_type": "markdown",
   "metadata": {},
   "source": [
    "By the rule for sequential composition, the correctness follows from:\n",
    "\n",
    "<span style = \"float:left;border-right:1em solid transparent\">(1)<br><br></span>\n",
    "\n",
    "```algorithm\n",
    "{x ≥ 0 ∧ y > 0}\n",
    "q, r := 0, x\n",
    "{x = q × y + r ∧ r ≥ 0 ∧ y > 0}\n",
    "```\n",
    "\n",
    "<span style = \"float:left;border-right:1em solid transparent\">(2)<br><br></span>\n",
    "\n",
    "```algorithm\n",
    "{x = q × y + r ∧ r ≥ 0 ∧ y > 0}\n",
    "while r ≥ y do\n",
    "    q, r := q + 1, r – y\n",
    "{q = x div y ∧ r = x mod y}\n",
    "```\n",
    "\n",
    "For (2), applying the rule for repetitions leads to:\n",
    "\n",
    "<span style = \"float:left;border-right:1em solid transparent\">(2.1)<br><br></span>\n",
    "\n",
    "```algorithm\n",
    "{r ≥ y ∧ x = q × y + r ∧ r ≥ 0 ∧ y > 0}\n",
    "q, r := q + 1, r – y\n",
    "{x = q × y + r ∧ r ≥ 0 ∧ y > 0}\n",
    "```\n",
    "\n",
    "<span style = \"float:left;border-right:1em solid transparent\">(2.2)<br></span>\n",
    "\n",
    "```algorithm\n",
    "r < y ∧ x = q × y + r ∧ r ≥ 0 ∧ y > 0   ⇒   q = x div y ∧ r = x mod y\n",
    "```"
   ]
  },
  {
   "cell_type": "markdown",
   "metadata": {
    "slideshow": {
     "slide_type": "skip"
    }
   },
   "source": [
    "*Aside.* For negative divisors, we have, for example, `–5 div 2 = –3` and `–5 mod 2 = 1`. This is the most [natural definition](https://doi.org/10.1145/128861.128862). Python follows it, but not all programming languages do."
   ]
  },
  {
   "cell_type": "markdown",
   "metadata": {
    "editable": true,
    "slideshow": {
     "slide_type": "slide"
    },
    "tags": []
   },
   "source": [
    "An *array* is a function `D → T` where the domain `D` is a \"small\" range of integers and `T` is the type of the array elements. An array `x: l .. u → T` has elements `x(l)`, `x(l + 1)`, ..., `x(u)`. Updating an array element is formally defined as assigning a new, altered array:\n",
    "\n",
    "```\n",
    "x(E) := F    =    x := (x; E: F)\n",
    "```\n",
    "\n",
    "The _alter function_ `(x; E: F)` is defined by:\n",
    "\n",
    "```algorithm\n",
    "(x; E: F)(G)  =  F      if   E = G\n",
    "(x; E: F)(G)  =  x(G)   if   E ≠ G \n",
    "```\n",
    "\n",
    "For example, given array `x` of suitable type, in\n",
    "```algorithm\n",
    "{x(0) = a ∧ x(1) = b}\n",
    "x(1) := c\n",
    "{x(0) = a ∧ x(1) = c}\n",
    "```\n",
    "the assignment is first replaced with:\n",
    "```algorithm\n",
    "x := (x; 1: c)\n",
    "```\n",
    "The proof is then:\n",
    "```algorithm\n",
    "    x(0) = a ∧ x(1) = b ⇒ (x(0) = a ∧ x(1) = c)[x := (x; 1: c)]\n",
    "≡        {by substitution, leaving out parenthesis}\n",
    "    x(0) = a ∧ x(1) = b ⇒ (x; 1: c)(0) = a ∧ (x; 1: c)(1) = c\n",
    "≡        {definition of alter, twice}\n",
    "    x(0) = a ∧ x(1) = b ⇒ x(0) = a ∧ c = c\n",
    "≡        {simplification}\n",
    "    true\n",
    "```"
   ]
  },
  {
   "cell_type": "markdown",
   "metadata": {
    "slideshow": {
     "slide_type": "slide"
    }
   },
   "source": [
    "*Example (Sum of Array Elements).*  For constant `N ≥ 0`, let `a: 0 .. N – 1 → integer` be an array whose sum will be computed. The invariant of the loop states that `s` is the partial sum of the first `k` elements of `a`:\n",
    "\n",
    "<div style=\"float:left;border-left:2em solid transparent\">\n",
    "\n",
    "```algorithm\n",
    "{true}\n",
    "s, k := 0, 0\n",
    "{s = (∑ i ∈ 0 .. k – 1 • a(i)) ∧ 0 ≤ k ≤ N}\n",
    "while k < N do\n",
    "    s, k := s + a(k), k + 1\n",
    "{s = (∑ i ∈ 0 .. N – 1 • a(i))}\n",
    "```\n",
    "\n",
    "</div>\n",
    "<img alt=\"array with elements a(0) to a(N-1) and s being the sum of a(0) to a(k-1)\" style=\"float:left;border-left:6em solid transparent\" src=\"./img/SumOfArrayElements.svg\"/>"
   ]
  },
  {
   "cell_type": "markdown",
   "metadata": {},
   "source": [
    "By the rule for sequential composition, correctness follows from:\n",
    "\n",
    "<span style = \"float:left;border-right:1em solid transparent\">(1)</span>\n",
    "\n",
    "```algorithm\n",
    "{true}\n",
    "s, k := 0, 0\n",
    "{s = (∑ i ∈ 0 .. k – 1 • a(i)) ∧ 0 ≤ k ≤ N}\n",
    "```\n",
    "\n",
    "<span style = \"float:left;border-right:1em solid transparent\">(2)</span>\n",
    "\n",
    "```algorithm\n",
    "{s = (∑ i ∈ 0 .. k – 1 • a(i)) ∧ 0 ≤ k ≤ N}\n",
    "while k < N do\n",
    "    s, k := s + a(k), k + 1\n",
    "{s = (∑ i ∈ 0 .. N – 1 • a(i))}\n",
    "```\n",
    "\n",
    "For (2), applying the rule for repetitions leads to:\n",
    "\n",
    "<span style = \"float:left;border-right:1em solid transparent\">(2.1)<br><br></span>\n",
    "\n",
    "```algorithm\n",
    "{s = (∑ i ∈ 0 .. k – 1 • a(i)) ∧ 0 ≤ k ≤ N ∧ k < N}\n",
    "s, k := s + a(k), k + 1\n",
    "{s = (∑ i ∈ 0 .. k – 1 • a(i)) ∧ 0 ≤ k ≤ N}\n",
    "```\n",
    "\n",
    "<span style = \"float:left;border-right:1em solid transparent\">(2.2)<br></span>\n",
    "\n",
    "```algorithm\n",
    "s = (∑ i ∈ 0 .. k – 1 • a(i)) ∧ 0 ≤ k ≤ N ∧ k ≥ N ⇒\n",
    "    s = (∑ i ∈ 0 .. N – 1 • a(i))\n",
    "```"
   ]
  },
  {
   "cell_type": "markdown",
   "metadata": {},
   "source": [
    "For (1), the rule of assignment leads to:\n",
    "\n",
    "```algorithm\n",
    "true ⇒ (s = (∑ i ∈ 0 .. k – 1 • a(i)) ∧ 0 ≤ k ≤ N)[s, k := 0, 0]\n",
    "```\n",
    "\n",
    "This holds as:\n",
    "\n",
    "```algorithm\n",
    "    (s = (∑ i ∈ 0 .. k – 1 • a(i)) ∧ 0 ≤ k ≤ N)[s, k := 0, 0]\n",
    "≡        {by substitution, arithmetic}\n",
    "    0 = (∑ i ∈ 0 .. – 1 • a(i)) ∧ 0 ≤ 0 ≤ N\n",
    "≡        {empty sum is 0, arithmetic}\n",
    "    0 = 0 ∧ 0 ≤ N\n",
    "≡        {assumption N ≥ 0}\n",
    "    true\n",
    "```\n",
    "\n",
    "For (2.1), the rule of assignment leads to:\n",
    "\n",
    "```algorithm\n",
    "s = (∑ i ∈ 0 .. k – 1 • a(i)) ∧ 0 ≤ k ≤ N ∧ k < N ⇒\n",
    "    (s = (∑ i ∈ 0 .. k – 1 • a(i)) ∧ 0 ≤ k ≤ N)[s, k := s + a(k), k + 1]\n",
    "```\n",
    "\n",
    "This holds as:\n",
    "\n",
    "```algorithm\n",
    "    (s = (∑ i ∈ 0 .. k – 1 • a(i)) ∧ 0 ≤ k ≤ N)[s, k := s + a(k), k + 1]\n",
    "≡        {by substitution}\n",
    "    s + a(k) = (∑ i ∈ 0 .. (k + 1) – 1 • a(i)) ∧ 0 ≤ k + 1 ≤ N\n",
    "⇐        {by arithmetic}\n",
    "    s + a(k) = (∑ i ∈ 0 .. k • a(i)) ∧ 0 ≤ k < N\n",
    "≡        {by domain split with i < k and i = k}\n",
    "    s + a(k) = (∑ i ∈ 0 .. k – 1 • a(i)) + a(k) ∧ 0 ≤ k < N\n",
    "≡        {by arithmetic}\n",
    "    s = (∑ i ∈ 0 .. k – 1 • a(i)) ∧ 0 ≤ k < N\n",
    "≡        {by arithmetic}\n",
    "    s = (∑ i ∈ 0 .. k – 1 • a(i)) ∧ 0 ≤ k ≤ N ∧ k < N\n",
    "```\n",
    "\n",
    "Condition (2.2) holds as:\n",
    "\n",
    "```algorithm\n",
    "    s = (∑ i ∈ 0 .. k – 1 • a(i)) ∧ 0 ≤ k ≤ N ∧ k ≥ N ⇒\n",
    "⇒        {by arithmetic}\n",
    "    s = (∑ i ∈ 0 .. k – 1 • a(i)) ∧ k = N\n",
    "≡        {by substitution of equals for equals}\n",
    "    s = (∑ i ∈ 0 .. N – 1 • a(i)) ∧ k = N\n",
    "⇒        {logic}\n",
    "    s = (∑ i ∈ 0 .. N – 1 • a(i))\n",
    "```"
   ]
  },
  {
   "cell_type": "markdown",
   "metadata": {
    "editable": true,
    "slideshow": {
     "slide_type": ""
    },
    "tags": []
   },
   "source": [
    "_Question:_ How would the invariant change when starting to sum from the last element?"
   ]
  },
  {
   "cell_type": "markdown",
   "metadata": {
    "editable": true,
    "slideshow": {
     "slide_type": "slide"
    },
    "tags": []
   },
   "source": [
    "*Example (Vector Summation).*  Let `a, b, c : 0 .. N – 1 → integer` represent three vectors of length `N ≥ 0`; following program sets `c` to the sum of `a` and `b`. The invariant states that the first `k` elements of `c` are the sum of the corresponding elements of `a` and `b`:\n",
    "\n",
    "\n",
    "<div style=\"float:left;border-left:2em solid transparent\">\n",
    "\n",
    "```algorithm\n",
    "{true}\n",
    "k := 0\n",
    "{(∀ i ∈ 0 .. k – 1 • c(i) = a(i) + b(i)) ∧ 0 ≤ k ≤ N}\n",
    "while k < N do\n",
    "    c(k), k := a(k) + b(k), k + 1\n",
    "{∀ i ∈ 0 .. N – 1 • c(i) = a(i) + b(i)}\n",
    "```\n",
    "\n",
    "</div>\n",
    "<img alt=\"Arrays a, b, c with c(0), ..., c(N-1) being the sum of a(0), ..., a(N-1) and b(0), ..., b(N-1), respectively\" style=\"float:left;border-left:6em solid transparent\" src=\"./img/VectorAddition.svg\"/>"
   ]
  },
  {
   "cell_type": "markdown",
   "metadata": {
    "editable": true,
    "slideshow": {
     "slide_type": ""
    },
    "tags": []
   },
   "source": [
    "By the rule for sequential composition, correctness follows from:\n",
    "\n",
    "<span style = \"float:left;border-right:1em solid transparent\">(1)</span>\n",
    "\n",
    "```algorithm\n",
    "{true}\n",
    "k := 0\n",
    "{(∀ i ∈ 0 .. k – 1 • c(i) = a(i) + b(i)) ∧ 0 ≤ k ≤ N}\n",
    "```\n",
    "\n",
    "<span style = \"float:left;border-right:1em solid transparent\">(2)</span>\n",
    "\n",
    "```algorithm\n",
    "{(∀ i ∈ 0 .. k – 1 • c(i) = a(i) + b(i)) ∧ 0 ≤ k ≤ N}\n",
    "while k < N do\n",
    "    c(k), k := a(k) + b(k), k + 1\n",
    "{∀ i ∈ 0 .. N – 1 • c(i) = a(i) + b(i)}\n",
    "```\n",
    "\n",
    "For (2), applying the rule for repetitions leads to:\n",
    "\n",
    "<span style = \"float:left;border-right:1em solid transparent\">(2.1)<br><br></span>\n",
    "\n",
    "```algorithm\n",
    "{(∀ i ∈ 0 .. k – 1 • c(i) = a(i) + b(i)) ∧ 0 ≤ k ≤ N ∧ k < N}\n",
    "c(k), k := a(k) + b(k), k + 1\n",
    "{(∀ i ∈ 0 .. k – 1 • c(i) = a(i) + b(i)) ∧ 0 ≤ k ≤ N}\n",
    "```\n",
    "\n",
    "<span style = \"float:left;border-right:1em solid transparent\">(2.2)<br></span>\n",
    "\n",
    "```algorithm\n",
    "(∀ i ∈ 0 .. k – 1 • c(i) = a(i) + b(i)) ∧ 0 ≤ k ≤ N ∧ k ≥ N ⇒\n",
    "    ∀ i ∈ 0 .. N – 1 • c(i) = a(i) + b(i)\n",
    "```"
   ]
  },
  {
   "cell_type": "markdown",
   "metadata": {},
   "source": [
    "For (1), the rule for assignments leads to:\n",
    "\n",
    "```algorithm\n",
    "true ⇒ (∀ i ∈ 0 .. k – 1 • c(i) = a(i) + b(i)) ∧ 0 ≤ k ≤ N)[k := 0]\n",
    "```\n",
    "\n",
    "This holds as:\n",
    "\n",
    "```algorithm\n",
    "    (∀ i ∈ 0 .. k – 1 • c(i) = a(i) + b(i)) ∧ 0 ≤ k ≤ N)[k := 0]\n",
    "≡        {substitution, arithmetic}\n",
    "    (∀ i ∈ 0 .. – 1 • c(i) = a(i) + b(i)) ∧ 0 ≤ 0 ≤ N\n",
    "≡        {empty universal quantification, assumption N ≥ 0}\n",
    "    true\n",
    "```\n",
    "\n",
    "For (2.1), the rule for assignments leads to:\n",
    "\n",
    "```algorithm\n",
    "(∀ i ∈ 0 .. k – 1 • c(i) = a(i) + b(i)) ∧ 0 ≤ k ≤ N ∧ k < N ⇒\n",
    "    ((∀ i ∈ 0 .. k – 1 • c(i) = a(i) + b(i)) ∧ 0 ≤ k ≤ N)[c, k := (c; k: a(k) + b(k)), k + 1]\n",
    "```\n",
    "\n",
    "This holds as:\n",
    "\n",
    "```algorithm\n",
    "    ((∀ i ∈ 0 .. k – 1 • c(i) = a(i) + b(i)) ∧ 0 ≤ k ≤ N)[c, k := (c; k: a(k) + b(k)), k + 1]\n",
    "≡        {substitution}\n",
    "    (∀ i ∈ 0 .. (k + 1) – 1 • (c; k: a(k) + b(k))(i) = a(i) + b(i)) ∧ 0 ≤ k + 1 ≤ N\n",
    "⇐        {arithmetic}\n",
    "    (∀ i ∈ 0 .. (k + 1) – 1 • (c; k: a(k) + b(k))(i) = a(i) + b(i)) ∧ 0 ≤ k < N\n",
    "≡        {split universal quantification}\n",
    "    (∀ i ∈ 0 .. k – 1 • (c; k: a(k) + b(k))(i) = a(i) + b(i)) ∧ (c; k: a(k) + b(k))(k) = a(k) + b(k) ∧ 0 ≤ k < N\n",
    "≡        {by definition of alter}\n",
    "    (∀ i ∈ 0 .. k – 1 • c(i) = a(i) + b(i)) ∧ a(k) + b(k) = a(k) + b(k) ∧ 0 ≤ k < N\n",
    "≡        {arithmetic, logic}\n",
    "    (∀ i ∈ 0 .. k – 1 • c(i) = a(i) + b(i)) ∧ 0 ≤ k ≤ N ∧ k < N\n",
    "```\n",
    "\n",
    "Condition (2.2) holds as:\n",
    "\n",
    "```algorithm\n",
    "    (∀ i ∈ 0 .. k – 1 • c(i) = a(i) + b(i)) ∧ 0 ≤ k ≤ N ∧ k ≥ N\n",
    "≡        {E ≥ F ∧ E ≤ F ≡ E = F for any E, F; assumption N ≥ 0}\n",
    "    (∀ i ∈ 0 .. k – 1 • c(i) = a(i) + b(i)) ∧ k = N\n",
    "⇒        {substitution of equals for equals, weakening}\n",
    "    (∀ i ∈ 0 .. N – 1 • c(i) = a(i) + b(i))\n",
    "```"
   ]
  },
  {
   "cell_type": "markdown",
   "metadata": {
    "editable": true,
    "slideshow": {
     "slide_type": "slide"
    },
    "tags": []
   },
   "source": [
    "## Undefinedness and Conditional Evaluation"
   ]
  },
  {
   "cell_type": "markdown",
   "metadata": {
    "editable": true,
    "jp-MarkdownHeadingCollapsed": true,
    "slideshow": {
     "slide_type": ""
    },
    "tags": []
   },
   "source": [
    "In mathematics, `E = E` is universally true even if `E` is `1/0`! In programs, evaluating `E = E` may result in an error.\n",
    "\n",
    "- Programming languages detect *programming errors*, for example, when a division by zero or an array access out of its domain is attempted, and no reasonable course of action is possible.\n",
    "\n",
    "- Errors also arise due to *machine limitations*, like the finiteness of integers and the approximation of real numbers by floating point numbers."
   ]
  },
  {
   "cell_type": "markdown",
   "metadata": {
    "editable": true,
    "slideshow": {
     "slide_type": ""
    },
    "tags": []
   },
   "source": [
    "The correctness rules so far were idealized: they ignored the potential undefinedness of expressions. The rules are now extended to guarantee the absence of such errors arising from undefinedness."
   ]
  },
  {
   "cell_type": "markdown",
   "metadata": {
    "editable": true,
    "slideshow": {
     "slide_type": "slide"
    },
    "tags": []
   },
   "source": [
    "<img style=\"float:right;border-left:6em solid white\" src=\"./img/PlusTwice.svg\"/>\n",
    "\n",
    "So far, the same expression appeared in programs and in annotations. Now we distinguish between expressions in annotations and _program expressions_.\n",
    "\n",
    "The same operator, like `+`, can appear in annotations and in programs, but with a different meaning: in annotations, `+` is mathematical addition, and in programs, `+` can overflow."
   ]
  },
  {
   "cell_type": "markdown",
   "metadata": {
    "slideshow": {
     "slide_type": "slide"
    }
   },
   "source": [
    "We write `and`, `or` for _conditional_ conjunction and disjunction in program expressions. Consider the following program, the _linear search_ of `key: T` in array `a: 0 .. N – 1 → T`:\n",
    "\n",
    "```algorithm\n",
    "k := 0\n",
    "while k < N and a(k) ≠ key do\n",
    "    k := k + 1\n",
    "```\n",
    "\n",
    "The evaluation of `E and F` is conditional: if `E` is `false`, the result is `false` and `F` is not evaluated. "
   ]
  },
  {
   "cell_type": "markdown",
   "metadata": {
    "slideshow": {
     "slide_type": ""
    }
   },
   "source": [
    "This is essential in the above linear search, as when the search reaches `k = N` (in case `key` is not in `a`), `k < N` is false and `a(k) ≠ key` is not evaluated: if it were, it would lead to an error as `a` would be indexed outside its domain! Therefore, taking `a(k) ≠ key and k < N` as the guard would be incorrect."
   ]
  },
  {
   "cell_type": "markdown",
   "metadata": {
    "slideshow": {
     "slide_type": "slide"
    }
   },
   "source": [
    "Similarly, `E or F` is evaluated conditionally: if `E` is true, the result is `true` and `F` is not evaluated. Suppose `text: 0 .. L – 1 → char` and `EOL` is a constant of type `char`. Suppose that end-of-line is reached either at the end of `text` or at an `EOL` character:\n",
    "\n",
    "```algorithm\n",
    "eol   :=   (pos = L   or    text(pos) = EOL)\n",
    "```\n",
    "\n",
    "Here, `text(pos)` is not evaluated if `pos = L`.\n",
    "\n",
    "In general, if `E and F`, `E or F` evaluate successfully, the value is that of `E ∧ F`, `E ∨ F`."
   ]
  },
  {
   "cell_type": "markdown",
   "metadata": {
    "slideshow": {
     "slide_type": ""
    }
   },
   "source": [
    "_Notation:_ Different notations are common for conditional conjunction and disjunction: `cand`, `cor` (Dijkstra); `and then`, `or else` (Eiffel); `&&`, `||` (C, Java, C#, Swift); `and`, `or` (Pascal, Python, here)."
   ]
  },
  {
   "cell_type": "markdown",
   "metadata": {
    "slideshow": {
     "slide_type": "slide"
    }
   },
   "source": [
    "For program expression `E`, we consider its\n",
    "- _value_ `E'`, a mathematical expression to what it evaluates, and its\n",
    "- _definedness_ `∆E`, a mathematical expression telling when the evaluation succeeds.\n",
    "\n",
    "For example, if machine arithmetic is _bounded,_ the result of an arithmetic operation has to be between the minimal and maximal representable integer. If the word size is 32 bits, unsigned integers can only be less than 2³²:\n",
    "\n",
    "| value                       | definedness                |                                                                                |\n",
    "|:---------------------------|:------------------------------|:----------------------------------------------------------------|\n",
    "| `(x + y)' = x + y`       | `∆(x + y) ≡ x + y < 2³²` | where `x`, `y` are unsigned integer variables |\n",
    "| `(x div y)' = x div y` | `∆(x div y) ≡ y ≠ 0`      |  where `x`, `y` are unsigned integer variables |\n",
    "\n",
    "In `(x + y)' = x + y`, the first occurrence is a programming operator, and the second is a mathematical operator. Some programming languages use arithmetic _modulo_ the word size:\n",
    "\n",
    "| value                                    | definedness         |                                                                                |\n",
    "|:-------------------------------------|:-------------------------|:----------------------------------------------------------------|\n",
    "| `(x + y)' = (x + y) mod 2³²`  | `∆(x + y) ≡ true`    | where `x`, `y` are unsigned integer variables |\n",
    "| `(x div y)' = x div y`             | `∆(x div y) ≡ y ≠ 0` | where `x`, `y` are unsigned integer variables |\n",
    "\n",
    "In _saturating_ arithmetic, the result is capped at the maximal representable value (this is used in signal processing):\n",
    "\n",
    "| value                                        | definedness          |                                                                                |\n",
    "|:----------------------------------------|:--------------------------|:----------------------------------------------------------------|\n",
    "| `(x + y)' = min(x + y, 2³² – 1)`  | `∆(x + y) ≡ true`     | where `x`, `y` are unsigned integer variables |\n",
    "| `(x div y)' = x div y`                  | `∆(x div y) ≡ y ≠ 0` | where `x`, `y` are unsigned integer variables |"
   ]
  },
  {
   "cell_type": "markdown",
   "metadata": {
    "slideshow": {
     "slide_type": "slide"
    }
   },
   "source": [
    "Value and definedness are defined over the structure of program expressions:\n",
    "\n",
    "| value           | definedness           |                                                  |\n",
    "|:----------------|:----------------------|:-------------------------------------------------|\n",
    "| `c' = c`        | `∆c ≡ true`           | where `c` is constant `true`, `false`, `0`, `1`, ... |\n",
    "| `x' = x`        | `∆x ≡ true`           | where `x` is a variable                          |\n",
    "| `x(E)' = x(E')` | `∆x(E) ≡ ∆E ∧ E' ∈ D` | where `x : D → T` and `E` is an expression       |\n",
    "\n",
    "The corresponding values are not changed."
   ]
  },
  {
   "cell_type": "markdown",
   "metadata": {
    "slideshow": {
     "slide_type": "slide"
    }
   },
   "source": [
    "Assuming that signed integers are bounded between `minint` and `maxint` and have for value and definedness in bounded arithmetic, assuming `E`, `F` are integer expressions:\n",
    "\n",
    "| value                    | definedness                                      |\n",
    "|:-------------------------|:-------------------------------------------------|\n",
    "| `(–E)' = –E'`            | `∆(–E) = ∆E ∧ minint ≤ –E' ≤ maxint`             |\n",
    "| `(E + F)' = E' + F'`     | `∆(E + F) = ∆E ∧ ∆F ∧ minint ≤ E' + F' ≤ maxint` |\n",
    "| `(E – F)' = E' – F'`     | `∆(E – F) = ∆E ∧ ∆F ∧ minint ≤ E' – F' ≤ maxint` |\n",
    "| `(E × F)' = E' × F'`     | `∆(E × F) = ∆E ∧ ∆F ∧ minint ≤ E' × F' ≤ maxint` |\n",
    "| `(E div F)' = E' div F'` | `∆(E div F) = ∆E ∧ ∆F ∧ F' ≠ 0`                  |\n",
    "| `(E mod F)' = E' mod F'` | `∆(E mod F) = ∆E ∧ ∆F ∧ F' ≠ 0`                  |"
   ]
  },
  {
   "cell_type": "markdown",
   "metadata": {
    "slideshow": {
     "slide_type": "slide"
    }
   },
   "source": [
    "Boolean operators are _strict_ in that all operands have to be defined, like arithmetic operators, except for `and`, `or`, which are conditional. Assuming `B`, `C` are Boolean expressions and `E`, `F` expressions of the same type, we have:\n",
    "\n",
    "| value                          | definedness                           |\n",
    "|:-----------------------------|:---------------------------------------|\n",
    "| `(¬B)' = ¬B'`                | `∆(¬B) = ∆B`                            |                 \n",
    "| `(B and C)' = B' ∧ C'` | `∆(B and C) = ∆B ∧ (B' ⇒ ∆C)` |\n",
    "| `(B or C)' = B' ∨ C'`    | `∆(B or C) = ∆B ∧ (B' ∨ ∆C)`   |\n",
    "| `(E = F)' = (E' = F')`     | `∆(E = F) = ∆E ∧ ∆F`                |\n",
    "| `(E < F)' = (E' < F')`     | `∆(E < F) = ∆E ∧ ∆F`                |\n",
    "| `(E ≤ F)' = (E' ≤ F')`     | `∆(E ≤ F) = ∆E ∧ ∆F`                |\n",
    "| `...`                              | `...`                                           |\n",
    "\n",
    "Conditional `and`, `or` appear only in programs, mathematical `∧`, `∨` appear only in annotations."
   ]
  },
  {
   "cell_type": "markdown",
   "metadata": {
    "slideshow": {
     "slide_type": "slide"
    }
   },
   "source": [
    "As an example, we determine the definedness of `k < N and a(k) ≠ key` in the above linear search, repeated to the right:\n",
    "\n",
    "<span style = \"float:right;border-left:1em solid transparent\">\n",
    "\n",
    "```algorithm\n",
    "k := 0\n",
    "while k < N and a(k) ≠ key do\n",
    "    k := k + 1\n",
    "```\n",
    "\n",
    "</span>\n",
    "\n",
    "```algorithm\n",
    "    ∆(k < N and a(k) ≠ key)\n",
    "≡        {by ∆ of and}\n",
    "    ∆(k < N) ∧ ((k < N)' ⇒ ∆(a(k) ≠ key))\n",
    "≡        {by ∆ of <, ≠ and ' of <}\n",
    "    ∆k ∧ ∆N ∧ (k < N ⇒ ∆a(k) ∧ ∆key))\n",
    "≡        {by ∆ of variable, constant; simplification}\n",
    "    k < N ⇒ ∆a(k)\n",
    "≡        {by ∆ of indexing}\n",
    "    k < N ⇒ k ∈ 0 .. N – 1\n",
    "≡        {as k ∈ 0 .. N – 1 ≡ 0 ≤ k < N; logic}\n",
    "    k < N ⇒ 0 ≤ k\n",
    "```"
   ]
  },
  {
   "cell_type": "markdown",
   "metadata": {
    "slideshow": {
     "slide_type": "slide"
    }
   },
   "source": [
    "The correctness rules are revised to take the undefinedness of expressions into account.\n",
    "\n",
    "**Extended rules for correctness of statements:**"
   ]
  },
  {
   "cell_type": "markdown",
   "metadata": {
    "slideshow": {
     "slide_type": ""
    }
   },
   "source": [
    "<div style=\"display:table; border-left:2em solid transparent\">\n",
    "  <div style = \"display:table-cell; vertical-align:middle\">\n",
    "    <code>{P} x, y := E, F {Q}</code> <br><br>\n",
    "    <code>{P} S ; T {R}</code> <br><br>\n",
    "    <code>{P} if B then S else T {Q}</code> <br><br>\n",
    "    <code>{P} if B then S {Q}</code> <br><br>\n",
    "    <code>{P} while B do S {Q}</code>\n",
    "  </div>\n",
    "  <div style = \"display:table-cell; vertical-align:middle\" >\n",
    "    if <code>P ⇒ ∆E ∧ ∆F ∧ Q[x, y := E', F']</code> <br><br>\n",
    "    if <code>{P} S {Q}</code> and <code>{Q} T {R}</code> <br><br>\n",
    "    if <code>P ⇒ ∆B</code> and <code>{P ∧ B'} S {Q}</code> and <code>{P ∧ ¬B'} T {Q}</code> <br><br>\n",
    "    if <code>P ⇒ ∆B</code> and <code>{P ∧ B'} S {Q}</code> and <code>P ∧ ¬B' ⇒ Q</code> <br><br>\n",
    "    if <code>P ⇒ ∆B</code> and <code>{P ∧ B'} S {P}</code> and <code>P ∧ ¬B' ⇒ Q</code>\n",
    "  </div>\n",
    "</div>"
   ]
  },
  {
   "cell_type": "markdown",
   "metadata": {
    "editable": true,
    "slideshow": {
     "slide_type": "slide"
    },
    "tags": []
   },
   "source": [
    "A possible annotation for the linear search is:\n",
    "\n",
    "```algorithm\n",
    "{P: true}\n",
    "k := 0\n",
    "{Q: (∀ i ∈ 0 .. k – 1 • a(i) ≠ key) ∧ 0 ≤ k ≤ N}\n",
    "while k < N and a(k) ≠ key do\n",
    "    k := k + 1\n",
    "{R: (∀ i ∈ 0 .. k – 1 • a(i) ≠ key) ∧ 0 ≤ k ≤ N ∧ (k < N ⇒ a(k) = key)}\n",
    "```\n",
    "\n",
    "The correctness follows from applying the extended rules for sequential composition and repetition:\n",
    "\n",
    "<span style = \"float:left;border-right:1em solid transparent\">(1)</span>\n",
    "\n",
    "```algorithm\n",
    "{P}\n",
    "k := 0\n",
    "{Q}\n",
    "```\n",
    "\n",
    "<span style = \"float:left;border-right:1em solid transparent\">(2.1)</span>\n",
    "\n",
    "```algorithm\n",
    "Q ⇒ ∆(k < N and a(k) ≠ key)\n",
    "```\n",
    "\n",
    "<span style = \"float:left;border-right:1em solid transparent\">(2.2)<br><br></span>\n",
    "\n",
    "```algorithm\n",
    "{Q ∧ (k < N and a(k) ≠ key)'}\n",
    "k := k + 1\n",
    "{Q}\n",
    "```\n",
    "\n",
    "<span style = \"float:left;border-right:1em solid white\">(2.3)</span>\n",
    "\n",
    "```algorithm\n",
    "Q ∧ ¬(k < N and a(k) ≠ key)' ⇒ R\n",
    "```"
   ]
  },
  {
   "cell_type": "markdown",
   "metadata": {
    "slideshow": {
     "slide_type": "skip"
    },
    "solution": "hidden",
    "solution_first": true
   },
   "source": [
    "*Question:* Above postcondition specifies that `k` is the index of the first occurrence of `key`. How can you weaken the postcondition to allow `k` to be the index of any occurrence?"
   ]
  },
  {
   "cell_type": "markdown",
   "metadata": {
    "editable": true,
    "slideshow": {
     "slide_type": ""
    },
    "solution": "hidden",
    "tags": []
   },
   "source": [
    "*Answer:*  \n",
    "```\n",
    "0 ≤ k ≤ N ∧ (k < N ⇒ a(k) = key)\n",
    "```"
   ]
  }
 ],
 "metadata": {
  "kernelspec": {
   "display_name": "Python 3 (ipykernel)",
   "language": "python",
   "name": "python3"
  },
  "language_info": {
   "codemirror_mode": {
    "name": "ipython",
    "version": 3
   },
   "file_extension": ".py",
   "mimetype": "text/x-python",
   "name": "python",
   "nbconvert_exporter": "python",
   "pygments_lexer": "ipython3",
   "version": "3.13.0"
  },
  "livereveal": {
   "history": true,
   "margin": "0.01",
   "progress": true,
   "scroll": true,
   "start_slideshow_at": "selected"
  },
  "rise": {
   "enable_chalkboard": true
  },
  "toc": {
   "base_numbering": 1,
   "nav_menu": {},
   "number_sections": false,
   "sideBar": false,
   "skip_h1_title": true,
   "title_cell": "Table of Contents",
   "title_sidebar": "Contents",
   "toc_cell": false,
   "toc_position": {},
   "toc_section_display": true,
   "toc_window_display": false
  },
  "toc-autonumbering": false
 },
 "nbformat": 4,
 "nbformat_minor": 4
}
