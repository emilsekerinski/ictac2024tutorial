{
 "cells": [
  {
   "cell_type": "markdown",
   "metadata": {
    "editable": true,
    "slideshow": {
     "slide_type": "slide"
    },
    "tags": []
   },
   "source": [
    "<div style=\"float:right;border-left:1em solid transparent\">\n",
    "    <i>Notebooks on Programming</i>\n",
    "</div>\n",
    "\n",
    "---\n",
    "# Program Derivation - Draft\n",
    "**[Emil Sekerinski](http://www.cas.mcmaster.ca/~emil), McMaster University, November 2024**\n",
    "\n",
    "---\n",
    "\n",
    "<figure style=\"float:right\" >\n",
    "    <img style=\"width:9.5em\" src=\"./img/by-nc-nd.png\"/>\n",
    "    <figcaption style=\"width:13em;font-size:80%\"><a href=\"https://creativecommons.org/licenses/by-nc-nd/4.0/\">Licensed under Creative Commons CC BY-NC-ND</a>\n",
    "    </figcaption>\n",
    "</figure>"
   ]
  },
  {
   "cell_type": "markdown",
   "metadata": {
    "editable": true,
    "slideshow": {
     "slide_type": "slide"
    },
    "tags": []
   },
   "source": [
    "## The Minimal Segment Sum"
   ]
  },
  {
   "cell_type": "markdown",
   "metadata": {
    "editable": true,
    "slideshow": {
     "slide_type": "-"
    },
    "tags": []
   },
   "source": [
    "For an integer sequence `s` of length `N`, the *segment sum* `ss(i, j)` for `0 ≤ i ≤ j ≤ N` is defined as:\n",
    "```algorithm\n",
    "ss(i, j) = (∑ h ∈ i .. j – 1 • s(h))\n",
    "```\n",
    "The *minimal segment sum* is the smallest segment sum. The task is to write a program that, for integer `x`, establishes the postcondition:\n",
    "```algorithm\n",
    "x = (MIN i ∈ 0 .. N, j ∈ i .. N • ss(i, j))\n",
    "```\n",
    "For example, if `s = [1, 2, –3, 0, 2, –9, 7]`, the minimal segment sum is `–10`. Since the empty segment is allowed and has a sum of `0`, the minimal segment sum can be at most `0`. The number of combinations of `i` and `j` for which `ss(i, j)` has to be determined is `(N + 1) × (N + 2) / 2`. For each combination of `i` and `j`, in the order of `N` additions must be carried out. A direct implementation, therefore, requires time proportional to `N³`. However, a more efficient implementation is possible!"
   ]
  },
  {
   "cell_type": "markdown",
   "metadata": {
    "editable": true,
    "slideshow": {
     "slide_type": "slide"
    },
    "tags": []
   },
   "source": [
    "As all values of `s` need to be consulted, the choice is to iterate over all elements from `n = 0` to `N – 1`. The invariant is obtained by replacing constant `N` in the postcondition with variable `n`. Defining\n",
    "```\n",
    "P(n) ≡ x = (MIN i ∈ 0 .. n, j ∈ i .. n • ss(i, j))\n",
    "```\n",
    "the desired postcondition is `P(N)`. The resulting loop structure is:\n",
    "\n",
    "```algorithm\n",
    "\"initialize x for n = 0\"\n",
    "{0 ≤ n ≤ N ∧ P(n)}\n",
    "while n < N do\n",
    "    {0 ≤ n < N ∧ P(n)}\n",
    "    \"modify x\"\n",
    "    {0 ≤ n < N ∧ P(n + 1)}\n",
    "    n := n + 1\n",
    "    {0 ≤ n ≤ N ∧ P(n)}\n",
    "{P(N)}\n",
    "```"
   ]
  },
  {
   "cell_type": "markdown",
   "metadata": {
    "editable": true,
    "slideshow": {
     "slide_type": "slide"
    },
    "tags": []
   },
   "source": [
    "For `\"initialize x for n = 0\"` we immediately get\n",
    "```algorithm\n",
    "n, x := 0, 0\n",
    "```\n",
    "from the definition of `P(n)`. For the postcondition of  `\"modify x\"`, we observe:\n",
    "```algorithm\n",
    "    P(n + 1)\n",
    "=       {by definition of P}\n",
    "    x = (MIN i ∈ 0 .. n + 1, j ∈ i .. n + 1 • ss(i, j))\n",
    "=       {by case analysis j = n + 1 and j ≠ n + 1}\n",
    "    x = min((MIN i ∈ 0 .. n, j ∈ i .. n • ss(i, j)), (MIN i ∈ 0 .. n + 1 • ss(i, n + 1)))\n",
    "```\n",
    "The first argument of `min` appears in the precondition `P(n)` of `\"modify x\"`, suggesting for `\"modify x\"`:\n",
    "```algorithm\n",
    "x := min(x, (MIN i ∈ 0 .. n + 1 • ss(i, n + 1)))\n",
    "```"
   ]
  },
  {
   "cell_type": "markdown",
   "metadata": {
    "editable": true,
    "slideshow": {
     "slide_type": "slide"
    },
    "tags": []
   },
   "source": [
    "A direct implementation of `MIN` would make the overall runtime still proportional to `N³`, but we can improve further. The shape of the above expression suggests the introduction of a new variable, say `y`, with the invariant\n",
    "```\n",
    "Q(n) ≡ y = (MIN i ∈ 0 .. n • ss(i, n))\n",
    "```\n",
    "and update `y` in the loop. Thus, the program becomes:\n",
    "```algorithm\n",
    "\"initialize x and y for n = 0\"\n",
    "{0 ≤ n ≤ N ∧ P(n) ∧ Q(n)}\n",
    "while n < N do\n",
    "    {0 ≤ n < N ∧ P(n) ∧ Q(n)}\n",
    "    \"modify y\"\n",
    "    {0 ≤ n < N ∧ P(n) ∧ Q(n + 1)}\n",
    "    x := min(x, y)\n",
    "    {0 ≤ n < N ∧ P(n + 1) ∧ Q(n + 1)}\n",
    "    n := n + 1\n",
    "    {0 ≤ n ≤ N ∧ P(n) ∧ Q(n)}\n",
    "```"
   ]
  },
  {
   "cell_type": "markdown",
   "metadata": {
    "editable": true,
    "slideshow": {
     "slide_type": "slide"
    },
    "tags": []
   },
   "source": [
    "For `\"initialize x and y for n = 0\"` we now get:\n",
    "```algorithm\n",
    "n, x, y := 0, 0, 0\n",
    "```\n",
    "For the postcondition of  `\"modify y\"` we have:\n",
    "```algorithm\n",
    "    Q(n + 1)\n",
    "=       {by definition of Q}\n",
    "    y = (MIN i ∈ 0 .. n + 1 • ss(i, n + 1))\n",
    "=       {by case analysis i = n + 1 and i ≠ n + 1}\n",
    "    y = min((MIN i ∈ 0 .. n • ss(i, n + 1)), ss(n + 1, n + 1))\n",
    "=       {by definition of ss, empty summation}\n",
    "    y = min((MIN i ∈ 0 .. n • ss(i, n) + s(n)), 0)\n",
    "=       {i does not appear in s(n)}\n",
    "    y = min((MIN i ∈ 0 .. n • ss(i, n)) + s(n), 0)\n",
    "```\n",
    "The first argument of `min` appears in the precondition `Q(n)`, suggesting for `\"modify y\"`:\n",
    "```algorithm\n",
    "y := min(y + s(n), 0)\n",
    "```"
   ]
  },
  {
   "cell_type": "markdown",
   "metadata": {
    "editable": true,
    "slideshow": {
     "slide_type": "slide"
    },
    "tags": []
   },
   "source": [
    "The resulting program, without annotations, becomes\n",
    "```algorithm\n",
    "n, x, y := 0, 0, 0\n",
    "while n < N do\n",
    "    y := min(y + s(n), 0)\n",
    "    x := min(x, y)\n",
    "    n := n + 1\n",
    "```\n",
    "or, when replacing `min` with conditional statements and exploiting the invariant `x ≤ 0`:\n",
    "```algorithm\n",
    "n, x, y := 0, 0, 0\n",
    "while n < N do\n",
    "    y := y + s(n)\n",
    "    if y ≥ 0 then y := 0\n",
    "    else if x > y then x := y\n",
    "    n := n + 1\n",
    "```\n",
    "This program has a running time proportional to `N`."
   ]
  },
  {
   "cell_type": "markdown",
   "metadata": {
    "editable": true,
    "slideshow": {
     "slide_type": "skip"
    },
    "solution": "shown",
    "solution_first": true,
    "tags": []
   },
   "source": [
    "Here are Python implementations of the cubic and the linear versions. A \"large\" array is used for timing:"
   ]
  },
  {
   "cell_type": "code",
   "execution_count": null,
   "metadata": {
    "slideshow": {
     "slide_type": "skip"
    },
    "solution": "shown",
    "tags": []
   },
   "outputs": [],
   "source": [
    "def minSegSumCubic(s):\n",
    "    return min(sum(s[i:j]) for i in range(0, len(s) + 1) for j in range(i, len(s) + 1))\n",
    "\n",
    "minSegSumCubic([1, 2, -3, 0, 2, -9, 7])"
   ]
  },
  {
   "cell_type": "code",
   "execution_count": null,
   "metadata": {
    "scrolled": true,
    "slideshow": {
     "slide_type": "skip"
    },
    "solution": "shown",
    "tags": []
   },
   "outputs": [],
   "source": [
    "#input is: 0, -1, 2, -3, 4, -5, 6, -7, ..., 998, -999\n",
    "%time assert minSegSumCubic([(-1) ** n * n for n in range(1000)]) == - 999"
   ]
  },
  {
   "cell_type": "code",
   "execution_count": null,
   "metadata": {
    "slideshow": {
     "slide_type": "skip"
    },
    "solution": "shown",
    "tags": []
   },
   "outputs": [],
   "source": [
    "def minSegSumLinear(s):\n",
    "    n, x, y = 0, 0, 0\n",
    "    for n in range(len(s)):\n",
    "        y += s[n]\n",
    "        if y >= 0: y = 0\n",
    "        else:\n",
    "            if x > y: x = y\n",
    "    return x\n",
    "\n",
    "minSegSumLinear([1, 2, -3, 0, 2, -9, 7])"
   ]
  },
  {
   "cell_type": "code",
   "execution_count": null,
   "metadata": {},
   "outputs": [],
   "source": [
    "%time assert minSegSumLinear([(-1) ** n * n for n in range(1000)]) == - 999"
   ]
  },
  {
   "cell_type": "markdown",
   "metadata": {
    "editable": true,
    "slideshow": {
     "slide_type": "slide"
    },
    "tags": []
   },
   "source": [
    "## The Concidence Count"
   ]
  },
  {
   "cell_type": "markdown",
   "metadata": {
    "editable": true,
    "slideshow": {
     "slide_type": ""
    },
    "tags": []
   },
   "source": [
    "Suppose `a` and `b` are integer sequences of length `M` and `N`, respectively, in monotonically increasing order. Writing `s[k..l)` for the subsequence of sequence `s` from `k` to `l – 1` and writing `s ≤ x` if `e ≤ x` for all elements `e ∈ s`, this is expressed as:\n",
    "\n",
    "```algorithm\n",
    "P ≡ (∀ i ∈ 0 .. M – 1 · a[0..i) < a(i)) ∧ (∀ i ∈ 0 .. N – 1 · b[0..i) < b(i))\n",
    "```\n",
    "\n",
    "The task is to find the number of integers occurring in both sequences; the program has to establish:\n",
    "\n",
    "```algorithm\n",
    "R ≡ x = #{i ∈ 0 .. M – 1, j ∈ 0 .. N – 1 | a(i) = b(j)}\n",
    "```\n",
    "\n",
    "For example, if `a` and `b` represent two sets of integers, this corresponds to the cardinality of the intersection.  Following the heuristic of replacing a constant in the postcondition, for symmetry, both `M` and `N` are replaced with variables:\n",
    "```\n",
    "x = #{i ∈ 0 .. m – 1, j ∈ 0 .. n – 1 | a(i) = b(j)}\n",
    "```\n",
    "However, there are multiple paths reaching `(m, n) = (M, N)` from `(m, n) = (0, 0)`. To obtain guidance, the invariant can be strengthened. Provided `a(m) ≠ b(n)`, index `m` can be incremented and `x` kept unchanged only if no coincidence is overlooked, meaning that all elements of `b[0..n)` are less than all elements of  `a[m..M)`. To be able to use this, the resulting invariant has, for symmetry, two such conditions conjoined:\n",
    "\n",
    "```\n",
    "Q(m, n) ≡ x = #{i ∈ 0 .. m – 1, j ∈ 0 .. n – 1 | a(i) = b(j)} ∧ b[0 .. n) < a[m .. M) ∧ a[0 .. m) < b[n .. N)\n",
    "```\n",
    "\n",
    "The desired postcondition is `Q(M, N)`, which follows already from `Q(m, n) ∧ (m = M ∨ n = N)`. Thus, the resulting loop structure is:\n",
    "\n",
    "```algorithm\n",
    "k, m, n := 0, 0, 0\n",
    "{0 ≤ m ≤ M ∧ 0 ≤ n ≤ N ∧ Q(m, n)}\n",
    "while m < M ∧ n < N do\n",
    "    {0 ≤ m < M ∧ 0 ≤ n < N ∧ Q(m, n)}\n",
    "    \"modify k, m, n\"\n",
    "    {0 ≤ m ≤ M ∧ 0 ≤ n ≤ N ∧ Q(m, n)}\n",
    "{P(N)}\n",
    "```\n",
    "\n",
    "To preserve `b[n .. N) > a[0 .. m)`, the statement `m := m + 1` must be guarded by `b(n) > a(m)`. The statement `k, m, n := k + 1, m + 1, n + 1` must be guarded by `a(m) = b(n)`. Thus, the complete program is:\n",
    "\n",
    "```algorithm\n",
    "k, m, n := 0, 0, 0\n",
    "{0 ≤ m ≤ M ∧ 0 ≤ n ≤ N ∧ Q(m, n)}\n",
    "while m < M ∧ n < N do\n",
    "    {0 ≤ m < M ∧ 0 ≤ n < N ∧ Q(m, n)}\n",
    "    if a(m) < b(n) → m := m + 1\n",
    "    [] a(m) = b(n) → k, m, n := k + 1, m + 1, n + 1\n",
    "    [] a(m) > b(n) → n := n + 1\n",
    "    {0 ≤ m ≤ M ∧ 0 ≤ n ≤ N ∧ Q(m, n)}\n",
    "{P(N)}\n",
    "```\n",
    "\n"
   ]
  },
  {
   "cell_type": "markdown",
   "metadata": {
    "editable": true,
    "slideshow": {
     "slide_type": "slide"
    },
    "tags": []
   },
   "source": [
    "## Program Development: Printing Images"
   ]
  },
  {
   "cell_type": "markdown",
   "metadata": {
    "editable": true,
    "slideshow": {
     "slide_type": "-"
    },
    "tags": []
   },
   "source": [
    "Larger programs are decomposed into _modules_ that may have _private_ variables which can only be accessed through _public_ procedures, a principle known as _encapsulation_. While the inner workings of a module may be intricate, the module's specification should remain simple.\n",
    "\n",
    "The following development illustrates how a module is specified with _abstract variables_, which are used in annotations. The example also shows how to reason about program output."
   ]
  },
  {
   "cell_type": "markdown",
   "metadata": {
    "slideshow": {
     "slide_type": "slide"
    }
   },
   "source": [
    "The task is to print a picture given by the arrays `fx`, `fy`, where\n",
    "\n",
    "```algorithm\n",
    "∀ i ∈ 0 .. N – 1 • 0 ≤ fx(i) < X  ∧  0 ≤ fy(i) < Y\n",
    "```\n",
    "That means with each input of `i` from `0` to `N – 1`, two functions `fx(i)` and `fy(i)` indicate each printed point.   \n",
    "\n",
    "We assume that the printer prints only one black dot at a time and starts at the upper left corner. The printer is controlled by the following commands:\n",
    "\n",
    "- `newLine`: start a new line at the leftmost position\n",
    "- `advance`: move the print head one position to the right\n",
    "- `print`: print a dot and move one position to the right"
   ]
  },
  {
   "cell_type": "markdown",
   "metadata": {
    "slideshow": {
     "slide_type": "slide"
    }
   },
   "source": [
    "The state of the printer is represented by the state of the paper and the coordinates of the print head. Each dot on the paper is represented by a boolean value, `true` for black and `false` for white.\n",
    "\n",
    "```algorithm\n",
    "var paper: 0 .. X – 1 × 0 .. Y – 1 → bool     // paper is a 2D array\n",
    "var hx, hy: integer                                       // the position of the printer.\n",
    "```\n",
    "\n",
    "```algorithm\n",
    "newLine:\n",
    "    hx, hy := 0, hy + 1\n",
    "advance:\n",
    "    hx := hx + 1\n",
    "print:\n",
    "    paper(hx, hy) := true ; hx := hx + 1\n",
    "```"
   ]
  },
  {
   "cell_type": "markdown",
   "metadata": {
    "slideshow": {
     "slide_type": "slide"
    }
   },
   "source": [
    "Initially, the paper is blank, and the print head is at the origin:\n",
    "\n",
    "```algorithm\n",
    "P0: (∀ i ∈ 0 .. X – 1, j ∈ 0 .. Y – 1  •  ¬paper(i, j))   ∧   hx = 0 ∧ hy = 0\n",
    "```\n",
    "The printing task is then specified by:\n",
    "\n",
    "```algorithm\n",
    "{P1: P0 ∧ (∀ i ∈ 0 .. N – 1    •    0 ≤ fx(i) < X ∧ 0 ≤ fy(i) < Y)}\n",
    "printPicture\n",
    "{∀ i ∈ 0 .. X – 1, j ∈ 0 .. Y – 1   • \n",
    "    paper(i, j) = (∃ k ∈ 0 .. N – 1   •   i = fx(k)  ∧   j = fy(k))}\n",
    "```"
   ]
  },
  {
   "cell_type": "markdown",
   "metadata": {
    "slideshow": {
     "slide_type": "slide"
    }
   },
   "source": [
    "The approach is first to build the whole image in memory and then to print it. To this end, we declare a variable of the size of the paper:\n",
    "\n",
    "```algorithm\n",
    "printPicture:\n",
    "    var image: 0 .. X – 1 × 0 .. Y – 1 → bool\n",
    "        buildImage\n",
    "        {P0 ∧ ∀ i ∈ 0 .. X – 1, j ∈ 0 .. Y – 1 •\n",
    "            image(i, j) = (∃ k ∈ 0 .. N – 1 • i = fx(k) ∧ j = fy(k))}\n",
    "        printImage\n",
    "        {paper = image}\n",
    "```"
   ]
  },
  {
   "cell_type": "markdown",
   "metadata": {
    "slideshow": {
     "slide_type": "slide"
    }
   },
   "source": [
    "We refine `buildImage`: first, `image` is cleared, and then the dots are set:\n",
    "\n",
    "```algorithm\n",
    "buildImage:\n",
    "    clearImage\n",
    "    {P1 ∧ (∀ i ∈ 0 .. X – 1, j ∈ 0 .. Y – 1 • ¬image(i, j))}\n",
    "    markDots\n",
    "```"
   ]
  },
  {
   "cell_type": "markdown",
   "metadata": {
    "slideshow": {
     "slide_type": "slide"
    }
   },
   "source": [
    "We refine `clearImage` by clearing all lines:\n",
    "\n",
    "```algorithm\n",
    "clearImage:\n",
    "    var y : integer\n",
    "        y := 0\n",
    "        {P2: P1 ∧ (∀ i ∈ 0 .. X – 1, j ∈ 0 .. y – 1 • ¬image(i, j))}\n",
    "        while y < Y do\n",
    "            clearLine(y) ; y := y + 1\n",
    "```\n",
    "\n",
    "We refine `clearLine(y)` by clearing all dots of line `y`:\n",
    "\n",
    "```algorithm\n",
    "clearLine(y):\n",
    "    var x : integer\n",
    "        x := 0\n",
    "        {P2 ∧ (∀ i ∈ 0 .. x – 1 • ¬image(i, y))}\n",
    "        while x < X do\n",
    "            image(x, y) := false ; x := x + 1\n",
    "```"
   ]
  },
  {
   "cell_type": "markdown",
   "metadata": {
    "slideshow": {
     "slide_type": "slide"
    }
   },
   "source": [
    "We refine `markDots` by iterating over all `N` dots to be drawn:\n",
    "\n",
    "```algorithm\n",
    "markDots:\n",
    "    var n : integer\n",
    "        n := 0\n",
    "        {∀ x ∈ 0 .. X – 1, y ∈ 0 .. Y – 1 •\n",
    "            image(x, y) = (∃ i ∈ 0 .. n – 1 • x = fx(i) ∧ y = fy(i))}\n",
    "        while n < N do\n",
    "            image(fx(n), fy(n)) := true ; n := n + 1\n",
    "```"
   ]
  },
  {
   "cell_type": "markdown",
   "metadata": {
    "slideshow": {
     "slide_type": "slide"
    }
   },
   "source": [
    "We refine `printImage` by printing all lines from top to bottom:\n",
    "\n",
    "```algorithm\n",
    "printImage:\n",
    "    var y : integer\n",
    "        y := 0\n",
    "        {P3: hy = y ∧ ∀ i ∈ 0 .. X – 1, j ∈ 0 .. y – 1 •\n",
    "            paper(i, j) = image(i, j)   ∧  \n",
    "            paper(i, j) = (∃ k ∈ 0 .. N – 1  •  i = fx(k)  ∧   j = fy(k))}\n",
    "        while y < Y do\n",
    "            printLine(y) ; newLine ; y := y + 1\n",
    "```\n",
    "\n",
    "Finally we refine `printLine(y)` by printing all dots of a line:\n",
    "\n",
    "```algorithm\n",
    "printLine(y):\n",
    "    var x : integer\n",
    "        x := 0\n",
    "        {P3  ∧  hx = x ∧ (∀ i ∈ 0 .. x – 1 •\n",
    "            paper(i, y) = (∃ k ∈ 0 .. N – 1   •   i = fx(k)   ∧   y = fy(k)))}\n",
    "        while x < X do\n",
    "            if image(x, y) then print else advance\n",
    "            x := x + 1\n",
    "```"
   ]
  },
  {
   "cell_type": "markdown",
   "metadata": {
    "editable": true,
    "slideshow": {
     "slide_type": "slide"
    },
    "tags": []
   },
   "source": [
    "By putting all the parts together, we arrive at the complete program:\n",
    "\n",
    "```algorithm\n",
    "printPicture:\n",
    "    var image: 0 .. X – 1 × 0 .. Y – 1 → bool      // image is a 2D array\n",
    "    var x, y, n : integer\n",
    "\n",
    "    y := 0\n",
    "    while y < Y do        // clear the image\n",
    "        x := 0\n",
    "        while x < X do    // clear the image for each line\n",
    "            image(x, y) := false ; x := x + 1\n",
    "        y := y + 1\n",
    "    \n",
    "    n := 0\n",
    "    while n < N do        // markdot to the image \n",
    "        image(fx(n), fy(n)) := true ; n := n + 1\n",
    "    \n",
    "    y := 0\n",
    "    while y < N do        // print to the paper\n",
    "        x := 0\n",
    "        while x < X do    // print to the paper for each line\n",
    "            if image(x, y) then print else advance\n",
    "            x := x + 1\n",
    "        newLine ; y := y + 1\n",
    "```"
   ]
  },
  {
   "cell_type": "markdown",
   "metadata": {
    "slideshow": {
     "slide_type": "slide"
    }
   },
   "source": [
    "The formal proof is laborious as intermediate annotations get long. For example, `P0` has to be \"carried along\" in all intermediate annotations of  `buildImage` to be available as a precondition of `printImage`.\n",
    "\n",
    "The following two rules help to reason with smaller annotations:\n",
    "\n",
    "**Rules for simplification of correctness reasoning**\n",
    "\n",
    "<div style=\"display:table; border-top:1em solid transparent\">\n",
    "  <div style = \"display:table-cell; border-left:24px solid transparent; vertical-align:middle\">\n",
    "    <code>{P} S {P}</code> <br><br>\n",
    "    <code>{P0 ∧ P1} S {Q0 ∧ Q1}</code>\n",
    "  </div>\n",
    "  <div style = \"display:table-cell; border-left:24px solid transparent; vertical-align:middle\" >\n",
    "    if variables assigned in <code>S</code> do not occur in <code>P</code> <br><br>\n",
    "    if &nbsp; <code>{P0} S {Q0}</code> &nbsp; and &nbsp; <code>{P1} S {Q1}</code>\n",
    "  </div>\n",
    "</div>"
   ]
  },
  {
   "cell_type": "markdown",
   "metadata": {
    "slideshow": {
     "slide_type": "slide"
    }
   },
   "source": [
    "## References"
   ]
  },
  {
   "cell_type": "markdown",
   "metadata": {},
   "source": []
  }
 ],
 "metadata": {
  "kernelspec": {
   "display_name": "Python 3 (ipykernel)",
   "language": "python",
   "name": "python3"
  },
  "language_info": {
   "codemirror_mode": {
    "name": "ipython",
    "version": 3
   },
   "file_extension": ".py",
   "mimetype": "text/x-python",
   "name": "python",
   "nbconvert_exporter": "python",
   "pygments_lexer": "ipython3",
   "version": "3.13.0"
  },
  "livereveal": {
   "history": true,
   "margin": "0.01",
   "progress": true,
   "scroll": true,
   "start_slideshow_at": "selected"
  },
  "rise": {
   "enable_chalkboard": true
  },
  "toc": {
   "base_numbering": 1,
   "nav_menu": {},
   "number_sections": false,
   "sideBar": false,
   "skip_h1_title": true,
   "title_cell": "Table of Contents",
   "title_sidebar": "Contents",
   "toc_cell": false,
   "toc_position": {},
   "toc_section_display": true,
   "toc_window_display": false
  },
  "toc-autonumbering": false
 },
 "nbformat": 4,
 "nbformat_minor": 4
}
