{
 "cells": [
  {
   "cell_type": "markdown",
   "metadata": {
    "editable": true,
    "nbgrader": {
     "grade": false,
     "grade_id": "cell-155edc14d3667376",
     "locked": true,
     "schema_version": 3,
     "solution": false,
     "task": false
    },
    "slideshow": {
     "slide_type": "slide"
    },
    "tags": []
   },
   "source": [
    "### Find the Postconditions"
   ]
  },
  {
   "cell_type": "markdown",
   "metadata": {
    "tags": []
   },
   "source": [
    "##### 1. Assume `x, y: integer` are program variables and `A, B` are ghost variables. Give the strongest postcondition:"
   ]
  },
  {
   "cell_type": "markdown",
   "metadata": {
    "nbgrader": {
     "grade": false,
     "grade_id": "cell-d4f57277f379f6f4",
     "locked": true,
     "schema_version": 3,
     "solution": false,
     "task": false
    },
    "slideshow": {
     "slide_type": "-"
    }
   },
   "source": [
    "```algorithm\n",
    "{x = A ∧ y = B}\n",
    "if x < y then x, y := y, x\n",
    "{?}\n",
    "```"
   ]
  },
  {
   "cell_type": "markdown",
   "metadata": {},
   "source": [
    "```algorithm\n",
    "Your answer here\n",
    "```"
   ]
  },
  {
   "cell_type": "markdown",
   "metadata": {
    "jp-MarkdownHeadingCollapsed": true,
    "nbgrader": {
     "grade": false,
     "grade_id": "cell-9e922d249faca372",
     "locked": true,
     "schema_version": 3,
     "solution": false,
     "task": false
    },
    "solution": "hidden",
    "solution_first": true,
    "tags": []
   },
   "source": [
    "##### Answer:"
   ]
  },
  {
   "cell_type": "markdown",
   "metadata": {
    "nbgrader": {
     "grade": false,
     "grade_id": "cell-3df6e6cae325b6be",
     "locked": true,
     "schema_version": 3,
     "solution": false,
     "task": false
    },
    "solution": "hidden"
   },
   "source": [
    "```algorithm\n",
    "{x = A ∧ y = B}\n",
    "if x < y then x, y := y, x\n",
    "{x = max(A, B) ∧ y = min(A, B)}\n",
    "```"
   ]
  },
  {
   "cell_type": "markdown",
   "metadata": {},
   "source": [
    "##### 2. Assume `x, y: integer` are program variables and `A, B` are ghost variables. Give the strongest postcondition:"
   ]
  },
  {
   "cell_type": "markdown",
   "metadata": {},
   "source": [
    "```algorithm\n",
    "{x = A ∧ y = B}\n",
    "if x ≤ y then x, y := y, x\n",
    "{?}\n",
    "```"
   ]
  },
  {
   "cell_type": "markdown",
   "metadata": {},
   "source": [
    "```algorithm\n",
    "Your answer here\n",
    "```"
   ]
  },
  {
   "cell_type": "markdown",
   "metadata": {
    "jp-MarkdownHeadingCollapsed": true,
    "solution": "hidden",
    "solution_first": true,
    "tags": []
   },
   "source": [
    "##### Answer:"
   ]
  },
  {
   "cell_type": "markdown",
   "metadata": {
    "solution": "hidden"
   },
   "source": [
    "```algorithm\n",
    "{x = A ∧ y = B}\n",
    "if x ≤ y then x, y := y, x\n",
    "{x = max(A, B) ∧ y = min(A, B)}\n",
    "```"
   ]
  },
  {
   "cell_type": "markdown",
   "metadata": {},
   "source": [
    "##### 3. Assume `x, y: integer` are program variables and `A, B` are ghost variables. Give the strongest postcondition:"
   ]
  },
  {
   "cell_type": "markdown",
   "metadata": {},
   "source": [
    "```algorithm\n",
    "{x = A ∧ y = B}\n",
    "if x ≤ y → x, y := y, x\n",
    " ⫿ x ≥ y → skip\n",
    "{?}\n",
    "```"
   ]
  },
  {
   "cell_type": "markdown",
   "metadata": {},
   "source": [
    "```algorithm\n",
    "Your answer here\n",
    "```"
   ]
  },
  {
   "cell_type": "markdown",
   "metadata": {
    "jp-MarkdownHeadingCollapsed": true,
    "solution": "hidden",
    "solution_first": true,
    "tags": []
   },
   "source": [
    "##### Answer:"
   ]
  },
  {
   "cell_type": "markdown",
   "metadata": {
    "solution": "hidden"
   },
   "source": [
    "```algorithm\n",
    "{x = A ∧ y = B}\n",
    "if x ≤ y → x, y := y, x\n",
    " ⫿ x ≥ y → skip\n",
    "{x = max(A, B) ∧ y = min(A, B)}\n",
    "```"
   ]
  },
  {
   "cell_type": "markdown",
   "metadata": {},
   "source": [
    "##### 4. Assume `m, x, y, z: integer`. Give the strongest intermediate conditions and postcondition:"
   ]
  },
  {
   "cell_type": "markdown",
   "metadata": {},
   "source": [
    "```algorithm\n",
    "{true}\n",
    "m := x\n",
    "{?}\n",
    "if m < y then m := y\n",
    "{?}\n",
    "if m < z then m := z\n",
    "{?}\n",
    "```"
   ]
  },
  {
   "cell_type": "markdown",
   "metadata": {},
   "source": [
    "```algorithm\n",
    "Your answer here\n",
    "```"
   ]
  },
  {
   "cell_type": "markdown",
   "metadata": {
    "jp-MarkdownHeadingCollapsed": true,
    "solution": "hidden",
    "solution_first": true,
    "tags": []
   },
   "source": [
    "##### Answer:"
   ]
  },
  {
   "cell_type": "markdown",
   "metadata": {
    "solution": "hidden"
   },
   "source": [
    "```algorithm\n",
    "{true}\n",
    "m := x\n",
    "{m = x}\n",
    "if m < y then m := y\n",
    "{m = max(x, y)}\n",
    "if m < z then m := z\n",
    "{m = max(x, y, z)}\n",
    "```"
   ]
  },
  {
   "cell_type": "markdown",
   "metadata": {},
   "source": [
    "##### 5. Assume that `a: 0 .. N – 1 → integer` for constant `N > 0` and `m, n: integer`. Fill in the `?` for a correct program:"
   ]
  },
  {
   "cell_type": "markdown",
   "metadata": {},
   "source": [
    "```algorithm\n",
    "m, n := ?, ?\n",
    "{?}\n",
    "while n < N do\n",
    "    if m < a(n) then m := a(n)\n",
    "    n := n + 1\n",
    "{?}\n",
    "```"
   ]
  },
  {
   "cell_type": "markdown",
   "metadata": {},
   "source": [
    "```algorithm\n",
    "Your answer here\n",
    "```"
   ]
  },
  {
   "cell_type": "markdown",
   "metadata": {
    "jp-MarkdownHeadingCollapsed": true,
    "solution": "hidden",
    "solution_first": true,
    "tags": []
   },
   "source": [
    "##### Answer:"
   ]
  },
  {
   "cell_type": "markdown",
   "metadata": {
    "solution": "hidden"
   },
   "source": [
    "```algorithm\n",
    "m, n := a(0), 1\n",
    "{m = max{a(i) | 0 ≤ i < n} ∧ 0 ≤ n ≤ N}\n",
    "while n < N do\n",
    "    if m < a(n) then m := a(n)\n",
    "    n := n + 1\n",
    "{m = max{a(i) | 0 ≤ i < N}}\n",
    "```"
   ]
  }
 ],
 "metadata": {
  "kernelspec": {
   "display_name": "Python 3 (ipykernel)",
   "language": "python",
   "name": "python3"
  },
  "language_info": {
   "codemirror_mode": {
    "name": "ipython",
    "version": 3
   },
   "file_extension": ".py",
   "mimetype": "text/x-python",
   "name": "python",
   "nbconvert_exporter": "python",
   "pygments_lexer": "ipython3",
   "version": "3.11.2"
  },
  "toc": {
   "base_numbering": 1
  }
 },
 "nbformat": 4,
 "nbformat_minor": 4
}
