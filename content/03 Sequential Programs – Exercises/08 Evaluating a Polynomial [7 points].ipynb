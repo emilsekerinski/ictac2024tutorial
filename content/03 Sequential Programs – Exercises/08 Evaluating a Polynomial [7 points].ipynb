{
 "cells": [
  {
   "cell_type": "markdown",
   "metadata": {
    "slideshow": {
     "slide_type": "slide"
    }
   },
   "source": [
    "### Evaluating a Polynomial [7 points]"
   ]
  },
  {
   "cell_type": "markdown",
   "metadata": {},
   "source": [
    "A polynomial in one variable (*univariate*) is of the form `p(x) = c(n) × xⁿ + c(n-1) × xⁿ⁻¹ + ... + c(1) × x + c(0)`, where the `c(i)` are the _coefficients_ and `n` is the _degree_.\n",
    "\n",
    "Assuming that `N ≥ 0`, the array `c: 0 .. N – 1 → integer` has the coefficients, and `x` is an integer, write a program that, for integer variable `s`, establishes the postcondition\n",
    "\n",
    "```algorithm\n",
    "s = (∑ i ∈ 0 .. N - 1 • c(i) × xⁱ)\n",
    "```"
   ]
  },
  {
   "cell_type": "markdown",
   "metadata": {},
   "source": [
    "##### 1. With exponentiation [4 points]"
   ]
  },
  {
   "cell_type": "markdown",
   "metadata": {},
   "source": [
    "The program should contain only one loop and use exponentiation. Give the programs textually and add the appropriate annotation! Use as a template:\n",
    "\n",
    "```algorithm\n",
    "{true}\n",
    "Your annotated algorithm here\n",
    "{s = (∑ i ∈ 0 .. N – 1 • c(i) × xⁱ)}\n",
    "```\n",
    "\n",
    "Give the correctness conditions and prove them!"
   ]
  },
  {
   "cell_type": "markdown",
   "metadata": {
    "nbgrader": {
     "grade": true,
     "grade_id": "cell-0ad0faf785be6234",
     "locked": false,
     "points": 4,
     "schema_version": 3,
     "solution": true,
     "task": false
    }
   },
   "source": [
    "```algorithm\n",
    "{true}\n",
    "s, j := 0, 0\n",
    "{P: s = (∑ i ∈ 0 .. j – 1 • c(i) × xⁱ) ∧ 0 ≤ j ≤ N}\n",
    "while j < N do\n",
    "\ts, j := s + c(j) × xʲ, j + 1\n",
    "{Q: s = (∑ i ∈ 0 .. N – 1 • c(i) × xⁱ)}\n",
    "```\n",
    "\n",
    "The correctness conditions are:\n",
    "1. `{true} s, j := 0, 0 {P}`\n",
    "2. `{j < N ∧ P} s, j := s + c(j) × xʲ, j + 1 {P}`\n",
    "3. `j ≥ N ∧ P ⇒ Q`\n",
    "\n",
    "The proofs are:\n",
    "\n",
    "1.\n",
    "```algorithm\n",
    "    {true} s, j := 0, 0 {P}\n",
    "≡       {rule for assignments}\n",
    "    true ⇒ P[s, j := 0, 0]\n",
    "≡       {logic, definition of P, substitution}\n",
    "    0 = (∑ i ∈ 0 .. – 1 • c(i) × xⁱ) ∧ 0 ≤ 0 ≤ N\n",
    "≡       {empty sum, assumption N ≥ 0}\n",
    "    true\n",
    "```\n",
    "\n",
    "2.  \n",
    "```algorithm\n",
    "    {j < N ∧ P} s, j := s + c(j) × xʲ, j + 1 {P}\n",
    "≡       {rule for assignments}\n",
    "    j < N ∧ P ⇒ P[s, j := s + c(j) × xʲ, j + 1]\n",
    "≡       {definition of P, substitution, arithmetic}\n",
    "    j < N ∧ P ⇒ s + c(j) × xʲ = (∑ i ∈ 0 .. j • c(i) × xⁱ) ∧ 0 ≤ j + 1 ≤ N\n",
    "≡       {j < N ≡ j + 1 ≤ N, P ⇒ 0 ≤ j + 1, splitting ∑}\n",
    "    j < N ∧ P ⇒ s + c(j) × xʲ = (∑ i ∈ 0 .. j – 1 • c(i) × xⁱ) + c(j) × xʲ\n",
    "≡       {definition of P, arithmetic}\n",
    "    true\n",
    "```\n",
    "\n",
    "3.  \n",
    "```algorithm\n",
    "    j ≥ N ∧ P ⇒ Q\n",
    "≡       {rule for assignments}\n",
    "    j ≥ N ∧ P\n",
    "≡       {P ⇒ j ≤ N, definition of P}\n",
    "    j = N ∧ s = (∑ i ∈ 0 .. j – 1 • c(i) × xⁱ)\n",
    "⇒       {subsituting j for N, definition of Q}\n",
    "    Q\n",
    "```"
   ]
  },
  {
   "cell_type": "markdown",
   "metadata": {},
   "source": [
    "##### 2. Without exponentiation [2 points]"
   ]
  },
  {
   "cell_type": "markdown",
   "metadata": {},
   "source": [
    "The program should contain only one loop and use only addition and multiplication, no exponentiation. Add appropriate annotation. You do not need to prove that the program is correct, but the loop invariant has to be strong enough to allow a proof (you may want to carry out the proofs for yourself). Use the above template."
   ]
  },
  {
   "cell_type": "markdown",
   "metadata": {
    "nbgrader": {
     "grade": true,
     "grade_id": "cell-afb351faef05f180",
     "locked": false,
     "points": 2,
     "schema_version": 3,
     "solution": true,
     "task": false
    }
   },
   "source": [
    "A new variable, `p`, is introduced with the invariant `xʲ = p`:\n",
    "\n",
    "```algorithm\n",
    "{true}\n",
    "s, p, j := 0, 1, 0\n",
    "{P: s = (∑ i ∈ 0 .. j – 1 • c(i) × xⁱ) ∧ xʲ = p ∧ 0 ≤ j ≤ N}\n",
    "while j < N do\n",
    "\ts, p, j := s + c(j) × p, p × x, j + 1\n",
    "{Q: s = (∑ i ∈ 0 .. N – 1 • c(i) × xⁱ)}\n",
    "```"
   ]
  },
  {
   "cell_type": "markdown",
   "metadata": {},
   "source": [
    "##### 3. Implementation [1 point]"
   ]
  },
  {
   "cell_type": "markdown",
   "metadata": {},
   "source": [
    "Implement your algorithm without exponentions in Python!"
   ]
  },
  {
   "cell_type": "code",
   "execution_count": null,
   "metadata": {
    "nbgrader": {
     "grade": true,
     "grade_id": "cell-293ee825ca9be7d7",
     "locked": false,
     "points": 0,
     "schema_version": 3,
     "solution": true,
     "task": false
    }
   },
   "outputs": [],
   "source": [
    "def poly(c, x):\n",
    "    ### BEGIN SOLUTION\n",
    "    s, p = 0, 1\n",
    "    for j in range(len(c)):\n",
    "        s, p = s + c[j] * p, p * x\n",
    "    return s\n",
    "    ### END SOLUTION"
   ]
  },
  {
   "cell_type": "code",
   "execution_count": null,
   "metadata": {
    "nbgrader": {
     "grade": true,
     "grade_id": "cell-a563d7766ede7e8a",
     "locked": true,
     "points": 1,
     "schema_version": 3,
     "solution": false,
     "task": false
    }
   },
   "outputs": [],
   "source": [
    "assert poly([1, 2, 3], 3) == 34\n",
    "assert poly([7], 6) == 7\n",
    "assert poly([], 3) == 0\n",
    "assert poly([2, 0, 0], 7) == 2\n",
    "assert poly([0, 0, 2], 7) == 98"
   ]
  }
 ],
 "metadata": {
  "celltoolbar": "Create Assignment",
  "kernelspec": {
   "display_name": "Python 3 (ipykernel)",
   "language": "python",
   "name": "python3"
  },
  "language_info": {
   "codemirror_mode": {
    "name": "ipython",
    "version": 3
   },
   "file_extension": ".py",
   "mimetype": "text/x-python",
   "name": "python",
   "nbconvert_exporter": "python",
   "pygments_lexer": "ipython3",
   "version": "3.13.0"
  },
  "rise": {
   "enable_chalkboard": true,
   "scroll": true
  }
 },
 "nbformat": 4,
 "nbformat_minor": 4
}
