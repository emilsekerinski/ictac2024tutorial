{
 "cells": [
  {
   "cell_type": "markdown",
   "metadata": {
    "editable": true,
    "slideshow": {
     "slide_type": "slide"
    },
    "tags": []
   },
   "source": [
    "### Determine the Weakest Precondition"
   ]
  },
  {
   "cell_type": "markdown",
   "metadata": {
    "nbgrader": {
     "grade": false,
     "grade_id": "cell-bde6b6fd14306ecc",
     "locked": true,
     "schema_version": 3,
     "solution": false,
     "task": false
    },
    "slideshow": {
     "slide_type": "-"
    }
   },
   "source": [
    "The rule for the correctness of assignments is given as:\n",
    "\n",
    "&nbsp; &nbsp; `{P}  x, y := E, F  {Q}` &nbsp; if  &nbsp; `P ⇒ Q[x, y := E, F]`\n",
    "\n",
    "By taking `P` to be `Q[x, y := E, F]`, the rule becomes:\n",
    "\n",
    "&nbsp; &nbsp; `{Q[x, y := E, F]}  x, y := E, F  {Q}`\n",
    "\n",
    "Here, `Q[x, y := E, F]` is the *weakest precondition* for the assignment `x, y := E, F` to establish postcondition `Q`.\n",
    "\n",
    "Use these rules to derive the weakest predicate `P` below. Assume `x` is an integer variable and `a`, `b` are boolean variables. Use an equational proof. Simplify the result. For example, `P` in\n",
    "```algorithm\n",
    "{P}  x := x + 1  {x > 0}\n",
    "```\n",
    "is derived by:\n",
    "```algorithm\n",
    "    P\n",
    "≡       {above rule}\n",
    "    (x > 0)[x := x + 1]\n",
    "≡       {by substitution, leaving out parenthesis}\n",
    "    x + 1 > 0\n",
    "≡       (arithmetic}\n",
    "    x ≥ 0\n",
    "```"
   ]
  },
  {
   "cell_type": "markdown",
   "metadata": {
    "solution": "shown",
    "solution_first": true
   },
   "source": [
    "1. \n",
    "```algorithm\n",
    "{P}  x, y := x + 1, y – 1  {x + y > 0}\n",
    "```"
   ]
  },
  {
   "cell_type": "markdown",
   "metadata": {},
   "source": [
    "Your derivation here"
   ]
  },
  {
   "cell_type": "markdown",
   "metadata": {
    "jupyter": {
     "source_hidden": true
    }
   },
   "source": [
    "_Answer:_  \n",
    "```algorithm\n",
    "    P\n",
    "≡       {above rule}\n",
    "    (x + y > 0)[x, y := x + 1, y – 1]\n",
    "≡        {by substitution, leaving out parenthesis}\n",
    "    x + 1 + y - 1 > 0\n",
    "≡        {arithmetic}\n",
    "    x + y > 0\n",
    "```"
   ]
  },
  {
   "cell_type": "markdown",
   "metadata": {},
   "source": [
    "2. \n",
    "```algorithm\n",
    "{P}  x := x + 1  {x = x + 1}\n",
    "```"
   ]
  },
  {
   "cell_type": "markdown",
   "metadata": {},
   "source": [
    "Your derivation here"
   ]
  },
  {
   "cell_type": "markdown",
   "metadata": {
    "jupyter": {
     "source_hidden": true
    }
   },
   "source": [
    "_Answer:_  \n",
    "```algorithm\n",
    "    P\n",
    "≡       {above rule}\n",
    "    (x = x + 1)[x := x + 1]\n",
    "≡       {by substitution, leaving out parenthesis}\n",
    "    x + 1 = x + 1 + 1\n",
    "≡       {arithmetic, logic}\n",
    "    false\n",
    "```"
   ]
  },
  {
   "cell_type": "markdown",
   "metadata": {},
   "source": [
    "3. \n",
    "```algorithm\n",
    "{P}  a := a = b  {a}\n",
    "```"
   ]
  },
  {
   "cell_type": "markdown",
   "metadata": {},
   "source": [
    "Youre derivation here"
   ]
  },
  {
   "cell_type": "markdown",
   "metadata": {
    "jupyter": {
     "source_hidden": true
    }
   },
   "source": [
    "_Answer_: \n",
    "```algorithm\n",
    "    P\n",
    "≡       {above rule}\n",
    "    a[a := a = b]\n",
    "≡       {by substitution}\n",
    "    a = b\n",
    "```"
   ]
  },
  {
   "cell_type": "markdown",
   "metadata": {},
   "source": [
    "4.  Assume `a: 0 .. N – 1 → integer`:\n",
    "```algorithm\n",
    "{P}  s, i := s + a(i), i + 1  {s = ∑ k ∈ 0 .. i – 1 • a(k) ∧ 0 ≤ i ≤ N}\n",
    "```"
   ]
  },
  {
   "cell_type": "markdown",
   "metadata": {},
   "source": [
    "Your derivation here"
   ]
  },
  {
   "cell_type": "markdown",
   "metadata": {},
   "source": [
    "_Answer_:  \n",
    "```algorithm\n",
    "    P\n",
    "≡       {above rule}\n",
    "    (s = ∑ k ∈ 0 .. i – 1 • a(k) ∧ 0 ≤ i ≤ N)[s, i := s + a(i), i + 1]\n",
    "≡       {by substitution}\n",
    "    s + a(i) = ∑ k ∈ 0 ..  i + 1 – 1 • a(k) ∧ 0 ≤  i + 1 ≤ N\n",
    "≡       {arithmetic}\n",
    "    s + a(i) = ∑ k ∈ 0 ..  i • a(k) ∧ 0 ≤  i + 1 ≤ N\n",
    "≡       {splitting summation}\n",
    "    s + a(i) = (∑ k ∈ 0 ..  i – 1 • a(k)) + a(i) ∧ 0 ≤  i + 1 ≤ N\n",
    "≡       {arithmetic}\n",
    "    s = ∑ k ∈ 0 ..  i – 1 • a(k) ∧ 0 ≤  i + 1 ≤ N\n",
    "```"
   ]
  },
  {
   "cell_type": "markdown",
   "metadata": {},
   "source": [
    "5. \n",
    "```algorithm\n",
    "{P}  m := x  {m = max(x, y)}\n",
    "```"
   ]
  },
  {
   "cell_type": "markdown",
   "metadata": {},
   "source": [
    "Your derivation here"
   ]
  },
  {
   "cell_type": "markdown",
   "metadata": {
    "jupyter": {
     "source_hidden": true
    }
   },
   "source": [
    "_Answer:_  \n",
    "```algorithm\n",
    "    P\n",
    "≡       {above rule}\n",
    "    m = max(x, y)[m := x]\n",
    "≡       {by substitution}\n",
    "    x = max(x, y)\n",
    "≡       {definition of max}\n",
    "    x ≥ y\n",
    "```"
   ]
  }
 ],
 "metadata": {
  "kernelspec": {
   "display_name": "Python 3 (ipykernel)",
   "language": "python",
   "name": "python3"
  },
  "language_info": {
   "codemirror_mode": {
    "name": "ipython",
    "version": 3
   },
   "file_extension": ".py",
   "mimetype": "text/x-python",
   "name": "python",
   "nbconvert_exporter": "python",
   "pygments_lexer": "ipython3",
   "version": "3.11.2"
  },
  "toc": {
   "base_numbering": 1
  }
 },
 "nbformat": 4,
 "nbformat_minor": 4
}
