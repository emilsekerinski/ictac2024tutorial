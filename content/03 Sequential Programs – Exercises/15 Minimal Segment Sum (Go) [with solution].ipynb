{
 "cells": [
  {
   "cell_type": "markdown",
   "metadata": {},
   "source": [
    "### Minimal Segment Sum (Go)\n",
    "\n",
    "Consider computing the sum of the elements of `a: 0 .. N – 1 → integer` for constant `N ≥ 0`:\n",
    "\n",
    "```algorithm\n",
    "{true}\n",
    "s, k := 0, 0\n",
    "{s = (∑ i ∈ 0 .. k – 1 • a(i)) ∧ 0 ≤ k ≤ N}\n",
    "while k < N do\n",
    "    s, k := s + a(k), k + 1\n",
    "{s = (∑ i ∈ 0 .. N – 1 • a(i))}\n",
    "```\n",
    "\n",
    "Go distinguishes between *array* and *slices*. Arrays are values, and the length of an array is part of the type. For example, `b := [5]int{1, 2, 3, 4, 5}` assigns the array with elements `1`, ..., `5` to `b`. The type of `b` is `[5]int`. Slices are views of an array; for example, `[]int` is an integer slice; the length of a slice is not part of the type, but the function `len(s)` for slice `s` returns its length. Slices always refer to an array but not necessarily to its beginning. In the following implementation of integer array summation, the parameter `a` is a slice. The `range` construct can be used more conveniently to iterate over all slice elements."
   ]
  },
  {
   "cell_type": "code",
   "execution_count": null,
   "metadata": {},
   "outputs": [],
   "source": [
    "%%writefile sum.go\n",
    "package main\n",
    "\n",
    "func sum(a []int) int { // a is slice, not array\n",
    "    s := 0\n",
    "    for _, x := range(a) {s += x}\n",
    "    return s\n",
    "}\n",
    "func main() {\n",
    "    b := [5]int{1, 2, 3, 4, 5};\n",
    "    // println(sum(b)) error, cannot pass array as slice\n",
    "    b0 := b[1:4]; println(sum(b0)) // slice 2, 3, 4 passed\n",
    "    b1 := b[0:0]; println(sum(b1)) // empty slice passed\n",
    "    println(sum(b[:])) // slice of whole array passed\n",
    "    b[4] = 0  // arrays can be modified\n",
    "    b0[0] = 0 // modifying a slice modifies the underlying array\n",
    "    println(sum(b[:])) // slice 1, 0, 2, 4, 0 passed\n",
    "}"
   ]
  },
  {
   "cell_type": "code",
   "execution_count": null,
   "metadata": {},
   "outputs": [],
   "source": [
    "!go run sum.go"
   ]
  },
  {
   "cell_type": "markdown",
   "metadata": {},
   "source": [
    "A post in the [Go Blog](https://blog.golang.org/slices) by Rob Pike explains the details of how slices work.\n",
    "\n",
    "Consider the linear-time algorithm for the minimal segment sum from the course notes. For an array `f: 0 .. N – 1 → integer`, the minimal segment sum is assigned to `x`:\n",
    "\n",
    "```algorithm\n",
    "n, x, y := 0, 0, 0\n",
    "while n < N do\n",
    "    y := y + f(n)\n",
    "    if y ≥ 0 then y := 0\n",
    "    else if x > y then x := y\n",
    "    n := n + 1\n",
    "```\n",
    "\n",
    "Implement and test it in Go!"
   ]
  },
  {
   "cell_type": "code",
   "execution_count": null,
   "metadata": {
    "solution": "hidden",
    "solution_first": true
   },
   "outputs": [],
   "source": [
    "YOUR CODE HERE"
   ]
  },
  {
   "cell_type": "code",
   "execution_count": null,
   "metadata": {
    "jupyter": {
     "source_hidden": true
    },
    "solution": "hidden"
   },
   "outputs": [],
   "source": [
    "%%writefile mss.go\n",
    "package main\n",
    "\n",
    "func mss(a []int) int {\n",
    "    x, y := 0, 0\n",
    "    for _, e := range(a) {\n",
    "        y += e\n",
    "        if y >= 0 {y = 0\n",
    "        } else if x > y {x = y}\n",
    "    }\n",
    "    return x\n",
    "}\n",
    "func main() {\n",
    "    b := []int{1, 2, -3, 0, 2, -9, 7}\n",
    "    println(mss(b))\n",
    "}"
   ]
  },
  {
   "cell_type": "code",
   "execution_count": null,
   "metadata": {
    "solution": "hidden"
   },
   "outputs": [],
   "source": [
    "!go run mss.go"
   ]
  }
 ],
 "metadata": {
  "celltoolbar": "Create Assignment",
  "kernelspec": {
   "display_name": "Python 3 (ipykernel)",
   "language": "python",
   "name": "python3"
  },
  "language_info": {
   "codemirror_mode": {
    "name": "ipython",
    "version": 3
   },
   "file_extension": ".py",
   "mimetype": "text/x-python",
   "name": "python",
   "nbconvert_exporter": "python",
   "pygments_lexer": "ipython3",
   "version": "3.11.2"
  }
 },
 "nbformat": 4,
 "nbformat_minor": 4
}
