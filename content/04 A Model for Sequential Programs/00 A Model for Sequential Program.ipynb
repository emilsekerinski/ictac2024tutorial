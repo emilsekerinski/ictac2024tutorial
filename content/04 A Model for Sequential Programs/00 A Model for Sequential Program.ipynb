{
 "cells": [
  {
   "cell_type": "markdown",
   "metadata": {
    "slideshow": {
     "slide_type": "slide"
    },
    "tags": []
   },
   "source": [
    "---\n",
    "\n",
    "# A Model for Sequential Programs\n",
    "### [Emil Sekerinski](http://www.cas.mcmaster.ca/~emil/), McMaster University, February 2023\n",
    "\n",
    "---\n",
    "\n",
    "<figure style=\"float:right;border-right:2em solid white\" >\n",
    "    <img style=\"width:90pt\" src=\"./img/by-nc-nd.png\"/>\n",
    "    <figcaption style=\"width:90pt;font-size:x-small\"><a href=\"https://creativecommons.org/licenses/by-nc-nd/4.0/\" style=\"font-size:x-small\">Licensed under Creative Commons CC BY-NC-ND</a>\n",
    "    </figcaption>\n",
    "</figure>"
   ]
  },
  {
   "cell_type": "markdown",
   "metadata": {},
   "source": [
    "### On Relations"
   ]
  },
  {
   "cell_type": "markdown",
   "metadata": {},
   "source": [
    "A (binary) relation between elements of types `X` and `Y`, written `X ↔︎ Y`, is a function of type `X → Y → Bool`. For `x: X`, `y: Y`, and `R: X ↔︎ Y`, the predicate `R x y` is also written `x R y`. The constant relations `⊥`, `⊤` , `Id`  and, for relations `P` and `Q`, the relational operators `~P`, `P⁻¹` , `P ∩ Q` , `P ∪ Q` , `P ◦ Q`  as well as the predicate `P ⊆ Q` are defined by:\n",
    "\n",
    "<span style = \"float:right\">(empty relation)</span>\n",
    "\n",
    "    x ⊥ y  ≙  false\n",
    "\n",
    "<span style = \"float:right\">(universal relation)</span>\n",
    "\n",
    "    x ⊤ y  ≙  true\n",
    "\n",
    "<span style = \"float:right\">(identity relation)</span>\n",
    "\n",
    "    x Id y  ≙  x = y\n",
    "\n",
    "<span style = \"float:right\">(relational complement)</span>\n",
    "\n",
    "    x ~P y  ≙  ¬(x P y)\n",
    "\n",
    "<span style = \"float:right\">(relational inverse)</span>\n",
    "\n",
    "    x P⁻¹ y  ≙  y P x\n",
    "\n",
    "<span style = \"float:right\">(relational intersection)</span>\n",
    "\n",
    "    x (P ∩ Q) y  ≙  x P y ∧ x Q y\n",
    "\n",
    "<span style = \"float:right\">(relational union)</span>\n",
    "\n",
    "    x (P ∪ Q) y  ≙  x P y ∨ x Q y\n",
    "\n",
    "<span style = \"float:right\">(relational composition)</span>\n",
    "\n",
    "    x (P ◦ Q) z  ≙  ∃ y · x P y ∧ y Q z\n",
    "\n",
    "<span style = \"float:right\">(relational inclusion)</span>\n",
    "\n",
    "    P ⊆ Q  ≙  ∀ x, y ∙ x P y ⇒ x Q y\n",
    "\n",
    "\n",
    "The above defines `⊥` and `⊤` to be polymorphic relations on two arbitrary types and `Id` to be a polymorphic relation between elements of the same type."
   ]
  },
  {
   "cell_type": "markdown",
   "metadata": {},
   "source": [
    "Relations satisfy the laws of the relational algebra: For this, relations with `⊥`, `⊤`, `~`, `∩`, `∪`, satisfy the laws of the Boolean algebra:\n",
    "\n",
    "<span style = \"float:right\">(associativity of `∩`)</span>\n",
    "\n",
    "    P ∩ (Q ∩ R) =  (P ∩ Q) ∩ R\n",
    "\n",
    "<span style = \"float:right\">(associativity of `∪`)</span>\n",
    "\n",
    "    P ∪ (Q ∪ R) =  (P ∪ Q) ∪ R\n",
    "\n",
    "<span style = \"float:right\">(commutativity of `∩`)</span>\n",
    "\n",
    "    P ∩ Q =  Q ∩ P\n",
    "\n",
    "<span style = \"float:right\">(commutativity of `∪`)</span>\n",
    "\n",
    "    P ∪ Q =  Q ∪ P\n",
    "\n",
    "<span style = \"float:right\">(absorption)</span>\n",
    "\n",
    "    P ∩ (P ∪ Q)  =  P\n",
    "\n",
    "<span style = \"float:right\">(absorption)</span>\n",
    "\n",
    "    P ∪ (P ∩ Q)  =  P\n",
    "\n",
    "<span style = \"float:right\">(distributivity of `∩` over `∪`)</span>\n",
    "\n",
    "    P ∩ (Q ∪ R) =  (P ∩ Q) ∪ (P ∩ R)\n",
    "\n",
    "<span style = \"float:right\">(distributivity of `∪` over `∩`)</span>\n",
    "\n",
    "    P ∪ (Q ∩ R) =  (P ∪ Q) ∩ (P ∪ R)\n",
    "\n",
    "<span style = \"float:right\">(`⊤` unit of `∩`)</span>\n",
    "\n",
    "    P ∩ ⊤ = P\n",
    "\n",
    "<span style = \"float:right\">(`⊥` unit of `∪`)</span>\n",
    "\n",
    "    P ∪ ⊥ = P\n",
    "\n",
    "<span style = \"float:right\">(`⊥` zero of `∩`)</span>\n",
    "\n",
    "    P ∩ ⊥ = ⊥\n",
    "\n",
    "<span style = \"float:right\">(`⊤` zero of `∪`)</span>\n",
    "\n",
    "    P ∪ ⊤ = ⊤\n",
    "\n",
    "<span style = \"float:right\">(complement)</span>\n",
    "\n",
    "    P ∩ ~P  =  ⊥\n",
    "\n",
    "<span style = \"float:right\">(complement)</span>\n",
    "\n",
    "    P ∪ ~P = ⊤\n"
   ]
  },
  {
   "cell_type": "markdown",
   "metadata": {},
   "source": [
    "Relations with `◦` and `Id` form a monoid with zero:\n",
    "\n",
    "<span style = \"float:right\">(associativity of `◦`)</span>\n",
    "\n",
    "    P ◦ (Q ◦ R) = (P ◦ Q) ◦ R\n",
    "\n",
    "<span style = \"float:right\">(`Id` unit of `◦`)</span>\n",
    "\n",
    "    Id ◦ P = P\n",
    "\n",
    "<span style = \"float:right\">(`Id` unit of `◦`)</span>\n",
    "\n",
    "    P ◦ Id = P\n",
    "\n",
    "<span style = \"float:right\">(`⊥` zero of `◦`)</span>\n",
    "\n",
    "    ⊥ ◦ P = ⊥\n",
    "\n",
    "<span style = \"float:right\">(`⊥` zero of `◦`)</span>\n",
    "\n",
    "    P ◦ ⊥ = ⊥"
   ]
  },
  {
   "cell_type": "markdown",
   "metadata": {},
   "source": [
    "The Boolean and monoid structures are connected by distributivity of `◦` over `∪`:\n",
    "\n",
    "<span style = \"float:right\">(distributivity of `◦` over `∪`)</span>\n",
    "\n",
    "    P ◦ (Q ∪ R) = (P ◦ Q) ∪ (P ◦ R)\n",
    "\n",
    "<span style = \"float:right\">(distributivity of `◦` over `∪`)</span>\n",
    "\n",
    "    (P ∪ Q) ◦ R = (P ∪ R) ◦ (Q ∪ R)"
   ]
  },
  {
   "cell_type": "markdown",
   "metadata": {},
   "source": [
    "*Proof of (distributivity of `◦` over `∪`).*"
   ]
  },
  {
   "cell_type": "markdown",
   "metadata": {
    "jupyter": {
     "source_hidden": true
    },
    "tags": []
   },
   "source": [
    "        x (P ◦ (Q ∪ R)) z\n",
    "    ≡\n",
    "        ∃ y • x P y ∧ (y Q z ∨ y R z)\n",
    "    ≡\n",
    "        ∃ y • (x P y ∧ y Q z) ∨ (x P y ∧ y R z)\n",
    "    ≡\n",
    "        x ((P ◦ Q) ∪ (P ◦ R)) z"
   ]
  },
  {
   "cell_type": "markdown",
   "metadata": {},
   "source": [
    "For `⋂`, only sub-distributivity holds:\n",
    "\n",
    "<span style = \"float:right\">(sub-distributivity of `◦` over `⋂`)</span>\n",
    "\n",
    "    P ◦ (Q ⋂ R)  ⊆  (P ◦ Q) ⋂ (P ◦ R)\n",
    "\n",
    "<span style = \"float:right\">(sub-distributivity of `◦` over `⋂`)</span>\n",
    "\n",
    "    (P ⋂ Q) ◦ R  ⊆  (P ⋂ R) ◦ (Q ⋂ R)"
   ]
  },
  {
   "cell_type": "markdown",
   "metadata": {},
   "source": [
    "*Proof of (sub-distributivity of `◦` over `⋂`).*"
   ]
  },
  {
   "cell_type": "markdown",
   "metadata": {
    "jupyter": {
     "source_hidden": true
    },
    "tags": []
   },
   "source": [
    "        x (P ◦ (Q ⋂ R)) z\n",
    "    ≡\n",
    "        ∃ y • x P y ∧ y Q z ∧ y R z\n",
    "    ⇒\n",
    "        (∃ y • x P y ∧ y Q z) ∧ (∃ y • x P y ∧ y R z)\n",
    "    ≡\n",
    "        x ((P ◦ Q) ⋂ (P ◦ R)) z"
   ]
  },
  {
   "cell_type": "markdown",
   "metadata": {
    "jupyter": {
     "source_hidden": true
    },
    "tags": []
   },
   "source": [
    "        x ((P ⋂ Q) ◦ R) z\n",
    "    ≡\n",
    "        ∃ y • x P y ∧ x Q y ∧ y R z\n",
    "    ⇒\n",
    "        (∃ y • x P y ∧ y R z) ∧ (∃ y • x Q y ∧ y R z)\n",
    "    ≡\n",
    "        x ((P ⋂ R) ◦ (Q ⋂ R)) z"
   ]
  },
  {
   "cell_type": "markdown",
   "metadata": {},
   "source": [
    "Finally, the inverse is an involution and distributes over `∪`:\n",
    "\n",
    "<span style = \"float:right\">(`⁻¹` involution)</span>\n",
    "\n",
    "    (P⁻¹)⁻¹  =  P\n",
    "\n",
    "<span style = \"float:right\">(`⁻¹` involution)</span>\n",
    "\n",
    "    (P ◦ Q)⁻¹  =  Q⁻¹ ◦ P⁻¹\n",
    "\n",
    "<span style = \"float:right\">(distributivity of `⁻¹` over `∪`)</span>\n",
    "\n",
    "    (P ∪ Q)⁻¹  =  P⁻¹ ∪ Q⁻¹"
   ]
  },
  {
   "cell_type": "markdown",
   "metadata": {},
   "source": [
    "Relational inclusion can equally be defined in terms of union or intersection:\n",
    "\n",
    "<span style = \"float:right\">(`⊆` as `∩`)</span>\n",
    "\n",
    "    P ⊆ Q ≡ P ∩ Q = P\n",
    "    \n",
    "<span style = \"float:right\">(`⊆` as `∪`)</span>\n",
    "\n",
    "    P ⊆ Q ≡ P ∪ Q = Q"
   ]
  },
  {
   "cell_type": "markdown",
   "metadata": {},
   "source": [
    "The repeated composition `Pⁿ` is `P` composed with itself exactly `n` times. The repetition `P*` is `P` repeated an arbitrary number of times:\n",
    "\n",
    "<span style = \"float:right\">(repeated composition)</span>\n",
    "\n",
    "    P⁰ = Id\n",
    "    Pⁿ = P ◦ Pⁿ⁻¹, n > 0\n",
    "\n",
    "<span style = \"float:right\">(relational repetition)</span>\n",
    "\n",
    "    P* = ⋃ n ≥ 0 • Pⁿ\n",
    "\n",
    "Since `P⁰  = Id` and `P¹ = P`, we have that `P* = Id ⋃ P ⋃ (P ◦ P) ⋃ (P ◦ P ◦ P) ⋃ ...`. In other words, `P*` is the transitive and reflexive closure of `P`."
   ]
  },
  {
   "cell_type": "markdown",
   "metadata": {},
   "source": [
    "Binary relational intersection and union is generalized to intersection and union over an arbitrary number of relations.\n",
    "\n",
    "<span style = \"float:right\">(generalized relational intersection)</span>\n",
    "\n",
    "    x (⋂ d | r • P) y  ≙  (∀ d | r • x P y)\n",
    "    \n",
    "<span style = \"float:right\">(generalized relational union)</span>\n",
    "\n",
    "    x (⋃ d | r • P) y  ≙  (∃ d | r • x P y)\n",
    "    \n",
    "For example,` (⋃ n | n ≥ 0 • Pⁿ) = Id ⋃ P ⋃ (P ◦ P) ⋃ (P ◦ P ◦ P) ⋃ ...` as `P⁰  = Id` and `P¹ = P`."
   ]
  },
  {
   "cell_type": "markdown",
   "metadata": {},
   "source": [
    "<span style = \"float:right\">(distributivity of `◦` over generalized `∪`)</span>\n",
    "\n",
    "    P ◦ (⋃ d | r • Q) =  (⋃ d | r • P ◦ Q)\n",
    "\n",
    "<span style = \"float:right\">(distributivity of `◦` over generalized `∪`)</span>\n",
    "\n",
    "    (⋃ d | r • P) ◦ Q =  (⋃ d | r • P ◦ Q)"
   ]
  },
  {
   "cell_type": "markdown",
   "metadata": {},
   "source": [
    "*Proof of (distributivity of `◦` over generalized `∪`):*"
   ]
  },
  {
   "cell_type": "markdown",
   "metadata": {},
   "source": [
    "        x (P ◦ (⋃ d | r • Q)) z\n",
    "    ≡\n",
    "        ∃ y • x P y ∧ (∃ d | r • y Q z)\n",
    "    ≡\n",
    "        ∃ y • (∃ d | r • x P y ∧ y Q z)\n",
    "    ≡\n",
    "        (∃ d | r • ∃ y • x P y ∧ y Q z)\n",
    "    ≡\n",
    "        (∃ d | r • x (P ◦ Q) z)\n",
    "    ≡\n",
    "        (⋃ d | r • P ◦ Q)"
   ]
  },
  {
   "cell_type": "markdown",
   "metadata": {},
   "source": [
    "The repeated composition `Pⁿ` is `P` composed with itself exactly `n` times. The repetition `P*` is `P` repeated an arbitrary number of times:\n",
    "\n",
    "<span style = \"float:right\">(relational repetition)</span>\n",
    "\n",
    "    P* = ⋂ X | X = P ◦ X ∪ Id • X\n",
    "\n",
    "\n",
    "Since `P⁰  = Id` and `P¹ = P`, we have that `P* = Id ⋃ P ⋃ (P ◦ P) ⋃ (P ◦ P ◦ P) ⋃ ...`. In other words, `P*` is the transitive and reflexive closure of `P`.\n",
    "\n",
    "    while b do S = μ X . X = if b then (S; X)\n",
    "    (b ; S)* ; ¬ b  =  μ X . X = b ; S ; X ⋃ ¬b\n",
    "    (b ; S)* ; ¬ b = (μ X . X = b ; S ; X ⋃ Id) ; ¬b\n",
    "    \n",
    "    S* = (μ X • X = S ; X ⋃ Id)\n",
    "    \n",
    "e.g. Id:  X = Id ; X ⋃ Id  ==  X = X ⋃ Id: any X >= Id satisfies this, take the smallest one\n",
    "e.g. ⊥:  X = ⊥ ; X ⋃ Id  ==  X = ⊥ ⋃ Id  ==  X = Id, so ⊥* = Id\n",
    "e.g. ⊤:  X = ⊤ ; X ⋃ Id  ==  X = ⊤, so ⊤* = ⊤\n",
    "\n",
    "    μ X • p(X)  =  ⋂ X | p(X) • X"
   ]
  },
  {
   "cell_type": "markdown",
   "metadata": {},
   "source": [
    "Relation `P` is *functional* if `P⁻¹ ◦ P ⊆ Id` and *injective* if its inverse is functional, `P ◦ P⁻¹ ⊆ Id`. Relation `P` is *total* if `Id ⊆ P ◦ P⁻¹` and *surjective* if its inverse is total, `Id ⊆ P⁻¹ ◦ P` "
   ]
  },
  {
   "cell_type": "markdown",
   "metadata": {
    "slideshow": {
     "slide_type": "slide"
    },
    "tags": []
   },
   "source": [
    "### A Relational Model of Statements"
   ]
  },
  {
   "cell_type": "markdown",
   "metadata": {},
   "source": [
    "Let us consider consider *fundamental statements* that are of the form:\n",
    "\n",
    "    𝘅 := 𝗘    b̅    skip    stop    S ; T    S ⫿ T    S*    ⫿ d | r • S\n",
    "    \n",
    "where `𝘅` and `𝗘` are equally long lists of variables and expressions, respectively, `b` is a Boolean expression, and `S`, `T` are themselves statements. In `⫿ d | r • S`, variable `d` is bound and may appear in `r`, a Boolean expression, and `S`."
   ]
  },
  {
   "cell_type": "markdown",
   "metadata": {
    "slideshow": {
     "slide_type": "-"
    },
    "tags": []
   },
   "source": [
    "A statement over the state space `X` is modeled as a relation of type `X ↔︎ X`.  For example, if the state space is given program variable `x: 0 .. 2`, the relation `S`  where `x S x' ≡ x < 2 ∧ x' = x + 1` corresponds to a statement that blocks if initially `x = 2` and increments `x` by 1 otherwise."
   ]
  },
  {
   "cell_type": "markdown",
   "metadata": {
    "slideshow": {
     "slide_type": "-"
    },
    "tags": []
   },
   "source": [
    "Commonly, the state space is given by multiple variables, say `x₁, ..., xₙ` . If `xᵢ : Xᵢ`, the state space is the product `X₁× ⋯ × Xₙ` . The assignment statement `xᵢ := E` , where `E` is over `x₁, ..., xₙ`, modifies `xᵢ` and leaves all `xⱼ`, `i ≠ j`, unchanged, thus is equivalent to  `x₁, ...,xᵢ, ..., xₙ :=  x₁, ..., E, ..., xₙ`   and is of type `X₁× ⋯ × Xₙ↔︎ X₁× ⋯ × Xₙ` .  Any assignment to a subset of the variables is considered to be a shorthand for an assignment to all variables. Thus, without loss of generality, we assume that each assignment statement assigns to all variables."
   ]
  },
  {
   "cell_type": "markdown",
   "metadata": {
    "slideshow": {
     "slide_type": "-"
    },
    "tags": []
   },
   "source": [
    "The fundamental statements are defined by:\n",
    "\n",
    "<span style = \"float:right\">(assignment)</span>\n",
    "\n",
    "    𝘅 (𝘅 := 𝗘) 𝘅' ≡ 𝘅' = 𝗘 \n",
    "\n",
    "<span style = \"float:right\">(test)</span>\n",
    "\n",
    "     𝘅 b̅ 𝘅'  ≡   b ∧ 𝘅' = 𝘅\n",
    "\n",
    "<span style = \"float:right\">(empty statement)</span>\n",
    "\n",
    "    skip = Id\n",
    "\n",
    "<span style = \"float:right\">(blocking statement)</span>\n",
    "\n",
    "    stop = ⊥\n",
    "\n",
    "<span style = \"float:right\">(sequential composition)</span>\n",
    "\n",
    "    S ; T = S ◦ T\n",
    "\n",
    "<span style = \"float:right\">(nondeterministic choice)</span>\n",
    "\n",
    "    S ⫿ T = S ∪ T\n",
    "\n",
    "<span style = \"float:right\">(repetition)</span>\n",
    "\n",
    "    S* = S*\n",
    "\n",
    "<span style = \"float:right\">(generalized nondeterministic choice)</span>\n",
    "\n",
    "    ⫿ d | r • S  = ⋃ d | r • S\n"
   ]
  },
  {
   "cell_type": "markdown",
   "metadata": {},
   "source": [
    "The operator `b̅` *lifts* Boolean expression to a *partial identity*, as  `b̅ ⊆ Id`. When the context determines that lifting is necessary, we write simply `b` instead of ` b̅`, e.g. in `b ; P`. "
   ]
  },
  {
   "cell_type": "markdown",
   "metadata": {},
   "source": [
    "The conditional and iteration statements are defined in terms of the fundamental statements:"
   ]
  },
  {
   "cell_type": "markdown",
   "metadata": {},
   "source": [
    "<span style = \"float:right\">(conditional statement)</span>\n",
    "\n",
    "    if b then S else T = (b ; S) ⫿ (¬b ; T)\n",
    "\n",
    "<span style = \"float:right\">(conditional statement)</span>\n",
    "\n",
    "    if b then S = (b ; S) ⫿ ¬b\n",
    "\n",
    "<span style = \"float:right\">(iteration statement)</span>\n",
    "\n",
    "    while b do S = (b ; S)* ; ¬b"
   ]
  },
  {
   "cell_type": "markdown",
   "metadata": {},
   "source": [
    "Some special cases are:\n",
    "\n",
    "        if true then S else T\n",
    "    =\n",
    "        (true ; S) ⫿ (false ; T)\n",
    "    =\n",
    "        (skip ; S) ⫿ (stop ; T)\n",
    "    =\n",
    "        S ⫿ stop\n",
    "    =\n",
    "        S\n",
    "        \n",
    "and\n",
    "\n",
    "        while false do S\n",
    "    =\n",
    "        (false ; S)* ; true\n",
    "    =\n",
    "        (stop ; S)*\n",
    "    =\n",
    "        skip ⫿ (stop ; S ; (stop ; S)*)\n",
    "    =\n",
    "        skip ⫿ stop\n",
    "    =\n",
    "        skip\n",
    "\n",
    "and\n",
    "\n",
    "        while true do skip\n",
    "    =\n",
    "        (true ; S)* ; false\n",
    "    =\n",
    "        (skip ; S)* ; stop\n",
    "    =\n",
    "        stop"
   ]
  },
  {
   "cell_type": "markdown",
   "metadata": {},
   "source": [
    "That is, in `(b ; S) ⫿ (¬b ; T)` statement `S` statement `S` is executed if `b` holds and blocked otherwise and similarly for `T`. The behaviour of the conditional statement is the union of `b ◦ S` and `¬b ◦ S`. The intuition for the definition of `while` comes from expanding `*` in ` (b ◦ S)* ◦ ¬b `:\n",
    "\n",
    "    (Id ⋃  (b ◦ S) ⋃ (b ◦ S ◦ b ◦ S) ⋃ ...)  ◦ ¬b\n",
    "    \n",
    "Since `◦` distributes over `∪` and since `Id ◦ ¬b = ¬b`, this is equal to:\n",
    "\n",
    "      ¬b ⋃ (b ◦ S ◦ ¬b) ⋃ (b ◦ S ◦ b ◦ S ◦ ¬b) ⋃ ...\n",
    "\n",
    "That is, either `¬b`  holds and `S` is not executed, or `b` holds, `S` is executed, and `¬b` holds, or `b` holds, `S` is executed, `b` still holds, `S` is executed again, and `¬b` holds, etc."
   ]
  },
  {
   "cell_type": "markdown",
   "metadata": {},
   "source": [
    "Guarded versions of the conditional and iteration statement can be defined:\n",
    "\n",
    "<span style = \"float:right\">(guarded conditional)</span>\n",
    "\n",
    "    if b → S ⫿  c →T  ≙  (b ; S) ⫿  (c ; T)\n",
    "\n",
    "<span style = \"float:right\">(guarded iteration)</span>\n",
    "\n",
    "    do b → S ⫿  c →T  ≙  (b → S ⫿  c →T)*  ◦ (¬b ∧ ¬c)\n",
    "\n",
    "These generalize to more than two alternatives and specialize to one alternative. Immediate consequences of the definitions are:\n",
    "\n",
    "    if b then S else T  ≙  if b → S ⫿  ¬b →T \n",
    "\n",
    "    while b do S  ≙  do b → S\n",
    "\n",
    "The statement `if b → S` blocks if `b` does not hold, i.e. does not terminate, and executes `S` if `b` holds. As a note, it is also written as `b → S` or `await b then S` and plays a fundamental role in concurrent programs."
   ]
  },
  {
   "cell_type": "markdown",
   "metadata": {},
   "source": [
    "A statement is called *deterministic* if its relation is functional, otherwise *nondeterministic*. A statement is called *total* if its relation is total, otherwise *partial*."
   ]
  },
  {
   "cell_type": "markdown",
   "metadata": {},
   "source": [
    "#### Algebra of Statements"
   ]
  },
  {
   "cell_type": "markdown",
   "metadata": {},
   "source": [
    "Statements with constants `skip`, `stop`, and operators `;`, `⫿`, `*` form a Kleene Algebra. For this, statements form an idempotent semiring under `skip`, `stop`, `;`, `⫿`:\n",
    "\n",
    "<span style = \"float:right\">(associativity of `⫿`)</span>\n",
    "\n",
    "    S ⫿ (T ⫿ U) =  (S ⫿ T) ⫿ U\n",
    "\n",
    "<span style = \"float:right\">(commutativity of `⫿`)</span>\n",
    "\n",
    "    S ⫿ T =  T ⫿ S\n",
    "\n",
    "<span style = \"float:right\">(`⊥` unit of `⫿`)</span>\n",
    "\n",
    "    S ⫿ stop = S\n",
    "\n",
    "<span style = \"float:right\">(associativity of `;`)</span>\n",
    "\n",
    "    S ; (T ; U) =  (S ; T) ; U\n",
    "\n",
    "<span style = \"float:right\">(`skip` unit of `;`)</span>\n",
    "\n",
    "    skip ; S =  S\n",
    "\n",
    "<span style = \"float:right\">(`skip` unit of `;`)</span>\n",
    "\n",
    "    S ; skip = S\n",
    "\n",
    "<span style = \"float:right\">(`stop` zero of `;`)</span>\n",
    "\n",
    "    stop ; S = stop\n",
    "\n",
    "<span style = \"float:right\">(`stop` zero of `;`)</span>\n",
    "\n",
    "    S ; stop = stop\n",
    "\n",
    "<span style = \"float:right\">(distributivity of `;` over `⫿`)</span>\n",
    "\n",
    "    S ; (T ⫿ U) =  (S ; T) ⫿ (S ; U)\n",
    "\n",
    "<span style = \"float:right\">(distributivity of `;` over `⫿`)</span>\n",
    "\n",
    "    (S ⫿ T) ; U =  (S ; U) ⫿ (T ; U)"
   ]
  },
  {
   "cell_type": "markdown",
   "metadata": {},
   "source": [
    "Also, the `*` operator is like the `*` operator on formal languages:\n",
    "\n",
    "<span style = \"float:right\">(unrolling `*`)</span>\n",
    "\n",
    "    S* = skip ⫿ S ; S*\n",
    "\n",
    "<span style = \"float:right\">(unrolling `*`)</span>\n",
    "\n",
    "    S* = skip ⫿ S* ; S\n",
    "    \n",
    "<span style = \"float:right\">(`*` induction)</span>\n",
    "\n",
    "    S ; T ⊆ T  ⇒ S* ; T ⊆ T\n",
    "    \n",
    "<span style = \"float:right\">(`*` induction)</span>\n",
    "\n",
    "    S ; T ⊆ S  ⇒  S ; T* ⊆ S\n",
    "    \n",
    "Here, `S ⊆ T` is defined as `S ∩ T = S` or equivalently `S ∪ T = T`."
   ]
  },
  {
   "cell_type": "markdown",
   "metadata": {},
   "source": [
    "The statements `skip` and `stop` can be expressed through tests; note how `false` and `true` are lifted to relations:\n",
    "\n",
    "<span style = \"float:right\">(`∧` as `;`)</span>\n",
    "\n",
    "    false = stop\n",
    "\n",
    "<span style = \"float:right\">(`∧` as `;`)</span>\n",
    "\n",
    "    true = skip\n",
    "\n",
    "For tests, following additional properties hold:\n",
    "\n",
    "<span style = \"float:right\">(`∧` as `;`)</span>\n",
    "\n",
    "    b ∧ c =  b ; c\n",
    "\n",
    "<span style = \"float:right\">(`∨` as `⫿`)</span>\n",
    "\n",
    "    b ∨ c =  b ⫿ c\n",
    "    \n",
    "As tests are partial identities in the relational model, conjunction of tests is relational composition and disjunction of tests is union."
   ]
  },
  {
   "cell_type": "markdown",
   "metadata": {},
   "source": [
    "#### Possibility and Necessity"
   ]
  },
  {
   "cell_type": "markdown",
   "metadata": {},
   "source": [
    "For predicate `c` and statement `S`, the predicate `〈S〉c` characterizes all initial states (*precondition*) from which `S`  upon termination may lead to a state satisfying `c` (*postcondition*). The predicate `［S］ c` characterizes all initial states (*precondition*) from which `S` upon termination will definitely lead to a state satisfying `c` (*postcondition*):\n",
    "\n",
    "<span style = \"float:right\">(possibility)</span>\n",
    "\n",
    "    〈S〉c  ≙  ∃ 𝘅' • 𝘅 S 𝘅' ∧ c[𝘅 \\ 𝘅']\n",
    "\n",
    "<span style = \"float:right\">(necessity)</span>\n",
    "\n",
    "    ［S］c  ≙  ∀ 𝘅' • 𝘅 S 𝘅' ⇒ c[𝘅 \\ 𝘅']\n",
    "\n",
    "These are pronounced \"diamond `S c`\" and \"box `S c`\". The two operators are duals of each other:\n",
    "\n",
    "<span style = \"float:right\">(［］dual of 〈〉)</span>\n",
    "\n",
    "    ［S］c ≡ ¬〈S〉¬c\n",
    "\n",
    "<span style = \"float:right\">(〈〉dual of ［］)</span>\n",
    "\n",
    "    〈S〉c ≡ ¬［S］¬c"
   ]
  },
  {
   "cell_type": "markdown",
   "metadata": {},
   "source": [
    "    〈S ; T〉c  ≙〈S〉(〈T〉c)\n",
    "    ［S ; T］c  ≙［S］(［T］c)"
   ]
  },
  {
   "cell_type": "markdown",
   "metadata": {},
   "source": [
    "The basic properties of `〈〉` are:\n",
    "\n",
    "<span style = \"float:right\">(`〈〉` sub-conjunctive)</span>\n",
    "\n",
    "    〈S〉(c ∧ d)  ⇒  (〈S〉c) ∧ (〈S〉d)\n",
    "\n",
    "<span style = \"float:right\">(`〈〉` disjunctive)</span>\n",
    "\n",
    "    〈S〉(c ∨ d)  ≡  (〈S〉c) ∨ (〈S〉d)\n",
    "\n",
    "<span style = \"float:right\">(`〈〉` of `false`)</span>\n",
    "\n",
    "    〈S〉false  ≡  false"
   ]
  },
  {
   "cell_type": "markdown",
   "metadata": {},
   "source": [
    "The basic properties of `［］` are:\n",
    "\n",
    "<span style = \"float:right\">(`［］` conjunctive)</span>\n",
    "\n",
    "    ［S］(b ∧ c)  ≡  (［S］b) ∧ (［S］c)\n",
    "\n",
    "<span style = \"float:right\">(`［］` sub-disjunctive)</span>\n",
    "\n",
    "    ［S］ (b ∨ c)  ⇐  (［S］b) ∨ (［S］c)\n",
    "\n",
    "<span style = \"float:right\">(`［］` of `true`)</span>\n",
    "\n",
    "    ［S］true  ≡  true"
   ]
  },
  {
   "cell_type": "markdown",
   "metadata": {
    "tags": []
   },
   "source": [
    "*Proof of (［］ conjunctive):*"
   ]
  },
  {
   "cell_type": "markdown",
   "metadata": {
    "jupyter": {
     "source_hidden": true
    },
    "tags": []
   },
   "source": [
    "        ［S］(b ∧ c)\n",
    "    ≡    definition of wp\n",
    "        ∀ x' · 𝘅 S 𝘅' ⇒ (b ∧ c)[𝘅 \\ 𝘅']\n",
    "    ≡    substitution, logic\n",
    "        (∀ x' · 𝘅 S 𝘅' ⇒ b[𝘅 \\ 𝘅']) ∧ (∀ x' · 𝘅 S 𝘅' ⇒ c[𝘅 \\ 𝘅'])\n",
    "    ≡    definition of wp, twice\n",
    "        (［S］b) ∧ (［S］c)\n",
    "\n",
    "<span style = \"float:right\">∎</span>"
   ]
  },
  {
   "cell_type": "markdown",
   "metadata": {
    "tags": []
   },
   "source": [
    "*Proof of (［］ universally conjunctive):*"
   ]
  },
  {
   "cell_type": "markdown",
   "metadata": {
    "jupyter": {
     "source_hidden": true
    },
    "tags": []
   },
   "source": [
    "        ［S］(∀ i · b)\n",
    "    ≡    definition of wp\n",
    "        ∀ x' · 𝘅 S 𝘅' ⇒ (∀ i · b)[𝘅 \\ 𝘅']\n",
    "    ≡    substitution, logic\n",
    "        ∀ i · (∀ x' · 𝘅 S 𝘅' ⇒ b[𝘅 \\ 𝘅'])\n",
    "    ≡    definition of wp, twice\n",
    "        ∀ i · ［S］b\n",
    "\n",
    "<span style = \"float:right\">∎</span>"
   ]
  },
  {
   "cell_type": "markdown",
   "metadata": {
    "tags": []
   },
   "source": [
    "*Proof of (［］ sub-disjunctive):*"
   ]
  },
  {
   "cell_type": "markdown",
   "metadata": {
    "tags": []
   },
   "source": [
    "        ［S］(b ∨ c)\n",
    "    ≡    definition of wp\n",
    "        ∀ x' · 𝘅 S 𝘅' ⇒ (b ∨  c)[𝘅 \\ 𝘅']\n",
    "    ≡    substitution, logic\n",
    "        ∀ x' · (𝘅 S 𝘅' ⇒ b[𝘅 \\ 𝘅']) ∨ (𝘅 S 𝘅' ⇒ c[𝘅 \\ 𝘅'])\n",
    "    ⇐    logic\n",
    "        (∀ x' · 𝘅 S 𝘅' ⇒ b[𝘅 \\ 𝘅']) ∨ (∀ x' · 𝘅 S 𝘅' ⇒ c[𝘅 \\ 𝘅'])\n",
    "    ≡    definition of wp, twice\n",
    "         (［S］b) ∨ (［S］c)\n",
    "\n",
    "<span style = \"float:right\">∎</span>"
   ]
  },
  {
   "cell_type": "markdown",
   "metadata": {
    "tags": []
   },
   "source": [
    "Both` 〈〉`  and `［］`  are monotonic, i.e. a stronger (weaker) postcondition leads to a stronger (weaker) precondition:\n",
    "\n",
    "    (c ⇒ d)  ⇒  (〈S〉c) ⇒ (〈S〉d)\n",
    "\n",
    "    (c ⇒ d)  ⇒  (［S］c) ⇒ (［S］d)\n"
   ]
  },
  {
   "cell_type": "markdown",
   "metadata": {},
   "source": [
    "The predicate `［S］c`  is the _weakest precondition_ for `S` to establish postcondition `c` upon termination. The *correctness assertion* (Hoare-triple) `｛b｝S｛c｝` states that under precondition `b`, statement `S` will establish postcondition `c` upon termination. That is, `b` is stronger than the weakest  precondition for `S` to establish `c`:\n",
    "\n",
    "<span style = \"float:right\">(correctness assertion)</span>\n",
    "\n",
    "    ｛b｝S｛c｝ ≡   b ⇒［S］c"
   ]
  },
  {
   "cell_type": "markdown",
   "metadata": {},
   "source": [
    "For 〈〉 of fundamental statements we have:\n",
    "\n",
    "<span style = \"float:right\">(`〈〉` of `:=`)</span>\n",
    "\n",
    "    〈𝘅 := 𝗘〉c  ≡  c[𝘅 \\ 𝗘]\n",
    "\n",
    "<span style = \"float:right\">(`〈〉` of `skip`)</span>\n",
    "\n",
    "    〈skip〉c  ≡  c\n",
    "\n",
    "<span style = \"float:right\">(`〈〉` of `stop`)</span>\n",
    "\n",
    "    〈stop〉c  ≡  false\n",
    "\n",
    "<span style = \"float:right\">(`〈〉` of test)</span>\n",
    "\n",
    "    〈b〉c  ≡  b ∧ c\n",
    "\n",
    "<span style = \"float:right\">(`〈〉` of `;`)</span>\n",
    "\n",
    "    〈S ; T〉c  ≡ 〈S〉(〈T〉c)\n",
    "\n",
    "<span style = \"float:right\">(`〈〉` of `⫿`)</span>\n",
    "\n",
    "    〈S ⫿ T〉c  ≡ (〈S〉c) ∨ (〈T〉c)\n",
    "\n",
    "<span style = \"float:right\">(`〈〉` of `⫿`)</span>\n",
    "\n",
    "    〈⫿ d | r • S〉c  ≡ (∃ d | r •〈S〉c)\n",
    "\n",
    "<span style = \"float:right\">(`〈〉` of `*`)</span>\n",
    "\n",
    "      (c ⇒〈S〉c)  ⇒  (c ⇒〈S*〉c)"
   ]
  },
  {
   "cell_type": "markdown",
   "metadata": {},
   "source": [
    "*Proof of (`〈〉` of `:=`).*\n",
    "\n",
    "        〈𝘅 := 𝗘〉c\n",
    "    ≡    definition of 〈〉\n",
    "         ∃ 𝘅' • 𝘅' = 𝗘 ∧ c[𝘅 \\ 𝘅']\n",
    "    ≡    logic\n",
    "        c[𝘅 \\ 𝗘]\n",
    "\n",
    "*Proof of (`〈〉` of `skip`).*\n",
    "\n",
    "        〈skip〉c\n",
    "    ≡    definition of 〈〉\n",
    "         ∃ 𝘅' · 𝘅' = x ∧ c[𝘅 \\ 𝘅']\n",
    "    ≡    logic\n",
    "        c\n",
    "\n",
    "*Proof of (`〈〉` of `stop`).*\n",
    "\n",
    "        〈stop〉c\n",
    "    ≡    definition of 〈〉\n",
    "         ∃ 𝘅' · false ∧ c[𝘅 \\ 𝘅']\n",
    "    ≡    logic\n",
    "        false\n",
    "\n",
    "*Proof of (`〈〉` of test).*\n",
    "\n",
    "        〈b〉c\n",
    "    ≡    definition of 〈〉\n",
    "         ∃ 𝘅' · b ∧ 𝘅' = 𝘅 ∧ c[𝘅 \\ 𝘅']\n",
    "    ≡    logic\n",
    "        b ∧ c\n",
    "\n",
    "*Proof of (`〈〉` of `;`).*\n",
    "\n",
    "        〈S ; T〉c\n",
    "    ≡    definition of 〈〉\n",
    "         ∃ 𝘅' · 𝘅 (S ; T) 𝘅' ∧ c[𝘅 \\ 𝘅']\n",
    "    ≡    definition of ;\n",
    "         ∃ 𝘅' · (∃ 𝘅'' · 𝘅 S 𝘅'' ∧ 𝘅'' T 𝘅') ∧ c[𝘅 \\ 𝘅']\n",
    "    ≡    logic\n",
    "        ∃ 𝘅'' · 𝘅 S 𝘅'' ∧ ( ∃ 𝘅' · 𝘅 T 𝘅' ∧ c[𝘅 \\ 𝘅'])[𝘅 \\ 𝘅'']\n",
    "    ≡    definition of 〈〉\n",
    "        ∃ 𝘅'' · 𝘅 S 𝘅'' ∧ (〈T〉c)[𝘅 \\ 𝘅'']\n",
    "    ≡    definition of 〈〉\n",
    "        〈S〉(〈T〉c)\n",
    "\n",
    "〈S〉c  ≙  ∃ 𝘅' · 𝘅 S 𝘅' ∧ c[𝘅 \\ 𝘅']\n",
    "\n",
    "*Proof of (`〈〉` of `⫿`).*\n",
    "\n",
    "        〈S ⫿ T〉c\n",
    "    ≡    definition of 〈〉\n",
    "         ∃ 𝘅' · (𝘅 S 𝘅' ∨ 𝘅 T 𝘅') ∧ c[𝘅 \\ 𝘅']\n",
    "    ≡    logic\n",
    "        (∃ 𝘅' · 𝘅 S 𝘅' ∧ c[𝘅 \\ 𝘅']) ∨ (∃ 𝘅' · 𝘅 S 𝘅' ∧ c[𝘅 \\ 𝘅'])\n",
    "    ≡    definition of 〈〉\n",
    "        (〈S〉c) ∨ (〈T〉c)\n",
    "\n",
    "     ≡\n",
    "\n",
    "*Proof of (`〈〉` of `⫿`).*\n",
    "\n",
    "        〈⫿ d | r • S〉c \n",
    "    ≡    definitions of 〈〉, ⫿\n",
    "         ∃ 𝘅' · 𝘅 (⋃ d | r • S) 𝘅' ∧ c[𝘅 \\ 𝘅']\n",
    "    ≡    property of ⋃\n",
    "         ∃ 𝘅' · (∃ d | r • 𝘅 S 𝘅') ∧ c[𝘅 \\ 𝘅']\n",
    "    ≡    logic\n",
    "         (∃ d | r • ∃ 𝘅' · 𝘅 S 𝘅' ∧ c[𝘅 \\ 𝘅'])\n",
    "    ≡    definition of 〈〉\n",
    "         (∃ d | r •〈S〉c)\n",
    "\n",
    "    P* = ⋂ X | X = P ◦ X ∪ Id • X\n",
    "\n",
    "*Proof of (`〈〉` of `*`).* \n",
    "\n",
    "    (c ⇒〈S〉c)  ⇒  (c ⇒〈S*〉c)\n",
    "\n",
    "    b ⇒〈S〉c)  ==  b; S ⊆  (~b; TT) [] (T ; c)\n",
    "    S* = (μ X • X = S ; X ⋃ Id)\n",
    "    \n",
    "    c; S ⊆ T ; c ⇒  c ;  (μ X • X = S ; X ⋃ Id) ⊆ ⊤ ; c\n",
    "    \n",
    "Fixpoint induction: f X ⊆ X ⇒ μ f ⊆ X\n",
    "\n",
    "    f X = S ; X ⋃ Id\n",
    "\n",
    "        μ f ⊆ ⊤ ; c\n",
    "    ⇐\n",
    "        f (⊤ ; c) ⊆ ⊤ ; c\n",
    "    ≡\n",
    "        S ; ⊤ ; c ⋃ Id ⊆ ⊤ ; c\n",
    "        assumption S ⊆ ⊤ ; c\n",
    "        \n",
    "    S* =  (⋂ X | X = S ◦ X ∪ Id • X)\n",
    "\n",
    "Suppose for all X with X = S ◦ X ∪ Id,  (c ⇒〈X〉c)\n",
    "\n",
    "      \n",
    "        (c ⇒〈S〉c) ∧ c\n",
    "    ≡\n",
    "        (〈S〉c) ∧ c\n",
    "    ≡\n",
    "        (∃ 𝘅' · 𝘅 S 𝘅' ∧ c[𝘅 \\ 𝘅']) ∧ c\n",
    "    ≡\n",
    "        ∃ 𝘅' · 𝘅 (⋂ X | X = S ◦ X ∪ Id • X) 𝘅' ∧ c[𝘅 \\ 𝘅']"
   ]
  },
  {
   "cell_type": "markdown",
   "metadata": {},
   "source": [
    "For ［］ of fundamental statements we have:"
   ]
  },
  {
   "cell_type": "markdown",
   "metadata": {},
   "source": [
    "\n",
    "<span style = \"float:right\">(`［］` of `:=`)</span>\n",
    "\n",
    "    ［𝘅 := 𝗘］c  ≡  c[𝘅 \\ 𝗘]\n",
    "\n",
    "<span style = \"float:right\">(`［］` of `skip`)</span>\n",
    "\n",
    "    ［skip］c  ≡  c\n",
    "\n",
    "<span style = \"float:right\">(`［］` of `stop`)</span>\n",
    "\n",
    "    ［stop］c  ≡  true\n",
    "\n",
    "<span style = \"float:right\">(`［］` of test)</span>\n",
    "\n",
    "    ［b］c  ≡  b ⇒ c\n",
    "\n",
    "<span style = \"float:right\">(`［］` of `;`)</span>\n",
    "\n",
    "    ［S ; T］c  ≡ ［S］(［T］c)\n",
    "\n",
    "<span style = \"float:right\">(`［］` of` `⫿)</span>\n",
    "\n",
    "    ［S ⫿ T］c  ≡ (［S］c) ∧ (［T］c)\n",
    "\n",
    "<span style = \"float:right\">(`［］` of `*`)</span>\n",
    "\n",
    "      (c ⇒［S］c)  ⇒  (c ⇒［S*］c)"
   ]
  },
  {
   "cell_type": "markdown",
   "metadata": {},
   "source": [
    "Note that no closed form for `［S*］c` exists. We say that statement `S` *preserves* `c` if `c ⇒［S］c`. The `(`［］` of `*`)` rule states that if `S` preserves `c`, then `S*` preserves `c`. "
   ]
  },
  {
   "cell_type": "markdown",
   "metadata": {
    "tags": []
   },
   "source": [
    "*Proof of (`［］` of `:=`)*."
   ]
  },
  {
   "cell_type": "markdown",
   "metadata": {
    "tags": []
   },
   "source": [
    "        ［𝘅 := 𝗘］c\n",
    "    ≡    definition of ［］\n",
    "        ∀ 𝘅' · 𝘅 (𝘅 := 𝗘) 𝘅' ⇒ c[𝘅 \\ 𝘅']\n",
    "    ≡    definition of :=\n",
    "        ∀ 𝘅' · 𝘅' = 𝗘 ⇒ c[𝘅 \\ 𝘅']\n",
    "    ≡    logic\n",
    "        c[𝘅 \\ 𝘅'][𝘅' \\ 𝗘]\n",
    "    ≡    substitution\n",
    "        c[𝘅 \\ 𝗘]"
   ]
  },
  {
   "cell_type": "markdown",
   "metadata": {
    "jupyter": {
     "source_hidden": true
    },
    "tags": []
   },
   "source": [
    "*Proof of (`［］` of `skip`).*\n",
    "\n",
    "        ［skip］b\n",
    "    ≡    definition of wp\n",
    "        ∀ 𝘅' · 𝘅 skip 𝘅' ⇒ c[𝘅 \\ 𝘅']\n",
    "    ≡    definition of skip\n",
    "        ∀ 𝘅' · 𝘅' = 𝘅 ⇒ c[𝘅 \\ 𝘅']\n",
    "    ≡    logic\n",
    "        c[𝘅 \\ 𝘅'][𝘅' \\ 𝘅]\n",
    "    ≡    substitution\n",
    "        c"
   ]
  },
  {
   "cell_type": "markdown",
   "metadata": {
    "jupyter": {
     "source_hidden": true
    },
    "tags": []
   },
   "source": [
    "*Proof of (`［］` of `stop`).*\n",
    "\n",
    "        ［stop］c  ≡  true\n",
    "    ≡    definition of wp\n",
    "        ∀ 𝘅' · 𝘅 stop 𝘅' ⇒ c[𝘅 \\ 𝘅']\n",
    "    ≡    definition of stop, ⊥\n",
    "        ∀ 𝘅' · false ⇒ c[𝘅 \\ 𝘅']\n",
    "    ≡    logic \n",
    "        true"
   ]
  },
  {
   "cell_type": "markdown",
   "metadata": {
    "tags": []
   },
   "source": [
    "*Proof of (`［］` of `;`).*"
   ]
  },
  {
   "cell_type": "markdown",
   "metadata": {
    "tags": []
   },
   "source": [
    "        ［S ; T］c  ≡ \n",
    "    ≡    definition of wp\n",
    "        ∀ 𝘅' · 𝘅 (S ; T) 𝘅' ⇒ c[𝘅 \\ 𝘅']\n",
    "    ≡    definition of ; and ◦\n",
    "        ∀ 𝘅' · (∃ x'' · x S x'' ∧ x'' T 𝘅') ⇒ c[𝘅 \\ 𝘅']\n",
    "    ≡    logic\n",
    "        ∀ 𝘅', x'' · x S x'' ∧ x'' T 𝘅' ⇒ c[𝘅 \\ 𝘅']\n",
    "    ≡    logic\n",
    "        ∀ x'' · 𝘅 S 𝘅'' ⇒ (∀ x' · 𝘅'' T 𝘅' ⇒ c[𝘅 \\ 𝘅'])\n",
    "    ≡    renaming\n",
    "        ∀ x'' · 𝘅 S 𝘅'' ⇒ (∀ x' · 𝘅 T 𝘅' ⇒ c[𝘅 \\ 𝘅'])[𝘅 \\ 𝘅'']\n",
    "    ≡    definition of wp, twice\n",
    "        ［S］(［T］c)"
   ]
  },
  {
   "cell_type": "markdown",
   "metadata": {
    "tags": []
   },
   "source": [
    "*Proof of (`［］` of` `⫿).*"
   ]
  },
  {
   "cell_type": "markdown",
   "metadata": {
    "jupyter": {
     "source_hidden": true
    },
    "tags": []
   },
   "source": [
    "        ［S ⫿ T］c  ≡ (［S］c) ∧ (［T］c)\n",
    "    ≡    definition of wp\n",
    "        ∀ 𝘅' · 𝘅 (S ⫿ T) 𝘅' ⇒ c[𝘅 \\ 𝘅']\n",
    "    ≡    definition of ⫿ and ⋃\n",
    "        ∀ 𝘅' · 𝘅 S 𝘅' ∨ 𝘅 T 𝘅' ⇒ c[𝘅 \\ 𝘅']\n",
    "    ≡    logic\n",
    "        (∀ 𝘅' · 𝘅 S 𝘅' ⇒ c[𝘅 \\ 𝘅']) ∧ (∀ 𝘅' · 𝘅 T 𝘅' ⇒ c[𝘅 \\ 𝘅'])\n",
    "    ≡    definition of wp\n",
    "        (［S］c) ∧ (［T］c)"
   ]
  },
  {
   "cell_type": "markdown",
   "metadata": {
    "tags": []
   },
   "source": [
    "*Proof of (`［］` of `*`).*"
   ]
  },
  {
   "cell_type": "markdown",
   "metadata": {
    "jupyter": {
     "source_hidden": true
    },
    "tags": []
   },
   "source": [
    "First, the lemma, ` (c ⇒［S］c) ⇒ (∀ n ≥ 0 • c ⇒［Sⁿ］c)` is shown to hold by induction: For `n = 0`, we have `c ⇒［Sⁿ］c = [skip] c = c`.  Assuming ` (∀ n ≥ 0 • c ⇒［Sⁿ］c)`, we show that `(∀ n ≥ 0 • c ⇒［Sⁿ+1］c)` holds: `［Sⁿ+1］c = ［Sⁿ ; S］c\n",
    "\n",
    "        c ⇒［S*］c\n",
    "    ≡    definition of wp\n",
    "        c ⇒ (∀ 𝘅' · 𝘅 (S*) 𝘅' ⇒ c[𝘅 \\ 𝘅'])\n",
    "    ≡    definition of *\n",
    "        c ⇒ (∀ 𝘅' · 𝘅 (⋃ n ≥ 0 • Sⁿ) 𝘅' ⇒ c[𝘅 \\ 𝘅'])\n",
    "    ≡    definition of ⋃\n",
    "        c ⇒ (∀ 𝘅' · (∃ n ≥ 0 • 𝘅 Sⁿ 𝘅') ⇒ c[𝘅 \\ 𝘅'])\n",
    "    ≡    logic\n",
    "        c ⇒ (∀ 𝘅', n ≥ 0 • 𝘅 Sⁿ 𝘅' ⇒ c[𝘅 \\ 𝘅'])\n",
    "    ≡    definition of wp\n",
    "        c ⇒ (∀ n ≥ 0 • c ⇒［Sⁿ］c)\n",
    "    ⇐    lemma\n",
    "        c ⇒［S］c\n",
    "\n",
    "<span style = \"float:right\">∎</span>"
   ]
  },
  {
   "cell_type": "markdown",
   "metadata": {},
   "source": []
  },
  {
   "cell_type": "markdown",
   "metadata": {},
   "source": [
    "Properties of correctness assertions"
   ]
  },
  {
   "cell_type": "markdown",
   "metadata": {},
   "source": [
    "#### Variables"
   ]
  },
  {
   "cell_type": "markdown",
   "metadata": {},
   "source": [
    "Possibility and Necessity of variable declarations, type of local block, embedding of statements"
   ]
  },
  {
   "cell_type": "markdown",
   "metadata": {},
   "source": [
    "#### Procedures"
   ]
  },
  {
   "cell_type": "markdown",
   "metadata": {},
   "source": [
    "A procedure `p` with *parameters* `v : V`, *results* `r: R`, *body* `S`, and *scope* `T` is declared as:\n",
    "\n",
    "    procedure p(v: V) → (r: R)\n",
    "        S\n",
    "    in\n",
    "        T\n",
    "        \n",
    "The state space of the body is `V ⨯ R`, that is `S : V ⨯ R ↔︎ V ⨯ R`, and `v`, `r` must be disjoint. Within the scope `T`, procedure `p` is called by\n",
    "\n",
    "    x ← p(E)\n",
    "    \n",
    "where `x : R` and `E: V`. The call is defined by\n",
    "\n",
    "    x ← p(E)  ≙  var v, r: V, R · v := E ; S ; x := r\n",
    "    \n",
    "provided "
   ]
  },
  {
   "cell_type": "markdown",
   "metadata": {},
   "source": [
    "        procedure square(i: integer)→ (r: integer)\n",
    "            r := i × i\n",
    "        in\n",
    "            x"
   ]
  },
  {
   "cell_type": "markdown",
   "metadata": {
    "tags": []
   },
   "source": [
    "#### Verification Conditions for Correctness"
   ]
  },
  {
   "cell_type": "markdown",
   "metadata": {},
   "source": [
    "Annotated program:\n",
    "\n",
    "Given an annotated program, what are the conditions for correctness?\n",
    "\n",
    "     ［S］(c ∧ d) = (［S］c) ∧ d  if "
   ]
  },
  {
   "cell_type": "markdown",
   "metadata": {
    "tags": []
   },
   "source": [
    "#### Algorithmic Refinement"
   ]
  },
  {
   "cell_type": "markdown",
   "metadata": {},
   "source": []
  },
  {
   "cell_type": "markdown",
   "metadata": {},
   "source": [
    "#### Data Refinement"
   ]
  },
  {
   "cell_type": "code",
   "execution_count": null,
   "metadata": {},
   "outputs": [],
   "source": []
  },
  {
   "cell_type": "markdown",
   "metadata": {},
   "source": [
    "#### Chapter Notes"
   ]
  },
  {
   "cell_type": "markdown",
   "metadata": {},
   "source": [
    " The weakest precondition  is sometimes called the *weakest liberal precondition*, `wlp(S, c)` and distinguished from a weakest "
   ]
  },
  {
   "cell_type": "markdown",
   "metadata": {},
   "source": [
    "#### Exercises."
   ]
  },
  {
   "cell_type": "markdown",
   "metadata": {},
   "source": [
    "Exercise. Define `havoc = ⊤`. What is `［havoc］c`?\n",
    "\n",
    "        ［havoc］c\n",
    "    ≡    «definition of ［ ］»\n",
    "        ∀ 𝘅' · 𝘅 havoc 𝘅' ⇒ c[𝘅 \\ 𝘅']\n",
    "    ≡    definitions of havoc, ⊤\n",
    "        ∀ 𝘅' · true ⇒ c[𝘅 \\ 𝘅']\n",
    "    ≡    logic\n",
    "        ∀ 𝘅 · c"
   ]
  },
  {
   "cell_type": "markdown",
   "metadata": {
    "slideshow": {
     "slide_type": "slide"
    }
   },
   "source": [
    "The _assignment_ evaluates an expression and assigns the result to a variable. Suppose `x` is a variable and `E` an expressions: \n",
    "\n",
    "<div style=\"float:left;border-left:2em solid white\">\n",
    "\n",
    "```algorithm\n",
    "x := E\n",
    "```\n",
    "\n",
    "</div>\n",
    "<img style=\"float:left;border-left:6em solid white\" src=\"./img/Assignment.svg\"/>"
   ]
  }
 ],
 "metadata": {
  "kernelspec": {
   "display_name": "Python 3 (ipykernel)",
   "language": "python",
   "name": "python3"
  },
  "language_info": {
   "codemirror_mode": {
    "name": "ipython",
    "version": 3
   },
   "file_extension": ".py",
   "mimetype": "text/x-python",
   "name": "python",
   "nbconvert_exporter": "python",
   "pygments_lexer": "ipython3",
   "version": "3.11.1"
  },
  "livereveal": {
   "history": true,
   "margin": "0.01",
   "progress": true,
   "scroll": true,
   "start_slideshow_at": "selected"
  },
  "rise": {
   "enable_chalkboard": true
  },
  "toc": {
   "base_numbering": 1,
   "nav_menu": {},
   "number_sections": false,
   "sideBar": false,
   "skip_h1_title": true,
   "title_cell": "Table of Contents",
   "title_sidebar": "Contents",
   "toc_cell": false,
   "toc_position": {},
   "toc_section_display": true,
   "toc_window_display": false
  },
  "toc-autonumbering": false
 },
 "nbformat": 4,
 "nbformat_minor": 4
}
