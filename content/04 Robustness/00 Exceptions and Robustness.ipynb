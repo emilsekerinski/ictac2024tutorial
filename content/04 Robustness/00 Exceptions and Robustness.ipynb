{
 "cells": [
  {
   "cell_type": "markdown",
   "metadata": {
    "slideshow": {
     "slide_type": "slide"
    }
   },
   "source": [
    "<div style=\"float:right;border-left:1em solid transparent\">\n",
    "    <i>Notebooks on Programming</i>\n",
    "</div>\n",
    "\n",
    "---\n",
    "# Exceptions and Robustness - Draft\n",
    "**[Emil Sekerinski](http://www.cas.mcmaster.ca/~emil), McMaster University, November 2024**\n",
    "\n",
    "---\n",
    "\n",
    "<figure style=\"float:right\" >\n",
    "    <img style=\"width:9.5em\" src=\"./img/by-nc-nd.png\"/>\n",
    "    <figcaption style=\"width:13em;font-size:80%\"><a href=\"https://creativecommons.org/licenses/by-nc-nd/4.0/\">Licensed under Creative Commons CC BY-NC-ND</a>\n",
    "    </figcaption>\n",
    "</figure>"
   ]
  },
  {
   "cell_type": "markdown",
   "metadata": {
    "slideshow": {
     "slide_type": "slide"
    }
   },
   "source": [
    "## Why Programs Fail"
   ]
  },
  {
   "cell_type": "markdown",
   "metadata": {
    "slideshow": {
     "slide_type": "slide"
    }
   },
   "source": [
    "The specification may be faulty:\n",
    "- It is incomplete or inconsistent\n",
    "- It does not capture the user's intent\n",
    "\n",
    "The program design may be faulty:\n",
    "- It has a logical error, like a forgotten case or synchronization error\n",
    "- The is based on idealized hypotheses, e.g. about integer range, available memory, processing speed\n",
    "- The program makes incorrect assumptions about other components\n",
    "\n",
    "The underlying machine may be faulty:\n",
    "- The compilation is faulty\n",
    "- The run-time system or library is faulty\n",
    "- The hardware fails"
   ]
  },
  {
   "cell_type": "markdown",
   "metadata": {
    "slideshow": {
     "slide_type": "slide"
    }
   },
   "source": [
    "## Failure, Faults, and Errors"
   ]
  },
  {
   "cell_type": "markdown",
   "metadata": {
    "slideshow": {
     "slide_type": "slide"
    }
   },
   "source": [
    "<img style=\"float:right;border-left:6em solid transparent\" src=\"./img/Dependability.svg\"/>\n",
    "\n",
    "A _failure_ is an event that causes a deviation of the program (or system in general) from its specification. The deviation itself is the _error_. The cause of the error is the _fault_ (e.g. an index computation is off by one). However, a fault does not necessarily cause an error (e.g. if a faulty procedure is never called). Errors may or may not be observable by a user and may or may not lead to a failure. If the specification allows it, a failure may lead to a _degraded mode_ in which the specification is only partially fulfilled; this is then a _partial failure_.\n",
    "\n",
    "According to the taxonomy by [Avizienis, Laprie, Randell, Landwehr](https://doi.org/10.1109/TDSC.2004.2):\n",
    "- _availability:_ readiness for correct service\n",
    "- _reliability:_ continuity of correct service\n",
    "- _safety:_ absence of catastrophic consequences on the users and the environment\n",
    "- _integrity:_ absence of improper system alterations\n",
    "- _maintainability:_ ability to undergo modifications and repairs"
   ]
  },
  {
   "cell_type": "markdown",
   "metadata": {
    "slideshow": {
     "slide_type": "slide"
    }
   },
   "source": [
    "## Detecting Failures"
   ]
  },
  {
   "cell_type": "markdown",
   "metadata": {
    "slideshow": {
     "slide_type": "slide"
    }
   },
   "source": [
    "Some errors are commonly detected by the underlying machine and are indicative of a failure:\n",
    "- Indexing an array out of bounds\n",
    "- Allocating memory when none is available\n",
    "- Reading a file beyond its end\n",
    "\n",
    "Some failures can be detected by _instrumenting_ programs, e.g. in Eiffel:\n",
    "\n",
    "```Eiffel\n",
    "class STACK\n",
    "    capacity: INTEGER\n",
    "    count: INTEGER\n",
    "invariant\n",
    "    count <= capacity\n",
    "push is ...\n",
    "```\n",
    "\n",
    "Some failures are either impractical or impossible to detect:\n",
    "- Only a single pointer to an object exists.\n",
    "- The precondition and invariant of binary search are valid.\n",
    "- A program terminates."
   ]
  },
  {
   "cell_type": "markdown",
   "metadata": {
    "slideshow": {
     "slide_type": "slide"
    }
   },
   "source": [
    "## Responding to Detected Failures"
   ]
  },
  {
   "cell_type": "markdown",
   "metadata": {
    "slideshow": {
     "slide_type": "slide"
    }
   },
   "source": [
    "Even with the best efforts to prevent failures, the _possibility of a failure in a complex system remains_. We need a systematic approach to dealing with failures. Consider the statement\n",
    "\n",
    "```\n",
    "S1 ; S2 ; S3 ; S4\n",
    "```\n",
    "\n",
    "where `S1`, `S3` may detect a failure; in that case, `T` should be executed instead. One approach is to test if an expected error explicitly _a priori_ or an observed error _a posteriori:_\n",
    "\n",
    "<div style=\"display:table\">\n",
    "  <div style = \"display:table-cell;border-left:2em solid transparent; vertical-align:top\">\n",
    "\n",
    "```algorithm\n",
    "if S1 possible then\n",
    "    S1 ; S2\n",
    "    if S3 possible then\n",
    "        S3 ; S4\n",
    "    else T\n",
    "else T\n",
    "```\n",
    "\n",
    "  </div>\n",
    "  <div style = \"display:table-cell; border-left:6em solid transparent; vertical-align:top\">\n",
    "\n",
    "```algorithm\n",
    "S1\n",
    "if S1 successful then\n",
    "    S2 ; S3\n",
    "    if S3 successful then\n",
    "        S4\n",
    "    else T\n",
    "else T\n",
    "```\n",
    "\n",
    "  </div>\n",
    "</div>"
   ]
  },
  {
   "cell_type": "markdown",
   "metadata": {
    "slideshow": {
     "slide_type": "slide"
    }
   },
   "source": [
    "A posteriori detection is [common under C and Unix](http://man7.org/linux/man-pages/man3/errno.3.html). The alternative is a dedicated control structure for _exception handling:_\n",
    "\n",
    "```algorithm\n",
    "try\n",
    "    S1 ; S2 ; S3 ; S4\n",
    "catch\n",
    "    T\n",
    "```"
   ]
  },
  {
   "cell_type": "markdown",
   "metadata": {
    "slideshow": {
     "slide_type": "subslide"
    }
   },
   "source": [
    "With proper exception handling, no additional variables and control structures are interspersed; the original program structure remains visible:\n",
    "\n",
    "<div style=\"display:table\">\n",
    "  <div style = \"display:table-cell;vertical-align:top\">\n",
    "\n",
    "```C++\n",
    "f = fopen(filename, \"r\");\n",
    "if (f == NULL) {\n",
    "    ... treat error\n",
    "} else {\n",
    "    ... read file, checking for failure\n",
    "    fclose(f);\n",
    "}\n",
    "```\n",
    "\n",
    "  </div>\n",
    "  <div style = \"display:table-cell; border-left:100px solid white; vertical-align:top\">\n",
    "\n",
    "```C++\n",
    "try {\n",
    "    f = fopen(filename, \"r\");\n",
    "    ... read file, possibly failing\n",
    "    fclose(f);\n",
    "} catch {\n",
    "    ... treat error\n",
    "}\n",
    "```\n",
    "\n",
    "  </div>\n",
    "</div>"
   ]
  },
  {
   "cell_type": "markdown",
   "metadata": {
    "slideshow": {
     "slide_type": "slide"
    }
   },
   "source": [
    "As an example, consider Monte Carlo Integration in Python: function `f` is evaluated randomly, which may lead to an arithmetic exception:"
   ]
  },
  {
   "cell_type": "code",
   "execution_count": 1,
   "metadata": {},
   "outputs": [
    {
     "data": {
      "text/plain": [
       "-0.4"
      ]
     },
     "execution_count": 1,
     "metadata": {},
     "output_type": "execute_result"
    }
   ],
   "source": [
    "import random\n",
    "\n",
    "def area(f, a, b, l, u, n):\n",
    "    c = 0\n",
    "    for i in range(n):\n",
    "        try:\n",
    "            x = random.uniform(a, b)\n",
    "            y = random.uniform(l, u)\n",
    "            if 0 <= y <= f(x):\n",
    "                c = c + 1\n",
    "            elif f(x) <= y <= 0:\n",
    "                c = c - 1\n",
    "        except:\n",
    "            pass\n",
    "    return (u - l) * (b - a) * c / n\n",
    "\n",
    "def reciprocal(x): return 1 / x\n",
    "\n",
    "area(reciprocal, -1, 1, -1000, 1000, 10000)"
   ]
  },
  {
   "cell_type": "markdown",
   "metadata": {},
   "source": [
    "Here, an exception is “rare and undesired” but possible. The exception handler does nothing, but the quality of the result is affected. "
   ]
  },
  {
   "cell_type": "markdown",
   "metadata": {
    "slideshow": {
     "slide_type": "slide"
    }
   },
   "source": [
    "Exception handling\n",
    "- allows dealing with unanticipated failures that result from faults in the design,\n",
    "- is useful for _rare or undesired cases_, that would otherwise obstruct the original design, e.g. when operating on files, in floating-point computations that may overflow or underflow,\n",
    "- allows for _imperfections_ during the design process, supporting _extension_ and _contraction_, e.g. [MS Developer Documentation for .NET](https://docs.microsoft.com/en-us/dotnet/api/system.notimplementedexception):\n",
    "```C#\n",
    "static void FutureFeature()\n",
    "{\n",
    "   // Not developed yet.\n",
    "   throw new NotImplementedException();\n",
    "}\n",
    "```\n",
    "- is more efficient if a priori tests require substantial overhead, e.g. testing arithmetic addition for possible overflow requires a subtraction, doubling the number of operations in numerical computations.\n",
    "- is needed when the underlying machine fails, and there are no means to test for that a priory or a posteriori, e.g. when a procedure call leads to a call stack overflow or when a transient hardware failure occurs.\n",
    "\n",
    "Exception handling allows these cases to be treated uniformly."
   ]
  },
  {
   "cell_type": "markdown",
   "metadata": {
    "slideshow": {
     "slide_type": "slide"
    }
   },
   "source": [
    "## Statements With Exceptions"
   ]
  },
  {
   "cell_type": "markdown",
   "metadata": {
    "slideshow": {
     "slide_type": "slide"
    }
   },
   "source": [
    "In the presence of exceptions, every statement has one entry but two exits, the normal and the exceptional exit. In state diagrams, a dashed contour distinguishes exceptional final states. Every statement is revisited, and new statements for exception handling are introduced.\n",
    "\n",
    "The `skip` statement always terminates normally:\n",
    "<div style=\"float:left;border-left:2em solid transparent\">\n",
    "\n",
    "```algorithm\n",
    "skip\n",
    "```\n",
    "\n",
    "</div>\n",
    "<img style=\"float:left;border-left:6em solid transparent\" src=\"./img/SkipX.svg\"/>"
   ]
  },
  {
   "cell_type": "markdown",
   "metadata": {
    "slideshow": {
     "slide_type": "slide"
    }
   },
   "source": [
    "The `raise` statement always terminates exceptionally:\n",
    "<div style=\"float:left;border-left:2em solid transparent\">\n",
    "\n",
    "```algorithm\n",
    "raise\n",
    "```\n",
    "\n",
    "</div>\n",
    "<img style=\"float:left;border-left:6em solid transparent\" src=\"./img/RaiseX.svg\"/>"
   ]
  },
  {
   "cell_type": "markdown",
   "metadata": {
    "slideshow": {
     "slide_type": "subslide"
    }
   },
   "source": [
    "The assignment `x := E` evaluates expression `E`. If the evaluation fails, the assignment terminates exceptionally; otherwise, the value of `E` is assigned to variable `x`.\n",
    "\n",
    "<div style=\"float:left;border-left:2em solid transparent\">\n",
    "\n",
    "```algorithm\n",
    "x := E\n",
    "```\n",
    "\n",
    "</div>\n",
    "<img style=\"float:left;border-left:6em solid transparent\" src=\"./img/AssignmentX.svg\"/>"
   ]
  },
  {
   "cell_type": "markdown",
   "metadata": {
    "slideshow": {
     "slide_type": "subslide"
    }
   },
   "source": [
    "In the generalization to multiple assignments, all expressions are first evaluated and only if no evaluation fails, the values are assigned to the variables."
   ]
  },
  {
   "cell_type": "markdown",
   "metadata": {
    "slideshow": {
     "slide_type": "subslide"
    }
   },
   "source": [
    "The sequential composition `S ; T` first attempts `S`, and if that does terminate normally, it continues with `T`. If either one terminates exceptionally, the whole statement terminates exceptionally:\n",
    "<div style=\"float:left;border-left:2em solid transparent\">\n",
    "\n",
    "```algorithm\n",
    "S ; T\n",
    "```\n",
    "\n",
    "</div>\n",
    "<img style=\"float:left;border-left:6em solid transparent\" src=\"./img/SequentialX.svg\"/>"
   ]
  },
  {
   "cell_type": "markdown",
   "metadata": {
    "slideshow": {
     "slide_type": "subslide"
    }
   },
   "source": [
    "The _exceptional composition_ `try S catch T` first attempts `S`, and if that does terminate exceptionally, it continues with `T`. If either one terminates normally, the whole statement terminates normally:\n",
    "<div style=\"float:left;border-left:2em solid transparent\">\n",
    "\n",
    "```algorithm\n",
    "try S catch T\n",
    "```\n",
    "\n",
    "</div>\n",
    "<img style=\"float:left;border-left:6em solid transparent\" src=\"./img/TryCatch.svg\"/>"
   ]
  },
  {
   "cell_type": "markdown",
   "metadata": {
    "slideshow": {
     "slide_type": "subslide"
    }
   },
   "source": [
    "The conditional statement `if B then S else T` evaluates Boolean expression `B` and executes either `S` or `T`, depending on the value of `B`, provided that the evaluation of `B` succeeds. If the evaluation of `B` fails or if either `S` or `T` terminates exceptionally, the whole statement terminates exceptionally:\n",
    "\n",
    "<div style=\"float:left;border-left:2em solid transparent\">\n",
    "\n",
    "```algorithm\n",
    "if B then S else T\n",
    "```\n",
    "\n",
    "</div>\n",
    "<img style=\"float:left;border-left:6em solid transparent\" src=\"./img/Conditional2X.svg\"/>"
   ]
  },
  {
   "cell_type": "markdown",
   "metadata": {
    "slideshow": {
     "slide_type": "subslide"
    }
   },
   "source": [
    "The conditional statement `if B then S` is similar to above, except that `T` is `skip`:\n",
    "\n",
    "<div style=\"float:left;border-left:2em solid transparent\">\n",
    "\n",
    "```algorithm\n",
    "if B then S\n",
    "```\n",
    "\n",
    "</div>\n",
    "<img style=\"float:left;border-left:6em solid transparent\" src=\"./img/Conditional1X.svg\"/>"
   ]
  },
  {
   "attachments": {
    "RepetitionX.svg": {
     "image/svg+xml": [
      "PD94bWwgdmVyc2lvbj0iMS4wIiBlbmNvZGluZz0iVVRGLTgiPz4KPCFET0NUWVBFIHN2ZyBQVUJMSUMgIi0vL1czQy8vRFREIFNWRyAxLjEvL0VOIiAiaHR0cDovL3d3dy53My5vcmcvR3JhcGhpY3MvU1ZHLzEuMS9EVEQvc3ZnMTEuZHRkIj4KPHN2ZyB4bWxucz0iaHR0cDovL3d3dy53My5vcmcvMjAwMC9zdmciIHhtbG5zOnhsaW5rPSJodHRwOi8vd3d3LnczLm9yZy8xOTk5L3hsaW5rIiB2ZXJzaW9uPSIxLjEiIHdpZHRoPSIxOTJweCIgaGVpZ2h0PSIxNDFweCIgdmlld0JveD0iLTAuNSAtMC41IDE5MiAxNDEiIGNvbnRlbnQ9IiZsdDtteGZpbGUgaG9zdD0mcXVvdDtDaHJvbWUmcXVvdDsgbW9kaWZpZWQ9JnF1b3Q7MjAxOS0xMC0yOFQxMTowNDowMy42NzlaJnF1b3Q7IGFnZW50PSZxdW90O01vemlsbGEvNS4wIChNYWNpbnRvc2g7IEludGVsIE1hYyBPUyBYIDEwXzEzXzYpIEFwcGxlV2ViS2l0LzUzNy4zNiAoS0hUTUwsIGxpa2UgR2Vja28pIENocm9tZS83OC4wLjM5MDQuNzAgU2FmYXJpLzUzNy4zNiZxdW90OyB2ZXJzaW9uPSZxdW90OzEyLjEuNiZxdW90OyBldGFnPSZxdW90O0xEbzh4VTRBLWVSZXVUZ1YzY3lLJnF1b3Q7IHR5cGU9JnF1b3Q7ZGV2aWNlJnF1b3Q7IHBhZ2VzPSZxdW90OzYmcXVvdDsmZ3Q7Jmx0O2RpYWdyYW0gaWQ9JnF1b3Q7MTNwR2liODZ2Z1dYY1NKdDhfZUomcXVvdDsmZ3Q7N1ZsTmM1czhFUDQxVEUvSjhHR0VmWFNjcEQyMDczVEdoN1pIQmNtZ1ZpQXE1TmgrZjMwRkxCOEMvSlhXYmpvVEh4SzBXcTBXN1Q2N2oyekxXeVRiOXhKbjhTZEJLTGRjbTJ3dDc5NXkzYWs3MDM4THdhNFNCSk5wSllna0k1WElhUVZMOWo4Rm9RM1NOU00wTnhTVkVGeXh6QlNHSWsxcHFBd1psbEpzVExXVjRPYXVHWTdvUUxBTU1SOUt2ekNpWW5ndDMyN2xIeWlMNG5wbng0YVpKeHoraUtSWXA3Q2Y1WHFyOGxOTko3aTJCZnA1akluWWRFVGVnK1V0cEJDcWVrcTJDOHFMbzYyUHJWcjN1R2UyOFZ2U1ZKMnl3SzBXUEdPK3ByWEhpT3VsZHl1aExXZ0gxUTRPQmYxY2kzcmlKaTlETnRjS3ppVGJ0cE5sVExpUXhncDlDQk1IemFqVEZhR28vTy9mV1F2WG1pK3NCOWVhVHEwcDBxTDcyZ2Z0ZCtVR0tGZEgxbmprVXFLakJrTWhWU3dpa1dMKzBFcnZRcEd3VU0vYSt2bjdPc2xxN1ZTa3hYU3NFcTVIam42a1c2YStkcDYvRmF0dVhiOFlwa3J1dnBiam9CbC9BNnROQk11QndsSkJPcU5Tazh5TGROVERrT004TDN3cGhJK01OL3VtcExQZ08xVnFCMk84VmtLTDJoZjdLRVFHcTNJbHhRKzZhSTdhczh0UE0xTm5yUU1CZThRSjR3VVkveFBhcUdzdmNackRGT3ptMkREdUdKM1BmYjgwU25BZVV3TDJPSDZpWEx0RnFLeDE0VGlybVFZQ0hVc0FnanFHUmVDTWpNM0ZXb1lnOGdEd1dFWVVrdGdmNXJYVG9FVVhJU29TcW1PaVZhQUMzZGkzL3FTdVFwSnlyTml6dVNPR0VoRTFhOEdjRGhqZWRSUXl3VktWZDNiN1hBamFyUkFDTEVPdFExRHJBSEw2b2JMWVcxMmJGNnRWcmwvVFhORjVwVlpVUW5jY3h0NWVHQlAyUElwaVJiZnFCbk1XcFJXTU9WMnBFWGlDbFNmWmwyaVBTdE43a0ZuR3Y4bVlUY3dVWFdhNGpQQkdkd3dUZWl1TmhyRmNpU1FtakxZWkNWbldUZHJKTUdtSmkyWk9vUWR2ZHg5cUUxUWVCZ0tjSDVYNlhQYVcwc01wNTl2OVBJRHhwdE5CUUJSM21vZG43MDlJSXlVT3hIL3lGdjlYRi8vQXYxNzgvYmY0LzE3OGpRYjNCNUlCL2NWa1FLK0EwN1ZzVGhQUWFqQVBpdWVTN04yOTY1QzgwZHc2VFB2R1dGVW5ud3hLZGdJbnVUS1pHdVJsaDErNkEzNVo4OUo2RHFocFE4UStpNXdwSmd5RFJlb3lmWnY1MkZOSUdDRWxMYTRWNXVCS00vRXllalk1Rng2YW5RM2c0SS9Bb1phZHgrQUdGTTF4VERRNmp0L0RXZldDc0t4N1grcGJRbjFMZHM5U2RTNEhMUDFSNGhlOFlxelhLTWRKVWUvVHB6dzcxbEZPUmYzdzl2YlBRYjVCZGRCSDlmRkxiWHVCdE0rQzdGblhwK0RmQkdpLzhhTFphZmc4OTlibjl3cEIwUCtpNVloZlBmMnIzQktuSThYaWQxcnJCVUEwd3VjYUVCMXVrMGRSWTFDODduZEJFYzcydytobDMwSmNCeldvaDVxZzM0dE9CYzNFTncxTmc4dUFacC9EZTBIakh0UTNRZk1DUU16K2N2ZGN2bkhnQVFkMkRHUlg3ZkVDUlBkNHZUaWhJSnpkVisxYnh3OW1SazU3MDJzMjJxUHQ4ZFNTNFhzOWFLSUxsWXkrdzhpN2ROL1V3L1lIbUVxOS9aSExlL2dGJmx0Oy9kaWFncmFtJmd0OyZsdDsvbXhmaWxlJmd0OyI+PGRlZnMvPjxnPjxwYXRoIGQ9Ik0gOTEgOCBMIDE2MSA4IFEgMTcxIDggMTcxIDE4IEwgMTcxIDEwMy42MyIgZmlsbD0ibm9uZSIgc3Ryb2tlPSIjMDAwMDAwIiBzdHJva2UtbWl0ZXJsaW1pdD0iMTAiIHN0cm9rZS1kYXNoYXJyYXk9IjMgMyIgcG9pbnRlci1ldmVudHM9Im5vbmUiLz48cGF0aCBkPSJNIDE3MSAxMDguODggTCAxNjcuNSAxMDEuODggTCAxNzEgMTAzLjYzIEwgMTc0LjUgMTAxLjg4IFoiIGZpbGw9IiMwMDAwMDAiIHN0cm9rZT0iIzAwMDAwMCIgc3Ryb2tlLW1pdGVybGltaXQ9IjEwIiBwb2ludGVyLWV2ZW50cz0ibm9uZSIvPjxnIHRyYW5zZm9ybT0idHJhbnNsYXRlKDExNS41LDAuNSkiPjxzd2l0Y2g+PGZvcmVpZ25PYmplY3Qgc3R5bGU9Im92ZXJmbG93OnZpc2libGU7IiBwb2ludGVyLWV2ZW50cz0ibm9uZSIgd2lkdGg9IjM1IiBoZWlnaHQ9IjE0IiByZXF1aXJlZEZlYXR1cmVzPSJodHRwOi8vd3d3LnczLm9yZy9UUi9TVkcxMS9mZWF0dXJlI0V4dGVuc2liaWxpdHkiPjxkaXYgeG1sbnM9Imh0dHA6Ly93d3cudzMub3JnLzE5OTkveGh0bWwiIHN0eWxlPSJkaXNwbGF5OiBpbmxpbmUtYmxvY2s7IGZvbnQtc2l6ZTogMTBweDsgZm9udC1mYW1pbHk6ICZxdW90O05vdG8gU2FucyZxdW90OzsgY29sb3I6IHJnYigxNzAsIDg1LCAwKTsgbGluZS1oZWlnaHQ6IDEuMjsgdmVydGljYWwtYWxpZ246IHRvcDsgd2hpdGUtc3BhY2U6IG5vd3JhcDsgdGV4dC1hbGlnbjogY2VudGVyOyI+PGRpdiB4bWxucz0iaHR0cDovL3d3dy53My5vcmcvMTk5OS94aHRtbCIgc3R5bGU9ImRpc3BsYXk6aW5saW5lLWJsb2NrO3RleHQtYWxpZ246aW5oZXJpdDt0ZXh0LWRlY29yYXRpb246aW5oZXJpdDtiYWNrZ3JvdW5kLWNvbG9yOiNmZmZmZmY7Ij48Zm9udCBzdHlsZT0iZm9udC1zaXplOiAxNHB4IiBjb2xvcj0iIzQxNjllMSI+W8Ks4oiGQl08L2ZvbnQ+PC9kaXY+PC9kaXY+PC9mb3JlaWduT2JqZWN0Pjx0ZXh0IHg9IjE4IiB5PSIxMiIgZmlsbD0iI0FBNTUwMCIgdGV4dC1hbmNob3I9Im1pZGRsZSIgZm9udC1zaXplPSIxMHB4IiBmb250LWZhbWlseT0iTm90byBTYW5zIj5bTm90IHN1cHBvcnRlZCBieSB2aWV3ZXJdPC90ZXh0Pjwvc3dpdGNoPjwvZz48cmVjdCB4PSIxMSIgeT0iMCIgd2lkdGg9IjgwIiBoZWlnaHQ9IjMwIiByeD0iNC41IiByeT0iNC41IiBmaWxsPSIjZmZmZmZmIiBzdHJva2U9IiMwMDAwMDAiIHBvaW50ZXItZXZlbnRzPSJub25lIi8+PGcgdHJhbnNmb3JtPSJ0cmFuc2xhdGUoNTAuNSw3LjUpIj48c3dpdGNoPjxmb3JlaWduT2JqZWN0IHN0eWxlPSJvdmVyZmxvdzp2aXNpYmxlOyIgcG9pbnRlci1ldmVudHM9Im5vbmUiIHdpZHRoPSIxIiBoZWlnaHQ9IjE0IiByZXF1aXJlZEZlYXR1cmVzPSJodHRwOi8vd3d3LnczLm9yZy9UUi9TVkcxMS9mZWF0dXJlI0V4dGVuc2liaWxpdHkiPjxkaXYgeG1sbnM9Imh0dHA6Ly93d3cudzMub3JnLzE5OTkveGh0bWwiIHN0eWxlPSJkaXNwbGF5OiBpbmxpbmUtYmxvY2s7IGZvbnQtc2l6ZTogMTRweDsgZm9udC1mYW1pbHk6ICZxdW90O05vdG8gU2FucyZxdW90OzsgY29sb3I6IHJnYigyMTAsIDEwNSwgMzApOyBsaW5lLWhlaWdodDogMS4yOyB2ZXJ0aWNhbC1hbGlnbjogdG9wOyB3aWR0aDogMXB4OyB3aGl0ZS1zcGFjZTogbm93cmFwOyBvdmVyZmxvdy13cmFwOiBub3JtYWw7IHRleHQtYWxpZ246IGNlbnRlcjsiPjxkaXYgeG1sbnM9Imh0dHA6Ly93d3cudzMub3JnLzE5OTkveGh0bWwiIHN0eWxlPSJkaXNwbGF5OmlubGluZS1ibG9jazt0ZXh0LWFsaWduOmluaGVyaXQ7dGV4dC1kZWNvcmF0aW9uOmluaGVyaXQ7d2hpdGUtc3BhY2U6bm9ybWFsOyI+PGRpdiBzdHlsZT0idGV4dC1hbGlnbjogbGVmdCI+PGJyIC8+PC9kaXY+PC9kaXY+PC9kaXY+PC9mb3JlaWduT2JqZWN0Pjx0ZXh0IHg9IjAiIHk9IjE0IiBmaWxsPSIjZDI2OTFlIiB0ZXh0LWFuY2hvcj0ibWlkZGxlIiBmb250LXNpemU9IjE0cHgiIGZvbnQtZmFtaWx5PSJOb3RvIFNhbnMiPiZsdDtkaXYgc3R5bGU9InRleHQtYWxpZ246IGxlZnQiJmd0OyZsdDticiZndDsmbHQ7L2RpdiZndDs8L3RleHQ+PC9zd2l0Y2g+PC9nPjxyZWN0IHg9IjExIiB5PSIxMTAiIHdpZHRoPSI4MCIgaGVpZ2h0PSIzMCIgcng9IjQuNSIgcnk9IjQuNSIgZmlsbD0iI2ZmZmZmZiIgc3Ryb2tlPSIjMDAwMDAwIiBwb2ludGVyLWV2ZW50cz0ibm9uZSIvPjxnIHRyYW5zZm9ybT0idHJhbnNsYXRlKDUwLjUsMTE3LjUpIj48c3dpdGNoPjxmb3JlaWduT2JqZWN0IHN0eWxlPSJvdmVyZmxvdzp2aXNpYmxlOyIgcG9pbnRlci1ldmVudHM9Im5vbmUiIHdpZHRoPSIxIiBoZWlnaHQ9IjE0IiByZXF1aXJlZEZlYXR1cmVzPSJodHRwOi8vd3d3LnczLm9yZy9UUi9TVkcxMS9mZWF0dXJlI0V4dGVuc2liaWxpdHkiPjxkaXYgeG1sbnM9Imh0dHA6Ly93d3cudzMub3JnLzE5OTkveGh0bWwiIHN0eWxlPSJkaXNwbGF5OiBpbmxpbmUtYmxvY2s7IGZvbnQtc2l6ZTogMTRweDsgZm9udC1mYW1pbHk6ICZxdW90O05vdG8gU2FucyZxdW90OzsgY29sb3I6IHJnYigyMTAsIDEwNSwgMzApOyBsaW5lLWhlaWdodDogMS4yOyB2ZXJ0aWNhbC1hbGlnbjogdG9wOyB3aWR0aDogMXB4OyB3aGl0ZS1zcGFjZTogbm93cmFwOyBvdmVyZmxvdy13cmFwOiBub3JtYWw7IHRleHQtYWxpZ246IGNlbnRlcjsiPjxkaXYgeG1sbnM9Imh0dHA6Ly93d3cudzMub3JnLzE5OTkveGh0bWwiIHN0eWxlPSJkaXNwbGF5OmlubGluZS1ibG9jazt0ZXh0LWFsaWduOmluaGVyaXQ7dGV4dC1kZWNvcmF0aW9uOmluaGVyaXQ7d2hpdGUtc3BhY2U6bm9ybWFsOyI+PGRpdiBzdHlsZT0idGV4dC1hbGlnbjogbGVmdCI+PGJyIC8+PC9kaXY+PC9kaXY+PC9kaXY+PC9mb3JlaWduT2JqZWN0Pjx0ZXh0IHg9IjAiIHk9IjE0IiBmaWxsPSIjZDI2OTFlIiB0ZXh0LWFuY2hvcj0ibWlkZGxlIiBmb250LXNpemU9IjE0cHgiIGZvbnQtZmFtaWx5PSJOb3RvIFNhbnMiPiZsdDtkaXYgc3R5bGU9InRleHQtYWxpZ246IGxlZnQiJmd0OyZsdDticiZndDsmbHQ7L2RpdiZndDs8L3RleHQ+PC9zd2l0Y2g+PC9nPjxyZWN0IHg9IjExMSIgeT0iMTEwIiB3aWR0aD0iODAiIGhlaWdodD0iMzAiIHJ4PSI0LjUiIHJ5PSI0LjUiIGZpbGw9IiNmZmZmZmYiIHN0cm9rZT0iIzAwMDAwMCIgc3Ryb2tlLWRhc2hhcnJheT0iMyAzIiBwb2ludGVyLWV2ZW50cz0ibm9uZSIvPjxnIHRyYW5zZm9ybT0idHJhbnNsYXRlKDE1MC41LDExNy41KSI+PHN3aXRjaD48Zm9yZWlnbk9iamVjdCBzdHlsZT0ib3ZlcmZsb3c6dmlzaWJsZTsiIHBvaW50ZXItZXZlbnRzPSJub25lIiB3aWR0aD0iMSIgaGVpZ2h0PSIxNCIgcmVxdWlyZWRGZWF0dXJlcz0iaHR0cDovL3d3dy53My5vcmcvVFIvU1ZHMTEvZmVhdHVyZSNFeHRlbnNpYmlsaXR5Ij48ZGl2IHhtbG5zPSJodHRwOi8vd3d3LnczLm9yZy8xOTk5L3hodG1sIiBzdHlsZT0iZGlzcGxheTogaW5saW5lLWJsb2NrOyBmb250LXNpemU6IDE0cHg7IGZvbnQtZmFtaWx5OiAmcXVvdDtOb3RvIFNhbnMmcXVvdDs7IGNvbG9yOiByZ2IoMjEwLCAxMDUsIDMwKTsgbGluZS1oZWlnaHQ6IDEuMjsgdmVydGljYWwtYWxpZ246IHRvcDsgd2lkdGg6IDFweDsgd2hpdGUtc3BhY2U6IG5vd3JhcDsgb3ZlcmZsb3ctd3JhcDogbm9ybWFsOyB0ZXh0LWFsaWduOiBjZW50ZXI7Ij48ZGl2IHhtbG5zPSJodHRwOi8vd3d3LnczLm9yZy8xOTk5L3hodG1sIiBzdHlsZT0iZGlzcGxheTppbmxpbmUtYmxvY2s7dGV4dC1hbGlnbjppbmhlcml0O3RleHQtZGVjb3JhdGlvbjppbmhlcml0O3doaXRlLXNwYWNlOm5vcm1hbDsiPjxkaXYgc3R5bGU9InRleHQtYWxpZ246IGxlZnQiPjxiciAvPjwvZGl2PjwvZGl2PjwvZGl2PjwvZm9yZWlnbk9iamVjdD48dGV4dCB4PSIwIiB5PSIxNCIgZmlsbD0iI2QyNjkxZSIgdGV4dC1hbmNob3I9Im1pZGRsZSIgZm9udC1zaXplPSIxNHB4IiBmb250LWZhbWlseT0iTm90byBTYW5zIj4mbHQ7ZGl2IHN0eWxlPSJ0ZXh0LWFsaWduOiBsZWZ0IiZndDsmbHQ7YnImZ3Q7Jmx0Oy9kaXYmZ3Q7PC90ZXh0Pjwvc3dpdGNoPjwvZz48cGF0aCBkPSJNIDMxIDMwIEwgMzEgMTAzLjYzIiBmaWxsPSJub25lIiBzdHJva2U9IiMwMDAwMDAiIHN0cm9rZS1taXRlcmxpbWl0PSIxMCIgcG9pbnRlci1ldmVudHM9Im5vbmUiLz48cGF0aCBkPSJNIDMxIDEwOC44OCBMIDI3LjUgMTAxLjg4IEwgMzEgMTAzLjYzIEwgMzQuNSAxMDEuODggWiIgZmlsbD0iIzAwMDAwMCIgc3Ryb2tlPSIjMDAwMDAwIiBzdHJva2UtbWl0ZXJsaW1pdD0iMTAiIHBvaW50ZXItZXZlbnRzPSJub25lIi8+PGcgdHJhbnNmb3JtPSJ0cmFuc2xhdGUoLTAuNSw4Mi41KSI+PHN3aXRjaD48Zm9yZWlnbk9iamVjdCBzdHlsZT0ib3ZlcmZsb3c6dmlzaWJsZTsiIHBvaW50ZXItZXZlbnRzPSJub25lIiB3aWR0aD0iNjMiIGhlaWdodD0iMTQiIHJlcXVpcmVkRmVhdHVyZXM9Imh0dHA6Ly93d3cudzMub3JnL1RSL1NWRzExL2ZlYXR1cmUjRXh0ZW5zaWJpbGl0eSI+PGRpdiB4bWxucz0iaHR0cDovL3d3dy53My5vcmcvMTk5OS94aHRtbCIgc3R5bGU9ImRpc3BsYXk6IGlubGluZS1ibG9jazsgZm9udC1zaXplOiAxMHB4OyBmb250LWZhbWlseTogJnF1b3Q7Tm90byBTYW5zJnF1b3Q7OyBjb2xvcjogcmdiKDE3MCwgODUsIDApOyBsaW5lLWhlaWdodDogMS4yOyB2ZXJ0aWNhbC1hbGlnbjogdG9wOyB3aGl0ZS1zcGFjZTogbm93cmFwOyB0ZXh0LWFsaWduOiBjZW50ZXI7Ij48ZGl2IHhtbG5zPSJodHRwOi8vd3d3LnczLm9yZy8xOTk5L3hodG1sIiBzdHlsZT0iZGlzcGxheTppbmxpbmUtYmxvY2s7dGV4dC1hbGlnbjppbmhlcml0O3RleHQtZGVjb3JhdGlvbjppbmhlcml0O2JhY2tncm91bmQtY29sb3I6I2ZmZmZmZjsiPjxmb250IHN0eWxlPSJmb250LXNpemU6IDE0cHgiIGNvbG9yPSIjNDE2OWUxIj5b4oiGQiDiiKcgwqxCJ108YnIgLz48L2ZvbnQ+PC9kaXY+PC9kaXY+PC9mb3JlaWduT2JqZWN0Pjx0ZXh0IHg9IjMyIiB5PSIxMiIgZmlsbD0iI0FBNTUwMCIgdGV4dC1hbmNob3I9Im1pZGRsZSIgZm9udC1zaXplPSIxMHB4IiBmb250LWZhbWlseT0iTm90byBTYW5zIj5bTm90IHN1cHBvcnRlZCBieSB2aWV3ZXJdPC90ZXh0Pjwvc3dpdGNoPjwvZz48cGF0aCBkPSJNIDcxIDMwIEwgNzEgNzAgUSA3MSA4MCA4MSA4MCBMIDEwMSA4MCBRIDExMSA4MCAxMTEgNzAgTCAxMTEgNTAiIGZpbGw9Im5vbmUiIHN0cm9rZT0iIzAwMDAwMCIgc3Ryb2tlLW1pdGVybGltaXQ9IjEwIiBwb2ludGVyLWV2ZW50cz0ibm9uZSIvPjxnIHRyYW5zZm9ybT0idHJhbnNsYXRlKDQxLjUsNDAuNSkiPjxzd2l0Y2g+PGZvcmVpZ25PYmplY3Qgc3R5bGU9Im92ZXJmbG93OnZpc2libGU7IiBwb2ludGVyLWV2ZW50cz0ibm9uZSIgd2lkdGg9IjU4IiBoZWlnaHQ9IjE0IiByZXF1aXJlZEZlYXR1cmVzPSJodHRwOi8vd3d3LnczLm9yZy9UUi9TVkcxMS9mZWF0dXJlI0V4dGVuc2liaWxpdHkiPjxkaXYgeG1sbnM9Imh0dHA6Ly93d3cudzMub3JnLzE5OTkveGh0bWwiIHN0eWxlPSJkaXNwbGF5OiBpbmxpbmUtYmxvY2s7IGZvbnQtc2l6ZTogMTBweDsgZm9udC1mYW1pbHk6ICZxdW90O05vdG8gU2FucyZxdW90OzsgY29sb3I6IHJnYigxNzAsIDg1LCAwKTsgbGluZS1oZWlnaHQ6IDEuMjsgdmVydGljYWwtYWxpZ246IHRvcDsgd2hpdGUtc3BhY2U6IG5vd3JhcDsgdGV4dC1hbGlnbjogY2VudGVyOyI+PGRpdiB4bWxucz0iaHR0cDovL3d3dy53My5vcmcvMTk5OS94aHRtbCIgc3R5bGU9ImRpc3BsYXk6aW5saW5lLWJsb2NrO3RleHQtYWxpZ246aW5oZXJpdDt0ZXh0LWRlY29yYXRpb246aW5oZXJpdDtiYWNrZ3JvdW5kLWNvbG9yOiNmZmZmZmY7Ij48Zm9udCBzdHlsZT0iZm9udC1zaXplOiAxNHB4IiBjb2xvcj0iIzQxNjllMSI+W+KIhkIg4oinIEInXcKgPGJyIC8+PC9mb250PjwvZGl2PjwvZGl2PjwvZm9yZWlnbk9iamVjdD48dGV4dCB4PSIyOSIgeT0iMTIiIGZpbGw9IiNBQTU1MDAiIHRleHQtYW5jaG9yPSJtaWRkbGUiIGZvbnQtc2l6ZT0iMTBweCIgZm9udC1mYW1pbHk9Ik5vdG8gU2FucyI+W05vdCBzdXBwb3J0ZWQgYnkgdmlld2VyXTwvdGV4dD48L3N3aXRjaD48L2c+PHBhdGggZD0iTSAxMjEgNjAgTCAxMjYgNjAgUSAxMzEgNjAgMTMxIDcwIEwgMTMxIDEwMy42MyIgZmlsbD0ibm9uZSIgc3Ryb2tlPSIjMDAwMDAwIiBzdHJva2UtbWl0ZXJsaW1pdD0iMTAiIHN0cm9rZS1kYXNoYXJyYXk9IjMgMyIgcG9pbnRlci1ldmVudHM9Im5vbmUiLz48cGF0aCBkPSJNIDEzMSAxMDguODggTCAxMjcuNSAxMDEuODggTCAxMzEgMTAzLjYzIEwgMTM0LjUgMTAxLjg4IFoiIGZpbGw9IiMwMDAwMDAiIHN0cm9rZT0iIzAwMDAwMCIgc3Ryb2tlLW1pdGVybGltaXQ9IjEwIiBwb2ludGVyLWV2ZW50cz0ibm9uZSIvPjxwYXRoIGQ9Ik0gMTExIDUwIEwgMTExIDMzIFEgMTExIDIzIDEwNC4xOCAyMyBMIDk3LjM3IDIzIiBmaWxsPSJub25lIiBzdHJva2U9IiMwMDAwMDAiIHN0cm9rZS1taXRlcmxpbWl0PSIxMCIgcG9pbnRlci1ldmVudHM9Im5vbmUiLz48cGF0aCBkPSJNIDkyLjEyIDIzIEwgOTkuMTIgMTkuNSBMIDk3LjM3IDIzIEwgOTkuMTIgMjYuNSBaIiBmaWxsPSIjMDAwMDAwIiBzdHJva2U9IiMwMDAwMDAiIHN0cm9rZS1taXRlcmxpbWl0PSIxMCIgcG9pbnRlci1ldmVudHM9Im5vbmUiLz48ZyB0cmFuc2Zvcm09InRyYW5zbGF0ZSgxMDYuNSw1My41KSI+PHN3aXRjaD48Zm9yZWlnbk9iamVjdCBzdHlsZT0ib3ZlcmZsb3c6dmlzaWJsZTsiIHBvaW50ZXItZXZlbnRzPSJub25lIiB3aWR0aD0iOCIgaGVpZ2h0PSIxNCIgcmVxdWlyZWRGZWF0dXJlcz0iaHR0cDovL3d3dy53My5vcmcvVFIvU1ZHMTEvZmVhdHVyZSNFeHRlbnNpYmlsaXR5Ij48ZGl2IHhtbG5zPSJodHRwOi8vd3d3LnczLm9yZy8xOTk5L3hodG1sIiBzdHlsZT0iZGlzcGxheTogaW5saW5lLWJsb2NrOyBmb250LXNpemU6IDEwcHg7IGZvbnQtZmFtaWx5OiAmcXVvdDtOb3RvIFNhbnMmcXVvdDs7IGNvbG9yOiByZ2IoMTcwLCA4NSwgMCk7IGxpbmUtaGVpZ2h0OiAxLjI7IHZlcnRpY2FsLWFsaWduOiB0b3A7IHdoaXRlLXNwYWNlOiBub3dyYXA7IHRleHQtYWxpZ246IGNlbnRlcjsiPjxkaXYgeG1sbnM9Imh0dHA6Ly93d3cudzMub3JnLzE5OTkveGh0bWwiIHN0eWxlPSJkaXNwbGF5OmlubGluZS1ibG9jazt0ZXh0LWFsaWduOmluaGVyaXQ7dGV4dC1kZWNvcmF0aW9uOmluaGVyaXQ7YmFja2dyb3VuZC1jb2xvcjojZmZmZmZmOyI+PGZvbnQgc3R5bGU9ImZvbnQtc2l6ZTogMTRweCIgY29sb3I9IiM0MTY5ZTEiPlM8YnIgLz48L2ZvbnQ+PC9kaXY+PC9kaXY+PC9mb3JlaWduT2JqZWN0Pjx0ZXh0IHg9IjQiIHk9IjEyIiBmaWxsPSIjQUE1NTAwIiB0ZXh0LWFuY2hvcj0ibWlkZGxlIiBmb250LXNpemU9IjEwcHgiIGZvbnQtZmFtaWx5PSJOb3RvIFNhbnMiPltOb3Qgc3VwcG9ydGVkIGJ5IHZpZXdlcl08L3RleHQ+PC9zd2l0Y2g+PC9nPjwvZz48L3N2Zz4="
     ]
    }
   },
   "cell_type": "markdown",
   "metadata": {
    "slideshow": {
     "slide_type": "subslide"
    }
   },
   "source": [
    "The repetitive statement `while B do S` evaluates the condition `B`. If that succeeds and the value is true, the body `S` is executed and `B` is evaluated again. If `B` is false, the statement terminates normally. If either the evaluation of `B` fails or `S` terminates exceptionally, the whole statement terminates exceptionally. \n",
    "<div style=\"float:left;border-left:2em solid transparent\">\n",
    "\n",
    "```algorithm\n",
    "while B do S\n",
    "```\n",
    "\n",
    "</div>\n",
    "<img style=\"float:left;border-left:6em solid transparent\" src=\"./img/RepetitionX.svg\"/>"
   ]
  },
  {
   "cell_type": "markdown",
   "metadata": {
    "slideshow": {
     "slide_type": "slide"
    }
   },
   "source": [
    "## Annotations and Correctness"
   ]
  },
  {
   "cell_type": "markdown",
   "metadata": {
    "slideshow": {
     "slide_type": "slide"
    }
   },
   "source": [
    "For predicates `P`, `Q`, `X`, we extend the correctness assertions and the state diagrams to express that under precondition `P`, statement `S` either establishes postcondition `Q` on normal exit or postcondition `X` on exceptional exit:\n",
    "<div style=\"float:left;border-left:2em solid transparent\">\n",
    "\n",
    "```algorithm\n",
    "  {P}  S  {Q, X}\n",
    "```\n",
    "\n",
    "</div>\n",
    "<img style=\"float:left;border-left:6em solid transparent\" src=\"./img/CorrectnessAssertionX.svg\"/>"
   ]
  },
  {
   "cell_type": "markdown",
   "metadata": {
    "slideshow": {
     "slide_type": "slide"
    }
   },
   "source": [
    "If `X` is false, i.e. `S` does not raise an exception, we leave out `X` and have as previously:\n",
    "<div style=\"float:left;border-left:2em solid transparent\">\n",
    "\n",
    "```algorithm\n",
    "  {P}  S  {Q}\n",
    "```\n",
    "\n",
    "</div>\n",
    "<img style=\"float:left;border-left:6em solid transparent\" src=\"./img/CorrectnessAssertionNoX.svg\"/>"
   ]
  },
  {
   "cell_type": "markdown",
   "metadata": {
    "slideshow": {
     "slide_type": "slide"
    }
   },
   "source": [
    "The revised correctness rules with exceptions are directly derived from the corresponding state diagrams. "
   ]
  },
  {
   "cell_type": "markdown",
   "metadata": {
    "slideshow": {
     "slide_type": "slide"
    }
   },
   "source": [
    "**Rules for correctness of statements with exceptions:**\n",
    "\n",
    "<div style=\"display:table; border-top:1em solid white\">\n",
    "  <div style = \"display:table-cell; vertical-align:middle\">\n",
    "  \n",
    "```algorithm\n",
    "{P}  x := E  {Q, X}\n",
    "\n",
    "\n",
    "{P}  S ; T  {R, X}\n",
    "\n",
    "\n",
    "{P}  try S catch T  {Q, Y}\n",
    "```\n",
    "```algorithm\n",
    "\n",
    "{P}  if B then S else T  {Q, X}\n",
    "\n",
    "\n",
    "\n",
    "{P}  if B then S  {Q, X}\n",
    "\n",
    "\n",
    "\n",
    "{P}  while B do S  {Q, X}\n",
    "```\n",
    "<br><br>\n",
    "  </div>\n",
    "  <div style = \"display:table-cell; vertical-align:middle;border-left:50px solid white\" >\n",
    "    if `P ∧ ∆E ⇒ Q[x := E']`  \n",
    "    and `P ∧ ¬∆E ⇒ X` <br><br>\n",
    "    if `{P} S {Q, X}`   \n",
    "    and `{Q} T {R, X}` <br><br>\n",
    "    if `{P} S {Q, X}`  \n",
    "    and `{X} T {Q, Y}` <br><br>\n",
    "    if `{P ∧ ∆B ∧ B'} S {Q, X}`  \n",
    "    and `{P ∧ ∆B ∧ ¬B'} T {Q, X}`  \n",
    "    and `P ∧ ¬∆B ⇒ X` <br><br>\n",
    "    if `{P ∧ ∆B ∧ B'} S {Q, X}`  \n",
    "    and `P ∧ ∆B ∧ ¬B' ⇒ Q` <br>\n",
    "    and `P ∧ ¬∆B ⇒ X` <br><br>\n",
    "    if `{P ∧ ∆B ∧ B'} S {P, X}`  \n",
    "    and `P ∧ ∆B ∧ ¬B' ⇒ Q`  \n",
    "    and `P ∧ ¬∆B ⇒ X`\n",
    "  </div>\n",
    "</div>\n",
    "<span></span>"
   ]
  },
  {
   "cell_type": "markdown",
   "metadata": {
    "slideshow": {
     "slide_type": "slide"
    }
   },
   "source": [
    "## Derived Statements"
   ]
  },
  {
   "cell_type": "markdown",
   "metadata": {
    "slideshow": {
     "slide_type": "slide"
    }
   },
   "source": [
    "An array assignment is defined in terms of the alter function; recall that the only difference is that the evaluation of `E` and `F` may fail, in which case an exception is raised:\n",
    "```\n",
    "x(E) := F   =   x := (x; E: F)\n",
    "```\n",
    "The statement `assert B` raises an exception if `B` does not hold, otherwise does nothing:\n",
    "```\n",
    "assert B   =   if ¬B then raise\n",
    "```\n",
    "The statement `try S finally U` always executes `U`, whether `S` terminates normally or exceptionally. The whole statement terminates normally only if both `S` and `U` do so as well; otherwise, it terminates exceptionally:\n",
    "<div style=\"float:left;border-left:2em solid transparent\">\n",
    "\n",
    "```algorithm\n",
    "try S finally U\n",
    "```\n",
    "\n",
    "</div>\n",
    "<img style=\"float:left;border-left:6em solid transparent\" src=\"./img/TryFinally.svg\"/>"
   ]
  },
  {
   "cell_type": "markdown",
   "metadata": {
    "slideshow": {
     "slide_type": "slide"
    }
   },
   "source": [
    "```\n",
    "try S finally U   =   try S catch (U ; raise) ; U\n",
    "```"
   ]
  },
  {
   "cell_type": "markdown",
   "metadata": {
    "slideshow": {
     "slide_type": "slide"
    }
   },
   "source": [
    "The statement `try S catch T finally U` unifies `try-catch` and `try-finally`. It can be defined in two equivalent ways:\n",
    "<div style=\"float:left;border-left:2em solid transparent\">\n",
    "\n",
    "```algorithm\n",
    "try S catch T finally U\n",
    "```\n",
    "\n",
    "</div>\n",
    "<img style=\"float:left;border-left:6em solid transparent\" src=\"./img/TryCatchFinally.svg\"/>"
   ]
  },
  {
   "cell_type": "markdown",
   "metadata": {
    "slideshow": {
     "slide_type": "slide"
    }
   },
   "source": [
    "```algorithm\n",
    "try S catch T finally U\t=   try S catch (try T catch (U ; raise)) ; U\n",
    "                                        =   try (try S catch T) finally U\n",
    "```"
   ]
  },
  {
   "cell_type": "markdown",
   "metadata": {
    "slideshow": {
     "slide_type": "slide"
    }
   },
   "source": [
    "## Example: Saturating Vector Division"
   ]
  },
  {
   "cell_type": "markdown",
   "metadata": {
    "slideshow": {
     "slide_type": "slide"
    }
   },
   "source": [
    "```algorithm\n",
    "{true}\n",
    "i := 0\n",
    "{P:  0 ≤ i ≤ n ∧ ∀ j ∈ 0 .. i - 1 • (b(j) ≠ 0 ∧ c(j) = a(j) div b(j)) ∨ (b(j) = 0 ∧ c(j) = maxint)}\n",
    "while i < n do\n",
    "    {i < n ∧ P}\n",
    "    try c(i) := a(i) div b(i)\n",
    "        {i < n ∧ P ∧ b(i) ≠ 0 ∧ c(i) = a(i) div b(i), i < n ∧ P ∧ b(i) = 0}\n",
    "    catch\n",
    "        {i < n ∧ P ∧ b(i) = 0}\n",
    "        c(i) := maxint\n",
    "        {i < n ∧ P ∧ b(i) = 0 ∧ c(i) = maxint}\n",
    "    {i < n ∧ P ∧ ((b(i) ≠ 0 ∧ c(i) = a(i) div b(i)) ∨ (b(i) = 0 ∧ c(i) = maxint))}\n",
    "    i := i + 1\n",
    "    {P}\n",
    "{∀ j ∈ 0 .. n - 1 . (b(j) ≠ 0 ∧ c(j) = a(j) div b(j)) ∨ (b(j) = 0 ∧ c(j) = maxint)}\n",
    "```"
   ]
  },
  {
   "cell_type": "markdown",
   "metadata": {},
   "source": [
    "## Procedure Specifications"
   ]
  },
  {
   "cell_type": "markdown",
   "metadata": {},
   "source": [
    "So far, we have considered only a single exceptional exit. Languages like Java allow the specification of different _exception types,_ that can be caught selectively, leading to statements with multiple exits. A method specification states what has to hold at what exit, for example:\n",
    "\n",
    "```Java\n",
    "public static void int search(int[] a, int x)\n",
    "    throws NullPointerException, NotFoundException\n",
    "/* requires: a is sorted\n",
    "   ensures:  0 <= result < a.length && a[result] == x\n",
    "   signals NullPointerException: a == null\n",
    "   signals NotFoundException: x not in a\n",
    "*/\n",
    "```\n",
    "\n",
    "However, this style of specification assumes that all exceptions are anticipated, which does not allow coping with unanticipated failures; it amounts to using exceptions as a control structure for undesired or rare cases."
   ]
  },
  {
   "cell_type": "markdown",
   "metadata": {
    "slideshow": {
     "slide_type": "slide"
    }
   },
   "source": [
    "## Pattern: Masking"
   ]
  },
  {
   "cell_type": "markdown",
   "metadata": {
    "slideshow": {
     "slide_type": "slide"
    }
   },
   "source": [
    "```\n",
    "try request next command\n",
    "catch command := help\n",
    "```\n",
    "The desired (but possibly weakened) postcondition is always established. This is an instance of _forward recovery._\n",
    "\n",
    "If\n",
    "```algorithm\n",
    "{P}  S  {Q, H}\n",
    "{H}  T  {Q}\n",
    "```\n",
    "then\n",
    "```algorithm\n",
    "{P}  try S catch T  {Q}\n",
    "```"
   ]
  },
  {
   "cell_type": "markdown",
   "metadata": {
    "slideshow": {
     "slide_type": "slide"
    }
   },
   "source": [
    "## Pattern: Masking with Re-raising"
   ]
  },
  {
   "cell_type": "markdown",
   "metadata": {
    "slideshow": {
     "slide_type": "slide"
    }
   },
   "source": [
    "```\n",
    "try process file A and output file B\n",
    "catch (delete file B ; raise)\n",
    "```\n",
    "In a modular design, each module restores a consistent state before passing on the exception. This pattern can be used for _backward recovery_ (rolling back) or forward recovery.\n",
    "\n",
    "If\n",
    "```algorithm\n",
    "{P}  S  {Q, H}\n",
    "{H}  T  {R, R}\n",
    "```\n",
    "then:\n",
    "```algorithm\n",
    "{P}  try S catch (T ; raise)  {Q, R}\n",
    "```"
   ]
  },
  {
   "cell_type": "markdown",
   "metadata": {
    "slideshow": {
     "slide_type": "slide"
    }
   },
   "source": [
    "## Pattern: Flagging"
   ]
  },
  {
   "cell_type": "markdown",
   "metadata": {
    "slideshow": {
     "slide_type": "slide"
    }
   },
   "source": [
    "```\n",
    "try (process file A and output file B ; done := true)\n",
    "catch (delete file B ; done := false)\n",
    "```\n",
    "The occurrence of an exception is recorded for further actions, e.g. further forward or backward recovery.\n",
    "\n",
    "If\n",
    "```algorithm\n",
    "{P}  S  {Q, H}\n",
    "{H}  T  {R}\n",
    "```\n",
    "then:\n",
    "```algorithm\n",
    "{P}  try (S ; done := true) catch (T ; done := false)  {(done ∧ Q) ∨ (¬done ∧ R)}\n",
    "```\n",
    "The role of `T` is to establish an alternate postcondition; in the above formulation, `T` must not fail."
   ]
  },
  {
   "cell_type": "markdown",
   "metadata": {
    "slideshow": {
     "slide_type": "slide"
    }
   },
   "source": [
    "## Pattern: Rollback with Masking"
   ]
  },
  {
   "cell_type": "markdown",
   "metadata": {
    "slideshow": {
     "slide_type": "slide"
    }
   },
   "source": [
    "```\n",
    "u0, v0, w0 := u, v, w\n",
    "try display form for entering u, v, w\n",
    "catch u, v, w := u0, v0, w0\n",
    "```\n",
    "The pattern prevents that an inconsistent state, e.g. with a broken invariant, or an undesirable state, e.g. one which only allows termination, is left.\n",
    "\n",
    "Let `B` stand for \"backup available\". If\n",
    "```algorithm\n",
    "{P}  backup  {P ∧ B}\n",
    "{B}  restore  {P}\n",
    "{P ∧ B}  S  {Q, B}\n",
    "{P}  T  {Q}\n",
    "```\n",
    "then:\n",
    "```algorithm\n",
    "{P}  backup ; try S catch (restore ; T)  {Q}\n",
    "```\n",
    "Statement `T` can either do some clean-up for backward recovery or do forward recovery. The pattern assumes that both `restore` and `T` do not fail."
   ]
  },
  {
   "cell_type": "markdown",
   "metadata": {
    "slideshow": {
     "slide_type": "slide"
    }
   },
   "source": [
    "## Pattern: Rollback with Propagation"
   ]
  },
  {
   "cell_type": "markdown",
   "metadata": {
    "slideshow": {
     "slide_type": "slide"
    }
   },
   "source": [
    "The difference to Rollback with Masking is that now `restore` can fail.\n",
    "\n",
    "\n",
    "If\n",
    "```algorithm\n",
    "{P}  backup  {P ∧ B, P}\n",
    "{B}  restore  {P, P}\n",
    "{P ∧ B}  S  {Q, B}\n",
    "```\n",
    "then:\n",
    "```algorithm\n",
    "{P}  backup ; try S catch (restore ; raise)  {Q, P}\n",
    "```"
   ]
  },
  {
   "cell_type": "markdown",
   "metadata": {
    "slideshow": {
     "slide_type": "slide"
    }
   },
   "source": [
    "## Partial Correctness"
   ]
  },
  {
   "cell_type": "markdown",
   "metadata": {
    "slideshow": {
     "slide_type": "slide"
    }
   },
   "source": [
    "Suppose `S` either establishes the desired postcondition or fails but re-establishes the precondition in that case:\n",
    "```algorithm\n",
    "{P}  S  {Q, P}\n",
    "```\n",
    "Then `S` is _partially correct_ with respect to `P`, `Q`.\n",
    "\n",
    "Several patterns ensure partial correctness. Eiffel method specifications can be understood as partial correctness specifications:\n",
    "\n",
    "```Eiffel\n",
    "method is\n",
    "    require\n",
    "        pre\n",
    "    do\n",
    "        body\n",
    "    ensure\n",
    "        post\n",
    "    rescue\n",
    "        handler\n",
    "```"
   ]
  },
  {
   "cell_type": "markdown",
   "metadata": {
    "slideshow": {
     "slide_type": "slide"
    }
   },
   "source": [
    "## Pattern: Degraded Service"
   ]
  },
  {
   "cell_type": "markdown",
   "metadata": {
    "slideshow": {
     "slide_type": "slide"
    }
   },
   "source": [
    "Here is a procedure for computing `√(x² + y²)` by [Hull et al (1994)](https://doi.org/10.1145/178365.178404):\n",
    "```algorithm\n",
    "try\t\t-- try the simplest formula, will work most of the time\n",
    "    z := √(x² + y²)\n",
    "catch \t-- overflow or underflow has occurred\n",
    "    try\n",
    "        m := max(abs(x), abs(y))\n",
    "        try\t\t-- try the formula with scaling\n",
    "            t := √((x / m)² + (y / m)²)\n",
    "        catch\t-- underflow has occurred\n",
    "            t := 1\n",
    "        z := m × t\n",
    "    catch\t-- overflow on unscaling has occurred\n",
    "        z := +∞ ; raise\n",
    "```\n",
    "Several alternatives achieve the same goal, but some are preferred over others. If the first one fails, we fall back to a less desirable one.\n",
    "\n",
    "Suppose the alternatives are `S₁`, `S₂`, `S₃`. If\n",
    "```algorithm\n",
    "\t{P}  S₁  {Q, H₁}\n",
    "    {H₁}  S₂  {Q, H₂}\n",
    "    {H₂}  S₃  {Q, R}\n",
    "```\n",
    "then:\n",
    "```algorithm\n",
    "\t{P}  try S₁ catch (try S₂ catch S₃)  {Q, R}\n",
    "```"
   ]
  },
  {
   "cell_type": "markdown",
   "metadata": {
    "slideshow": {
     "slide_type": "slide"
    }
   },
   "source": [
    "## Pattern: Recovery Block"
   ]
  },
  {
   "cell_type": "markdown",
   "metadata": {
    "slideshow": {
     "slide_type": "slide"
    }
   },
   "source": [
    "The recovery block goes back to [Horning et al (1974)](https://dl.acm.org/citation.cfm?id=733522), based on an analysis of existing software. [Randell (1975)](https://doi.org/10.1145/800027.808467) ([reprint](https://doi.org/10.1007/978-3-642-82470-8_7)) gives it following syntactic form, where `A` is a Boolean expression, the _acceptance test,_ `S₁`, `S₂`, `S₃` are the alternatives in that order of preference. If one alternative fails, the original state is restored before the next is taken. If all fail, the whole statement fails. To the right is the formulation with exceptions that generalize the original formulation by allowing each alternative to have a different acceptance test.\n",
    "<div style=\"display:table\">\n",
    "  <div style = \"display:table-cell; border-left:2em solid transparent\">\n",
    "\n",
    "```algorithm\n",
    "ensure A\n",
    "by S₁\n",
    "else by S₂\n",
    "else by S₃\n",
    "else error\n",
    "```\n",
    "  </div>\n",
    "  <div style = \"display:table-cell; border-left:6em solid transparent\">\n",
    "\n",
    "```algorithm\n",
    "backup\n",
    "try S₁ ; assert A₁\n",
    "catch\n",
    "    restore\n",
    "    try S₂ ; assert A₂\n",
    "    catch\n",
    "        restore\n",
    "        try S₃ ; assert A₃\n",
    "        catch restore ; raise\n",
    "```\n",
    "  </div>\n",
    "</div>"
   ]
  },
  {
   "cell_type": "markdown",
   "metadata": {
    "slideshow": {
     "slide_type": "slide"
    }
   },
   "source": [
    "Let `RB` be the above statement, `P` the precondition, and `Q` the desired postcondition. If\n",
    "- `backup` succeeds in making a backup or fails, but preserves the precondition in that case,\n",
    "```algorithm\n",
    "{P}  backup  {P ∧ B, P}\n",
    "```\n",
    "- `restore` always succeeds in restoring the original precondition and preserves the backup,\n",
    "```algorithm\n",
    "{B}  restore  {P ∧ B}\n",
    "```\n",
    "- each alternative either succeeds or fails and, in any case, preserves the backup,\n",
    "```algorithm\n",
    "{P ∧ B}  Sᵢ  {Qᵢ ∧ B, B}\n",
    "```\n",
    "- if the acceptance test passes, the desired postcondition is established,\n",
    "```algorithm\n",
    "Qᵢ ∧ Aᵢ ⇒ Q\n",
    "```\n",
    "\n",
    "then the recovery block is partially correct with respect to `P`, `Q`:\n",
    "```algorithm\n",
    "{P}  RB  {Q, P}\n",
    "```"
   ]
  },
  {
   "cell_type": "markdown",
   "metadata": {
    "slideshow": {
     "slide_type": "slide"
    }
   },
   "source": [
    "## Pattern: Bounded Retry"
   ]
  },
  {
   "cell_type": "markdown",
   "metadata": {
    "slideshow": {
     "slide_type": "slide"
    }
   },
   "source": [
    "```algorithm\n",
    "while n > 0 do\n",
    "    try S ; n := 0\n",
    "    catch\n",
    "        T ; n := n - 1\n",
    "        if n = 0 then raise\n",
    "```\n",
    "The role of statement `T` is to \"clean up\" so that `S` can be attempted again. Let `BR` stand for above statement. If\n",
    "```algorithm\n",
    "\t{P}  S  {Q, R}\n",
    "    {R}  T  {P}\n",
    "```\n",
    "then\n",
    "```algorithm\n",
    "\t{n ≥ 0 ∧ P}   BR   {Q, P}\n",
    "```\n",
    "The postconditions `P` and `Q` can be strengthened to include `n = 0`."
   ]
  },
  {
   "cell_type": "markdown",
   "metadata": {
    "slideshow": {
     "slide_type": "slide"
    }
   },
   "source": [
    "## Pattern: Bounded Retry with Rollback and Pause"
   ]
  },
  {
   "cell_type": "markdown",
   "metadata": {
    "slideshow": {
     "slide_type": "slide"
    }
   },
   "source": [
    "This is similar to a recommended pattern for [Azure](https://docs.microsoft.com/en-us/azure/architecture/patterns/retry).\n",
    "```algorithm\n",
    "backup\n",
    "while n > 0 do\n",
    "    try S ; n := 0\n",
    "    catch\n",
    "        restore ; n := n - 1\n",
    "        if n = 0 then raise\n",
    "        pause\n",
    "```\n",
    "Statements `S`, `restore`, `pause` must not modify `n`. The role of `pause` is to delay execution so that another attempt is more likely to succeed. Let `RR` stand for above statement. If\n",
    "```algorithm\n",
    "{P}  backup  {P ∧ B, P}\n",
    "{B}  restore  {P ∧ B}\n",
    "{P ∧ B}  S  {Q, B}\n",
    "```\n",
    "then\n",
    "```algorithm\n",
    "\t{n ≥ 0 ∧ P}   RR   {Q, P}\n",
    "```\n",
    "The postconditions `P` and `Q` can be strengthened to include `n = 0`."
   ]
  },
  {
   "cell_type": "markdown",
   "metadata": {
    "slideshow": {
     "slide_type": "slide"
    }
   },
   "source": [
    "## Pattern: Conditional Retry"
   ]
  },
  {
   "cell_type": "markdown",
   "metadata": {
    "slideshow": {
     "slide_type": "slide"
    }
   },
   "source": [
    "This pattern mimics Eiffel's `rescue` and `retry` statements:\n",
    "```algorithm\n",
    "done := false\n",
    "while ¬done and B do\n",
    "    try S ; done := true\n",
    "    catch T\n",
    "if ¬done then raise\n",
    "```\n",
    "Let `CR` stand for above statement. If\n",
    "```algorithm\n",
    "{∆B ∧ B' ∧ P}  S  {Q, R}\n",
    "{R}  T  {P}\n",
    "```\n",
    "then:\n",
    "```algorithm\n",
    "{P}  CR  {Q, P}\n",
    "```\n",
    "If `B` is not defined, i.e. `¬∆B`, then the statement terminates exceptionally with `P`."
   ]
  },
  {
   "cell_type": "markdown",
   "metadata": {
    "slideshow": {
     "slide_type": "slide"
    }
   },
   "source": [
    "## Eiffel Exceptions"
   ]
  },
  {
   "cell_type": "markdown",
   "metadata": {
    "slideshow": {
     "slide_type": "slide"
    }
   },
   "source": [
    "Eiffel statements have three exits,\n",
    "- the normal exit,\n",
    "- an exit when an exception is raised, and\n",
    "- an exit for _retrying_ a method body.\n",
    "\n",
    "Postconditions are now triples `{Q, X, R}` of the normal postcondition `Q`, the exceptional postcondition `X`, and the retry postcondition `R`. If `R` or `X, R` are left out, they are assume to be `false`.\n",
    "\n",
    "Method `sqrt` computes the approximate integer square root of `n` in the interval `l .. u`. Let `p` be `0 ≤ l < u ∧ l² ≤ n < u²`:\n",
    "```algorithm\n",
    "sqrt(n, l, u : INTEGER) : INTEGER\n",
    "    {p}\n",
    "    local\n",
    "        m : INTEGER\n",
    "    {rescue invariant: p}\n",
    "    do\n",
    "        {loop invariant: p}\n",
    "        from until u − l = 1 loop\n",
    "            m := l + (u − l) // 2\n",
    "            {p ∧ m = (l + u) // 2}\n",
    "            if n < m ∗ m then u := m else l := m end\n",
    "            {p, p ∧ m = (l + u) // 2 ∧ n < m²}\n",
    "        end\n",
    "        {p ∧ u − l = 1}\n",
    "        Result := l\n",
    "    rescue\n",
    "        {p ∧ m = (l + u) // 2 ∧ n < m²}\n",
    "        u := m\n",
    "        {p}\n",
    "        retry\n",
    "        {false, false, p}\n",
    "```"
   ]
  },
  {
   "cell_type": "markdown",
   "metadata": {
    "slideshow": {
     "slide_type": "slide"
    }
   },
   "source": [
    "## Try-Catch-Finally"
   ]
  },
  {
   "cell_type": "markdown",
   "metadata": {
    "slideshow": {
     "slide_type": "slide"
    }
   },
   "source": [
    "The statement `try S finally U` always executes `U`, whether `S` terminates normally or exceptionally. The whole statement terminates normally only if both `S` and `U` do so as well; otherwise, it terminates exceptionally:\n",
    "<div style=\"float:left;border-left:2em solid transparent\">\n",
    "\n",
    "```algorithm\n",
    "try S finally U\n",
    "```\n",
    "\n",
    "</div>\n",
    "<img style=\"float:left;border-left:6em solid transparent\" src=\"./img/TryFinallyAnnotation.svg\"/>"
   ]
  },
  {
   "cell_type": "markdown",
   "metadata": {
    "slideshow": {
     "slide_type": "slide"
    }
   },
   "source": [
    "```\n",
    "try S finally U   =   try S catch (U ; raise) ; U\n",
    "```"
   ]
  },
  {
   "cell_type": "markdown",
   "metadata": {
    "slideshow": {
     "slide_type": "slide"
    }
   },
   "source": [
    "Intuitively,\n",
    "- the `catch` statement ensures _safety_ by establishing a consistent state,\n",
    "- the `finally` statement ensures _liveness_ by freeing all resources (freeing memory; closing files, windows, network connections).\n",
    "\n",
    "The difficulty is that `U` is entered with two different preconditions and exited differently. If\n",
    "```algorithm\n",
    "{P}  S  {Q, X}\n",
    "{Q}  U  {R, Y}\n",
    "{X}  U  {Y, Y}\n",
    "```\n",
    "then:\n",
    "```algorithm\n",
    "{P}  try S finally U  {Q, Y}\n",
    "```"
   ]
  },
  {
   "cell_type": "markdown",
   "metadata": {},
   "source": [
    "This rule would require two separate annotations of `U`, which would make it awkward in practice. The key is to design `U` such that\n",
    "- `U` never fails: Suppose `U` failed when started in `Q`; in that case `Y` has to be sufficiently weak so it can also be established (by `U`) from `X` and whatever `S` achieved by establishing `Q` is \"lost\". Supposed `U` failed when started in `X`; as both normal and exceptional termination leads to the same condition `Y`, that has to be weak enough,\n",
    "- `U` only \"cleans up\" by affecting some variables that are not mentioned in `Q` and `X`, so `R` and include `Q` and `Y` can include `X`,\n",
    "- the precondition of `U` is implied by both `Q` and `X`."
   ]
  },
  {
   "cell_type": "markdown",
   "metadata": {
    "slideshow": {
     "slide_type": "slide"
    }
   },
   "source": [
    "(**Draft**) The nondeterministic assignment `v := ?` sets `v` to an arbitrary value of its type and `S ⫿ T` chooses nondeterministically between `S` and `T`. Suppose `File` is defined by:\n",
    "```algorithm\n",
    "class File \n",
    "    var s: {closed, reading, writing} = closed\n",
    "    var c: seq(byte)\n",
    "    var p: integer\n",
    "    method reset(fn: string)\n",
    "        if s = closed → skip ⫿ true → raise \n",
    "        s, p, c := reading, 0, ?\n",
    "    method rewrite(fn: string)\n",
    "        if s = closed → skip ⫿ true → raise \n",
    "        s, c := writing, []\n",
    "    method close()\n",
    "        if s ≠ closed → skip ⫿ true → raise \n",
    "        s := closed\n",
    "    method read() → (b: byte)\n",
    "        if s = reading → skip ⫿ true → raise \n",
    "        b, p := c(p), p + 1\n",
    "    method write(b: byte)\n",
    "        if s = writing → skip ⫿ true → raise \n",
    "        c := c + [b]\n",
    "    method eof → (e: boolean)\n",
    "        if s = reading → skip ⫿ true → raise \n",
    "        e := p = #c\n",
    "```\n",
    "_Note:_ `if s = closed → skip ⫿ true → raise` can equivalently be expressed as `raise ⫿ assert s = closed`.\n",
    "\n",
    "_Exercise:_ Develop a reliable program to copy file `\"hocus\"` to file `\"pocus\"`!"
   ]
  },
  {
   "cell_type": "markdown",
   "metadata": {},
   "source": [
    "```algorithm\n",
    "var h, p: File\n",
    "var e: boolean, b: byte\n",
    "h ← new File() ; p ← new File()\n",
    "try\n",
    "    h.reset(\"hocus\")\n",
    "    try\n",
    "        p.rewrite(\"pocus\")\n",
    "        e ← h.eof()\n",
    "        while ¬e do\n",
    "            b ← h.read() ; p.write(b) ; e ← h.eof()\n",
    "    finally\n",
    "        p.rewrite(\"pocus\") ; p.close()\n",
    "finally\n",
    "    h.close()\n",
    "```"
   ]
  },
  {
   "cell_type": "markdown",
   "metadata": {
    "slideshow": {
     "slide_type": "slide"
    }
   },
   "source": [
    "## Procedures"
   ]
  },
  {
   "cell_type": "markdown",
   "metadata": {
    "slideshow": {
     "slide_type": "slide"
    }
   },
   "source": [
    "Consider a general procedure specification of the form:\n",
    "```\n",
    "procedure p(v: V) → (w: W)\n",
    "   modifies  u\n",
    "   requires  P(u, v)\n",
    "   ensures  Q(u₀, u, v, w)\n",
    "   S\n",
    "```\n",
    "Extending partial correctness to procedures, the implementation `S` is partially correct with respect to its specification if `S` either establishes the desired postcondition `Q` on normal termination or preserves the precondition on exceptional termination:\n",
    "```algorithm\n",
    "{P(u, v) ⋀ u₀ = u}  S  {Q(u₀, u, v, w), P(u, v)}\n",
    "{P(u, v) ⋀ u₀ = u}  S  {Q(u₀, u, v, w)}\n",
    "```"
   ]
  },
  {
   "cell_type": "markdown",
   "metadata": {
    "slideshow": {
     "slide_type": "slide"
    }
   },
   "source": [
    "## Classes"
   ]
  },
  {
   "cell_type": "markdown",
   "metadata": {
    "slideshow": {
     "slide_type": "slide"
    }
   },
   "source": [
    "Consider the following specification of stacks. All fields are \"private\", and all methods are \"public\". The class is meant to be _abstract_ as it serves only for specification. (In Java, this could be expressed by an `interface`.)\n",
    "\n",
    "```algorithm\n",
    "class Stack\n",
    "\tvar s: seq(integer)\n",
    "\tmethod push(x: integer)\n",
    "        ensures s = [x] + s₀\n",
    "    method pop() → (x: integer)\n",
    "        requires s ≠ []\n",
    "        ensure x, s = s₀(0), s₀[1:] \n",
    "    method empty → (r: boolean)\n",
    "        ensures r, s = (s = []), s₀\n",
    "```"
   ]
  },
  {
   "cell_type": "markdown",
   "metadata": {
    "slideshow": {
     "slide_type": "slide"
    }
   },
   "source": [
    "The implementation shall store the elements of the sequence in an array of fixed size. This implies that `push` cannot be faithful to its specification, which does not set an upper bound on the length of the stack. Using dynamically allocated data structures can alleviate that, but due to the finiteness of memory, that will eventually lead to the same problem. For simplicity, we discuss a _partial class implementation_ with arrays of fixed size:\n",
    "```algorithm\n",
    "class ArrayStack implements Stack\n",
    "    const C = 100\n",
    "\tvar a: array 0 .. C - 1 of integer\n",
    "    var n: integer = 0\n",
    "    {CI: 0 ≤ n ≤ C ∧ s = reverse(a[0 : n - 1])}\n",
    "\tmethod push(x: integer)\n",
    "        a(n), n := x, n + 1\n",
    "    method pop() → (x: integer)\n",
    "        x, n := a(n - 1), n - 1\n",
    "    method empty → (r: boolean)\n",
    "        r := n = 0\n",
    "```\n",
    "The _concrete invariant_ of `ArrayStack` is\n",
    "```\n",
    "0 ≤ n ≤ C\n",
    "```\n",
    "and the _abstraction function_ from `ArrayStack` to `Stack` is\n",
    "```\n",
    "s = reverse(a[0 : n - 1])\n",
    "```\n",
    "Their conjunction is the _coupling invariant_ or _abstraction relation_. With a totally correct implementation, each method would preserve the coupling invariant, which is not the case here."
   ]
  },
  {
   "cell_type": "markdown",
   "metadata": {},
   "source": [
    "Consider\n",
    "```algorithm\n",
    "class C\n",
    "    var a: A\n",
    "    method m\n",
    "        requires P(a)\n",
    "        ensures Q(a₀, a)\n",
    "```\n",
    "```\n",
    "class D implements C\n",
    "    var b: B\n",
    "    invariant I(a, b)\n",
    "    method m\n",
    "        T\n",
    "```\n",
    "Class `D` is a _(totally) correct implementation_ of `C` if, for every method:\n",
    "```algorithm\n",
    "{a = a₀ ∧ I(a, b) ∧ P(a)}  T  {∃ a · I(a, b) ∧ Q(a₀, a)}\n",
    "\n",
    "```\n",
    "\n",
    "Class `D` is a _partially correct implementation_ of `C` if, for every method:\n",
    "```algorithm\n",
    "{a = a₀ ∧ I(a, b) ∧ P(a)}  T  {∃ a · I(a, b) ∧ Q(a₀, a), ∃ a · a = a₀ ∧ I(a, b) ∧ P(a)}\n",
    "\n",
    "```"
   ]
  },
  {
   "cell_type": "markdown",
   "metadata": {
    "slideshow": {
     "slide_type": "slide"
    }
   },
   "source": [
    "Method `push` is only partially correct, meaning:\n",
    "```algorithm\n",
    "{s = s₀ ∧ CI}  a(n), n := x, n + 1  {∃ s · CI ∧ s = [x] + s₀, ∃ s · s = s₀ ∧ CI}\n",
    "```\n",
    "For the proof, we rewrite `a(n) := x` as `a := (a; n: x)`, so the condition becomes:\n",
    "\n",
    "<span style = \"float:right\">(1)</span>\n",
    "```algorithm\n",
    "{s = s₀ ∧ CI}  a, n := (a; n: x), n + 1  {∃ s · CI ∧ s = [x] + s₀, ∃ s · s = s₀ ∧ CI}\n",
    "```\n",
    "From the definition of `∆` follows that `∆(a; n: x) = 0 ≤ n < C`. Assuming that addition wil not overflow, we have `∆(n + 1) = true`. Applying the rules for the correctness of statements with exceptions, (1) holds if:\n",
    "\n",
    "<span style = \"float:right\">(1.1)</span>\n",
    "```algorithm\n",
    "CI ∧ s = s₀ ∧ 0 ≤ n < C ⇒ (∃ s · CI ∧ s = [x] + s₀)[a, n := (a; n: x), n + 1]\n",
    "```\n",
    "\n",
    "<span style = \"float:right\">(1.2)</span>\n",
    "```algorithm\n",
    "CI ∧ s = s₀ ∧ ¬(0 ≤ n < C) ⇒ (∃ s · s = s₀ ∧ CI)\n",
    "```\n",
    "\n",
    "For (1.1) we have:\n",
    "```algorithm\n",
    "    CI ∧ s = s₀ ∧ 0 ≤ n < C ⇒ (∃ s · CI ∧ s = [x] + s₀)[a, n := (a; n: x), n + 1]\n",
    "≡        «substitution, definition of CI»\n",
    "    CI ∧ s = s₀ ∧ 0 ≤ n < C ⇒ (∃ s · 0 ≤ n + 1 ≤ C ∧ s = reverse((a; n: x)[0 : n]) ∧ s = [x] + s₀)\n",
    "≡        «definition of CI, one-point rule» \n",
    "    0 ≤ n < C ⇒ 0 ≤ n + 1 ≤ C ∧ reverse((a; n: x)[0 : n]) = [x] + reverse(a[0 : n - 1])\n",
    "≡        «arithmetic, property of reverse» \n",
    "    reverse((a; n: x)[0 : n]) = reverse(a[0 : n - 1] + [x])\n",
    "⇐        «Leibnitz» \n",
    "    (a; n: x)[0 : n] = a[0 : n - 1] + [x])\n",
    "≡        «from definition of slicing» \n",
    "    true\n",
    "```\n",
    "\n",
    "For (1.2) we have:\n",
    "```algorithm\n",
    "    CI ∧ s = s₀ ∧ ¬(0 ≤ n < C) ⇒ (∃ s · s = s₀ ∧ CI)\n",
    "≡        «definition of CI, one-point rule»\n",
    "    0 ≤ n ≤ C ∧ s = reverse(a[0 : n - 1]) ∧ ¬(0 ≤ n < C) ⇒ 0 ≤ n ≤ C ∧ s = reverse(a[0 : n - 1])\n",
    "⇐        «arithmetic, logic»\n",
    "    n = C ⇒ 0 ≤ n ≤ C\n",
    "≡        «logic»\n",
    "    true\n",
    "```\n",
    "\n",
    "_Exercise:_ State if `pop` and `empty` are totally or partially correct and give the proofs!\n",
    "\n",
    "_Question:_ Is following implementation of `push` and `pop` also partially correct?\n",
    "```\n",
    "\tmethod push(x: integer)\n",
    "        a(n) := x ;  n := n + 1\n",
    "    method pop() → (x: integer)\n",
    "        n := n - 1; x := a(n)\n",
    "```"
   ]
  },
  {
   "cell_type": "markdown",
   "metadata": {
    "slideshow": {
     "slide_type": "fragment"
    }
   },
   "source": [
    "Above, `push` on a full stack will raise an exception without changing `a` or `n`. However, `pop` on an empty stack will change `n` before raising an exception, violating the coupling invariant.\n",
    "\n",
    "The alternative to employing partial correctness is incorporating all possible implementation restrictions in the specification. In that case, `Stack` would be an unimplementable specification."
   ]
  },
  {
   "cell_type": "markdown",
   "metadata": {
    "slideshow": {
     "slide_type": "slide"
    }
   },
   "source": [
    "## Summary"
   ]
  },
  {
   "cell_type": "markdown",
   "metadata": {
    "slideshow": {
     "slide_type": "slide"
    }
   },
   "source": [
    "- Despite putting forth the best effort in the design, the possibility of faults remains, and programs need to respond to faults. \n",
    "- Exception handling with `try-catch` statements allows systematic treatment of faults (c.f. resumption).\n",
    "- The notion of _partial correctness_ is a methodological guide: either the desired postcondition is established, or the precondition is re-established. In particular, it allows for _unanticipated failures_.\n",
    "- Exception patterns: _masking,_ _flagging,_ _propagating,_ _rollback,_ _degraded service,_ _recovery block,_ _bounded retry,_ _conditional retry_. These state what kind of unanticipated exception can be tolerated.\n",
    "- Use of exception should reserved for failures rather than as an extra control structure. Otherwise, the intention gets blurred.\n",
    "- Distinguishing between different exception types is not essential for most exception patterns. In the above pattern, the only use is to guide the retrying patterns, whether a retry is advisable."
   ]
  }
 ],
 "metadata": {
  "kernelspec": {
   "display_name": "Python 3 (ipykernel)",
   "language": "python",
   "name": "python3"
  },
  "language_info": {
   "codemirror_mode": {
    "name": "ipython",
    "version": 3
   },
   "file_extension": ".py",
   "mimetype": "text/x-python",
   "name": "python",
   "nbconvert_exporter": "python",
   "pygments_lexer": "ipython3",
   "version": "3.13.0"
  },
  "livereveal": {
   "height": "900",
   "history": true,
   "margin": "0.01",
   "progress": true,
   "scroll": true,
   "start_slideshow_at": "selected",
   "theme": "night",
   "width": "1440"
  }
 },
 "nbformat": 4,
 "nbformat_minor": 4
}
