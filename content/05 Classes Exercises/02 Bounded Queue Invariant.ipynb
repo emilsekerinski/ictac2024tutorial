{
 "cells": [
  {
   "cell_type": "markdown",
   "metadata": {
    "nbgrader": {
     "grade": false,
     "grade_id": "cell-28f406e2470f7b88",
     "locked": true,
     "schema_version": 3,
     "solution": false,
     "task": false
    }
   },
   "source": [
    "### Bounded Queue Invariant\n",
    "\n",
    "Consider following implementation of a bounded queue by an array of fixed size; `C ≥ 1` is a constant, the capacity of the queue:\n",
    "\n",
    "```algorithm\n",
    "class BoundedQueue\n",
    "    var buf: 0 .. C – 1 → T\n",
    "    var in, out, n = 0, 0, 0\n",
    "    method put(x: T)\n",
    "        {n < C}\n",
    "        buf(in), in, n := x, (in + 1) mod C, n + 1\n",
    "    method get() → (x: T)\n",
    "        {n > 0}\n",
    "        x, out, n := buf(out), (out + 1) mod C, n – 1\n",
    "    method size() → (s: int)\n",
    "        s := n\n",
    "```\n",
    "\n",
    "The fields `in`, `out`, `n` are initialized with the declaration, which is a shorthand for writing corresponding assignments in the initialization, i.e. for:\n",
    "\n",
    "```algorithm\n",
    "    initialization()\n",
    "        in, out, n := 0, 0, 0\n",
    "```\n",
    "\n",
    "What is \"the\" invariant of this class? A class have many invariants, e.g. `true` is always an invariant. You are asked to state the strongest invariant. Prove that class is correct with respect to the stated invariant!"
   ]
  },
  {
   "cell_type": "markdown",
   "metadata": {
    "solution": "hidden",
    "solution_first": true
   },
   "source": [
    "```\n",
    "Your answer here\n",
    "```"
   ]
  }
 ],
 "metadata": {
  "celltoolbar": "Create Assignment",
  "kernelspec": {
   "display_name": "Python 3 (ipykernel)",
   "language": "python",
   "name": "python3"
  },
  "language_info": {
   "codemirror_mode": {
    "name": "ipython",
    "version": 3
   },
   "file_extension": ".py",
   "mimetype": "text/x-python",
   "name": "python",
   "nbconvert_exporter": "python",
   "pygments_lexer": "ipython3",
   "version": "3.13.0"
  },
  "rise": {
   "enable_chalkboard": true
  }
 },
 "nbformat": 4,
 "nbformat_minor": 4
}
