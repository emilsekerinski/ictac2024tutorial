{
 "cells": [
  {
   "cell_type": "markdown",
   "metadata": {
    "nbgrader": {
     "grade": false,
     "grade_id": "cell-6add0fcb241faa8c",
     "locked": true,
     "schema_version": 3,
     "solution": false,
     "task": false
    }
   },
   "source": [
    "### Bounded Queue in Java with Assertions [3 points]\n",
    "\n",
    "Taking the implementation below, add assertions to check the preconditions and the strongest invariant! Recall that in Java arrays are pointers to the heap, so the invariant must ensure that the pointer is not `null`. "
   ]
  },
  {
   "cell_type": "code",
   "execution_count": null,
   "metadata": {
    "nbgrader": {
     "grade": false,
     "grade_id": "cell-75800fa033dc3c9c",
     "locked": true,
     "schema_version": 3,
     "solution": false,
     "task": false
    }
   },
   "outputs": [],
   "source": [
    "%%writefile BoundedQueue.java\n",
    "class BoundedQueue<T> {\n",
    "    T[] buf;\n",
    "    int in = 0, out = 0, n = 0;\n",
    "    BoundedQueue(int cap) {\n",
    "        buf = (T[]) new Object[cap];\n",
    "    }\n",
    "    void put(T x) {\n",
    "        buf[in] = x; in = (in + 1) % buf.length; n += 1;\n",
    "    }\n",
    "    T get() {\n",
    "        T x = buf[out]; out = (out + 1) % buf.length; n -= 1;\n",
    "        return x;\n",
    "    }\n",
    "    int size() {\n",
    "        return n;\n",
    "    }\n",
    "}"
   ]
  },
  {
   "cell_type": "code",
   "execution_count": null,
   "metadata": {
    "nbgrader": {
     "grade": true,
     "grade_id": "cell-9005947ccd48b76c",
     "locked": false,
     "points": 3,
     "schema_version": 3,
     "solution": true,
     "task": false
    }
   },
   "outputs": [],
   "source": [
    "YOUR ANSWER HERE"
   ]
  },
  {
   "cell_type": "code",
   "execution_count": null,
   "metadata": {
    "scrolled": true
   },
   "outputs": [],
   "source": [
    "!javac -Xlint BoundedQueue.java"
   ]
  },
  {
   "cell_type": "markdown",
   "metadata": {
    "nbgrader": {
     "grade": false,
     "grade_id": "cell-9a07c7a3e33a9d80",
     "locked": true,
     "schema_version": 3,
     "solution": false,
     "task": false
    }
   },
   "source": [
    "The `-Xlint` command line options enables all recommended warnings. Note that in Java, it is not possible to create an array of `T` object if `T` is a type parameter: one can only create an array of `Object` and pretend it to be an array of `T`. The Java compiler issues a warning as it might be possible that `buf` contains objects that are not `T`, even if that is not the case above. In general, the invariant would need to include that all elements of `buf` are indeed of type `T`. You can add `@SuppressWarnings(\"unchecked\")` to the class to suppress this kind of warnings."
   ]
  }
 ],
 "metadata": {
  "celltoolbar": "Create Assignment",
  "kernelspec": {
   "display_name": "Python 3 (ipykernel)",
   "language": "python",
   "name": "python3"
  },
  "language_info": {
   "codemirror_mode": {
    "name": "ipython",
    "version": 3
   },
   "file_extension": ".py",
   "mimetype": "text/x-python",
   "name": "python",
   "nbconvert_exporter": "python",
   "pygments_lexer": "ipython3",
   "version": "3.13.0"
  },
  "rise": {
   "enable_chalkboard": true
  }
 },
 "nbformat": 4,
 "nbformat_minor": 4
}
