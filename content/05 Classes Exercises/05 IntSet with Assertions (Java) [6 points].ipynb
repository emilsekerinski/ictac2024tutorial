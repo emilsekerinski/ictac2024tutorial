{
 "cells": [
  {
   "cell_type": "markdown",
   "metadata": {
    "nbgrader": {
     "grade": false,
     "grade_id": "cell-ae91c635890be898",
     "locked": true,
     "schema_version": 3,
     "solution": false,
     "task": false
    }
   },
   "source": [
    "### IntSet with Assertions (Java) [6 points]\n",
    "\n",
    "The Java implementation of `IntSet` below has the capacity as a parameter of the constructor rather than a constant. Add assertions to check the class and loop invariants. Add method `intSetInvariantOK` to `IntSet` to check its invariant and method `maxIntSetInvariantOK` to `MaxIntSet` to check its invariant, such that the check in `MaxIntSet` includes the check of `IntSet` (but not the other way round). Add also checks for the loop invariants; for this, you may introduce additional methods if that shortens your solution. The pattern for checking loop invariants is:\n",
    "```Java\n",
    "    assert loopInvariantOK;\n",
    "    while (guard) {\n",
    "        body; assert loopInvariantOk;\n",
    "    }\n",
    "```\n",
    "Often assertion checks consist of several conditions, as in:\n",
    "```Java\n",
    "    boolean invariantOK() {return A && B;}\n",
    "```\n",
    "To see which condition is violated, one can instead write:\n",
    "```Java\n",
    "    boolean invariantOK() {assert A; assert B; return true;}\n",
    "```\n",
    "This way, the message for an assertion violation will point to the assert statement that failed. Use this style in this question.\n",
    "\n",
    "Note that the two methods for class invariant checking are given different names: if they had the same name, say `invariantOK()`, a call to that method in `IntSet` (at the end of another method) would go to `invariantOK()` of `MaxIntSet` due to dynamic binding. That is not correct, methods of `IntSet` should only check the invariant of `IntSet`, as these may be called within methods of `MaxIntSet` (or some other class that extends `IntSet`) where the invariant of `MaxIntSet` is not expected to hold. Recall that invariants have to hold only a the beginning and end of methods, not in between.\n",
    "\n",
    "You can add test cases as you like; they are not being graded."
   ]
  },
  {
   "cell_type": "code",
   "execution_count": null,
   "metadata": {
    "nbgrader": {
     "grade": false,
     "grade_id": "cell-b643a629d5601129",
     "locked": true,
     "schema_version": 3,
     "solution": false,
     "task": false
    }
   },
   "outputs": [],
   "source": [
    "%%writefile intset.java\n",
    "class IntSet {\n",
    "    int a[];\n",
    "    int n;\n",
    "    boolean intSetInvariantOK() {\n",
    "        // return true if 0 ≤ n ≤ a.length ∧ (∀ i ∈ 0 .. n - 1, j ∈ i + 1 .. n - 1 · a[i] ≠ a[j])\n",
    "        // otherwise fail\n",
    "        ...\n",
    "    }\n",
    "    IntSet(int capacity) {\n",
    "        a = new int[capacity]; n = 0;\n",
    "    }\n",
    "    void add(int x) {\n",
    "        int i = 0;\n",
    "        while (i < n && a[i] != x) {\n",
    "            i += 1;\n",
    "        }\n",
    "        if (i == n) {\n",
    "            a[n] = x; n += 1;\n",
    "        }\n",
    "    }\n",
    "    boolean has(int x) {\n",
    "        int i = 0;\n",
    "        while (i < n && a[i] != x) {\n",
    "            i += 1;\n",
    "        }\n",
    "        return i < n;\n",
    "    }\n",
    "}\n",
    "class MaxIntSet extends IntSet {\n",
    "    int m;\n",
    "    boolean maxIntSetInvariantOK() {\n",
    "        assert intSetInvariantOK();\n",
    "        // return true if n > 0 ⇒ m = max(a[0 .. n - 1])\n",
    "        // otherwise fail\n",
    "        ...\n",
    "    }\n",
    "    MaxIntSet(int capacity) {\n",
    "        super(capacity);\n",
    "    }\n",
    "    void add(int x) {\n",
    "        super.add(x);\n",
    "        if (n == 1) m = x;\n",
    "        else m = m > x ? m : x;\n",
    "    }\n",
    "    int maximum(){\n",
    "        return m;\n",
    "    }\n",
    "}\n",
    "class TestMaxIntSet {\n",
    "    public static void main(String[] args) {\n",
    "        MaxIntSet s = new MaxIntSet(3); s.add(5); s.add(7);\n",
    "        System.out.println(s.maximum());\n",
    "    }\n",
    "}"
   ]
  },
  {
   "cell_type": "code",
   "execution_count": null,
   "metadata": {
    "nbgrader": {
     "grade": true,
     "grade_id": "cell-dfc165d7d8dd4b8c",
     "locked": false,
     "points": 3,
     "schema_version": 3,
     "solution": true,
     "task": false
    }
   },
   "outputs": [],
   "source": [
    "YOUR ANSWER HERE"
   ]
  },
  {
   "cell_type": "code",
   "execution_count": null,
   "metadata": {},
   "outputs": [],
   "source": [
    "!javac intset.java"
   ]
  },
  {
   "cell_type": "code",
   "execution_count": null,
   "metadata": {},
   "outputs": [],
   "source": [
    "!java -ea TestMaxIntSet"
   ]
  },
  {
   "cell_type": "markdown",
   "metadata": {
    "nbgrader": {
     "grade": false,
     "grade_id": "cell-e4b45cbbab71d1ec",
     "locked": true,
     "schema_version": 3,
     "solution": false,
     "task": false
    }
   },
   "source": [
    "What is the computational effort of checking the class and loop invariants compared to the actual computation?"
   ]
  },
  {
   "cell_type": "markdown",
   "metadata": {
    "nbgrader": {
     "grade": true,
     "grade_id": "cell-0bd78627c9f0faec",
     "locked": false,
     "points": 3,
     "schema_version": 3,
     "solution": true,
     "task": false
    }
   },
   "source": [
    "The original methods `add` and `has` run in time linear to `n`, the number of elements in the set. Method `intSetInvariantOK` runs in `n²`, so that makes `add` and `has` run in `n²` as well. If `loopInvariantOK` of `add` and `has` calls `intSetInvariantOK`, the time becomes `n³` (it does not need to be called here as no modifications are made). The checks require such a high computational effort that negates the efficiency of the original design."
   ]
  }
 ],
 "metadata": {
  "celltoolbar": "Create Assignment",
  "kernelspec": {
   "display_name": "Python 3 (ipykernel)",
   "language": "python",
   "name": "python3"
  },
  "language_info": {
   "codemirror_mode": {
    "name": "ipython",
    "version": 3
   },
   "file_extension": ".py",
   "mimetype": "text/x-python",
   "name": "python",
   "nbconvert_exporter": "python",
   "pygments_lexer": "ipython3",
   "version": "3.13.0"
  },
  "rise": {
   "enable_chalkboard": true
  }
 },
 "nbformat": 4,
 "nbformat_minor": 4
}
