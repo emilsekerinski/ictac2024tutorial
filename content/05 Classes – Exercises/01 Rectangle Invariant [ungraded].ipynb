{
 "cells": [
  {
   "cell_type": "markdown",
   "metadata": {},
   "source": [
    "### Rectangle Invariant\n",
    "\n",
    "Consider the class `Rectangle` from the course notes:\n",
    "```algorithm\n",
    "class Rectangle\n",
    "    var x, y, w, h: integer\n",
    "    {RI: w > 0 ∧ h > 0}\n",
    "    initialization(x0, y0, w0, h0: integer)\n",
    "        {w0 > 0 ∧ h0 > 0}\n",
    "        x, y, w, h := x0, y0, w0, h0\n",
    "    method move(dx, dy: integer)\n",
    "        x, y := x + dx, y + dy\n",
    "    method mirror()\n",
    "        w, h := h, w\n",
    "    method area() → (a: integer)\n",
    "        a := w × h\n",
    "        {a > 0}\n",
    "```\n",
    "According to the rule for Correctness of Classes, `Rectangle` is correct if:\n",
    "- the initialization establishes the object invariant,\n",
    "\n",
    "<span style = \"float:right\">(1)</span>\n",
    "```algorithm\n",
    "{w0 > 0 ∧ h0 > 0}  x, y, w, h := x0, y0, w0, h0  {RI}\n",
    "```\n",
    "\n",
    "- methods `move`, `mirror`, `area` preserve the class invariant:\n",
    "\n",
    "<span style = \"float:right\">(2.1)</span>\n",
    "```algorithm\n",
    "{RI}  x, y := x + dx, y + dy  {RI}\n",
    "```\n",
    "\n",
    "<span style = \"float:right\">(2.2)</span>\n",
    "```algorithm\n",
    "{RI}  w, h := h, w  {RI}\n",
    "```\n",
    "\n",
    "<span style = \"float:right\">(2.3)</span>\n",
    "```algorithm\n",
    "{RI}  a := w × h  {RI ∧ a > 0}\n",
    "```\n",
    "Prove these four conditions!"
   ]
  },
  {
   "cell_type": "markdown",
   "metadata": {},
   "source": [
    "```\n",
    "Your answer here\n",
    "```"
   ]
  }
 ],
 "metadata": {
  "celltoolbar": "Create Assignment",
  "kernelspec": {
   "display_name": "Python 3 (ipykernel)",
   "language": "python",
   "name": "python3"
  },
  "language_info": {
   "codemirror_mode": {
    "name": "ipython",
    "version": 3
   },
   "file_extension": ".py",
   "mimetype": "text/x-python",
   "name": "python",
   "nbconvert_exporter": "python",
   "pygments_lexer": "ipython3",
   "version": "3.11.2"
  },
  "rise": {
   "enable_chalkboard": true
  }
 },
 "nbformat": 4,
 "nbformat_minor": 4
}
