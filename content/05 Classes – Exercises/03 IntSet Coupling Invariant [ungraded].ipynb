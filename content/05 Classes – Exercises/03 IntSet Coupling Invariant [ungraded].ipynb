{
 "cells": [
  {
   "cell_type": "markdown",
   "metadata": {
    "nbgrader": {
     "grade": false,
     "grade_id": "cell-8990163bf7adcbc9",
     "locked": true,
     "schema_version": 3,
     "solution": false,
     "task": false
    }
   },
   "source": [
    "### IntSet Coupling Invariant\n",
    "\n",
    "Consider following classes for maintaining a set of integers. The _subclass_ (*derived class*) `MaxIntSet` adds a new field and relates that to the fields of the _superclass_ (*base class*) `IntSet` by a *coupling invariant*. The invariant of `IntSet` is implicitly an invariant of `MaxIntSet`, even if it is not repeated in `MaxIntSet`: the invariant of `MaxIntSet` is its explicitly stated invariant conjoined with the inherited invariant of `IntSet`. Method `add` of `MaxIntSet` _overwrites_ method `add` of `IntSet` but _super-calls_ that method.\n",
    "```algorithm\n",
    "class IntSet\n",
    "    var a: 0 .. C – 1 → integer\n",
    "    var n: integer\n",
    "    {IS: 0 ≤ n ≤ C ∧ (∀ i ∈ 0 .. n - 1, j ∈ i + 1 .. n – 1 · a(i) ≠ a(j))}\n",
    "    initialization()\n",
    "        n := 0\n",
    "    method add(x: integer)\n",
    "        var i = 0\n",
    "        while i < n and a(i) ≠ x do i := i + 1\n",
    "        if i = n then a(n) := x ; n := n + 1\n",
    "    method has(x: integer) → (r: boolean)\n",
    "        var i = 0\n",
    "        while i < n and a(i) ≠ x do i := i + 1\n",
    "        r := i < n\n",
    "\n",
    "class MaxIntSet inherit IntSet\n",
    "    var m: integer\n",
    "    {n > 0 ⇒ m = max(a[0 .. n – 1])}\n",
    "    method add(x: integer)\n",
    "        super.add(x)\n",
    "        if n = 1 then m := x\n",
    "        else m := max(m, x)\n",
    "    method maximum() → (r: integer)\n",
    "        r := m\n",
    "```\n",
    "The notation `a[0 .. n – 1]` stands for the slice of `a` from `0` to `n – 1`. Add the loop invariants! You may refer to `IS` in the loop invariants."
   ]
  },
  {
   "cell_type": "markdown",
   "metadata": {
    "solution": "hidden",
    "solution_first": true
   },
   "source": [
    "```\n",
    "Your answer here\n",
    "```"
   ]
  }
 ],
 "metadata": {
  "celltoolbar": "Create Assignment",
  "kernelspec": {
   "display_name": "Python 3 (ipykernel)",
   "language": "python",
   "name": "python3"
  },
  "language_info": {
   "codemirror_mode": {
    "name": "ipython",
    "version": 3
   },
   "file_extension": ".py",
   "mimetype": "text/x-python",
   "name": "python",
   "nbconvert_exporter": "python",
   "pygments_lexer": "ipython3",
   "version": "3.13.0"
  },
  "rise": {
   "enable_chalkboard": true
  }
 },
 "nbformat": 4,
 "nbformat_minor": 4
}
