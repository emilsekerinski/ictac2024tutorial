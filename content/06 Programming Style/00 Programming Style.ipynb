{
 "cells": [
  {
   "cell_type": "markdown",
   "metadata": {
    "editable": true,
    "slideshow": {
     "slide_type": "slide"
    },
    "tags": []
   },
   "source": [
    "<div style=\"float:right;border-left:1em solid transparent\">\n",
    "    <i>Notebooks on Programming</i>\n",
    "</div>\n",
    "\n",
    "---\n",
    "# Programming Style - Draft\n",
    "**[Emil Sekerinski](http://www.cas.mcmaster.ca/~emil), McMaster University, November 2024**\n",
    "\n",
    "---\n",
    "\n",
    "<figure style=\"float:right\" >\n",
    "    <img style=\"width:9.5em\" src=\"./img/by-nc-nd.png\"/>\n",
    "    <figcaption style=\"width:13em;font-size:80%\"><a href=\"https://creativecommons.org/licenses/by-nc-nd/4.0/\">Licensed under Creative Commons CC BY-NC-ND</a>\n",
    "    </figcaption>\n",
    "</figure>"
   ]
  },
  {
   "cell_type": "markdown",
   "metadata": {
    "editable": true,
    "slideshow": {
     "slide_type": "slide"
    },
    "tags": []
   },
   "source": [
    "## Indentation"
   ]
  },
  {
   "cell_type": "markdown",
   "metadata": {
    "editable": true,
    "slideshow": {
     "slide_type": ""
    },
    "tags": []
   },
   "source": [
    "The indentation should visualize the program structure."
   ]
  },
  {
   "attachments": {},
   "cell_type": "markdown",
   "metadata": {
    "editable": true,
    "slideshow": {
     "slide_type": "slide"
    },
    "tags": []
   },
   "source": [
    "## Comments\n",
    "- Comments should not rephrase the program text. Poor examples:\n",
    "```\n",
    "x = 0\t\t// initialize x\n",
    "n = n + 1        // increment n\n",
    "```\n",
    "\n",
    "- Comments should precede very major block and explain abstractly what follows. Good example:\n",
    "```\n",
    "// search minimum in a[n .. N)\n",
    "…\n",
    "```\n",
    "- Comments should state essential annotations like invariants and selected pre- and postconditions."
   ]
  },
  {
   "cell_type": "markdown",
   "metadata": {
    "editable": true,
    "slideshow": {
     "slide_type": "slide"
    },
    "tags": []
   },
   "source": [
    "## Names"
   ]
  },
  {
   "cell_type": "markdown",
   "metadata": {
    "editable": true,
    "slideshow": {
     "slide_type": ""
    },
    "tags": []
   },
   "source": [
    "\n",
    "- Names should be readable and pronounceable. Bad names: `avrg, hdr, fopen, _x_2`\n",
    "- Names should have consistent capitalization, for example  \n",
    "  *constants* are in capitals: `N`, `MAXINT`   \n",
    "  *types* start with a capital: `List`, `Node`  \n",
    "  *operations* start with a lowercase: `displayDialog`, `sort`  \n",
    "  *variables* start with a lowercase: `queueEmpty`, `isClosed`, `average`\n",
    "- Names should be grammatically sensible:  \n",
    "  *noun phrases* for constants, types, variables  \n",
    "  *verb phrases* for operations  \n",
    "  *adjectives* for boolean variables and boolean operations"
   ]
  },
  {
   "cell_type": "markdown",
   "metadata": {
    "editable": true,
    "slideshow": {
     "slide_type": "slide"
    },
    "tags": []
   },
   "source": [
    "## Statements"
   ]
  },
  {
   "cell_type": "markdown",
   "metadata": {
    "editable": true,
    "slideshow": {
     "slide_type": ""
    },
    "tags": []
   },
   "source": [
    "- Use Boolean assignment to avoid conditionals:  \n",
    "        `if (n < N) found = true; else found = false;`  \n",
    "  should be replaced by:  \n",
    "        `found = n < N`\n",
    "- Use `while` loops in favour of `do-while` / `repeat-until` loops.\n",
    "- Avoid `break` and `continue` statements (in `while` and `if`)\n",
    "- Declare variables with the closest possible scope; `for` statements allow to make the loop variable local."
   ]
  }
 ],
 "metadata": {
  "kernelspec": {
   "display_name": "Python 3 (ipykernel)",
   "language": "python",
   "name": "python3"
  },
  "language_info": {
   "codemirror_mode": {
    "name": "ipython",
    "version": 3
   },
   "file_extension": ".py",
   "mimetype": "text/x-python",
   "name": "python",
   "nbconvert_exporter": "python",
   "pygments_lexer": "ipython3",
   "version": "3.13.0"
  },
  "livereveal": {
   "history": true,
   "margin": "0.01",
   "progress": true,
   "scroll": true,
   "start_slideshow_at": "selected"
  },
  "rise": {
   "enable_chalkboard": true,
   "theme": "simple"
  }
 },
 "nbformat": 4,
 "nbformat_minor": 4
}
