{
 "cells": [
  {
   "cell_type": "markdown",
   "metadata": {
    "nbgrader": {
     "grade": false,
     "grade_id": "cell-2dec04faf3d11931",
     "locked": true,
     "schema_version": 3,
     "solution": false,
     "task": false
    },
    "slideshow": {
     "slide_type": "slide"
    }
   },
   "source": [
    "### Three Parallel Additions"
   ]
  },
  {
   "cell_type": "markdown",
   "metadata": {
    "nbgrader": {
     "grade": false,
     "grade_id": "cell-f2fd91bfa17c01ea",
     "locked": true,
     "schema_version": 3,
     "solution": false,
     "task": false
    },
    "slideshow": {
     "slide_type": "slide"
    }
   },
   "source": [
    "Consider following program where `x` is an integer variable; you may ignore the possibility of `x` overflowing:\n",
    "\n",
    "    ⟨x := x + 2⟩ ‖ ⟨x := x + 3⟩ ‖ ⟨x := x + 4⟩\n",
    "\n",
    "Prove that under precondition `x = 0` the program establishes the postcondition `x = 9`. For this, draw a state diagram similar to the diagram for `⟨x := x + 1⟩ ‖ ⟨x := x + 2⟩` in the course notes. Use [draw.io](https://draw.io) or a similar program and insert the diagram as an svg file. The diagram has to include all the required annotations. State all conditions for the correctness of the transitions and for non-interference. You do not have to carry out the proofs [you get bonus points if you do]. "
   ]
  },
  {
   "cell_type": "markdown",
   "metadata": {},
   "source": [
    "Your answer here"
   ]
  }
 ],
 "metadata": {
  "celltoolbar": "Create Assignment",
  "kernelspec": {
   "display_name": "Python 3 (ipykernel)",
   "language": "python",
   "name": "python3"
  },
  "language_info": {
   "codemirror_mode": {
    "name": "ipython",
    "version": 3
   },
   "file_extension": ".py",
   "mimetype": "text/x-python",
   "name": "python",
   "nbconvert_exporter": "python",
   "pygments_lexer": "ipython3",
   "version": "3.8.8"
  }
 },
 "nbformat": 4,
 "nbformat_minor": 4
}
