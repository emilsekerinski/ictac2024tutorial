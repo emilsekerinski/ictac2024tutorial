{
 "cells": [
  {
   "cell_type": "markdown",
   "metadata": {
    "nbgrader": {
     "grade": false,
     "grade_id": "cell-2dec04faf3d11931",
     "locked": true,
     "schema_version": 3,
     "solution": false,
     "task": false
    },
    "slideshow": {
     "slide_type": "slide"
    },
    "solution": "hidden"
   },
   "source": [
    "### Three Parallel Additions [with solution]"
   ]
  },
  {
   "cell_type": "markdown",
   "metadata": {
    "nbgrader": {
     "grade": false,
     "grade_id": "cell-f2fd91bfa17c01ea",
     "locked": true,
     "schema_version": 3,
     "solution": false,
     "task": false
    },
    "slideshow": {
     "slide_type": "slide"
    }
   },
   "source": [
    "Consider following program where `x` is an integer variable; you may ignore the possibility of `x` overflowing:\n",
    "\n",
    "    ⟨x := x + 2⟩ ‖ ⟨x := x + 3⟩ ‖ ⟨x := x + 4⟩\n",
    "\n",
    "Prove that under precondition `x = 0` the program establishes the postcondition `x = 9`. For this, draw a state diagram similar to the diagram for `⟨x := x + 1⟩ ‖ ⟨x := x + 2⟩` in the course notes. Use [draw.io](https://draw.io) or a similar program and insert the diagram as an svg file. The diagram has to include all the required annotations. State all conditions for the correctness of the transitions and for non-interference. You do not have to carry out the proofs [you get bonus points if you do]. "
   ]
  },
  {
   "cell_type": "markdown",
   "metadata": {
    "solution": "shown",
    "solution_first": true
   },
   "source": [
    "Your answer here"
   ]
  },
  {
   "cell_type": "markdown",
   "metadata": {
    "solution": "shown"
   },
   "source": [
    "In textual form instead of diagram:\n",
    "\n",
    "```algorithm\n",
    "{x = 0}\n",
    "(\n",
    "  {x = 0 ∨ x = 3 ∨ x = 4 ∨ x = 7}\n",
    "  x := x + 2\n",
    "  {x = 2 ∨ x = 5 ∨ x = 6 ∨ x = 9}\n",
    "‖\n",
    "  {x = 0 ∨ x = 2 ∨ x = 4 ∨ x = 6}\n",
    "  x := x + 3\n",
    "  {x = 3 ∨ x = 5 ∨ x = 7 ∨ x = 9}\n",
    "‖\n",
    "  {x = 0 ∨ x = 2 ∨ x = 3 ∨ x = 5}\n",
    "  x := x + 4\n",
    "  {x = 4 ∨ x = 6 ∨ x = 7 ∨ x = 9}\n",
    ")\n",
    "{x = 9}\n",
    "```\n",
    "Correctness of the transition from the initial state:\n",
    "- `x = 0 ⇒ x = 0 ∨ x = 3 ∨ x = 4 ∨ x = 7`\n",
    "- `x = 0 ⇒ x = 0 ∨ x = 2 ∨ x = 4 ∨ x = 6`\n",
    "- `x = 0 ⇒ x = 0 ∨ x = 2 ∨ x = 3 ∨ x = 5`\n",
    "\n",
    "Correctness of the assignment statements:\n",
    "- ```algorithm\n",
    "{x = 0 ∨ x = 3 ∨ x = 4 ∨ x = 7}\n",
    "x := x + 2\n",
    "{x = 2 ∨ x = 5 ∨ x = 6 ∨ x = 9}\n",
    "```\n",
    "- ```algorithm\n",
    "{x = 0 ∨ x = 2 ∨ x = 4 ∨ x = 6}\n",
    "x := x + 3\n",
    "{x = 3 ∨ x = 5 ∨ x = 7 ∨ x = 9}\n",
    "```\n",
    "- ```algorithm\n",
    "{x = 0 ∨ x = 2 ∨ x = 3 ∨ x = 5}\n",
    "x := x + 4\n",
    "{x = 4 ∨ x = 6 ∨ x = 7 ∨ x = 9}\n",
    "```\n",
    "\n",
    "Non-interference of `x := x + 2`:\n",
    "- ```algorithm\n",
    "{(x = 0 ∨ x = 3 ∨ x = 4 ∨ x = 7) ∧ (x = 0 ∨ x = 2 ∨ x = 4 ∨ x = 6)}\n",
    "x := x + 2\n",
    "{x = 0 ∨ x = 2 ∨ x = 4 ∨ x = 6}\n",
    "```\n",
    "- ```algorithm\n",
    "{(x = 0 ∨ x = 3 ∨ x = 4 ∨ x = 7) ∧ (x = 3 ∨ x = 5 ∨ x = 7 ∨ x = 9)}\n",
    "x := x + 2\n",
    "{x = 3 ∨ x = 5 ∨ x = 7 ∨ x = 9}\n",
    "```\n",
    "- ```algorithm\n",
    "{(x = 0 ∨ x = 3 ∨ x = 4 ∨ x = 7) ∧ (x = 0 ∨ x = 2 ∨ x = 3 ∨ x = 5)}\n",
    "x := x + 2\n",
    "{x = 0 ∨ x = 2 ∨ x = 3 ∨ x = 5}\n",
    "```\n",
    "- ```algorithm\n",
    "{(x = 0 ∨ x = 3 ∨ x = 4 ∨ x = 7) ∧ (x = 4 ∨ x = 6 ∨ x = 7 ∨ x = 9)}\n",
    "x := x + 2\n",
    "{x = 4 ∨ x = 6 ∨ x = 7 ∨ x = 9}\n",
    "```\n",
    "\n",
    "Non-interference of `x := x + 3`:\n",
    "- ```algorithm\n",
    "{(x = 0 ∨ x = 2 ∨ x = 4 ∨ x = 6) ∧ (x = 0 ∨ x = 3 ∨ x = 4 ∨ x = 7)}\n",
    "x := x + 3\n",
    "{x = 0 ∨ x = 3 ∨ x = 4 ∨ x = 7}\n",
    "```\n",
    "- ```algorithm\n",
    "{(x = 0 ∨ x = 2 ∨ x = 4 ∨ x = 6) ∧ (x = 2 ∨ x = 5 ∨ x = 6 ∨ x = 9)}\n",
    "x := x + 3\n",
    "{x = 2 ∨ x = 5 ∨ x = 6 ∨ x = 9}\n",
    "```\n",
    "- ```algorithm\n",
    "{(x = 0 ∨ x = 2 ∨ x = 4 ∨ x = 6) ∧ (x = 0 ∨ x = 2 ∨ x = 3 ∨ x = 5)}\n",
    "x := x + 3\n",
    "{x = 0 ∨ x = 2 ∨ x = 3 ∨ x = 5}\n",
    "```\n",
    "- ```algorithm\n",
    "{(x = 0 ∨ x = 2 ∨ x = 4 ∨ x = 6) ∧ (x = 4 ∨ x = 6 ∨ x = 7 ∨ x = 9)}\n",
    "x := x + 3\n",
    "{x = 4 ∨ x = 6 ∨ x = 7 ∨ x = 9}\n",
    "```\n",
    "\n",
    "Non-interference of `x := x + 4`:\n",
    "- ```algorithm\n",
    "{(x = 0 ∨ x = 2 ∨ x = 3 ∨ x = 5) ∧ (x = 0 ∨ x = 3 ∨ x = 4 ∨ x = 7)}\n",
    "x := x + 4\n",
    "{x = 0 ∨ x = 3 ∨ x = 4 ∨ x = 7}\n",
    "```\n",
    "- ```algorithm\n",
    "{(x = 0 ∨ x = 2 ∨ x = 3 ∨ x = 5) ∧ (x = 2 ∨ x = 5 ∨ x = 6 ∨ x = 9)}\n",
    "x := x + 4\n",
    "{x = 2 ∨ x = 5 ∨ x = 6 ∨ x = 9}\n",
    "```\n",
    "- ```algorithm\n",
    "{x = 0 ∨ x = 2 ∨ x = 3 ∨ x = 5) ∧ (x = 0 ∨ x = 2 ∨ x = 4 ∨ x = 6)}\n",
    "x := x + 4\n",
    "{x = 0 ∨ x = 2 ∨ x = 4 ∨ x = 6}\n",
    "```\n",
    "- ```algorithm\n",
    "{(x = 0 ∨ x = 2 ∨ x = 3 ∨ x = 5) ∧ (x = 3 ∨ x = 5 ∨ x = 7 ∨ x = 9)}\n",
    "x := x + 4\n",
    "{x = 3 ∨ x = 5 ∨ x = 7 ∨ x = 9}\n",
    "```\n",
    "\n",
    "Correctness of the transition to the final state:\n",
    "- `(x = 2 ∨ x = 5 ∨ x = 6 ∨ x = 9) ∧ (x = 3 ∨ x = 5 ∨ x = 7 ∨ x = 9) ∧ (x = 4 ∨ x = 6 ∨ x = 7 ∨ x = 9) ⇒ x = 9`"
   ]
  }
 ],
 "metadata": {
  "celltoolbar": "Create Assignment",
  "kernelspec": {
   "display_name": "Python 3 (ipykernel)",
   "language": "python",
   "name": "python3"
  },
  "language_info": {
   "codemirror_mode": {
    "name": "ipython",
    "version": 3
   },
   "file_extension": ".py",
   "mimetype": "text/x-python",
   "name": "python",
   "nbconvert_exporter": "python",
   "pygments_lexer": "ipython3",
   "version": "3.11.2"
  }
 },
 "nbformat": 4,
 "nbformat_minor": 4
}
