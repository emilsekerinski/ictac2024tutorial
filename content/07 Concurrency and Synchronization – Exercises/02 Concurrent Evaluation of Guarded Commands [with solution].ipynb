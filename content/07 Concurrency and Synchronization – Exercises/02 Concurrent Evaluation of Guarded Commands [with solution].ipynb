{
 "cells": [
  {
   "cell_type": "markdown",
   "metadata": {
    "nbgrader": {
     "grade": false,
     "grade_id": "cell-155edc14d3667376",
     "locked": true,
     "schema_version": 3,
     "solution": false,
     "task": false
    },
    "slideshow": {
     "slide_type": "slide"
    }
   },
   "source": [
    "### Concurrent Implementation of Guarded Commands [with solution]"
   ]
  },
  {
   "cell_type": "markdown",
   "metadata": {},
   "source": [
    "The guarded command `if B → S ⫿ C → T` executes `S` if `B` holds, executes `T` if `C` holds, executes either `S` or `T` if both `B` and `C` hold, and blocks if neither holds."
   ]
  },
  {
   "cell_type": "markdown",
   "metadata": {},
   "source": [
    "1. Implement `if B → S ⫿ C → T` such that `B` and `C` are evaluated concurrently but the behaviour is preserved. You may use auxiliary variables, but no atomicity brackets and no `await`."
   ]
  },
  {
   "cell_type": "markdown",
   "metadata": {
    "solution": "hidden",
    "solution_first": true
   },
   "source": [
    "```algorithm\n",
    "Your algorithm here\n",
    "```"
   ]
  },
  {
   "cell_type": "markdown",
   "metadata": {
    "solution": "hidden"
   },
   "source": [
    "_Answer:_ Auxiliary boolean variables `b` and `c` are used:\n",
    "\n",
    "```algorithm\n",
    "(b := B ‖ c := C) ; (if b → S ⫿ c → T)\n",
    "```"
   ]
  },
  {
   "cell_type": "markdown",
   "metadata": {},
   "source": [
    "2. Implement `if B → S ⫿ C → T` such that `B` and `C` are evaluated concurrently. In case both `B` and `C` hold, you may give preference to either `S` or `T`. You may use auxiliary variables, `if-then-else`, and `stop`, but no guarded `if`, no atomicity brackers, and no `await`."
   ]
  },
  {
   "cell_type": "markdown",
   "metadata": {
    "solution": "hidden",
    "solution_first": true
   },
   "source": [
    "```algorithm\n",
    "Your algorithm here\n",
    "```"
   ]
  },
  {
   "cell_type": "markdown",
   "metadata": {
    "solution": "hidden"
   },
   "source": [
    "_Answer:_ Auxiliary boolean variables `b` and `c` are used and preference to `S` is given:\n",
    "\n",
    "```algorithm\n",
    "b := B ‖ c := C\n",
    "if b then S else (if c then T else stop)\n",
    "```"
   ]
  },
  {
   "cell_type": "markdown",
   "metadata": {},
   "source": [
    "The guarded command `do B → S ⫿ C → T` executes `S` and starts over again if `B` holds, executes `T` and starts over again if `C` holds, executes either `S` or `T` if both `B` and `C` hold, and terminates if neither holds."
   ]
  },
  {
   "cell_type": "markdown",
   "metadata": {},
   "source": [
    "3. Implement `do B → S ⫿ C → T` such that `B` and `C` are evaluated concurrently but the behaviour is preserved. You may use auxiliary variables, but no atomicity brackets and no `await`. Use a loop of the form `do B → S` or, equivalently, `while B do S`."
   ]
  },
  {
   "cell_type": "markdown",
   "metadata": {
    "solution": "hidden",
    "solution_first": true
   },
   "source": [
    "```algorithm\n",
    "Your algorithm here\n",
    "```"
   ]
  },
  {
   "cell_type": "markdown",
   "metadata": {
    "solution": "hidden"
   },
   "source": [
    "_Answer:_ Auxiliary variables `b` and `c` are used:\n",
    "\n",
    "```algorithm\n",
    "b := B ‖ c := C\n",
    "do b or c →\n",
    "    if b → S ⫿ c → T\n",
    "    b := B ‖ c := C\n",
    "```"
   ]
  }
 ],
 "metadata": {
  "kernelspec": {
   "display_name": "Python 3",
   "language": "python",
   "name": "python3"
  },
  "language_info": {
   "codemirror_mode": {
    "name": "ipython",
    "version": 3
   },
   "file_extension": ".py",
   "mimetype": "text/x-python",
   "name": "python",
   "nbconvert_exporter": "python",
   "pygments_lexer": "ipython3",
   "version": "3.8.3"
  }
 },
 "nbformat": 4,
 "nbformat_minor": 4
}
