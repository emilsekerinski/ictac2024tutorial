{
 "cells": [
  {
   "cell_type": "markdown",
   "metadata": {
    "nbgrader": {
     "grade": false,
     "grade_id": "cell-155edc14d3667376",
     "locked": true,
     "schema_version": 3,
     "solution": false,
     "task": false
    },
    "slideshow": {
     "slide_type": "slide"
    }
   },
   "source": [
    "#### Multiple Assignment vs Parallel Composition"
   ]
  },
  {
   "cell_type": "markdown",
   "metadata": {},
   "source": [
    "For arbitrary expressions `E`, `F`, consider `x, y := E, F` and `x := E ; y := F`. Give an example of when these statements are equal and not equal!"
   ]
  },
  {
   "cell_type": "markdown",
   "metadata": {},
   "source": [
    "Your answer here"
   ]
  },
  {
   "cell_type": "markdown",
   "metadata": {
    "jupyter": {
     "source_hidden": true
    }
   },
   "source": [
    "_Answer:_   \n",
    "- `x := 3 ; y := 5   =   x, y := 3, 5`; also `x := y ; y := y + 1   =   x, y := y, y + 1`.\n",
    "- `x := y ; y := x   ≠   x, y := y, x`; also `x := x + 1 ; y := x   ≠   x, y := x + 1, x`. "
   ]
  },
  {
   "cell_type": "markdown",
   "metadata": {},
   "source": [
    "What are in general sufficient conditions on `E` and `F` for  `x, y := E, F` to be equal to `x := E ; y := F`?"
   ]
  },
  {
   "cell_type": "markdown",
   "metadata": {},
   "source": [
    "Your answer here"
   ]
  },
  {
   "cell_type": "markdown",
   "metadata": {
    "jupyter": {
     "source_hidden": true
    }
   },
   "source": [
    "_Answer:_  \n",
    "In general, `x` must not occur in `F`."
   ]
  },
  {
   "cell_type": "markdown",
   "metadata": {},
   "source": [
    "For arbitrary expressions `E`, `F`, consider `x, y := E, F` and `x := E ‖ y := F` when assuming that only access of individual variables is atomic. Give an example of when these statements are equal and not equal!"
   ]
  },
  {
   "cell_type": "markdown",
   "metadata": {
    "solution": "hidden",
    "solution_first": true
   },
   "source": [
    "Your answer here"
   ]
  },
  {
   "cell_type": "markdown",
   "metadata": {
    "jupyter": {
     "source_hidden": true
    },
    "solution": "hidden"
   },
   "source": [
    "_Answer:_ \n",
    "- `x, y := x + 1, y + 1    =    x := x + 1 ‖ y := y + 1`\n",
    "- `x, y := y, x    ≠    x := y ‖ y := x`. The former swaps `x` and `y`, the latter either copies `x` to `y` or `y` to `x`."
   ]
  },
  {
   "cell_type": "markdown",
   "metadata": {},
   "source": [
    "What are in general sufficient conditions on `E` and `F` for the two statements to be equivalent?"
   ]
  },
  {
   "cell_type": "markdown",
   "metadata": {},
   "source": [
    "Your answer here"
   ]
  },
  {
   "cell_type": "markdown",
   "metadata": {
    "jupyter": {
     "source_hidden": true
    }
   },
   "source": [
    "_Answer:_  \n",
    "In general, if `x` does not appear in `F` and `y` does not appear in `E`, then there is no interference in `x := E ‖ y := F`, and it is equal to `x, y := E, F`."
   ]
  }
 ],
 "metadata": {
  "kernelspec": {
   "display_name": "Python 3 (ipykernel)",
   "language": "python",
   "name": "python3"
  },
  "language_info": {
   "codemirror_mode": {
    "name": "ipython",
    "version": 3
   },
   "file_extension": ".py",
   "mimetype": "text/x-python",
   "name": "python",
   "nbconvert_exporter": "python",
   "pygments_lexer": "ipython3",
   "version": "3.11.2"
  }
 },
 "nbformat": 4,
 "nbformat_minor": 4
}
