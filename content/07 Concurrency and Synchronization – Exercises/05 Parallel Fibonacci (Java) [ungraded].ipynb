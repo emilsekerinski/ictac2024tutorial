{
 "cells": [
  {
   "cell_type": "markdown",
   "id": "bfee67db",
   "metadata": {},
   "source": [
    "### Parallel Fibonacci (Java) [ungraded]"
   ]
  },
  {
   "cell_type": "markdown",
   "id": "bf68b05c",
   "metadata": {},
   "source": [
    "Let us explore dynamic multithreading using a recursive algorithm. The `n`-th Fibonacci number for `n ≥ 0` can be computed by a sequential, recursive procedure:\n",
    "\n",
    "```algorithm\n",
    "procedure fib(n: integer) → (r: integer)\n",
    "    x ← fib(n – 1)\n",
    "    y ← fib(n – 2)\n",
    "    r := x + y\n",
    "```\n",
    "\n",
    "This algorithm is not a practical way to compute large Fibonacci numbers, as the same computation is repeated. For example, a call to `fib(6)` recursively calls `fib(5)` and `fib(4)`. But the call to `fib(5)` also calls `fib(4)`. Both instances of `fib(4)` return the same result, `fib(4) = 3`. Without *memoization*, the second call to `fib(4)` replicates the work that the first call performs.\n",
    "\n",
    "Although procedure `fib` is a poor way to compute Fibonacci numbers, it makes a good example for key concepts in the design of multithreaded algorithms. Observe that within `fib(n)`, the two recursive calls to `fib(n – 1)` and `fib(n – 2)` are independent of each other: they could be called in either order, and the computation performed by one in no way affects the other. Therefore, the two recursive calls can run in parallel. Implement `parallelfib` accordingly!"
   ]
  },
  {
   "cell_type": "code",
   "execution_count": null,
   "id": "d8f8f282",
   "metadata": {
    "solution": "shown",
    "solution_first": true
   },
   "outputs": [],
   "source": [
    "%%writefile Fib.java    \n",
    "public class Fib {\n",
    "    YOUR CODE HERE\n",
    "    public static void main(String args[]) {\n",
    "        int n = Integer.parseInt(args[0]);\n",
    "\n",
    "        final long start = System.currentTimeMillis();\n",
    "        int r = parallelfib(n);\n",
    "        final long end = System.currentTimeMillis();\n",
    "        \n",
    "        System.out.println(r + \" in \" + (end - start) + \" ms\");\n",
    "    }\n",
    "}"
   ]
  },
  {
   "cell_type": "code",
   "execution_count": null,
   "id": "073961e3",
   "metadata": {},
   "outputs": [],
   "source": [
    "!javac Fib.java"
   ]
  },
  {
   "cell_type": "code",
   "execution_count": null,
   "id": "c56f2060",
   "metadata": {},
   "outputs": [],
   "source": [
    "!java Fib 10"
   ]
  },
  {
   "cell_type": "code",
   "execution_count": null,
   "id": "555bbadd",
   "metadata": {},
   "outputs": [],
   "source": [
    "!java Fib 15"
   ]
  },
  {
   "cell_type": "code",
   "execution_count": null,
   "id": "43405aed",
   "metadata": {},
   "outputs": [],
   "source": [
    "!java Fib 20"
   ]
  },
  {
   "cell_type": "markdown",
   "id": "60e86554",
   "metadata": {},
   "source": [
    "### Limiting the Number of Threads\n",
    "\n",
    "The overhead of thread creation and scheduling may slow down a program if many threads are created. To address this for `parallelfib`, we add another parameter, `p`, for the maximal number of threads to be created. When `p` is `1`, the computation continues sequentially. In `parallelfib`, each of the threads computing `fib(n – 1)` and `fib(n – 2)` continues to create (approximately) `p / 2` threads. Complete the template below!"
   ]
  },
  {
   "cell_type": "code",
   "execution_count": null,
   "id": "dfda59e7",
   "metadata": {
    "solution": "hidden",
    "solution_first": true
   },
   "outputs": [],
   "source": [
    "%%writefile FibP.java\n",
    "public class FibP {\n",
    "    static int sequentialfib(int n) {\n",
    "        if (n <= 1) return n;\n",
    "        else {\n",
    "            int x = sequentialfib(n - 1);\n",
    "            int y = sequentialfib(n - 2);\n",
    "            return x + y;\n",
    "        }\n",
    "    }\n",
    "    static int parallelfib(int n, int p) {\n",
    "        YOUR CODE HERE\n",
    "    }\n",
    "    public static void main(String args[]) {\n",
    "        int n = Integer.parseInt(args[0]);\n",
    "        int p = Integer.parseInt(args[1]);\n",
    "\n",
    "        long start = System.currentTimeMillis();\n",
    "        int r = parallelfib(n, p);\n",
    "        long end = System.currentTimeMillis();\n",
    "        System.out.println(\"Parallel: \" + r + \" by \" + (end - start) + \" ms\");\n",
    "\n",
    "        start = System.currentTimeMillis();\n",
    "        r = sequentialfib(n);\n",
    "        end = System.currentTimeMillis();\n",
    "        System.out.println(\"Sequential: \" + r + \" by \" + (end - start) + \" ms\");\n",
    "    }\n",
    "}"
   ]
  },
  {
   "cell_type": "code",
   "execution_count": null,
   "id": "2c6b9ccb",
   "metadata": {},
   "outputs": [],
   "source": [
    "!javac FibP.java"
   ]
  },
  {
   "cell_type": "code",
   "execution_count": null,
   "id": "f695c196",
   "metadata": {},
   "outputs": [],
   "source": [
    "!java FibP 20 4"
   ]
  },
  {
   "cell_type": "code",
   "execution_count": null,
   "id": "81e4068a",
   "metadata": {},
   "outputs": [],
   "source": [
    "!java FibP 30 4"
   ]
  },
  {
   "cell_type": "code",
   "execution_count": null,
   "id": "4d837dd7",
   "metadata": {},
   "outputs": [],
   "source": [
    "!java FibP 40 1"
   ]
  },
  {
   "cell_type": "code",
   "execution_count": null,
   "id": "7e33ef11",
   "metadata": {},
   "outputs": [],
   "source": [
    "!java FibP 40 2"
   ]
  },
  {
   "cell_type": "code",
   "execution_count": null,
   "id": "5e858f5d",
   "metadata": {},
   "outputs": [],
   "source": [
    "!java FibP 40 4"
   ]
  },
  {
   "cell_type": "code",
   "execution_count": null,
   "id": "de3ee09a",
   "metadata": {},
   "outputs": [],
   "source": [
    "!java FibP 40 8"
   ]
  },
  {
   "cell_type": "code",
   "execution_count": null,
   "id": "45e07355",
   "metadata": {},
   "outputs": [],
   "source": [
    "!java FibP 40 16"
   ]
  },
  {
   "cell_type": "code",
   "execution_count": null,
   "id": "269cec6f",
   "metadata": {
    "scrolled": true
   },
   "outputs": [],
   "source": [
    "!java FibP 40 32"
   ]
  },
  {
   "cell_type": "code",
   "execution_count": null,
   "id": "0b74b9c2",
   "metadata": {
    "scrolled": true
   },
   "outputs": [],
   "source": [
    "!java FibP 40 256"
   ]
  },
  {
   "cell_type": "code",
   "execution_count": null,
   "id": "8178ffe0",
   "metadata": {
    "scrolled": true
   },
   "outputs": [],
   "source": [
    "!java FibP 40 1024"
   ]
  },
  {
   "cell_type": "markdown",
   "id": "4f8e5471",
   "metadata": {},
   "source": [
    "What can you observe about the elapsed time with increasing value of `p`? Explain!"
   ]
  },
  {
   "cell_type": "markdown",
   "id": "3be20ddc",
   "metadata": {
    "solution": "shown",
    "solution_first": true
   },
   "source": [
    "Your answer here"
   ]
  },
  {
   "cell_type": "markdown",
   "id": "a8b10758",
   "metadata": {},
   "source": [
    "*Note.* The time complexity of the parallel matrix multiplication can be analyzed by the *work and depth model*. The *work* `𝒲` is the total time to execute the entire computation by one worker. The *depth* `𝒟` is the longest time to execute the computation by infinitely many workers. In other words, the work is the sum of the times taken by all workers, and the depth is the longest time taken by a worker. The parallel time complexity is `O(𝒲 / 𝒫 + 𝒟)`, where `𝒫` is the total number of workers that can separately perform the total work. Here, each worker corresponds to a processor core, rather than a thread. \n",
    "\n",
    "* The work is given by the recurrence `T(n) = T(n – 1) + T(n – 2) + O(1)`. From that, we can get that the work is the same as that of the sequential version, which is `O(ϕⁿ)` where `ϕ = (1 + √5)/2`.\n",
    "* The depth is given by the recurrence `T(n) = max(T(n – 1), T(n – 2)) + O(1)`, as two asymmetric `fib` sub-procedures  run in parallel. From that, we can get the depth is `O(n)`.\n",
    "* The total parallel running time is `O(ϕⁿ / P + n)`, where `P` is the number of workers."
   ]
  }
 ],
 "metadata": {
  "celltoolbar": "Create Assignment",
  "kernelspec": {
   "display_name": "Python 3 (ipykernel)",
   "language": "python",
   "name": "python3"
  },
  "language_info": {
   "codemirror_mode": {
    "name": "ipython",
    "version": 3
   },
   "file_extension": ".py",
   "mimetype": "text/x-python",
   "name": "python",
   "nbconvert_exporter": "python",
   "pygments_lexer": "ipython3",
   "version": "3.11.1"
  }
 },
 "nbformat": 4,
 "nbformat_minor": 5
}
