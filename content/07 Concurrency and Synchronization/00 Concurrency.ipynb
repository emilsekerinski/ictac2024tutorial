{
 "cells": [
  {
   "cell_type": "markdown",
   "metadata": {
    "editable": true,
    "slideshow": {
     "slide_type": "slide"
    },
    "solution": "hidden",
    "tags": []
   },
   "source": [
    "<div style=\"float:right;border-left:1em solid transparent\">\n",
    "    <i>Notebooks on Programming</i>\n",
    "</div>\n",
    "\n",
    "---\n",
    "# Concurrency and Synchronization - Draft\n",
    "**[Emil Sekerinski](http://www.cas.mcmaster.ca/~emil), McMaster University, November 2024**\n",
    "\n",
    "---\n",
    "\n",
    "<figure style=\"float:right\" >\n",
    "    <img style=\"width:9.5em\" src=\"./img/by-nc-nd.png\"/>\n",
    "    <figcaption style=\"width:13em;font-size:80%\"><a href=\"https://creativecommons.org/licenses/by-nc-nd/4.0/\">Licensed under Creative Commons CC BY-NC-ND</a>\n",
    "    </figcaption>\n",
    "</figure>"
   ]
  },
  {
   "cell_type": "markdown",
   "metadata": {
    "editable": true,
    "slideshow": {
     "slide_type": "slide"
    },
    "tags": []
   },
   "source": [
    "## Specifying Concurrency"
   ]
  },
  {
   "cell_type": "markdown",
   "metadata": {
    "editable": true,
    "slideshow": {
     "slide_type": ""
    },
    "tags": []
   },
   "source": [
    "A language with assignment statements, sequential composition, conditional statements, and repetitive statements is universal in the sense that any sequential program can be expressed through those. For concurrent programs, we need to add means to express:\n",
    "\n",
    "- parallel composition\n",
    "- mutual exclusion\n",
    "- condition synchronization\n",
    "\n",
    "When reasoning about concurrency, it is natural to think in terms of those. Programming languages commonly do not support parallel composition, mutual exclusion, and condition synchronization in full generality, but their constructs can be defined by those notions."
   ]
  },
  {
   "cell_type": "markdown",
   "metadata": {
    "editable": true,
    "slideshow": {
     "slide_type": "slide"
    },
    "tags": []
   },
   "source": [
    "## Parallel Composition"
   ]
  },
  {
   "cell_type": "markdown",
   "metadata": {
    "editable": true,
    "slideshow": {
     "slide_type": ""
    },
    "tags": []
   },
   "source": [
    "For sequential programs, their input-output behaviour is of interest, as specified by preconditions and postconditions. For concurrent programs, their interaction is of interest.\n",
    "\n",
    "Statements execute in a sequence of _atomic steps_. Such sequences are called _traces._ In concurrent programs, statements may  run indefinitely, i.e. not terminate. Therefore, traces can be either finite or infinite. The set of all traces defines the _behaviour_ of a statement.\n",
    "\n",
    "The _parallel composition_ `S₁ ‖ S₂` executes `S₁` and `S₂` \"in parallel\" by _interleaving_ (merging) their traces; formally, `σ` is a trace of `S₁ ‖ S₂` if `σ` projected onto `S₁` steps is a trace of `S₁` and projected onto `S₂` steps is a trace of `S₂`.\n",
    "\n",
    "In state diagrams, parallel composition is visualized by a dashed line; transitions are atomic steps:\n",
    "\n",
    "<img style=\"float:left;border-left:2em solid white\" src=\"./img/ConcurrentDiagram.svg\"/>"
   ]
  },
  {
   "cell_type": "markdown",
   "metadata": {
    "editable": true,
    "slideshow": {
     "slide_type": "slide"
    },
    "tags": []
   },
   "source": [
    "The composition `S₁ ‖ S₂` terminates when both `S₁` and `S₂` terminate. For example:\n",
    "\n",
    "<span style=\"float:left;border-left:2em solid white\">\n",
    "    \n",
    "| Statement | Behaviour |\n",
    "| :-------- | :-------- |\n",
    "| `A`       | `{` <span style=\"font-size:120%\"> ➀ ➁ </span> `}` |\n",
    "| `B`       | `{` <span style=\"font-size:120%\"> ❶ ❷ </span> `}` |\n",
    "| `A ‖ B`   | `{` <span style=\"font-size:120%\"> ➀ ➁ ❶ ❷ </span> `,` <span style=\"font-size:120%\">➀ ❶ ➁ ❷</span> `,` <span style=\"font-size:120%\">➀ ❶ ❷ ➁</span> `,` <br> <span style=\"font-size:120%\">&nbsp;&nbsp; ❶ ➀ ➁ ❷</span> `,` <span style=\"font-size:120%\">❶ ➀ ❷ ➁</span> `,` <span style=\"font-size:120%\">❶ ❷ ➀ ➁</span> `}` |\n",
    "\n",
    "</span>"
   ]
  },
  {
   "cell_type": "markdown",
   "metadata": {
    "editable": true,
    "slideshow": {
     "slide_type": "slide"
    },
    "solution": "hidden",
    "solution_first": true,
    "tags": []
   },
   "source": [
    "_Question:_ If <span style=\"font-size:120%\">➀</span> `= x := 1`, <span style=\"font-size:120%\">➁</span> `= x := 2`, <span style=\"font-size:120%\">❶</span> ` = y := 1`, <span style=\"font-size:120%\">❷ </span> ` = y := 2` what is the final state?\n",
    "\n",
    "<img style=\"float:left;border-left:2em solid white\" src=\"./img/Parallel0.svg\"/>"
   ]
  },
  {
   "cell_type": "markdown",
   "metadata": {
    "editable": true,
    "slideshow": {
     "slide_type": "fragment"
    },
    "solution": "hidden",
    "tags": []
   },
   "source": [
    "_Answer:_   \n",
    "`x = 2 ∧ y = 2`"
   ]
  },
  {
   "cell_type": "markdown",
   "metadata": {
    "editable": true,
    "slideshow": {
     "slide_type": "slide"
    },
    "tags": []
   },
   "source": [
    "The operands of  ` ‖` are also called _processes_. The statement `fork P`, where `P` is a procedure name, creates a new process and executes it concurrently with the one creating it. The statement `join P` waits for a process to terminate. For example:\n",
    "\n",
    "<div style=\"float:left;border-left:2em solid white\">\n",
    "\n",
    "```\n",
    "fork P\n",
    "x := 1\n",
    "join P\n",
    "\n",
    "```\n",
    "\n",
    "</div>\n",
    "<div style=\"float:left;border-left:6em solid white\">\n",
    "\n",
    "```\n",
    "procedure P\n",
    "    y := 2\n",
    "```\n",
    "</div>"
   ]
  },
  {
   "cell_type": "markdown",
   "metadata": {
    "editable": true,
    "slideshow": {
     "slide_type": "slide"
    },
    "tags": []
   },
   "source": [
    "Any `‖` statement can be equivalently expressed by `fork` and `join`:\n",
    "\n",
    "```\n",
    "S₁ ‖ … ‖ Sₙ\n",
    "```\n",
    "\n",
    "is equivalent to\n",
    "\n",
    "<div style=\"float:left;border-left:2em solid white\">\n",
    "\n",
    "```\n",
    "fork P₁ ; … ; fork Pₙ\n",
    "join P₁ ; … ; join Pₙ\n",
    "```\n",
    "</div>\n",
    "<div style=\"float:left;border-left:6em solid white\">\n",
    "\n",
    "```\n",
    "procedure Pᵢ\n",
    "    Sᵢ\n",
    "```\n",
    "</div>"
   ]
  },
  {
   "cell_type": "markdown",
   "metadata": {
    "editable": true,
    "slideshow": {
     "slide_type": ""
    },
    "tags": []
   },
   "source": [
    "Unlike the parallel composition, `fork` statements allow an arbitrary number of processes to be started and introduce a parent-child relation among the processes."
   ]
  },
  {
   "cell_type": "markdown",
   "metadata": {
    "editable": true,
    "slideshow": {
     "slide_type": "slide"
    },
    "tags": []
   },
   "source": [
    "The _process declaration_ executes the declared process concurrently with all other declared processes.\n",
    "\n",
    "```\n",
    "process p\n",
    "    S\n",
    "```\n",
    "\n",
    "Process declarations can be equivalently expressed with `‖` or `fork` and `join`. For example\n",
    "\n",
    "<div style=\"float:left;border-left:2em solid white\">\n",
    "\n",
    "```\n",
    "process setX\n",
    "    x := 1\n",
    "```\n",
    "</div>\n",
    "<div style=\"float:left;border-left:6em solid white\">\n",
    "\n",
    "\n",
    "```\n",
    "process setY\n",
    "    y := 2\n",
    "```\n",
    "</div>"
   ]
  },
  {
   "cell_type": "markdown",
   "metadata": {
    "editable": true,
    "slideshow": {
     "slide_type": ""
    },
    "tags": []
   },
   "source": [
    "is equivalent to:\n",
    "\n",
    "<div style=\"float:left;border-left:2em solid white\">\n",
    "\n",
    "```\n",
    "setX ‖ setY\n",
    "```  \n",
    "</div>\n",
    "<div style=\"float:left;border-left:6em solid white\">\n",
    "\n",
    "```\n",
    "procedure setX\n",
    "\tx := 1\n",
    "    \n",
    "```\n",
    "</div>\n",
    "<div style=\"float:left;border-left:6em solid white\">\n",
    "\n",
    "```\n",
    "procedure setY\n",
    "\ty := 2\n",
    "    \n",
    "```\n",
    "</div>"
   ]
  },
  {
   "cell_type": "markdown",
   "metadata": {
    "editable": true,
    "slideshow": {
     "slide_type": "slide"
    },
    "tags": []
   },
   "source": [
    "The `par` statement is a generalization of `‖` in the same way as `for` is a generalization of `;`:\n",
    "\n",
    "```\n",
    "par x = E to F do S\n",
    "```\n",
    "\n",
    "Here, `x` is a constant local to the `par` statement. For example, vectors `a, b: 1 .. N → integer` can be added in parallel, with the same result as adding them with a sequential `for` loop:\n",
    "\n",
    "```\n",
    "par i = 1 to N do\n",
    "    b(i) := b(i) + a(i)\n",
    "```\n",
    "\n",
    "This can be equivalently expressed with `fork` and `join`:\n",
    "\n",
    "<div style=\"float:left;border-left:2em solid white\">\n",
    "      \n",
    "```\n",
    "for i = 1 to N do fork P(i)\n",
    "for i = 1 to N do join P(i)\n",
    "```\n",
    "</div>\n",
    "<div style=\"float:left;border-left:6em solid white\">\n",
    "    \n",
    "```\n",
    "procedure P(i: 1 .. N)\n",
    "    b(i) := b(i) + a(i)\n",
    "```\n",
    "</div>"
   ]
  },
  {
   "cell_type": "markdown",
   "metadata": {
    "editable": true,
    "slideshow": {
     "slide_type": ""
    },
    "tags": []
   },
   "source": [
    "Dedicated languages or language extensions for concurrency and, in particular, for numeric computing have `par` statements ([Matlab](https://www.mathworks.com/help/parallel-computing/parfor.html), [OpenMp](https://www.openmp.org/)) or process declarations (called tasks in [Ada](https://learn.adacore.com/courses/intro-to-ada/chapters/tasking.html)); Python, Java, and C/Pthread have only `fork` and `join`. Go has only `fork` (called `go`). None of these languages have `‖` as an operator."
   ]
  },
  {
   "cell_type": "markdown",
   "metadata": {
    "editable": true,
    "slideshow": {
     "slide_type": "slide"
    },
    "tags": []
   },
   "source": [
    "For `a, b, c: 0 .. N − 1 × 0 .. N − 1 → float`, sequential matrix multiplication is expressed by:\n",
    "\n",
    "```\n",
    "for i = 0 to N − 1 do\n",
    "    for j = 0 to N − 1 do\n",
    "        c(i, j) := 0.0\n",
    "        for k = 0 to N − 1 do\n",
    "            c(i, j) := c(i, j) + a(i, k) × b(k, j)\n",
    "```"
   ]
  },
  {
   "cell_type": "markdown",
   "metadata": {
    "editable": true,
    "slideshow": {
     "slide_type": ""
    },
    "solution": "hidden",
    "solution_first": true,
    "tags": []
   },
   "source": [
    "_Question:_ Which of the three `for` can be turned into a `par`?"
   ]
  },
  {
   "cell_type": "markdown",
   "metadata": {
    "editable": true,
    "jupyter": {
     "source_hidden": true
    },
    "slideshow": {
     "slide_type": "fragment"
    },
    "solution": "hidden",
    "tags": []
   },
   "source": [
    "_Answer:_   \n",
    "Only the outer two can:\n",
    "\n",
    "```algorithm\n",
    "par i = 0 to N − 1 do\n",
    "    par j = 0 to N − 1 do\n",
    "        c(i, j) := 0.0\n",
    "        for k = 0 to N − 1 do\n",
    "            c(i, j) := c(i, j) + a(i, k) × b(k, j)\n",
    "```"
   ]
  },
  {
   "cell_type": "markdown",
   "metadata": {},
   "source": [
    "_Aside:_ It would be more systematic to write `seq` instead of `for` for generalized sequential composition, as in [occam](http://www.transputer.net/obooks/72-occ-046-00/tuinocc.pdf), a predecessor of Go."
   ]
  },
  {
   "cell_type": "markdown",
   "metadata": {
    "editable": true,
    "slideshow": {
     "slide_type": "slide"
    },
    "tags": []
   },
   "source": [
    "The previous program creates `N²` processes, which may be far more than there are processors; in some languages, the overhead of process creation may outweigh the benefit of parallelism. A solution is to use one _worker process_ per strip.\n",
    "\n",
    "Let `P` be the number of worker processes:\n",
    "\n",
    "```\n",
    "procedure worker(w: 1 .. P)\n",
    "    var first = (w – 1) × N div P\n",
    "    var last = w × N div P – 1\n",
    "    for i = first to last do\n",
    "        for j = 0 to N – 1 do\n",
    "            c(i, j) := 0.0\n",
    "            for k = 0 to N – 1 do\n",
    "                c(i, j) := c(i, j) + a(i, k) × b(k, j)\n",
    "\n",
    "par w = 1 to P do worker(w)\n",
    "```\n",
    "\n",
    "Matrix multiplication is an example of \"embarrassing parallelism\", as no synchronization is needed: all processes assign to different array elements."
   ]
  },
  {
   "cell_type": "markdown",
   "metadata": {
    "editable": true,
    "slideshow": {
     "slide_type": "slide"
    },
    "tags": []
   },
   "source": [
    "## Mutual Exclusion"
   ]
  },
  {
   "cell_type": "markdown",
   "metadata": {
    "editable": true,
    "slideshow": {
     "slide_type": ""
    },
    "tags": []
   },
   "source": [
    "In algorithms, atomic steps are indicated by _atomicity brackets._ These can be placed around expressions and statements, for example:\n",
    "\n",
    "<div style=\"float:left;border-left:2em solid white\">\n",
    "      \n",
    "```\n",
    "⟨x := x + 1⟩ ‖ ⟨x := x + 2⟩\n",
    "```\n",
    "</div>\n",
    "<div style=\"float:left;border-left:6em solid white\">\n",
    "    \n",
    "```\n",
    "⟨x⟩ := ⟨x + 1⟩ ‖ ⟨x⟩ := ⟨x + 2⟩\n",
    "```\n",
    "</div>"
   ]
  },
  {
   "cell_type": "markdown",
   "metadata": {
    "editable": true,
    "slideshow": {
     "slide_type": ""
    },
    "tags": []
   },
   "source": [
    "Atomicity brackets cannot be nested. Auxiliary variables (\"registers\") are needed to express atomicity in state diagrams. The above statements are represented by:\n",
    "\n",
    "<img style=\"float:left;border-left:2em solid white\" src=\"./img/AtomicityCombined.svg\"/>"
   ]
  },
  {
   "cell_type": "markdown",
   "metadata": {
    "editable": true,
    "slideshow": {
     "slide_type": "slide"
    },
    "tags": []
   },
   "source": [
    "When atomicity brackets are left out, implicitly, only access to individual basic variables and array elements of basic types is atomic:\n",
    "\n",
    "```algorithm\n",
    "x := x + 1    =    ⟨x⟩ := ⟨x⟩ + ⟨1⟩\n",
    "```\n",
    "\n",
    "If processes run by multiplexing on a single processor, atomicity can be implemented by disabling and enabling _interrupts_: \n",
    "* A switch to another process is caused by a timer interrupt at the end of a process' time slice or by an interrupt from an external event. \n",
    "* Care is needed to ensure that the atomic regions don't last too long and other processes are not unduly delayed or external events lost. \n",
    "\n",
    "If multiple processors (cores) are available, suspending processors would be too drastic to ensure atomicity. Instead, the hardware guarantees that certain operations are atomic. \n",
    "* Typically, reading and writing a word from and to memory is atomic. Programming languages reflect this: for example, in Java, access to `int`, `boolean`, `float`, and pointers, which are all word-sized, is atomic, but not access to `double` and `long`. We continue to use atomicity brackets as a design notation and return to techniques for implementing atomic regions."
   ]
  },
  {
   "cell_type": "markdown",
   "metadata": {
    "editable": true,
    "slideshow": {
     "slide_type": "slide"
    },
    "solution": "hidden",
    "solution_first": true,
    "tags": []
   },
   "source": [
    "_Question:_ Which of these algorithms for computing the maximum of `a: 1 .. N → integer` is correct?\n",
    "\n",
    "```algorithm\n",
    "    m := a(1)\n",
    "    for i = 2 to N do if a(i) > m then m := a(i)\n",
    "\n",
    "    m := a(1)\n",
    "    par i = 2 to N do if ⟨a(i)⟩ > ⟨m⟩ then ⟨m⟩ := ⟨a(i)⟩\n",
    "\n",
    "    m := a(1)\n",
    "    par i = 2 to N do ⟨if a(i) > m then m := a(i)⟩\n",
    "    \n",
    "    m := a(1)\n",
    "    par i = 2 to N do if ⟨a(i) > m⟩ then ⟨m := a(i)⟩\n",
    "\n",
    "    m := a(1)\n",
    "    par i = 2 to N do\n",
    "        if a(i) > m then ⟨if a(i) > m then m := a(i)⟩\n",
    "```"
   ]
  },
  {
   "cell_type": "markdown",
   "metadata": {
    "jupyter": {
     "source_hidden": true
    },
    "slideshow": {
     "slide_type": "fragment"
    },
    "solution": "hidden",
    "tags": []
   },
   "source": [
    "_Answer:_  \n",
    "Correct, incorrect, correct (but less efficient than the sequential version), incorrect, correct (and potentially faster than the sequential version)."
   ]
  },
  {
   "cell_type": "markdown",
   "metadata": {
    "editable": true,
    "slideshow": {
     "slide_type": "slide"
    },
    "tags": []
   },
   "source": [
    "What can we say about the postcondition of a parallel composition? In the example below, the statements `x := x + 1` and `y := y + 2` are correct with respect to their pre- and postconditions:\n",
    "\n",
    "<img style=\"float:left;border-left:2em solid white\" src=\"./img/Parallel1.svg\" />"
   ]
  },
  {
   "cell_type": "markdown",
   "metadata": {
    "editable": true,
    "slideshow": {
     "slide_type": ""
    },
    "tags": []
   },
   "source": [
    "Their parallel composition establishes the conjunction of their postconditions."
   ]
  },
  {
   "cell_type": "markdown",
   "metadata": {
    "editable": true,
    "slideshow": {
     "slide_type": "slide"
    },
    "tags": []
   },
   "source": [
    "Compare this to the parallel composition of `x := 1` and `x := 2`:\n",
    "\n",
    "<img style=\"float:left;border-left:2em solid white\" src=\"./img/Parallel2.svg\"/>"
   ]
  },
  {
   "cell_type": "markdown",
   "metadata": {
    "slideshow": {
     "slide_type": ""
    }
   },
   "source": [
    "Their parallel composition establishes the disjunction of their postconditions."
   ]
  },
  {
   "cell_type": "markdown",
   "metadata": {
    "editable": true,
    "slideshow": {
     "slide_type": "slide"
    },
    "tags": []
   },
   "source": [
    "Now consider the parallel composition of `⟨x := x + 1⟩` and `⟨x := x + 2⟩`:\n",
    "\n",
    "<img style=\"float:left;border-left:2em solid white\" src=\"./img/Parallel3.svg\"/>"
   ]
  },
  {
   "cell_type": "markdown",
   "metadata": {
    "editable": true,
    "slideshow": {
     "slide_type": ""
    },
    "solution": "shown",
    "solution_first": true,
    "tags": []
   },
   "source": [
    "_Question:_ What are appropriate predicates `P₁`, `P₂`, `Q₁`, `Q₂`?"
   ]
  },
  {
   "cell_type": "markdown",
   "metadata": {
    "editable": true,
    "slideshow": {
     "slide_type": "fragment"
    },
    "solution": "shown",
    "tags": []
   },
   "source": [
    "_Answer:_ Here is a naive attempt:\n",
    "\n",
    "<img style=\"float:left;border-left:2em solid white\" src=\"./img/Parallel4.svg\"/>"
   ]
  },
  {
   "cell_type": "markdown",
   "metadata": {
    "slideshow": {
     "slide_type": "fragment"
    },
    "solution": "shown",
    "tags": []
   },
   "source": [
    "If both processes are in `x = 0` and `⟨x := x + 1⟩` is executed first, the precondition of `⟨x := x + 2⟩` is no longer `x = 0`. Likewise, if `⟨x := x + 2⟩` is executed first and establishes `x = 2`, then `⟨x := x + 1⟩` would invalidate that postcondition. The reason is _interference_. Additionally, from `x = 1` and `x = 2` the postcondition `x = 3` cannot be inferred."
   ]
  },
  {
   "cell_type": "markdown",
   "metadata": {
    "editable": true,
    "slideshow": {
     "slide_type": ""
    },
    "solution": "shown",
    "solution_first": true,
    "tags": []
   },
   "source": [
    "_Question:_ How can the annotation be modified such that the parallel execution will not invalidate the predicates?"
   ]
  },
  {
   "cell_type": "markdown",
   "metadata": {
    "editable": true,
    "slideshow": {
     "slide_type": "fragment"
    },
    "solution": "shown",
    "tags": []
   },
   "source": [
    "_Answer:_  \n",
    "The annotation needs to be _weakened_.\n",
    "\n",
    "<img style=\"border-left:2em solid white\" src=\"./img/Parallel5.svg\"/>\n",
    "\n",
    "Now, each process does not interfere with the states of the other process."
   ]
  },
  {
   "cell_type": "markdown",
   "metadata": {
    "editable": true,
    "slideshow": {
     "slide_type": "slide"
    },
    "solution": "hidden",
    "tags": []
   },
   "source": [
    "As another example, consider the following two procedures operating on global variables `a`, `b`, `t`:\n",
    "\n",
    "<div style=\"float:left;border-left:2em solid white\">\n",
    "\n",
    "```\n",
    "procedure P\n",
    "    t, a := false, 0\n",
    "    while ¬t do\n",
    "        t, a := true, a + 1\n",
    "```\n",
    "</div>\n",
    "<div style=\"float:left;border-left:6em solid white\">\n",
    "\n",
    "```\n",
    "procedure Q\n",
    "    t, b := true, 0\n",
    "    while t do\n",
    "        t, b := false, b + 1\n",
    "```\n",
    "</div>"
   ]
  },
  {
   "cell_type": "markdown",
   "metadata": {
    "editable": true,
    "slideshow": {
     "slide_type": ""
    },
    "solution": "hidden",
    "solution_first": true,
    "tags": []
   },
   "source": [
    "_Question:_ Do `P` and `Q` terminate, and if so, what is their outcome? What are the loop invariants?"
   ]
  },
  {
   "cell_type": "markdown",
   "metadata": {
    "editable": true,
    "slideshow": {
     "slide_type": "fragment"
    },
    "solution": "hidden",
    "tags": []
   },
   "source": [
    "_Answer:_\n",
    "- `P` terminates with `t ∧ a = 1`; the invariant is `(¬t ∧ a = 0) ∨ (t ∧ a = 1)`;\n",
    "- `Q` terminates with `¬t ∧ b = 1`; the invariant is `(t ∧ b = 0) ∨ (¬t ∧ b = 1)`."
   ]
  },
  {
   "cell_type": "markdown",
   "metadata": {
    "editable": true,
    "slideshow": {
     "slide_type": ""
    },
    "solution": "shown",
    "solution_first": true,
    "tags": []
   },
   "source": [
    "_Question:_ Does `P ‖ Q` terminate, and if so, what is the outcome?"
   ]
  },
  {
   "cell_type": "markdown",
   "metadata": {
    "editable": true,
    "slideshow": {
     "slide_type": "slide"
    },
    "solution": "shown",
    "tags": []
   },
   "source": [
    "_Answer:_  \n",
    "`P ‖ Q` may terminate with `a ≥ 0 ∧ b ≥ 0` or may not terminate. The state diagram shows how the annotation of `P` that is correct for sequential execution is invalidated by the concurrent execution of `Q`:\n",
    "\n",
    "<img style=\"float:left;border-left:2em solid white\" src=\"./img/PQinterference.svg\"/>"
   ]
  },
  {
   "cell_type": "markdown",
   "metadata": {
    "slideshow": {
     "slide_type": "slide"
    },
    "solution": "shown",
    "solution_first": true
   },
   "source": [
    "_Question:_ How can the annotation be modified such that the parallel execution will not invalidate the predicates?"
   ]
  },
  {
   "cell_type": "markdown",
   "metadata": {
    "editable": true,
    "slideshow": {
     "slide_type": "fragment"
    },
    "solution": "shown",
    "tags": []
   },
   "source": [
    "_Answer:_  \n",
    "Weaken the loop invariant in `P` to `a ≥ 0` and in `Q` to `b ≥ 0`!"
   ]
  },
  {
   "cell_type": "markdown",
   "metadata": {
    "editable": true,
    "slideshow": {
     "slide_type": "slide"
    },
    "tags": []
   },
   "source": [
    "Consider the following parallel compositions: \n",
    "\n",
    "<div style=\"float:left;border-left:2em solid white\">\n",
    "      \n",
    "```algorithm\n",
    "x := y + z ‖ (y := 3 ; z := 5)\n",
    "```\n",
    "</div>\n",
    "<div style=\"float:left;border-left:6em solid white\">\n",
    "    \n",
    "```algorithm\n",
    "x := y + z ‖ y := 3\n",
    "```\n",
    "</div>"
   ]
  },
  {
   "cell_type": "markdown",
   "metadata": {
    "editable": true,
    "slideshow": {
     "slide_type": "slide"
    },
    "tags": []
   },
   "source": [
    "The assignment `x := y + z` is executed as `⟨x⟩ := ⟨y⟩ + ⟨z⟩`. On the left-hand side, the value taken for `y` could be that before or after `y := 3` and the value of `z` could be that before or after `z := 5`. However, on the right-hand side the effect of `x := y + z` is the same as `⟨x := y + z⟩`, allowing a simpler state diagram:\n",
    "\n",
    "<img style=\"horizontal-align:left;border-left:2em solid white\" src=\"./img/AtMostOnce.svg\"/>\n",
    "\n",
    "The reason is that on the right-hand side, only one of the variables of `y + z` is changed in the parallel process."
   ]
  },
  {
   "cell_type": "markdown",
   "metadata": {
    "editable": true,
    "slideshow": {
     "slide_type": "slide"
    },
    "tags": []
   },
   "source": [
    "In a parallel composition\n",
    "```algorithm\n",
    "S₁ ‖ … ‖ Sₙ\n",
    "```\n",
    "an expression `E` in `Sᵢ` satisfies the **_at-most-once property_** if it refers at most once to a basic variable that may be changed in another process. An assignment `x, y := E, F` in `Sᵢ` satisfies the at-most-once property if it refers at most once to a basic variable (`x`, `y`, or in `E`, `F`) that may be changed in another process.\n",
    "\n",
    "Expressions and assignment statements with the **at-most-once property** are evaluated or executed as if they were atomic. Thus, in state diagrams, they don't need to be broken up."
   ]
  },
  {
   "cell_type": "markdown",
   "metadata": {
    "editable": true,
    "slideshow": {
     "slide_type": "slide"
    },
    "solution": "shown",
    "solution_first": true,
    "tags": []
   },
   "source": [
    "_Question:_ Which of the following assignments satisfies the at-most-once property?\n",
    "- the two assignments in `x := 3 ‖ x := x + 1`\n",
    "- the three assignments in `x := 3 ‖ y := 5 ‖ z := x + y`\n",
    "- the assignment `t, a := false, 0` in procedure `P` when considering `P ‖ Q`\n",
    "- the assignment `t, a := true, a + 1` in procedure `P` when considering `P ‖ Q`   \n",
    "\n",
    "<div style=\"float:left;border-left:2em solid white\">\n",
    "\n",
    "```\n",
    "procedure P\n",
    "    t, a := false, 0\n",
    "    while ¬t do\n",
    "        t, a := true, a + 1\n",
    "```\n",
    "</div>\n",
    "<div style=\"float:left;border-left:6em solid white\">\n",
    "\n",
    "```\n",
    "procedure Q\n",
    "    t, b := true, 0\n",
    "    while t do\n",
    "        t, b := false, b + 1\n",
    "```\n",
    "</div>"
   ]
  },
  {
   "cell_type": "markdown",
   "metadata": {
    "editable": true,
    "slideshow": {
     "slide_type": "fragment"
    },
    "solution": "shown",
    "tags": []
   },
   "source": [
    "_Answer:_\n",
    "- only `x := 3`, so `x := 3 ‖ x := x + 1  =  ⟨x := 3⟩ ‖ ⟨x⟩ := ⟨x + 1⟩`.\n",
    "- only `x := 3` and `y := 5`,  so `x := 3 ‖ y := 5 ‖ z := x + y  =  ⟨x := 3⟩ ‖ ⟨y := 5⟩ ‖ ⟨z⟩ := ⟨x⟩ + ⟨y⟩`\n",
    "- yes, as only `t` is changed in `Q`, so here `t, a := false, 0  =  ⟨t, a := false, 0⟩` \n",
    "- yes, as only `t` is changed in `P`, so here `t, a := true, a + 1  =  ⟨t, a := true, a+1⟩`\n",
    "\n",
    "This retrospectively justifies the state diagram for `P ‖ Q`."
   ]
  },
  {
   "cell_type": "markdown",
   "metadata": {
    "editable": true,
    "slideshow": {
     "slide_type": "slide"
    },
    "tags": []
   },
   "source": [
    "An atomic statement `A` that starts in state `P` _does not interfere_ with state `Q` if `A` preserves `Q`, formally:\n",
    "\n",
    "```\n",
    "{P ∧ Q}  A  {Q}\n",
    "```\n",
    "\n",
    "In state diagrams, non-interference is visualized by a green dotted line. If `A` is a guarded assignment statement, the condition for non-interference is:"
   ]
  },
  {
   "cell_type": "markdown",
   "metadata": {
    "editable": true,
    "slideshow": {
     "slide_type": ""
    },
    "tags": []
   },
   "source": [
    "<div style=\"float:left;border-left:2em solid white\">\n",
    "\n",
    "if &nbsp;&nbsp;&nbsp; `P ∧ B ∧ Q ⇒ Q[x, y := E, F]` &nbsp;&nbsp;&nbsp; then\n",
    "\n",
    "</div>\n",
    "<img style=\"float:left;border-left:2em solid white\" src=\"./img/GuardAssignmentInterference.svg\"/>"
   ]
  },
  {
   "cell_type": "markdown",
   "metadata": {
    "slideshow": {
     "slide_type": "slide"
    },
    "solution": "shown",
    "solution_first": true
   },
   "source": [
    "_Question:_ Consider again the state diagram for `⟨x := x + 1⟩ ‖ ⟨x := x + 2⟩` with labelled states. What are the conditions for non-interference? Give the proofs!\n",
    "\n",
    "<img style=\"float:left;border-left:2em solid white\" src=\"./img/Parallel5labelled.svg\"/>"
   ]
  },
  {
   "cell_type": "markdown",
   "metadata": {
    "editable": true,
    "slideshow": {
     "slide_type": "fragment"
    },
    "solution": "shown",
    "tags": []
   },
   "source": [
    "_Answer:_  \n",
    "The conditions for  `x := x + 1`  not interfering with `P₂`, ` Q₂` are:\n",
    "\n",
    "1. `P₁ ∧ P₂ ⇒ P₂[x := x + 1]`\n",
    "2. `P₁ ∧ Q₂ ⇒ Q₂[x := x + 1]`\n",
    "\n",
    "The conditions for `x := x + 2` not interfering with `P₁`, `Q₁` are:\n",
    "\n",
    "3. `P₂ ∧ P₁ ⇒ P₁[x := x + 2]`\n",
    "4. `P₂ ∧ Q₁ ⇒ Q₁[x := x + 2]`\n",
    "\n",
    "\n",
    "The proof of (1.) is:\n",
    "```\n",
    "    (x = 0 ∨ x = 2) ∧ (x = 0 ∨ x = 1) ⇒ (x = 0 ∨ x = 1)[x := x + 1]\n",
    "≡        {by substitution, factoring out x = 0, simplification}\n",
    "    x = 0 ⇒ (x + 1 = 0 ∨ x + 1 = 1)\n",
    "≡        {arithmetic}\n",
    "    x = 0 ⇒ (x = - 1 ∨ x = 0)\n",
    "≡        {weakening / strengthening}\n",
    "    true\n",
    "```"
   ]
  },
  {
   "cell_type": "markdown",
   "metadata": {
    "editable": true,
    "slideshow": {
     "slide_type": "slide"
    },
    "tags": []
   },
   "source": [
    "**Rule for correctness of parallel composition:** \n",
    "\n",
    "Assume that statements `S₁`, `S₂` establish `Q₁`, `Q₂` under `P₁`, `P₂`, respectively:\n",
    "\n",
    "```\n",
    "{P₁}  S₁  {Q₁}\n",
    "{P₂}  S₂  {Q₂}\n",
    "```\n",
    "\n",
    "Their parallel composition will establish the conjunction of the postconditions under the conjunction of the preconditions,\n",
    "\n",
    "```\n",
    "{P₁ ∧ P₂}  S₁ ‖ S₂  {Q₁ ∧ Q₂}\n",
    "```\n",
    "\n",
    "provided that all atomic statements (transitions) `S₁,ᵢ` in `S₁` do not interfere with any state of `S₂` and vice versa, visually:\n",
    "\n",
    "<img style=\"float:left;border-left:2em solid white\" src=\"./img/Noninterference.svg\"/>"
   ]
  },
  {
   "cell_type": "markdown",
   "metadata": {
    "editable": true,
    "slideshow": {
     "slide_type": ""
    },
    "tags": []
   },
   "source": [
    "The rule generalizes to more than two processes."
   ]
  },
  {
   "cell_type": "markdown",
   "metadata": {
    "slideshow": {
     "slide_type": "slide"
    }
   },
   "source": [
    "## Condition Synchronization"
   ]
  },
  {
   "cell_type": "markdown",
   "metadata": {
    "editable": true,
    "slideshow": {
     "slide_type": ""
    },
    "tags": []
   },
   "source": [
    "_Condition synchronization_ delays one process until another establishes a certain condition. The fundamental mechanism is the `await` statement:\n",
    "\n",
    "<div style=\"float:left;border-left:2em solid white\">\n",
    "    \n",
    "```\n",
    "⟨await B then S⟩\n",
    "```\n",
    "</div>\n",
    "<img style=\"float:left;border-left:6em solid white\" src=\"./img/AwaitThen.svg\"/>"
   ]
  },
  {
   "cell_type": "markdown",
   "metadata": {
    "editable": true,
    "slideshow": {
     "slide_type": "slide"
    },
    "tags": []
   },
   "source": [
    "The await statement \"waits\" until Boolean expression `B` is true and then executes statement `S` atomically. The body `S` can also be empty:\n",
    "\n",
    "```algorithm\n",
    "⟨await B⟩  =  ⟨await B then skip⟩\n",
    "```\n",
    "\n",
    "For example:\n",
    "\n",
    "<div style=\"float:left;border-left:2em solid white\">\n",
    "\n",
    "```algorithm\n",
    "⟨await s > 0 then s := s – 1⟩\n",
    "```\n",
    "</div>\n",
    "<div style=\"float:left;border-left:6em solid white\">\n",
    "\n",
    "```algorithm\n",
    "⟨await s > 0⟩ ; s := s – 1\n",
    "```\n",
    "</div>"
   ]
  },
  {
   "cell_type": "markdown",
   "metadata": {
    "slideshow": {
     "slide_type": ""
    },
    "solution": "shown",
    "solution_first": true
   },
   "source": [
    "_Question:_ What is the difference between these two?"
   ]
  },
  {
   "cell_type": "markdown",
   "metadata": {
    "editable": true,
    "slideshow": {
     "slide_type": "fragment"
    },
    "solution": "shown",
    "tags": []
   },
   "source": [
    "_Answer:_  \n",
    "The first guarantees that `s` will not be negative, the second not."
   ]
  },
  {
   "cell_type": "markdown",
   "metadata": {
    "editable": true,
    "slideshow": {
     "slide_type": "slide"
    },
    "tags": []
   },
   "source": [
    "The `await` statement is at the core of every synchronization mechanism, even though few programming languages fully support it. One way to implement `await B` is by _spinning_ or _busy waiting:_ the process keeps looping as long as `B` is false.\n",
    "\n",
    "Formally, the statement `⟨await B then S⟩` is just `⟨if B → S⟩`, so the same correctness rule holds:\n",
    "\n",
    "**Rule for correctness of await:**\n",
    "<div style=\"float:left;border-left:2em solid white\">\n",
    "        \n",
    "```\n",
    "{P}  ⟨await B then S⟩  {Q}\n",
    "```\n",
    "</div>\n",
    "<div style=\"float:left;border-left:2em solid white\">\n",
    "\n",
    "if `P ⇒ ∆B` <br> and `{P ∧ B'} S {Q}`\n",
    "</div>\n",
    "<img style=\"float:left;border-left:2em solid white\" src=\"./img/CorrectnessIf1.svg\"/>"
   ]
  },
  {
   "cell_type": "markdown",
   "metadata": {
    "editable": true,
    "slideshow": {
     "slide_type": "slide"
    },
    "tags": []
   },
   "source": [
    "If `B` is false, the interpretation in concurrent programs is to wait until `B` becomes true rather than staying in the initial state forever."
   ]
  },
  {
   "cell_type": "markdown",
   "metadata": {
    "editable": true,
    "slideshow": {
     "slide_type": "slide"
    },
    "tags": []
   },
   "source": [
    "The guard of an `await` statement is used to delay a process until the guard holds. For example, given `a` and `b`, consider computing `s = a² + b²`. The variable `d` indicates if processes `H` is done by assigning `b²` to `t`:\n",
    "\n",
    "```\n",
    "d := false\n",
    "```\n",
    "\n",
    "<div style=\"float:left;border-left:2em solid white\">\n",
    "\n",
    "```\n",
    "process SumSquare\n",
    "    s := a × a\n",
    "    await d\n",
    "    s := s + t\n",
    "```\n",
    "</div>\n",
    "<div style=\"float:left;border-left:2em solid white\">\n",
    "\n",
    "```\n",
    "process H\n",
    "    t := b × b\n",
    "    d := true\n",
    "```\n",
    "</div>"
   ]
  },
  {
   "cell_type": "markdown",
   "metadata": {
    "editable": true,
    "slideshow": {
     "slide_type": ""
    },
    "tags": []
   },
   "source": [
    "Here, in  `SumSquare` the condition `d ⇒ t = b²` is needed in to ensure that finally `s = a² + b²`."
   ]
  },
  {
   "cell_type": "markdown",
   "metadata": {
    "slideshow": {
     "slide_type": "slide"
    }
   },
   "source": [
    "All statements satisfy the at-most-once property; hence, in the state diagram, these become atomic transitions. The *global invariant* `d ⇒ t = b²` is written across the processes and is a shorthand for conjoining it to all substates:\n",
    "\n",
    "<img style=\"float:left;border-left:2em solid white\" src=\"./img/SumSquare.svg\"/>"
   ]
  },
  {
   "cell_type": "markdown",
   "metadata": {
    "slideshow": {
     "slide_type": "slide"
    }
   },
   "source": [
    "With `I` being `d ⇒ t = b²`, this is equivalent to:\n",
    "\n",
    "<img style=\"float:left;border-left:2em solid white\" src=\"./img/SumSquareNoGlobal.svg\"/>"
   ]
  },
  {
   "cell_type": "markdown",
   "metadata": {
    "editable": true,
    "slideshow": {
     "slide_type": "slide"
    },
    "tags": []
   },
   "source": [
    "The correctness of the diagram follows from the correctness of the transitions and non-interference. We assume that all expressions are defined:\n",
    "\n",
    "Correctness of initialization:\n",
    "\n",
    "1. `I[d := false]`\n",
    "\n",
    "Correctness of transitions in `SumSquare`:\n",
    "\n",
    "2. `I ⇒ (I ∧ s = a²)[s := a × a]`\n",
    "3. `I ∧ s = a² ∧ d ⇒ I ∧ s = a² ∧ t = b²`\n",
    "4. `I ∧ s = a² ∧ t = b² ⇒ (I ∧ s = a² + b²)[s := s + t]`\n",
    "\n",
    "Correctness of transitions in `H`:\n",
    "\n",
    "5. `I ⇒ (I ∧ t = b²)[t := b × b]`\n",
    "6. `I ∧ t = b² ⇒ I[d := true]`\n",
    "\n",
    "Non-interference of `s := a × a` with states of `H`:\n",
    "\n",
    "7. `I ⇒ I[s := a × a]`\n",
    "8. `I ∧ t = b² ⇒ (I ∧ t = b²)[s := a × a]`\n",
    "9. `I ⇒ I[s := a × a]`\n",
    "\n",
    "..."
   ]
  },
  {
   "cell_type": "markdown",
   "metadata": {
    "editable": true,
    "slideshow": {
     "slide_type": "slide"
    },
    "solution": "hidden",
    "solution_first": true,
    "tags": []
   },
   "source": [
    "*Question:* How many non-interference conditions are there?"
   ]
  },
  {
   "cell_type": "markdown",
   "metadata": {
    "editable": true,
    "slideshow": {
     "slide_type": "fragment"
    },
    "solution": "hidden",
    "tags": []
   },
   "source": [
    "_Answer:_  \n",
    "Three transitions of `SumSquare` must not interfere with three states of `H`, so nine conditions; \n",
    "two transitions of `H` must not interfere with four states of `SumSquare`, so eight conditions; in total, there are `17` non-interference conditions."
   ]
  },
  {
   "cell_type": "markdown",
   "metadata": {
    "slideshow": {
     "slide_type": "fragment"
    },
    "solution": "hidden"
   },
   "source": [
    "Here is the proof of (3.):\n",
    "\n",
    "```algorithm\n",
    "    I ∧ s = a² ∧ d ⇒ I ∧ s = a² ∧ t = b²\n",
    "≡        {definition of I, using P ⇒ P for any P} \n",
    "    (d ⇒ t = b²) ∧ s = a² ∧ d ⇒ t = b²\n",
    "≡        {logic}\n",
    "    true\n",
    "```\n",
    "<!-- \n",
    "    P ∧ A ⇒ P ∧ B ≡ P ⇒ (A ⇒ B) \n",
    "    (I ∧ s = a² ∧ d) ⇒ (I ∧ s = a² ∧ t = b²)\n",
    "≡        {definition of I, using P ⇒ P for any P} \n",
    "    ((d ⇒ t = b²) ∧ (s = a²) ∧ d)     ⇒     t = b²\n",
    "≡        {logic}\n",
    "    true\n",
    "-->\n",
    "\n",
    "Here is the proof of (4.):\n",
    "\n",
    "```algorithm\n",
    "    I ∧ s = a² ∧ t = b² ⇒ (I ∧ s = a² + b²)[s := s + t]\n",
    "≡        {by substitution, s does not occur in I}\n",
    "    I ∧ s = a² ∧ t = b² ⇒ (I ∧ s + t = a² + b²)\n",
    "≡        {logic}\n",
    "    true\n",
    "```"
   ]
  },
  {
   "cell_type": "markdown",
   "metadata": {
    "editable": true,
    "slideshow": {
     "slide_type": "slide"
    },
    "tags": []
   },
   "source": [
    "As a note, with `I` being `d ⇒ t = b²`, the annotated state diagram is equivalent to:\n",
    "\n",
    "```\n",
    "d := false\n",
    "{I}\n",
    "```\n",
    "\n",
    "<div style=\"float:left;border-left:2em solid white\">\n",
    "\n",
    "```\n",
    "process SumSquare\n",
    "    {I}\n",
    "    s := a × a\n",
    "    {I ∧ s = a²}\n",
    "    await d\n",
    "    {I ∧ s = a² ∧ t = b²}\n",
    "    s := s + t\n",
    "    {I ∧ s = a² + b²}\n",
    "```\n",
    "</div>\n",
    "<div style=\"float:left;border-left:6em solid white\">\n",
    "\n",
    "```\n",
    "process H\n",
    "    {I}\n",
    "    t := b × b\n",
    "    {I ∧ t = b²}\n",
    "    d := true\n",
    "    {I}\n",
    "```\n",
    "</div>"
   ]
  },
  {
   "cell_type": "markdown",
   "metadata": {
    "editable": true,
    "slideshow": {
     "slide_type": "slide"
    },
    "tags": []
   },
   "source": [
    "## Producer and Consumer"
   ]
  },
  {
   "cell_type": "markdown",
   "metadata": {
    "slideshow": {
     "slide_type": "slide"
    }
   },
   "source": [
    "A producer places objects into a (one-place) buffer. A consumer removes objects from the buffer. The producer has to wait until the buffer is empty before placing an object. Producers and consumers proceed at their own pace. The consumer has to wait until the buffer is not empty before removing the object. Assume `buf: T` is a global variable:\n",
    "\n",
    "```algorithm\n",
    "p, c := 0, 0\n",
    "```\n",
    "<div style=\"float:left;border-left:2em solid white\">\n",
    "\n",
    "```algorithm\n",
    "process Producer\n",
    "    var a: 0 .. N – 1 → T = …\n",
    "    while p < N do\n",
    "        ⟨await p = c⟩\n",
    "        buf := a(p)\n",
    "        p := p + 1\n",
    "```\n",
    "</div>\n",
    "<div style=\"float:left;border-left:6em solid white\">\n",
    "\n",
    "```algorithm\n",
    "process Consumer\n",
    "    var b: 0 .. N – 1 → T\n",
    "    while c < N do\n",
    "        ⟨await p > c⟩\n",
    "        b(c) := buf\n",
    "        c := c + 1\n",
    "```\n",
    "</div>"
   ]
  },
  {
   "cell_type": "markdown",
   "metadata": {
    "slideshow": {
     "slide_type": ""
    },
    "solution": "hidden",
    "solution_first": true
   },
   "source": [
    "_Question:_ Informally, what is the relation between `p` and `c` and what is it between `a` and `b`?"
   ]
  },
  {
   "cell_type": "markdown",
   "metadata": {
    "slideshow": {
     "slide_type": "fragment"
    },
    "solution": "hidden",
    "tags": []
   },
   "source": [
    "*Answer:*\n",
    "- `p` and `c` are either the same or `p` is one larger than `c`.\n",
    "- The first `c` elements of `a` and `b` are the same."
   ]
  },
  {
   "cell_type": "markdown",
   "metadata": {
    "slideshow": {
     "slide_type": "slide"
    }
   },
   "source": [
    "The state diagram shows the required annotations to conclude that upon the termination of `Consumer`, it will have a copy of array `a` of `Producer` in its own local array `b`. Formally, the producer invariant `PI` is conjoined to every state of `Producer`, the consumer invariant `CI` is conjoined to every state of `Consumer`, and the global invariant `PC` is conjoined to every state:\n",
    "\n",
    "<img style=\"float:left;border-left:2em solid white\" src=\"./img/ProducerConsumerAwait.svg\"/>"
   ]
  },
  {
   "cell_type": "markdown",
   "metadata": {
    "editable": true,
    "slideshow": {
     "slide_type": "slide"
    },
    "tags": []
   },
   "source": [
    "With `PC`, `PI`, `CI` as above and with some simplifications, this is textually equivalent to:\n",
    "\n",
    "```\n",
    "p, c := 0, 0\n",
    "```\n",
    "<div style=\"float:left;border-left:2em solid white\">\n",
    "\n",
    "```\n",
    "process producer\n",
    "    var a: 0 .. N – 1 → T = …\n",
    "    {PC ∧ PI}\n",
    "    while p < N do\n",
    "        {PC ∧ p < N}\n",
    "        ⟨await p = c⟩\n",
    "        {PC ∧ p < N ∧ p = c} \n",
    "        buf := a(p)\n",
    "        {PC ∧ p < N ∧ p = c ∧ buf = a(p)}\n",
    "        p := p + 1\n",
    "        {PC ∧ PI}\n",
    "```\n",
    "</div>\n",
    "<div style=\"float:left;border-left:6em solid white\">\n",
    "\n",
    "```\n",
    "process consumer\n",
    "    var b: 0 .. N – 1 → T\n",
    "    {PC ∧ CI} \n",
    "    while c < N do\n",
    "        {PC ∧ CI ∧ c < N}\n",
    "        ⟨await p > c⟩\n",
    "        {PC ∧ CI ∧ c < N ∧ p > c} \n",
    "        b(c) := buf\n",
    "        {PC ∧ CI ∧ c < N ∧ p > c ∧ b(c) = a(c)} \n",
    "        c := c + 1\n",
    "        {PC ∧ CI}\n",
    "```\n",
    "</div>"
   ]
  },
  {
   "cell_type": "markdown",
   "metadata": {
    "editable": true,
    "slideshow": {
     "slide_type": "slide"
    },
    "tags": []
   },
   "source": [
    "Each of the black solid transitions has to be correct in isolation. The producer invariant `PI` does not contain variables modified by `Consumer`; likewise, the consumer invariant `CI` does not contain variables modified by `Producer`. Therefore, transitions of the other process always preserve these invariants. The conditions for `Consumer` are:\n",
    "\n",
    "1.\n",
    "```\n",
    "{PC ∧ CI ∧ c < N ∧ p > c} \n",
    "b(c) := buf\n",
    "{PC ∧ CI ∧ c < N ∧ p > c ∧ b(c) = a(c)}\n",
    "```\n",
    "\n",
    "2.\n",
    "```\n",
    "{PC ∧ CI ∧ c < N ∧ p > c ∧ b(c) = a(c)} \n",
    "c := c + 1\n",
    "{PC ∧ CI}\n",
    "```"
   ]
  },
  {
   "cell_type": "markdown",
   "metadata": {
    "editable": true,
    "slideshow": {
     "slide_type": "slide"
    },
    "tags": []
   },
   "source": [
    "The green dotted arrows indicate which transitions of `Consumer` may interfere with the states of `Producer`. There are six non-interference conditions to check for the transition with `b(c) := buf`; of those, the three with dotted arrows going to \"empty\" states of `Producer` are identical, leaving four conditions:\n",
    "\n",
    "1.\n",
    "```\n",
    "{PC ∧ PI ∧ CI ∧ c < N ∧ p > c}\n",
    "b(c) := buf\n",
    "{true}\n",
    "```\n",
    "2.\n",
    "```\n",
    "{PC ∧ PI ∧ p < N ∧ CI ∧ c < N ∧ p > c}\n",
    "b(c) := buf\n",
    "{p < N}\n",
    "```\n",
    "3.\n",
    "```\n",
    "{PC ∧ PI ∧ p < N ∧ p = c ∧ CI ∧ c < N ∧ p > c}\n",
    "b(c) := buf\n",
    "{p < N ∧ p = c}\n",
    "```\n",
    "4.\n",
    "```\n",
    "{PC ∧ PI ∧ p < N ∧ p = c ∧ buf = a(p) ∧ CI ∧ c < N ∧ p > c}\n",
    "b(c) := buf\n",
    "{p < N ∧ p = c ∧ buf = a(p)}\n",
    "```\n",
    "\n",
    "These hold as `b(c) := buf` does not modify any of the variables in the states that need to be preserved."
   ]
  },
  {
   "cell_type": "markdown",
   "metadata": {
    "editable": true,
    "slideshow": {
     "slide_type": "slide"
    },
    "tags": []
   },
   "source": [
    "Similarly, there are four distinct non-interference conditions for the transition with `c := c + 1`:\n",
    "\n",
    "1.\n",
    "```\n",
    "{PC ∧ PI ∧ CI ∧ c < N ∧ p > c}\n",
    "c := c + 1\n",
    "{true}\n",
    "```\n",
    "2.\n",
    "```\n",
    "{PC ∧ PI ∧ p < N ∧ CI ∧ c < N ∧ p > c }\n",
    "c := c + 1\n",
    "{p < N}\n",
    "```\n",
    "3.\n",
    "```\n",
    "{PC ∧ PI ∧ p < N ∧ p = c ∧ CI ∧ c < N ∧ p > c }\n",
    "c := c + 1\n",
    "{p < N ∧ p = c}\n",
    "```\n",
    "4.\n",
    "```\n",
    "{PC ∧ PI ∧ p < N ∧ p = c ∧ buf =a(p) ∧ CI ∧ c < N ∧ p > c }\n",
    "c := c + 1\n",
    "{p < N ∧ p = c ∧ buf =a(p)}\n",
    "```\n",
    "\n",
    "The first two hold as `c := c + 1` does not modify any of the variables in the states that need to be preserved. The last two hold as the precondition (antecedent) is `false`: `p = c` and `p > c` cannot hold at the same time.\n",
    "\n",
    "Formally, concurrent states `P` and `Q` _exclude each other_ if `¬(P ∧ Q)`. For example, states `p < N ∧ p = c` and `c < N ∧ p > c` exclude each other."
   ]
  },
  {
   "cell_type": "markdown",
   "metadata": {
    "editable": true,
    "slideshow": {
     "slide_type": "slide"
    },
    "tags": []
   },
   "source": [
    "The producer-consumer processes do not interfere with each other. In general, interference can be avoided by\n",
    "- having _annotations only over local variables,_ i.e. not relying on any values of shared variables,\n",
    "- when shared variables are involved, making _annotations sufficiently weak,_ as in the example with `⟨x := x + 1⟩ ‖ ⟨x := x + 2⟩`,\n",
    "- _using atomic regions_ where needed; in the example with variables `a`, `b`, `t`, that could be `⟨while ¬t do t := true ; a := a + 1⟩`.\n"
   ]
  },
  {
   "cell_type": "markdown",
   "metadata": {
    "slideshow": {
     "slide_type": "slide"
    }
   },
   "source": [
    "## Fairness"
   ]
  },
  {
   "cell_type": "markdown",
   "metadata": {
    "editable": true,
    "slideshow": {
     "slide_type": ""
    },
    "tags": []
   },
   "source": [
    "_Question:_ Does the following program terminate? What is the postcondition if it ever terminates?\n",
    "```\n",
    "n, t := 0, false\n",
    "(while ¬t do n := n + 1) ‖ t := true\n",
    "```"
   ]
  },
  {
   "cell_type": "markdown",
   "metadata": {
    "editable": true,
    "slideshow": {
     "slide_type": "fragment"
    },
    "solution": "shown",
    "solution_first": true,
    "tags": []
   },
   "source": [
    "The _minimal progress assumption_ implies only that one process has to make progress, if possible. Under minimal progress, the above program may not terminate. An _unfair_ scheduler may select the left process and neglect the right process. \n",
    "\n",
    "We may require a scheduler to be _(weakly) fair:_\n",
    "- an unconditional atomic region is executed eventually;\n",
    "- a conditional atomic region whose guard is continuously true is executed eventually."
   ]
  },
  {
   "cell_type": "markdown",
   "metadata": {
    "editable": true,
    "slideshow": {
     "slide_type": "fragment"
    },
    "solution": "shown",
    "tags": []
   },
   "source": [
    "*Answer:*  \n",
    "Under (weak) fairness, the above program terminates with `n ≥ 0`."
   ]
  },
  {
   "cell_type": "markdown",
   "metadata": {
    "editable": true,
    "slideshow": {
     "slide_type": "slide"
    },
    "solution": "shown",
    "solution_first": true,
    "tags": []
   },
   "source": [
    "_Question:_ Does the following program terminate under a (weakly) fair scheduler?\n",
    "```\n",
    "t, u := false, true\n",
    "⟨await t then u := false⟩ ‖ while u do t := true ‖ while u do t := false\n",
    "```"
   ]
  },
  {
   "cell_type": "markdown",
   "metadata": {
    "editable": true,
    "slideshow": {
     "slide_type": "fragment"
    },
    "solution": "shown",
    "tags": []
   },
   "source": [
    "*Answer:*   \n",
    "Under (weak) fairness, it does not necessarily terminate."
   ]
  },
  {
   "cell_type": "markdown",
   "metadata": {
    "slideshow": {
     "slide_type": "fragment"
    }
   },
   "source": [
    "For termination, the scheduler would have to be _strongly fair:_ if the guard of a conditional atomic region is repeatedly (but not necessarily continuously) true, it is taken.\n",
    "\n",
    "Typically, schedulers of operating systems and programming languages are weakly fair. Strong fairness is more difficult to implement."
   ]
  },
  {
   "cell_type": "markdown",
   "metadata": {
    "slideshow": {
     "slide_type": "slide"
    }
   },
   "source": [
    "## Safety and Liveness"
   ]
  },
  {
   "cell_type": "markdown",
   "metadata": {
    "editable": true,
    "slideshow": {
     "slide_type": ""
    },
    "tags": []
   },
   "source": [
    "Every _functional property_ of a (sequential or concurrent) program can be formulated as either a safety or a liveness property.\n",
    "\n",
    ">_Safety:_ Nothing bad will ever happen; all states of all traces are \"not bad\". Invariance properties express safety.\n",
    "\n",
    ">_Liveness:_ Something good will eventually happen; all traces will eventually lead to a \"good\" state.\n",
    "\n",
    "_Termination_ is a liveness property: a final state will eventually be reached.\n",
    "\n",
    "Formally, safety properties are properties of individual steps of traces (or finite sequences of steps), and liveness properties are properties of infinite traces."
   ]
  },
  {
   "cell_type": "markdown",
   "metadata": {
    "editable": true,
    "slideshow": {
     "slide_type": ""
    },
    "solution": "hidden",
    "solution_first": true,
    "tags": []
   },
   "source": [
    "<img style=\"float:right;border-left:2em solid white\" src=\"./img/TrafficLight.svg\"/>\n",
    "\n",
    "_Question:_ What are the safety and liveness properties of a traffic intersection with lights?\n"
   ]
  },
  {
   "cell_type": "markdown",
   "metadata": {
    "editable": true,
    "slideshow": {
     "slide_type": "fragment"
    },
    "solution": "hidden",
    "tags": []
   },
   "source": [
    "*Answer:*\n",
    "* Safety: At most one light is green at a time.\n",
    "* Liveness: Each light will eventually be green.  \n",
    "\n",
    "If all lights are red, the intersection is safe, but not live. If all lights are green, the intersection is live but not safe."
   ]
  },
  {
   "cell_type": "markdown",
   "metadata": {
    "editable": true,
    "slideshow": {
     "slide_type": "slide"
    },
    "solution": "hidden",
    "solution_first": true,
    "tags": []
   },
   "source": [
    "_Question:_ Suppose `n` is an account balance, a `Spender` repeatedly withdraws until the balance is `0`, and a `Saver` repeatedly deposits until the balance is `10`. What is the outcome of `Spender ‖ Saver`? Do `Spender` and `Saver` interfere with each other with the given annotation?\n",
    "\n",
    "```\n",
    "var n : integer\n",
    "```\n",
    "\n",
    "<div style=\"float:left;border-left:2em solid white\">\n",
    "\n",
    "```\n",
    "procedure Spender\n",
    "    {true}\n",
    "    while n > 0 do ⟨n := n – 1⟩\n",
    "    a := 1\n",
    "    {a = 1}\n",
    "```\n",
    "</div>\n",
    "<div style=\"float:left;border-left:6em solid white\">\n",
    "\n",
    "```\n",
    "procedure Saver\n",
    "    {true}\n",
    "    while n < 10 do ⟨n := n + 1⟩\n",
    "    b := 1\n",
    "    {b = 1}\n",
    "```\n",
    "</div>"
   ]
  },
  {
   "cell_type": "markdown",
   "metadata": {
    "editable": true,
    "slideshow": {
     "slide_type": "fragment"
    },
    "solution": "hidden",
    "tags": []
   },
   "source": [
    "*Answer:*   \n",
    "The parallel composition `Spender ‖ Saver` does not always terminate, but if it does, it establishes both postconditions; `Spender` and `Saver` do not interfere."
   ]
  },
  {
   "cell_type": "markdown",
   "metadata": {
    "editable": true,
    "slideshow": {
     "slide_type": "fragment"
    },
    "tags": []
   },
   "source": [
    "Without interference, safety properties are preserved in a parallel composition, but liveness, including termination, is not!\n",
    "\n",
    "This is an example of why concurrent programming is hard: testing `Spender` and `Saver` separately does not expose the non-termination; when testing `Spender ‖ Saver`, non-termination may or may not be observed. This is different from `;`, where if both operands terminate, so will their sequential composition."
   ]
  },
  {
   "cell_type": "markdown",
   "metadata": {
    "editable": true,
    "slideshow": {
     "slide_type": "slide"
    },
    "tags": []
   },
   "source": [
    "## Critical Section"
   ]
  },
  {
   "cell_type": "markdown",
   "metadata": {
    "editable": true,
    "slideshow": {
     "slide_type": ""
    },
    "tags": []
   },
   "source": [
    "Mutual exclusion is typically implemented by locks that protect _critical sections_.\n",
    "\n",
    "```\n",
    "process CSi\n",
    "    while true do\n",
    "        entry protocol\n",
    "        critical section\n",
    "        exit protocol\n",
    "        noncritical section\n",
    "```\n",
    "\n",
    "Any solution has to satisfy three safety properties and one liveness property:\n",
    "1. _Mutual exclusion:_ At most one process can be in its critical section. (Safety)\n",
    "2. _No deadlock (livelock):_ If two or more are trying to enter and no other process is in its critical section, one will. (Safety)\n",
    "3. _No unnecessary delay:_ If one tries to enter and no other process is in its critical section, it is not prevented. (Safety)\n",
    "4. _Eventual entry:_ a process trying to enter will eventually succeed. (Liveness)\n",
    "\n",
    "When processes deadlock, they wait for each other and don't enter the critical section. When processes livelock, they engage with each other in the entry protocol indefinitely and don't enter the critical section. "
   ]
  },
  {
   "cell_type": "markdown",
   "metadata": {
    "editable": true,
    "slideshow": {
     "slide_type": "slide"
    },
    "solution": "hidden",
    "solution_first": true,
    "tags": []
   },
   "source": [
    "<img style=\"float:right;border-left:2em solid white\" src=\"./img/TrafficStopSign.svg\"/>\n",
    "\n",
    "_Question:_ What are these properties at a traffic intersection? You may consider 4-way stop signs or traffic lights."
   ]
  },
  {
   "cell_type": "markdown",
   "metadata": {
    "editable": true,
    "slideshow": {
     "slide_type": "fragment"
    },
    "solution": "hidden",
    "tags": []
   },
   "source": [
    "_Answer:_\n",
    "1. _Mutual exclusion:_ At most one car enters the intersection.\n",
    "2. _No deadlock with stop signs:_ If two or three cars arrive at the same time from adjacent directions, they will not all wait for each other, e.g. the one to the right goes first.   \n",
    "_No livelock with stop sights:_ If cars arrive from all four directions simultaneously, drivers will not gesture to each other indefinitely, and one car may proceed.\n",
    "3. _No unnecessary delay with traffic lights:_ If a car arrives  and no other cars are already at the intersection, the traffic light will turn green.\n",
    "4. _Eventual entry with traffic lights:_ All cars arriving at an intersection will eventually be able to enter it, i.e. all traffic lights will eventually turn green."
   ]
  },
  {
   "cell_type": "markdown",
   "metadata": {
    "editable": true,
    "slideshow": {
     "slide_type": "slide"
    },
    "tags": []
   },
   "source": [
    "Here is an _abstract_ solution, i.e. with \"coarse-grained\" atomic regions; `CS` is the critical section invariant:\n",
    "\n",
    "```\n",
    "in1, in2 := false, false\n",
    "{CS: ¬(in1 ∧ in2)}\n",
    "```\n",
    "<div style=\"float:left;border-left:2em solid white\">\n",
    "\n",
    "```\n",
    "process CS1\n",
    "    while true do\n",
    "        ⟨await ¬in2 then in1 := true⟩\n",
    "        critical section\n",
    "        in1 := false\n",
    "        noncritical section\n",
    "```\n",
    "</div>\n",
    "<div style=\"float:left;border-left:6em solid white\">\n",
    "\n",
    "```\n",
    "process CS2\n",
    "    while true do\n",
    "        ⟨await ¬in1 then in2 := true⟩\n",
    "        critical section\n",
    "        in2 := false\n",
    "        noncritical section\n",
    "```\n",
    "</div>"
   ]
  },
  {
   "cell_type": "markdown",
   "metadata": {
    "editable": true,
    "slideshow": {
     "slide_type": ""
    },
    "solution": "hidden",
    "solution_first": true,
    "tags": []
   },
   "source": [
    "_Question:_ Do the four properties, mutual exclusion, no deadlock (livelock), no unnecessary delay, and eventual entry hold?"
   ]
  },
  {
   "cell_type": "markdown",
   "metadata": {
    "editable": true,
    "slideshow": {
     "slide_type": "fragment"
    },
    "solution": "hidden",
    "tags": []
   },
   "source": [
    "_Answer:_  \n",
    "Yes, yes, yes, possibly.     \n",
    "The last point depends on the fairness assumption. With minimal progress, it is possible that the process `CS1` continues indefinitely, so the answer is no. With weak fairness, it is possible that `CS2` is attempted whenever `CS1` is in its critical section, so the answer is no. With strong fairness, as the guards of the `await` statements are repeatedly (but no continuously) true, eventual entry holds."
   ]
  },
  {
   "cell_type": "markdown",
   "metadata": {
    "slideshow": {
     "slide_type": "skip"
    }
   },
   "source": [
    "_Exercise:_ Give the annotation that is required for the `CS` invariant in a state diagram! Check both the correctness of transitions as well as non-interference."
   ]
  },
  {
   "cell_type": "markdown",
   "metadata": {
    "editable": true,
    "slideshow": {
     "slide_type": "slide"
    },
    "tags": []
   },
   "source": [
    "The solution can be easily generalized to more processes by observing that only one of `in1`, `in2`, `...` can be true, and hence these can be replaced by a single variable `lock`. The relationship is `lock = in1 ∨ in2 ∨ ...`:\n",
    "\n",
    "```\n",
    "lock := false\n",
    "```\n",
    "\n",
    "<div style=\"float:left;border-left:2em solid white\">\n",
    "\n",
    "```\n",
    "process CS1\n",
    "    while true do\n",
    "        ⟨await ¬lock then lock := true⟩\n",
    "        critical section\n",
    "        lock := false\n",
    "        noncritical section\n",
    "```\n",
    "</div>\n",
    "<div style=\"float:left;border-left:6em solid white\">\n",
    "\n",
    "```\n",
    "process CS2\n",
    "    while true do\n",
    "        ⟨await ¬lock then lock := true⟩\n",
    "        critical section\n",
    "        lock := false\n",
    "        noncritical section\n",
    "```\n",
    "</div>"
   ]
  },
  {
   "cell_type": "markdown",
   "metadata": {
    "editable": true,
    "slideshow": {
     "slide_type": "slide"
    },
    "tags": []
   },
   "source": [
    "Common programming languages do not have `await` statements and atomicity brackets. However, processors have an atomic _test-and-set instruction_ (called [BTS](https://c9x.me/x86/html/file_module_x86_id_25.html) in the x86 architecture) that can be used to implement `await` statements and atomicity brackets.\n",
    "\n",
    "```\n",
    "procedure (lock: boolean) TAS () → (init: boolean)\n",
    "    ⟨init := lock ; lock := true⟩\n",
    "```\n",
    "\n",
    "The call `i ← l.TAS()` updates boolean `l` as if it were passed to `TAS` by reference: the call assigns the previous value of `l` to `i` and sets `l` to `true`. (In a processor, `l` would be a word in memory and `i` would be a register).\n",
    "\n",
    "By employing a _spin lock,_ eventual entry (property 4) is \"more likely\":\n",
    "\n",
    "```\n",
    "process CSi\n",
    "    while true do\n",
    "        repeat init ← lock.TAS() until ¬init\n",
    "        critical section\n",
    "        lock := false\n",
    "        noncritical section\n",
    "```\n",
    "The loop `repeat S until B` is formally equivalent to `S ; while ¬B do S`. For brevity, we define:\n",
    "\n",
    "```\n",
    "CSenter:   repeat init ← lock.TAS() until ¬init\n",
    "CSexit:      lock := false\n",
    "```"
   ]
  },
  {
   "cell_type": "markdown",
   "metadata": {
    "editable": true,
    "slideshow": {
     "slide_type": "slide"
    },
    "tags": []
   },
   "source": [
    "The atomic region `⟨S⟩` can be implemented by\n",
    "```\n",
    "CSenter\n",
    "S\n",
    "CSexit\n",
    "```\n",
    "provided that access to all variables of `S` are protected with the same lock; atomic regions accessing disjoint variables can proceed in parallel.\n",
    "\n",
    "The guarded atomic region `⟨await B then S⟩` can be implemented by\n",
    "```\n",
    "CSenter\n",
    "while ¬B do CSexit ; CSenter\n",
    "S\n",
    "CSexit\n",
    "```\n",
    "provided that access to all variables of `B` and `S` are protected with the same lock.\n",
    "\n",
    "This involves spinning and may lead to _memory contention_ when accessing the variables of `B`. To reduce this, it is preferable to insert a _delay:_\n",
    "```\n",
    "CSenter\n",
    "while ¬B do CSexit ; delay ; CSenter\n",
    "S\n",
    "CSexit\n",
    "```\n",
    "A delay can be randomly chosen from an interval that is doubled each time, known as the _exponential back-off protocol._"
   ]
  },
  {
   "cell_type": "markdown",
   "metadata": {
    "editable": true,
    "slideshow": {
     "slide_type": "slide"
    },
    "tags": []
   },
   "source": [
    "As an alternative to the test-and-set instruction, some processors have a *compare-and-swap* instruction (called [CMPXCHG](https://c9x.me/x86/html/file_module_x86_id_41.html) in the x86 architecture, [CAS](https://developer.arm.com/documentation/ddi0596/2021-06/Base-Instructions/CAS--CASA--CASAL--CASL--Compare-and-Swap-word-or-doubleword-in-memory-) in newer versions of the ARM architecture). In general, it operates on any word in memory, e.g. integer or boolean:\n",
    "\n",
    "```\n",
    "procedure (x: word) CAS (a, b: word) → (r: boolean)\n",
    "    ⟨if x = a then x := b; r := true\n",
    "     else r := false⟩\n",
    "```\n",
    "\n",
    "The call `r ← x.CAS(a, b)` compares `x` with `a`: if they are the same, `x` is updated to `b` and `true` is returned; otherwise, `false` is returned. Using `CAS`, the solution becomes:\n",
    "\n",
    "```\n",
    "process CSi\n",
    "    while true do\n",
    "        repeat done ← lock.CAS(false, true) until done\n",
    "        critical section\n",
    "        lock := false\n",
    "        noncritical section\n",
    "```\n",
    "Thus, alternative definitions of `CSenter` and `CSexit` are:\n",
    "\n",
    "```\n",
    "CSenter:   repeat done ← lock.CAS(false, true) until done\n",
    "CSexit:      lock := false\n",
    "```"
   ]
  },
  {
   "cell_type": "markdown",
   "metadata": {
    "editable": true,
    "slideshow": {
     "slide_type": "slide"
    },
    "tags": []
   },
   "source": [
    "The _Tie-Breaker Algorithm_ _(Peterson's Algorithm)_ obtains a fair solution to the critical sections problem by recording which process had the last turn; `in1`, `in2` now mean that `CS1`, `CS2` want to enter their critical section:\n",
    "\n",
    "```algorithm\n",
    "in1, in2, last := false, false, 1\n",
    "{CS: ¬(cs1 ∧ cs2)\n",
    "```\n",
    "<div style=\"float:left;border-left:2em solid white\">\n",
    "\n",
    "```algorithm\n",
    "process CS1\n",
    "    while true do\n",
    "        last := 1 ; in1 := true\n",
    "        ⟨await ¬in2 or last = 2⟩\n",
    "        cs1 := true\n",
    "        {in1 ∧ (¬in2 ∨ last = 2) ∧ cs1 ∧ ¬cs2}\n",
    "        critical section\n",
    "        cs1 := false\n",
    "        in1 := false\n",
    "        noncritical section\n",
    "```\n",
    "</div>\n",
    "<div style=\"float:left;border-left:6em solid white\">\n",
    "\n",
    "```algorithm\n",
    "process CS2\n",
    "    while true do\n",
    "        last := 2 ; in2 := true\n",
    "        ⟨await ¬in1 or last = 1⟩\n",
    "        cs2 := true\n",
    "        {in2 ∧ (¬in1 ∨ last = 1) ∧ ¬cs1 ∧ cs2}\n",
    "        critical section\n",
    "        cs2 := false\n",
    "        in2 := false\n",
    "        noncritical section\n",
    "```\n",
    "</div>"
   ]
  },
  {
   "cell_type": "markdown",
   "metadata": {
    "editable": true,
    "slideshow": {
     "slide_type": "slide"
    },
    "tags": []
   },
   "source": [
    "The drawback of the tie-breaker algorithm is that it is difficult to generalize to more than two processes. The idea of the _ticket algorithm_ is that each process first gets a ticket with the number in the queue. Assume `turn: 0 .. N – 1 → integer`:\n",
    "\n",
    "```\n",
    "number, next, turn := 1, 1, [0, ..., 0]\n",
    "{next > 0 ∧\n",
    "    ∀ i ∈ 0 .. N - 1 • (CS(i) in critical section ⇒ turn(i) = next)   ∧\n",
    "    (  turn(i) > 0 ⇒ (∀ j ∈ 0 .. N – 1 • j ≠ i ⇒ turn(i) ≠ turn(j))  ) }\n",
    "process CS(i: 0 .. N – 1)\n",
    "    while true do\n",
    "        ⟨turn(i) := number ; number := number + 1⟩\n",
    "        ⟨await turn(i) = next⟩\n",
    "        critical section\n",
    "        ⟨next := next + 1⟩\n",
    "        noncritical section\n",
    "```\n",
    "The parameter of `CS` is a notation for _process replication:_ `N` copies of `CS` are started, each with a different value of `i`."
   ]
  },
  {
   "cell_type": "markdown",
   "metadata": {
    "editable": true,
    "slideshow": {
     "slide_type": ""
    },
    "tags": []
   },
   "source": [
    "The ticket algorithm requires fetching and incrementing an integer as one atomic operation. An implementation of\n",
    "```\n",
    "⟨turn(i) := number ; number := number + 1⟩\n",
    "```\n",
    "with `TAS` would be\n",
    "```\n",
    "CSenter\n",
    "turn(i) := number ; number := number + 1\n",
    "CSexit\n",
    "```\n",
    "where `CSenter` and `CSexit` use a lock for variable `number`. The `CAS` primitive allows a more succinct implementation:\n",
    "```\n",
    "repeat turn(i) := number; done ← number.CAS(turn(i), number + 1)\n",
    "until done\n",
    "```\n",
    "\n",
    "Although the contention for accessing `number` may not be resolved fairly, this implementation works sufficiently well in practice. "
   ]
  },
  {
   "cell_type": "markdown",
   "metadata": {
    "editable": true,
    "slideshow": {
     "slide_type": "slide"
    },
    "tags": []
   },
   "source": [
    "Some processors have a _fetch-and-add instruction_ specifically for atomically incrementing a number:\n",
    "- The x86 architecture has an [XADD](https://devblogs.microsoft.com/oldnewthing/20190212-00/?p=101048) instruction that can be used with the LOCK prefix to achieve atomicity,\n",
    "```\n",
    "LOCK XADD dst, src   =   ⟨dst, src := dst + src, dst⟩\n",
    "```\n",
    "where `dst` is a register or a memory location and `src` is a register. \n",
    "\n",
    "- The [ARM v7 processor](http://infocenter.arm.com/help/topic/com.arm.doc.dht0008a/DHT0008A_arm_synchronization_primitives.pdf) (see also the [ARMv7 Architecture Reference](https://developer.arm.com/documentation/ddi0406/c/Application-Level-Architecture/Application-Level-Memory-Model/Memory-types-and-attributes-and-the-memory-order-model/Atomicity-in-the-ARM-architecture?lang=en)) splits atomic updates into a sequence of two instructions, _load-exclusive_ and _store-exclusive,_ with the hardware monitoring what happens in between,\n",
    "```\n",
    "LDREX dst, [src]       =   ⟨dst := Memory[src]⟩\n",
    "STREX R, src, [dst]   =   ⟨if dst = Memory[src] → Memory[dst], R := src, 0 ⫿ true → R := 1⟩\n",
    "```\n",
    "were `dst`, `src`, `R` are registers: if the memory location was modified in the meantime, `R` is set to `1`, otherwise to `0`. An increment of `Memory[ptr]` is performed in a loop:\n",
    "```\n",
    "L:  LDREX R1, [ptr]          ; load Memory[ptr] to R1 and monitor Memory[ptr]\n",
    "      ADD R1, R1, 1            ; add 1 to R1\n",
    "      STREX R2, R1, [ptr]    ; attempt to store R1 to Memory[ptr]; R2 is set to 1 if Memory[ptr] was not modified in the meantime\n",
    "      CMPNE R2, #1           ; check if store-exclusive failed\n",
    "      BEQ L                          ; if failed, retry by jumping back to L \n",
    "```\n",
    "- The [gcc compiler](https://gcc.gnu.org/onlinedocs/gcc/_005f_005fatomic-Builtins.html) has built-in functions for atomic operations that are compiled to whatever the hardware supports:\n",
    "```algorithm\n",
    "type __atomic_add_fetch (type *ptr, type val, int memorder)\n",
    "```\n",
    "where `type` must be 1, 2, 4, or 8 bytes in length."
   ]
  },
  {
   "cell_type": "markdown",
   "metadata": {
    "editable": true,
    "slideshow": {
     "slide_type": ""
    },
    "solution": "hidden",
    "solution_first": true,
    "tags": []
   },
   "source": [
    "_Question:_ Does the ARM code guarantee fairness among processes trying to increment `Memory[ptr]`?"
   ]
  },
  {
   "cell_type": "markdown",
   "metadata": {
    "editable": true,
    "slideshow": {
     "slide_type": "fragment"
    },
    "solution": "hidden",
    "tags": []
   },
   "source": [
    "_Answer:_  \n",
    "No, it is not fair, but the chances of one process starving are negligible.\n",
    "It has a chance that one process is continuously selected and the other processes are starving, but the probability is negligible.\n",
    "<!--\n",
    "x86, reduced instruction set computer RISC \n",
    "ARM, Complex Instruction Set Computer CISC\n",
    "-->"
   ]
  },
  {
   "cell_type": "markdown",
   "metadata": {
    "editable": true,
    "slideshow": {
     "slide_type": "slide"
    },
    "tags": []
   },
   "source": [
    "The ticket algorithm leads to _memory contention_ if many processors are trying to access `number`. The _bakery algorithm_ does not rely on a single global counter and does not need a special fetch-and-add instruction. Assuming `turn: 0 .. N – 1 → integer`, a coarse-grained solution is:\n",
    "```\n",
    "turn := [0, ..., 0]\n",
    "process CS(i: 0 .. N – 1)\n",
    "    while true do\n",
    "        ⟨turn(i) := max(turn) + 1⟩\n",
    "        for j = 0 to N – 1 do\n",
    "            if i ≠ j then ⟨await turn(j) = 0 or turn(i) < turn(j)⟩\n",
    "        critical section\n",
    "        turn(i) := 0\n",
    "        noncritical section\n",
    "```\n",
    "Operation `max(turn)` returns the maximum value in array `turn`."
   ]
  },
  {
   "cell_type": "markdown",
   "metadata": {
    "editable": true,
    "slideshow": {
     "slide_type": "slide"
    },
    "tags": []
   },
   "source": [
    "The `max` operation would need to be implemented by a loop, making entry inefficient. If we were to implement\n",
    "```\n",
    "turn(i) := max(turn) + 1\n",
    "```\n",
    "non-atomically, two processes, say `i` and `j`, may obtain the same value for `turn(i)` and `turn(j)`, leading to a deadlock in the `await` statement.\n",
    "\n",
    "This situation can be avoided by giving preference to one of the two or more processes with the same value of turn in some arbitrary way, for example, by using the process number. The conditions of the await do not need to be evaluated atomically. Thus we can arrive at a solution that only relies on assignments being atomic:\n",
    "\n",
    "```\n",
    "turn:= [0, ..., 0]\n",
    "process CS(i: 0 .. N – 1)\n",
    "    while true do\n",
    "        turn(i) := max(turn) + 1\n",
    "        for j = 0 to N – 1 do\n",
    "            while turn(j) ≠ 0 and (  turn(i) > turn(j)  or  (turn(i) = turn(j) and i > j)  ) do\n",
    "                skip\n",
    "        critical section\n",
    "        turn(i) := 0\n",
    "        noncritical section\n",
    "```"
   ]
  },
  {
   "cell_type": "markdown",
   "metadata": {
    "editable": true,
    "slideshow": {
     "slide_type": ""
    },
    "solution": "hidden",
    "solution_first": true,
    "tags": []
   },
   "source": [
    "_Question:_ Does this guarantee fairness among processes trying to enter their critical section?"
   ]
  },
  {
   "cell_type": "markdown",
   "metadata": {
    "editable": true,
    "slideshow": {
     "slide_type": "fragment"
    },
    "solution": "hidden",
    "tags": []
   },
   "source": [
    "_Answer:_  \n",
    "Yes, although processes with a lower process number may have an advantage."
   ]
  }
 ],
 "metadata": {
  "kernelspec": {
   "display_name": "Python 3 (ipykernel)",
   "language": "python",
   "name": "python3"
  },
  "language_info": {
   "codemirror_mode": {
    "name": "ipython",
    "version": 3
   },
   "file_extension": ".py",
   "mimetype": "text/x-python",
   "name": "python",
   "nbconvert_exporter": "python",
   "pygments_lexer": "ipython3",
   "version": "3.13.0"
  },
  "livereveal": {
   "history": true,
   "margin": "0.01",
   "progress": true,
   "scroll": true,
   "start_slideshow_at": "selected"
  },
  "rise": {
   "enable_chalkboard": true
  },
  "toc": {
   "base_numbering": 1,
   "nav_menu": {},
   "number_sections": false,
   "sideBar": false,
   "skip_h1_title": true,
   "title_cell": "Table of Contents",
   "title_sidebar": "Contents",
   "toc_cell": false,
   "toc_position": {},
   "toc_section_display": true,
   "toc_window_display": false
  }
 },
 "nbformat": 4,
 "nbformat_minor": 4
}
