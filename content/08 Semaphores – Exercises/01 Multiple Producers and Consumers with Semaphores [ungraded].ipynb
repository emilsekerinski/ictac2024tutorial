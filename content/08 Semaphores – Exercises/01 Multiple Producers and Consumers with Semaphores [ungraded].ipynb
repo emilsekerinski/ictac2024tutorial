{
 "cells": [
  {
   "cell_type": "markdown",
   "metadata": {},
   "source": [
    "### Multiple Producers and Consumers with Semaphores [ungraded]"
   ]
  },
  {
   "cell_type": "markdown",
   "metadata": {},
   "source": [
    "A solution to the Producers and Consumers problem with semaphores is:\n",
    "```\n",
    "var buf: T\n",
    "var empty, full: semaphore = 1, 0\n",
    "```\n",
    "<div style=\"display:table\">\n",
    "  <div style = \"display:table-cell; border-left:2em solid transparent\">\n",
    "\n",
    "```algorithm\n",
    "procedure producer\n",
    "    while true do\n",
    "        produce data\n",
    "        P(empty)\n",
    "        buf := data\n",
    "        V(full)\n",
    "```\n",
    "  </div>\n",
    "  <div style = \"display:table-cell; border-left:2em solid transparent\">\n",
    "\n",
    "```algorithm\n",
    "procedure consumer\n",
    "    while true do\n",
    "        P(full)\n",
    "        data := buf\n",
    "        V(empty)\n",
    "        consume data\n",
    "```\n",
    "\n",
    "  </div>\n",
    "</div>\n",
    "<br>\n",
    "\n",
    "Does this allow several producers, as in `producer ‖ producer ‖ consumer`, or several consumers? Formulate the solution for `M` producers and `N` consumers!"
   ]
  },
  {
   "cell_type": "markdown",
   "metadata": {},
   "source": [
    "YOUR ANSWER HERE"
   ]
  }
 ],
 "metadata": {
  "celltoolbar": "Create Assignment",
  "kernelspec": {
   "display_name": "Python 3 (ipykernel)",
   "language": "python",
   "name": "python3"
  },
  "language_info": {
   "codemirror_mode": {
    "name": "ipython",
    "version": 3
   },
   "file_extension": ".py",
   "mimetype": "text/x-python",
   "name": "python",
   "nbconvert_exporter": "python",
   "pygments_lexer": "ipython3",
   "version": "3.11.2"
  }
 },
 "nbformat": 4,
 "nbformat_minor": 4
}
