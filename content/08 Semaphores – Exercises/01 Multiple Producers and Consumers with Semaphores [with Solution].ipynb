{
 "cells": [
  {
   "cell_type": "markdown",
   "metadata": {
    "solution": "hidden"
   },
   "source": [
    "### Producers and Consumers with Semaphores [with solution]"
   ]
  },
  {
   "cell_type": "markdown",
   "metadata": {},
   "source": [
    "A solution to the Producers and Consumers problem with semaphores is:\n",
    "```\n",
    "var buf: T\n",
    "var empty, full: semaphore = 1, 0\n",
    "```\n",
    "<div style=\"display:table\">\n",
    "  <div style = \"display:table-cell; border-left:2em solid transparent\">\n",
    "\n",
    "```algorithm\n",
    "procedure producer\n",
    "    while true do\n",
    "        produce data\n",
    "        P(empty)\n",
    "        buf := data\n",
    "        V(full)\n",
    "```\n",
    "  </div>\n",
    "  <div style = \"display:table-cell; border-left:2em solid transparent\">\n",
    "\n",
    "```algorithm\n",
    "procedure consumer\n",
    "    while true do\n",
    "        P(full)\n",
    "        data := buf\n",
    "        V(empty)\n",
    "        consume data\n",
    "```\n",
    "\n",
    "  </div>\n",
    "</div>\n",
    "<br>\n",
    "\n",
    "Does this allow several producers, as in `producer ‖ producer ‖ consumer`, or several consumers? Formulate the solution for `M` producers and `N` consumers!"
   ]
  },
  {
   "cell_type": "markdown",
   "metadata": {
    "solution": "hidden",
    "solution_first": true
   },
   "source": [
    "YOUR ANSWER HERE"
   ]
  },
  {
   "cell_type": "markdown",
   "metadata": {
    "jupyter": {
     "source_hidden": true
    },
    "solution": "hidden"
   },
   "source": [
    "_Answer:_  \n",
    "Yes, several producers are allowed, as only one will be able to pass `P` and all others will get blocked, and similarly for consumers.\n",
    "```\n",
    "var buf: T\n",
    "var empty, full: semaphore = 1, 0\n",
    "```\n",
    "<div style=\"display:table\">\n",
    "  <div style = \"display:table-cell; border-left:2em solid transparent\">\n",
    "\n",
    "```algorithm\n",
    "process producer(p: 0 .. M – 1)\n",
    "    while true do\n",
    "        produce data\n",
    "        P(empty)\n",
    "        buf := data\n",
    "        V(full)\n",
    "```\n",
    "  </div>\n",
    "  <div style = \"display:table-cell; border-left:2em solid transparent\">\n",
    "\n",
    "```algorithm\n",
    "process consumer(c: 0 .. N – 1)\n",
    "    while true do\n",
    "        P(full)\n",
    "        data := buf\n",
    "        V(empty)\n",
    "        consume data\n",
    "```\n",
    "  </div>\n",
    "</div>"
   ]
  }
 ],
 "metadata": {
  "kernelspec": {
   "display_name": "Python 3 (ipykernel)",
   "language": "python",
   "name": "python3"
  },
  "language_info": {
   "codemirror_mode": {
    "name": "ipython",
    "version": 3
   },
   "file_extension": ".py",
   "mimetype": "text/x-python",
   "name": "python",
   "nbconvert_exporter": "python",
   "pygments_lexer": "ipython3",
   "version": "3.11.2"
  }
 },
 "nbformat": 4,
 "nbformat_minor": 4
}
