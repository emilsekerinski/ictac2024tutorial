{
 "cells": [
  {
   "cell_type": "markdown",
   "metadata": {},
   "source": [
    "### Bicycle Workshop (Python)"
   ]
  },
  {
   "cell_type": "markdown",
   "metadata": {},
   "source": [
    "Suppose `B` bicycle riders live alternating between riding a bicycle and repairing it at a workshop. Due to capacity limitations, the workshop can accommodate most `C` repairs at a time. The algorithm below ensures this by using a *counting semaphore* initialized to `C`.\n",
    "\n",
    "```algorithm\n",
    "\n",
    "var shop: semaphore = C\n",
    "\n",
    "process rider(i: 0 .. B – 1)\n",
    "    while true do\n",
    "        ride bicycle\n",
    "        P(shop)\n",
    "        repair bicycle\n",
    "        V(shop)\n",
    "```\n",
    "\n",
    "This is a generalization of the critical section problem in that up to `C` processes can be in the critical section, `repair bicycle`. Assuming that the semaphore implementation is weakly fair, which of the four properties of critical sections (mutual exclusion, no deadlock, no unnecessary delay, eventual entry) hold?"
   ]
  },
  {
   "cell_type": "markdown",
   "metadata": {
    "solution": "hidden",
    "solution_first": true
   },
   "source": [
    "YOUR ANSWER HERE"
   ]
  },
  {
   "cell_type": "markdown",
   "metadata": {
    "jupyter": {
     "source_hidden": true
    },
    "solution": "hidden"
   },
   "source": [
    "*Answer:*  \n",
    "- Mutual exclusion: no, as up to `C` riders can be in the shop.\n",
    "- No deadlock: yes, if two or more riders are trying to enter and no other rider is in the shop, one rider will enter.\n",
    "- No unnecessary delay: yes, if one rider is trying to enter the shop and no other rider is in the shop, the rider is not prevented.\n",
    "- Eventual entry: no, even though the semaphore will repeatedly allow a rider to enter the critical section, under weak fairness, the scheduler may select a rider each time they are blocked."
   ]
  },
  {
   "cell_type": "markdown",
   "metadata": {},
   "source": [
    "Here is an implementation in Python that adds output and limits the riders to `4` rounds of riding and repairing:"
   ]
  },
  {
   "cell_type": "code",
   "execution_count": null,
   "metadata": {},
   "outputs": [],
   "source": [
    "from threading import Thread, Semaphore\n",
    "from time import sleep\n",
    "from sys import stdout\n",
    "\n",
    "class Rider(Thread):\n",
    "    def __init__(self, i):\n",
    "        Thread.__init__(self); self.i = i\n",
    "    def run(self):\n",
    "        for _ in range(4):\n",
    "            stdout.write(str(self.i) + ' riding\\n'); sleep(2)\n",
    "            shop.acquire()\n",
    "            stdout.write(str(self.i) + \" repairing\\n\"); sleep(1)\n",
    "            shop.release()\n",
    "        stdout.write(str(self.i) + \" done\\n\")\n",
    "\n",
    "C, B = 3, 10\n",
    "shop = Semaphore(C)\n",
    "riders = {Rider(i) for i in range(B)}\n",
    "for r in riders: r.start()\n",
    "for r in riders: r.join()"
   ]
  },
  {
   "cell_type": "markdown",
   "metadata": {},
   "source": [
    "Modify the implementation to display the number of bicycles in the shop! That number is initially `0` and changes each time a bicycle enters or exits the shop."
   ]
  },
  {
   "cell_type": "code",
   "execution_count": null,
   "metadata": {
    "solution": "hidden",
    "solution_first": true
   },
   "outputs": [],
   "source": [
    "YOUR CODE HERE"
   ]
  },
  {
   "cell_type": "code",
   "execution_count": null,
   "metadata": {
    "jupyter": {
     "source_hidden": true
    },
    "solution": "hidden"
   },
   "outputs": [],
   "source": [
    "from threading import Thread, Semaphore\n",
    "from time import sleep\n",
    "from sys import stdout\n",
    "\n",
    "class Rider(Thread):\n",
    "    def __init__(self, i):\n",
    "        Thread.__init__(self); self.i = i\n",
    "    def run(self):\n",
    "        for _ in range(4):\n",
    "            global occ\n",
    "            stdout.write(str(self.i) + ' riding\\n'); sleep(2)\n",
    "            shop.acquire()\n",
    "            mutex.acquire(); occ += 1; stdout.write(\"occupancy: \" + str(occ) + \"\\n\"); stdout.flush(); mutex.release()\n",
    "            stdout.write(str(self.i) + \" repairing\\n\"); sleep(1)\n",
    "            mutex.acquire(); occ -= 1; stdout.write(\"occupancy: \" + str(occ) + \"\\n\"); mutex.release()\n",
    "            shop.release()\n",
    "        stdout.write(str(self.i) + \" done\\n\")\n",
    "\n",
    "C, B = 3, 10\n",
    "shop, mutex, occ = Semaphore(C), Semaphore(1), 0\n",
    "stdout.write(\"occupancy: 0\\n\")\n",
    "riders = {Rider(i) for i in range(B)}\n",
    "for r in riders: r.start()\n",
    "for r in riders: r.join()"
   ]
  },
  {
   "cell_type": "markdown",
   "metadata": {},
   "source": [
    "Is the output always consistent in that the occupancy always corresponds to the number of riders who have entered the shop minus the number of riders who have left the shop?"
   ]
  },
  {
   "cell_type": "markdown",
   "metadata": {
    "solution": "hidden",
    "solution_first": true
   },
   "source": [
    "YOUR ANSWER HERE"
   ]
  },
  {
   "cell_type": "markdown",
   "metadata": {
    "jupyter": {
     "source_hidden": true
    },
    "solution": "hidden"
   },
   "source": [
    "*Answer:*  \n",
    "In the above solution, each thread writes to its buffer. There is no guarantee when the buffers are flushed and that the output appears on the screen immediately. This could be made more likely by explicitly flushing the buffer by inserting `stdout.flush()`, though there is no guarantee that `flush()` will be called right after `write()` in a thread, so the output may still appear inconsistent. A way to get consistent output is if each thread atomically appends its output to a string, and that string is then displayed, or equivalently, if writing and flushing the buffer is made atomic through a mutex semaphore."
   ]
  },
  {
   "cell_type": "markdown",
   "metadata": {},
   "source": [
    "A *binary semaphore* is a semaphore that takes only two values, `0` and `1`. (Binary semaphores are sometimes called locks or mutexes.) Give an algorithm for the bicycle workshop equivalent to the above one but using only binary semaphores! It can use additional integer variables, but minimize the number of variables you use!"
   ]
  },
  {
   "cell_type": "markdown",
   "metadata": {
    "solution": "hidden",
    "solution_first": true
   },
   "source": [
    "```algorithm\n",
    "YOUR ALGORITHM HERE\n",
    "```"
   ]
  },
  {
   "cell_type": "markdown",
   "metadata": {
    "jupyter": {
     "source_hidden": true
    },
    "solution": "hidden"
   },
   "source": [
    "*Answer:*  \n",
    "The idea here is to introduce an integer variable, `avail`, for the number of available spots in the workshop; it is incremented on each attempted entry and thus can become negative. When negative, its absolute value is the number of riders waiting for entry. One semaphore, `mutex`, ensures that updates to `avail` are atomic. Another semaphore, `free`, is used to notify waiting riders when a spot becomes available.\n",
    "\n",
    "```algorithm\n",
    "var mutex: semaphore = 1\n",
    "var free: semaphore = 0\n",
    "var avail: integer = C\n",
    "\n",
    "process rider(i: 0 .. B – 1)\n",
    "    while true do\n",
    "        ride bicycle\n",
    "        P(mutex); avail := avail – 1\n",
    "        if avail < 0 then V(mutex); P(free)\n",
    "        else V(mutex)\n",
    "        repair bicycle\n",
    "        P(mutex); avail := avail + 1\n",
    "        if avail <= 0 then V(mutex); V(free)\n",
    "        else V(mutex)\n",
    "```"
   ]
  },
  {
   "cell_type": "markdown",
   "metadata": {},
   "source": [
    "Does your algorithm guarantee the four properties of critical sections?"
   ]
  },
  {
   "cell_type": "markdown",
   "metadata": {
    "solution": "hidden",
    "solution_first": true
   },
   "source": [
    "YOUR ANSWER HERE"
   ]
  },
  {
   "cell_type": "markdown",
   "metadata": {
    "jupyter": {
     "source_hidden": true
    },
    "solution": "hidden"
   },
   "source": [
    "*Answer:*  \n",
    "- Mutual exclusion: no, as up to `C` riders can be in the shop.\n",
    "- No deadlock: yes, if two or more riders are trying to enter and no other rider is in the shop, one rider will enter.\n",
    "- No unnecessary delay: yes, if one rider is trying to enter the shop and no other rider is in the shop, the rider is not prevented.\n",
    "- Eventual entry: no, even though the semaphore will repeatedly allow a rider to pass `P(mutex)` and `P(free)`, under weak fairness, the scheduler may select a rider each time they are blocked."
   ]
  },
  {
   "cell_type": "markdown",
   "metadata": {},
   "source": [
    "Implement your algorithm in Python! You may add output to display the activity of each rider and the shop occupancy."
   ]
  },
  {
   "cell_type": "code",
   "execution_count": null,
   "metadata": {
    "solution": "hidden",
    "solution_first": true
   },
   "outputs": [],
   "source": [
    "YOUR CODE HERE"
   ]
  },
  {
   "cell_type": "code",
   "execution_count": null,
   "metadata": {
    "jupyter": {
     "source_hidden": true
    },
    "solution": "hidden"
   },
   "outputs": [],
   "source": [
    "from threading import Thread, Semaphore\n",
    "from time import sleep\n",
    "from sys import stdout\n",
    "\n",
    "class Rider(Thread):\n",
    "    def __init__(self, i):\n",
    "        Thread.__init__(self); self.i = i\n",
    "    def run(self):\n",
    "        for _ in range(4):\n",
    "            global avail\n",
    "            stdout.write(str(self.i) + ' riding\\n'); sleep(2)\n",
    "            mutex.acquire(); avail -= 1; stdout.write(\"avail after enter: \" + str(avail) + \"\\n\")\n",
    "            if avail < 0: mutex.release(); free.acquire()\n",
    "            else: mutex.release()\n",
    "            stdout.write(str(self.i) + \" repairing\\n\"); sleep(1)\n",
    "            mutex.acquire(); avail += 1; stdout.write(\"avail after exit: \" + str(avail) + \"\\n\")\n",
    "            if avail <= 0: mutex.release(); free.release()\n",
    "            else: mutex.release()\n",
    "        stdout.write(str(self.i) + \" done\\n\")\n",
    "\n",
    "C, B = 3, 10\n",
    "mutex, free, avail = Semaphore(1), Semaphore(0), C\n",
    "stdout.write(\"occupancy: 0\\n\")\n",
    "riders = {Rider(i) for i in range(B)}\n",
    "for r in riders: r.start()\n",
    "for r in riders: r.join()"
   ]
  }
 ],
 "metadata": {
  "celltoolbar": "Create Assignment",
  "kernelspec": {
   "display_name": "Python 3 (ipykernel)",
   "language": "python",
   "name": "python3"
  },
  "language_info": {
   "codemirror_mode": {
    "name": "ipython",
    "version": 3
   },
   "file_extension": ".py",
   "mimetype": "text/x-python",
   "name": "python",
   "nbconvert_exporter": "python",
   "pygments_lexer": "ipython3",
   "version": "3.11.2"
  }
 },
 "nbformat": 4,
 "nbformat_minor": 4
}
