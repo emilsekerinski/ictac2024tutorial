{
 "cells": [
  {
   "cell_type": "markdown",
   "metadata": {},
   "source": [
    "### Barrier Synchronization with Semaphores (Python)"
   ]
  },
  {
   "cell_type": "markdown",
   "metadata": {},
   "source": [
    "Here is a solution to barrier synchronization that is symmetric in how each worker synchronizes; each worker first notifies the other worker of their arrival at the barrier and then waits for the other worker to arrive:\n",
    "\n",
    "```\n",
    "var barrier1, barrier2: semaphore = 0, 0\n",
    "```\n",
    "<div style=\"display:table\">\n",
    "  <div style = \"display:table-cell; border-left:2em solid transparent\">\n",
    "\n",
    "```algorithm\n",
    "process worker1\n",
    "    while true do\n",
    "        task 1\n",
    "        V(barrier1)\n",
    "        P(barrier2)\n",
    "```\n",
    "  </div>\n",
    "  <div style = \"display:table-cell; border-left:2em solid transparent\">\n",
    "\n",
    "```algorithm\n",
    "process worker2\n",
    "    while true do\n",
    "        task 2\n",
    "        V(barrier2)\n",
    "        P(barrier1)\n",
    "```\n",
    "  </div>\n",
    "</div>\n",
    "<br>\n",
    "\n",
    "To argue for correctness, two ghost variables, `c1` and `c2`, are introduced for the number of times each worker has arrived at their barrier. The barrier property states that `c1` and `c2` cannot differ by more than `1`:\n",
    "\n",
    "```\n",
    "BR: |c1 – c2| ≤ 1\n",
    "```\n",
    "\n",
    "The global invariant, `P`, includes the conditions that hold after each of the two `V` operations:\n",
    "\n",
    "```algorithm\n",
    "var barrier1, barrier2: semaphore = 0, 0\n",
    "var c1, c2: integer = 0, 0\n",
    "{P: BR ∧ (barrier1 > 0 ⇒ c1 = c2 ∨ c1 = c2 + 1) ∧ (barrier2 > 0 ⇒ c1 = c2 ∨ c1 + 1 = c2)}\n",
    "```\n",
    "<div style=\"display:table\">\n",
    "  <div style = \"display:table-cell; border-left:2em solid transparent\">\n",
    "\n",
    "```algorithm\n",
    "process worker1\n",
    "    {P ∧ (c1 = c2 ∨ c1 + 1 = c2)}\n",
    "    while true do\n",
    "        task 1\n",
    "        ⟨barrier1, c1 := barrier1 + 1, c1 + 1⟩ \n",
    "        {P ∧ (c1 = c2 ∨ c1 = c2 + 1)}\n",
    "        ⟨await barrier2 > 0 then\n",
    "            barrier2 := barrier2 – 1⟩\n",
    "        {P ∧ (c1 = c2 ∨ c1 + 1 = c2)}\n",
    "```\n",
    "  </div>\n",
    "  <div style = \"display:table-cell; border-left:2em solid transparent\">\n",
    "\n",
    "```algorithm\n",
    "process worker2\n",
    "    {P ∧ (c1 = c2 ∨ c1 = c2 + 1)}\n",
    "    while true do\n",
    "        task 2\n",
    "        ⟨barrier2, c2 := barrier2 + 1, c2 + 1⟩ \n",
    "        {P ∧ (c1 = c2 ∨ c1 + 1 = c2)}\n",
    "        ⟨await barrier1 > 0 then\n",
    "            barrier1 := barrier1 – 1⟩\n",
    "        {P ∧ (c1 = c2 ∨ c1 = c2 + 1)}\n",
    "```\n",
    "  </div>\n",
    "</div>"
   ]
  },
  {
   "cell_type": "markdown",
   "metadata": {},
   "source": [
    "Here is an asymmetric scheme for barrier synchronization with semaphores for two processes, with locations marked by `🄰` and `🄱`:\n",
    "\n",
    "```\n",
    "var barrier1, barrier2: semaphore = 0, 0\n",
    "```\n",
    "<div style=\"display:table\">\n",
    "  <div style = \"display:table-cell; border-left:2em solid transparent\">\n",
    "\n",
    "```algorithm\n",
    "process worker1\n",
    "    while true do\n",
    "        task 1\n",
    "        P(barrier2) 🄰\n",
    "        V(barrier1) 🄱\n",
    "```\n",
    "  </div>\n",
    "  <div style = \"display:table-cell; border-left:2em solid transparent\">\n",
    "\n",
    "```algorithm\n",
    "process worker2\n",
    "    while true do\n",
    "        task 2\n",
    "        V(barrier2) 🄰\n",
    "        P(barrier1) 🄱\n",
    "```\n",
    "  </div>\n",
    "</div>\n",
    "<br>\n",
    "\n",
    "For `worker1` to be at `🄰`, `worker2` must have passed `🄰`. For `worker2` to be at `🄱`, `worker1` must have passed `🄱`. Hence, for a process to leave its barrier, the other must have also arrived at its barrier. To show this formally, two ghost variables, `c1` and `c2`, are introduced with global invariant `P`:\n",
    "\n",
    "```algorithm\n",
    "var barrier1, barrier2: semaphore = 0, 0\n",
    "var c1, c2: integer = 0, 0\n",
    "{P: BR ∧ (barrier1 > 0 ⇒ c1 = c2) ∧ (barrier2 > 0 ⇒ c1 + 1 = c2)}\n",
    "```\n",
    "<div style=\"display:table\">\n",
    "  <div style = \"display:table-cell; border-left:2em solid transparent\">\n",
    "\n",
    "```algorithm\n",
    "process worker1\n",
    "    {P ∧ (c1 = c2 ∨ c1 + 1 = c2)}\n",
    "    while true do\n",
    "        task 1\n",
    "        ⟨await barrier2 > 0 then\n",
    "            barrier2, c1 := barrier2 – 1, c1 + 1⟩\n",
    "        {P ∧ c1 = c2}\n",
    "        ⟨barrier1, c1 := barrier1 + 1, c1 + 1⟩\n",
    "        {P ∧ (c1 = c2 ∨ c1 + 1 = c2)}\n",
    "```\n",
    "  </div>\n",
    "  <div style = \"display:table-cell; border-left:2em solid transparent\">\n",
    "\n",
    "```algorithm\n",
    "process worker2\n",
    "    {P ∧ c1 = c2}\n",
    "    while true do\n",
    "        task 2\n",
    "        {P ∧ c1 = c2}\n",
    "        ⟨barrier2, c2 := barrier2 + 1, c2 + 1⟩\n",
    "        {P ∧ (c1 = c2 ∨ c1 + 1 = c2)}\n",
    "        ⟨await barrier1 > 0 then barrier1 := barrier1 – 1⟩\n",
    "        {P ∧ c1 = c2}\n",
    "```\n",
    "  </div>\n",
    "</div>\n",
    "<br>\n",
    "\n",
    "Note that `BR` can, in the asymmetric version, be strengthened to `0 ≤ c2 – c1 ≤ 1`."
   ]
  },
  {
   "cell_type": "markdown",
   "metadata": {},
   "source": [
    "Generalize barrier synchronization to three processes!"
   ]
  },
  {
   "cell_type": "markdown",
   "metadata": {
    "solution": "hidden",
    "solution_first": true
   },
   "source": [
    "```algorithm\n",
    "YOUR ANSWER HERE\n",
    "```"
   ]
  },
  {
   "cell_type": "markdown",
   "metadata": {},
   "source": [
    "Here is the corresponding implementation in Python. Modify that to three processes as well!"
   ]
  },
  {
   "cell_type": "code",
   "execution_count": null,
   "metadata": {},
   "outputs": [],
   "source": [
    "# With 2 workers\n",
    "from threading import Thread, Semaphore\n",
    "from time import sleep\n",
    "from sys import stdout\n",
    "\n",
    "class Ping(Thread):\n",
    "    def run(self):\n",
    "        while True:\n",
    "            stdout.write('ping\\n'); sleep(2)    # task\n",
    "            barrier2.acquire()                  # wait\n",
    "            barrier1.release()                  # signal\n",
    "\n",
    "\n",
    "class Pong(Thread):\n",
    "    def run(self):\n",
    "        while True:\n",
    "            stdout.write('pong\\n'); sleep(4)    # task\n",
    "            barrier2.release()                  # signal\n",
    "            barrier1.acquire()                  # wait\n",
    "\n",
    "barrier1, barrier2 = Semaphore(0), Semaphore(0) # create semaphores\n",
    "Ping().start(); Pong().start()                  # create and run threads"
   ]
  },
  {
   "cell_type": "code",
   "execution_count": null,
   "metadata": {
    "solution": "hidden",
    "solution_first": true
   },
   "outputs": [],
   "source": [
    "\n",
    "YOUR ANSWER HERE"
   ]
  },
  {
   "cell_type": "markdown",
   "metadata": {},
   "source": [
    "Output of `ping` and `pong` may not appear in the order in which they were written due to buffering. Use `stdout.flush()` to force buffers to be flushed. Will that always guarantee output in the same order in which `stdout.write()` occurred? Type `help(type(stdout))` in a code cell to see the interval in which buffers are flushed in the underlying implementation (you are not supposed to make use of that interval, as it may change)."
   ]
  },
  {
   "cell_type": "markdown",
   "metadata": {
    "solution": "hidden",
    "solution_first": true
   },
   "source": [
    "YOUR ANSWER HERE"
   ]
  }
 ],
 "metadata": {
  "kernelspec": {
   "display_name": "Python 3 (ipykernel)",
   "language": "python",
   "name": "python3"
  },
  "language_info": {
   "codemirror_mode": {
    "name": "ipython",
    "version": 3
   },
   "file_extension": ".py",
   "mimetype": "text/x-python",
   "name": "python",
   "nbconvert_exporter": "python",
   "pygments_lexer": "ipython3",
   "version": "3.11.2"
  }
 },
 "nbformat": 4,
 "nbformat_minor": 4
}
