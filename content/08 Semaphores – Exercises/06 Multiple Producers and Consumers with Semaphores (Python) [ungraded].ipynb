{
 "cells": [
  {
   "cell_type": "markdown",
   "metadata": {},
   "source": [
    "### Multiple Producers and Consumers with Semaphores (Python) [ungraded]"
   ]
  },
  {
   "cell_type": "markdown",
   "metadata": {},
   "source": [
    "#### Producers and Consumers\n",
    "\n",
    "Here is the producer/consumer problem with semaphores in Python. The producer produces the first `numIters` numbers. The consumer expects `numIters` numbers and prints their sum."
   ]
  },
  {
   "cell_type": "code",
   "execution_count": null,
   "metadata": {},
   "outputs": [],
   "source": [
    "from threading import Thread, Semaphore\n",
    "from sys import stdout\n",
    "\n",
    "empty, full = Semaphore(1), Semaphore(0)\n",
    "\n",
    "def producer(numIters):\n",
    "    stdout.write('Producer created\\n')\n",
    "    global buf\n",
    "    for produced in range(numIters):\n",
    "        empty.acquire()\n",
    "        buf = produced\n",
    "        full.release()\n",
    "\n",
    "def consumer(numIters):\n",
    "    stdout.write('Consumer created\\n')\n",
    "    s = 0\n",
    "    for consumed in range(numIters):\n",
    "        full.acquire()\n",
    "        s += buf\n",
    "        empty.release()\n",
    "    stdout.write('For ' + str(numIters) + ' iterations, the sum is ' + str(s) + '\\n')\n",
    "\n",
    "def pc(numIters):\n",
    "    p = Thread(target = producer, args = (numIters, ))\n",
    "    c = Thread(target = consumer, args = (numIters, ))\n",
    "    p.start(); c.start()\n",
    "    p.join(); c.join()\n",
    "\n",
    "pc(10)"
   ]
  },
  {
   "cell_type": "markdown",
   "metadata": {},
   "source": [
    "#### Multiple Producers and Consumers\n",
    "\n",
    "Generalize the above Python implementation for an arbitrary number of producers/consumers. The revised Python function `pc` should take two parameters: the number of iterations of each producer/consumer and the number of producers/consumers. All producers and all consumers have the same number of iterations; there are as many consumers as there are producers. The output should be modified such that each producer and consumer identifies itself when printing that they were created and when printing their sum. The main program should additionally print the expected total sum by computing that, not by collecting the sums of each consumer: the sum each consumer computes may be different now due to nondeterminism, but their total sum is unique. Recall that the sum of the first `n – 1` numbers is `n × (n – 1) / 2`.  For example\n",
    "```Python\n",
    "pc(10, 3)\n",
    "```\n",
    "may result in:\n",
    "```\n",
    "Producer 0 created\n",
    "Producer 1 created\n",
    "Producer 2 created\n",
    "Consumer 0 created\n",
    "Consumer 1 created\n",
    "Consumer 2 created\n",
    "For 10 iterations, the sum of consumer 0 is 29\n",
    "For 10 iterations, the sum of consumer 1 is 52\n",
    "For 10 iterations, the sum of consumer 2 is 54\n",
    "The expected total sum is 135\n",
    "```"
   ]
  },
  {
   "cell_type": "code",
   "execution_count": null,
   "metadata": {},
   "outputs": [],
   "source": [
    "YOUR CODE HERE"
   ]
  },
  {
   "cell_type": "code",
   "execution_count": null,
   "metadata": {},
   "outputs": [],
   "source": [
    "pc(10, 3)"
   ]
  }
 ],
 "metadata": {
  "celltoolbar": "Create Assignment",
  "kernelspec": {
   "display_name": "Python 3 (ipykernel)",
   "language": "python",
   "name": "python3"
  },
  "language_info": {
   "codemirror_mode": {
    "name": "ipython",
    "version": 3
   },
   "file_extension": ".py",
   "mimetype": "text/x-python",
   "name": "python",
   "nbconvert_exporter": "python",
   "pygments_lexer": "ipython3",
   "version": "3.11.2"
  }
 },
 "nbformat": 4,
 "nbformat_minor": 4
}
