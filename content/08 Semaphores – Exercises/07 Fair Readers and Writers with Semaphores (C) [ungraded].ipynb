{
 "cells": [
  {
   "cell_type": "markdown",
   "metadata": {},
   "source": [
    "### Fair Readers and Writers with Semaphores (C) [ungraded]"
   ]
  },
  {
   "cell_type": "markdown",
   "metadata": {},
   "source": [
    "Implement a fair solution in C with readers and writers following the synchronization scheme of the course notes. In the template below, there is only a single reader and a single writer. The reader busily keeps reading and computes the maximum of all numbers read. The writer generates in 1-second intervals numbers `0 .. numIters` starting from the middle one and wrapping around, i.e. generating the maximum after about half the iterations. The variable `numIters` is the command line parameter. The synchronization scheme has to ensure that the writer is given preference, so if there is more than one reader, all readers can get the updates from the single writer. Your solution must be correct for multiple readers and writers, even if the code below creates only one reader and a single writer.\n",
    "\n",
    "By default, threads are created as _daemon threads,_ meaning that if the main program terminates, all daemon threads terminate. Below, the main program waits only for the writer to terminate; when the main program terminates, the reader will terminate as well.\n",
    "\n",
    "Be careful to declare only those variables `volatile` that need to be declared volatile, as otherwise, the program may run slower unnecessarily. Play around to see what happens if you don't declare variables `volatile`!"
   ]
  },
  {
   "cell_type": "code",
   "execution_count": null,
   "metadata": {
    "solution": "hidden",
    "solution_first": true
   },
   "outputs": [],
   "source": [
    "%%writefile rw.c\n",
    "#include <pthread.h>\n",
    "#include <stdio.h>\n",
    "#include <stdlib.h>\n",
    "#include <semaphore.h>\n",
    "#include <unistd.h>\n",
    "\n",
    "#define SHARED 1\n",
    "\n",
    "void *Reader(void *);             /* the two threads           */\n",
    "void *Writer(void *);\n",
    "\n",
    "/* global variables and semaphores */\n",
    "\n",
    "YOUR CODE HERE\n",
    "\n",
    "int numIters;\n",
    "\n",
    "void *Reader(void *arg) {\n",
    "    maxdata = 0;\n",
    "    printf(\"Reader starting\\n\");\n",
    "    while (1) {\n",
    "        /* entry protocol */\n",
    "        YOUR CODE HERE\n",
    "        if (data > maxdata) printf(\"Reader in critical section read %d\\n\", data);\n",
    "        maxdata = data > maxdata ? data : maxdata;\n",
    "        /* exit protocol */\n",
    "        YOUR CODE HERE\n",
    "    }\n",
    "}\n",
    "\n",
    "void *Writer(void *arg) {\n",
    "    int i;\n",
    "    printf(\"Writer starting\\n\");\n",
    "    for (i = 0; i < numIters; i++) {\n",
    "        /* entry protocol */\n",
    "        YOUR CODE HERE\n",
    "        printf(\"Writer in critical section\\n\");\n",
    "        data = (i + numIters / 2) % numIters;\n",
    "        printf(\"Writer writing %d\\n\", data);\n",
    "        /* exit protocol */\n",
    "        YOUR CODE HERE\n",
    "        sleep(1);\n",
    "    }\n",
    "}\n",
    "\n",
    "int main(int argc, char *argv[]) {\n",
    "    pthread_t rid, wid;           /* thread and attributes */\n",
    "    pthread_attr_t attr;\n",
    "    pthread_attr_init(&attr);\n",
    "    pthread_attr_setscope(&attr, PTHREAD_SCOPE_SYSTEM);\n",
    "    /* initialization of global varialbes and semaphores */\n",
    "    YOUR CODE HERE\n",
    "    numIters = atoi(argv[1]);\n",
    "    pthread_create(&rid, &attr, Reader, NULL);\n",
    "    pthread_create(&wid, &attr, Writer, NULL);\n",
    "    pthread_join(wid, NULL);\n",
    "    printf(\"Max data %d\\n\", maxdata);\n",
    "}"
   ]
  },
  {
   "cell_type": "code",
   "execution_count": null,
   "metadata": {},
   "outputs": [],
   "source": [
    "!gcc rw.c -lpthread -o rw"
   ]
  },
  {
   "cell_type": "code",
   "execution_count": null,
   "metadata": {},
   "outputs": [],
   "source": [
    "!./rw 5"
   ]
  }
 ],
 "metadata": {
  "celltoolbar": "Create Assignment",
  "kernelspec": {
   "display_name": "Python 3 (ipykernel)",
   "language": "python",
   "name": "python3"
  },
  "language_info": {
   "codemirror_mode": {
    "name": "ipython",
    "version": 3
   },
   "file_extension": ".py",
   "mimetype": "text/x-python",
   "name": "python",
   "nbconvert_exporter": "python",
   "pygments_lexer": "ipython3",
   "version": "3.11.2"
  }
 },
 "nbformat": 4,
 "nbformat_minor": 4
}
