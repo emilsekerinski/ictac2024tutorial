{
 "cells": [
  {
   "cell_type": "markdown",
   "metadata": {
    "nbgrader": {
     "grade": false,
     "grade_id": "cell-0ba6ccbd1a72a918",
     "locked": true,
     "schema_version": 3,
     "solution": false,
     "task": false
    }
   },
   "source": [
    "### Sleeping Barber with Semaphores (Python)"
   ]
  },
  {
   "cell_type": "markdown",
   "metadata": {
    "nbgrader": {
     "grade": false,
     "grade_id": "cell-f91e460ef476384e",
     "locked": true,
     "schema_version": 3,
     "solution": false,
     "task": false
    }
   },
   "source": [
    "Implement the Sleeping Barber in Python using semaphores. Add output to trace the progress. For example, the output may start with:\n",
    "```\n",
    "barber getting up\n",
    "barber waiting customer to sit\n",
    "0 living happily\n",
    "0 waiting for barber\n",
    "0 sitting in chair\n",
    "0 getting hair cut\n",
    "barber cutting hair\n",
    "barber waiting customer to leave\n",
    "1 living happily\n",
    "1 waiting for barber\n",
    "0 leaving\n",
    "```"
   ]
  },
  {
   "cell_type": "code",
   "execution_count": null,
   "metadata": {
    "solution": "hidden",
    "solution_first": true
   },
   "outputs": [],
   "source": [
    "from threading import Thread, Semaphore\n",
    "from sys import stdout\n",
    "\n",
    "def getHaircut(i):\n",
    "    YOUR CODE HERE\n",
    "\n",
    "def getNextCustomer():\n",
    "    YOUR CODE HERE\n",
    "\n",
    "def finishedCut():\n",
    "    YOUR CODE HERE\n",
    "\n",
    "class Barber(Thread):\n",
    "    def run(self):\n",
    "        for _ in range(20):\n",
    "            getNextCustomer()  # wait for a customer to sit in the barber's chair\n",
    "            stdout.write(\"barber cutting hair\\n\")\n",
    "            finishedCut()      # allow the customer to leave; returns after the customer left\n",
    "\n",
    "class Customer(Thread):\n",
    "    def __init__(self, i):\n",
    "        self.i = i; Thread.__init__(self)\n",
    "    def run(self):\n",
    "        for _ in range(5):\n",
    "            stdout.write(str(self.i) + \" living happily\\n\")\n",
    "            getHaircut(self.i)  # returns after the customer has received the haircut\n",
    "\n",
    "YOUR CODE HERE\n",
    "\n",
    "b = Barber()\n",
    "c0 = Customer(0); c1 = Customer(1); c2 = Customer(2); c3 = Customer(3)\n",
    "b.start(); c0.start(); c1.start(); c2.start(); c3.start()"
   ]
  },
  {
   "cell_type": "code",
   "execution_count": null,
   "metadata": {
    "jupyter": {
     "source_hidden": true
    },
    "solution": "hidden",
    "tags": []
   },
   "outputs": [],
   "source": [
    "from threading import Thread, Semaphore\n",
    "from sys import stdout\n",
    "\n",
    "def getHaircut(i):\n",
    "    stdout.write(str(i) + \" waiting for barber\\n\")\n",
    "    barberAvailable.acquire()\n",
    "    stdout.write(str(i) + \" sitting in chair\\n\")\n",
    "    chairOccupied.release()\n",
    "    stdout.write(str(i) + \" getting hair cut\\n\")\n",
    "    exitOpen.acquire()\n",
    "    stdout.write(str(i) + \" leaving\\n\")\n",
    "    customerLeft.release()\n",
    "\n",
    "def getNextCustomer():\n",
    "    stdout.write(\"barber getting up\\n\")\n",
    "    barberAvailable.release()\n",
    "    stdout.write(\"barber waiting customer to sit\\n\")\n",
    "    chairOccupied.acquire()\n",
    "\n",
    "def finishedCut():\n",
    "    exitOpen.release()\n",
    "    stdout.write(\"barber waiting customer to leave\\n\")\n",
    "    customerLeft.acquire()\n",
    "    stdout.write(\"barber sitting down\\n\")\n",
    "\n",
    "class Barber(Thread):\n",
    "    def run(self):\n",
    "        for _ in range(20):\n",
    "            getNextCustomer()  # wait for a customer to sit in the barber's chair\n",
    "            stdout.write(\"barber cutting hair\\n\")\n",
    "            finishedCut()      # allow the customer to leave; returns after the customer left\n",
    "\n",
    "class Customer(Thread):\n",
    "    def __init__(self, i):\n",
    "        self.i = i; Thread.__init__(self)\n",
    "    def run(self):\n",
    "        for _ in range(5):\n",
    "            stdout.write(str(self.i) + \" living happily\\n\")\n",
    "            getHaircut(self.i)  # returns after the customer has received a the haircut\n",
    "\n",
    "barberAvailable, chairOccupied, exitOpen, customerLeft = \\\n",
    "    Semaphore(0), Semaphore(0), Semaphore(0), Semaphore(0)\n",
    "\n",
    "b = Barber()\n",
    "c0 = Customer(0); c1 = Customer(1); c2 = Customer(2); c3 = Customer(3)\n",
    "b.start(); c0.start(); c1.start(); c2.start(); c3.start()"
   ]
  }
 ],
 "metadata": {
  "kernelspec": {
   "display_name": "Python 3 (ipykernel)",
   "language": "python",
   "name": "python3"
  },
  "language_info": {
   "codemirror_mode": {
    "name": "ipython",
    "version": 3
   },
   "file_extension": ".py",
   "mimetype": "text/x-python",
   "name": "python",
   "nbconvert_exporter": "python",
   "pygments_lexer": "ipython3",
   "version": "3.8.8"
  }
 },
 "nbformat": 4,
 "nbformat_minor": 4
}
