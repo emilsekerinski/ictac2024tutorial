{
 "cells": [
  {
   "cell_type": "markdown",
   "metadata": {},
   "source": [
    "### Semaphores in C\n",
    "\n",
    "[Pthreads](https://computing.llnl.gov/tutorials/pthreads/) is a library commonly available for Unix and other operating systems. It is standardized by POSIX. In C, using Pthreads requires:\n",
    "```C\n",
    "# include <pthread.h>\n",
    "```\n",
    "For each thread, the following variables have to be declared and initialized:\n",
    "```C\n",
    "pthread_attr_t tattr;       /* thread attributes */\n",
    "pthread_t tid;              /* thread descriptor */\n",
    "\n",
    "pthread_attr_init(&tattr);  /* default values */\n",
    "pthread_attr_setscope(&tattr, PTHREAD_SCOPE_SYSTEM);\n",
    "```\n",
    "The default values include a default stack size. Threads can compete for scheduling locally (default), i.e. with threads of the same process, globally (system scope), i.e. with all other threads. The fork operation takes a previously set attribute descriptor, the function to be started, and its parameters and initializes a thread descriptor (first argument):\n",
    "```C\n",
    "pthread_create(&tid, &tattr, start_func, arg);\n",
    "```\n",
    "A thread terminates if the function body completes or by calling:\n",
    "```C\n",
    "pthread_exit(value);\n",
    "```\n",
    "A parent thread can wait for a child to terminate; it needs to specify the descriptor and the location for the return value of the child:\n",
    "```C\n",
    "pthread_join(tid, value_ptr);\n",
    "```\n",
    "\n",
    "Threads can synchronize with several mechanisms, including semaphores. A semaphore is declared by:\n",
    "```C\n",
    "sem_t mutex;\n",
    "```\n",
    "Semaphores must be initialized explicitly. If the `SHARED` parameter is non-zero, it can be shared between processes as well, otherwise only between threads:\n",
    "```C\n",
    "sem_init(&mutex, SHARED, 1);\n",
    "```\n",
    "The pattern for mutual exclusion with semaphores is:\n",
    "```C\n",
    "sem_wait(&mutex);\t\t\t/* P(mutex) */\n",
    "critical section\n",
    "sem_post(&mutex);\t\t\t/* V(mutex) */ \n",
    "```\n",
    "The value of a semaphore can be obtained by calling `sem_getvalue(&mutex, &value);`. If no thread is blocked on `mutex`, it can be destroyed by `sem_destroy(&mutex);`."
   ]
  },
  {
   "cell_type": "markdown",
   "metadata": {},
   "source": [
    "Here is the producer/consumer problem with semaphores in C. The shared variable `data` is declared as `volatile`. This tells the compiler that the variable can change at any time and has to be read from memory. Without that, in the function `Consumer`, the compiler may assume that `data` does not change in the function and keep it in a register."
   ]
  },
  {
   "cell_type": "code",
   "execution_count": null,
   "metadata": {},
   "outputs": [],
   "source": [
    "%%writefile pc.c\n",
    "\n",
    "#include <pthread.h>\n",
    "#include <stdio.h>\n",
    "#include <stdlib.h>\n",
    "#include <semaphore.h>\n",
    "#define SHARED 1\n",
    "\n",
    "void *Producer(void *);           /* the two threads */\n",
    "void *Consumer(void *);\n",
    "\n",
    "sem_t empty, full;                /* the global semaphores */\n",
    "volatile int data;                /* shared buffer         */\n",
    "int numIters;\n",
    "\n",
    "/* main program: read command line and create threads */\n",
    "int main(int argc, char *argv[]) {\n",
    "    pthread_t pid, cid;           /* thread and attributes */\n",
    "    pthread_attr_t attr;\n",
    "    pthread_attr_init(&attr);\n",
    "    pthread_attr_setscope(&attr, PTHREAD_SCOPE_SYSTEM);\n",
    "    sem_init(&empty, SHARED, 1);  /* sem empty = 1 */\n",
    "    sem_init(&full, SHARED, 0);   /* sem full = 0  */\n",
    "    numIters = atoi(argv[1]);\n",
    "    pthread_create(&pid, &attr, Producer, NULL);\n",
    "    pthread_create(&cid, &attr, Consumer, NULL);\n",
    "    pthread_join(pid, NULL);\n",
    "    pthread_join(cid, NULL);\n",
    "}\n",
    "\n",
    "/* deposit 1, ..., numIters into the data buffer */\n",
    "void *Producer(void *arg) {\n",
    "    printf(\"Producer created\\n\");\n",
    "    for (int produced = 0; produced < numIters; produced++) {\n",
    "        sem_wait(&empty);\n",
    "        data = produced;\n",
    "        sem_post(&full);\n",
    "    }\n",
    "}\n",
    "\n",
    "/* fetch numIters items from the buffer and sum them */\n",
    "void *Consumer(void *arg) {\n",
    "    printf(\"Consumer created\\n\");\n",
    "    int sum = 0;\n",
    "    for (int consumed = 0; consumed < numIters; consumed++) {\n",
    "        sem_wait(&full);\n",
    "        sum += data;\n",
    "        sem_post(&empty);\n",
    "    }\n",
    "    printf(\"For %d iterations, the sum is %d\\n\", numIters, sum);\n",
    "}"
   ]
  },
  {
   "cell_type": "markdown",
   "metadata": {},
   "source": [
    "Compile and run the code. The numbers from 0 to the specified command line parameter are produced and consumed. The consumer prints the sum of the consumed numbers."
   ]
  },
  {
   "cell_type": "code",
   "execution_count": null,
   "metadata": {},
   "outputs": [],
   "source": [
    "!gcc pc.c -lpthread -o pc"
   ]
  },
  {
   "cell_type": "code",
   "execution_count": null,
   "metadata": {},
   "outputs": [],
   "source": [
    "!./pc 5"
   ]
  }
 ],
 "metadata": {
  "celltoolbar": "Create Assignment",
  "kernelspec": {
   "display_name": "Python 3 (ipykernel)",
   "language": "python",
   "name": "python3"
  },
  "language_info": {
   "codemirror_mode": {
    "name": "ipython",
    "version": 3
   },
   "file_extension": ".py",
   "mimetype": "text/x-python",
   "name": "python",
   "nbconvert_exporter": "python",
   "pygments_lexer": "ipython3",
   "version": "3.11.2"
  }
 },
 "nbformat": 4,
 "nbformat_minor": 4
}
