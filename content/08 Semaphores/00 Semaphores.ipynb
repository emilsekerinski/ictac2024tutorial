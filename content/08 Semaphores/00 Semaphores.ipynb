{
 "cells": [
  {
   "cell_type": "markdown",
   "metadata": {
    "editable": true,
    "slideshow": {
     "slide_type": "slide"
    },
    "tags": []
   },
   "source": [
    "<div style=\"float:right;border-left:1em solid transparent\">\n",
    "    <i>Notebooks on Programming</i>\n",
    "</div>\n",
    "\n",
    "---\n",
    "# Semaphores - Draft\n",
    "**[Emil Sekerinski](http://www.cas.mcmaster.ca/~emil), McMaster University, November 2024**\n",
    "\n",
    "---\n",
    "\n",
    "<figure style=\"float:right\" >\n",
    "    <img style=\"width:9.5em\" src=\"./img/by-nc-nd.png\"/>\n",
    "    <figcaption style=\"width:13em;font-size:80%\"><a href=\"https://creativecommons.org/licenses/by-nc-nd/4.0/\">Licensed under Creative Commons CC BY-NC-ND</a>\n",
    "    </figcaption>\n",
    "</figure>"
   ]
  },
  {
   "cell_type": "markdown",
   "metadata": {
    "editable": true,
    "slideshow": {
     "slide_type": "slide"
    },
    "tags": []
   },
   "source": [
    "## A Synchronization Mechanism"
   ]
  },
  {
   "cell_type": "markdown",
   "metadata": {
    "editable": true,
    "slideshow": {
     "slide_type": ""
    },
    "tags": []
   },
   "source": [
    "A direct implementation of await statements requires busy waiting. That is suitable if there are not more processes than processors or if the expected waiting time is short (for example, when incrementing a counter). The Linux kernel supports [spinlocks](https://www.linuxjournal.com/article/5833) for that purpose.\n",
    "\n",
    "_Semaphores_ were [introduced by E.W. Dijkstra](http://www.cs.utexas.edu/users/EWD/ewd01xx/EWD123.PDF) in the early 60's as a means for efficient synchronization, allowing variables to be used only for communication."
   ]
  },
  {
   "cell_type": "markdown",
   "metadata": {
    "slideshow": {
     "slide_type": "fragment"
    }
   },
   "source": [
    "Abstractly, a semaphore is a non-negative integer with two operations, historically called `P` (from Dutch for \"pass\") and `V` (from Dutch for \"free\"), as used in railroad semaphores:  \n",
    "<p>\n",
    "  \n",
    "<div style=\"display:table;margin-left:2em\">\n",
    "  <div style = \"display:table-cell\">\n",
    "      \n",
    "`var s: semaphore = init`  \n",
    "`P(s): ⟨await s > 0 then s := s – 1⟩`  \n",
    "`V(s): ⟨s := s + 1⟩`\n",
    "  </div>\n",
    "  <div style = \"display:table-cell; border-left:4em solid white\">\n",
    "\n",
    "declaration with an initial value  \n",
    "the _wait_ operation  \n",
    "the _signal_ operation\n",
    "  </div>\n",
    "</div>"
   ]
  },
  {
   "cell_type": "markdown",
   "metadata": {
    "editable": true,
    "slideshow": {
     "slide_type": "fragment"
    },
    "tags": []
   },
   "source": [
    "If `nP` is the number of completed `P` operations and `nV` is the number of completed `V` operations, then the _semaphore invariant_ of `s` is:\n",
    "```\n",
    "s = init + nV – nP  ∧  s ≥ 0\n",
    "```\n",
    "As semaphores are defined using `await`, all that was said previously carries over:\n",
    "- If two processes execute `P(s)` with `s = 1`, only one will succeed. If one executes `P(s)` and one `V(s)`, both will succeed in some order.\n",
    "- If a process executes `P(s)` and `s > 0` is true continuously, then with a weakly fair scheduler, the process will eventually succeed.\n",
    "- If a process executes `P(s)` and `s > 0` infinitely often, then `P(s)` will succeed only with a strongly fair scheduler."
   ]
  },
  {
   "cell_type": "markdown",
   "metadata": {
    "editable": true,
    "slideshow": {
     "slide_type": "slide"
    },
    "tags": []
   },
   "source": [
    "## Mutual Exclusion with Semaphores"
   ]
  },
  {
   "cell_type": "markdown",
   "metadata": {
    "editable": true,
    "slideshow": {
     "slide_type": ""
    },
    "tags": []
   },
   "source": [
    "The critical section problem assumes that processes repeatedly try to enter a critical section, but only one is allowed to do so. This can be enforced by using a _binary semaphore,_ i.e. a semaphore whose value is either 0 or 1:\n",
    "\n",
    "```\n",
    "var mutex: semaphore = 1\n",
    "```\n",
    "<div style=\"float:left;border-left:2em solid white\">\n",
    "\n",
    "```\n",
    "process CS1\n",
    "    while true do\n",
    "        P(mutex)\n",
    "        critical section\n",
    "        V(mutex)\n",
    "        noncritical section\n",
    "```\n",
    "</div>\n",
    "<div style=\"float:left;border-left:6em solid white\">\n",
    "\n",
    "```\n",
    "process CS2\n",
    "    while true do\n",
    "        P(mutex)\n",
    "        critical section\n",
    "        V(mutex)\n",
    "        noncritical section\n",
    "```\n",
    "</div>"
   ]
  },
  {
   "cell_type": "markdown",
   "metadata": {
    "editable": true,
    "slideshow": {
     "slide_type": "slide"
    },
    "tags": []
   },
   "source": [
    "To argue for the correctness, we add _ghost variables_ `in1`, `in2` to the two processes, `CS1`, `CS2`, that indicate if the process is in its critical section; `in1 = 1` if `CS1` is in its critical section, otherwise `in1 = 0`. Ghost variables are only assigned to and appear in invariants but are not used in the program; obviously, they can be left out without affecting the program:\n",
    "\n",
    "<img style=\"float:left;border-left:2em solid white\" src=\"./img/MutualExclusionSemaphores.svg\"/>"
   ]
  },
  {
   "cell_type": "markdown",
   "metadata": {
    "editable": true,
    "slideshow": {
     "slide_type": ""
    },
    "tags": []
   },
   "source": [
    "The critical section property is `in1 + in2 ≤ 1`, a consequence of `CS` above. The assumption is that neither `critical section` nor `noncritical section` contain operations on `mutex`, `in1`, `in2`."
   ]
  },
  {
   "cell_type": "markdown",
   "metadata": {
    "editable": true,
    "slideshow": {
     "slide_type": ""
    },
    "solution": "hidden",
    "solution_first": true,
    "tags": []
   },
   "source": [
    "_Question:_ What are the conditions for the correctness of the transitions and for non-interference?"
   ]
  },
  {
   "cell_type": "markdown",
   "metadata": {
    "editable": true,
    "slideshow": {
     "slide_type": "skip"
    },
    "solution": "hidden",
    "tags": []
   },
   "source": [
    "_Answer:_   \n",
    "The conditions for the correctness of the transitions of `CS1` are:\n",
    "1. `CS ∧ C1₁ ∧ mutex > 0 ⇒ (CS ∧ C1₂)[mutex, in1 := mutex − 1, 1]`\n",
    "2. `CS ∧ C1₃ ⇒ (CS ∧ C1₄)[mutex,in1 := mutex + 1, 0]`\n",
    "\n",
    "The conditions for the transition with `mutex := mutex - 1` of `CS1` not interfering with `CS2` are:\n",
    "1. `CS ∧ C1₁ ∧ mutex > 0 ∧ C2₁ ⇒ C2₁[mutex, in1 := mutex − 1, 1]`\n",
    "2. `CS ∧ C1₁ ∧ mutex > 0 ∧ C2₂ ⇒ C2₂[mutex, in1 := mutex − 1, 1]`\n",
    "3. `CS ∧ C1₁ ∧ mutex > 0 ∧ C2₃ ⇒ C2₃[mutex, in1 := mutex − 1, 1]`\n",
    "4. `CS ∧ C1₁ ∧ mutex > 0 ∧ C2₄ ⇒ C2₄[mutex, in1 := mutex − 1, 1]`\n",
    "5. `CS ∧ C1₁ ∧ mutex > 0 ∧ C2₅ ⇒ C2₅[mutex, in1 := mutex − 1, 1]`\n",
    "\n",
    "The conditions for the transition with `mutex := mutex + 1` of `CS1` not interfering with `CS2` are:\n",
    "1. `CS ∧ C1₃ ∧ C2₁ ⇒ C2₁[mutex, in1 := mutex + 1, 1]`\n",
    "2. `CS ∧ C1₃ ∧ C2₂ ⇒ C2₂[mutex, in1 := mutex + 1, 1]`\n",
    "3. `CS ∧ C1₃ ∧ C2₃ ⇒ C2₃[mutex, in1 := mutex + 1, 1]`\n",
    "4. `CS ∧ C1₃ ∧ C2₄ ⇒ C2₄[mutex, in1 := mutex + 1, 1]`\n",
    "5. `CS ∧ C1₃ ∧ C2₅ ⇒ C2₅[mutex, in1 := mutex + 1, 1]`\n",
    "\n",
    "These can be shown to hold. Because of symmetry, each transition of `CS2` is also correct and `CS2` does not interfere with the states of `CS1`."
   ]
  },
  {
   "cell_type": "markdown",
   "metadata": {
    "editable": true,
    "slideshow": {
     "slide_type": "slide"
    },
    "tags": []
   },
   "source": [
    "A single binary semaphore is also sufficient for mutual exclusion of an arbitrary number of processes:\n",
    "```\n",
    "var mutex: semaphore = 1\n",
    "\n",
    "process CS(i: 0 .. N – 1)\n",
    "    while true do\n",
    "        P(mutex)\n",
    "        critical section\n",
    "        V(mutex)\n",
    "        noncritical section\n",
    "```"
   ]
  },
  {
   "cell_type": "markdown",
   "metadata": {
    "editable": true,
    "slideshow": {
     "slide_type": "slide"
    },
    "tags": []
   },
   "source": [
    "To prove the correctness, to each process `i` we add the ghost variable `in(i)`, which is `1` if process `i` is in its critical section and `0` otherwise:\n",
    "\n",
    "```\n",
    "var mutex: semaphore = 1\n",
    "var in: 0 .. N – 1 → 0 .. 1 = [0, ..., 0]\n",
    "\n",
    "process CS(i: 0 .. N – 1)\n",
    "    while true do\n",
    "        ⟨await mutex > 0 then mutex := mutex – 1 ; in(i) := 1⟩\n",
    "        critical section\n",
    "        ⟨mutex := mutex + 1 ; in(i) := 0⟩\n",
    "        noncritical section\n",
    "```\n",
    "\n",
    "The critical section property is now:\n",
    "```\n",
    "CS: in(0) + ⋯ + in(N – 1) ≤ 1\n",
    "```\n",
    "This can be proved by showing that the following property is an invariant:\n",
    "```\n",
    "P: 0 ≤ mutex = 1 – (in(0) + ⋯ + in(N – 1)) ≤ 1\n",
    "```\n",
    "We then have that `P ⇒ CS`. The annotated program is:\n",
    "```\n",
    "process CS(i: 0 .. N – 1)\n",
    "    while true do\n",
    "        {P}\n",
    "        ⟨await mutex > 0 then mutex := mutex – 1 ; in(i) := 1⟩\n",
    "        {P ∧ mutex = 0 ∧ in(i) = 1}\n",
    "        critical section\n",
    "        {P ∧ mutex = 0 ∧ in(i) = 1}\n",
    "        ⟨mutex := mutex + 1 ; in(i) := 0⟩\n",
    "        {P}\n",
    "        noncritical section\n",
    "```"
   ]
  },
  {
   "cell_type": "markdown",
   "metadata": {
    "editable": true,
    "slideshow": {
     "slide_type": ""
    },
    "tags": []
   },
   "source": [
    "_Exercise:_ Prove that each process `CS(i)` is correct with respect to above annotation. Prove that `CS(i)` does not interfere with `CS(j)`, for `i ≠ j`. "
   ]
  },
  {
   "cell_type": "markdown",
   "metadata": {
    "editable": true,
    "slideshow": {
     "slide_type": "slide"
    },
    "tags": []
   },
   "source": [
    "Here is an example in Python with two processes outputting strings; due to different durations of `sleep`, one process will output roughly twice as much as the other."
   ]
  },
  {
   "cell_type": "code",
   "execution_count": null,
   "metadata": {
    "editable": true,
    "slideshow": {
     "slide_type": "-"
    },
    "tags": []
   },
   "outputs": [],
   "source": [
    "from threading import Thread, Semaphore\n",
    "from time import sleep\n",
    "from sys import stdout\n",
    "\n",
    "class Ping(Thread):\n",
    "    def run(self):\n",
    "        while True:\n",
    "            s.acquire()      # wait P(s)\n",
    "            print('ping')    # critical section\n",
    "            s.release()      # signal V(s)\n",
    "            sleep(2)         # noncritical section\n",
    " \n",
    "class Pong(Thread):\n",
    "    def run(self):\n",
    "        while True:\n",
    "            s.acquire()      # wait P(s)\n",
    "            print('pong')    # critical section\n",
    "            s.release()      # signal V(s)\n",
    "            sleep(4)         # noncritical section\n",
    "\n",
    "s = Semaphore(1)             # create semaphore\n",
    "ping = Ping(); pong = Pong() # create new threads\n",
    "ping.start(); pong.start()   # run threads"
   ]
  },
  {
   "cell_type": "markdown",
   "metadata": {
    "editable": true,
    "slideshow": {
     "slide_type": "fragment"
    },
    "tags": []
   },
   "source": [
    "The output may be garbled, as the output of `print` is buffered: `print('str')` leads to `stdout.write('str')` followed by `stdout.write('\\n')`: `write` is atomic, but `print` not. Replace `print('str')` with `stdout.write('str\\n')` to get proper output! "
   ]
  },
  {
   "cell_type": "markdown",
   "metadata": {
    "editable": true,
    "slideshow": {
     "slide_type": "slide"
    },
    "tags": []
   },
   "source": [
    "## Barrier Synchronization"
   ]
  },
  {
   "cell_type": "markdown",
   "metadata": {
    "editable": true,
    "slideshow": {
     "slide_type": ""
    },
    "tags": []
   },
   "source": [
    "Suppose we repeatedly need to perform two (or more) tasks that can be done in parallel, but both have to finish before a new cycle can start:\n",
    "```\n",
    "while true do\n",
    "    task1 ‖ task2\n",
    "```\n",
    "This pattern is typical for scientific computations, e.g. the discrete simulation of planetary movements: each task calculates the position of a planet in the next time step based on the attraction with all other planets in their current position.\n",
    "\n",
    "Alternatively, two _worker_ processes are created only once rather than in each iteration:\n",
    "\n",
    "<div style=\"float:left;border-left:2em solid white\">\n",
    "\n",
    "```\n",
    "process worker1\n",
    "    while true do\n",
    "        task 1\n",
    "        wait for task 2 to complete\n",
    "```\n",
    "</div>\n",
    "<div style=\"float:left;border-left:6em solid white\">\n",
    "\n",
    "```\n",
    "process worker2\n",
    "    while true do\n",
    "        task 2\n",
    "        wait for task 1 to complete\n",
    "```\n",
    "</div>"
   ]
  },
  {
   "cell_type": "markdown",
   "metadata": {
    "editable": true,
    "slideshow": {
     "slide_type": ""
    },
    "tags": []
   },
   "source": [
    "The question is, how many semaphores are needed?"
   ]
  },
  {
   "cell_type": "markdown",
   "metadata": {
    "editable": true,
    "slideshow": {
     "slide_type": "slide"
    },
    "tags": []
   },
   "source": [
    "Two semaphores are sufficient:\n",
    "\n",
    "```\n",
    "var barrier1, barrier2: semaphore = 0, 0\n",
    "```\n",
    "<div style=\"float:left;border-left:2em solid white\">\n",
    "\n",
    "```\n",
    "process worker1\n",
    "    while true do\n",
    "        task 1\n",
    "        V(barrier1)\n",
    "        P(barrier2)\n",
    "```\n",
    "</div>\n",
    "<div style=\"float:left;border-left:6em solid white\">\n",
    "\n",
    "```\n",
    "process worker2\n",
    "    while true do\n",
    "        task 2\n",
    "        V(barrier2)\n",
    "        P(barrier1)\n",
    "```\n",
    "</div>"
   ]
  },
  {
   "cell_type": "markdown",
   "metadata": {
    "editable": true,
    "slideshow": {
     "slide_type": "fragment"
    },
    "tags": []
   },
   "source": [
    "To argue for the correctness, we introduce ghost variables. Let \n",
    "- `arrive1`, `arrive2` be the number of times `worker1`, `worker2` has arrived at the barrier,\n",
    "- `depart1`, `depart2` be the number of times `worker1`, `worker2` has departed from the barrier.\n",
    "\n",
    "The barrier property `BR` states that `worker1` cannot get past the barrier any more times than `worker2` has arrived, and symmetrically for `worker2`:\n",
    "\n",
    "```\n",
    "BR: depart1 ≤ arrive2 ∧ depart2 ≤ arrive1\n",
    "```\n",
    "\n",
    "The processes with updates to the ghost variables maintain invariant `P`, and we have that `P ⇒ BR`:\n",
    "\n",
    "```\n",
    "var arrive1, depart1, arrive2, depart2: integer = 0, 0, 0, 0\n",
    "{P: BR ∧ barrier1 = arrive1 – depart2 ∧ barrier2 = arrive2 – depart1}\n",
    "```\n",
    "<div style=\"float:left;border-left:2em solid white\">\n",
    "\n",
    "```algorithm\n",
    "process worker1\n",
    "    while true do\n",
    "        task 1\n",
    "        {P ∧ arrive1 = depart1}\n",
    "        ⟨barrier1, arrive1 := barrier1 + 1, arrive1 + 1⟩ \n",
    "        {P ∧ arrive1 = depart1 + 1}\n",
    "        ⟨await barrier2 > 0 then\n",
    "            barrier2, depart1 := barrier2 – 1, depart1 + 1⟩\n",
    "        {P ∧ arrive1 = depart1}\n",
    "```\n",
    "</div>\n",
    "<div style=\"float:left;border-left:6em solid white\">\n",
    "\n",
    "```algorithm\n",
    "process worker2\n",
    "    while true do\n",
    "        task 2\n",
    "        {P ∧ arrive2 = depart2}\n",
    "        ⟨barrier2, arrive2 := barrier2 + 1, arrive2 + 1⟩ \n",
    "        {P ∧ arrive2 = depart2 + 1}\n",
    "        ⟨await barrier1 > 0 then\n",
    "            barrier1, depart2 := barrier1 - 1, depart2 + 1⟩\n",
    "        {P ∧ arrive2 = depart2}\n",
    "```\n",
    "</div>"
   ]
  },
  {
   "cell_type": "markdown",
   "metadata": {
    "editable": true,
    "slideshow": {
     "slide_type": "skip"
    },
    "tags": []
   },
   "source": [
    "_Exercise:_ Draw the state diagram and give the conditions for the correctness of the transitions and non-interference."
   ]
  },
  {
   "cell_type": "markdown",
   "metadata": {
    "editable": true,
    "slideshow": {
     "slide_type": "slide"
    },
    "tags": []
   },
   "source": [
    "Here is an implementation in Python with tasks of different duration but progressing in sync."
   ]
  },
  {
   "cell_type": "code",
   "execution_count": null,
   "metadata": {
    "slideshow": {
     "slide_type": "-"
    }
   },
   "outputs": [],
   "source": [
    "from threading import Thread, Semaphore\n",
    "from time import sleep\n",
    "from sys import stdout\n",
    "\n",
    "class Ping(Thread):\n",
    "    def run(self):\n",
    "        while True:\n",
    "            stdout.write('ping\\n'); sleep(2)    # task\n",
    "            barrier1.release()                  # signal\n",
    "            barrier2.acquire()                  # wait\n",
    "\n",
    "class Pong(Thread):\n",
    "    def run(self):\n",
    "        while True:\n",
    "            stdout.write('pong\\n'); sleep(4)    # task\n",
    "            barrier2.release()                  # signal\n",
    "            barrier1.acquire()                  # wait\n",
    "\n",
    "barrier1, barrier2 = Semaphore(0), Semaphore(0) # create semaphores\n",
    "ping = Ping(); pong = Pong()                    # create new threads\n",
    "ping.start(); pong.start()                      # run threads"
   ]
  },
  {
   "cell_type": "markdown",
   "metadata": {
    "editable": true,
    "slideshow": {
     "slide_type": "slide"
    },
    "tags": []
   },
   "source": [
    "## Producers and Consumers"
   ]
  },
  {
   "cell_type": "markdown",
   "metadata": {
    "editable": true,
    "slideshow": {
     "slide_type": ""
    },
    "tags": []
   },
   "source": [
    "A producer and consumer accessing a shared buffer need two binary semaphores for synchronization:\n",
    "\n",
    "```\n",
    "var buf: T\n",
    "var empty, full: semaphore = 1, 0\n",
    "```\n",
    "<div style=\"float:left;border-left:2em solid white\">\n",
    "\n",
    "```\n",
    "process producer\n",
    "    while true do\n",
    "        produce data\n",
    "        P(empty)\n",
    "        buf := data\n",
    "        V(full)\n",
    "```\n",
    "</div>\n",
    "<div style=\"float:left;border-left:6em solid white\">\n",
    "\n",
    "```algorithm\n",
    "process consumer\n",
    "    while true do\n",
    "        P(full)\n",
    "        data := buf\n",
    "        V(empty)\n",
    "        consume data\n",
    "```\n",
    "</div>"
   ]
  },
  {
   "cell_type": "markdown",
   "metadata": {
    "editable": true,
    "slideshow": {
     "slide_type": "slide"
    },
    "tags": []
   },
   "source": [
    "To argue for the correctness, we introduce ghost variables.  \n",
    "- `inD` and `afterD` are the number of times the producer has started and finished depositing data into `buf`,\n",
    "- `inF` and `afterF` are the number of times the consumer has started and finished fetching data from `buf`.\n",
    "\n",
    "The producer-consumer property `PC` specifies that deposit and fetch must alternate:\n",
    "\n",
    "```\n",
    "PC: inD ≤ afterF + 1 ∧ inF ≤ afterD\n",
    "```\n",
    "\n",
    "The processes with updates to the ghost variables maintain invariant `P`, and we have that `P ⇒ PC`:\n",
    "\n",
    "```\n",
    "var buf: T\n",
    "var inD, afterD, inF, afterF: integer = 0, 0, 0, 0\n",
    "{P: PC ∧ empty = afterF – inD + 1 ∧ full = afterD – inF}\n",
    "```\n",
    "<div style=\"float:left;border-left:2em solid white\">\n",
    "\n",
    "```\n",
    "process producer\n",
    "    while true do\n",
    "        produce data\n",
    "        ⟨await empty > 0 then\n",
    "            empty, inD := empty – 1, inD + 1⟩\n",
    "        buf := data\n",
    "        ⟨full, afterD := full + 1, afterD + 1⟩\n",
    "```\n",
    "</div>\n",
    "<div style=\"float:left;border-left:6em solid white\">\n",
    "\n",
    "```\n",
    "process consumer\n",
    "    while true do\n",
    "        ⟨await full > 0 then\n",
    "            full, inF := full – 1, inF + 1⟩\n",
    "        data := buf\n",
    "        ⟨empty, afterF := empty + 1, afterF + 1⟩\n",
    "        consume data\n",
    "```\n",
    "</div>"
   ]
  },
  {
   "cell_type": "markdown",
   "metadata": {
    "editable": true,
    "slideshow": {
     "slide_type": "skip"
    },
    "tags": []
   },
   "source": [
    "_Exercise:_ Draw the state diagram and give the conditions for the correctness of the transitions and for non-interference!\n",
    "\n",
    "_Exercise:_ Generalize this to `M` producers and `N` consumers!"
   ]
  },
  {
   "cell_type": "markdown",
   "metadata": {
    "editable": true,
    "slideshow": {
     "slide_type": "slide"
    },
    "tags": []
   },
   "source": [
    "Here is an implementation in Python in which the producer is \"slow\":"
   ]
  },
  {
   "cell_type": "code",
   "execution_count": null,
   "metadata": {
    "editable": true,
    "slideshow": {
     "slide_type": "-"
    },
    "tags": []
   },
   "outputs": [],
   "source": [
    "from threading import Thread, Semaphore\n",
    "from time import sleep\n",
    "from sys import stdout\n",
    "\n",
    "class Producer(Thread):\n",
    "    def run(self):\n",
    "        global buf ; data = 0\n",
    "        while True:\n",
    "            data += 1 ; sleep(4)             # produce\n",
    "            stdout.write('producing ' + str(data) + '\\n')\n",
    "            empty.acquire()                  # wait\n",
    "            buf = data                       # deposit\n",
    "            full.release()                   # signal\n",
    "\n",
    "class Consumer(Thread):\n",
    "    def run(self):\n",
    "        global buf\n",
    "        while True:\n",
    "            full.acquire()                   # wait\n",
    "            data = buf                       # fetch\n",
    "            empty.release()                  # signal\n",
    "            stdout.write('fetching ' + str(data) + '\\n')\n",
    "\n",
    "empty, full = Semaphore(1), Semaphore(0)     # create semaphores\n",
    "producer = Producer(); consumer = Consumer() # create new threads\n",
    "producer.start(); consumer.start()           # run threads"
   ]
  },
  {
   "cell_type": "markdown",
   "metadata": {
    "editable": true,
    "slideshow": {
     "slide_type": "slide"
    },
    "tags": []
   },
   "source": [
    "In addition to being binary, the above semaphores have the property that at most one is `1`; this is called a _split binary semaphore_. For split binary semaphores `b1, …, bn`, the following global invariant has to hold:\n",
    "```\n",
    "0 ≤ b1 + ⋯ + bn ≤ 1\n",
    "```\n",
    "Split binary semaphores can used to implement general mutual exclusion among several processes. Suppose one semaphore is initialized with `1` and all others with `0`. If every execution path starts with a `P` on one of the semaphores and ends with a `V` on one of the semaphores, then all statements between `P` and `V` execute with mutual exclusion. If one process is between `P` and `V`, then all semaphores must be `0`, and no other process can complete `P`."
   ]
  },
  {
   "cell_type": "markdown",
   "metadata": {
    "editable": true,
    "slideshow": {
     "slide_type": "slide"
    },
    "tags": []
   },
   "source": [
    "## Bounded Buffers"
   ]
  },
  {
   "cell_type": "markdown",
   "metadata": {
    "editable": true,
    "slideshow": {
     "slide_type": ""
    },
    "tags": []
   },
   "source": [
    "If producer and consumer progress is _in bursts,_ a typical situation, the potential blocking of either one can be reduced by increasing the buffer capacity.\n",
    "\n",
    "To avoid dynamic memory allocation (which may fail) and prevent the producer from \"running away,\" buffers are allocated of a fixed maximal size, typically as arrays used in a circular fashion.\n",
    "\n",
    "In this example, `empty` and `full` are general semaphores used as _resource counters._ We assume that there is only a single producer and a single consumer:\n",
    "\n",
    "```\n",
    "var buf: 0 .. C – 1 → T\n",
    "var in, out: integer = 0, 0\n",
    "var empty, full: semaphore = C, 0        # of empty, full slots\n",
    "{C – 2 ≤ empty + full ≤ C}\n",
    "```\n",
    "<div style=\"float:left;border-left:2em solid white\">\n",
    "      \n",
    "```\n",
    "process producer\n",
    "    while true do\n",
    "        produce data\n",
    "        P(empty)\n",
    "        buf(in) := data\n",
    "        in := (in + 1) mod C\n",
    "        V(full)\n",
    "```\n",
    "</div>\n",
    "<div style=\"float:left;border-left:6em solid white\">\n",
    "  \n",
    "```\n",
    "process consumer\n",
    "    while true do\n",
    "        P(full)\n",
    "        data := buf(out)\n",
    "        out := (out + 1) mod C\n",
    "        V(empty)\n",
    "        consume data\n",
    "```\n",
    "</div>"
   ]
  },
  {
   "cell_type": "markdown",
   "metadata": {
    "editable": true,
    "slideshow": {
     "slide_type": ""
    },
    "solution": "hidden",
    "solution_first": true,
    "tags": []
   },
   "source": [
    "_Question:_\n",
    "1. When is `empty + full = C`?\n",
    "2. When is `empty + full = C – 1`?\n",
    "3. When is `empty + full = C – 2`?"
   ]
  },
  {
   "cell_type": "markdown",
   "metadata": {
    "editable": true,
    "slideshow": {
     "slide_type": "fragment"
    },
    "solution": "hidden",
    "tags": []
   },
   "source": [
    "_Answer:_\n",
    "1. When neither processes is between `P` and `V`.\n",
    "2. When exactly one process is between `P` and `V`.\n",
    "3. When both processes are between `P` and `V`."
   ]
  },
  {
   "cell_type": "markdown",
   "metadata": {
    "editable": true,
    "slideshow": {
     "slide_type": "slide"
    },
    "tags": []
   },
   "source": [
    "If two or more processes try to deposit an element in the buffer, `P(empty)` would not block if space is left, and updates of `buf` and `in` would be executed concurrently. This race condition is avoided by introducing a semaphore for protecting the updates of `buf` and `in` for producers and of `buf` and `out` for consumers:\n",
    "```\n",
    "var buf: 0 .. C – 1 → T\n",
    "var in, out: integer = 0, 0\n",
    "var empty, full: semaphore = C, 0\n",
    "{C – 2 ≤ empty + full ≤ C}\n",
    "var deposit, fetch: semaphore = 1, 1\n",
    "```\n",
    "<div style=\"float:left;border-left:2em solid white\">\n",
    "\n",
    "```\n",
    "process producer(i: 0 .. M – 1)\n",
    "    while true do\n",
    "        produce data\n",
    "        P(empty)\n",
    "        P(deposit)\n",
    "            buf(in) := data\n",
    "            in := (in + 1) mod C\n",
    "        V(deposit)\n",
    "        V(full)\n",
    "```\n",
    "</div>\n",
    "<div style=\"float:left;border-left:6em solid white\">\n",
    "      \n",
    "```\n",
    "process consumer(j: 0 .. N – 1)\n",
    "    while true do\n",
    "        P(full)\n",
    "        P(fetch)\n",
    "            data := buf(out)\n",
    "            out := (out + 1) mod C\n",
    "        V(fetch)\n",
    "        V(empty)\n",
    "        consume data\n",
    "```\n",
    "</div>"
   ]
  },
  {
   "cell_type": "markdown",
   "metadata": {
    "editable": true,
    "slideshow": {
     "slide_type": "slide"
    },
    "tags": []
   },
   "source": [
    "## Dining Philosophers"
   ]
  },
  {
   "cell_type": "markdown",
   "metadata": {
    "editable": true,
    "slideshow": {
     "slide_type": ""
    },
    "tags": []
   },
   "source": [
    "<img style=\"float:right;border-left:2em solid white\" src=\"./img/DiningPhilosophers.svg\"/>\n",
    "\n",
    "> Five philosophers spend their lives thinking and eating. The philosophers share a common dining room where there is a circular table surrounded by five chairs, each belonging to one philosopher. In the center of the table, there is a large bowl of spaghetti, and the table is laid with five forks. On feeling hungry, a philosopher enters the dining room, sits in his own chair, and picks up the fork on the left of his place. Unfortunately, the spaghetti is so tangled that he needs to pick up and use the fork on his right as well. When he has finished, he puts down both forks and leaves the room.\n",
    "\n",
    "The problem is due to E. W. Dijkstra, who [solved it with semaphores](https://doi.org/10.1007/BF00289519); above is the [formulation of C. A. R. Hoare](https://doi.org/10.1145/359576.359585). It is representative of the problem of processes competing for a non-disjoint set of resources, where the processes do not communicate directly with each other (they may not \"know\" about each other)."
   ]
  },
  {
   "cell_type": "markdown",
   "metadata": {
    "editable": true,
    "slideshow": {
     "slide_type": "slide"
    },
    "tags": []
   },
   "source": [
    "Each philosopher becomes a process and each fork a resource that is protected by a binary semaphore:\n",
    "\n",
    "```\n",
    "var fork: 0 .. 4 → semaphore = [1, ..., 1]\n",
    "\n",
    "process philosopher(i: 0 .. 4)\n",
    "    while true do\n",
    "        think\n",
    "        acquire forks\n",
    "        eat\n",
    "        release forks\n",
    "```\n",
    "Suppose we acquire forks by first picking up the left and the right fork and releasing them similarly:\n",
    "```\n",
    "acquire forks:\tP(fork(i)) ; P(fork((i + 1) mod 5))\n",
    "release forks:\tV(fork(i)) ; V(fork((i + 1) mod 5))\n",
    "```"
   ]
  },
  {
   "cell_type": "markdown",
   "metadata": {
    "editable": true,
    "slideshow": {
     "slide_type": ""
    },
    "tags": []
   },
   "source": [
    "_Question:_ Is it guaranteed that every philosopher will eat with two forks, which implies that no two neighbours can eat at the same time (safety), that philosophers don't deadlock (safety), and that every philosopher will eventually eat (liveness)?"
   ]
  },
  {
   "cell_type": "code",
   "execution_count": null,
   "metadata": {
    "editable": true,
    "slideshow": {
     "slide_type": "slide"
    },
    "solution": "shown",
    "solution_first": true,
    "tags": []
   },
   "outputs": [],
   "source": [
    "from threading import Thread, Semaphore\n",
    "from time import sleep\n",
    "from sys import stdout\n",
    "\n",
    "class Philosopher(Thread):\n",
    "    def __init__(self, i):\n",
    "        self.i = i; Thread.__init__(self)\n",
    "    def run(self):\n",
    "        while True:\n",
    "            stdout.write(str(self.i) + ' is thinking\\n'); sleep(1)\n",
    "            fork[self.i].acquire(); fork[(self.i + 1) % 5].acquire()\n",
    "            stdout.write(str(self.i) + ' is eating\\n'); sleep(1)\n",
    "            fork[self.i].release(); fork[(self.i + 1) % 5].release()\n",
    "\n",
    "fork = [Semaphore(1) for i in range(5)]\n",
    "phil = [Philosopher(i) for i in range(5)]\n",
    "for i in range(5): phil[i].start()"
   ]
  },
  {
   "cell_type": "markdown",
   "metadata": {
    "editable": true,
    "slideshow": {
     "slide_type": "fragment"
    },
    "solution": "shown",
    "tags": []
   },
   "source": [
    "_Answer:_  \n",
    "Philosophers will eat with both forks, but if all philosophers pick up first their left fork, no one can pick up their right fork, and we have a deadlock."
   ]
  },
  {
   "cell_type": "markdown",
   "metadata": {
    "editable": true,
    "slideshow": {
     "slide_type": "slide"
    },
    "tags": []
   },
   "source": [
    "Deadlocking is avoided if we \"break the cycle\" and have one process, say the last one, pick up the right fork before the left fork:\n",
    "- philosopher `0` picks up forks `0`, `1`\n",
    "- philosopher `1` picks up forks `1`, `2`\n",
    "- philosopher `2` picks up forks `2`, `3`\n",
    "- philosopher `3` picks up forks `3`, `4`\n",
    "- philosopher `4` picks up forks `0`, `4`\n",
    "\n",
    "Essentially, we have ordered the `5` forks and ensured they are always taken in that order. In general, circular waiting can be avoided by ordering resources. This is a global decision to which all processes have to adhere. If a process tries to acquire new resources and these have a lower order than those it holds, the process first has to release the resources it holds and then acquire all in order."
   ]
  },
  {
   "cell_type": "markdown",
   "metadata": {
    "editable": true,
    "slideshow": {
     "slide_type": "slide"
    },
    "tags": []
   },
   "source": [
    "In the Python implementation, each philosopher constructs a set `f` to the two forks they need and then first acquires fork `min(f)` and then fork `max(f)`: "
   ]
  },
  {
   "cell_type": "code",
   "execution_count": null,
   "metadata": {
    "editable": true,
    "slideshow": {
     "slide_type": ""
    },
    "tags": []
   },
   "outputs": [],
   "source": [
    "from threading import Thread, Semaphore\n",
    "from time import sleep\n",
    "from sys import stdout\n",
    "\n",
    "class Philosopher(Thread):\n",
    "    def __init__(self, i):\n",
    "        self.i = i; Thread.__init__(self)\n",
    "    def run(self):\n",
    "        while True:\n",
    "            stdout.write(str(self.i) + ' is thinking\\n'); sleep(1)\n",
    "            f = {self.i, (self.i + 1) % 5}\n",
    "            fork[min(f)].acquire(); fork[max(f)].acquire()\n",
    "            stdout.write(str(self.i) + ' is eating\\n'); sleep(1)\n",
    "            fork[min(f)].release(); fork[max(f)].release()\n",
    "\n",
    "fork = [Semaphore(1) for i in range(5)]\n",
    "phil = [Philosopher(i) for i in range(5)]\n",
    "for i in range(5): phil[i].start()"
   ]
  },
  {
   "cell_type": "markdown",
   "metadata": {
    "editable": true,
    "slideshow": {
     "slide_type": "slide"
    },
    "tags": []
   },
   "source": [
    "## Readers and Writers"
   ]
  },
  {
   "cell_type": "markdown",
   "metadata": {
    "editable": true,
    "slideshow": {
     "slide_type": ""
    },
    "tags": []
   },
   "source": [
    "Two kinds of processes, _readers_ and _writers,_ access shared data, like a database, file, or data structure. Readers only examine the data, while writers both examine and update the data. To preclude interference, a writer process must have exclusive access to the data. Assuming no writer is accessing the data, any number of readers may concurrently access the data. In a first attempt, we use a single semaphore when accessing the data:\n",
    "\n",
    "```\n",
    "var rw: semaphore = 1\n",
    "```\n",
    "\n",
    "<div style=\"float:left;border-left:2em solid white\">\n",
    "\n",
    "```\n",
    "procedure reader\n",
    "    while true do\n",
    "        P(rw)\n",
    "        read data\n",
    "        V(rw)\n",
    "```\n",
    "</div>\n",
    "<div style=\"float:left;border-left:6em solid white\">\n",
    "\n",
    "```\n",
    "procedure writer\n",
    "    while true do\n",
    "        P(rw)\n",
    "        write data\n",
    "        V(rw)\n",
    "```\n",
    "</div>"
   ]
  },
  {
   "cell_type": "markdown",
   "metadata": {
    "editable": true,
    "slideshow": {
     "slide_type": ""
    },
    "solution": "hidden",
    "solution_first": true,
    "tags": []
   },
   "source": [
    "_Question:_ With multiple readers, as in `reader ‖ reader ‖ writer`, what is the problem with this solution?"
   ]
  },
  {
   "cell_type": "markdown",
   "metadata": {
    "editable": true,
    "slideshow": {
     "slide_type": "fragment"
    },
    "solution": "hidden",
    "tags": []
   },
   "source": [
    "*Answer:*  \n",
    "Only one reader can access the data at the same time."
   ]
  },
  {
   "cell_type": "markdown",
   "metadata": {
    "editable": true,
    "slideshow": {
     "slide_type": "slide"
    },
    "tags": []
   },
   "source": [
    "To relax this restriction, only the first reader gets a lock for all readers, and the last reader releases it.  Variable `nr` counts the number of readers. Semaphore `mutexRW` is used for exclusive access to `rw`:\n",
    "\n",
    "```\n",
    "var nr: integer = 0\n",
    "var rw, mutexRW: semaphore = 1, 1\n",
    "```\n",
    "\n",
    "<div style=\"float:left;border-left:2em solid white\">\n",
    "\n",
    "```\n",
    "procedure reader\n",
    "    while true do\n",
    "        P(mutexRW)\n",
    "            nr := nr + 1\n",
    "            if nr = 1 then P(rw) \n",
    "        V(mutexRW)  \n",
    "        read data\n",
    "        P(mutexRW)         \n",
    "            nr := nr – 1  \n",
    "            if nr = 0 then V(rw)  \n",
    "        V(mutexRW)\n",
    "```\n",
    "</div>\n",
    "<div style=\"float:left;border-left:6em solid white\">\n",
    "\n",
    "```\n",
    "procedure writer\n",
    "    while true do\n",
    "        P(rw)\n",
    "        write data\n",
    "        V(rw)\n",
    "```\n",
    "</div>"
   ]
  },
  {
   "cell_type": "markdown",
   "metadata": {
    "editable": true,
    "slideshow": {
     "slide_type": ""
    },
    "solution": "hidden",
    "solution_first": true,
    "tags": []
   },
   "source": [
    "_Question:_ What happens when\n",
    "- a writer accesses the data, and both another reader and writer try as well,\n",
    "- a reader accesses the data, and both another reader and writer try so as well?"
   ]
  },
  {
   "cell_type": "markdown",
   "metadata": {
    "editable": true,
    "slideshow": {
     "slide_type": "fragment"
    },
    "solution": "hidden",
    "tags": []
   },
   "source": [
    "*Answer:*  \n",
    "The previous solution may lead to writers being unable to access the data if a reader gets access first and new readers come before existing readers finish the access. Hence writers may starve."
   ]
  },
  {
   "cell_type": "markdown",
   "metadata": {
    "editable": true,
    "slideshow": {
     "slide_type": "slide"
    },
    "tags": []
   },
   "source": [
    "To develop a fair solution, we start with a coarse-grained formulation. Let `nr` and `nw` be the number of readers and writers; `RW` is the reader-writer invariant:\n",
    "\n",
    "```\n",
    "var nr, nw: integer = 0, 0\n",
    "{RW: (nr = 0 ∨ nw = 0) ∧ nw ≤ 1}\n",
    "```\n",
    "<div style=\"float:left;border-left:2em solid white\">\n",
    "\n",
    "```\n",
    "procedure reader\n",
    "    while true do\n",
    "        ⟨await nw = 0 then nr := nr + 1⟩\n",
    "        read data\n",
    "        ⟨nr := nr – 1⟩\n",
    "```\n",
    "</div>\n",
    "<div style=\"float:left;border-left:6em solid white\">\n",
    "\n",
    "```\n",
    "procedure writer\n",
    "    while true do\n",
    "        ⟨await nr = 0 ∧ nw = 0 then nw := nw + 1⟩\n",
    "        write data\n",
    "        ⟨nw := nw – 1⟩\n",
    "```\n",
    "</div>"
   ]
  },
  {
   "cell_type": "markdown",
   "metadata": {
    "editable": true,
    "slideshow": {
     "slide_type": ""
    },
    "tags": []
   },
   "source": [
    "The implementation of the entry and exit protocols uses binary semaphores for mutual exclusion and condition synchronization and uses counters for the number of delayed processes (the specification of the entry and exit protocols is included as comments):"
   ]
  },
  {
   "cell_type": "markdown",
   "metadata": {
    "editable": true,
    "slideshow": {
     "slide_type": "-"
    },
    "tags": []
   },
   "source": [
    "<div style=\"display:table;margin-left:0em\">\n",
    "  <div style = \"display:table-cell\">\n",
    "\n",
    "`var e: semaphore = 1`  \n",
    "`var r, w: semaphore = 0, 0`  \n",
    "`var nr, nw : integer = 0, 0`  \n",
    "`var dr, dw : integer = 0, 0`\n",
    "  </div>\n",
    "  <div style = \"display:table-cell; border-left:70px solid white\">\n",
    "for exclusive access to protocol variables  <br>\n",
    "for delaying readers, writers  <br>\n",
    "number of readers, writers  <br>\n",
    "number of delayed readers, writers\n",
    "  </div>\n",
    "</div>\n",
    "\n",
    "<div style=\"float:left;border-left:0em solid white\">\n",
    "\n",
    "```algorithm\n",
    "procedure reader\n",
    "    while true do\n",
    "        –– ⟨await nw = 0 then nr := nr + 1⟩\n",
    "            P(e)\n",
    "            if nw > 0 then\n",
    "                dr := dr + 1 ; V(e) ; P(r)\n",
    "            nr := nr + 1\n",
    "            if dr > 0 then dr := dr – 1 ; V(r)\n",
    "            else V(e)\n",
    "        read data\n",
    "        –– ⟨nr := nr – 1⟩\n",
    "            P(e)\n",
    "            nr := nr – 1\n",
    "            if nr = 0 and dw > 0 then\n",
    "                dw := dw – 1 ; V(w)\n",
    "            else V(e)\n",
    "```\n",
    "</div>\n",
    "<div style=\"float:left;border-left:2em solid white\">\n",
    "\n",
    "```algorithm\n",
    "procedure writer\n",
    "    while true do\n",
    "        –– ⟨await nr = 0 ∧ nw = 0 then nw := nw + 1⟩\n",
    "            P(e)\n",
    "            if nr > 0 or nw > 0 then\n",
    "                dw := dw + 1 ; V(e) ; P(w)\n",
    "            nw := nw + 1\n",
    "            V(e)\n",
    "        write data\n",
    "        –– ⟨nw := nw – 1⟩\n",
    "            P(e)\n",
    "            nw := nw – 1\n",
    "            if dr > 0 then dr := dr – 1 ; V(r)\n",
    "            else if dw > 0 then dw := dw – 1 ; V(w)\n",
    "            else V(e)\n",
    "```\n",
    "</div>\n",
    "</div>"
   ]
  },
  {
   "cell_type": "markdown",
   "metadata": {
    "editable": true,
    "slideshow": {
     "slide_type": ""
    },
    "tags": []
   },
   "source": [
    "In both entry and exit protocols, every process must get a lock on `e`. Then, depending on `dr` and `dw`, the readers and writers decide either to continue and access the data or to _pass the baton_ to another reader or writer, which could release the lock or pass it on further.\n",
    "- The entry protocol of `reader` delays a new reader if a writer is waiting; once the reader can proceed, it checks if there are delayed readers and wakes up one (who in turn may wake up another one, etc.).\n",
    "- The exit protocol of `reader` has the last reader wake up a delayed writer.\n",
    "- The entry protocol of `writer` delays a new writer if there is already a reader or writer.\n",
    "- The exit protocol of `writer` wakes up a delayed reader, if there is one, or otherwise wakes up a delayed writer, if there is one."
   ]
  },
  {
   "cell_type": "code",
   "execution_count": null,
   "metadata": {
    "editable": true,
    "slideshow": {
     "slide_type": "slide"
    },
    "tags": []
   },
   "outputs": [],
   "source": [
    "from threading import Thread, Semaphore\n",
    "from time import sleep\n",
    "from sys import stdout\n",
    "\n",
    "class Reader(Thread):\n",
    "    def __init__(self, name):\n",
    "        self.n = name; Thread.__init__(self)\n",
    "    def run(self):\n",
    "        global nr, nw, dr, dw\n",
    "        while True:\n",
    "        # ⟨await nw == 0 then nr += 1⟩\n",
    "            e.acquire()\n",
    "            if nw > 0:\n",
    "            #if nw > 0 or dw > 0 :\n",
    "                dr += 1; e.release(); r.acquire()\n",
    "            nr += 1\n",
    "            if dr > 0: dr -= 1; r.release()\n",
    "            else: e.release()\n",
    "        # read data\n",
    "            stdout.write(self.n + ' reading\\n')\n",
    "            sleep(1)\n",
    "        # ⟨nr -= 1⟩\n",
    "            e.acquire()\n",
    "            nr -= 1\n",
    "            if nr == 0 and dw > 0:\n",
    "                dw -= 1 ; w.release()\n",
    "            else: e.release()\n",
    "\n",
    "class Writer(Thread):\n",
    "    def __init__(self, name):\n",
    "        self.n = name; Thread.__init__(self)\n",
    "    def run(self):\n",
    "        global nr, nw, dr, dw\n",
    "        while True:\n",
    "        # ⟨await nr == 0 and nw = 0 then nw += 1⟩\n",
    "            e.acquire()\n",
    "            if nr > 0 or nw > 0:\n",
    "                dw += 1; e.release(); w.acquire()\n",
    "            nw += 1\n",
    "            e.release()\n",
    "        # write data\n",
    "            stdout.write(self.n + ' writing\\n')\n",
    "            sleep(2)\n",
    "        # ⟨nw -= 1⟩\n",
    "            e.acquire()\n",
    "            nw -= 1\n",
    "            if dr > 0: dr -= 1; r.release()\n",
    "            elif dw > 0: dw -= 1; w.release()\n",
    "            else: e.release()\n",
    "            #if dw > 0: dw -= 1; w.release()\n",
    "            #elif dr > 0: dr -= 1; r.release()\n",
    "            #else: e.release()\n",
    "\n",
    "e = Semaphore(1)\n",
    "r, w = Semaphore(0), Semaphore(0)\n",
    "nr, nw = 0, 0\n",
    "dr, dw = 0, 0\n",
    "\n",
    "r1 = Reader('R1'); r2 = Reader('R2')\n",
    "w1 = Writer('W1'); w2 = Writer('W2')\n",
    "r1.start(); r2.start(); w1.start(); w2.start()"
   ]
  },
  {
   "cell_type": "markdown",
   "metadata": {
    "editable": true,
    "slideshow": {
     "slide_type": "slide"
    },
    "tags": []
   },
   "source": [
    "This solution still gives readers preference over writers. To give writers preference, we modify it such that\n",
    "- new readers are delayed if a writer is waiting; the first `if` statement in `reader` is modified to:\n",
    "```\n",
    "if nw > 0 or dw > 0 then dr := dr + 1 ; V(e) ; P(r)\n",
    "```\n",
    "- a delayed reader is awakened only if no writer is currently writing; the second `if` statement in `writer` is modified to:\n",
    "```\n",
    "if dw > 0 then dw := dw – 1 ; V(w)\n",
    "else if dr > 0 then dr := dr – 1 ; V(r)\n",
    "else V(e)\n",
    "```\n",
    "\n",
    "To have a fair solution, with, e.g. readers and writers taking alternate turns when both are waiting, we need to\n",
    "\n",
    "- delay a new reader when a writer is waiting,\n",
    "- delay a new writer when a reader is waiting,\n",
    "- awaken one waiting writer, if any, when a reader finishes,\n",
    "- awaken all waiting readers, if any, when a writer finishes; otherwise, awaken one waiting writer, if any."
   ]
  },
  {
   "cell_type": "markdown",
   "metadata": {
    "editable": true,
    "slideshow": {
     "slide_type": "slide"
    },
    "tags": []
   },
   "source": [
    "## Implementing Semaphores"
   ]
  },
  {
   "cell_type": "markdown",
   "metadata": {
    "editable": true,
    "slideshow": {
     "slide_type": ""
    },
    "tags": []
   },
   "source": [
    "Operating systems distinguish between *processes*, which don't share memory, and *threads*, which share memory. As they are scheduled similarly, we will refer to them as processes. Every process is in one of four states:\n",
    "- _executing:_ running on one of the processors (cores), not in any queue\n",
    "- _ready:_ in the queue of ready processes\n",
    "- _blocked:_ in the queue of one semaphore\n",
    "- _terminated:_ reached its end\n",
    "\n",
    "A semaphore consists, in principle, of two fields:\n",
    "- a non-negative integer counter\n",
    "- a pointer to a queue of processes blocked on that semaphore"
   ]
  },
  {
   "cell_type": "markdown",
   "metadata": {
    "editable": true,
    "slideshow": {
     "slide_type": "slide"
    },
    "tags": []
   },
   "source": [
    "A process is represented by a pointer to a _process descriptor_ (process control block) that contains the location of the code, stack, and possibly other saved registers. Following operations affect the state of processes and semaphores. A _timer_ interrupts one of the processors periodically:\n",
    "- `fork(p)` adds process `p` to the ready queue and calls `dispatch()` \n",
    "- `P(s)` decrements the counter of `s` if it is positive; if zero, adds the current process to the queue of `s`; calls `dispatch()`\n",
    "- `V(s)` increments the counter of `s` if the queue is empty; otherwise, moves one process from the queue of `s` to the ready queue; calls `dispatch()`\n",
    "- timer interrupt: adds the current process to the ready queue and calls `dispatch()`"
   ]
  },
  {
   "cell_type": "markdown",
   "metadata": {
    "editable": true,
    "slideshow": {
     "slide_type": ""
    },
    "tags": []
   },
   "source": [
    "Procedure `dispatch()` assigns a ready process to a processor:\n",
    "- the state of the calling process is saved in the process descriptor\n",
    "- a process is removed from the ready queue, and its previous state is restored\n",
    "\n",
    "The ready and semaphore queues are typically first-in, first-out queues, ensuring (weak) fairness.\n",
    "\n",
    "Interrupts may also occur due to I/O requests: the process waiting on I/O is moved to the ready queue, and `dispatch()` is called."
   ]
  },
  {
   "cell_type": "markdown",
   "metadata": {
    "editable": true,
    "slideshow": {
     "slide_type": "slide"
    },
    "tags": []
   },
   "source": [
    "The dispatcher takes _priorities_ into account. An _absolute priority_ requires that ready processes with higher priority are always given preference. A _relative priority_ only suggests to the dispatcher to provide proportionally more or less time."
   ]
  },
  {
   "cell_type": "markdown",
   "metadata": {
    "editable": true,
    "slideshow": {
     "slide_type": ""
    },
    "solution": "shown",
    "solution_first": true,
    "tags": []
   },
   "source": [
    "_Question:_ Give examples of absolute and relative priorities in scheduling!"
   ]
  },
  {
   "cell_type": "markdown",
   "metadata": {
    "editable": true,
    "slideshow": {
     "slide_type": "fragment"
    },
    "solution": "shown",
    "tags": []
   },
   "source": [
    "*Answer:*\n",
    "- Absolute priority: Processes handling network and file I/O have higher priority than processes handling keyboard and mouse events, which have higher priority than regular processes. Some microcontrollers employ only two priorities, the higher for interrupts.\n",
    "- Relative priority: A router gives requests for streaming media higher priority than web pages and gives those a higher priority than downloads. An operating system gives foreground processes higher priority than background processes. A browser gives visible tabs higher priority than other tabs. Unix (Linux, macOS) has the <a href=\"https://en.wikipedia.org/wiki/Nice_(Unix)\">`nice`</a> shell command. [Java threads](https://docs.oracle.com/javase/tutorial/essential/concurrency/) can have 20 different [priority levels](https://docs.oracle.com/javase/9/docs/api/java/lang/Thread.html)."
   ]
  },
  {
   "cell_type": "markdown",
   "metadata": {
    "editable": true,
    "slideshow": {
     "slide_type": "slide"
    },
    "tags": []
   },
   "source": [
    "Python and Java add a _created_ state:\n",
    "```Python\n",
    "producer = Producer() # producer is created, but not ready\n",
    "producer.start()      # producer is ready, dispatcher can switch to executing\n",
    "producer.join()       # producer has terminated\n",
    "```\n",
    "\n",
    "[Linux semaphores](https://github.com/torvalds/linux/blob/master/include/linux/semaphore.h) maintain an additional field with a [spinlock](https://github.com/torvalds/linux/blob/master/include/linux/spinlock.h) for waiting while the semaphore structure is updated:\n",
    "```C\n",
    "struct semaphore {\n",
    "    raw_spinlock_t      lock;\n",
    "    unsigned int        count;\n",
    "    struct list_head    wait_list;\n",
    "};\n",
    "```"
   ]
  },
  {
   "cell_type": "markdown",
   "metadata": {
    "editable": true,
    "slideshow": {
     "slide_type": "slide"
    },
    "tags": []
   },
   "source": [
    "*Question.* Consider the following program. It uses `with mutex: ...` as a shorthand for `mutex.acquire(); ...; mutex.release()`. By uncommenting the `sleep` statement, what can you say about the scheduling of the three threads?"
   ]
  },
  {
   "cell_type": "code",
   "execution_count": null,
   "metadata": {
    "editable": true,
    "slideshow": {
     "slide_type": ""
    },
    "tags": []
   },
   "outputs": [],
   "source": [
    "from threading import Thread, Semaphore\n",
    "from time import sleep\n",
    "from sys import stdout\n",
    "\n",
    "def p(s):\n",
    "    for _ in range(20):\n",
    "        with mutex:\n",
    "            stdout.write(s); stdout.flush()\n",
    "        #sleep(.2)\n",
    "\n",
    "mutex = Semaphore(0)\n",
    "Thread(target = p, args = ('0', )).start()\n",
    "Thread(target = p, args = ('1', )).start()\n",
    "Thread(target = p, args = ('2', )).start()\n",
    "mutex.release()"
   ]
  },
  {
   "cell_type": "markdown",
   "metadata": {
    "editable": true,
    "slideshow": {
     "slide_type": "fragment"
    },
    "tags": []
   },
   "source": [
    "*Answer.*   \n",
    "The Python interpreter switches between threads after a time slice. That time slice is larger than it takes to print 20 times a number, as seen without `sleep`. Uncommenting `sleep` reveals a round-robin scheduler."
   ]
  }
 ],
 "metadata": {
  "celltoolbar": "Create Assignment",
  "kernelspec": {
   "display_name": "Python 3 (ipykernel)",
   "language": "python",
   "name": "python3"
  },
  "language_info": {
   "codemirror_mode": {
    "name": "ipython",
    "version": 3
   },
   "file_extension": ".py",
   "mimetype": "text/x-python",
   "name": "python",
   "nbconvert_exporter": "python",
   "pygments_lexer": "ipython3",
   "version": "3.13.0"
  },
  "livereveal": {
   "history": true,
   "margin": "0.01",
   "progress": true,
   "scroll": true,
   "start_slideshow_at": "selected"
  },
  "rise": {
   "enable_chalkboard": true
  }
 },
 "nbformat": 4,
 "nbformat_minor": 4
}
