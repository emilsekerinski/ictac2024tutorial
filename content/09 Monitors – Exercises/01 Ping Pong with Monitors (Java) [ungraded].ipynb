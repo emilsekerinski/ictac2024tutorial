{
 "cells": [
  {
   "cell_type": "markdown",
   "metadata": {},
   "source": [
    "### Ping Pong with Monitors (Java) [ungraded]"
   ]
  },
  {
   "cell_type": "markdown",
   "metadata": {},
   "source": [
    "One thread repeatedly prints `ping` and pauses for `.2` seconds. Another thread prints `pongs` and pauses for `.2` seconds. The following implementation in Python uses semaphores to ensure that the two threads don't print at the same time; printing is a critical section:"
   ]
  },
  {
   "cell_type": "code",
   "execution_count": null,
   "metadata": {},
   "outputs": [],
   "source": [
    "from threading import Thread, Semaphore\n",
    "from time import sleep\n",
    "class Ping(Thread):\n",
    "    def run(self):\n",
    "        for _ in range(10):\n",
    "            s.acquire()      # wait\n",
    "            print('ping', end=' ')    # critical section\n",
    "            s.release()      # signal\n",
    "            sleep(.2)         # noncritical section\n",
    " \n",
    "class Pong(Thread):\n",
    "    def run(self):\n",
    "        for _ in range(10):\n",
    "            s.acquire()      # wait\n",
    "            print('pong', end=' ')   # critical section\n",
    "            s.release()      # signal\n",
    "            sleep(.2)         # noncritical section\n",
    "\n",
    "s = Semaphore(1)                    # create semaphore\n",
    "ping = Ping(); pong = Pong() # create new threads\n",
    "ping.start(); pong.start()        # run threads"
   ]
  },
  {
   "cell_type": "markdown",
   "metadata": {},
   "source": [
    "For formulating an equivalent program with monitors, the two critical sections become each a monitor procedure of one monitor, as monitor procedures run in mutual exclusion. Complete the Java outline below! Class `Ball` has to have two synchronized methods, the monitor procedures, one for printing `ping` and one for printing `pong`. The threads `Ping` and `Pong` must call the corresponding print method of monitor object `b` 10 times and pause for `.2` seconds, for which you can use:\n",
    "```Java\n",
    "try {Thread.sleep(200);} catch (Exception e) {}\n",
    "```"
   ]
  },
  {
   "cell_type": "code",
   "execution_count": null,
   "metadata": {
    "scrolled": true,
    "solution": "hidden",
    "solution_first": true
   },
   "outputs": [],
   "source": [
    "%%writefile pingpong.java\n",
    "class Ball {\n",
    "    // YOUR CODE HERE\n",
    "}\n",
    "class Ping extends Thread {\n",
    "    // YOUR CODE HERE\n",
    "}\n",
    "class Pong extends Thread {\n",
    "    // YOUR CODE HERE\n",
    "}\n",
    "class TestPingPong {\n",
    "    public static void main(String[] args) {\n",
    "        Ball b = new Ball();\n",
    "        Ping ping = new Ping(b);\n",
    "        Pong pong = new Pong(b);\n",
    "        ping.start(); pong.start(); \n",
    "    }\n",
    "}"
   ]
  },
  {
   "cell_type": "code",
   "execution_count": null,
   "metadata": {},
   "outputs": [],
   "source": [
    "!javac pingpong.java"
   ]
  },
  {
   "cell_type": "code",
   "execution_count": null,
   "metadata": {},
   "outputs": [],
   "source": [
    "!java TestPingPong"
   ]
  },
  {
   "cell_type": "markdown",
   "metadata": {},
   "source": [
    "Is it necessary to add `ping.join(); pong.join()` at the end of `main`? Explain!"
   ]
  },
  {
   "cell_type": "markdown",
   "metadata": {
    "solution": "hidden",
    "solution_first": true
   },
   "source": [
    "YOUR ANSWER HERE"
   ]
  }
 ],
 "metadata": {
  "celltoolbar": "Create Assignment",
  "kernelspec": {
   "display_name": "Python 3 (ipykernel)",
   "language": "python",
   "name": "python3"
  },
  "language_info": {
   "codemirror_mode": {
    "name": "ipython",
    "version": 3
   },
   "file_extension": ".py",
   "mimetype": "text/x-python",
   "name": "python",
   "nbconvert_exporter": "python",
   "pygments_lexer": "ipython3",
   "version": "3.11.1"
  }
 },
 "nbformat": 4,
 "nbformat_minor": 4
}
