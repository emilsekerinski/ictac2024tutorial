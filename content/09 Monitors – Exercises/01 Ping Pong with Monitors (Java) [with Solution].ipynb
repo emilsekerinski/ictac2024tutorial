{
 "cells": [
  {
   "cell_type": "markdown",
   "metadata": {
    "nbgrader": {
     "grade": false,
     "grade_id": "cell-1e925bdecfa53f52",
     "locked": true,
     "schema_version": 3,
     "solution": false,
     "task": false
    }
   },
   "source": [
    "### Ping Pong with Monitors (Java)\n",
    "\n",
    "Consider the Ping Pong example from the course notes on semaphores:\n",
    "```Python\n",
    "class Ping(Thread):\n",
    "    def run(self):\n",
    "        while True:\n",
    "            s.acquire()      # wait\n",
    "            print('ping')    # critical section\n",
    "            s.release()      # signal\n",
    "            sleep(2)         # noncritical section\n",
    " \n",
    "class Pong(Thread):\n",
    "    def run(self):\n",
    "        while True:\n",
    "            s.acquire()      # wait\n",
    "            print('pong')    # critical section\n",
    "            s.release()      # signal\n",
    "            sleep(4)         # noncritical section\n",
    "\n",
    "s = Semaphore(1)             # create semaphore\n",
    "ping = Ping(); pong = Pong() # create new threads\n",
    "ping.start(); pong.start()   # run threads\n",
    "```\n",
    "Implement that in Java with monitors by completing the outline below. The monitor `Ball` has to have two methods (monitor procedures), one for printing `ping` and one for printing `pong`. The main program creates a `Ball` object `b`. The `Ping` and `Pong` threads should each call the corresponding method of `b` 10 times. Before calling the method again, the threads should pause for at least 0.1 seconds. For that, you may add\n",
    "```Java\n",
    "try {Thread.sleep(100);} catch (Exception e) {}\n",
    "```"
   ]
  },
  {
   "cell_type": "code",
   "execution_count": null,
   "metadata": {
    "scrolled": true,
    "solution": "shown",
    "solution_first": true
   },
   "outputs": [],
   "source": [
    "%%writefile pingpong.java\n",
    "class Ball {\n",
    "    // YOUR CODE HERE\n",
    "}\n",
    "class Ping extends Thread {\n",
    "    // YOUR CODE HERE\n",
    "}\n",
    "class Pong extends Thread {\n",
    "    // YOUR CODE HERE\n",
    "}\n",
    "class TestPingPong {\n",
    "    public static void main(String[] args) {\n",
    "        Ball b = new Ball();\n",
    "        Ping ping = new Ping(b);\n",
    "        Pong pong = new Pong(b);\n",
    "        ping.start(); pong.start(); \n",
    "    }\n",
    "}"
   ]
  },
  {
   "cell_type": "code",
   "execution_count": null,
   "metadata": {
    "jupyter": {
     "source_hidden": true
    },
    "scrolled": true,
    "solution": "shown",
    "tags": []
   },
   "outputs": [],
   "source": [
    "%%writefile pingpong.java\n",
    "class Ball {\n",
    "    synchronized void ping() {\n",
    "        System.out.print(\"ping \");\n",
    "    }\n",
    "    synchronized void pong() {\n",
    "        System.out.print(\"pong \");\n",
    "    }\n",
    "}\n",
    "class Ping extends Thread {\n",
    "    Ball b;\n",
    "    Ping(Ball b) {\n",
    "        this.b = b;\n",
    "    }\n",
    "    public void run() {\n",
    "        for (int i = 0; i < 10; i++) {\n",
    "            b.ping(); try {Thread.sleep(100);} catch (Exception e) {}\n",
    "        }\n",
    "    }\n",
    "}\n",
    "class Pong extends Thread {\n",
    "    Ball b;\n",
    "    Pong(Ball b) {\n",
    "        this.b = b;\n",
    "    }\n",
    "    public void run() {\n",
    "        for (int i = 0; i < 10; i++) {\n",
    "            b.pong(); try {Thread.sleep(100);} catch (Exception e) {}\n",
    "        }\n",
    "    }\n",
    "}\n",
    "class TestPingPong {\n",
    "    public static void main(String[] args) {\n",
    "        Ball b = new Ball();\n",
    "        Ping ping = new Ping(b);\n",
    "        Pong pong = new Pong(b);\n",
    "        ping.start(); pong.start(); \n",
    "    }\n",
    "}"
   ]
  },
  {
   "cell_type": "code",
   "execution_count": null,
   "metadata": {},
   "outputs": [],
   "source": [
    "!javac pingpong.java"
   ]
  },
  {
   "cell_type": "code",
   "execution_count": null,
   "metadata": {},
   "outputs": [],
   "source": [
    "!java TestPingPong"
   ]
  },
  {
   "cell_type": "markdown",
   "metadata": {
    "nbgrader": {
     "grade": false,
     "grade_id": "cell-36c4b2c7464bd0b4",
     "locked": true,
     "schema_version": 3,
     "solution": false,
     "task": false
    }
   },
   "source": [
    "Is it necessary to add `ping.join(); pong.join()` at the end of `main`? Explain!"
   ]
  },
  {
   "cell_type": "markdown",
   "metadata": {
    "solution": "hidden",
    "solution_first": true
   },
   "source": [
    "YOUR ANSWER HERE"
   ]
  },
  {
   "cell_type": "markdown",
   "metadata": {
    "jupyter": {
     "source_hidden": true
    },
    "nbgrader": {
     "grade": false,
     "grade_id": "cell-7402c11b4e61a6d4",
     "locked": true,
     "schema_version": 3,
     "solution": false,
     "task": false
    },
    "solution": "hidden",
    "tags": []
   },
   "source": [
    "No, in Java a program terminates if the main thread and all created (non-daemon) threads terminate."
   ]
  }
 ],
 "metadata": {
  "celltoolbar": "Create Assignment",
  "kernelspec": {
   "display_name": "Python 3",
   "language": "python",
   "name": "python3"
  },
  "language_info": {
   "codemirror_mode": {
    "name": "ipython",
    "version": 3
   },
   "file_extension": ".py",
   "mimetype": "text/x-python",
   "name": "python",
   "nbconvert_exporter": "python",
   "pygments_lexer": "ipython3",
   "version": "3.8.3"
  }
 },
 "nbformat": 4,
 "nbformat_minor": 4
}
