{
 "cells": [
  {
   "cell_type": "markdown",
   "metadata": {
    "solution": "hidden"
   },
   "source": [
    "### Read-Write Controller with Monitors"
   ]
  },
  {
   "cell_type": "markdown",
   "metadata": {},
   "source": [
    "Consider the monitor `RWController` from the course notes with the signal-and-continue discipline:\n",
    "```algorithm\n",
    "monitor RWcontroller\n",
    "    var nr, nw = 0, 0\n",
    "    {(nr = 0 ∨ nw = 0) ∧ 0 ≤ nr ∧ 0 ≤ nw ≤ 1}\n",
    "    var readOK: condition  {signalling condition:  nw = 0}\n",
    "    var writeOK: condition  {signalling condition:  nr = 0 ∧ nw = 0}\n",
    "    procedure startRead\n",
    "        while nw > 0 do wait(readOK)\n",
    "        nr := nr + 1\n",
    "    procedure endRead\n",
    "        {nr > 0} nr := nr – 1\n",
    "        if nr = 0 then signal(writeOK)\n",
    "    procedure startWrite\n",
    "        while nr > 0 or nw > 0 do wait(writeOK)\n",
    "        nw := nw + 1\n",
    "    procedure endWrite\n",
    "        {nw > 0} nw := nw – 1\n",
    "        signal(writeOK) ; signalAll(readOK)\n",
    "```\n",
    "\n",
    "Add to the bodies of the procedures of  `RWcontroller` the complete annotation needed to show correctness. Argue for the correctness!"
   ]
  },
  {
   "cell_type": "markdown",
   "metadata": {},
   "source": [
    "YOUR SOLUTION HERE"
   ]
  },
  {
   "cell_type": "markdown",
   "metadata": {},
   "source": [
    "When a writer ends, either a waiting writer or all waiting readers can continue. However, once a reader starts and there is a stream of overlapping readers, writers cannot start writing. Modify it to give preference to writers in this case: if readers are reading and a writer wants to write, no more readers are allowed to start reading. If readers and writers wait after a writer finishes, writers should go first. Give the invariant of the modified monitor."
   ]
  },
  {
   "cell_type": "markdown",
   "metadata": {
    "solution": "shown",
    "solution_first": true
   },
   "source": [
    "YOUR ALGORITHM HERE"
   ]
  },
  {
   "cell_type": "markdown",
   "metadata": {},
   "source": [
    "Add to the bodies of the modified procedures of  `RWcontroller` the complete annotation needed to show correctness. Argue for the correctness!"
   ]
  }
 ],
 "metadata": {
  "kernelspec": {
   "display_name": "Python 3 (ipykernel)",
   "language": "python",
   "name": "python3"
  },
  "language_info": {
   "codemirror_mode": {
    "name": "ipython",
    "version": 3
   },
   "file_extension": ".py",
   "mimetype": "text/x-python",
   "name": "python",
   "nbconvert_exporter": "python",
   "pygments_lexer": "ipython3",
   "version": "3.11.1"
  }
 },
 "nbformat": 4,
 "nbformat_minor": 4
}
