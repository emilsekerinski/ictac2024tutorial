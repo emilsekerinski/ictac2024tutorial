{
 "cells": [
  {
   "cell_type": "markdown",
   "metadata": {
    "nbgrader": {
     "grade": false,
     "grade_id": "cell-7897dd4a53188974",
     "locked": true,
     "schema_version": 3,
     "solution": false,
     "task": false
    }
   },
   "source": [
    "### Read-Write Controller with Monitors"
   ]
  },
  {
   "cell_type": "markdown",
   "metadata": {
    "nbgrader": {
     "grade": false,
     "grade_id": "cell-de585588c06350d9",
     "locked": true,
     "schema_version": 3,
     "solution": false,
     "task": false
    }
   },
   "source": [
    "Consider the monitor `RWController` from the course notes:\n",
    "```algorithm\n",
    "monitor RWcontroller\n",
    "    var nr, nw = 0, 0\n",
    "    {(nr = 0 ∨ nw = 0) ∧ nw ≤ 1}\n",
    "    var readOK: condition  {signalling condition:  nw = 0}\n",
    "    var writeOK: condition  {signalling condition:  nr = 0 ∧ nw = 0}\n",
    "    procedure startRead\n",
    "        while nw > 0 do wait(readOK)\n",
    "        nr := nr + 1\n",
    "    procedure endRead\n",
    "        {nr > 0} nr := nr – 1\n",
    "        if nr = 0 then signal(writeOK)\n",
    "    procedure startWrite\n",
    "        while nr > 0 or nw > 0 do wait(writeOK)\n",
    "        nw := nw + 1\n",
    "    procedure endWrite\n",
    "        {nw > 0} nw := nw – 1\n",
    "        signal(writeOK) ; signalAll(readOK)\n",
    "```\n",
    "Add to the bodies of the procedures of RWcontroller the complete annotation needed to show correctness. Argue for the correctness!"
   ]
  },
  {
   "cell_type": "markdown",
   "metadata": {},
   "source": [
    "YOUR SOLUTION HERE"
   ]
  },
  {
   "cell_type": "markdown",
   "metadata": {
    "jupyter": {
     "source_hidden": true
    }
   },
   "source": [
    "_Solution_:\n",
    "- For `startRead`:\n",
    "```algorithm\n",
    "        {CI}\n",
    "        while nw > 0 do\n",
    "            wait(readOK) {CI}\n",
    "        {CI ∧ nw = 0}\n",
    "        nr := nr + 1\n",
    "        {CI}\n",
    "```\n",
    "> With the signal-and-continue discipline, the postcondition of `wait` is the class invariant, `CI`. Thus, `CI` is the loop invariant.\n",
    "- For `endRead`:\n",
    "```algorithm\n",
    "        {CI ∧ nr > 0}\n",
    "        nr := nr – 1\n",
    "        {CI}\n",
    "        if nr = 0 then\n",
    "            {CI} signal(writeOK) {CI}\n",
    "        {CI}\n",
    "```\n",
    "> With the signal-and-continue discipline, the postcondition of `signal` is its precondition, `CI`. Thus, `CI` is the postcondition of the `if` statement.\n",
    "- For `startWrite`:\n",
    "```algorithm\n",
    "        {CI}\n",
    "        while nr > 0 or nw > 0 do\n",
    "            wait(writeOK) {CI}\n",
    "        {CI ∧ nr = 0 ∧ nw = 0}\n",
    "        nw := nw + 1\n",
    "        {CI}\n",
    "```\n",
    "> With the signal-and-continue discipline, the postcondition of `wait` is the class invariant, `CI`. Thus, `CI` is the loop invariant.\n",
    "- For `endWrite`\n",
    "```algorithm\n",
    "        {CI ∧ nw > 0}\n",
    "        nw := nw – 1\n",
    "        {CI}\n",
    "        signal(writeOK)\n",
    "        {CI}\n",
    "        signalAll(readOK)\n",
    "        {CI}\n",
    "```\n",
    "> With the signal-and-continue discipline, the postcondition of `signal` is its precondition, `CI`. Thus, `CI` holds throughout the body."
   ]
  },
  {
   "cell_type": "markdown",
   "metadata": {},
   "source": [
    "When a writer ends, either a waiting writer or all waiting readers can continue. However, once a reader starts and there is a stream of overlapping readers, writers cannot start writing. Modify it to give preference to writers in this case. That is, if there are readers reading and a writer wants to write, no more readers are allowed to start reading. Also, after a writer finishes and both readers and writers are waiting, writers should go first."
   ]
  },
  {
   "cell_type": "markdown",
   "metadata": {
    "solution": "hidden",
    "solution_first": true
   },
   "source": [
    "YOUR ALGORITHM HERE"
   ]
  },
  {
   "cell_type": "markdown",
   "metadata": {
    "jupyter": {
     "source_hidden": true
    },
    "solution": "hidden",
    "tags": []
   },
   "source": [
    "_Solution:_  \n",
    "Here is a solution that uses a variable, `dw`, for the number of delayed writers:\n",
    "```algorithm\n",
    "monitor RWcontroller\n",
    "    var nr, nw, dw = 0, 0, 0\n",
    "    {(nr = 0 ∨ nw = 0) ∧ nw ≤ 1}\n",
    "    var readOK: condition  {signalling condition:  nw = 0}\n",
    "    var writeOK: condition  {signalling condition:  nr = 0 ∧ nw = 0}\n",
    "    procedure startRead\n",
    "        while nw > 0 or dw > 0 do wait(readOK)\n",
    "        nr := nr + 1\n",
    "    procedure endRead\n",
    "        {nr > 0} nr := nr – 1\n",
    "        if nr = 0 then signal(writeOK)\n",
    "    procedure startWrite\n",
    "        dw := dw + 1\n",
    "        while nr > 0 or nw > 0 do wait(writeOK)\n",
    "        nw, dw:= nw + 1, dw – 1\n",
    "    procedure endWrite\n",
    "        {nw > 0} nw := nw – 1\n",
    "        if dw > 0 then signal(writeOK) else signalAll(readOK)\n",
    "```"
   ]
  },
  {
   "cell_type": "markdown",
   "metadata": {},
   "source": [
    "Add to the bodies of the modified procedures of  `RWcontroller` the complete annotation needed to show correctness. Argue for the correctness!"
   ]
  },
  {
   "cell_type": "markdown",
   "metadata": {
    "jupyter": {
     "source_hidden": true
    }
   },
   "source": [
    "_Solution:_\n",
    "- For `startRead`:\n",
    "```algorithm\n",
    "        {CI}\n",
    "        while nw > 0 or dw > 0 do\n",
    "            wait(readOK) \n",
    "        {CI ∧ nw = 0 ∧ dw = 0}\n",
    "        nr := nr + 1\n",
    "        {CI}\n",
    "```\n",
    "> With the signal-and-continue discipline, the postcondition of `wait` is the class invariant, `CI`. Thus, `CI` is the loop invariant.\n",
    "- For `endRead`:\n",
    "```algorithm\n",
    "        {CI ∧ nr > 0}\n",
    "        nr := nr – 1\n",
    "        {CI}\n",
    "        if nr = 0 then\n",
    "            {CI} signal(writeOK) {CI}\n",
    "        {CI}\n",
    "```\n",
    "> With the signal-and-continue discipline, the postcondition of `signal` is its precondition, `CI`. Thus, `CI` is the postcondition of the `if` statement.\n",
    "- For `startWrite`:\n",
    "```algorithm\n",
    "        {CI}\n",
    "        dw := dw + 1\n",
    "        {CI ∧ dw > 0}\n",
    "        while nr > 0 or nw > 0 do\n",
    "            {dw > 0} wait(writeOK) {CI ∧ dw > 0}\n",
    "        {CI ∧ nr = 0 ∧ nw = 0 ∧ dw > 0}\n",
    "        nw, dw:= nw + 1, dw – 1\n",
    "        {CI}\n",
    "```\n",
    "> With the signal-and-continue discipline, the postcondition of `wait` is the class invariant, `CI`. In addition, the precondition of `wait` is `dw > 0` and `dw` is modified by any other procedure. Thus, `CI ∧ dw > 0` is the loop invariant.\n",
    "- For `endWrite`:\n",
    "- For `endWrite`\n",
    "```algorithm\n",
    "        {CI ∧ nw > 0}\n",
    "        nw := nw – 1\n",
    "        {CI}\n",
    "        if dw > 0 then\n",
    "            {CI} signal(writeOK) {CI}\n",
    "        else\n",
    "            {CI} signalAll(readOK) {CI}\n",
    "        {CI}\n",
    "```\n",
    "> With the signal-and-continue discipline, the postcondition of `signal` is its precondition, `CI`. Thus, `CI` holds throughout the body."
   ]
  }
 ],
 "metadata": {
  "kernelspec": {
   "display_name": "Python 3 (ipykernel)",
   "language": "python",
   "name": "python3"
  },
  "language_info": {
   "codemirror_mode": {
    "name": "ipython",
    "version": 3
   },
   "file_extension": ".py",
   "mimetype": "text/x-python",
   "name": "python",
   "nbconvert_exporter": "python",
   "pygments_lexer": "ipython3",
   "version": "3.11.1"
  }
 },
 "nbformat": 4,
 "nbformat_minor": 4
}
