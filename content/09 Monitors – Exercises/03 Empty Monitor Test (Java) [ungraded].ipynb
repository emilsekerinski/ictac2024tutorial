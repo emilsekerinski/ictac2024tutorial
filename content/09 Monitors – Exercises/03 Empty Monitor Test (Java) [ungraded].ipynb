{
 "cells": [
  {
   "cell_type": "markdown",
   "metadata": {
    "nbgrader": {
     "grade": false,
     "grade_id": "cell-b148b63b6d84ef7b",
     "locked": true,
     "schema_version": 3,
     "solution": false,
     "task": false
    }
   },
   "source": [
    "### Empty Monitor Test  (Java)"
   ]
  },
  {
   "cell_type": "markdown",
   "metadata": {
    "nbgrader": {
     "grade": false,
     "grade_id": "cell-cfb5f3fe7881052f",
     "locked": true,
     "schema_version": 3,
     "solution": false,
     "task": false
    }
   },
   "source": [
    "Some languages, notably Java, have monitors without the `empty()` primitive. In Java, every class implicitly inherits from class [`Object`](https://docs.oracle.com/javase/9/docs/api/java/lang/Object.html), which defines methods `wait()` and `notify()`. Define a class `ObjectPlus` that extends `Object` and adds methods `waitPlus()`, `notifyPlus()`, and `empty()`: when `waitPlus()` and `notifyPlus()` instead of `wait()` and `notify()` are used `empty()` returns if there are no waiting threads. State the monitor invariant."
   ]
  },
  {
   "cell_type": "code",
   "execution_count": null,
   "metadata": {
    "scrolled": true,
    "solution": "shown",
    "solution_first": true
   },
   "outputs": [],
   "source": [
    "%%writefile objectplus.java\n",
    "class ObjectPlus extends Object {\n",
    "    // YOUR CODE HERE\n",
    "    void waitPlus() throws InterruptedException {\n",
    "        // YOUR CODE HERE\n",
    "    }\n",
    "    void notifyPlus() {\n",
    "        // YOUR CODE HERE\n",
    "    }\n",
    "    boolean empty() {\n",
    "        // YOUR CODE HERE\n",
    "    }\n",
    "}"
   ]
  },
  {
   "cell_type": "code",
   "execution_count": null,
   "metadata": {},
   "outputs": [],
   "source": [
    "!javac objectplus.java"
   ]
  },
  {
   "cell_type": "markdown",
   "metadata": {
    "nbgrader": {
     "grade": false,
     "grade_id": "cell-f24add0017ad0f1c",
     "locked": true,
     "schema_version": 3,
     "solution": false,
     "task": false
    },
    "tags": []
   },
   "source": [
    "Note that the above methods need not be `synchronized`: the intention is that these methods are called from a class that extends `ObjectPlus` and has `synchronized` methods that call `waitPlus()`, `notifyPlus()`, `empty()`, e.g.\n",
    "```Java\n",
    "class Store extends ObjectPlus {\n",
    "    ...\n",
    "    synchronized void put(int x) {\n",
    "        ... insert in store\n",
    "        if (empty()) {... reorganize store // empty() remains true throughout computation\n",
    "        } else {notifyPlus() // else notify a waiting thread without reorganizing\n",
    "        }\n",
    "    }\n",
    "}\n",
    "```\n",
    "\n",
    "If `waitPlus()`, `notifyPlus()`, and `empty()` were `synchronized`, they could still be called from `synchronized` methods of an extending class: Java's `synchronized` locks are _recursive_ (*reentrant*), meaning that the lock is an integer that counts how often a thread has locked the object. Making the above methods synchronized would make calls to `waitPlus()`, `notifyPlus()`, and `empty()` in extending classes like `Store` unnecessarily lock the object twice. "
   ]
  }
 ],
 "metadata": {
  "kernelspec": {
   "display_name": "Python 3 (ipykernel)",
   "language": "python",
   "name": "python3"
  },
  "language_info": {
   "codemirror_mode": {
    "name": "ipython",
    "version": 3
   },
   "file_extension": ".py",
   "mimetype": "text/x-python",
   "name": "python",
   "nbconvert_exporter": "python",
   "pygments_lexer": "ipython3",
   "version": "3.11.1"
  }
 },
 "nbformat": 4,
 "nbformat_minor": 4
}
