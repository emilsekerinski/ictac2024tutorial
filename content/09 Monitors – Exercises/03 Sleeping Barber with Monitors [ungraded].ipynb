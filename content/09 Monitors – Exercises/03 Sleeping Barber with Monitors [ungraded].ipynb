{
 "cells": [
  {
   "cell_type": "markdown",
   "metadata": {},
   "source": [
    "### Sleeping Barber with Monitors [ungraded]"
   ]
  },
  {
   "cell_type": "markdown",
   "metadata": {},
   "source": [
    "The solution to the Sleeping Barber uses both integer variables and condition variables for synchronizing the barber and the customers, which seems redundant. Can the same synchronization be achieved using only condition variables, as below?\n",
    "\n",
    "```algorithm\n",
    "monitor QuestionableBarberShop\n",
    "    var barberAvailable: condition\n",
    "    var chairOccupied: condition\n",
    "    var exitOpen: condition\n",
    "    var customerLeft: condition\n",
    "```\n",
    "```algorithm\n",
    "    procedure getHaircut()\n",
    "        wait(barberAvailable)\n",
    "        signal(chairOccupied)\n",
    "        wait(exitOpen)\n",
    "        signal(customerLeft)\n",
    "```\n",
    "```algorithm\n",
    "    procedure getNextCustomer()\n",
    "        signal(barberAvailable)\n",
    "        wait(chairOccupied)\n",
    "```\n",
    "```algorithm\n",
    "    procedure finishedCut()\n",
    "        signal(exitOpen)\n",
    "        wait(customerLeft) \n",
    "```"
   ]
  },
  {
   "cell_type": "markdown",
   "metadata": {},
   "source": [
    "YOUR ANSWER HERE"
   ]
  }
 ],
 "metadata": {
  "celltoolbar": "Create Assignment",
  "kernelspec": {
   "display_name": "Python 3 (ipykernel)",
   "language": "python",
   "name": "python3"
  },
  "language_info": {
   "codemirror_mode": {
    "name": "ipython",
    "version": 3
   },
   "file_extension": ".py",
   "mimetype": "text/x-python",
   "name": "python",
   "nbconvert_exporter": "python",
   "pygments_lexer": "ipython3",
   "version": "3.11.1"
  }
 },
 "nbformat": 4,
 "nbformat_minor": 4
}
