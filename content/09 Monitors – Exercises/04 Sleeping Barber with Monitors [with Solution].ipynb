{
 "cells": [
  {
   "cell_type": "markdown",
   "metadata": {
    "nbgrader": {
     "grade": false,
     "grade_id": "cell-f204ece76e2dce78",
     "locked": true,
     "schema_version": 3,
     "solution": false,
     "task": false
    }
   },
   "source": [
    "### Sleeping Barber with Monitors\n",
    "\n",
    "The solution to the Sleeping Barber uses both integer variables and condition variables for synchronizing the barber and the customers, which seems redundant. Can the same synchronization be achieved using only condition variables, as below?\n",
    "\n",
    "```algorithm\n",
    "monitor QuestionableBarberShop\n",
    "    var barberAvailable: condition\n",
    "    var chairOccupied: condition\n",
    "    var exitOpen: condition\n",
    "    var customerLeft: condition\n",
    "```\n",
    "```algorithm\n",
    "    procedure getHaircut()\n",
    "        wait(barberAvailable)\n",
    "        signal(chairOccupied)\n",
    "        wait(exitOpen)\n",
    "        signal(customerLeft)\n",
    "```\n",
    "```algorithm\n",
    "    procedure getNextCustomer()\n",
    "        signal(barberAvailable)\n",
    "        wait(chairOccupied)\n",
    "```\n",
    "```algorithm\n",
    "    procedure finishedCut()\n",
    "        signal(exitOpen)\n",
    "        wait(customerLeft) \n",
    "```"
   ]
  },
  {
   "cell_type": "markdown",
   "metadata": {
    "solution": "hidden",
    "solution_first": true
   },
   "source": [
    "YOUR ANSWER HERE"
   ]
  },
  {
   "cell_type": "markdown",
   "metadata": {
    "jupyter": {
     "source_hidden": true
    },
    "solution": "hidden",
    "tags": []
   },
   "source": [
    "No, if for example the barber first signals `barberAvailable` and no customer is waiting on `barberAvailable`, that signalling is lost. When afterwards a customer waits on `barberAvailable`, it would wait there forever."
   ]
  }
 ],
 "metadata": {
  "celltoolbar": "Create Assignment",
  "kernelspec": {
   "display_name": "Python 3 (ipykernel)",
   "language": "python",
   "name": "python3"
  },
  "language_info": {
   "codemirror_mode": {
    "name": "ipython",
    "version": 3
   },
   "file_extension": ".py",
   "mimetype": "text/x-python",
   "name": "python",
   "nbconvert_exporter": "python",
   "pygments_lexer": "ipython3",
   "version": "3.11.1"
  }
 },
 "nbformat": 4,
 "nbformat_minor": 4
}
