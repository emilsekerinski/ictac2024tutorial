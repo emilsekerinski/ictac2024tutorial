{
 "cells": [
  {
   "cell_type": "markdown",
   "metadata": {
    "nbgrader": {
     "grade": false,
     "grade_id": "cell-b3a39744e748df03",
     "locked": true,
     "schema_version": 3,
     "solution": false,
     "task": false
    }
   },
   "source": [
    "### Barriers with Monitors (Java)"
   ]
  },
  {
   "cell_type": "markdown",
   "metadata": {
    "nbgrader": {
     "grade": false,
     "grade_id": "cell-f5daf87adb274f45",
     "locked": true,
     "schema_version": 3,
     "solution": false,
     "task": false
    }
   },
   "source": [
    "Implement a \"reusable\" barrier with a Java class: a barrier created with `new Barrier(w)` synchronizes `w` workers; each worker calls `b.sync()` to wait at the barrier. Broadcasting allows a simple implementation of barriers with monitors: in `sync`, each worker increments a counter for the number of workers that have arrived at the barrier. The worker that increments that counter to `w` resets that counter to zero and broadcasts to all workers. Complete the template below and add the class invariant and method preconditions as comments. The output could start with:\n",
    "```\n",
    "3 working\n",
    "1 working\n",
    "2 working\n",
    "4 working\n",
    "0 working\n",
    "4 at barrier\n",
    "1 at barrier\n",
    "3 at barrier\n",
    "0 at barrier\n",
    "2 at barrier\n",
    "2 working\n",
    "4 working\n",
    "```"
   ]
  },
  {
   "cell_type": "code",
   "execution_count": null,
   "metadata": {
    "solution": "hidden",
    "solution_first": true
   },
   "outputs": [],
   "source": [
    "%%writefile barrier.java\n",
    "class Barrier {\n",
    "    YOUR CODE HERE\n",
    "}\n",
    "class Worker extends Thread {\n",
    "    Barrier b;\n",
    "    int i;\n",
    "    Worker(int i, Barrier b) {\n",
    "        this.i = i; this.b = b;\n",
    "    }\n",
    "    public void run() {\n",
    "        for (int r = 0; r < 10; r++) {\n",
    "            System.out.println(i + \" working\");\n",
    "            try {Thread.sleep((long)(Math.random() * 6000));\n",
    "            } catch (Exception e) {}\n",
    "            System.out.println(i + \" at barrier\");\n",
    "            b.sync();\n",
    "        }\n",
    "    }\n",
    "}\n",
    "class TestBarrier {\n",
    "    public static void main(String[] args) {\n",
    "        int w = Integer.parseInt(args[0]);\n",
    "        Barrier b = new Barrier(w);\n",
    "        for (int i = 0; i < w; i++) new Worker(i, b).start();\n",
    "    }\n",
    "}"
   ]
  },
  {
   "cell_type": "code",
   "execution_count": null,
   "metadata": {
    "jupyter": {
     "source_hidden": true
    },
    "solution": "hidden",
    "tags": []
   },
   "outputs": [],
   "source": [
    "%%writefile barrier.java\n",
    "class Barrier {\n",
    "    int w, n = 0; // number of workers, workers at barrier\n",
    "    // Invariant: 0 <= n < w\n",
    "    Barrier(int w) {\n",
    "        // Precondition: 0 < w\n",
    "        this.w = w;\n",
    "    }\n",
    "    synchronized void sync() {\n",
    "        n += 1;\n",
    "        if (n < w) try {wait();} catch (Exception e) {}\n",
    "        else {n = 0; notifyAll();}\n",
    "    }\n",
    "}\n",
    "class Worker extends Thread {\n",
    "    Barrier b;\n",
    "    int i;\n",
    "    Worker(int i, Barrier b) {\n",
    "        this.i = i; this.b = b;\n",
    "    }\n",
    "    public void run() {\n",
    "        for (int r = 0; r < 10; r++) {\n",
    "            System.out.println(i + \" working\");\n",
    "            try {Thread.sleep((long)(Math.random() * 6000));\n",
    "            } catch (Exception e) {}\n",
    "            System.out.println(i + \" at barrier\");\n",
    "            b.sync();\n",
    "        }\n",
    "    }\n",
    "}\n",
    "class TestBarrier {\n",
    "    public static void main(String[] args) {\n",
    "        int w = Integer.parseInt(args[0]);\n",
    "        Barrier b = new Barrier(w);\n",
    "        for (int i = 0; i < w; i++) new Worker(i, b).start();\n",
    "    }\n",
    "}"
   ]
  },
  {
   "cell_type": "code",
   "execution_count": null,
   "metadata": {},
   "outputs": [],
   "source": [
    "!javac barrier.java"
   ]
  },
  {
   "cell_type": "code",
   "execution_count": null,
   "metadata": {},
   "outputs": [],
   "source": [
    "!java TestBarrier 5"
   ]
  }
 ],
 "metadata": {
  "kernelspec": {
   "display_name": "Python 3 (ipykernel)",
   "language": "python",
   "name": "python3"
  },
  "language_info": {
   "codemirror_mode": {
    "name": "ipython",
    "version": 3
   },
   "file_extension": ".py",
   "mimetype": "text/x-python",
   "name": "python",
   "nbconvert_exporter": "python",
   "pygments_lexer": "ipython3",
   "version": "3.8.8"
  }
 },
 "nbformat": 4,
 "nbformat_minor": 4
}
