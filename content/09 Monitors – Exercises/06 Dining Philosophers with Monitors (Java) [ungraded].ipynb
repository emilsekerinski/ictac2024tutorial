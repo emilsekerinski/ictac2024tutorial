{
 "cells": [
  {
   "cell_type": "markdown",
   "metadata": {},
   "source": [
    "### Dining Philosophers with Monitors (Java)"
   ]
  },
  {
   "cell_type": "markdown",
   "metadata": {},
   "source": [
    "Implement the Dining Philosophers problem with monitors in Java! Consider two designs. In both designs, philosopher `ph` picks up first forks `ph` and then `(ph + 1) mod 5`:\n",
    "\n",
    "1. Every fork is a monitor object with two methods, `pickup()` and `putdown()`. Forks are then binary semaphores.\n",
    "2. All forks are managed by a single monitor object of class `Table`, with two methods, `pickup(int ph)`, which picks up both forks, and `putdown(int f)`, which puts down both forks.\n",
    "\n",
    "Use `synchronized (System.out) {System.out.println(...);}` to print when each philosopher is thinking and eating. You may slow down the philosophers with `Thread.sleep(millisec);` while they think and eat. Can each of the designs deadlock? If so, provide a solution.\n",
    "\n",
    "*Note:* If you have the philosophers run in an infinite loop, you may still forcefully terminate them. For this, make each philosopher a daemon thread by `setDaemon(true)` and have the main method wait with `Thread.sleep(millisec)` before terminating. Then, the termination of the main thread will terminate all daemon threads as well."
   ]
  },
  {
   "cell_type": "code",
   "execution_count": null,
   "metadata": {
    "solution": "shown",
    "solution_first": true
   },
   "outputs": [],
   "source": [
    "%%writefile philosophers.java\n",
    "class Fork {\n",
    "    // YOUR CODE HERE\n",
    "}\n",
    "class Philosopher extends Thread {\n",
    "    // YOUR CODE HERE\n",
    "}\n",
    "class DiningPhilosophers {\n",
    "    public static void main(String[] args) {\n",
    "        Fork[] fork = new Fork[5];\n",
    "        for (int i = 0; i < 5; i++) fork[i] = new Fork();\n",
    "        // YOUR CODE HERE\n",
    "    }\n",
    "}"
   ]
  },
  {
   "cell_type": "code",
   "execution_count": null,
   "metadata": {},
   "outputs": [],
   "source": [
    "!javac philosophers.java"
   ]
  },
  {
   "cell_type": "code",
   "execution_count": null,
   "metadata": {},
   "outputs": [],
   "source": [
    "!java DiningPhilosophers"
   ]
  },
  {
   "cell_type": "code",
   "execution_count": null,
   "metadata": {
    "solution": "shown",
    "solution_first": true
   },
   "outputs": [],
   "source": [
    "%%writefile philosophers.java\n",
    "class Table {\n",
    "    YOUR CODE HERE\n",
    "    synchronized void pickup(int ph) throws InterruptedException {\n",
    "        YOUR CODE HERE\n",
    "    }\n",
    "    synchronized void putdown(int ph) {\n",
    "        YOUR CODE HERE\n",
    "    }\n",
    "}\n",
    "class Philosopher extends Thread {\n",
    "    YOUR CODE HERE\n",
    "}\n",
    "class DiningPhilosophers {\n",
    "    public static void main(String[] args) {\n",
    "        Table table = new Table();\n",
    "        for (int i = 0; i < 5; i++) new Philosopher(table, i).start();\n",
    "        try {Thread.sleep(3000); // milliseconds to sleep before program stops\n",
    "        } catch (Exception e) {}\n",
    "    }\n",
    "}"
   ]
  },
  {
   "cell_type": "code",
   "execution_count": null,
   "metadata": {},
   "outputs": [],
   "source": [
    "!javac philosophers.java"
   ]
  },
  {
   "cell_type": "code",
   "execution_count": null,
   "metadata": {},
   "outputs": [],
   "source": [
    "!java DiningPhilosophers"
   ]
  },
  {
   "cell_type": "markdown",
   "metadata": {},
   "source": [
    "Analyze the fairness of both designs: is it possible that philosophers starve?"
   ]
  },
  {
   "cell_type": "markdown",
   "metadata": {
    "solution": "shown",
    "solution_first": true
   },
   "source": [
    "YOUR ANSWER HERE"
   ]
  },
  {
   "cell_type": "markdown",
   "metadata": {},
   "source": [
    "Discuss the merits of each of the two designs!"
   ]
  },
  {
   "cell_type": "markdown",
   "metadata": {
    "solution": "shown",
    "solution_first": true
   },
   "source": [
    "YOUR ANSWER HERE"
   ]
  }
 ],
 "metadata": {
  "celltoolbar": "Create Assignment",
  "kernelspec": {
   "display_name": "Python 3 (ipykernel)",
   "language": "python",
   "name": "python3"
  },
  "language_info": {
   "codemirror_mode": {
    "name": "ipython",
    "version": 3
   },
   "file_extension": ".py",
   "mimetype": "text/x-python",
   "name": "python",
   "nbconvert_exporter": "python",
   "pygments_lexer": "ipython3",
   "version": "3.11.5"
  }
 },
 "nbformat": 4,
 "nbformat_minor": 4
}
