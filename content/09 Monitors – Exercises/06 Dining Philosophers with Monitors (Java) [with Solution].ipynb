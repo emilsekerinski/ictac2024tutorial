{
 "cells": [
  {
   "cell_type": "markdown",
   "metadata": {
    "nbgrader": {
     "grade": false,
     "grade_id": "cell-a326ed38a6aec1ea",
     "locked": true,
     "schema_version": 3,
     "solution": false,
     "task": false
    }
   },
   "source": [
    "### Dining Philosophers with Monitors (Java)"
   ]
  },
  {
   "cell_type": "markdown",
   "metadata": {
    "nbgrader": {
     "grade": false,
     "grade_id": "cell-514037e9254bb5fa",
     "locked": true,
     "schema_version": 3,
     "solution": false,
     "task": false
    }
   },
   "source": [
    "Implement the Dining Philosophers problem with monitors in Java! Consider two designs. In both, designs, philosopher `ph` picks up first forks `ph` and then `(ph + 1) mod 5`:\n",
    "\n",
    "1. Every fork is a monitor object with two methods, `pickup()` and `putdown()`. Forks are then binary semaphores.\n",
    "2. All forks are managed by a single monitor object of class `Table`, with two methods, `pickup(int ph)`, which picks up both forks, and `putdown(int f)`, which puts down both forks.\n",
    "\n",
    "Use `synchronized (System.out) {System.out.println(...);}` to print when each philosopher is thinking and eating. You may slow down the philosophers with `Thread.sleep(millisec);` while they are thinking and eating. Can each of the designs deadlock? If so, provide a solution.\n",
    "\n",
    "*Note:* If you have the philosophers run in an infinite loop, you may still forcefully terminate them. For this, make each philosopher a daemon thread by `setDaemon(true)` and have the main method wait with `Thread.sleep(millisec)` before terminating. Then termination of the main thread will cause all daemon threads to be terminated as well."
   ]
  },
  {
   "cell_type": "code",
   "execution_count": null,
   "metadata": {
    "solution": "hidden",
    "solution_first": true
   },
   "outputs": [],
   "source": [
    "%%writefile philosophers.java\n",
    "class Fork {\n",
    "    // YOUR CODE HERE\n",
    "}\n",
    "class Philosopher extends Thread {\n",
    "    // YOUR CODE HERE\n",
    "}\n",
    "class DiningPhilosophers {\n",
    "    public static void main(String[] args) {\n",
    "        Fork[] fork = new Fork[5];\n",
    "        for (int i = 0; i < 5; i++) fork[i] = new Fork();\n",
    "        // YOUR CODE HERE\n",
    "    }\n",
    "}"
   ]
  },
  {
   "cell_type": "code",
   "execution_count": null,
   "metadata": {
    "jupyter": {
     "source_hidden": true
    },
    "solution": "hidden",
    "tags": []
   },
   "outputs": [],
   "source": [
    "%%writefile philosophers.java\n",
    "class Fork {\n",
    "    boolean busy = false;\n",
    "    synchronized void pickup() throws InterruptedException {\n",
    "        if (busy) wait(); // every fork is used only by two threads, one calling pickup and\n",
    "        // the other putdown, so spurious wakeups are not possible and \"if\" is sufficient\n",
    "        busy = true;\n",
    "    }\n",
    "    synchronized void putdown() {\n",
    "        busy = false;\n",
    "        notify();\n",
    "    }\n",
    "}\n",
    "class Philosopher extends Thread {\n",
    "    int i;\n",
    "    Fork first, second;\n",
    "    Philosopher(int i, Fork first, Fork second) {\n",
    "        this.i = i; this.first = first; this.second = second; setDaemon(true);\n",
    "    }\n",
    "    public void run() {\n",
    "        while (true) {\n",
    "            try { // locking System.out for printing produces better output\n",
    "                synchronized (System.out) {System.out.println(i + \" is thinking\");}\n",
    "                Thread.sleep(100); // milliseconds\n",
    "                first.pickup(); second.pickup();\n",
    "                synchronized (System.out) {System.out.println(i + \" is eating\");}\n",
    "                Thread.sleep(100); // milliseconds\n",
    "                first.putdown(); second.putdown();  \n",
    "            } catch (Exception e) {System.out.println(\"oops\");}\n",
    "        }\n",
    "    }\n",
    "}\n",
    "class DiningPhilosophers {\n",
    "    public static void main(String[] args) {\n",
    "        Fork[] fork = new Fork[5];\n",
    "        for (int i = 0; i < 5; i++) fork[i] = new Fork();\n",
    "        /* Follwing line CAN lead to deadlock; restart the kernel after a deadlock */\n",
    "        // for (int i = 0; i < 5; i++) new Philosopher(i, fork[i], fork[(i + 1) % 5]).start();        \n",
    "        /* A fix is to have every philsopher pick up the lower-numbered fork first */\n",
    "        for (int i = 0; i < 4; i++) new Philosopher(i, fork[i], fork[i + 1]).start();\n",
    "        Philosopher(4, fork[0], fork[4]).start();\n",
    "        try {Thread.sleep(3000); // milliseconds to sleep before program stops\n",
    "        } catch (Exception e) {}\n",
    "    }\n",
    "}"
   ]
  },
  {
   "cell_type": "code",
   "execution_count": null,
   "metadata": {},
   "outputs": [],
   "source": [
    "!javac philosophers.java"
   ]
  },
  {
   "cell_type": "code",
   "execution_count": null,
   "metadata": {},
   "outputs": [],
   "source": [
    "!java DiningPhilosophers"
   ]
  },
  {
   "cell_type": "code",
   "execution_count": null,
   "metadata": {
    "solution": "hidden",
    "solution_first": true
   },
   "outputs": [],
   "source": [
    "%%writefile philosophers.java\n",
    "class Table {\n",
    "    YOUR CODE HERE\n",
    "    synchronized void pickup(int ph) throws InterruptedException {\n",
    "        YOUR CODE HERE\n",
    "    }\n",
    "    synchronized void putdown(int ph) {\n",
    "        YOUR CODE HERE\n",
    "    }\n",
    "}\n",
    "class Philosopher extends Thread {\n",
    "    YOUR CODE HERE\n",
    "}\n",
    "class DiningPhilosophers {\n",
    "    public static void main(String[] args) {\n",
    "        Table table = new Table();\n",
    "        for (int i = 0; i < 5; i++) new Philosopher(table, i).start();\n",
    "        try {Thread.sleep(3000); // milliseconds to sleep before program stops\n",
    "        } catch (Exception e) {}\n",
    "    }\n",
    "}"
   ]
  },
  {
   "cell_type": "code",
   "execution_count": null,
   "metadata": {
    "jupyter": {
     "source_hidden": true
    },
    "solution": "hidden",
    "tags": []
   },
   "outputs": [],
   "source": [
    "%%writefile philosophers.java\n",
    "class Table {\n",
    "    boolean[] fork = new boolean[5]; // initially false\n",
    "    synchronized void pickup(int ph) throws InterruptedException {\n",
    "        // a philosopher who calls pickup will either get both forks or no fork\n",
    "        while (fork[ph] || fork[(ph + 1) % 5]) wait();\n",
    "        fork[ph] = true; fork[(ph + 1) % 5] = true;\n",
    "    }\n",
    "    synchronized void putdown(int ph) {\n",
    "        fork[ph] = false; fork[(ph + 1) % 5] = false;\n",
    "        notifyAll();\n",
    "    }\n",
    "}\n",
    "class Philosopher extends Thread {\n",
    "    Table t;\n",
    "    int ph;\n",
    "    Philosopher(Table t, int ph) {\n",
    "        this.t = t; this.ph = ph; setDaemon(true);   \n",
    "    }\n",
    "    public void run() {\n",
    "        while (true) {\n",
    "            try { // locking System.out for printing produces better output\n",
    "                synchronized (System.out) {System.out.println(ph + \" is thinking\");}\n",
    "                Thread.sleep(100); // milliseconds\n",
    "                t.pickup(ph);\n",
    "                synchronized (System.out) {System.out.println(ph + \" is eating\");}\n",
    "                Thread.sleep(100); // milliseconds\n",
    "                t.putdown(ph);  \n",
    "            } catch (Exception e) {System.out.println(\"oops\");}\n",
    "        }\n",
    "    }\n",
    "}\n",
    "class DiningPhilosophers {\n",
    "    public static void main(String[] args) {\n",
    "        Table table = new Table();\n",
    "        for (int i = 0; i < 5; i++) new Philosopher(table, i).start();\n",
    "        try {Thread.sleep(3000); // milliseconds to sleep before program stops\n",
    "        } catch (Exception e) {}\n",
    "    }\n",
    "}"
   ]
  },
  {
   "cell_type": "code",
   "execution_count": null,
   "metadata": {},
   "outputs": [],
   "source": [
    "!javac philosophers.java"
   ]
  },
  {
   "cell_type": "code",
   "execution_count": null,
   "metadata": {},
   "outputs": [],
   "source": [
    "!java DiningPhilosophers"
   ]
  },
  {
   "cell_type": "markdown",
   "metadata": {
    "nbgrader": {
     "grade": false,
     "grade_id": "cell-acc88d01859e46c6",
     "locked": true,
     "schema_version": 3,
     "solution": false,
     "task": false
    }
   },
   "source": [
    "Analyze the fairness of both designs: is it possible that philosophers starve?"
   ]
  },
  {
   "cell_type": "markdown",
   "metadata": {
    "solution": "hidden",
    "solution_first": true
   },
   "source": [
    "YOUR ANSWER HERE"
   ]
  },
  {
   "cell_type": "markdown",
   "metadata": {
    "jupyter": {
     "source_hidden": true
    },
    "nbgrader": {
     "grade": false,
     "grade_id": "cell-06b8973988a5cf5a",
     "locked": true,
     "schema_version": 3,
     "solution": false,
     "task": false
    },
    "solution": "hidden",
    "tags": []
   },
   "source": [
    "1. With forks as monitors, a philosopher could starve, just as they can when using semaphores for forks.\n",
    "2. With a table as a monitor, philosophers could also starve."
   ]
  },
  {
   "cell_type": "markdown",
   "metadata": {
    "nbgrader": {
     "grade": false,
     "grade_id": "cell-4bf64fa876211854",
     "locked": true,
     "schema_version": 3,
     "solution": false,
     "task": false
    }
   },
   "source": [
    "Discuss the merits of each of the two designs!"
   ]
  },
  {
   "cell_type": "markdown",
   "metadata": {
    "solution": "hidden",
    "solution_first": true
   },
   "source": [
    "YOUR ANSWER HERE"
   ]
  },
  {
   "cell_type": "markdown",
   "metadata": {
    "jupyter": {
     "source_hidden": true
    },
    "nbgrader": {
     "grade": false,
     "grade_id": "cell-8484b139ae109579",
     "locked": true,
     "schema_version": 3,
     "solution": false,
     "task": false
    },
    "solution": "hidden",
    "tags": []
   },
   "source": [
    "- With forks as monitors, the advantage is that it allows two philosophers to pick up different forks at the same time, hence more parallelism is possible. Spurious wakeups do not occur, a notified philosopher can continue. However, philosophers have to be programmed to avoid deadlocks.\n",
    "\n",
    "- With a table as a monitor, the advantage is that philosophers are oblivious to the way forks are allocated and deadlock is avoided. However, only one philosopher can interact with the table at a time, limiting parallelism. Spurious wakeups are possible in the table monitor, adding run-time overhead."
   ]
  }
 ],
 "metadata": {
  "celltoolbar": "Create Assignment",
  "kernelspec": {
   "display_name": "Python 3 (ipykernel)",
   "language": "python",
   "name": "python3"
  },
  "language_info": {
   "codemirror_mode": {
    "name": "ipython",
    "version": 3
   },
   "file_extension": ".py",
   "mimetype": "text/x-python",
   "name": "python",
   "nbconvert_exporter": "python",
   "pygments_lexer": "ipython3",
   "version": "3.8.8"
  }
 },
 "nbformat": 4,
 "nbformat_minor": 4
}
