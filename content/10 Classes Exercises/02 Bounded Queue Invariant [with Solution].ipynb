{
 "cells": [
  {
   "cell_type": "markdown",
   "metadata": {
    "nbgrader": {
     "grade": false,
     "grade_id": "cell-28f406e2470f7b88",
     "locked": true,
     "schema_version": 3,
     "solution": false,
     "task": false
    }
   },
   "source": [
    "### Bounded Queue Invariant\n",
    "\n",
    "Consider following implementation of a bounded queue by an array of fixed size; `C ≥ 1` is a constant, the capacity of the queue:\n",
    "\n",
    "```algorithm\n",
    "class BoundedQueue\n",
    "    var buf: 0 .. C – 1 → T\n",
    "    var in, out, n = 0, 0, 0\n",
    "    method put(x: T)\n",
    "        {n < C}\n",
    "        buf(in), in, n := x, (in + 1) mod C, n + 1\n",
    "    method get() → (x: T)\n",
    "        {n > 0}\n",
    "        x, out, n := buf(out), (out + 1) mod C, n – 1\n",
    "    method size() → (s: int)\n",
    "        s := n\n",
    "```\n",
    "\n",
    "The fields `in`, `out`, `n` are initialized with the declaration, which is a shorthand for writing corresponding assignments in the initialization, i.e. for:\n",
    "\n",
    "```algorithm\n",
    "    initialization()\n",
    "        in, out, n := 0, 0, 0\n",
    "```\n",
    "\n",
    "What is \"the\" invariant of this class? A class have many invariants, e.g. `true` is always an invariant. You are asked to state the strongest invariant. Prove that class is correct with respect to the stated invariant!"
   ]
  },
  {
   "cell_type": "markdown",
   "metadata": {
    "solution": "hidden",
    "solution_first": true
   },
   "source": [
    "```\n",
    "Your answer here\n",
    "```"
   ]
  },
  {
   "cell_type": "markdown",
   "metadata": {
    "jupyter": {
     "source_hidden": true
    },
    "solution": "hidden",
    "tags": []
   },
   "source": [
    "Several equivalent formulations for the invariant are possible, one is:\n",
    "```algorithm\n",
    "BQ: 0 ≤ out < C ∧ 0 ≤ n ≤ C ∧ in = (out + n) mod C\n",
    "```\n",
    "\n",
    "- the initialization establishes `BQ`,\n",
    "```algorithm\n",
    "{true}  in, out, n := 0, 0, 0  {BQ}\n",
    "```\n",
    "which holds according to the rule for assignments as:\n",
    "```algorithm\n",
    "    true ⇒ BQ[in, out, n := 0, 0, 0]\n",
    "≡        {logic}\n",
    "    BQ[in, out, n := 0, 0, 0]\n",
    "≡        {definition, substitution}\n",
    "    0 ≤ 0 < C ∧ 0 ≤ 0 ≤ C ∧ 0 = (0 + 0) mod C\n",
    "≡        {assumption C > 0, arithmetic, logic}\n",
    "    true\n",
    "```\n",
    "\n",
    "- method `put` preserves `BQ`,\n",
    "```algorithm\n",
    "{BQ ∧ n < C}  buf(in), in, n := x, (in + 1) mod C, n + 1  {BQ}\n",
    "```\n",
    "which holds according to the rule for assignments and by applying the definition of array assignment as:\n",
    "```algorithm\n",
    "    BQ ∧ n < C ⇒ BQ[buf, in, n := (buf; in: x), (in + 1) mod C, n + 1\n",
    "≡        {definition, substitution}\n",
    "    BQ ∧ n < C ⇒ 0 ≤ out < C ∧ 0 ≤ n + 1 ≤ C ∧ (in + 1) mod C = (out + n + 1) mod C\n",
    "≡        {as BQ ⇒ 0 ≤ out < C and BQ ⇒ 0 ≤ n + 1 and n < C ≡ n + 1 ≤ C}\n",
    "    BQ ∧ n < C ⇒ (in + 1) mod C = (out + n + 1) mod C\n",
    "≡        {as BQ ⇒ in = (out + n) mod C}\n",
    "    BQ ∧ n < C ⇒ ((out + n) mod C + 1) mod C = (out + n + 1) mod C\n",
    "≡        {as (E + F) mod G = (E mod G + F mod G) mod G for any E, F, G and 1 mod C = 1}\n",
    "    true\n",
    "```\n",
    "\n",
    "- method `get` preserves `BQ`,\n",
    "```algorithm\n",
    "{BQ ∧ n > 0}  x, out, n := buf(out), (out + 1) mod C, n – 1  {BQ}\n",
    "```\n",
    "which holds according to the rule for assignments as:\n",
    "```algorithm\n",
    "    BQ ∧ n > 0 ⇒ BQ[x, out, n := buf(out), (out + 1) mod C, n – 1]\n",
    "≡        {definition, substitution}\n",
    "    BQ ∧ n > 0 ⇒ 0 ≤ (out + 1) mod C < C ∧ 0 ≤ n – 1 ≤ C ∧ in = ((out + 1) mod C + n – 1) mod C\n",
    "≡        {as 0 ≤ E mod F < F for any E, F and n > 0 ≡ 0 ≤ n – 1}\n",
    "    BQ ∧ n > 0 ⇒ in = ((out + 1) mod C + n – 1) mod C\n",
    "≡        {as (E + F) mod G = (E mod G + F mod G) mod G for any E, F, G}\n",
    "    BQ ∧ n > 0 ⇒ in = (out + 1 + n – 1) mod C\n",
    "≡        {as BQ ⇒ in = (out + n) mod C, arithmetic}\n",
    "    true\n",
    "```\n",
    "\n",
    "- method `size` preservers `BQ` as it does not change any fields."
   ]
  }
 ],
 "metadata": {
  "celltoolbar": "Create Assignment",
  "kernelspec": {
   "display_name": "Python 3 (ipykernel)",
   "language": "python",
   "name": "python3"
  },
  "language_info": {
   "codemirror_mode": {
    "name": "ipython",
    "version": 3
   },
   "file_extension": ".py",
   "mimetype": "text/x-python",
   "name": "python",
   "nbconvert_exporter": "python",
   "pygments_lexer": "ipython3",
   "version": "3.11.1"
  },
  "rise": {
   "enable_chalkboard": true
  }
 },
 "nbformat": 4,
 "nbformat_minor": 4
}
