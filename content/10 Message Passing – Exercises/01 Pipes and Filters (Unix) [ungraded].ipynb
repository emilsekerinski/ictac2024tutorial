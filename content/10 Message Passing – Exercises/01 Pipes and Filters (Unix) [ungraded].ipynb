{
 "cells": [
  {
   "cell_type": "markdown",
   "metadata": {
    "nbgrader": {
     "grade": false,
     "grade_id": "cell-a98f91086981e6f8",
     "locked": true,
     "schema_version": 3,
     "solution": false,
     "task": false
    }
   },
   "source": [
    "### Pipes and Filters (Unix)"
   ]
  },
  {
   "cell_type": "markdown",
   "metadata": {
    "nbgrader": {
     "grade": false,
     "grade_id": "cell-7d61540308c80c0a",
     "locked": true,
     "schema_version": 3,
     "solution": false,
     "task": false
    }
   },
   "source": [
    "Common Unix filters are `cat`, `sort`, `wc`, `uniq`, `grep`, `ps`, `ls`, and `tee`, as well as:\n",
    "\n",
    "- `tail`: outputs only the last lines\n",
    "- `head`: output only the first lines\n",
    "- `cut`: outputs only specific columns\n",
    "- `set`: output all shell variables\n",
    "- `more`: output a screen at a time\n",
    "\n",
    "From the command line, help about these commands is found with, e.g. `tail --help` and the manual page with `man tail`. "
   ]
  },
  {
   "cell_type": "markdown",
   "metadata": {
    "nbgrader": {
     "grade": false,
     "grade_id": "cell-2a12377dfa13850b",
     "locked": true,
     "schema_version": 3,
     "solution": false,
     "task": false
    }
   },
   "source": [
    "Open a terminal window and explore all shell variables by entering `set`. If the output is too long, use `set | more` to scroll through the output by pressing the space key; you can stop scrolling with the `q` key. Write a shell command that displays all shell variables containing `JUPYTER`. This particular command needs to be run from a terminal. You can then paste it here:"
   ]
  },
  {
   "cell_type": "markdown",
   "metadata": {
    "solution": "hidden",
    "solution_first": true
   },
   "source": [
    "YOUR SCRIPT HERE"
   ]
  },
  {
   "cell_type": "markdown",
   "metadata": {
    "nbgrader": {
     "grade": false,
     "grade_id": "cell-9c74d4b9ca996f30",
     "locked": true,
     "schema_version": 3,
     "solution": false,
     "task": false
    }
   },
   "source": [
    "Write a shell command that displays only the number of files the command `ls -l` shows. You can run your command from a terminal and paste it here or run it with `!` here. As a hint, check out the options of `tail` and `wc`:"
   ]
  },
  {
   "cell_type": "code",
   "execution_count": null,
   "metadata": {
    "solution": "hidden",
    "solution_first": true
   },
   "outputs": [],
   "source": [
    "YOUR SCRIPT HERE"
   ]
  }
 ],
 "metadata": {
  "celltoolbar": "Create Assignment",
  "kernelspec": {
   "display_name": "Python 3 (ipykernel)",
   "language": "python",
   "name": "python3"
  },
  "language_info": {
   "codemirror_mode": {
    "name": "ipython",
    "version": 3
   },
   "file_extension": ".py",
   "mimetype": "text/x-python",
   "name": "python",
   "nbconvert_exporter": "python",
   "pygments_lexer": "ipython3",
   "version": "3.11.5"
  }
 },
 "nbformat": 4,
 "nbformat_minor": 4
}
