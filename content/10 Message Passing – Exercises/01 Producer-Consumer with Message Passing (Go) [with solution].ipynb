{
 "cells": [
  {
   "cell_type": "markdown",
   "metadata": {
    "nbgrader": {
     "grade": false,
     "grade_id": "cell-d1ac6a49c3e55629",
     "locked": true,
     "schema_version": 3,
     "solution": false,
     "task": false
    }
   },
   "source": [
    "### Producer / Consumer with Message Passing (Go) [with solution]\n",
    "\n",
    "\n",
    "Implement the consumer/producer problem in Go: One goroutine, `producer` should send the numbers `0 .. 19` over a channel and then close the channel. Another goroutine should receive all numbers from that channel, sum them, and when the channel is closed, print the sum. The main program can wait for a second until the producer and consumer are done."
   ]
  },
  {
   "cell_type": "code",
   "execution_count": null,
   "metadata": {
    "solution": "hidden",
    "solution_first": true
   },
   "outputs": [],
   "source": [
    "%%writefile producerconsumer.go\n",
    "package main\n",
    "import \"time\"\n",
    "\n",
    "// YOUR CODE HERE\n",
    "\n",
    "func producer() {\n",
    "    // YOUR CODE HERE\n",
    "}\n",
    "\n",
    "func consumer() {\n",
    "    // YOUR CODE HERE\n",
    "}\n",
    "\n",
    "func main() {\n",
    "    // YOUR CODE HERE\n",
    "    time.Sleep(time.Second)\n",
    "}"
   ]
  },
  {
   "cell_type": "code",
   "execution_count": null,
   "metadata": {
    "nbgrader": {
     "grade": false,
     "grade_id": "cell-42d587ffde63f7da",
     "locked": true,
     "schema_version": 3,
     "solution": false,
     "task": false
    },
    "solution": "hidden"
   },
   "outputs": [],
   "source": [
    "%%writefile producerconsumer.go\n",
    "package main\n",
    "import \"time\"\n",
    "\n",
    "var c chan int\n",
    "\n",
    "func producer() {\n",
    "    for i := 0; i < 20; i++ {c <- i}\n",
    "    close(c)\n",
    "}\n",
    "\n",
    "func consumer() {\n",
    "    s := 0\n",
    "    for i := range c {s += i} // i <- c\n",
    "    print(s)\n",
    "}\n",
    "\n",
    "func main() {\n",
    "    c = make(chan int)\n",
    "    go producer(); go consumer()\n",
    "    time.Sleep(time.Second)\n",
    "}"
   ]
  },
  {
   "cell_type": "code",
   "execution_count": null,
   "metadata": {},
   "outputs": [],
   "source": [
    "!go run producerconsumer.go"
   ]
  },
  {
   "cell_type": "markdown",
   "metadata": {
    "nbgrader": {
     "grade": false,
     "grade_id": "cell-16de142f01f1b574",
     "locked": true,
     "schema_version": 3,
     "solution": false,
     "task": false
    }
   },
   "source": [
    "Now modify the program to allow for graceful termination: Rather than the main program waiting for a second, the consumer notifies the main program that it is done by using a channel. You may then transmit the sum over the channel and have the main program print it, rather than the consumer. (In this way, the consumer becomes a filter between the producer and the main program.)"
   ]
  },
  {
   "cell_type": "code",
   "execution_count": null,
   "metadata": {
    "solution": "hidden",
    "solution_first": true
   },
   "outputs": [],
   "source": [
    "%%writefile producerconsumer.go\n",
    "package main\n",
    "import \"time\"\n",
    "\n",
    "// YOUR CODE HERE\n",
    "\n",
    "func producer() {\n",
    "    // YOUR CODE HERE\n",
    "}\n",
    "\n",
    "func consumer() {\n",
    "    // YOUR CODE HERE\n",
    "}\n",
    "\n",
    "func main() {\n",
    "    // YOUR CODE HERE\n",
    "    time.Sleep(time.Second)\n",
    "}"
   ]
  },
  {
   "cell_type": "code",
   "execution_count": null,
   "metadata": {
    "nbgrader": {
     "grade": false,
     "grade_id": "cell-6a93ea9ee368febe",
     "locked": true,
     "schema_version": 3,
     "solution": false,
     "task": false
    },
    "solution": "hidden"
   },
   "outputs": [],
   "source": [
    "%%writefile producerconsumer.go\n",
    "package main\n",
    "\n",
    "var c chan int\n",
    "var r chan int\n",
    "\n",
    "func producer() {\n",
    "    for i := 0; i < 20; i++ {c <- i}\n",
    "    close(c)\n",
    "}\n",
    "\n",
    "func consumer() {\n",
    "    s := 0\n",
    "    for i := range c {s += i}\n",
    "    r <- s\n",
    "    //print(\"consumer\")\n",
    "}\n",
    "\n",
    "func main() {\n",
    "    c, r = make(chan int), make(chan int)\n",
    "    go producer(); go consumer()\n",
    "    print(<- r)\n",
    "}"
   ]
  },
  {
   "cell_type": "code",
   "execution_count": null,
   "metadata": {},
   "outputs": [],
   "source": [
    "!go run producerconsumer.go"
   ]
  }
 ],
 "metadata": {
  "celltoolbar": "Create Assignment",
  "kernelspec": {
   "display_name": "Python 3 (ipykernel)",
   "language": "python",
   "name": "python3"
  },
  "language_info": {
   "codemirror_mode": {
    "name": "ipython",
    "version": 3
   },
   "file_extension": ".py",
   "mimetype": "text/x-python",
   "name": "python",
   "nbconvert_exporter": "python",
   "pygments_lexer": "ipython3",
   "version": "3.8.8"
  }
 },
 "nbformat": 4,
 "nbformat_minor": 2
}
