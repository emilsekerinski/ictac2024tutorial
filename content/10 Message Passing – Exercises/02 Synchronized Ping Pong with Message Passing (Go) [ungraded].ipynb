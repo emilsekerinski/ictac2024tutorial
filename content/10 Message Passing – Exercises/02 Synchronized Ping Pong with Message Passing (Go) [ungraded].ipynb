{
 "cells": [
  {
   "cell_type": "markdown",
   "metadata": {},
   "source": [
    "### Synchronized Ping Pong (Go)"
   ]
  },
  {
   "cell_type": "markdown",
   "metadata": {},
   "source": [
    "Let us implement barrier synchronization in Go: Write goroutine `ping` that prints `ping` and sleeps for 2 seconds, and goroutine `pong` that prints `pong` and sleeps for 4 seconds. Once they both print, they can start the next round again. That is, pairs of `ping` and `pong` should be printed in any order. The goroutines should communicate directly, without any other goroutines involved. How many channels do you need? Write your code such that the program runs infinitely long.\n",
    "\n",
    "_Hint:_ Use `time.Sleep(2 * time.Second)` to sleep 2 seconds."
   ]
  },
  {
   "cell_type": "code",
   "execution_count": null,
   "metadata": {
    "solution": "hidden",
    "solution_first": true
   },
   "outputs": [],
   "source": [
    "%%writefile barrier.go\n",
    "package main\n",
    "import \"time\"\n",
    "\n",
    "// YOUR CODE HERE\n",
    "\n",
    "func ping() {\n",
    "    // YOUR CODE HERE\n",
    "}\n",
    "\n",
    "func pong() {\n",
    "    // YOUR CODE HERE\n",
    "}\n",
    "\n",
    "func main() {\n",
    "    // YOUR CODE HERE\n",
    "    go ping(); go pong()\n",
    "    select {}\n",
    "}"
   ]
  },
  {
   "cell_type": "code",
   "execution_count": null,
   "metadata": {},
   "outputs": [],
   "source": [
    "!go run barrier.go"
   ]
  }
 ],
 "metadata": {
  "kernelspec": {
   "display_name": "Python 3 (ipykernel)",
   "language": "python",
   "name": "python3"
  },
  "language_info": {
   "codemirror_mode": {
    "name": "ipython",
    "version": 3
   },
   "file_extension": ".py",
   "mimetype": "text/x-python",
   "name": "python",
   "nbconvert_exporter": "python",
   "pygments_lexer": "ipython3",
   "version": "3.11.1"
  }
 },
 "nbformat": 4,
 "nbformat_minor": 4
}
