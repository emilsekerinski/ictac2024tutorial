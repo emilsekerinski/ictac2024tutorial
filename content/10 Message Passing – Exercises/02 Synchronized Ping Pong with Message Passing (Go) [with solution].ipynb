{
 "cells": [
  {
   "cell_type": "markdown",
   "metadata": {
    "nbgrader": {
     "grade": false,
     "grade_id": "cell-4528e08296c8c01a",
     "locked": true,
     "schema_version": 3,
     "solution": false,
     "task": false
    }
   },
   "source": [
    "### Synchronized Ping Pong (Go) [with solution]\n",
    "\n",
    "Let us implement barrier synchronization in Go: Write two goroutines, `ping` that prints `ping` and sleeps for 2 seconds, and goroutine `pong` that prints `pong` and sleeps for 4 seconds. Once they both print, they can start the next round again. That is, pairs of `ping` and `pong` should be printed in any order. The goroutines should communicate directly to each other, without any other goroutines involved. How many channels do you need? Write your code such that the program runs infinitely long.\n",
    "\n",
    "_Hint:_ Use `time.Sleep(2 * time.Second)` to sleep 2 seconds."
   ]
  },
  {
   "cell_type": "code",
   "execution_count": null,
   "metadata": {
    "solution": "hidden",
    "solution_first": true
   },
   "outputs": [],
   "source": [
    "%%writefile barrier.go\n",
    "package main\n",
    "\n",
    "// YOUR CODE HERE\n",
    "\n",
    "func ping() {\n",
    "    // YOUR CODE HERE\n",
    "}\n",
    "\n",
    "func pong() {\n",
    "    // YOUR CODE HERE\n",
    "}\n",
    "\n",
    "func main() {\n",
    "    // YOUR CODE HERE\n",
    "}"
   ]
  },
  {
   "cell_type": "code",
   "execution_count": null,
   "metadata": {
    "nbgrader": {
     "grade": false,
     "grade_id": "cell-eb9eb5bf662bc3a3",
     "locked": true,
     "schema_version": 3,
     "solution": false,
     "task": false
    },
    "solution": "hidden"
   },
   "outputs": [],
   "source": [
    "%%writefile barrier.go\n",
    "package main\n",
    "import \"time\"\n",
    "\n",
    "var c chan bool\n",
    "\n",
    "func ping() {\n",
    "    for {\n",
    "        println(\"ping\")\n",
    "        time.Sleep(2 * time.Second)\n",
    "        c <- false\n",
    "    }\n",
    "}\n",
    "\n",
    "func pong() {\n",
    "    for {\n",
    "        println(\"pong\")\n",
    "        time.Sleep(4 * time.Second)\n",
    "        <- c\n",
    "    }\n",
    "}\n",
    "\n",
    "func main() {\n",
    "    c = make(chan bool)\n",
    "    go ping(); go pong()\n",
    "    select{}\n",
    "}"
   ]
  },
  {
   "cell_type": "code",
   "execution_count": null,
   "metadata": {
    "solution": "hidden"
   },
   "outputs": [],
   "source": [
    "!go run barrier.go"
   ]
  }
 ],
 "metadata": {
  "celltoolbar": "Create Assignment",
  "kernelspec": {
   "display_name": "Python 3 (ipykernel)",
   "language": "python",
   "name": "python3"
  },
  "language_info": {
   "codemirror_mode": {
    "name": "ipython",
    "version": 3
   },
   "file_extension": ".py",
   "mimetype": "text/x-python",
   "name": "python",
   "nbconvert_exporter": "python",
   "pygments_lexer": "ipython3",
   "version": "3.11.1"
  }
 },
 "nbformat": 4,
 "nbformat_minor": 4
}
