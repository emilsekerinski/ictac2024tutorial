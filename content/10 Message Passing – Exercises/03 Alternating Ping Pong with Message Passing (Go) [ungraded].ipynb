{
 "cells": [
  {
   "cell_type": "markdown",
   "metadata": {},
   "source": [
    "### Alternating Ping Pong (Go)"
   ]
  },
  {
   "cell_type": "markdown",
   "metadata": {},
   "source": [
    "Write two goroutines, `ping` and `pong`, that print `ping` and `pong` strictly alternating, starting with `ping`. They should communicate directly, without any other goroutines involved. How many channels and synchronization points do you need? Write your code such that the program runs infinitely long."
   ]
  },
  {
   "cell_type": "code",
   "execution_count": null,
   "metadata": {
    "solution": "hidden",
    "solution_first": true
   },
   "outputs": [],
   "source": [
    "%%writefile pingpong.go\n",
    "package main\n",
    "import \"time\"\n",
    "\n",
    "// YOUR CODE HERE\n",
    "\n",
    "func ping() {\n",
    "    // YOUR CODE HERE\n",
    "}\n",
    "\n",
    "func pong() {\n",
    "    // YOUR CODE HERE\n",
    "}\n",
    "\n",
    "func main() {\n",
    "    // YOUR CODE HERE\n",
    "}"
   ]
  },
  {
   "cell_type": "code",
   "execution_count": null,
   "metadata": {},
   "outputs": [],
   "source": [
    "!go run pingpong.go"
   ]
  },
  {
   "cell_type": "markdown",
   "metadata": {},
   "source": [
    "Now modify the code such that one `ping` is followed by two `pong`; goroutine `pong` still contains only a single statement printing `pong`. You can achieve this by modifying only the goroutine `ping`."
   ]
  },
  {
   "cell_type": "code",
   "execution_count": null,
   "metadata": {
    "solution": "hidden",
    "solution_first": true
   },
   "outputs": [],
   "source": [
    "%%writefile pingpong2.go\n",
    "package main\n",
    "\n",
    "// YOUR CODE HERE\n",
    "\n",
    "func ping() {\n",
    "    // YOUR CODE HERE\n",
    "}\n",
    "\n",
    "func pong() {\n",
    "    // YOUR CODE HERE\n",
    "}\n",
    "\n",
    "func main() {\n",
    "    // YOUR CODE HERE\n",
    "}"
   ]
  },
  {
   "cell_type": "code",
   "execution_count": null,
   "metadata": {},
   "outputs": [],
   "source": [
    "!go run pingpong2.go"
   ]
  },
  {
   "cell_type": "markdown",
   "metadata": {},
   "source": [
    "Now modify the original code such that after 10 times, `ping` and then `pong` is printed, finally `boom` is printed, and the program terminates gracefully."
   ]
  },
  {
   "cell_type": "code",
   "execution_count": null,
   "metadata": {
    "solution": "hidden",
    "solution_first": true
   },
   "outputs": [],
   "source": [
    "%%writefile pingpongboom.go\n",
    "package main\n",
    "\n",
    "// YOUR CODE HERE\n",
    "\n",
    "func ping() {\n",
    "    // YOUR CODE HERE\n",
    "}\n",
    "\n",
    "func pong() {\n",
    "    // YOUR CODE HERE\n",
    "}\n",
    "\n",
    "func main() {\n",
    "    // YOUR CODE HERE\n",
    "}"
   ]
  },
  {
   "cell_type": "code",
   "execution_count": null,
   "metadata": {},
   "outputs": [],
   "source": [
    "!go run pingpongboom.go"
   ]
  }
 ],
 "metadata": {
  "kernelspec": {
   "display_name": "Python 3 (ipykernel)",
   "language": "python",
   "name": "python3"
  },
  "language_info": {
   "codemirror_mode": {
    "name": "ipython",
    "version": 3
   },
   "file_extension": ".py",
   "mimetype": "text/x-python",
   "name": "python",
   "nbconvert_exporter": "python",
   "pygments_lexer": "ipython3",
   "version": "3.11.1"
  }
 },
 "nbformat": 4,
 "nbformat_minor": 4
}
