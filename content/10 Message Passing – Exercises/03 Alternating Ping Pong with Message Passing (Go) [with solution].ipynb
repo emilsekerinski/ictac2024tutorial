{
 "cells": [
  {
   "cell_type": "markdown",
   "metadata": {
    "nbgrader": {
     "grade": false,
     "grade_id": "cell-b621ea89e7ae8435",
     "locked": true,
     "schema_version": 3,
     "solution": false,
     "task": false
    }
   },
   "source": [
    "### Alternating Ping Pong (Go) [with solution]\n",
    "\n",
    "Write two goroutines, `ping` and `pong`, that print `ping` and `pong` strictly alternating, starting with `ping`. They should communicate directly to each other, without any other goroutines involved. How many channels and synchronization points do you need? Write your code such that the program runs infinitely long."
   ]
  },
  {
   "cell_type": "code",
   "execution_count": null,
   "metadata": {
    "solution": "hidden",
    "solution_first": true
   },
   "outputs": [],
   "source": [
    "%%writefile pingpong.go\n",
    "package main\n",
    "\n",
    "var c chan bool\n",
    "\n",
    "func ping() {\n",
    "    // YOUR CODE HERE\n",
    "}\n",
    "\n",
    "func pong() {\n",
    "    // YOUR CODE HERE\n",
    "}\n",
    "\n",
    "func main() {\n",
    "    // YOUR CODE HERE\n",
    "}"
   ]
  },
  {
   "cell_type": "code",
   "execution_count": null,
   "metadata": {
    "nbgrader": {
     "grade": false,
     "grade_id": "cell-228f12f5548eac63",
     "locked": true,
     "schema_version": 3,
     "solution": false,
     "task": false
    },
    "solution": "hidden"
   },
   "outputs": [],
   "source": [
    "%%writefile pingpong.go\n",
    "// by commenting out the two lines below, pairs of \"ping\" and \"pong\" will be printed with the two in random order.\n",
    "package main\n",
    "\n",
    "var c chan bool\n",
    "\n",
    "func ping() {\n",
    "    for {\n",
    "        c <- true \n",
    "        println(\"ping\")\n",
    "        c <- false // try to comment out\n",
    "    }\n",
    "}\n",
    "\n",
    "func pong() {\n",
    "    for {\n",
    "        <- c \n",
    "        <- c // try to comment out\n",
    "        println(\"pong\")\n",
    "    }\n",
    "}\n",
    "\n",
    "func main() {\n",
    "    c = make(chan bool)\n",
    "    go ping(); go pong()\n",
    "    select{}\n",
    "}"
   ]
  },
  {
   "cell_type": "code",
   "execution_count": null,
   "metadata": {
    "solution": "hidden"
   },
   "outputs": [],
   "source": [
    "!go run pingpong.go"
   ]
  },
  {
   "cell_type": "markdown",
   "metadata": {
    "nbgrader": {
     "grade": false,
     "grade_id": "cell-8625688e649f0cad",
     "locked": true,
     "schema_version": 3,
     "solution": false,
     "task": false
    }
   },
   "source": [
    "Now modify the code such that one `ping` is followed by two `pong`; goroutine `pong` still contains only a single statement printing `pong`. You should be able to achieve this by modifying only the goroutine `ping`."
   ]
  },
  {
   "cell_type": "code",
   "execution_count": null,
   "metadata": {
    "solution": "hidden",
    "solution_first": true
   },
   "outputs": [],
   "source": [
    "%%writefile pingpong2.go\n",
    "package main\n",
    "\n",
    "var c chan bool\n",
    "\n",
    "func ping() {\n",
    "    // YOUR CODE HERE\n",
    "}\n",
    "\n",
    "func pong() {\n",
    "    // YOUR CODE HERE\n",
    "}\n",
    "\n",
    "func main() {\n",
    "    // YOUR CODE HERE\n",
    "}"
   ]
  },
  {
   "cell_type": "code",
   "execution_count": null,
   "metadata": {
    "nbgrader": {
     "grade": false,
     "grade_id": "cell-1faa07530060e341",
     "locked": true,
     "schema_version": 3,
     "solution": false,
     "task": false
    },
    "solution": "hidden"
   },
   "outputs": [],
   "source": [
    "%%writefile pingpong2.go\n",
    "package main\n",
    "\n",
    "var c chan bool\n",
    "\n",
    "func ping() {\n",
    "    for {\n",
    "        c <- true\n",
    "        println(\"ping\")\n",
    "        c <- true\n",
    "        c <- true // THIS\n",
    "        c <- true // THIS\n",
    "    }\n",
    "}\n",
    "\n",
    "func pong() {\n",
    "    for {\n",
    "        <- c\n",
    "        <- c\n",
    "        println(\"pong\")\n",
    "    }\n",
    "}\n",
    "\n",
    "func main() {\n",
    "    c = make(chan bool)\n",
    "    go ping(); go pong()\n",
    "    select{}\n",
    "}"
   ]
  },
  {
   "cell_type": "code",
   "execution_count": null,
   "metadata": {},
   "outputs": [],
   "source": [
    "!go run pingpong2.go"
   ]
  },
  {
   "cell_type": "markdown",
   "metadata": {
    "nbgrader": {
     "grade": false,
     "grade_id": "cell-5ffcee350eab8fdd",
     "locked": true,
     "schema_version": 3,
     "solution": false,
     "task": false
    }
   },
   "source": [
    "Now modify the original code such that after 10 times `ping` and then `pong` is printed, finally `boom` is printed and the program terminates gracefully."
   ]
  },
  {
   "cell_type": "code",
   "execution_count": null,
   "metadata": {
    "solution": "hidden",
    "solution_first": true
   },
   "outputs": [],
   "source": [
    "%%writefile pingpongboom.go\n",
    "package main\n",
    "\n",
    "var c chan bool\n",
    "\n",
    "func ping() {\n",
    "    // YOUR CODE HERE\n",
    "}\n",
    "\n",
    "func pong() {\n",
    "    // YOUR CODE HERE\n",
    "}\n",
    "\n",
    "func main() {\n",
    "    // YOUR CODE HERE\n",
    "}"
   ]
  },
  {
   "cell_type": "code",
   "execution_count": null,
   "metadata": {
    "nbgrader": {
     "grade": false,
     "grade_id": "cell-15f6b267492c38fa",
     "locked": true,
     "schema_version": 3,
     "solution": false,
     "task": false
    },
    "solution": "hidden"
   },
   "outputs": [],
   "source": [
    "%%writefile pingpongboom.go\n",
    "package main\n",
    "\n",
    "var c, d chan bool\n",
    "\n",
    "func ping() {\n",
    "    for i := 0; i < 10; i ++ {\n",
    "        c <- true\n",
    "        println(\"ping\")\n",
    "        c <- false\n",
    "    }\n",
    "    close(c)\n",
    "}\n",
    "\n",
    "func pong() {\n",
    "    for range c {\n",
    "        <- c\n",
    "        println(\"pong\")\n",
    "    }\n",
    "    d <- true\n",
    "}\n",
    "\n",
    "func main() {\n",
    "    c, d = make(chan bool), make(chan bool)\n",
    "    go ping(); go pong()\n",
    "    <- d; println(\"boom\")\n",
    "}"
   ]
  },
  {
   "cell_type": "code",
   "execution_count": null,
   "metadata": {},
   "outputs": [],
   "source": [
    "!go run pingpongboom.go"
   ]
  }
 ],
 "metadata": {
  "celltoolbar": "Create Assignment",
  "kernelspec": {
   "display_name": "Python 3 (ipykernel)",
   "language": "python",
   "name": "python3"
  },
  "language_info": {
   "codemirror_mode": {
    "name": "ipython",
    "version": 3
   },
   "file_extension": ".py",
   "mimetype": "text/x-python",
   "name": "python",
   "nbconvert_exporter": "python",
   "pygments_lexer": "ipython3",
   "version": "3.11.1"
  }
 },
 "nbformat": 4,
 "nbformat_minor": 4
}
