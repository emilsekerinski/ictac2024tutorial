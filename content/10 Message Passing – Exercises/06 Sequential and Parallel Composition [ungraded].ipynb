{
 "cells": [
  {
   "cell_type": "markdown",
   "metadata": {
    "solution": "shown"
   },
   "source": [
    "### Sequential and Parallel Composition"
   ]
  },
  {
   "cell_type": "markdown",
   "metadata": {},
   "source": [
    "Consider the statement `(⟨S1⟩ ; ⟨S2⟩) ‖ ⟨T⟩`. One might guess that this is the same as executing `T` before `⟨S1⟩`, between `⟨S1⟩` and `⟨S2⟩`, and after `⟨S2⟩`:\n",
    "```\n",
    "(⟨S1⟩ ; ⟨S2⟩) ‖ ⟨T⟩   =   (⟨S1⟩ ; ⟨S2⟩ ; ⟨T⟩) ⫿ (⟨S1⟩ ; ⟨T⟩ ; ⟨S2⟩) ⫿ (⟨T⟩ ; ⟨S1⟩ ; ⟨S2⟩)\n",
    "```\n",
    "Given an example showing that this does _not_ hold in general.\n",
    "\n",
    "_Hint:_ Consider the discussion following L11 in the course notes."
   ]
  },
  {
   "cell_type": "markdown",
   "metadata": {
    "solution": "hidden",
    "solution_first": true
   },
   "source": [
    "YOUR ANSWER HERE"
   ]
  },
  {
   "cell_type": "markdown",
   "metadata": {},
   "source": [
    "Now prove the following modified version using the laws from the course notes:\n",
    "\n",
    "```\n",
    "(⟨S1⟩ ; ⟨S2⟩) ‖ ⟨T⟩   =   (⟨S1⟩ ; (⟨S2⟩ ; ⟨T⟩) ⫿ (⟨T⟩ ; ⟨S2⟩)) ⫿ (⟨T⟩ ; ⟨S1⟩ ; ⟨S2⟩)\n",
    "```"
   ]
  },
  {
   "cell_type": "markdown",
   "metadata": {
    "solution": "shown",
    "solution_first": true
   },
   "source": [
    "YOUR PROOF HERE"
   ]
  }
 ],
 "metadata": {
  "celltoolbar": "Create Assignment",
  "kernelspec": {
   "display_name": "Python 3 (ipykernel)",
   "language": "python",
   "name": "python3"
  },
  "language_info": {
   "codemirror_mode": {
    "name": "ipython",
    "version": 3
   },
   "file_extension": ".py",
   "mimetype": "text/x-python",
   "name": "python",
   "nbconvert_exporter": "python",
   "pygments_lexer": "ipython3",
   "version": "3.11.1"
  }
 },
 "nbformat": 4,
 "nbformat_minor": 4
}
