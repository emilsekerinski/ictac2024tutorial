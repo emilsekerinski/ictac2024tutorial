{
 "cells": [
  {
   "cell_type": "markdown",
   "metadata": {
    "nbgrader": {
     "grade": false,
     "grade_id": "cell-0aa6fdba251475fd",
     "locked": true,
     "schema_version": 3,
     "solution": false,
     "task": false
    }
   },
   "source": [
    "### Sequential and Parallel Composition [with solution]\n",
    "\n",
    "Consider the statement `(⟨S1⟩ ; ⟨S2⟩) ‖ ⟨T⟩`. One might guess that this is the same as executing `T` before `⟨S1⟩`, between `⟨S1⟩` and `⟨S2⟩`, and after `⟨S2⟩`:\n",
    "```\n",
    "(⟨S1⟩ ; ⟨S2⟩) ‖ ⟨T⟩   =   (⟨S1⟩ ; ⟨S2⟩ ; ⟨T⟩) ⫿ (⟨S1⟩ ; ⟨T⟩ ; ⟨S2⟩) ⫿ (⟨T⟩ ; ⟨S1⟩ ; ⟨S2⟩)\n",
    "```\n",
    "Given an example showing that this does _not_ hold in general.\n",
    "\n",
    "_Hint:_ Consider the discussion following L11 in the course notes."
   ]
  },
  {
   "cell_type": "markdown",
   "metadata": {
    "solution": "hidden",
    "solution_first": true
   },
   "source": [
    "YOUR ANSWER HERE"
   ]
  },
  {
   "cell_type": "markdown",
   "metadata": {
    "nbgrader": {
     "grade": false,
     "grade_id": "cell-bfa425c44649d591",
     "locked": true,
     "schema_version": 3,
     "solution": false,
     "task": false
    },
    "solution": "hidden"
   },
   "source": [
    "If `S2 = stop`, then the left-hand side is `(⟨S1⟩ ; stop) ‖ ⟨T⟩`, which will always execute `⟨T⟩`. However, the right-hand side simplifies to `(⟨S1⟩ ; stop) ⫿ (⟨S1⟩ ; ⟨T⟩ ; stop) ⫿ (⟨T⟩ ; ⟨S1⟩ ; stop)`, which may execute only `⟨S1⟩` if the first alternative is taken and not execute `T`."
   ]
  },
  {
   "cell_type": "markdown",
   "metadata": {
    "nbgrader": {
     "grade": false,
     "grade_id": "cell-aafbdf36c212d8d9",
     "locked": true,
     "schema_version": 3,
     "solution": false,
     "task": false
    }
   },
   "source": [
    "Now prove following modified version using the laws from the course notes:\n",
    "\n",
    "```\n",
    "(⟨S1⟩ ; ⟨S2⟩) ‖ ⟨T⟩   =   (⟨S1⟩ ; (⟨S2⟩ ; ⟨T⟩) ⫿ (⟨T⟩ ; ⟨S2⟩)) ⫿ (⟨T⟩ ; ⟨S1⟩ ; ⟨S2⟩)\n",
    "```"
   ]
  },
  {
   "cell_type": "markdown",
   "metadata": {
    "solution": "hidden",
    "solution_first": true
   },
   "source": [
    "YOUR PROOF HERE"
   ]
  },
  {
   "cell_type": "markdown",
   "metadata": {
    "nbgrader": {
     "grade": false,
     "grade_id": "cell-5ae35b2396f09718",
     "locked": true,
     "schema_version": 3,
     "solution": false,
     "task": false
    },
    "solution": "hidden"
   },
   "source": [
    "Proof:\n",
    "```\n",
    "    (⟨S1⟩ ; ⟨S2⟩) ‖ ⟨T⟩\n",
    "=       «L2»\n",
    "    (⟨S1⟩ ; ⟨S2⟩) ‖ (⟨T⟩ ; skip)\n",
    "=       «L14»\n",
    "    (⟨S1⟩ ; (⟨S2⟩ ‖ ⟨T⟩ ; skip)) ⫿ (⟨T⟩ ; (⟨S1⟩ ; ⟨S2⟩) ‖ skip))\n",
    "=       «L2, L6, L1»\n",
    "    (⟨S1⟩ ; (⟨S2⟩ ‖ ⟨T⟩)) ⫿ (⟨T⟩ ; ⟨S1⟩ ; ⟨S2⟩)\n",
    "=       «L13»\n",
    "    (⟨S1⟩ ; (⟨S2⟩ ; ⟨T⟩) ⫿ (⟨T⟩ ; ⟨S2⟩)) ⫿ (⟨T⟩ ; ⟨S1⟩ ; ⟨S2⟩)\n",
    "```"
   ]
  }
 ],
 "metadata": {
  "celltoolbar": "Create Assignment",
  "kernelspec": {
   "display_name": "Python 3 (ipykernel)",
   "language": "python",
   "name": "python3"
  },
  "language_info": {
   "codemirror_mode": {
    "name": "ipython",
    "version": 3
   },
   "file_extension": ".py",
   "mimetype": "text/x-python",
   "name": "python",
   "nbconvert_exporter": "python",
   "pygments_lexer": "ipython3",
   "version": "3.8.8"
  }
 },
 "nbformat": 4,
 "nbformat_minor": 2
}
