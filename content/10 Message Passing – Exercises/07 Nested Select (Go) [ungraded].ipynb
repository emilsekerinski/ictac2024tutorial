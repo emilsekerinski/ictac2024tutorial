{
 "cells": [
  {
   "cell_type": "markdown",
   "metadata": {},
   "source": [
    "### Nested Select (Go)"
   ]
  },
  {
   "cell_type": "markdown",
   "metadata": {
    "solution": "hidden"
   },
   "source": [
    "Consider the following two Go statements: the left-hand is called `L` and the right-hand statement `R`. Are `L` and `R` equivalent or not? Give an informal explanation!\n",
    "\n",
    "<div style=\"display:table; border-top:1em solid white\">\n",
    "  <div style = \"display:table-cell; border-left:2em solid white\">\n",
    "\n",
    "```Go\n",
    "select {\n",
    "case x = <- c: S\n",
    "case d <- y: T\n",
    "}\n",
    "```\n",
    "\n",
    "  </div>\n",
    "  <div style = \"display:table-cell; border-left:4em solid white\">\n",
    "\n",
    "```Go\n",
    "select {\n",
    "case x = <- c: S\n",
    "default:\n",
    "    select {\n",
    "    case d <- y: T\n",
    "    }\n",
    "}\n",
    "\n",
    "```\n",
    "  </div>\n",
    "</div>"
   ]
  },
  {
   "cell_type": "markdown",
   "metadata": {
    "solution": "hidden",
    "solution_first": true
   },
   "source": [
    "YOUR ANSWER HERE"
   ]
  },
  {
   "cell_type": "markdown",
   "metadata": {},
   "source": [
    "Let us analyze this formally. Assume that `c`, `d` are asynchronous channels with capacity `C`, `D`. Then `L` can be formalized as\n",
    "\n",
    "```algorithm\n",
    "if c ? x → S\n",
    " ⫿ d ! y → T\n",
    "```\n",
    "\n",
    "which is equivalent to\n",
    "\n",
    "```\n",
    "(⟨#c > 0 → x, c := c(0), c[1:]⟩ ; S) ⫿ (⟨#d < D → d := d + [y]⟩ ; T)\n",
    "```\n",
    "\n",
    "Consider now\n",
    "```Go\n",
    "select {\n",
    "case x = <- c: S\n",
    "default: U\n",
    "}\n",
    "```\n",
    "\n",
    "which can be formalized as\n",
    "\n",
    "```\n",
    "(⟨#c > 0 → x, c := c(0), c[1:]⟩ ; S) ⫿ (⟨#c = 0 → skip⟩ ; U)\n",
    "```\n",
    "\n",
    "Use this to give a complete formal definition of `R` and argue its relation to `L`!"
   ]
  },
  {
   "cell_type": "markdown",
   "metadata": {
    "solution": "shown",
    "solution_first": true
   },
   "source": [
    "YOUR ANSWER HERE"
   ]
  }
 ],
 "metadata": {
  "celltoolbar": "Create Assignment",
  "kernelspec": {
   "display_name": "Python 3 (ipykernel)",
   "language": "python",
   "name": "python3"
  },
  "language_info": {
   "codemirror_mode": {
    "name": "ipython",
    "version": 3
   },
   "file_extension": ".py",
   "mimetype": "text/x-python",
   "name": "python",
   "nbconvert_exporter": "python",
   "pygments_lexer": "ipython3",
   "version": "3.11.5"
  }
 },
 "nbformat": 4,
 "nbformat_minor": 4
}
