{
 "cells": [
  {
   "cell_type": "markdown",
   "metadata": {},
   "source": [
    "### Timer with Message Passing (Go)"
   ]
  },
  {
   "cell_type": "markdown",
   "metadata": {},
   "source": [
    "Consider the program `keyboard.go` from the course notes. The Go [time](https://golang.org/pkg/time) package has [Timer](https://golang.org/pkg/time/#Timer) objects that can be used to simplify the code: `NewTimer(3 * time.Second)` returns a structure with a single field, `C`, a channel to which the current time will be sent after 3 seconds, e.g.\n",
    "```Go\n",
    "t := NewTimer(3 * time.Second) // creates a timer that will send to t.C after 3 seconds\n",
    "<- t.C // waits for the time to be received, i.e. sleeps at least 3 seconds\n",
    "```\n",
    "The function [After](https://golang.org/pkg/time/#After) offers a shorthand; the above is equivalent to:\n",
    "```Go\n",
    "<- After(3 * time.Second)\n",
    "```\n",
    "Use this to simplify `keyboard.go`."
   ]
  },
  {
   "cell_type": "code",
   "execution_count": null,
   "metadata": {
    "solution": "hidden",
    "solution_first": true
   },
   "outputs": [],
   "source": [
    "%%writefile keyboard.go\n",
    "package main\n",
    "import (\"time\"; \"fmt\")\n",
    "\n",
    "// YOUR CODE HERE"
   ]
  },
  {
   "cell_type": "markdown",
   "metadata": {},
   "source": [
    "Since the program accepts input from the keyboard, it cannot be run within Jupyter; use `go run keyboard.go` in a terminal."
   ]
  }
 ],
 "metadata": {
  "celltoolbar": "Create Assignment",
  "kernelspec": {
   "display_name": "Python 3 (ipykernel)",
   "language": "python",
   "name": "python3"
  },
  "language_info": {
   "codemirror_mode": {
    "name": "ipython",
    "version": 3
   },
   "file_extension": ".py",
   "mimetype": "text/x-python",
   "name": "python",
   "nbconvert_exporter": "python",
   "pygments_lexer": "ipython3",
   "version": "3.11.5"
  }
 },
 "nbformat": 4,
 "nbformat_minor": 4
}
