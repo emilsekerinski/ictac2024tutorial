{
 "cells": [
  {
   "cell_type": "markdown",
   "metadata": {},
   "source": [
    "### Ticker with Message Passing (Go)"
   ]
  },
  {
   "cell_type": "markdown",
   "metadata": {},
   "source": [
    "Implement a program in Go that prints `Tick at <current time>` every second until RETURN is pressed. Use [`Ticker`](https://golang.org/pkg/time/#Ticker) from the Go `time` package. The field `C` of a `Ticker` object is a channel with the time of the tick. Use that for the current time when printing `Tick at <current time>`; the time can be printed with `fmt.Println`. Once RETURN is pressed, the `Ticker` should be stopped by calling the `Stop` method and `Ticker stopped` printed. Run the program from a terminal with `go run ticker.go`. Can you observe cumulative drift?"
   ]
  },
  {
   "cell_type": "code",
   "execution_count": null,
   "metadata": {
    "solution": "hidden",
    "solution_first": true
   },
   "outputs": [],
   "source": [
    "%%writefile ticker.go\n",
    "package main\n",
    "import (\"fmt\"; \"time\")\n",
    "\n",
    "func main() {\n",
    "    // YOUR CODE HERE\n",
    "}"
   ]
  },
  {
   "cell_type": "markdown",
   "metadata": {},
   "source": [
    "Since the program accepts input from the keyboard, it cannot be run within Jupyter; use `go run ticker.go` in a terminal."
   ]
  }
 ],
 "metadata": {
  "celltoolbar": "Create Assignment",
  "kernelspec": {
   "display_name": "Python 3 (ipykernel)",
   "language": "python",
   "name": "python3"
  },
  "language_info": {
   "codemirror_mode": {
    "name": "ipython",
    "version": 3
   },
   "file_extension": ".py",
   "mimetype": "text/x-python",
   "name": "python",
   "nbconvert_exporter": "python",
   "pygments_lexer": "ipython3",
   "version": "3.11.5"
  }
 },
 "nbformat": 4,
 "nbformat_minor": 4
}
