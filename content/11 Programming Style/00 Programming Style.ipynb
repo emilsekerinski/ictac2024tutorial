{
 "cells": [
  {
   "cell_type": "markdown",
   "metadata": {
    "editable": true,
    "slideshow": {
     "slide_type": "slide"
    },
    "tags": []
   },
   "source": [
    "<div style=\"float:right;border-left:1em solid transparent\">\n",
    "    <i>Notebooks on Programming</i>\n",
    "</div>\n",
    "\n",
    "---\n",
    "# Programming Style\n",
    "**[Emil Sekerinski](http://www.cas.mcmaster.ca/~emil), McMaster University, November 2024**\n",
    "\n",
    "---\n",
    "\n",
    "<figure style=\"float:right\" >\n",
    "    <img style=\"width:9.5em\" src=\"./img/by-nc-nd.png\"/>\n",
    "    <figcaption style=\"width:13em;font-size:80%\"><a href=\"https://creativecommons.org/licenses/by-nc-nd/4.0/\">Licensed under Creative Commons CC BY-NC-ND</a>\n",
    "    </figcaption>\n",
    "</figure>"
   ]
  },
  {
   "cell_type": "markdown",
   "metadata": {
    "editable": true,
    "slideshow": {
     "slide_type": "slide"
    },
    "tags": []
   },
   "source": [
    "## Indentation"
   ]
  },
  {
   "cell_type": "markdown",
   "metadata": {
    "editable": true,
    "slideshow": {
     "slide_type": ""
    },
    "tags": []
   },
   "source": [
    "The indentation should visualize the program structure."
   ]
  },
  {
   "attachments": {},
   "cell_type": "markdown",
   "metadata": {
    "editable": true,
    "slideshow": {
     "slide_type": "slide"
    },
    "tags": []
   },
   "source": [
    "## Comments\n",
    "- should not rephrase the program text. Poor examples:x = 0\t\t// initialize x\u000b",
    "n = n + 1\t// increment n\u000b",
    "\n",
    "should precede very major block and explain abstractly what follows. Good example:\u000b",
    "\u000b",
    "// search minimum in a[n .. N)\u000b",
    "…\u000b",
    "\n",
    "should state essential annotations like invariants, bounds, and selected pre- and postconditions\n"
   ]
  },
  {
   "cell_type": "markdown",
   "metadata": {
    "editable": true,
    "slideshow": {
     "slide_type": "slide"
    },
    "tags": []
   },
   "source": [
    "## Names"
   ]
  },
  {
   "cell_type": "markdown",
   "metadata": {
    "editable": true,
    "slideshow": {
     "slide_type": ""
    },
    "tags": []
   },
   "source": [
    "\n",
    "should be readable and pronounceable. Bad names:\u000b",
    "\u000b",
    "avrg, hdr, fopen, _x_2\u000b",
    "\n",
    "should have consistent capitalization, for example\u000b",
    "\u000b",
    "N,  MAXINT\t\t\tconstants in capitals\u000b",
    "List, Node\t\t\t\ttypes starting with capital\u000b",
    "displayDialog, sort\t\toperations starting with lower case\u000b",
    "employees, average\t\tvariables starting with lower case\u000b",
    "\n",
    "should be grammatically sensible, that is:\n",
    "noun phrases for constants, types, variables\n",
    "verb phrases for operations\n",
    "adjectives for boolean variables and boolean operations, for example queueEmpty, isClosed.\n"
   ]
  },
  {
   "cell_type": "markdown",
   "metadata": {
    "editable": true,
    "slideshow": {
     "slide_type": "slide"
    },
    "tags": []
   },
   "source": [
    "## Statements"
   ]
  },
  {
   "cell_type": "markdown",
   "metadata": {
    "editable": true,
    "slideshow": {
     "slide_type": ""
    },
    "tags": []
   },
   "source": [
    "Use Boolean assignment to avoid conditionals, e.g.\u000b",
    "\u000b",
    "\tif (n < N) found = true; else found = false;\u000b",
    "\u000b",
    "should be replaced by:\u000b",
    "\u000b",
    "\tfound = n < N\u000b",
    "\n",
    "Use while loops in favor of do loops.\u000b",
    "\n",
    "Avoid break and continue statements and use return statements only at the end of methods.\u000b",
    "\n",
    "Declare a variable exactly where it is needed; for statements allow to make the loop variable local.\n"
   ]
  },
  {
   "cell_type": "markdown",
   "metadata": {
    "editable": true,
    "slideshow": {
     "slide_type": "slide"
    },
    "tags": []
   },
   "source": [
    "## Chapter Notes"
   ]
  },
  {
   "cell_type": "markdown",
   "metadata": {
    "editable": true,
    "slideshow": {
     "slide_type": ""
    },
    "tags": []
   },
   "source": [
    "Knuth's WEB system (which predates the World Wide Web) for literate programming is meant for languages like Pascal and C: Prose and code “chunks” are interspersed, and WEB assembles the code chunks into a self-contained program for compilation. While there are exemplary program developments with WEB in the literature, neither WEB nor related tools caught on widely. Interactive notebooks like Jupyter allow individual cells to be executed, so avoid the step of assembling a program for compilation. The code cells are executed from top to bottom, unlike with WEB, where chunks can be arranged in an order that may be more natural. Jupyter is particularly suited for Python and functional languages, where programs can be compact and require explanation. Notebooks are commonly used for *data science*. Here, we use notebooks for both lecture notes and exercises. "
   ]
  },
  {
   "cell_type": "markdown",
   "metadata": {
    "editable": true,
    "slideshow": {
     "slide_type": "slide"
    },
    "tags": []
   },
   "source": [
    "> Program testing can be used to show the presence of bugs, but never to show their absence! [(Dijkstra 1960)](https://www.cs.utexas.edu/users/EWD/ewd02xx/EWD249.PDF)\n",
    "\n",
    "This quote had a profound impact on the understanding of programming, program correctness, and teaching programming. Starting in the '70s, several textbooks on structured programming and program verification came out: [(Wirth 1972)](#References), [(Dahl et al. 1972)](#References), [(Dijkstra 1976)](#References), [(Gries 1981)](#References), [(Dijkstra &amp; Feijen 1988)](#References), [(Cohen 1990)](#References), [(Kaldewaij 1990)](#References), [(Apt et al. 2009)](#References) (first edition 1991), [(Hehner 2024)](#References) (first edition 1993). [Dijkstra (1984)](#References) argues that computing education needs radical change to be effective; the article is still worth reading today. However, in the 90s, there was a growing recognition that programs became remarkably reliable–or at least sufficiently usable–without proof [Hoare (1996)](#References), even if imperfect. A solid understanding of the foundation of programming remains indispensable to achieve efficiency, compactness, and elegance."
   ]
  },
  {
   "cell_type": "markdown",
   "metadata": {
    "editable": true,
    "slideshow": {
     "slide_type": "slide"
    },
    "tags": []
   },
   "source": [
    "The Eiffel language early on integrated the principles of program correctness with object-orientation [Meyer (1997)](#References) (first edition 1988). Since then, a number of *verification-aware programming languages* and *modelling languages* have emerged. Verification-aware programming languages are mainly used in niche areas in the industry, e.g. where safety and security are of existential importance by highly dedicated and educated practitioners. These lecture notes are not tight to a particular programming language: The theory is presented in a pure mathematical form and then applied to different programming languages. Unicode characters are used to match common mathematical notation."
   ]
  },
  {
   "cell_type": "markdown",
   "metadata": {
    "editable": true,
    "slideshow": {
     "slide_type": "slide"
    },
    "tags": []
   },
   "source": [
    "## References"
   ]
  },
  {
   "cell_type": "markdown",
   "metadata": {
    "editable": true,
    "slideshow": {
     "slide_type": ""
    },
    "tags": []
   },
   "source": [
    "<div style=\"margin-left: 2em; text-indent:-2em;\">\n",
    "  <div>Apt, K., Boer, F. S. de, &amp; Olderog, E.-R. (2009). <i>Verification of Sequential and Concurrent Programs</i> (3rd ed.). Springer-Verlag. <a href=\"https://doi.org/doi.org/10.1007/978-1-84882-745-5\">doi.org/10.1007/978-1-84882-745-5</a></div>\n",
    "  <div>Cohen, E. (1990). <i>Programming in the 1990s: An Introduction to the Calculation of Programs</i>. Springer.</div>\n",
    "  <div>Dahl, O. J., Dijkstra, E. W., &amp; Hoare, C. A. R. (1972). <i>Structured Programming</i>. Academic Press.</div>\n",
    "  <div>Dijkstra, E. W. (1976). <i>A Discipline of Programming</i>. Prentice-Hall.</div>\n",
    "  <div>Dijkstra, E. W., &amp; Feijen, W. H. J. (1988). <i>A Method of Programming</i>. Addison-Wesley Publishing Company.</div>\n",
    "  <div>Gries, D. (1981). <i>The Science of Programming</i>. Springer-Verlag.</div>\n",
    "  <div>Hehner, E. C. R. (2024). <i>A Practical Theory of Programming</i>. <a href=\"https://www.cs.toronto.edu/~hehner/aPToP\">https://www.cs.toronto.edu/~hehner/aPToP</a></div>\n",
    "  <div>Hoare, C. A. R. (1996). How did software get so reliable without proof? In M.-C. Gaudel &amp; J. Woodcock (Eds.), <i>FME’96: Industrial Benefit and Advances in Formal Methods</i> (pp. 1–17). Springer. <a href=\"https://doi.org/10.1007/3-540-60973-3_77\">https://doi.org/10.1007/3-540-60973-3_77</a></div>\n",
    "  <div>Kaldewaij, A. (1990). <i>Programming: The Derivation of Algorithms</i>. Prentice-Hall.</div>\n",
    "  <div>Knuth, D. E. (1984). Literate programming. <i>Computer Journal</i>, <i>27</i>(2), 97–111. <a href=\"https://doi.org/10.1093/comjnl/27.2.97\">https://doi.org/10.1093/comjnl/27.2.97</a></div>\n",
    "  <div>Meyer, B. (1997). <i>Object-Oriented Software Construction</i> (2nd ed.). Prentice-Hall, Inc. <a href=\"https://bertrandmeyer.com/OOSC2/\">https://bertrandmeyer.com/OOSC2/</a></div>\n",
    "  <div>Reynolds, J. C. (1981). <i>The Craft of Programming</i>. Prentice Hall PTR. <a href=\"https://kilthub.cmu.edu/articles/The_Craft_of_Programming/6610514\">https://kilthub.cmu.edu/articles/The_Craft_of_Programming/6610514</a></div>\n",
    "  <div>Sekerinski, E. (2019). Teaching Concurrency with the Disappearing Formal Method. In B. Dongol, L. Petre, &amp; G. Smith (Eds.), <i>Formal Methods Teaching, Third International Workshop and Tutorial</i> (Vol. 11758, pp. 135–149). Springer. <a href=\"https://doi.org/10.1007/978-3-030-32441-4_9\">https://doi.org/10.1007/978-3-030-32441-4_9</a></div>\n",
    "    <div>Wirth, N. (1973). <i>Systematic Programming: An Introduction</i>. Prentice-Hall.</div>\n",
    "</div>"
   ]
  }
 ],
 "metadata": {
  "kernelspec": {
   "display_name": "Python 3 (ipykernel)",
   "language": "python",
   "name": "python3"
  },
  "language_info": {
   "codemirror_mode": {
    "name": "ipython",
    "version": 3
   },
   "file_extension": ".py",
   "mimetype": "text/x-python",
   "name": "python",
   "nbconvert_exporter": "python",
   "pygments_lexer": "ipython3",
   "version": "3.13.0"
  },
  "livereveal": {
   "history": true,
   "margin": "0.01",
   "progress": true,
   "scroll": true,
   "start_slideshow_at": "selected"
  },
  "rise": {
   "enable_chalkboard": true,
   "theme": "simple"
  }
 },
 "nbformat": 4,
 "nbformat_minor": 4
}
